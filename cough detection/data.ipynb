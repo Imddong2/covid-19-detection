{
 "cells": [
  {
   "cell_type": "code",
   "execution_count": 1,
   "metadata": {},
   "outputs": [
    {
     "name": "stderr",
     "output_type": "stream",
     "text": [
      "Using TensorFlow backend.\n"
     ]
    }
   ],
   "source": [
    "import tensorflow as tf\n",
    "from tensorflow import keras\n",
    "from tensorflow.keras import layers\n",
    "from keras import Sequential,Model\n",
    "from keras.layers import concatenate,Activation, Dense, Dropout, Conv2D, Flatten, MaxPooling2D, GlobalMaxPooling2D, GlobalAveragePooling1D, AveragePooling2D, Input, Add, BatchNormalization\n",
    "from keras.preprocessing.image import ImageDataGenerator\n",
    "from keras.models import model_from_json\n",
    "from sklearn.metrics import roc_curve\n",
    "from keras.utils import np_utils\n",
    "from tqdm import tqdm\n",
    "import pandas as pd\n",
    "import numpy as np\n",
    "\n",
    "import librosa \n",
    "import librosa.display\n",
    "import pylab\n",
    "import cv2\n",
    "import os"
   ]
  },
  {
   "cell_type": "code",
   "execution_count": 2,
   "metadata": {},
   "outputs": [
    {
     "name": "stderr",
     "output_type": "stream",
     "text": [
      "100%|██████████| 1644/1644 [00:12<00:00, 133.29it/s]\n",
      "100%|██████████| 1645/1645 [00:12<00:00, 134.11it/s]\n"
     ]
    },
    {
     "data": {
      "text/html": [
       "<div>\n",
       "<style scoped>\n",
       "    .dataframe tbody tr th:only-of-type {\n",
       "        vertical-align: middle;\n",
       "    }\n",
       "\n",
       "    .dataframe tbody tr th {\n",
       "        vertical-align: top;\n",
       "    }\n",
       "\n",
       "    .dataframe thead th {\n",
       "        text-align: right;\n",
       "    }\n",
       "</style>\n",
       "<table border=\"1\" class=\"dataframe\">\n",
       "  <thead>\n",
       "    <tr style=\"text-align: right;\">\n",
       "      <th></th>\n",
       "      <th>ID</th>\n",
       "      <th>STATUS</th>\n",
       "      <th>DIR</th>\n",
       "      <th>Fever/MP</th>\n",
       "      <th>ORC</th>\n",
       "      <th>Cough</th>\n",
       "      <th>DataSet</th>\n",
       "    </tr>\n",
       "  </thead>\n",
       "  <tbody>\n",
       "    <tr>\n",
       "      <th>0</th>\n",
       "      <td>5ZDF98UQUxcVuS9VhaWxKlVnXvs1</td>\n",
       "      <td>no_resp_illness_exposed</td>\n",
       "      <td>../Coswara-Data-master/20200413/5ZDF98UQUxcVuS...</td>\n",
       "      <td>0</td>\n",
       "      <td>0</td>\n",
       "      <td>True</td>\n",
       "      <td>coswara</td>\n",
       "    </tr>\n",
       "    <tr>\n",
       "      <th>0</th>\n",
       "      <td>FGRDO4IBbAejR0WHD5YbkXTCasg2</td>\n",
       "      <td>healthy</td>\n",
       "      <td>../Coswara-Data-master/20200413/FGRDO4IBbAejR0...</td>\n",
       "      <td>0</td>\n",
       "      <td>0</td>\n",
       "      <td>True</td>\n",
       "      <td>coswara</td>\n",
       "    </tr>\n",
       "    <tr>\n",
       "      <th>0</th>\n",
       "      <td>CAf8ILsDpQMeTPPLwi7nFlgRT2t1</td>\n",
       "      <td>healthy</td>\n",
       "      <td>../Coswara-Data-master/20200413/CAf8ILsDpQMeTP...</td>\n",
       "      <td>0</td>\n",
       "      <td>0</td>\n",
       "      <td>True</td>\n",
       "      <td>coswara</td>\n",
       "    </tr>\n",
       "    <tr>\n",
       "      <th>0</th>\n",
       "      <td>aGEXEhp3mbUandZBtCuEooDQrK53</td>\n",
       "      <td>healthy</td>\n",
       "      <td>../Coswara-Data-master/20200413/aGEXEhp3mbUand...</td>\n",
       "      <td>0</td>\n",
       "      <td>0</td>\n",
       "      <td>True</td>\n",
       "      <td>coswara</td>\n",
       "    </tr>\n",
       "    <tr>\n",
       "      <th>0</th>\n",
       "      <td>uMry1yqi5sNoykw7ySJdITMv2yT2</td>\n",
       "      <td>resp_illness_not_identified</td>\n",
       "      <td>../Coswara-Data-master/20200413/uMry1yqi5sNoyk...</td>\n",
       "      <td>0</td>\n",
       "      <td>0</td>\n",
       "      <td>True</td>\n",
       "      <td>coswara</td>\n",
       "    </tr>\n",
       "  </tbody>\n",
       "</table>\n",
       "</div>"
      ],
      "text/plain": [
       "                             ID                       STATUS  \\\n",
       "0  5ZDF98UQUxcVuS9VhaWxKlVnXvs1      no_resp_illness_exposed   \n",
       "0  FGRDO4IBbAejR0WHD5YbkXTCasg2                      healthy   \n",
       "0  CAf8ILsDpQMeTPPLwi7nFlgRT2t1                      healthy   \n",
       "0  aGEXEhp3mbUandZBtCuEooDQrK53                      healthy   \n",
       "0  uMry1yqi5sNoykw7ySJdITMv2yT2  resp_illness_not_identified   \n",
       "\n",
       "                                                 DIR  Fever/MP  ORC  Cough  \\\n",
       "0  ../Coswara-Data-master/20200413/5ZDF98UQUxcVuS...         0    0   True   \n",
       "0  ../Coswara-Data-master/20200413/FGRDO4IBbAejR0...         0    0   True   \n",
       "0  ../Coswara-Data-master/20200413/CAf8ILsDpQMeTP...         0    0   True   \n",
       "0  ../Coswara-Data-master/20200413/aGEXEhp3mbUand...         0    0   True   \n",
       "0  ../Coswara-Data-master/20200413/uMry1yqi5sNoyk...         0    0   True   \n",
       "\n",
       "   DataSet  \n",
       "0  coswara  \n",
       "0  coswara  \n",
       "0  coswara  \n",
       "0  coswara  \n",
       "0  coswara  "
      ]
     },
     "execution_count": 2,
     "metadata": {},
     "output_type": "execute_result"
    }
   ],
   "source": [
    "names   = ['ID','Fever/MP','ORC','STATUS','DIR','DataSet']\n",
    "join_by = pd.read_csv('../Coswara-Data-master/coswara/combined_data.csv')\n",
    "\n",
    "import glob\n",
    "df_list = []\n",
    "for path in tqdm(glob.glob('../Coswara-Data-master/*/*/cough-shallow.wav')):\n",
    "    temp = pd.DataFrame(columns=['id','DIR'])\n",
    "    temp['id'] = [path.split('/')[-2]]\n",
    "    temp['DIR'] = [path]\n",
    "    temp = pd.merge(left=temp,right=join_by,on='id',how='inner')\n",
    "    temp['fomp']= (temp['fever']| temp['mp']).apply(int)\n",
    "    temp['oths']= (temp['cld']|temp['asthma']|temp['cold']|temp['st']|temp['pneumonia']).apply(int)\n",
    "    temp        = temp[['id','covid_status','DIR','fomp','oths']]\n",
    "    df_list.append(temp.rename(columns={'id':'ID','covid_status':'STATUS','DIR':'DIR','fomp':'Fever/MP','oths':'ORC'}))\n",
    "    \n",
    "for path in tqdm(glob.glob('../Coswara-Data-master/*/*/cough-heavy.wav')):\n",
    "    temp = pd.DataFrame(columns=['id','DIR'])\n",
    "    temp['id'] = [path.split('/')[-2]]\n",
    "    temp['DIR'] = [path]\n",
    "    temp = pd.merge(left=temp,right=join_by,on='id',how='inner')\n",
    "    temp['fomp']= (temp['fever']| temp['mp']).apply(int)\n",
    "    temp['oths']= (temp['cld']|temp['asthma']|temp['cold']|temp['st']|temp['pneumonia']).apply(int)\n",
    "    temp        = temp[['id','covid_status','DIR','fomp','oths']]\n",
    "    df_list.append(temp.rename(columns={'id':'ID','covid_status':'STATUS','DIR':'DIR','fomp':'Fever/MP','oths':'ORC'}))\n",
    "    \n",
    "CosData=pd.concat(df_list)\n",
    "CosData['Cough'] = True\n",
    "CosData['DataSet'] = 'coswara'\n",
    "CosData.head()"
   ]
  },
  {
   "cell_type": "code",
   "execution_count": 3,
   "metadata": {},
   "outputs": [
    {
     "name": "stderr",
     "output_type": "stream",
     "text": [
      "100%|██████████| 1645/1645 [00:12<00:00, 132.06it/s]\n",
      "100%|██████████| 1645/1645 [00:12<00:00, 132.36it/s]\n",
      "100%|██████████| 1645/1645 [00:12<00:00, 133.32it/s]\n",
      "100%|██████████| 1645/1645 [00:12<00:00, 132.55it/s]\n",
      "100%|██████████| 1645/1645 [00:12<00:00, 132.39it/s]\n",
      "100%|██████████| 1645/1645 [00:12<00:00, 132.37it/s]\n",
      "100%|██████████| 1644/1644 [00:12<00:00, 131.90it/s]\n"
     ]
    },
    {
     "data": {
      "text/html": [
       "<div>\n",
       "<style scoped>\n",
       "    .dataframe tbody tr th:only-of-type {\n",
       "        vertical-align: middle;\n",
       "    }\n",
       "\n",
       "    .dataframe tbody tr th {\n",
       "        vertical-align: top;\n",
       "    }\n",
       "\n",
       "    .dataframe thead th {\n",
       "        text-align: right;\n",
       "    }\n",
       "</style>\n",
       "<table border=\"1\" class=\"dataframe\">\n",
       "  <thead>\n",
       "    <tr style=\"text-align: right;\">\n",
       "      <th></th>\n",
       "      <th>ID</th>\n",
       "      <th>STATUS</th>\n",
       "      <th>DIR</th>\n",
       "      <th>Fever/MP</th>\n",
       "      <th>ORC</th>\n",
       "      <th>Cough</th>\n",
       "      <th>DataSet</th>\n",
       "    </tr>\n",
       "  </thead>\n",
       "  <tbody>\n",
       "    <tr>\n",
       "      <th>0</th>\n",
       "      <td>5ZDF98UQUxcVuS9VhaWxKlVnXvs1</td>\n",
       "      <td>no_resp_illness_exposed</td>\n",
       "      <td>../Coswara-Data-master/20200413/5ZDF98UQUxcVuS...</td>\n",
       "      <td>0</td>\n",
       "      <td>0</td>\n",
       "      <td>False</td>\n",
       "      <td>coswara</td>\n",
       "    </tr>\n",
       "    <tr>\n",
       "      <th>0</th>\n",
       "      <td>FGRDO4IBbAejR0WHD5YbkXTCasg2</td>\n",
       "      <td>healthy</td>\n",
       "      <td>../Coswara-Data-master/20200413/FGRDO4IBbAejR0...</td>\n",
       "      <td>0</td>\n",
       "      <td>0</td>\n",
       "      <td>False</td>\n",
       "      <td>coswara</td>\n",
       "    </tr>\n",
       "    <tr>\n",
       "      <th>0</th>\n",
       "      <td>CAf8ILsDpQMeTPPLwi7nFlgRT2t1</td>\n",
       "      <td>healthy</td>\n",
       "      <td>../Coswara-Data-master/20200413/CAf8ILsDpQMeTP...</td>\n",
       "      <td>0</td>\n",
       "      <td>0</td>\n",
       "      <td>False</td>\n",
       "      <td>coswara</td>\n",
       "    </tr>\n",
       "    <tr>\n",
       "      <th>0</th>\n",
       "      <td>aGEXEhp3mbUandZBtCuEooDQrK53</td>\n",
       "      <td>healthy</td>\n",
       "      <td>../Coswara-Data-master/20200413/aGEXEhp3mbUand...</td>\n",
       "      <td>0</td>\n",
       "      <td>0</td>\n",
       "      <td>False</td>\n",
       "      <td>coswara</td>\n",
       "    </tr>\n",
       "    <tr>\n",
       "      <th>0</th>\n",
       "      <td>uMry1yqi5sNoykw7ySJdITMv2yT2</td>\n",
       "      <td>resp_illness_not_identified</td>\n",
       "      <td>../Coswara-Data-master/20200413/uMry1yqi5sNoyk...</td>\n",
       "      <td>0</td>\n",
       "      <td>0</td>\n",
       "      <td>False</td>\n",
       "      <td>coswara</td>\n",
       "    </tr>\n",
       "  </tbody>\n",
       "</table>\n",
       "</div>"
      ],
      "text/plain": [
       "                             ID                       STATUS  \\\n",
       "0  5ZDF98UQUxcVuS9VhaWxKlVnXvs1      no_resp_illness_exposed   \n",
       "0  FGRDO4IBbAejR0WHD5YbkXTCasg2                      healthy   \n",
       "0  CAf8ILsDpQMeTPPLwi7nFlgRT2t1                      healthy   \n",
       "0  aGEXEhp3mbUandZBtCuEooDQrK53                      healthy   \n",
       "0  uMry1yqi5sNoykw7ySJdITMv2yT2  resp_illness_not_identified   \n",
       "\n",
       "                                                 DIR  Fever/MP  ORC  Cough  \\\n",
       "0  ../Coswara-Data-master/20200413/5ZDF98UQUxcVuS...         0    0  False   \n",
       "0  ../Coswara-Data-master/20200413/FGRDO4IBbAejR0...         0    0  False   \n",
       "0  ../Coswara-Data-master/20200413/CAf8ILsDpQMeTP...         0    0  False   \n",
       "0  ../Coswara-Data-master/20200413/aGEXEhp3mbUand...         0    0  False   \n",
       "0  ../Coswara-Data-master/20200413/uMry1yqi5sNoyk...         0    0  False   \n",
       "\n",
       "   DataSet  \n",
       "0  coswara  \n",
       "0  coswara  \n",
       "0  coswara  \n",
       "0  coswara  \n",
       "0  coswara  "
      ]
     },
     "execution_count": 3,
     "metadata": {},
     "output_type": "execute_result"
    }
   ],
   "source": [
    "names   = ['ID','Fever/MP','ORC','STATUS','DIR','DataSet']\n",
    "join_by = pd.read_csv('../Coswara-Data-master/coswara/combined_data.csv')\n",
    "\n",
    "import glob\n",
    "false_df_list = []\n",
    "for path in tqdm(glob.glob('../Coswara-Data-master/*/*/breathing-deep.wav')):\n",
    "    false_temp = pd.DataFrame(columns=['id','DIR'])\n",
    "    false_temp['id'] = [path.split('/')[-2]]\n",
    "    false_temp['DIR'] = [path]\n",
    "    false_temp = pd.merge(left=false_temp,right=join_by,on='id',how='inner')\n",
    "    false_temp['fomp']= (false_temp['fever']| false_temp['mp']).apply(int)\n",
    "    false_temp['oths']= (false_temp['cld']|false_temp['asthma']|false_temp['cold']|false_temp['st']|false_temp['pneumonia']).apply(int)\n",
    "    false_temp        = false_temp[['id','covid_status','DIR','fomp','oths']]\n",
    "    false_df_list.append(false_temp.rename(columns={'id':'ID','covid_status':'STATUS','DIR':'DIR','fomp':'Fever/MP','oths':'ORC'}))\n",
    "    \n",
    "for path in tqdm(glob.glob('../Coswara-Data-master/*/*/breathing-shallow.wav')):\n",
    "    false_temp = pd.DataFrame(columns=['id','DIR'])\n",
    "    false_temp['id'] = [path.split('/')[-2]]\n",
    "    false_temp['DIR'] = [path]\n",
    "    false_temp = pd.merge(left=false_temp,right=join_by,on='id',how='inner')\n",
    "    false_temp['fomp']= (false_temp['fever']| false_temp['mp']).apply(int)\n",
    "    false_temp['oths']= (false_temp['cld']|false_temp['asthma']|false_temp['cold']|false_temp['st']|false_temp['pneumonia']).apply(int)\n",
    "    false_temp        = false_temp[['id','covid_status','DIR','fomp','oths']]  \n",
    "    false_df_list.append(false_temp.rename(columns={'id':'ID','covid_status':'STATUS','DIR':'DIR','fomp':'Fever/MP','oths':'ORC'}))\n",
    "for path in tqdm(glob.glob('../Coswara-Data-master/*/*/counting-fast.wav')):\n",
    "    false_temp = pd.DataFrame(columns=['id','DIR'])\n",
    "    false_temp['id'] = [path.split('/')[-2]]\n",
    "    false_temp['DIR'] = [path]\n",
    "    false_temp = pd.merge(left=false_temp,right=join_by,on='id',how='inner')\n",
    "    false_temp['fomp']= (false_temp['fever']| false_temp['mp']).apply(int)\n",
    "    false_temp['oths']= (false_temp['cld']|false_temp['asthma']|false_temp['cold']|false_temp['st']|false_temp['pneumonia']).apply(int)\n",
    "    false_temp        = false_temp[['id','covid_status','DIR','fomp','oths']]\n",
    "    false_df_list.append(false_temp.rename(columns={'id':'ID','covid_status':'STATUS','DIR':'DIR','fomp':'Fever/MP','oths':'ORC'}))\n",
    "for path in tqdm(glob.glob('../Coswara-Data-master/*/*/counting-normal.wav')):\n",
    "    false_temp = pd.DataFrame(columns=['id','DIR'])\n",
    "    false_temp['id'] = [path.split('/')[-2]]\n",
    "    false_temp['DIR'] = [path]\n",
    "    false_temp = pd.merge(left=false_temp,right=join_by,on='id',how='inner')\n",
    "    false_temp['fomp']= (false_temp['fever']| false_temp['mp']).apply(int)\n",
    "    false_temp['oths']= (false_temp['cld']|false_temp['asthma']|false_temp['cold']|false_temp['st']|false_temp['pneumonia']).apply(int)\n",
    "    false_temp        = false_temp[['id','covid_status','DIR','fomp','oths']]\n",
    "    false_df_list.append(false_temp.rename(columns={'id':'ID','covid_status':'STATUS','DIR':'DIR','fomp':'Fever/MP','oths':'ORC'}))\n",
    "for path in tqdm(glob.glob('../Coswara-Data-master/*/*/vowel-a.wav')):\n",
    "    false_temp = pd.DataFrame(columns=['id','DIR'])\n",
    "    false_temp['id'] = [path.split('/')[-2]]\n",
    "    false_temp['DIR'] = [path]\n",
    "    false_temp = pd.merge(left=false_temp,right=join_by,on='id',how='inner')\n",
    "    false_temp['fomp']= (false_temp['fever']| false_temp['mp']).apply(int)\n",
    "    false_temp['oths']= (false_temp['cld']|false_temp['asthma']|false_temp['cold']|false_temp['st']|false_temp['pneumonia']).apply(int)\n",
    "    false_temp        = false_temp[['id','covid_status','DIR','fomp','oths']]\n",
    "    false_df_list.append(false_temp.rename(columns={'id':'ID','covid_status':'STATUS','DIR':'DIR','fomp':'Fever/MP','oths':'ORC'}))\n",
    "for path in tqdm(glob.glob('../Coswara-Data-master/*/*/vowel-e.wav')):\n",
    "    false_temp = pd.DataFrame(columns=['id','DIR'])\n",
    "    false_temp['id'] = [path.split('/')[-2]]\n",
    "    false_temp['DIR'] = [path]\n",
    "    false_temp = pd.merge(left=false_temp,right=join_by,on='id',how='inner')\n",
    "    false_temp['fomp']= (false_temp['fever']| false_temp['mp']).apply(int)\n",
    "    false_temp['oths']= (false_temp['cld']|false_temp['asthma']|false_temp['cold']|false_temp['st']|false_temp['pneumonia']).apply(int)\n",
    "    false_temp        = false_temp[['id','covid_status','DIR','fomp','oths']]\n",
    "    false_df_list.append(false_temp.rename(columns={'id':'ID','covid_status':'STATUS','DIR':'DIR','fomp':'Fever/MP','oths':'ORC'}))\n",
    "for path in tqdm(glob.glob('../Coswara-Data-master/*/*/vowel-o.wav')):\n",
    "    false_temp = pd.DataFrame(columns=['id','DIR'])\n",
    "    false_temp['id'] = [path.split('/')[-2]]\n",
    "    false_temp['DIR'] = [path]\n",
    "    false_temp = pd.merge(left=false_temp,right=join_by,on='id',how='inner')\n",
    "    false_temp['fomp']= (false_temp['fever']| false_temp['mp']).apply(int)\n",
    "    false_temp['oths']= (false_temp['cld']|false_temp['asthma']|false_temp['cold']|false_temp['st']|false_temp['pneumonia']).apply(int)\n",
    "    false_temp        = false_temp[['id','covid_status','DIR','fomp','oths']]\n",
    "    false_df_list.append(false_temp.rename(columns={'id':'ID','covid_status':'STATUS','DIR':'DIR','fomp':'Fever/MP','oths':'ORC'}))   \n",
    "    \n",
    "false_CosData=pd.concat(false_df_list)\n",
    "false_CosData['Cough'] = False\n",
    "false_CosData['DataSet'] = 'coswara'\n",
    "false_CosData.head()"
   ]
  },
  {
   "cell_type": "code",
   "execution_count": 4,
   "metadata": {},
   "outputs": [
    {
     "data": {
      "text/html": [
       "<div>\n",
       "<style scoped>\n",
       "    .dataframe tbody tr th:only-of-type {\n",
       "        vertical-align: middle;\n",
       "    }\n",
       "\n",
       "    .dataframe tbody tr th {\n",
       "        vertical-align: top;\n",
       "    }\n",
       "\n",
       "    .dataframe thead th {\n",
       "        text-align: right;\n",
       "    }\n",
       "</style>\n",
       "<table border=\"1\" class=\"dataframe\">\n",
       "  <thead>\n",
       "    <tr style=\"text-align: right;\">\n",
       "      <th></th>\n",
       "      <th>ID</th>\n",
       "      <th>DIR</th>\n",
       "      <th>Cough</th>\n",
       "      <th>DataSet</th>\n",
       "    </tr>\n",
       "  </thead>\n",
       "  <tbody>\n",
       "    <tr>\n",
       "      <th>0</th>\n",
       "      <td>203128</td>\n",
       "      <td>../ESC-50-master/audio/5-203128-A-0.wav</td>\n",
       "      <td>False</td>\n",
       "      <td>ESC-50</td>\n",
       "    </tr>\n",
       "    <tr>\n",
       "      <th>1</th>\n",
       "      <td>240671</td>\n",
       "      <td>../ESC-50-master/audio/5-240671-A-44.wav</td>\n",
       "      <td>False</td>\n",
       "      <td>ESC-50</td>\n",
       "    </tr>\n",
       "    <tr>\n",
       "      <th>2</th>\n",
       "      <td>234247</td>\n",
       "      <td>../ESC-50-master/audio/5-234247-A-37.wav</td>\n",
       "      <td>False</td>\n",
       "      <td>ESC-50</td>\n",
       "    </tr>\n",
       "    <tr>\n",
       "      <th>3</th>\n",
       "      <td>183992</td>\n",
       "      <td>../ESC-50-master/audio/4-183992-A-0.wav</td>\n",
       "      <td>False</td>\n",
       "      <td>ESC-50</td>\n",
       "    </tr>\n",
       "    <tr>\n",
       "      <th>4</th>\n",
       "      <td>17808</td>\n",
       "      <td>../ESC-50-master/audio/1-17808-A-12.wav</td>\n",
       "      <td>False</td>\n",
       "      <td>ESC-50</td>\n",
       "    </tr>\n",
       "  </tbody>\n",
       "</table>\n",
       "</div>"
      ],
      "text/plain": [
       "       ID                                       DIR  Cough DataSet\n",
       "0  203128   ../ESC-50-master/audio/5-203128-A-0.wav  False  ESC-50\n",
       "1  240671  ../ESC-50-master/audio/5-240671-A-44.wav  False  ESC-50\n",
       "2  234247  ../ESC-50-master/audio/5-234247-A-37.wav  False  ESC-50\n",
       "3  183992   ../ESC-50-master/audio/4-183992-A-0.wav  False  ESC-50\n",
       "4   17808   ../ESC-50-master/audio/1-17808-A-12.wav  False  ESC-50"
      ]
     },
     "execution_count": 4,
     "metadata": {},
     "output_type": "execute_result"
    }
   ],
   "source": [
    "ESC_50  = '../ESC-50-master/audio/'\n",
    "\n",
    "ESCData  = pd.read_csv(\"../ESC-50-master/meta/esc50.csv\")\n",
    "ESCData   = ESCData.loc[ESCData['category'] != 'coughing'][['filename','src_file']]\n",
    "ESCData['DIR'] = ESC_50 + ESCData['filename']\n",
    "ESCData['ID'] = ESCData['src_file'].astype(str)\n",
    "ESCData['Cough'] = False\n",
    "ESCData['DataSet'] = 'ESC-50'\n",
    "ESCData   = ESCData.sample(frac=1).reset_index(drop=True)\n",
    "ESCData = ESCData[['ID','DIR','Cough','DataSet']]\n",
    "ESCData.head()"
   ]
  },
  {
   "cell_type": "code",
   "execution_count": 5,
   "metadata": {},
   "outputs": [
    {
     "data": {
      "text/html": [
       "<div>\n",
       "<style scoped>\n",
       "    .dataframe tbody tr th:only-of-type {\n",
       "        vertical-align: middle;\n",
       "    }\n",
       "\n",
       "    .dataframe tbody tr th {\n",
       "        vertical-align: top;\n",
       "    }\n",
       "\n",
       "    .dataframe thead th {\n",
       "        text-align: right;\n",
       "    }\n",
       "</style>\n",
       "<table border=\"1\" class=\"dataframe\">\n",
       "  <thead>\n",
       "    <tr style=\"text-align: right;\">\n",
       "      <th></th>\n",
       "      <th>ID</th>\n",
       "      <th>DIR</th>\n",
       "      <th>Cough</th>\n",
       "      <th>DataSet</th>\n",
       "    </tr>\n",
       "  </thead>\n",
       "  <tbody>\n",
       "    <tr>\n",
       "      <th>0</th>\n",
       "      <td>203128</td>\n",
       "      <td>../ESC-50-master/audio/5-203128-A-0.wav</td>\n",
       "      <td>False</td>\n",
       "      <td>ESC-50</td>\n",
       "    </tr>\n",
       "    <tr>\n",
       "      <th>1</th>\n",
       "      <td>240671</td>\n",
       "      <td>../ESC-50-master/audio/5-240671-A-44.wav</td>\n",
       "      <td>False</td>\n",
       "      <td>ESC-50</td>\n",
       "    </tr>\n",
       "    <tr>\n",
       "      <th>2</th>\n",
       "      <td>234247</td>\n",
       "      <td>../ESC-50-master/audio/5-234247-A-37.wav</td>\n",
       "      <td>False</td>\n",
       "      <td>ESC-50</td>\n",
       "    </tr>\n",
       "    <tr>\n",
       "      <th>3</th>\n",
       "      <td>183992</td>\n",
       "      <td>../ESC-50-master/audio/4-183992-A-0.wav</td>\n",
       "      <td>False</td>\n",
       "      <td>ESC-50</td>\n",
       "    </tr>\n",
       "    <tr>\n",
       "      <th>4</th>\n",
       "      <td>17808</td>\n",
       "      <td>../ESC-50-master/audio/1-17808-A-12.wav</td>\n",
       "      <td>False</td>\n",
       "      <td>ESC-50</td>\n",
       "    </tr>\n",
       "  </tbody>\n",
       "</table>\n",
       "</div>"
      ],
      "text/plain": [
       "       ID                                       DIR  Cough DataSet\n",
       "0  203128   ../ESC-50-master/audio/5-203128-A-0.wav  False  ESC-50\n",
       "1  240671  ../ESC-50-master/audio/5-240671-A-44.wav  False  ESC-50\n",
       "2  234247  ../ESC-50-master/audio/5-234247-A-37.wav  False  ESC-50\n",
       "3  183992   ../ESC-50-master/audio/4-183992-A-0.wav  False  ESC-50\n",
       "4   17808   ../ESC-50-master/audio/1-17808-A-12.wav  False  ESC-50"
      ]
     },
     "execution_count": 5,
     "metadata": {},
     "output_type": "execute_result"
    }
   ],
   "source": [
    "coughvid  = './public_dataset/'\n",
    "\n",
    "TotData  = pd.read_csv(os.path.join(coughvid,'metadata_compiled.csv'),header=0)\n",
    "TotData   = TotData.loc[TotData['cough_detected'] >= 0.8][['uuid','fever_muscle_pain','respiratory_condition','status']]\n",
    "TotData['DIR'] = coughvid + TotData['uuid'] + '.wav'\n",
    "TotData['Cough'] = True\n",
    "TotData['DataSet'] = 'coughvid'\n",
    "TotData   = pd.concat([false_CosData,CosData,TotData.rename(columns={'uuid':'ID','status':'STATUS','fever_muscle_pain':'Fever/MP','respiratory_condition':'ORC'})])\n",
    "TotData   = TotData.sample(frac=1).reset_index(drop=True)\n",
    "TotData = TotData[['ID','DIR','Cough','DataSet']]\n",
    "TotData = pd.concat([ESCData,TotData])\n",
    "TotData.head()"
   ]
  },
  {
   "cell_type": "code",
   "execution_count": 6,
   "metadata": {},
   "outputs": [
    {
     "name": "stdout",
     "output_type": "stream",
     "text": [
      "18414 13474\n"
     ]
    }
   ],
   "source": [
    "true_count=0\n",
    "false_count=0\n",
    "for i in TotData['Cough'] :\n",
    "    if i == True :\n",
    "        true_count+=1\n",
    "    if i == False :\n",
    "        false_count+=1\n",
    "print(true_count,false_count)"
   ]
  },
  {
   "cell_type": "code",
   "execution_count": 7,
   "metadata": {},
   "outputs": [],
   "source": [
    "TotData = TotData.sample(frac=1).reset_index(drop=True)"
   ]
  },
  {
   "cell_type": "code",
   "execution_count": 8,
   "metadata": {},
   "outputs": [],
   "source": [
    "sup_Data = TotData.iloc[:1000, :]"
   ]
  },
  {
   "cell_type": "code",
   "execution_count": 9,
   "metadata": {},
   "outputs": [],
   "source": [
    "con_Data = TotData.iloc[1000:, :]"
   ]
  },
  {
   "cell_type": "code",
   "execution_count": 10,
   "metadata": {},
   "outputs": [
    {
     "name": "stdout",
     "output_type": "stream",
     "text": [
      "577 423\n"
     ]
    }
   ],
   "source": [
    "true_count=0\n",
    "false_count=0\n",
    "for i in sup_Data['Cough'] :\n",
    "    if i == True :\n",
    "        true_count+=1\n",
    "    if i == False :   \n",
    "        false_count+=1\n",
    "print(true_count,false_count)"
   ]
  },
  {
   "cell_type": "code",
   "execution_count": 11,
   "metadata": {},
   "outputs": [],
   "source": [
    "sup_custpath  = './dataset/sup_custom_dataset_1000/'\n",
    "def sup_feature_extractor(row):\n",
    "    name     = row[0]\n",
    "    try:\n",
    "        audio,sr = librosa.load(row[1])\n",
    "        #Mel Spectogram\n",
    "        pylab.axis('off') # no axis\n",
    "        pylab.axes([0., 0., 1., 1.], frameon=False, xticks=[], yticks=[])\n",
    "        melspec  = librosa.feature.melspectrogram(y=audio,sr=sr)\n",
    "        s_db     = librosa.power_to_db(melspec, ref=np.max)\n",
    "        librosa.display.specshow(s_db)\n",
    "\n",
    "        savepath = os.path.join(sup_custpath,name+'.png')\n",
    "        pylab.savefig(savepath, bbox_inches=None, pad_inches=0)\n",
    "        pylab.close()\n",
    "    except:\n",
    "        print('File cannot open')\n",
    "        return None,None\n",
    "    return savepath\n",
    "\n",
    "sup_imgpaths = []"
   ]
  },
  {
   "cell_type": "code",
   "execution_count": 12,
   "metadata": {},
   "outputs": [],
   "source": [
    "con_custpath  = './dataset/con_custom_dataset_1000/'\n",
    "def feature_extractor(row):\n",
    "    name     = row[0]\n",
    "    try:\n",
    "        \n",
    "        \n",
    "        #Mel Spectogram\n",
    "        pylab.axis('off') # no axis\n",
    "        pylab.axes([0., 0., 1., 1.], frameon=False, xticks=[], yticks=[])\n",
    "        melspec  = librosa.feature.melspectrogram(y=audio,sr=sr)\n",
    "        s_db     = librosa.power_to_db(melspec, ref=np.max)\n",
    "        librosa.display.specshow(s_db)\n",
    "\n",
    "        savepath = os.path.join(con_custpath,name+'.png')\n",
    "        pylab.savefig(savepath, bbox_inches=None, pad_inches=0)\n",
    "        pylab.close()\n",
    "    except:\n",
    "        print('File cannot open')\n",
    "        return None,None\n",
    "    return savepath\n",
    "\n",
    "\n",
    "con_imgpaths = []"
   ]
  },
  {
   "cell_type": "code",
   "execution_count": 13,
   "metadata": {},
   "outputs": [
    {
     "data": {
      "text/html": [
       "<div>\n",
       "<style scoped>\n",
       "    .dataframe tbody tr th:only-of-type {\n",
       "        vertical-align: middle;\n",
       "    }\n",
       "\n",
       "    .dataframe tbody tr th {\n",
       "        vertical-align: top;\n",
       "    }\n",
       "\n",
       "    .dataframe thead th {\n",
       "        text-align: right;\n",
       "    }\n",
       "</style>\n",
       "<table border=\"1\" class=\"dataframe\">\n",
       "  <thead>\n",
       "    <tr style=\"text-align: right;\">\n",
       "      <th></th>\n",
       "      <th>ID</th>\n",
       "      <th>DIR</th>\n",
       "      <th>Cough</th>\n",
       "      <th>DataSet</th>\n",
       "    </tr>\n",
       "  </thead>\n",
       "  <tbody>\n",
       "    <tr>\n",
       "      <th>0</th>\n",
       "      <td>f30664a5-7725-4cd7-b72c-9b0f2644935c</td>\n",
       "      <td>./public_dataset/f30664a5-7725-4cd7-b72c-9b0f2...</td>\n",
       "      <td>True</td>\n",
       "      <td>coughvid</td>\n",
       "    </tr>\n",
       "    <tr>\n",
       "      <th>1</th>\n",
       "      <td>AaTqzQjwIYaQW0MHufWVP5GWQ4I3</td>\n",
       "      <td>../Coswara-Data-master/20200416/AaTqzQjwIYaQW0...</td>\n",
       "      <td>True</td>\n",
       "      <td>coswara</td>\n",
       "    </tr>\n",
       "    <tr>\n",
       "      <th>2</th>\n",
       "      <td>67090bb0-377e-492c-9c49-8a608f50345d</td>\n",
       "      <td>./public_dataset/67090bb0-377e-492c-9c49-8a608...</td>\n",
       "      <td>True</td>\n",
       "      <td>coughvid</td>\n",
       "    </tr>\n",
       "    <tr>\n",
       "      <th>3</th>\n",
       "      <td>DeMaRSg6lVO7oA6v9HK3mbWjr3r2</td>\n",
       "      <td>../Coswara-Data-master/20200502/DeMaRSg6lVO7oA...</td>\n",
       "      <td>False</td>\n",
       "      <td>coswara</td>\n",
       "    </tr>\n",
       "    <tr>\n",
       "      <th>4</th>\n",
       "      <td>Q82KnSDEDTc0w7CDj1fSBntRTyg1</td>\n",
       "      <td>../Coswara-Data-master/20200919/Q82KnSDEDTc0w7...</td>\n",
       "      <td>False</td>\n",
       "      <td>coswara</td>\n",
       "    </tr>\n",
       "    <tr>\n",
       "      <th>...</th>\n",
       "      <td>...</td>\n",
       "      <td>...</td>\n",
       "      <td>...</td>\n",
       "      <td>...</td>\n",
       "    </tr>\n",
       "    <tr>\n",
       "      <th>995</th>\n",
       "      <td>ZgS6Ls08eFaArY1QATUpB76t7312</td>\n",
       "      <td>../Coswara-Data-master/20210406/ZgS6Ls08eFaArY...</td>\n",
       "      <td>False</td>\n",
       "      <td>coswara</td>\n",
       "    </tr>\n",
       "    <tr>\n",
       "      <th>996</th>\n",
       "      <td>2c148a1a-099b-48dd-97c2-437ecb15d430</td>\n",
       "      <td>./public_dataset/2c148a1a-099b-48dd-97c2-437ec...</td>\n",
       "      <td>True</td>\n",
       "      <td>coughvid</td>\n",
       "    </tr>\n",
       "    <tr>\n",
       "      <th>997</th>\n",
       "      <td>253084</td>\n",
       "      <td>../ESC-50-master/audio/3-253084-C-2.wav</td>\n",
       "      <td>False</td>\n",
       "      <td>ESC-50</td>\n",
       "    </tr>\n",
       "    <tr>\n",
       "      <th>998</th>\n",
       "      <td>273259b5-7350-4d15-b867-c88b46f552cc</td>\n",
       "      <td>./public_dataset/273259b5-7350-4d15-b867-c88b4...</td>\n",
       "      <td>True</td>\n",
       "      <td>coughvid</td>\n",
       "    </tr>\n",
       "    <tr>\n",
       "      <th>999</th>\n",
       "      <td>p892e9IyF2dZFs8eqIF1TCtxf0A3</td>\n",
       "      <td>../Coswara-Data-master/20200502/p892e9IyF2dZFs...</td>\n",
       "      <td>False</td>\n",
       "      <td>coswara</td>\n",
       "    </tr>\n",
       "  </tbody>\n",
       "</table>\n",
       "<p>1000 rows × 4 columns</p>\n",
       "</div>"
      ],
      "text/plain": [
       "                                       ID  \\\n",
       "0    f30664a5-7725-4cd7-b72c-9b0f2644935c   \n",
       "1            AaTqzQjwIYaQW0MHufWVP5GWQ4I3   \n",
       "2    67090bb0-377e-492c-9c49-8a608f50345d   \n",
       "3            DeMaRSg6lVO7oA6v9HK3mbWjr3r2   \n",
       "4            Q82KnSDEDTc0w7CDj1fSBntRTyg1   \n",
       "..                                    ...   \n",
       "995          ZgS6Ls08eFaArY1QATUpB76t7312   \n",
       "996  2c148a1a-099b-48dd-97c2-437ecb15d430   \n",
       "997                                253084   \n",
       "998  273259b5-7350-4d15-b867-c88b46f552cc   \n",
       "999          p892e9IyF2dZFs8eqIF1TCtxf0A3   \n",
       "\n",
       "                                                   DIR  Cough   DataSet  \n",
       "0    ./public_dataset/f30664a5-7725-4cd7-b72c-9b0f2...   True  coughvid  \n",
       "1    ../Coswara-Data-master/20200416/AaTqzQjwIYaQW0...   True   coswara  \n",
       "2    ./public_dataset/67090bb0-377e-492c-9c49-8a608...   True  coughvid  \n",
       "3    ../Coswara-Data-master/20200502/DeMaRSg6lVO7oA...  False   coswara  \n",
       "4    ../Coswara-Data-master/20200919/Q82KnSDEDTc0w7...  False   coswara  \n",
       "..                                                 ...    ...       ...  \n",
       "995  ../Coswara-Data-master/20210406/ZgS6Ls08eFaArY...  False   coswara  \n",
       "996  ./public_dataset/2c148a1a-099b-48dd-97c2-437ec...   True  coughvid  \n",
       "997            ../ESC-50-master/audio/3-253084-C-2.wav  False    ESC-50  \n",
       "998  ./public_dataset/273259b5-7350-4d15-b867-c88b4...   True  coughvid  \n",
       "999  ../Coswara-Data-master/20200502/p892e9IyF2dZFs...  False   coswara  \n",
       "\n",
       "[1000 rows x 4 columns]"
      ]
     },
     "execution_count": 13,
     "metadata": {},
     "output_type": "execute_result"
    }
   ],
   "source": [
    "sup_Data"
   ]
  },
  {
   "cell_type": "code",
   "execution_count": 14,
   "metadata": {},
   "outputs": [
    {
     "name": "stderr",
     "output_type": "stream",
     "text": [
      " 25%|██▌       | 252/1000 [01:34<04:37,  2.69it/s]"
     ]
    },
    {
     "name": "stdout",
     "output_type": "stream",
     "text": [
      "File cannot open\n"
     ]
    },
    {
     "name": "stderr",
     "output_type": "stream",
     "text": [
      " 41%|████▏     | 414/1000 [02:36<03:16,  2.98it/s]"
     ]
    },
    {
     "name": "stdout",
     "output_type": "stream",
     "text": [
      "File cannot open\n"
     ]
    },
    {
     "name": "stderr",
     "output_type": "stream",
     "text": [
      " 48%|████▊     | 481/1000 [03:02<03:38,  2.37it/s]"
     ]
    },
    {
     "name": "stdout",
     "output_type": "stream",
     "text": [
      "File cannot open\n"
     ]
    },
    {
     "name": "stderr",
     "output_type": "stream",
     "text": [
      " 50%|████▉     | 499/1000 [03:09<01:48,  4.61it/s]"
     ]
    },
    {
     "name": "stdout",
     "output_type": "stream",
     "text": [
      "File cannot open\n"
     ]
    },
    {
     "name": "stderr",
     "output_type": "stream",
     "text": [
      " 69%|██████▉   | 689/1000 [04:21<01:52,  2.76it/s]"
     ]
    },
    {
     "name": "stdout",
     "output_type": "stream",
     "text": [
      "File cannot open\n"
     ]
    },
    {
     "name": "stderr",
     "output_type": "stream",
     "text": [
      " 94%|█████████▍| 942/1000 [06:05<00:33,  1.72it/s]"
     ]
    },
    {
     "name": "stdout",
     "output_type": "stream",
     "text": [
      "File cannot open\n"
     ]
    },
    {
     "name": "stderr",
     "output_type": "stream",
     "text": [
      "100%|██████████| 1000/1000 [06:27<00:00,  2.58it/s]\n"
     ]
    }
   ],
   "source": [
    "for row in tqdm(sup_Data.values):\n",
    "    savepath  = sup_feature_extractor(row)\n",
    "    sup_imgpaths.append(savepath)"
   ]
  },
  {
   "cell_type": "code",
   "execution_count": 17,
   "metadata": {},
   "outputs": [
    {
     "data": {
      "text/plain": [
       "['./dataset/sup_custom_dataset_2000/ef0dfde5-ec56-4b9b-b8d3-12429a9431bb.png',\n",
       " './dataset/sup_custom_dataset_2000/182025.png',\n",
       " './dataset/sup_custom_dataset_2000/a91ce163-1e19-4802-b210-c5a6e3c7cbd0.png',\n",
       " './dataset/sup_custom_dataset_2000/fNZ3MnqiGRQlpOptmB2S09fDdYi1.png',\n",
       " './dataset/sup_custom_dataset_2000/981e8854-4893-4215-82c8-589142cb5ae8.png',\n",
       " './dataset/sup_custom_dataset_2000/hVZQcrz6cfaOMfL3jpRqJBUiumF2.png',\n",
       " './dataset/sup_custom_dataset_2000/dLWRBpUZo7ddqJup4t3C2TwiVqA3.png',\n",
       " './dataset/sup_custom_dataset_2000/7R6vvnCDQcVBjNyh6TGtlx48eAZ2.png',\n",
       " './dataset/sup_custom_dataset_2000/188003.png',\n",
       " './dataset/sup_custom_dataset_2000/6178ef4e-172a-4b4a-8cc6-00dde9467d75.png',\n",
       " './dataset/sup_custom_dataset_2000/913c1096-6986-4770-98e7-ea5dde277b44.png',\n",
       " './dataset/sup_custom_dataset_2000/f3abf042-e22d-4e27-af5b-6650cc8f4883.png',\n",
       " './dataset/sup_custom_dataset_2000/B4YY3S8iF0husgCd1Y0tKZyMpgD3.png',\n",
       " './dataset/sup_custom_dataset_2000/BAMibuHkXaNr3JNc0Cvbu3kdSIp1.png',\n",
       " './dataset/sup_custom_dataset_2000/hTXACBsoo2XasDWx8U9y7kzs8rc2.png',\n",
       " './dataset/sup_custom_dataset_2000/dEM0ehwUlrWLDRwRyFVY35hHfDG3.png',\n",
       " './dataset/sup_custom_dataset_2000/7edbd2b6-bced-4f68-ae00-e5c2ccb59ae2.png',\n",
       " './dataset/sup_custom_dataset_2000/0837bd59-09c5-4098-afe3-4bcbfb0fb0e2.png',\n",
       " './dataset/sup_custom_dataset_2000/O2axQgHDogQ1mORlKYAGiPTiHvB3.png',\n",
       " './dataset/sup_custom_dataset_2000/xuXF9GD5zhWX6SqjzWsrUWvevhh2.png',\n",
       " './dataset/sup_custom_dataset_2000/9rRdrR81MVgC0ITeAwOYyqj8ju43.png',\n",
       " './dataset/sup_custom_dataset_2000/SI6TF4Wk7XdAyxpOK4rW3usdrAm1.png',\n",
       " './dataset/sup_custom_dataset_2000/17092bd5-a61c-4502-8b36-f5755d542896.png',\n",
       " './dataset/sup_custom_dataset_2000/Vw5teNFkjUTUPgIE0pgJwyvvoIG2.png',\n",
       " './dataset/sup_custom_dataset_2000/189830.png',\n",
       " './dataset/sup_custom_dataset_2000/kCKhyeak3fP2IsFcRgP3AOPBDvz2.png',\n",
       " './dataset/sup_custom_dataset_2000/260640.png',\n",
       " './dataset/sup_custom_dataset_2000/EPA8c37Cb5e2aaUfisoVCzoxMnT2.png',\n",
       " './dataset/sup_custom_dataset_2000/tf9elTY1UpTjJ2qCFYUoeZYJEe42.png',\n",
       " './dataset/sup_custom_dataset_2000/symIMnhx0SXZB11UPJXEWP4pTbO2.png',\n",
       " './dataset/sup_custom_dataset_2000/868f5131-feea-4bbf-9d42-b6a72dbc1b5e.png',\n",
       " './dataset/sup_custom_dataset_2000/TyKZXsSHoMO2h8aqmLNlpaU2FZ72.png',\n",
       " './dataset/sup_custom_dataset_2000/PlplsT6dnBbbDLRRXiSGU5I8Jls2.png',\n",
       " './dataset/sup_custom_dataset_2000/39e23507-8e71-4e5a-8470-3358dd910a81.png',\n",
       " './dataset/sup_custom_dataset_2000/783fca32-58a9-4b49-a766-4ebe6cacf647.png',\n",
       " './dataset/sup_custom_dataset_2000/iECdjKjowNVh89DwO6HqoRnaDtY2.png',\n",
       " './dataset/sup_custom_dataset_2000/8ca7520c-2ac7-4d4a-a295-100de12fcaa1.png',\n",
       " './dataset/sup_custom_dataset_2000/117617.png',\n",
       " './dataset/sup_custom_dataset_2000/c8e83242-7ab8-4506-b2f3-74e3fc0dc016.png',\n",
       " './dataset/sup_custom_dataset_2000/24e79abd-8530-4439-8d5f-d3cf29f2950a.png',\n",
       " './dataset/sup_custom_dataset_2000/bd127425-a0fe-4ef8-9116-5f6e28d56ef7.png',\n",
       " './dataset/sup_custom_dataset_2000/1b9ef797-86b7-4ab9-af35-7bafe15dec7c.png',\n",
       " './dataset/sup_custom_dataset_2000/15487e59-019e-4399-b9ae-a1e2c87ef54b.png',\n",
       " './dataset/sup_custom_dataset_2000/df981ee7-a10d-4afb-8e1d-375f4752de92.png',\n",
       " './dataset/sup_custom_dataset_2000/27405.png',\n",
       " './dataset/sup_custom_dataset_2000/524a53f5-abcb-4c83-9498-45f56733168f.png',\n",
       " './dataset/sup_custom_dataset_2000/vus9YM3VqCXq3QckSGoeHJs6pBN2.png',\n",
       " './dataset/sup_custom_dataset_2000/fb57283d-225b-4d45-9856-29fa1b140adb.png',\n",
       " './dataset/sup_custom_dataset_2000/a553ed8e-9e49-43f1-b99e-db396dd3121e.png',\n",
       " './dataset/sup_custom_dataset_2000/rAPBfRm8PdZvmMY0SVTQCbN6hhE2.png',\n",
       " './dataset/sup_custom_dataset_2000/89e9ed5d-cd0c-4ba3-b1eb-848d1272874c.png',\n",
       " './dataset/sup_custom_dataset_2000/LAGGMvR7ScbjwTmMYBbEBfWRcN93.png',\n",
       " './dataset/sup_custom_dataset_2000/3a481fdd-0c3c-49c1-bb15-f0f0ef7046c8.png',\n",
       " './dataset/sup_custom_dataset_2000/77800031-0bbe-40e2-add3-19ea8b2ac6ff.png',\n",
       " './dataset/sup_custom_dataset_2000/1f6a497a-7d48-4db2-be34-c7760e427427.png',\n",
       " './dataset/sup_custom_dataset_2000/b6042fab-3011-4575-a85b-42694766adba.png',\n",
       " './dataset/sup_custom_dataset_2000/10cb01b7-efad-47f3-8ada-71b1a684a1fa.png',\n",
       " './dataset/sup_custom_dataset_2000/4a32613c-a957-4e6d-ae18-60b792e0b6a2.png',\n",
       " './dataset/sup_custom_dataset_2000/3ae99b61-b488-403a-8c57-7fb48c7d1865.png',\n",
       " './dataset/sup_custom_dataset_2000/f0e1b696-3227-484e-ab1e-1605dc1bbcd6.png',\n",
       " './dataset/sup_custom_dataset_2000/eP8gEM0KcBU6S5JpMdycX74KP3p2.png',\n",
       " './dataset/sup_custom_dataset_2000/011a31c2-9812-4521-aca4-ccb04be99a39.png',\n",
       " './dataset/sup_custom_dataset_2000/30214.png',\n",
       " './dataset/sup_custom_dataset_2000/AAFe8wVTf8Op4UTlq1QJmCyBdK33.png',\n",
       " './dataset/sup_custom_dataset_2000/5GwKvWfqLdU0p5udswzjmoFLEhr2.png',\n",
       " './dataset/sup_custom_dataset_2000/f643338e-6d35-4c27-b33d-0dcf4cda367f.png',\n",
       " './dataset/sup_custom_dataset_2000/foENi3P7alPC0yTEcDMIJEPFm4E2.png',\n",
       " './dataset/sup_custom_dataset_2000/98392.png',\n",
       " './dataset/sup_custom_dataset_2000/55645288-5bfc-43b4-808a-449678438122.png',\n",
       " './dataset/sup_custom_dataset_2000/9eb6506a-17f8-40b7-968d-ee511818d50b.png',\n",
       " './dataset/sup_custom_dataset_2000/01695001-bbab-4bf4-b88f-7372c0b64bb2.png',\n",
       " './dataset/sup_custom_dataset_2000/491c7887-7b24-465c-8166-412dec6aaab4.png',\n",
       " './dataset/sup_custom_dataset_2000/f843ac5b-ae95-457f-a359-3b1167aeaf56.png',\n",
       " './dataset/sup_custom_dataset_2000/jLxswjEWjZQh3Wg6Dzu5VCoPhG92.png',\n",
       " './dataset/sup_custom_dataset_2000/mFQ65xqfxpXiS6vwK1HKwq7j8o62.png',\n",
       " './dataset/sup_custom_dataset_2000/41d03989-705e-43f2-a2b0-e39a5ac63990.png',\n",
       " './dataset/sup_custom_dataset_2000/jaNAcGlkQvUYEcRFXm5gNwnOOn93.png',\n",
       " './dataset/sup_custom_dataset_2000/e0c631a6-5e7e-4f5a-8a07-d27f0ecbfb65.png',\n",
       " './dataset/sup_custom_dataset_2000/AaGldp1blyVKOPpV1KVhsPhrmAg1.png',\n",
       " './dataset/sup_custom_dataset_2000/e63e5ac4-fe3f-4c1a-8b22-cdce3350f8bf.png',\n",
       " './dataset/sup_custom_dataset_2000/1c5bbc80-5166-427b-8204-298b5ef8a0f9.png',\n",
       " './dataset/sup_custom_dataset_2000/173618.png',\n",
       " './dataset/sup_custom_dataset_2000/l6OFgjiE4MT6I6wfoYHk208nEaJ3.png',\n",
       " './dataset/sup_custom_dataset_2000/jU6lNbGSe4TXBJdMhRoUCRnAWsT2.png',\n",
       " './dataset/sup_custom_dataset_2000/sGG3SWYeDtd52RBt3dMM3HSv8SG3.png',\n",
       " './dataset/sup_custom_dataset_2000/6aa04a12-6e9a-4b9c-80da-a9fa01fc1757.png',\n",
       " './dataset/sup_custom_dataset_2000/14ad2345-dc79-4f0a-981d-8c2f4fc5abef.png',\n",
       " './dataset/sup_custom_dataset_2000/pCvmqsHirKcCQyWTKFUJF14jbTH3.png',\n",
       " './dataset/sup_custom_dataset_2000/H3sxaOqiOSgbKWig7NdWEPgrm6f2.png',\n",
       " './dataset/sup_custom_dataset_2000/maTMkkXbqOhLPOYLpGyMPPigDFt1.png',\n",
       " './dataset/sup_custom_dataset_2000/be8b3d0d-3dd9-42c0-925a-879372be62c5.png',\n",
       " './dataset/sup_custom_dataset_2000/chGPz3cGyvRFMdWo36WHlyEBgpx1.png',\n",
       " './dataset/sup_custom_dataset_2000/93b08a57-7d1b-4a66-8afe-1eeb85aec8d7.png',\n",
       " './dataset/sup_custom_dataset_2000/18314b9c-6762-42c0-b244-3b7cca13dcfc.png',\n",
       " './dataset/sup_custom_dataset_2000/cSBabP68WbPG0xQs8NnlgtVw5R42.png',\n",
       " './dataset/sup_custom_dataset_2000/tI9LqJQg4iXQcoyp03PsKbJaBsp1.png',\n",
       " './dataset/sup_custom_dataset_2000/699d17d8-1c64-4595-b935-db972934152d.png',\n",
       " './dataset/sup_custom_dataset_2000/3YsglsCX5US6WkSzHZAgt5F1C1y1.png',\n",
       " './dataset/sup_custom_dataset_2000/cf4RgKotFbYPn2HsLdxHyiChY3I2.png',\n",
       " './dataset/sup_custom_dataset_2000/kaIGgo2Cw7ff8AkV7vzWQ1KArwm1.png',\n",
       " './dataset/sup_custom_dataset_2000/sSRc22AD2BNCZwcHILpCD0pbp5l2.png',\n",
       " './dataset/sup_custom_dataset_2000/KmMFugVd4Pa4fZW9FqWFcHBVovf2.png',\n",
       " './dataset/sup_custom_dataset_2000/v8s9qaC0OZbY4OXHQBR5Nb0juq52.png',\n",
       " './dataset/sup_custom_dataset_2000/77571b95-82f9-4459-9882-e8c1d9d62cdc.png',\n",
       " './dataset/sup_custom_dataset_2000/e5afc038-4511-49d8-9540-07e27a990096.png',\n",
       " './dataset/sup_custom_dataset_2000/ZpsUydPUXygszeJSVtTFjbsqoNQ2.png',\n",
       " './dataset/sup_custom_dataset_2000/d169f9b0-df2f-4d17-8a5a-ad96f3ce7793.png',\n",
       " './dataset/sup_custom_dataset_2000/Q5C7zucNKTZSpYWQBFkZaoKucwi1.png',\n",
       " './dataset/sup_custom_dataset_2000/c87abcbc-a844-4e6a-85c2-3f071842c8b7.png',\n",
       " './dataset/sup_custom_dataset_2000/8PvWScAB6UbnfrkQrpbqLpu7O0z1.png',\n",
       " './dataset/sup_custom_dataset_2000/1c949862-1e9e-470c-b7ef-0b63ce3ab65d.png',\n",
       " './dataset/sup_custom_dataset_2000/2d3798dc-51ab-4e80-8fca-e5e64b8d267e.png',\n",
       " './dataset/sup_custom_dataset_2000/bd1d79fd-8910-4723-9f1e-a4d586f29405.png',\n",
       " './dataset/sup_custom_dataset_2000/k9c8ik6XlhbYFnHoXHqyDIQ5axe2.png',\n",
       " './dataset/sup_custom_dataset_2000/5bc214c9-57aa-4cc1-a0c8-02cb98d61293.png',\n",
       " './dataset/sup_custom_dataset_2000/139749.png',\n",
       " './dataset/sup_custom_dataset_2000/7MWN4jSmv3QD2sRi12K1BNjmct83.png',\n",
       " './dataset/sup_custom_dataset_2000/AaTqzQjwIYaQW0MHufWVP5GWQ4I3.png',\n",
       " './dataset/sup_custom_dataset_2000/542e2d32-8c6f-43ea-80c2-1197b13f9845.png',\n",
       " './dataset/sup_custom_dataset_2000/7234b112-4ea3-43ab-89ad-c1fd9aa33a3b.png',\n",
       " './dataset/sup_custom_dataset_2000/qndmFcdekodLGpiKxKMVQlrJfcp2.png',\n",
       " './dataset/sup_custom_dataset_2000/13b55d58-ad6d-4cb4-933e-80622a4ff240.png',\n",
       " './dataset/sup_custom_dataset_2000/ByvAxiKJC5QyNZi2YJu6GyZYgPs1.png',\n",
       " './dataset/sup_custom_dataset_2000/xwD2G8sZ9lbeSznnXmdsgrX35473.png',\n",
       " './dataset/sup_custom_dataset_2000/221518.png',\n",
       " './dataset/sup_custom_dataset_2000/w1TDsR75t5PsGyAksqF3kMQ6DXT2.png',\n",
       " './dataset/sup_custom_dataset_2000/jRjAYMmAQee5uVm5fU8yVnpuvs33.png',\n",
       " './dataset/sup_custom_dataset_2000/ewjgkt6HqIQ24vpCKFBISsgr5gJ3.png',\n",
       " './dataset/sup_custom_dataset_2000/a009371c-d7d5-4a17-957e-90f8f6bc0538.png',\n",
       " './dataset/sup_custom_dataset_2000/H1Ml5J5BxFT5aJB3687GpncQjOi2.png',\n",
       " './dataset/sup_custom_dataset_2000/xSNAaXDQn7NXL8xgSb4ix26X1R93.png',\n",
       " './dataset/sup_custom_dataset_2000/cEUtmEr0WzaMyEktYRaqHrryr0s1.png',\n",
       " './dataset/sup_custom_dataset_2000/ZaeW7vuikQgf7984JVqXYOtUQMs2.png',\n",
       " './dataset/sup_custom_dataset_2000/082f8c41-4025-4fed-a7a2-400ce23b50f4.png',\n",
       " './dataset/sup_custom_dataset_2000/82b527a0-661e-49aa-8d06-08f3ad7a9d84.png',\n",
       " (None, None),\n",
       " './dataset/sup_custom_dataset_2000/fXT3tXtSwYRqFf2V66ND3RpMash1.png',\n",
       " './dataset/sup_custom_dataset_2000/4wRQbTA56AgZ27o7Yq6oVWUzR7A3.png',\n",
       " './dataset/sup_custom_dataset_2000/yWp5tMRFDzbbeEe2csKNd909fqh1.png',\n",
       " './dataset/sup_custom_dataset_2000/2845da6a-9106-4eaf-bc30-db2a53b22246.png',\n",
       " './dataset/sup_custom_dataset_2000/q3DEiVNvlkNAGJq8LoHEb1TVPao1.png',\n",
       " './dataset/sup_custom_dataset_2000/4420f5fe-14f9-4b93-a56b-adef65feeaaa.png',\n",
       " './dataset/sup_custom_dataset_2000/i0reS77d27TfHnKANrEGHVZXkLw2.png',\n",
       " './dataset/sup_custom_dataset_2000/662f6819-1c22-4b25-bd91-d579bb141d49.png',\n",
       " './dataset/sup_custom_dataset_2000/4982b195-822b-4d81-8b0d-d032b6762fdc.png',\n",
       " './dataset/sup_custom_dataset_2000/nE9m0JsRXTYoni1nN9LpiBJJJXJ2.png',\n",
       " './dataset/sup_custom_dataset_2000/87781.png',\n",
       " './dataset/sup_custom_dataset_2000/b4559fdc-5b11-476c-a590-671417944f50.png',\n",
       " './dataset/sup_custom_dataset_2000/y7dTHpmIaYgPwbazH5f8o57WHoH3.png',\n",
       " './dataset/sup_custom_dataset_2000/f62d823c-6f46-4057-9d30-6d860a3d152f.png',\n",
       " './dataset/sup_custom_dataset_2000/ZwwWzt46hVhcDukhR2G4bCNnZe52.png',\n",
       " './dataset/sup_custom_dataset_2000/dae1f0ce-73fb-4d31-9c3f-75b2f55f1d25.png',\n",
       " './dataset/sup_custom_dataset_2000/gdt5iG6NWAWoK1edYqNFXUuZXQS2.png',\n",
       " './dataset/sup_custom_dataset_2000/23706.png',\n",
       " './dataset/sup_custom_dataset_2000/jx5lw63NN0SESDVLpYEQTHXuzti2.png',\n",
       " './dataset/sup_custom_dataset_2000/eu2Hm19FIUhs68KsWGAlCQ4WVc43.png',\n",
       " './dataset/sup_custom_dataset_2000/e99aac7e-15a9-44e8-ada9-b9f81ae01c7e.png',\n",
       " './dataset/sup_custom_dataset_2000/6cbaa695-b2a0-40d2-b6a2-ac6277d62853.png',\n",
       " './dataset/sup_custom_dataset_2000/144468.png',\n",
       " './dataset/sup_custom_dataset_2000/118817.png',\n",
       " './dataset/sup_custom_dataset_2000/1G9prDQSP1fpNL0yc7C6Rqy7jmK2.png',\n",
       " './dataset/sup_custom_dataset_2000/172736.png',\n",
       " './dataset/sup_custom_dataset_2000/bb3d5758-88e0-4020-9b6a-9a833aa16731.png',\n",
       " './dataset/sup_custom_dataset_2000/e143f6e3-e0a3-42f1-9bd5-d2487aa85cf2.png',\n",
       " './dataset/sup_custom_dataset_2000/15a780c3-6227-4ac9-b17b-c4338d841e79.png',\n",
       " './dataset/sup_custom_dataset_2000/bd1121a4-3980-4667-b97f-ff05433bf68e.png',\n",
       " './dataset/sup_custom_dataset_2000/9c76b4a0-f8f7-44d8-9d1e-e6e511cfad18.png',\n",
       " './dataset/sup_custom_dataset_2000/671caee1-76d9-403f-8194-f7456c563b1f.png',\n",
       " './dataset/sup_custom_dataset_2000/12278bc5-38bb-4d17-9a6e-217225ee310e.png',\n",
       " './dataset/sup_custom_dataset_2000/157149.png',\n",
       " './dataset/sup_custom_dataset_2000/6tVIf27diWR1deIqd3HGXxR6tlC3.png',\n",
       " './dataset/sup_custom_dataset_2000/goCuK84Tklfu22gFPPMqt1ZIjxo2.png',\n",
       " './dataset/sup_custom_dataset_2000/kkyAPrhvZKNSbFUYBfQ0Ne277D62.png',\n",
       " './dataset/sup_custom_dataset_2000/13f937f8-3a3f-43f6-b7dd-51899c1e31a8.png',\n",
       " './dataset/sup_custom_dataset_2000/8FnL5QpBazelNsGBTVkBuTSpMEt1.png',\n",
       " './dataset/sup_custom_dataset_2000/VDhr3WpGrNSi0eWqpTtfZdvUC3N2.png',\n",
       " './dataset/sup_custom_dataset_2000/729b84ed-b180-4e0c-844d-9aec4c661f26.png',\n",
       " './dataset/sup_custom_dataset_2000/5eEXozx61BXKT71PLRaQASRcC832.png',\n",
       " './dataset/sup_custom_dataset_2000/SkZeafTL9dd9dwV9nEbNrszqc8u1.png',\n",
       " './dataset/sup_custom_dataset_2000/ir3jqGSKT2ManVTAAzj6Ew7orBD2.png',\n",
       " './dataset/sup_custom_dataset_2000/889dee48-2687-4753-b5df-d45302fc31b2.png',\n",
       " './dataset/sup_custom_dataset_2000/905015ef-9def-48a2-93c5-9d238e30f5fe.png',\n",
       " './dataset/sup_custom_dataset_2000/234145.png',\n",
       " './dataset/sup_custom_dataset_2000/714aeabc-a041-444b-b4f7-e2a3a80fb46f.png',\n",
       " './dataset/sup_custom_dataset_2000/Z7ZMrrVuJKSK1JEfLQjxGXI1VTq1.png',\n",
       " './dataset/sup_custom_dataset_2000/d64f6adc-623c-48f7-a6f9-9127cddb20b2.png',\n",
       " './dataset/sup_custom_dataset_2000/99d23504-149b-469d-b874-22b5e5d1eb59.png',\n",
       " './dataset/sup_custom_dataset_2000/752cd126-1698-4d9d-9649-a1177196d769.png',\n",
       " './dataset/sup_custom_dataset_2000/43a5b1b9-41c4-4911-8a67-ee1621b797a4.png',\n",
       " './dataset/sup_custom_dataset_2000/ugXNiwAC4VZuidrzssew4IEViQM2.png',\n",
       " './dataset/sup_custom_dataset_2000/IQSMEGOrc3XegUpIARWm07D2K2a2.png',\n",
       " './dataset/sup_custom_dataset_2000/4a2e607c-4af1-4b57-810b-12f890c7b429.png',\n",
       " './dataset/sup_custom_dataset_2000/ose5fZhlJWV7qalryF6Nvp3kY482.png',\n",
       " './dataset/sup_custom_dataset_2000/0e5f3e6b-78a7-4b58-96ca-d76482ad47dd.png',\n",
       " './dataset/sup_custom_dataset_2000/cea2987a-c780-413f-b69a-7821e105334a.png',\n",
       " './dataset/sup_custom_dataset_2000/IxdOYraXjNXf620JP1hexb3YDJ93.png',\n",
       " './dataset/sup_custom_dataset_2000/94457c7b-8e4b-4987-b789-2a3483a31c6d.png',\n",
       " './dataset/sup_custom_dataset_2000/m1s2RQ1f2LaqD6o9RArZkiDGoFr1.png',\n",
       " './dataset/sup_custom_dataset_2000/bf058eed-f8c2-49b6-9e34-f46945de8a66.png',\n",
       " './dataset/sup_custom_dataset_2000/7709420e-4e23-422b-b6ff-21ce9035bfab.png',\n",
       " './dataset/sup_custom_dataset_2000/1aff924a-5957-42bd-ba63-bf6334bd6f00.png',\n",
       " './dataset/sup_custom_dataset_2000/kus7obTENSPvUNbwD2yi6vUi0x23.png',\n",
       " './dataset/sup_custom_dataset_2000/yfPjZBFWOihN0YDhKla7wWDoVCA2.png',\n",
       " './dataset/sup_custom_dataset_2000/GuZQNW2ktwaUr8OxHPLN0iVGy2G2.png',\n",
       " './dataset/sup_custom_dataset_2000/7DfMFXPDu3W2Fxjs8w0OsLIY8em1.png',\n",
       " './dataset/sup_custom_dataset_2000/2f5825f0-9ebc-4e21-a784-9049e05f404e.png',\n",
       " './dataset/sup_custom_dataset_2000/f9g4olEAspen4dJakQJsI2EME032.png',\n",
       " './dataset/sup_custom_dataset_2000/wnYwVtKVX9f8UdFFAkWGUvN98V83.png',\n",
       " './dataset/sup_custom_dataset_2000/0W7xMFW538WmDghkiujx2v4xVnt2.png',\n",
       " './dataset/sup_custom_dataset_2000/d2826a62-f062-4458-b6cd-e7d674c9e293.png',\n",
       " './dataset/sup_custom_dataset_2000/160901b3-4ba3-4f51-8890-610708bbe087.png',\n",
       " './dataset/sup_custom_dataset_2000/NPwHtrWOTPgBVHkElhwB91qJXts1.png',\n",
       " './dataset/sup_custom_dataset_2000/040e6a1c-dcbe-47aa-8b9d-51abd8136d91.png',\n",
       " './dataset/sup_custom_dataset_2000/ZfZdmrhvFUVDL6jqf0GaWC6rzia2.png',\n",
       " './dataset/sup_custom_dataset_2000/102414.png',\n",
       " './dataset/sup_custom_dataset_2000/ya3VviewxzdRZqbLrEXsIrvilRR2.png',\n",
       " './dataset/sup_custom_dataset_2000/iS29Ewab4XQHypUcZLygL7AYH6J2.png',\n",
       " './dataset/sup_custom_dataset_2000/2ec6700b-8058-4bb5-aa5a-80dbb9b7a445.png',\n",
       " './dataset/sup_custom_dataset_2000/LziLApJbcWWu3MzbIL8k6mLdyFK2.png',\n",
       " './dataset/sup_custom_dataset_2000/50bdf5c8-c6c4-45ac-9873-413d0fa1feb4.png',\n",
       " './dataset/sup_custom_dataset_2000/TmtSpBMTFzSu3z7HHtir7UqUNbl2.png',\n",
       " './dataset/sup_custom_dataset_2000/1pXSBzMeizcu5IpLAJUaYpmJyhB3.png',\n",
       " './dataset/sup_custom_dataset_2000/045364d1-30c3-4784-a51f-48f791b913a1.png',\n",
       " './dataset/sup_custom_dataset_2000/399902e6-6518-4513-a97f-0a63eb7a6966.png',\n",
       " './dataset/sup_custom_dataset_2000/ac3c7943-2127-4def-8439-43232be4e776.png',\n",
       " './dataset/sup_custom_dataset_2000/034aa6d3-6673-47a1-a319-325aa9be44a2.png',\n",
       " './dataset/sup_custom_dataset_2000/ad5ea859-e3c5-41ec-82d0-1846457a9b66.png',\n",
       " './dataset/sup_custom_dataset_2000/e982e6ed-866e-4331-904c-b0bcff66d8bc.png',\n",
       " './dataset/sup_custom_dataset_2000/ZaeW7vuikQgf7984JVqXYOtUQMs2.png',\n",
       " './dataset/sup_custom_dataset_2000/yHRFkSwYEehBF4AtthYzXkR6jUc2.png',\n",
       " './dataset/sup_custom_dataset_2000/368740ec-b992-47a7-9a1b-ba8fbf41c8f5.png',\n",
       " './dataset/sup_custom_dataset_2000/1d779f4b-766d-401b-ae38-19f553701a01.png',\n",
       " './dataset/sup_custom_dataset_2000/5eEXozx61BXKT71PLRaQASRcC832.png',\n",
       " './dataset/sup_custom_dataset_2000/O924JvpBNRN7jHvErWkpfjqGvat1.png',\n",
       " './dataset/sup_custom_dataset_2000/dd5cd67a-68c9-4c8c-8eef-4925989ecb98.png',\n",
       " './dataset/sup_custom_dataset_2000/8c509a42-be60-4f6c-b5a8-5f304d5caff7.png',\n",
       " './dataset/sup_custom_dataset_2000/vus9YM3VqCXq3QckSGoeHJs6pBN2.png',\n",
       " './dataset/sup_custom_dataset_2000/05189b46-8871-460b-9c7b-01c9df7c58f8.png',\n",
       " './dataset/sup_custom_dataset_2000/cb3d6c75-e74f-49a8-8e18-97b1e95038a1.png',\n",
       " './dataset/sup_custom_dataset_2000/K5SeTDLlXVQ0U5sl17KluTKEOKJ3.png',\n",
       " './dataset/sup_custom_dataset_2000/c7aebd2e-f4d8-4af7-82f5-f0d71f93cae2.png',\n",
       " './dataset/sup_custom_dataset_2000/91d47856-c83f-4f50-ae4b-e8c045ae5722.png',\n",
       " './dataset/sup_custom_dataset_2000/b631b2f1-9ff8-4e30-8074-9bc64dc408b4.png',\n",
       " './dataset/sup_custom_dataset_2000/4e010bba-94e9-43aa-a589-dfda2932146f.png',\n",
       " './dataset/sup_custom_dataset_2000/683eb450-b752-451c-99b8-e120e44963ae.png',\n",
       " './dataset/sup_custom_dataset_2000/zxRJaPEBRGX8uH4egnctWAuIuy32.png',\n",
       " './dataset/sup_custom_dataset_2000/r3TFCPT4wJP2K891tXSFsIxAMPG3.png',\n",
       " './dataset/sup_custom_dataset_2000/aa45b0f7-d7b2-44c4-b2d6-46e73f33e955.png',\n",
       " './dataset/sup_custom_dataset_2000/OnSOmvzzE2WLcwfrSyNbh0B89n72.png',\n",
       " './dataset/sup_custom_dataset_2000/Bjp6S2aILuesK2yOZQIG06WliTM2.png',\n",
       " './dataset/sup_custom_dataset_2000/212604.png',\n",
       " './dataset/sup_custom_dataset_2000/us7APpurf2OG6PGiYAvqrE4fZtQ2.png',\n",
       " './dataset/sup_custom_dataset_2000/hVuxSeriDPUtRMM8xz2g7K37k0k2.png',\n",
       " './dataset/sup_custom_dataset_2000/a7758e1f-e7b5-42cc-a66d-99966ea8a44e.png',\n",
       " './dataset/sup_custom_dataset_2000/d4fafa90-d3e2-4b68-be92-a11c4b5f3809.png',\n",
       " './dataset/sup_custom_dataset_2000/iV3Db6t1T8b7c5HQY2TwxIhjbzD3.png',\n",
       " './dataset/sup_custom_dataset_2000/17ea8d65-913f-4604-b982-630f9bc089f9.png',\n",
       " './dataset/sup_custom_dataset_2000/hVWqZEL0c6RSrDEjSCyvyFPMEum1.png',\n",
       " './dataset/sup_custom_dataset_2000/52937f9c-39d3-4fd9-86c9-2a06b7139935.png',\n",
       " './dataset/sup_custom_dataset_2000/yiqapKfcyIPAOKlqOxyU8DDANe63.png',\n",
       " './dataset/sup_custom_dataset_2000/Q5C7zucNKTZSpYWQBFkZaoKucwi1.png',\n",
       " './dataset/sup_custom_dataset_2000/37e28761-eb23-451a-b12c-7c79948421e7.png',\n",
       " './dataset/sup_custom_dataset_2000/nC130uADRFZF5vae8qZt2qmpbpi1.png',\n",
       " './dataset/sup_custom_dataset_2000/7f3098e6-beb2-426a-ab4a-6a2b1a97a6c7.png',\n",
       " './dataset/sup_custom_dataset_2000/JOimE3qKkOWxkKYIDBvIpXgQ9HJ3.png',\n",
       " './dataset/sup_custom_dataset_2000/aa6d217b-e8d1-4a7b-bbc1-acc411c91b43.png',\n",
       " './dataset/sup_custom_dataset_2000/7787ffe8-78e6-4882-bd9d-35e0f502fd69.png',\n",
       " './dataset/sup_custom_dataset_2000/I90bUGzBTMZpwCnA4eWqzKkq3362.png',\n",
       " './dataset/sup_custom_dataset_2000/5a63e01a-8826-4368-91e4-c972b4900949.png',\n",
       " './dataset/sup_custom_dataset_2000/D1d4hc9MrgTDxgAhqpTgqOEJtLp2.png',\n",
       " './dataset/sup_custom_dataset_2000/YEPHDMGy11bhRKUTSh5vHHfRk4K3.png',\n",
       " './dataset/sup_custom_dataset_2000/KzArWjCjApUOIz69TPVaZxSKQ6W2.png',\n",
       " './dataset/sup_custom_dataset_2000/AeJcnB6Pl6ayw2YL7whgWyYSVnz2.png',\n",
       " './dataset/sup_custom_dataset_2000/44c8174c-1b9f-4b89-ada0-c447fd22e87a.png',\n",
       " './dataset/sup_custom_dataset_2000/Axei3vO2YcQM56PrwqmMF40A6aG3.png',\n",
       " './dataset/sup_custom_dataset_2000/47bed967-f9f0-40fd-965d-f1fd68115732.png',\n",
       " './dataset/sup_custom_dataset_2000/g6L8s5Dtq8eIYUTeRWHq0Q7w5L32.png',\n",
       " './dataset/sup_custom_dataset_2000/yUN7VBVk2wP9yT2vpgzHyVUZi5q1.png',\n",
       " './dataset/sup_custom_dataset_2000/d769f90f-8183-4c42-8ea6-cf992ee40a64.png',\n",
       " './dataset/sup_custom_dataset_2000/132852.png',\n",
       " './dataset/sup_custom_dataset_2000/ywGZDcK06JdLH3XuSOVMKASD8ex2.png',\n",
       " './dataset/sup_custom_dataset_2000/23d5eae2-bb34-4a8e-b225-14924233ec4f.png',\n",
       " './dataset/sup_custom_dataset_2000/b551c936-7f27-40a4-bf3b-2d8c4edfbae8.png',\n",
       " './dataset/sup_custom_dataset_2000/sGG3SWYeDtd52RBt3dMM3HSv8SG3.png',\n",
       " './dataset/sup_custom_dataset_2000/2ef54d98-0fee-48fb-8ab7-2f0cc343fe11.png',\n",
       " './dataset/sup_custom_dataset_2000/641f2342-a29d-4ae0-acff-a4154aeb3e00.png',\n",
       " './dataset/sup_custom_dataset_2000/5d61b3ff-5512-4ecd-a8b3-5704a5528a4c.png',\n",
       " './dataset/sup_custom_dataset_2000/aU8pLZV1OUQJV0GKeeIlgWhYWeA2.png',\n",
       " './dataset/sup_custom_dataset_2000/l6xp4FcV20QYTrj0uF0GkKnXY1x2.png',\n",
       " './dataset/sup_custom_dataset_2000/b5812d35-5d2e-43d9-80a2-772c81ee600c.png',\n",
       " './dataset/sup_custom_dataset_2000/187201.png',\n",
       " './dataset/sup_custom_dataset_2000/2f9e359e-a8ed-4ff5-9257-49b6fb5c5f88.png',\n",
       " './dataset/sup_custom_dataset_2000/b5a9b52c-0b40-46aa-a5b2-f39cf78ae2cd.png',\n",
       " './dataset/sup_custom_dataset_2000/69131.png',\n",
       " './dataset/sup_custom_dataset_2000/0KSi2atlmsXNcGMfpDNzIjJSvC23.png',\n",
       " './dataset/sup_custom_dataset_2000/fcb7f4f5-dc2b-42ca-bcc2-6a4656aa3beb.png',\n",
       " './dataset/sup_custom_dataset_2000/eaa32cc7-5e79-4d4c-a3b0-dcd59bb161be.png',\n",
       " './dataset/sup_custom_dataset_2000/0fb29015-89a1-46ff-80ee-ffa4ec1f1564.png',\n",
       " './dataset/sup_custom_dataset_2000/9LGZxIxgbgSheKov7FzsNcFIu4v1.png',\n",
       " './dataset/sup_custom_dataset_2000/nDhgdZFoNRUBm7qY6tw3z4ZLOdw2.png',\n",
       " './dataset/sup_custom_dataset_2000/31cd05b0-093f-4cbf-8c14-857d24fe343b.png',\n",
       " './dataset/sup_custom_dataset_2000/60oNWRr2WRghY5hOnlBUBAjMgjH3.png',\n",
       " './dataset/sup_custom_dataset_2000/eddea434-c376-489b-8ebb-144f7373d6bc.png',\n",
       " './dataset/sup_custom_dataset_2000/5790906b-44f0-4b59-8052-1f3d7927decd.png',\n",
       " './dataset/sup_custom_dataset_2000/8710b0f6-3127-4aa4-9d07-c741512eb6e8.png',\n",
       " './dataset/sup_custom_dataset_2000/3Vqysidm4ihlWFBQPErMAClnMbu2.png',\n",
       " './dataset/sup_custom_dataset_2000/5a59a429-5369-4c63-813d-741a0f7a4314.png',\n",
       " './dataset/sup_custom_dataset_2000/3d0ce7c1-c5fd-45eb-bff2-cf3596b249e1.png',\n",
       " './dataset/sup_custom_dataset_2000/63acc1aa-2087-4c46-b0a8-56d38a3b1b10.png',\n",
       " './dataset/sup_custom_dataset_2000/TXlvBOBGo0ReXW3AHhF5acgJ5Hm2.png',\n",
       " './dataset/sup_custom_dataset_2000/vK2bLRNzllXNeyOMudnNSL5cfpG2.png',\n",
       " './dataset/sup_custom_dataset_2000/7daee400-6d25-4621-b337-c6069f1a672e.png',\n",
       " './dataset/sup_custom_dataset_2000/MEEGIoNSX4exg4oIL3Q9MdysPJq1.png',\n",
       " './dataset/sup_custom_dataset_2000/TaoyZAahOzRoDQRxb0DtDZh8Opa2.png',\n",
       " './dataset/sup_custom_dataset_2000/GzhrTQhWHSTwvweRKx2x1Uh4wx52.png',\n",
       " './dataset/sup_custom_dataset_2000/wXChdMlWemXwRdX642WnX6JbYfA2.png',\n",
       " './dataset/sup_custom_dataset_2000/bbemMSSF2DWykY2lW3pFokk39Wr1.png',\n",
       " './dataset/sup_custom_dataset_2000/2owO9U3KZ8TqQDrOx6UhOiA2OW43.png',\n",
       " './dataset/sup_custom_dataset_2000/251959.png',\n",
       " './dataset/sup_custom_dataset_2000/l6xp4FcV20QYTrj0uF0GkKnXY1x2.png',\n",
       " './dataset/sup_custom_dataset_2000/31251.png',\n",
       " './dataset/sup_custom_dataset_2000/eb176e16-b26f-4262-b971-dc658e9dcaf2.png',\n",
       " './dataset/sup_custom_dataset_2000/003e1bf6-2ecf-4a00-9198-29db34e8d7ac.png',\n",
       " './dataset/sup_custom_dataset_2000/stnT0xsBXhb159fZrbzN9kwAKvF2.png',\n",
       " './dataset/sup_custom_dataset_2000/A1tmg4RT7Mekg8LKxGC2agpfmdi1.png',\n",
       " './dataset/sup_custom_dataset_2000/t36yqxelXtUEMy6tQJd8Bn1Kr673.png',\n",
       " './dataset/sup_custom_dataset_2000/eQQfGXkyq4PbUnshUIBuHNt9jcV2.png',\n",
       " './dataset/sup_custom_dataset_2000/0dd75e45-f531-4206-b969-b4abfc398d0f.png',\n",
       " './dataset/sup_custom_dataset_2000/5FQMhLSr6je06dBSJvZjbiddFID2.png',\n",
       " './dataset/sup_custom_dataset_2000/JXP97RVyVfVXVqOPULghR8pY3q32.png',\n",
       " './dataset/sup_custom_dataset_2000/6afed755-8b58-48a0-8c6f-0b4a929e3026.png',\n",
       " './dataset/sup_custom_dataset_2000/fd7d172d-4106-427a-870b-0384c88f147f.png',\n",
       " './dataset/sup_custom_dataset_2000/2owO9U3KZ8TqQDrOx6UhOiA2OW43.png',\n",
       " './dataset/sup_custom_dataset_2000/zir8PPnBwfOaT05GrKj9nK4opfk1.png',\n",
       " './dataset/sup_custom_dataset_2000/d060bfbb-cfd2-40f2-b9f4-c603868e7c28.png',\n",
       " './dataset/sup_custom_dataset_2000/d9df9ee0-aa06-4c4c-953d-939a6a8b6a8e.png',\n",
       " './dataset/sup_custom_dataset_2000/MxWWtrKw3RcNjG0Rmrw9Rt4YD9E3.png',\n",
       " './dataset/sup_custom_dataset_2000/db371840-67c2-48f2-b2de-d71a32dea518.png',\n",
       " './dataset/sup_custom_dataset_2000/1Vm44aluw7PMy2mfETHc3MvwQxx1.png',\n",
       " './dataset/sup_custom_dataset_2000/O7eAgc4vq5fZQmGh60gDaMxOjgz2.png',\n",
       " './dataset/sup_custom_dataset_2000/1daa39b2-4ac2-4239-8275-c8d97067734c.png',\n",
       " './dataset/sup_custom_dataset_2000/StMoprM57wPyrUs5p0s78r1X0Qt1.png',\n",
       " './dataset/sup_custom_dataset_2000/ba47984f-f70c-44e6-bb12-06e1316824d4.png',\n",
       " './dataset/sup_custom_dataset_2000/bH6WQVvClVRDer6iOFvaGiz0luf1.png',\n",
       " './dataset/sup_custom_dataset_2000/IFMid2LmeCTSQAFaL8wTSUg20No2.png',\n",
       " './dataset/sup_custom_dataset_2000/80064664-c851-465f-b741-ed78ea1c4469.png',\n",
       " './dataset/sup_custom_dataset_2000/63c06367-020f-4078-91a5-2401cee09b32.png',\n",
       " './dataset/sup_custom_dataset_2000/52001.png',\n",
       " './dataset/sup_custom_dataset_2000/4achmXwhZ6UIFduMW6ShHrJpRPV2.png',\n",
       " './dataset/sup_custom_dataset_2000/ca646ddb-7c9d-4027-8ce8-a3afee09f93e.png',\n",
       " './dataset/sup_custom_dataset_2000/22ac9dc4-858e-4db5-886e-792d7553e67f.png',\n",
       " './dataset/sup_custom_dataset_2000/7f267386-cf7b-4e17-8ba4-9e4c91673671.png',\n",
       " './dataset/sup_custom_dataset_2000/f9b7c88c-63c0-489e-80c7-75ac6b11c182.png',\n",
       " './dataset/sup_custom_dataset_2000/ok6CEL3947hifXVHHmCDt35a7D32.png',\n",
       " './dataset/sup_custom_dataset_2000/b8485b5b-78c8-42b5-90bb-7c7e8fe74f48.png',\n",
       " './dataset/sup_custom_dataset_2000/cd5a7d4d-a61e-40bf-8f22-598d019f0ebd.png',\n",
       " './dataset/sup_custom_dataset_2000/O4BFgxvAgwbwRGZMkMBJRFnGBbd2.png',\n",
       " './dataset/sup_custom_dataset_2000/69c15691-3fc9-4b5f-bb60-6e926dff152f.png',\n",
       " './dataset/sup_custom_dataset_2000/HCsgRpbj4vdEXoAjjSDJj9vQFbB2.png',\n",
       " './dataset/sup_custom_dataset_2000/1e3c046d-82f7-445e-b6c3-06441f3da506.png',\n",
       " './dataset/sup_custom_dataset_2000/97c784f1-0322-45e1-9bb3-9a751ce1897b.png',\n",
       " './dataset/sup_custom_dataset_2000/73701b60-c351-4b4c-8e38-5109b80b7154.png',\n",
       " './dataset/sup_custom_dataset_2000/654a2bab-b45a-4042-bc07-554a59105bbd.png',\n",
       " './dataset/sup_custom_dataset_2000/0c10081e-bb1c-4ba9-8f64-dbfbe8f63417.png',\n",
       " './dataset/sup_custom_dataset_2000/2d1cb57c-db89-47cc-a67c-76b99aa874ad.png',\n",
       " './dataset/sup_custom_dataset_2000/nWexc69oEiZ6d1YP3v2CDJBipkM2.png',\n",
       " './dataset/sup_custom_dataset_2000/2855ea7f-e1a9-4ecf-ac1c-62e6e7c7dc39.png',\n",
       " './dataset/sup_custom_dataset_2000/491df76d-5b2d-4cca-b844-8fb1dff00847.png',\n",
       " './dataset/sup_custom_dataset_2000/quF8xZxqK8NnszkwktXovmZ9fBT2.png',\n",
       " './dataset/sup_custom_dataset_2000/59dIvwH1JDU9pHbH1rc3FoVlJWl1.png',\n",
       " './dataset/sup_custom_dataset_2000/5YSIWpZPYZUqG5rGievs4epu33g2.png',\n",
       " './dataset/sup_custom_dataset_2000/30647d1f-d662-4a2e-aa1c-95040fd748eb.png',\n",
       " './dataset/sup_custom_dataset_2000/8FuQrkCbCLRO2og45NDF5RprBPC2.png',\n",
       " './dataset/sup_custom_dataset_2000/ibsftXiIIaTlmiN1fVp4MjtS9Hl2.png',\n",
       " './dataset/sup_custom_dataset_2000/6868da77-a36a-4fb4-afa5-aba26bd2bbd5.png',\n",
       " './dataset/sup_custom_dataset_2000/KoN8x5OLC9fxkriFn7LVIONyMdy2.png',\n",
       " './dataset/sup_custom_dataset_2000/Dj0W2BYly4ZgQCCyCznEhLH5sYG2.png',\n",
       " './dataset/sup_custom_dataset_2000/304ace3b-e04a-4e5a-8738-a78808c2fda5.png',\n",
       " './dataset/sup_custom_dataset_2000/22344c9a-727d-4762-aac0-7f96b183fb9c.png',\n",
       " './dataset/sup_custom_dataset_2000/M1RgcbGDbWbsxNkmPHlrh9J9n572.png',\n",
       " './dataset/sup_custom_dataset_2000/lRTZkLVfotSCNqqchfmOZo4Zc1o2.png',\n",
       " './dataset/sup_custom_dataset_2000/gH4tLBmPiFWp96S6j3z0wjKYhab2.png',\n",
       " './dataset/sup_custom_dataset_2000/OSva8KJZQuZDquBrWQRFdEOtKFc2.png',\n",
       " './dataset/sup_custom_dataset_2000/6c4ac4fb-4f54-4793-b205-39d4a6f12bd3.png',\n",
       " './dataset/sup_custom_dataset_2000/4drDZUlQcteX5StlFT2CXEL0N0L2.png',\n",
       " './dataset/sup_custom_dataset_2000/DpU572tPYaXZXMglBud6sRIaq8y2.png',\n",
       " './dataset/sup_custom_dataset_2000/GjdjAvKrnbRRRX1KbioknjMVLNx2.png',\n",
       " './dataset/sup_custom_dataset_2000/Hx0gMpwXrbhBp9SV7clzSDQ50EM2.png',\n",
       " './dataset/sup_custom_dataset_2000/Mx0Ij186LMVXmLB3xX54QCAbyhu1.png',\n",
       " './dataset/sup_custom_dataset_2000/9jmKb1whQ0VGTqOaHvdOOr1oo6T2.png',\n",
       " './dataset/sup_custom_dataset_2000/5f913bfe-8e81-46a3-b6e6-cebc0cc8f63f.png',\n",
       " './dataset/sup_custom_dataset_2000/ac61e62b-0c9c-4a19-8c45-3050d2cde54e.png',\n",
       " './dataset/sup_custom_dataset_2000/63cc02b3-859b-499d-8786-8e6d6c00a2dd.png',\n",
       " './dataset/sup_custom_dataset_2000/YNkZcKCX0mOhKIUO2VRQQd63ydn1.png',\n",
       " './dataset/sup_custom_dataset_2000/ibsftXiIIaTlmiN1fVp4MjtS9Hl2.png',\n",
       " './dataset/sup_custom_dataset_2000/70455078-db3a-4d5e-a4b7-1de451fb66f5.png',\n",
       " './dataset/sup_custom_dataset_2000/a7a5848b-300f-42c9-8007-affa8e03ba19.png',\n",
       " './dataset/sup_custom_dataset_2000/xKW2EpGmJcfigLecUTLVXEWQHPg2.png',\n",
       " './dataset/sup_custom_dataset_2000/5242f393-31f0-4b74-a93c-5a9accbdc5d9.png',\n",
       " './dataset/sup_custom_dataset_2000/KcO2p01LdYga7563y95BkKII9Dh1.png',\n",
       " './dataset/sup_custom_dataset_2000/943f01ff-b65f-4f59-8616-a11a7cff5bc7.png',\n",
       " './dataset/sup_custom_dataset_2000/b2321e88-2ad7-4988-95ac-79661d20024a.png',\n",
       " './dataset/sup_custom_dataset_2000/39020a43-0be4-4f99-a7a5-9ffd988115aa.png',\n",
       " './dataset/sup_custom_dataset_2000/117120.png',\n",
       " './dataset/sup_custom_dataset_2000/201274.png',\n",
       " './dataset/sup_custom_dataset_2000/ohWVIlRU80fBUC72G7JxfjOJeND2.png',\n",
       " './dataset/sup_custom_dataset_2000/8222257a-52a6-489c-81d9-534c542d8504.png',\n",
       " './dataset/sup_custom_dataset_2000/6330505e-72f7-4077-ac53-46117d51874b.png',\n",
       " './dataset/sup_custom_dataset_2000/I11YsKcNytZ27XLyt5yKhxMyLZV2.png',\n",
       " './dataset/sup_custom_dataset_2000/209cb130-42d3-46d1-8166-4ac23e896bea.png',\n",
       " './dataset/sup_custom_dataset_2000/62a60e4e-eab7-4574-9f04-c6a3cbfdc6f4.png',\n",
       " './dataset/sup_custom_dataset_2000/5f4d3392-bd0a-49a5-9f01-17a9cb0c6bda.png',\n",
       " './dataset/sup_custom_dataset_2000/508fb760-bf4d-4eed-9fcb-db7bd0e082b7.png',\n",
       " './dataset/sup_custom_dataset_2000/ZuysSjckdLWhDEc9mARQwWpXfIj2.png',\n",
       " './dataset/sup_custom_dataset_2000/deaddfa6-ac89-461c-ab08-c531e2a296cd.png',\n",
       " './dataset/sup_custom_dataset_2000/r0XiFJDYZCMvV7xT8LowfFV3DJQ2.png',\n",
       " './dataset/sup_custom_dataset_2000/6f9c10c4-26cd-4fa7-a814-34f1fdd9d7c9.png',\n",
       " './dataset/sup_custom_dataset_2000/94OSQGpJCiSuQtHifnlYyOIKL0E2.png',\n",
       " './dataset/sup_custom_dataset_2000/94f69a81-c9cd-43d5-9db2-86b81f265471.png',\n",
       " './dataset/sup_custom_dataset_2000/0ec6c058-60b6-4fa4-8280-ce63d442914b.png',\n",
       " './dataset/sup_custom_dataset_2000/2658ddda-abe2-4563-b897-1d70d7cabbad.png',\n",
       " './dataset/sup_custom_dataset_2000/b7a50392-c8b7-497a-9a0f-37385f61f3d2.png',\n",
       " './dataset/sup_custom_dataset_2000/4achmXwhZ6UIFduMW6ShHrJpRPV2.png',\n",
       " './dataset/sup_custom_dataset_2000/2ac8ee61-b34f-4511-8ee3-ab0207375d86.png',\n",
       " './dataset/sup_custom_dataset_2000/qf3n0FsFJkfsUbOFngrrxDd5x7m1.png',\n",
       " './dataset/sup_custom_dataset_2000/28c08126-f32e-4337-b4b1-cba26602f185.png',\n",
       " './dataset/sup_custom_dataset_2000/6560ae36-1138-400d-a7e4-fa5c9072eccc.png',\n",
       " './dataset/sup_custom_dataset_2000/01a4c8d6-05df-4c24-b993-f1a9672507c5.png',\n",
       " './dataset/sup_custom_dataset_2000/40c671ed-dbe2-40a1-98b9-4c3d8a478029.png',\n",
       " './dataset/sup_custom_dataset_2000/gGuUN1zRpINudd2X5CgQvDfJY0E2.png',\n",
       " './dataset/sup_custom_dataset_2000/uMry1yqi5sNoykw7ySJdITMv2yT2.png',\n",
       " './dataset/sup_custom_dataset_2000/YHHZYBxPHsUWYITjtMRAixs3DX42.png',\n",
       " './dataset/sup_custom_dataset_2000/uiMtR0VGFIaO3CQ1Tl8znyjlyHF2.png',\n",
       " './dataset/sup_custom_dataset_2000/xGXFc89moWU9CnrXW68NAZaRjQH3.png',\n",
       " './dataset/sup_custom_dataset_2000/CpB4mhP3leTMxJdDG3cD3xMN2AI3.png',\n",
       " './dataset/sup_custom_dataset_2000/5ed2aa6b-867e-432f-9470-7c30bd43c231.png',\n",
       " './dataset/sup_custom_dataset_2000/175855.png',\n",
       " './dataset/sup_custom_dataset_2000/UTqsNsZQCThhJduOChbctH76Avj2.png',\n",
       " './dataset/sup_custom_dataset_2000/YEPHDMGy11bhRKUTSh5vHHfRk4K3.png',\n",
       " './dataset/sup_custom_dataset_2000/bf990e0e-bbf6-4233-8578-e77aea74a3b1.png',\n",
       " './dataset/sup_custom_dataset_2000/f1419cdc-0b76-4625-b956-e256f5379553.png',\n",
       " './dataset/sup_custom_dataset_2000/551809f9-640e-4504-9494-cfeccc94c4d0.png',\n",
       " './dataset/sup_custom_dataset_2000/8ac2ef46-05fb-4f68-bb2d-ca5b1e51ed7f.png',\n",
       " './dataset/sup_custom_dataset_2000/043490d6-0066-4403-8c73-c96accfe664b.png',\n",
       " './dataset/sup_custom_dataset_2000/14d0bd60-f0ef-421d-94c4-bca505ac0736.png',\n",
       " './dataset/sup_custom_dataset_2000/kirLJEuOWzYOWBeTC4CRHrTTRVv1.png',\n",
       " './dataset/sup_custom_dataset_2000/17584206-26c4-45db-9836-e79c6325327f.png',\n",
       " './dataset/sup_custom_dataset_2000/cedd81db-b56f-4343-aef1-375d94a1c4ca.png',\n",
       " './dataset/sup_custom_dataset_2000/143cc801-ad6d-4a0d-b1c6-c0e584e59a38.png',\n",
       " './dataset/sup_custom_dataset_2000/8e16c5b3-2585-4580-b281-041ff192cec2.png',\n",
       " './dataset/sup_custom_dataset_2000/DZmX1dGK8KdmY3WYQFuCXrVWuhk2.png',\n",
       " './dataset/sup_custom_dataset_2000/pbXQf83tO4bPFQ0UZjs9HDE7i7r1.png',\n",
       " './dataset/sup_custom_dataset_2000/nyOEOseZX2cXF7ItBTJP316eTrx2.png',\n",
       " './dataset/sup_custom_dataset_2000/5AL2X1GP3aVAAMeMPnvxOCNAQlA2.png',\n",
       " './dataset/sup_custom_dataset_2000/20c748f1-3eba-47dd-84fa-b9160e4a1ac6.png',\n",
       " './dataset/sup_custom_dataset_2000/tuu90okKDSaFMknkDxVhtWtRjEl2.png',\n",
       " './dataset/sup_custom_dataset_2000/V0Wtp76p8QaDtvEnAsgSimyMspH3.png',\n",
       " './dataset/sup_custom_dataset_2000/d014a758-b70b-4474-9de5-63f7061f95a6.png',\n",
       " './dataset/sup_custom_dataset_2000/1f4a8ca4-ff65-4b29-bc10-c1b5e2fdc0e3.png',\n",
       " './dataset/sup_custom_dataset_2000/mikiKeqF4SVTeAyZiLFsC6FpGEO2.png',\n",
       " './dataset/sup_custom_dataset_2000/121909.png',\n",
       " './dataset/sup_custom_dataset_2000/f4659577-76e9-4ec2-b298-ac2f9d52ee43.png',\n",
       " './dataset/sup_custom_dataset_2000/ya3VviewxzdRZqbLrEXsIrvilRR2.png',\n",
       " './dataset/sup_custom_dataset_2000/eW3UMx8SACOoZft0ZOLZUIVaTFb2.png',\n",
       " './dataset/sup_custom_dataset_2000/972d85b2-be7e-4fd9-a690-646bd4b42e41.png',\n",
       " './dataset/sup_custom_dataset_2000/d51b45cb-c513-41df-affa-e0762dc29d23.png',\n",
       " './dataset/sup_custom_dataset_2000/5e33d5ea-99a3-412f-9484-3b88751d3f21.png',\n",
       " './dataset/sup_custom_dataset_2000/gxy19SDvEBZdJ7ZYr2b5sS2Fxrn2.png',\n",
       " './dataset/sup_custom_dataset_2000/ZzKpUtFGzsVEK7E1wsVGRftKdx93.png',\n",
       " './dataset/sup_custom_dataset_2000/Lz3Pu5AOFbQLTA8cIqRAmjPy8qw1.png',\n",
       " './dataset/sup_custom_dataset_2000/83527.png',\n",
       " './dataset/sup_custom_dataset_2000/8f030f8a-6f0b-4e8d-8261-1652f3809daf.png',\n",
       " './dataset/sup_custom_dataset_2000/94c76d30-7331-491e-8349-69845484e4e6.png',\n",
       " './dataset/sup_custom_dataset_2000/0fed9962-4cd0-4651-9edf-11cbe48afc15.png',\n",
       " './dataset/sup_custom_dataset_2000/74c47154-dc42-4f14-8285-b5a507ef9463.png',\n",
       " './dataset/sup_custom_dataset_2000/ArKST1jJWqRPPvdCu92MyQoGs762.png',\n",
       " './dataset/sup_custom_dataset_2000/976a4837-22e1-447c-874e-2a82afee28a9.png',\n",
       " './dataset/sup_custom_dataset_2000/t6twqoKKSMOJdmehEj2gbVo6Lao2.png',\n",
       " './dataset/sup_custom_dataset_2000/Zj552DZntDTpdVbrQhp7KNVL9sC3.png',\n",
       " './dataset/sup_custom_dataset_2000/8863f114-dc1d-4881-872b-31d71512f412.png',\n",
       " './dataset/sup_custom_dataset_2000/565333b8-03ca-4baf-8ae4-5fabed8fe46a.png',\n",
       " (None, None),\n",
       " './dataset/sup_custom_dataset_2000/00c24aac-b6c8-4065-a999-079cb48fcf86.png',\n",
       " './dataset/sup_custom_dataset_2000/qSDQMZj4iqhaRUz1SvwiUqyUzKH3.png',\n",
       " './dataset/sup_custom_dataset_2000/207836.png',\n",
       " './dataset/sup_custom_dataset_2000/L4CfZQwjukPm0evQv5dI2JDH4ov1.png',\n",
       " './dataset/sup_custom_dataset_2000/118972.png',\n",
       " './dataset/sup_custom_dataset_2000/VGh9wqs8iDXHhUdrA12VtBhN1lJ3.png',\n",
       " './dataset/sup_custom_dataset_2000/d181566a-0c5a-4572-b0b8-15271e2f306f.png',\n",
       " './dataset/sup_custom_dataset_2000/bd5d4582-b6e1-4f4e-97bd-13ebc93cc681.png',\n",
       " './dataset/sup_custom_dataset_2000/aeb0c601-2736-4818-9b56-1c8445944925.png',\n",
       " './dataset/sup_custom_dataset_2000/5640507a-f9af-435e-ba59-20a970932573.png',\n",
       " './dataset/sup_custom_dataset_2000/9eac3f41-cc58-48f4-bf11-9e2bfdefa217.png',\n",
       " './dataset/sup_custom_dataset_2000/34933f10-9621-40ee-b6f3-cd539a6b66de.png',\n",
       " './dataset/sup_custom_dataset_2000/kWZfsgqkRvaNmjgcH1lKSRIwbdp1.png',\n",
       " './dataset/sup_custom_dataset_2000/89d87c56-f5db-458e-b10b-1dc2d41f7f62.png',\n",
       " './dataset/sup_custom_dataset_2000/oPLTYiEHMFTuruwTXpbRPnlz2mr1.png',\n",
       " './dataset/sup_custom_dataset_2000/gpcoorcyfuXQZxcUFTxthUKOua03.png',\n",
       " './dataset/sup_custom_dataset_2000/197408.png',\n",
       " './dataset/sup_custom_dataset_2000/OpvwYQFOschINBVkxBVeKgC0FeJ3.png',\n",
       " './dataset/sup_custom_dataset_2000/cddb375a-05e8-4451-b645-ff9470545c54.png',\n",
       " './dataset/sup_custom_dataset_2000/9810b72b-79ca-474b-9b66-41079f892c79.png',\n",
       " './dataset/sup_custom_dataset_2000/6VbC2mWfKiWVQPL1tHVmG5eCkua2.png',\n",
       " './dataset/sup_custom_dataset_2000/1eef18a6-9608-427d-addb-41a1474668f3.png',\n",
       " './dataset/sup_custom_dataset_2000/5a5dccc2-ce4e-4c4e-ab49-a0dcf6f4a2d0.png',\n",
       " './dataset/sup_custom_dataset_2000/301e6493-33f7-4579-bac4-a677a8d4ef26.png',\n",
       " './dataset/sup_custom_dataset_2000/xce3uTKiuNSSnnAWLJMorxTjHzI2.png',\n",
       " './dataset/sup_custom_dataset_2000/JeM753cUNJdIV37vCj94583kYCE2.png',\n",
       " './dataset/sup_custom_dataset_2000/LShW1854ahW9IMubCKJH9L3Kdxh2.png',\n",
       " './dataset/sup_custom_dataset_2000/101296.png',\n",
       " './dataset/sup_custom_dataset_2000/cPASvlDX0wewuwxfdbJgqqjYEH13.png',\n",
       " './dataset/sup_custom_dataset_2000/p5ZEeEq5AgbI7KMhSP9HTCXTDQ62.png',\n",
       " './dataset/sup_custom_dataset_2000/Ruz6RW2jXUVDXkYX7GsYC3hzagn1.png',\n",
       " './dataset/sup_custom_dataset_2000/e0cee608-b460-476b-8377-e59729423788.png',\n",
       " './dataset/sup_custom_dataset_2000/9cf48c60-93d6-4828-b17b-62281a24780b.png',\n",
       " './dataset/sup_custom_dataset_2000/05f3ed50-3e4c-4b68-b0c2-51b701c694d1.png',\n",
       " './dataset/sup_custom_dataset_2000/4f6e0926-013c-4991-b5b7-36b9b0d87f91.png',\n",
       " './dataset/sup_custom_dataset_2000/4gkSRZ0IWxVAOJSuVEFhQqrzIYx1.png',\n",
       " './dataset/sup_custom_dataset_2000/92517189-ee07-487e-a197-4f910a196dc3.png',\n",
       " './dataset/sup_custom_dataset_2000/1129baff-0783-418e-88c8-c8e5d7907e0c.png',\n",
       " './dataset/sup_custom_dataset_2000/6ef4a9fa-333f-4f04-8dc2-93211ee77184.png',\n",
       " './dataset/sup_custom_dataset_2000/787626c7-0f1e-4cc4-b499-e9e4f8651dfd.png',\n",
       " './dataset/sup_custom_dataset_2000/jNYjkOK2b1hQBv2w81zgW0TVhM03.png',\n",
       " './dataset/sup_custom_dataset_2000/c5b1ad0c-86da-467c-97d0-890194d82432.png',\n",
       " './dataset/sup_custom_dataset_2000/2630c8fd-2e7a-40d6-8f6f-fcb685d0db7d.png',\n",
       " './dataset/sup_custom_dataset_2000/XoXEyaVStbMpBgQXljyI59CPI4m1.png',\n",
       " './dataset/sup_custom_dataset_2000/xGXFc89moWU9CnrXW68NAZaRjQH3.png',\n",
       " './dataset/sup_custom_dataset_2000/PNSX8UstjlY1mxA69mrklK5N2i32.png',\n",
       " './dataset/sup_custom_dataset_2000/92ade611-8fc9-4155-a459-17472c59d6f3.png',\n",
       " './dataset/sup_custom_dataset_2000/4d806c59-3211-49fd-9359-5ae88a49c4d6.png',\n",
       " './dataset/sup_custom_dataset_2000/172500.png',\n",
       " './dataset/sup_custom_dataset_2000/0c00ybTdnIRUTXeg20bZjJOzhKv1.png',\n",
       " './dataset/sup_custom_dataset_2000/3a1e54a2-6ff0-4953-a1f7-0c96c4d7dfab.png',\n",
       " './dataset/sup_custom_dataset_2000/KXQDb2qDnpTQTTqx3JivfvB8zz83.png',\n",
       " './dataset/sup_custom_dataset_2000/Qxlw2hDL29g1Sb9ZQO3XDPIG5Qr1.png',\n",
       " './dataset/sup_custom_dataset_2000/UhYCvhOCn2erbzJc5faN4ek3D1I2.png',\n",
       " './dataset/sup_custom_dataset_2000/c427c509-48a6-4584-b3e1-436b3a8050ec.png',\n",
       " './dataset/sup_custom_dataset_2000/8dc51507-c198-46f1-bdb2-bcb747707a29.png',\n",
       " './dataset/sup_custom_dataset_2000/131bd120-433d-4db9-acfb-5b48c5c99f5a.png',\n",
       " './dataset/sup_custom_dataset_2000/1257af44-1b35-4758-a764-88447aaf8ba3.png',\n",
       " './dataset/sup_custom_dataset_2000/lRTZkLVfotSCNqqchfmOZo4Zc1o2.png',\n",
       " './dataset/sup_custom_dataset_2000/1ZqxuIHSzvMHY5qUirTwgQ2uq4f2.png',\n",
       " './dataset/sup_custom_dataset_2000/yncydoirUqa12tTAUAceL5zMWaK2.png',\n",
       " './dataset/sup_custom_dataset_2000/151557.png',\n",
       " './dataset/sup_custom_dataset_2000/VXBwsSJqsAdPR3wRmp76XFziA9f1.png',\n",
       " './dataset/sup_custom_dataset_2000/362e4bef-50aa-40ec-9b1d-be443beefd2f.png',\n",
       " './dataset/sup_custom_dataset_2000/LCa0jYXkxJZ7JUJC262jrqy0Zao2.png',\n",
       " './dataset/sup_custom_dataset_2000/f5afa857-e4c0-4f97-afdf-ee9ecd3a099c.png',\n",
       " './dataset/sup_custom_dataset_2000/1d02fa24-1c1f-4cdf-b6a2-5fd34ce86af4.png',\n",
       " './dataset/sup_custom_dataset_2000/a76ac993-e0b9-4a10-a9af-88d7ab382fb5.png',\n",
       " './dataset/sup_custom_dataset_2000/5nQ62bLiPbamvooxCdu7eLFCaDm1.png',\n",
       " './dataset/sup_custom_dataset_2000/40NRJEGpU9Vg2IFXcuqCQLiKLVz1.png',\n",
       " './dataset/sup_custom_dataset_2000/716360d6-6758-48ed-b8c7-a7f646ad870a.png',\n",
       " './dataset/sup_custom_dataset_2000/fLbjQYqFGzeKly7IY7b3JqKvae02.png',\n",
       " './dataset/sup_custom_dataset_2000/76682a59-1c14-44e8-93b9-f9f5f774e897.png',\n",
       " './dataset/sup_custom_dataset_2000/45b27dd8-ab91-4ee5-b998-a1346c827612.png',\n",
       " './dataset/sup_custom_dataset_2000/3bb846b3-9dcb-4e62-9ce0-2b20f04dee39.png',\n",
       " './dataset/sup_custom_dataset_2000/63c4aef9-7e1e-4761-b8df-0b072ecdfc57.png',\n",
       " './dataset/sup_custom_dataset_2000/r0XiFJDYZCMvV7xT8LowfFV3DJQ2.png',\n",
       " './dataset/sup_custom_dataset_2000/a65d7413-9779-41a1-9c03-2f0c9e1c7e13.png',\n",
       " './dataset/sup_custom_dataset_2000/e9ab96bf-bbe4-4577-b3d7-a7c4f805bf6e.png',\n",
       " './dataset/sup_custom_dataset_2000/533ee8dc-56b9-403e-95c8-0a95f8ddb31c.png',\n",
       " './dataset/sup_custom_dataset_2000/3104d5f5-7442-477c-b9f7-eec10d29b6d4.png',\n",
       " './dataset/sup_custom_dataset_2000/56bb9c91-c39a-4ee2-98fc-c188d6354d56.png',\n",
       " './dataset/sup_custom_dataset_2000/570acf17-56d0-423e-869f-38cc0360d5e7.png',\n",
       " './dataset/sup_custom_dataset_2000/fXT3tXtSwYRqFf2V66ND3RpMash1.png',\n",
       " './dataset/sup_custom_dataset_2000/meYzBgsbbHT9rLhVNx4SYzjRYjK2.png',\n",
       " './dataset/sup_custom_dataset_2000/94OSQGpJCiSuQtHifnlYyOIKL0E2.png',\n",
       " './dataset/sup_custom_dataset_2000/3aac052c-4344-4350-a877-59f8a5270b02.png',\n",
       " './dataset/sup_custom_dataset_2000/16975398-b8d6-458c-bdfb-814f65cbf5e4.png',\n",
       " './dataset/sup_custom_dataset_2000/9a6a9c92-98d7-40ed-a5d1-37377c85120c.png',\n",
       " './dataset/sup_custom_dataset_2000/Ahv0311uRogDaFFI4X22nzsNVvK2.png',\n",
       " './dataset/sup_custom_dataset_2000/58b3e9ec-3de0-4b9a-898c-d8f09cdb196c.png',\n",
       " './dataset/sup_custom_dataset_2000/G3iIP9QRHPTItOsK6lpEMd6IQKw1.png',\n",
       " './dataset/sup_custom_dataset_2000/f7a10fb3-b805-4ed0-8a93-9b0851efe78e.png',\n",
       " './dataset/sup_custom_dataset_2000/249937.png',\n",
       " './dataset/sup_custom_dataset_2000/qpCGgfO05mWt67NzsFBKWJ5ZF1U2.png',\n",
       " './dataset/sup_custom_dataset_2000/uHPhyLsj5eYghJQOYj7iXa0fyOE3.png',\n",
       " './dataset/sup_custom_dataset_2000/gdMY0DOvz8QrFltj0X4Ez0PpsHS2.png',\n",
       " './dataset/sup_custom_dataset_2000/125071.png',\n",
       " './dataset/sup_custom_dataset_2000/f54d42ad-955d-4d71-94df-66d53f05513e.png',\n",
       " './dataset/sup_custom_dataset_2000/bjLKJTRQudYoV82mLEiCmc2lyXz1.png',\n",
       " './dataset/sup_custom_dataset_2000/ce088c8b-9a5e-4510-b728-d78b96416f90.png',\n",
       " './dataset/sup_custom_dataset_2000/61261.png',\n",
       " './dataset/sup_custom_dataset_2000/e7379d6f-a445-4cc8-bda9-cfa3eacf62b1.png',\n",
       " './dataset/sup_custom_dataset_2000/249913.png',\n",
       " './dataset/sup_custom_dataset_2000/d158929e-e725-4d3f-9fb3-d0d966c2e45a.png',\n",
       " './dataset/sup_custom_dataset_2000/ItB1KcAWo8Y8Cy59mt262mXYxXU2.png',\n",
       " './dataset/sup_custom_dataset_2000/318642a7-90a0-484e-b40c-30286ae88037.png',\n",
       " './dataset/sup_custom_dataset_2000/kOBN8dMQckbYR0PtSZAxOciIcY62.png',\n",
       " './dataset/sup_custom_dataset_2000/UUzQFgPDt5cC2mL6zDlgm7LvU4r2.png',\n",
       " './dataset/sup_custom_dataset_2000/JuzR5zpE9HU3NsFabIcz4Kkp0Ag1.png',\n",
       " './dataset/sup_custom_dataset_2000/fVL3e9RKRgN2yNKT0KMNZhbal8R2.png',\n",
       " './dataset/sup_custom_dataset_2000/sPGRBmPA8SX6kBsrzS7c4zt8fsr2.png',\n",
       " './dataset/sup_custom_dataset_2000/awro2Lz4F9SgVweiUzROf1IE8GK2.png',\n",
       " './dataset/sup_custom_dataset_2000/b0ef494e-10da-4276-a7c9-cc19b2e673ad.png',\n",
       " './dataset/sup_custom_dataset_2000/2257d20e-9851-48c8-b177-056eaa7b04bc.png',\n",
       " './dataset/sup_custom_dataset_2000/mUOw8WF8tVRdTbbulKTxtqRjTXs1.png',\n",
       " './dataset/sup_custom_dataset_2000/167b1c65-40e6-4330-8dc7-d51d735ccdab.png',\n",
       " './dataset/sup_custom_dataset_2000/772bcef3-b3e5-4a23-9213-41764ca09d8d.png',\n",
       " './dataset/sup_custom_dataset_2000/9339ffaf-aa0e-4d1a-9a7a-7654035e4b44.png',\n",
       " './dataset/sup_custom_dataset_2000/xwD2G8sZ9lbeSznnXmdsgrX35473.png',\n",
       " './dataset/sup_custom_dataset_2000/bc211106-dfd5-459b-8fd7-0448bff3a2aa.png',\n",
       " './dataset/sup_custom_dataset_2000/da46a312-ce96-4de1-9093-dc28d77a46a9.png',\n",
       " './dataset/sup_custom_dataset_2000/193339.png',\n",
       " './dataset/sup_custom_dataset_2000/044625b1-6173-4e9c-b1e4-d75602628f7c.png',\n",
       " './dataset/sup_custom_dataset_2000/d44c0eca-a47f-4a9e-ad2e-9eace39fab9b.png',\n",
       " './dataset/sup_custom_dataset_2000/210540.png',\n",
       " './dataset/sup_custom_dataset_2000/k0uQAYNhiUZvHePzPoWE9wUfBNk2.png',\n",
       " './dataset/sup_custom_dataset_2000/k9c8ik6XlhbYFnHoXHqyDIQ5axe2.png',\n",
       " './dataset/sup_custom_dataset_2000/158dbe27-c9f0-4e9a-845e-0a26e1ce2ea4.png',\n",
       " './dataset/sup_custom_dataset_2000/X7NBHQKdeDODKCzXwbmKdIbjIRG2.png',\n",
       " './dataset/sup_custom_dataset_2000/BDygu23lyUbBq2NlqfzRxGoMm9B2.png',\n",
       " './dataset/sup_custom_dataset_2000/05acPS4aRGfvuOfku11Za8zve8i2.png',\n",
       " './dataset/sup_custom_dataset_2000/6c3f15de-9efd-4fc5-a06b-5cd6ea06d4da.png',\n",
       " './dataset/sup_custom_dataset_2000/61f6a828-616a-47bc-a4cb-6b7b400a3c72.png',\n",
       " './dataset/sup_custom_dataset_2000/273f3542-5341-4802-a642-0fbf1ed8f8f0.png',\n",
       " './dataset/sup_custom_dataset_2000/8020b72b-a4be-4f02-aae4-e42458be060e.png',\n",
       " './dataset/sup_custom_dataset_2000/nE9m0JsRXTYoni1nN9LpiBJJJXJ2.png',\n",
       " './dataset/sup_custom_dataset_2000/Ml6JGK0BGDYiU7CulDVQnD065BI3.png',\n",
       " './dataset/sup_custom_dataset_2000/nyOEOseZX2cXF7ItBTJP316eTrx2.png',\n",
       " './dataset/sup_custom_dataset_2000/IkdWn0v3dAU9eWzsf3rY8Dwgf0V2.png',\n",
       " './dataset/sup_custom_dataset_2000/ddjJ6wgPMRXzqByVDrLeTEVPzF32.png',\n",
       " './dataset/sup_custom_dataset_2000/b2cb680f-2b1f-4daf-824c-c83952cd639c.png',\n",
       " './dataset/sup_custom_dataset_2000/72a71561-b8bd-4fb9-9edf-1cdfdbba767a.png',\n",
       " './dataset/sup_custom_dataset_2000/x9L8LSXL39VqXt0Y00ekk3G9Gqn1.png',\n",
       " './dataset/sup_custom_dataset_2000/ecd2441a-fe87-475c-8e83-0b9f7bf69767.png',\n",
       " './dataset/sup_custom_dataset_2000/q3DEiVNvlkNAGJq8LoHEb1TVPao1.png',\n",
       " './dataset/sup_custom_dataset_2000/2TOBsGCz6ZUYjZ1DKt3C0ae2VlZ2.png',\n",
       " './dataset/sup_custom_dataset_2000/794acde1-69b2-4122-ae27-23e458f26ee1.png',\n",
       " './dataset/sup_custom_dataset_2000/911f591e-af18-4251-bab5-33bf6bcb1cc8.png',\n",
       " './dataset/sup_custom_dataset_2000/250d83bb-8008-4a92-a3a8-ec88a733f084.png',\n",
       " './dataset/sup_custom_dataset_2000/oeUYi9pKtHWMWaOPoKCjBjfOSHJ3.png',\n",
       " './dataset/sup_custom_dataset_2000/e7cb816e-6ba5-488c-a35a-fa08388f9674.png',\n",
       " './dataset/sup_custom_dataset_2000/e98950fb-5c07-4d25-ae69-0e4a59b62c7f.png',\n",
       " './dataset/sup_custom_dataset_2000/bc27716f-98a6-48ab-aaab-28706e1bd3b6.png',\n",
       " './dataset/sup_custom_dataset_2000/55467159-4392-431e-bafb-9fa17548663e.png',\n",
       " './dataset/sup_custom_dataset_2000/7240dc44-c2c7-4a09-bb78-e4297d1462ba.png',\n",
       " './dataset/sup_custom_dataset_2000/FQ9gUWPXRGc9z7Q4f3tMojFVrR82.png',\n",
       " './dataset/sup_custom_dataset_2000/128465.png',\n",
       " './dataset/sup_custom_dataset_2000/akdaeGnDlhgMKnIjAhpslMiMJO43.png',\n",
       " './dataset/sup_custom_dataset_2000/7fe32d25-c192-44a3-912a-8d85b6e0cc22.png',\n",
       " './dataset/sup_custom_dataset_2000/5FC78ahXNGa1Mc8A3X0Bfj5sHIJ2.png',\n",
       " './dataset/sup_custom_dataset_2000/YLjbjcoMy1bCh25iChGjXXTc8RK2.png',\n",
       " './dataset/sup_custom_dataset_2000/1woiacXdMmXUQiMWESqr83uk1NV2.png',\n",
       " './dataset/sup_custom_dataset_2000/6WVdsp5LDLRRfYrfiR4BU2G6wve2.png',\n",
       " './dataset/sup_custom_dataset_2000/434e8737-4273-4de2-8439-d85547cd96e7.png',\n",
       " './dataset/sup_custom_dataset_2000/a80f885f-11f7-4cf7-87c5-28c3a7b59389.png',\n",
       " './dataset/sup_custom_dataset_2000/hkALlH5TJ9Pj4tbOCoXyVPtOIBf1.png',\n",
       " './dataset/sup_custom_dataset_2000/qf3n0FsFJkfsUbOFngrrxDd5x7m1.png',\n",
       " './dataset/sup_custom_dataset_2000/G5kUP2QOpVSyjK6Q9rzblmTU9vW2.png',\n",
       " './dataset/sup_custom_dataset_2000/8ef63129-6889-4095-8e2f-562ddee8069e.png',\n",
       " './dataset/sup_custom_dataset_2000/e64e6691-4971-405f-aa90-33171535fbd3.png',\n",
       " './dataset/sup_custom_dataset_2000/ed4eecca-4cfc-41a4-80a3-a6caf8a7141e.png',\n",
       " './dataset/sup_custom_dataset_2000/RXlGfpbvnpWcbFJjFzkTBbz2G492.png',\n",
       " './dataset/sup_custom_dataset_2000/3OQBJD8fnBepqWPGQT3eTozrhLn1.png',\n",
       " './dataset/sup_custom_dataset_2000/e35b727e-5460-4f4f-9295-bd0c927b14a8.png',\n",
       " './dataset/sup_custom_dataset_2000/meYzBgsbbHT9rLhVNx4SYzjRYjK2.png',\n",
       " './dataset/sup_custom_dataset_2000/62ec6abe-2bd7-4ac1-8892-2b4ac2a8e0b4.png',\n",
       " './dataset/sup_custom_dataset_2000/ba4d2e99-5785-4644-9985-03a95dc77109.png',\n",
       " './dataset/sup_custom_dataset_2000/9e92aad2-7ca5-472e-a80a-fcfbaac380ff.png',\n",
       " './dataset/sup_custom_dataset_2000/9zO8MvWYvBMLy2y2rRFKRHb9A1r1.png',\n",
       " './dataset/sup_custom_dataset_2000/f4wYeTyCImQ0BQiwBOlScS9C2H03.png',\n",
       " './dataset/sup_custom_dataset_2000/ee50d7e8-e246-4458-951e-c87a45f39d75.png',\n",
       " './dataset/sup_custom_dataset_2000/qZEBUZAYCHhWEWXUeOGrLFhaZCW2.png',\n",
       " './dataset/sup_custom_dataset_2000/12ea0f9c-48b9-4a3e-bd3c-c39124f92067.png',\n",
       " './dataset/sup_custom_dataset_2000/2f825698-874e-4192-829c-5b65c5c55844.png',\n",
       " './dataset/sup_custom_dataset_2000/1kXfAOTvLBbCCcTBJOrHUFzARSo1.png',\n",
       " './dataset/sup_custom_dataset_2000/padi9FFWGYfPABEtWBwLQqf952s1.png',\n",
       " './dataset/sup_custom_dataset_2000/60oNWRr2WRghY5hOnlBUBAjMgjH3.png',\n",
       " './dataset/sup_custom_dataset_2000/qwN4ODyxmhSTFKJvyukaejL3Pa53.png',\n",
       " './dataset/sup_custom_dataset_2000/119120.png',\n",
       " './dataset/sup_custom_dataset_2000/13109ecd-550a-4ddb-b678-c365adef69cc.png',\n",
       " './dataset/sup_custom_dataset_2000/nHni2h50bzR6jh4FDPgY2NtVs7I2.png',\n",
       " './dataset/sup_custom_dataset_2000/05acPS4aRGfvuOfku11Za8zve8i2.png',\n",
       " './dataset/sup_custom_dataset_2000/d158afd2-d3ca-4290-92fc-d50e00de1864.png',\n",
       " './dataset/sup_custom_dataset_2000/d92b1f9c-7b5c-43e5-adb5-577bb781dada.png',\n",
       " './dataset/sup_custom_dataset_2000/Ny6G594aKENcYgURBgYJJa62ziV2.png',\n",
       " './dataset/sup_custom_dataset_2000/7e274cd1-7ec7-4b7e-b14e-afda34a0c06c.png',\n",
       " './dataset/sup_custom_dataset_2000/v0Cj73yuwacWiGqDlaVsMa1GHqd2.png',\n",
       " './dataset/sup_custom_dataset_2000/a286fb10-67fa-432e-80b1-e3f3992f4f95.png',\n",
       " './dataset/sup_custom_dataset_2000/qf3n0FsFJkfsUbOFngrrxDd5x7m1.png',\n",
       " './dataset/sup_custom_dataset_2000/4aI0r8RKKtcp2MopsUZjtA6ldKx2.png',\n",
       " './dataset/sup_custom_dataset_2000/0KSi2atlmsXNcGMfpDNzIjJSvC23.png',\n",
       " './dataset/sup_custom_dataset_2000/F349Of1rExaZ82Od6sp2jEzInKj1.png',\n",
       " './dataset/sup_custom_dataset_2000/b87c9236-9350-4047-a3d8-c4d2c5d514c1.png',\n",
       " './dataset/sup_custom_dataset_2000/b7e35a34-e316-4885-91d6-48af1df5bf93.png',\n",
       " './dataset/sup_custom_dataset_2000/7097b585-7133-41d4-a491-e02bbf701159.png',\n",
       " './dataset/sup_custom_dataset_2000/C1Jk83bZcXQM2lljEqVIr6OfMr83.png',\n",
       " './dataset/sup_custom_dataset_2000/DXIw27Fbg6PgosoH84rFPOVaQ5q2.png',\n",
       " './dataset/sup_custom_dataset_2000/03TmwzsdEBVEh35MRMbC9d0NnfI3.png',\n",
       " './dataset/sup_custom_dataset_2000/Jw7YMfwGqMX22UbHh1TTgYMTYWs1.png',\n",
       " './dataset/sup_custom_dataset_2000/3ed7e15a-96af-4ecc-9f5a-ad929daaba1d.png',\n",
       " './dataset/sup_custom_dataset_2000/99cbed89-16c3-4ad7-bdd3-64b44faad3b9.png',\n",
       " './dataset/sup_custom_dataset_2000/rjI1qyc5W6RkajiRcmde0VISAIF3.png',\n",
       " './dataset/sup_custom_dataset_2000/960336ac-2567-4136-8ee8-f8564d556822.png',\n",
       " './dataset/sup_custom_dataset_2000/Za0aCHrh7pcZrQI3Qg5JiSOl3o42.png',\n",
       " './dataset/sup_custom_dataset_2000/126113.png',\n",
       " './dataset/sup_custom_dataset_2000/9750bcff-dd70-4eb3-a20d-7bcb85dc1666.png',\n",
       " './dataset/sup_custom_dataset_2000/qvKy3g7enMOhjEGqHPtNrrrExQl2.png',\n",
       " './dataset/sup_custom_dataset_2000/92843afa-4fa4-431e-8729-81873ebcbc58.png',\n",
       " './dataset/sup_custom_dataset_2000/iS29Ewab4XQHypUcZLygL7AYH6J2.png',\n",
       " './dataset/sup_custom_dataset_2000/9697c9e0-318a-4460-be60-d69148d01863.png',\n",
       " './dataset/sup_custom_dataset_2000/8fc1ec0d-4d46-4a76-a833-68763de21df1.png',\n",
       " './dataset/sup_custom_dataset_2000/0d7a7303-fe03-40d5-85a0-fae7ece97702.png',\n",
       " './dataset/sup_custom_dataset_2000/c6a68b68-8bd1-4697-94e9-e476f45741ab.png',\n",
       " './dataset/sup_custom_dataset_2000/Y5eS0NFkNCPdRy7EFiTvm5QJ4qO2.png',\n",
       " './dataset/sup_custom_dataset_2000/QjBZv868nydJzk0ZzwgKDHSG6Q82.png',\n",
       " './dataset/sup_custom_dataset_2000/aRki58kKxnTunoM7BcLiwusqRcV2.png',\n",
       " './dataset/sup_custom_dataset_2000/bd0ef200-c833-4d47-947d-426a46d9aa74.png',\n",
       " './dataset/sup_custom_dataset_2000/0ed2682f-2b54-42c6-8e39-9faa7c76c673.png',\n",
       " './dataset/sup_custom_dataset_2000/5581d223-b1c8-4d63-936a-de4d7ac9f988.png',\n",
       " './dataset/sup_custom_dataset_2000/9a71e8d0-8023-4552-96e8-c7dcb644e057.png',\n",
       " './dataset/sup_custom_dataset_2000/6dd66c4b-efbc-4d8f-992b-29029541c98c.png',\n",
       " './dataset/sup_custom_dataset_2000/b09f5d4b-d639-4cf2-b842-87509345f116.png',\n",
       " './dataset/sup_custom_dataset_2000/X2oy68UUgdNd97dpzW1ZubPZVIC2.png',\n",
       " './dataset/sup_custom_dataset_2000/xWTTsT9hVwcXT8vPHsyivbqX3CC3.png',\n",
       " './dataset/sup_custom_dataset_2000/PfuMI67JW2h6z4MsRDegrhZ8FSH2.png',\n",
       " './dataset/sup_custom_dataset_2000/us7APpurf2OG6PGiYAvqrE4fZtQ2.png',\n",
       " './dataset/sup_custom_dataset_2000/218199.png',\n",
       " './dataset/sup_custom_dataset_2000/8016f5c6-1849-4060-94d0-ff495dbea03a.png',\n",
       " './dataset/sup_custom_dataset_2000/I9Nm8cGaL5OB4fnmDPM8HrnULVj1.png',\n",
       " './dataset/sup_custom_dataset_2000/122763.png',\n",
       " './dataset/sup_custom_dataset_2000/GGGztp5BbtgwQ7McufNdfMAvSFv1.png',\n",
       " './dataset/sup_custom_dataset_2000/db2403df-5bc7-45f8-b459-660442174ef7.png',\n",
       " './dataset/sup_custom_dataset_2000/03f8bed9-cf24-46bb-9ef4-636ae9dcd343.png',\n",
       " './dataset/sup_custom_dataset_2000/34b61b66-006f-4503-af84-c7d674aba0d0.png',\n",
       " './dataset/sup_custom_dataset_2000/b22be3a3-fe77-4f97-97ec-ca345821c9e4.png',\n",
       " './dataset/sup_custom_dataset_2000/bce79f72-4954-475b-b2cb-a264de2073c2.png',\n",
       " './dataset/sup_custom_dataset_2000/74d33247-658a-45ea-a641-5b736ee5498f.png',\n",
       " './dataset/sup_custom_dataset_2000/g9WjuKnjoYZYmLVDY86u4JIwZ333.png',\n",
       " './dataset/sup_custom_dataset_2000/b8cf1450-d14f-4ed5-af78-b949ec3d1624.png',\n",
       " './dataset/sup_custom_dataset_2000/dddb1a55-d976-40bc-ad41-cdc713623e03.png',\n",
       " './dataset/sup_custom_dataset_2000/6Or8DONUwObeo4MH2Sbtx7JTVNU2.png',\n",
       " './dataset/sup_custom_dataset_2000/10af8f78-3647-4027-9512-8ea4e6ccbbb3.png',\n",
       " './dataset/sup_custom_dataset_2000/ROuIITY6ZYQRx0FR202YGkTsmSD2.png',\n",
       " './dataset/sup_custom_dataset_2000/33ddfa92-b3f8-49c9-b4af-3944829e0eda.png',\n",
       " './dataset/sup_custom_dataset_2000/99e55cd3-f001-4c4d-98e8-c9e4e7a3410b.png',\n",
       " './dataset/sup_custom_dataset_2000/d988848b-c688-449e-9f5e-0baad666f0f0.png',\n",
       " './dataset/sup_custom_dataset_2000/999a0e83-93b8-41e0-840c-6ac6656b34cd.png',\n",
       " './dataset/sup_custom_dataset_2000/2097538d-7673-452a-bdec-2221580b4ac2.png',\n",
       " './dataset/sup_custom_dataset_2000/yfPjZBFWOihN0YDhKla7wWDoVCA2.png',\n",
       " './dataset/sup_custom_dataset_2000/FQ9gUWPXRGc9z7Q4f3tMojFVrR82.png',\n",
       " './dataset/sup_custom_dataset_2000/sSRc22AD2BNCZwcHILpCD0pbp5l2.png',\n",
       " './dataset/sup_custom_dataset_2000/88b167c6-11c9-49bf-ae60-8a05892f90e1.png',\n",
       " './dataset/sup_custom_dataset_2000/xb5Zffvkf5MqrUPju4A98njfRMy1.png',\n",
       " './dataset/sup_custom_dataset_2000/3YsglsCX5US6WkSzHZAgt5F1C1y1.png',\n",
       " './dataset/sup_custom_dataset_2000/8e6tYVdZj2btq3rYpi9zsy5VujF3.png',\n",
       " './dataset/sup_custom_dataset_2000/P1FePApIBQedglthtDiBvs3G84M2.png',\n",
       " './dataset/sup_custom_dataset_2000/39ab1e31-5954-4fb8-b613-7af2b569e298.png',\n",
       " './dataset/sup_custom_dataset_2000/aRki58kKxnTunoM7BcLiwusqRcV2.png',\n",
       " './dataset/sup_custom_dataset_2000/a74bd58c-b023-425c-a190-89ccb8c2dbdf.png',\n",
       " './dataset/sup_custom_dataset_2000/30c1f672-b086-4265-9477-bca5c3281c87.png',\n",
       " './dataset/sup_custom_dataset_2000/900e0342-6ad8-48f0-8cbc-e8f1950541df.png',\n",
       " './dataset/sup_custom_dataset_2000/l0PKph2FdVW5pGpo8cXFg6vj2DN2.png',\n",
       " './dataset/sup_custom_dataset_2000/aca2050d-3aa5-475e-b5dc-2eed5c2b82dd.png',\n",
       " './dataset/sup_custom_dataset_2000/aHcXFlBNfjUmkpgObzFFnxEI8vO2.png',\n",
       " './dataset/sup_custom_dataset_2000/klvO2ywAeFQCIy8EijybJxHNSE92.png',\n",
       " './dataset/sup_custom_dataset_2000/JLXdsKrUesSLpwUOMSqQFfYwtZ82.png',\n",
       " './dataset/sup_custom_dataset_2000/FIgw7gymskPu3RGgk3Q6GeSH7yB3.png',\n",
       " './dataset/sup_custom_dataset_2000/60JfHHIcNZUf9lCy68R1Cgl69ZN2.png',\n",
       " './dataset/sup_custom_dataset_2000/efba3cfe-cbc0-4781-a219-a50dbcb7f705.png',\n",
       " './dataset/sup_custom_dataset_2000/8XF2UFLn3Wd6dHHMdOlcGbQiMqb2.png',\n",
       " './dataset/sup_custom_dataset_2000/41ef8038-b679-44e0-85f2-da3e81e21091.png',\n",
       " './dataset/sup_custom_dataset_2000/b182ca93-73be-4953-886d-42f3da9f5ae2.png',\n",
       " './dataset/sup_custom_dataset_2000/86bb00e5-00ad-49ea-9c13-510a6816d94d.png',\n",
       " './dataset/sup_custom_dataset_2000/r3TFCPT4wJP2K891tXSFsIxAMPG3.png',\n",
       " './dataset/sup_custom_dataset_2000/bixijc4LCCRqES9K306RjUCIHsJ2.png',\n",
       " './dataset/sup_custom_dataset_2000/80b68ae5-1d22-4f65-a5d4-212249ce6513.png',\n",
       " './dataset/sup_custom_dataset_2000/97sUfTwVG5Nzd1YEOxbtrXbl4hl2.png',\n",
       " './dataset/sup_custom_dataset_2000/223103.png',\n",
       " './dataset/sup_custom_dataset_2000/5b09457c-dce5-4456-b451-b2ca20ca7204.png',\n",
       " './dataset/sup_custom_dataset_2000/b82bc0b7-120e-4975-b24a-c2f1c113136c.png',\n",
       " './dataset/sup_custom_dataset_2000/54f4e116-b38e-4dd9-9852-69091ec1bb0e.png',\n",
       " './dataset/sup_custom_dataset_2000/1iqECx2FTmg6fkTzjVIZeN7ymnH3.png',\n",
       " './dataset/sup_custom_dataset_2000/HqILRgOnPoYTBOwV923xNysDhA82.png',\n",
       " './dataset/sup_custom_dataset_2000/97392.png',\n",
       " './dataset/sup_custom_dataset_2000/179fdef4-4d4f-41f2-8047-8cf9b1d67a0d.png',\n",
       " './dataset/sup_custom_dataset_2000/YvhPqG9MqhbjHErOmOctaNdVdJZ2.png',\n",
       " './dataset/sup_custom_dataset_2000/NKfo9DcpbQeYHlZ6pHDOwRx08i72.png',\n",
       " './dataset/sup_custom_dataset_2000/OIGeFP6iMJfFUhNsVZ3NQ6bsorx2.png',\n",
       " './dataset/sup_custom_dataset_2000/7c3db21f-cc42-41d3-8789-e455ddddb577.png',\n",
       " './dataset/sup_custom_dataset_2000/PR1ZyxKH1MVEQjjCaRsghm8DrEf1.png',\n",
       " './dataset/sup_custom_dataset_2000/pqhuVm6oPbd3A4FSf5p9shz9OO02.png',\n",
       " './dataset/sup_custom_dataset_2000/1a0d7c38-e644-4c5d-9ba0-bf9bdc0bffd6.png',\n",
       " './dataset/sup_custom_dataset_2000/9Wkd6QJdpBNEosMpzYhFwZjBJX92.png',\n",
       " './dataset/sup_custom_dataset_2000/9fee1edf-ec08-4a08-87f2-26b0ad8a8bc9.png',\n",
       " './dataset/sup_custom_dataset_2000/4bd6bdb8-e239-4946-b80f-f3db9d3e86ea.png',\n",
       " './dataset/sup_custom_dataset_2000/198360.png',\n",
       " './dataset/sup_custom_dataset_2000/4mg0uaY0GYTtgo4hvP2APxs7zhL2.png',\n",
       " './dataset/sup_custom_dataset_2000/91359.png',\n",
       " './dataset/sup_custom_dataset_2000/92941e59-f142-4bd2-9639-b054656a5a52.png',\n",
       " './dataset/sup_custom_dataset_2000/0dd5e8cb-68ab-4655-ad1f-97de60121f3d.png',\n",
       " './dataset/sup_custom_dataset_2000/198321.png',\n",
       " './dataset/sup_custom_dataset_2000/n7ewrIqB7wUuK1FZGGjef18jtb52.png',\n",
       " './dataset/sup_custom_dataset_2000/104168.png',\n",
       " './dataset/sup_custom_dataset_2000/201170.png',\n",
       " './dataset/sup_custom_dataset_2000/7DfMFXPDu3W2Fxjs8w0OsLIY8em1.png',\n",
       " './dataset/sup_custom_dataset_2000/e02551e7-fbf8-4d85-bcd2-7993faf8d5aa.png',\n",
       " './dataset/sup_custom_dataset_2000/282fc595-3cce-458a-b11a-e8dd890c138c.png',\n",
       " './dataset/sup_custom_dataset_2000/214759.png',\n",
       " './dataset/sup_custom_dataset_2000/942bf8a5-16cf-4876-84ab-9a2cc125c0b0.png',\n",
       " './dataset/sup_custom_dataset_2000/79319102-5fd0-46bd-b091-017b1c0973d1.png',\n",
       " './dataset/sup_custom_dataset_2000/qkdJKHOBuAYsKvnxbLvnoJ5Dc8y2.png',\n",
       " (None, None),\n",
       " './dataset/sup_custom_dataset_2000/8b07d063-511a-4246-9e1f-461384ed687d.png',\n",
       " './dataset/sup_custom_dataset_2000/PlplsT6dnBbbDLRRXiSGU5I8Jls2.png',\n",
       " './dataset/sup_custom_dataset_2000/769bbf38-8202-48dd-aad5-abe789f7ff46.png',\n",
       " './dataset/sup_custom_dataset_2000/34595f6f-98e1-4b57-90c1-b822472050a9.png',\n",
       " './dataset/sup_custom_dataset_2000/478090b5-f194-46a2-96be-4a0ba30ad3b0.png',\n",
       " './dataset/sup_custom_dataset_2000/37713f2a-a076-4121-a258-c6d908797911.png',\n",
       " './dataset/sup_custom_dataset_2000/96e9b90f-1442-474c-8d9d-4ac18c7fbd9b.png',\n",
       " './dataset/sup_custom_dataset_2000/4c2a7718-8fd9-4e7b-8e1a-6bf45746fd3e.png',\n",
       " './dataset/sup_custom_dataset_2000/w51QbggHBvVnSSNG5tsEgScigyF3.png',\n",
       " './dataset/sup_custom_dataset_2000/EJSbChF4LfPisqLxlUqiwYU7zy83.png',\n",
       " './dataset/sup_custom_dataset_2000/be265d6b-9bc3-4499-a099-940ad4479dde.png',\n",
       " './dataset/sup_custom_dataset_2000/eu2Hm19FIUhs68KsWGAlCQ4WVc43.png',\n",
       " './dataset/sup_custom_dataset_2000/caf07708-037e-44b8-b4f9-abeb76b237f2.png',\n",
       " './dataset/sup_custom_dataset_2000/96383e1e-df5b-4359-a234-310af53b242b.png',\n",
       " './dataset/sup_custom_dataset_2000/4atnIFwUK3ZZTiWezgLwrvHHOzT2.png',\n",
       " './dataset/sup_custom_dataset_2000/UTqsNsZQCThhJduOChbctH76Avj2.png',\n",
       " './dataset/sup_custom_dataset_2000/b689a94c-70d7-4fec-a237-b5ded63ca518.png',\n",
       " './dataset/sup_custom_dataset_2000/C5eIsssb9GSkaAgIfsHMHeR6fSh1.png',\n",
       " './dataset/sup_custom_dataset_2000/75212851-c188-4a0e-9c7d-dcff9cd0953a.png',\n",
       " './dataset/sup_custom_dataset_2000/0f99b9d8-1865-4a58-a3e6-7f2a92bb4468.png',\n",
       " './dataset/sup_custom_dataset_2000/063986a3-8766-4584-aab6-06495a8cd9c4.png',\n",
       " './dataset/sup_custom_dataset_2000/260434.png',\n",
       " './dataset/sup_custom_dataset_2000/6EIX9NrJ1oWfURDgcOsxZ8j4z5o2.png',\n",
       " './dataset/sup_custom_dataset_2000/f37064cf-e924-4e51-9e13-82f2ca079a5e.png',\n",
       " './dataset/sup_custom_dataset_2000/4atnIFwUK3ZZTiWezgLwrvHHOzT2.png',\n",
       " './dataset/sup_custom_dataset_2000/RUZ93kkyD0hJ1v7awXutr6RgF943.png',\n",
       " './dataset/sup_custom_dataset_2000/493632f2-537a-4a36-a932-268a8aa59486.png',\n",
       " './dataset/sup_custom_dataset_2000/aNOpaVGqF7PiG5n1ln5B1VJnmCO2.png',\n",
       " './dataset/sup_custom_dataset_2000/un5dW3qbK1XkHtuSID6elzexvr92.png',\n",
       " './dataset/sup_custom_dataset_2000/8041002f-3f9d-4bac-80a5-6f516242e810.png',\n",
       " './dataset/sup_custom_dataset_2000/Xn3y4lqypTNVBsB1yYYkDDypizk2.png',\n",
       " './dataset/sup_custom_dataset_2000/7869b66e-5c53-42b8-8741-8e7398f78137.png',\n",
       " './dataset/sup_custom_dataset_2000/43572730-9961-4a57-b245-6b01e1b3bb54.png',\n",
       " './dataset/sup_custom_dataset_2000/jLxswjEWjZQh3Wg6Dzu5VCoPhG92.png',\n",
       " './dataset/sup_custom_dataset_2000/KcO2p01LdYga7563y95BkKII9Dh1.png',\n",
       " './dataset/sup_custom_dataset_2000/CkDhDGNX3iWEqDFJZXn9FrxPxYF3.png',\n",
       " './dataset/sup_custom_dataset_2000/pUOk49eAwAcbHBwdL3OldmF1iHd2.png',\n",
       " './dataset/sup_custom_dataset_2000/t2pbxfq394a4oOVoHrwbiUFV85G2.png',\n",
       " './dataset/sup_custom_dataset_2000/de2b1eb1-6ecb-4e39-b37d-24ed656e416d.png',\n",
       " './dataset/sup_custom_dataset_2000/L6ScULj3LRPFLYdvs8HdWpzhkdp1.png',\n",
       " './dataset/sup_custom_dataset_2000/oWBd1blxbTefqPydUAes1xlr5VJ2.png',\n",
       " './dataset/sup_custom_dataset_2000/1796e9dd-2cd1-4cce-b17f-f3ca743e54c5.png',\n",
       " './dataset/sup_custom_dataset_2000/hrxbMWssnVa3JHnqQ3CN8CE6QRE3.png',\n",
       " './dataset/sup_custom_dataset_2000/1ef3544d-a3d8-4058-af36-5d991d009276.png',\n",
       " './dataset/sup_custom_dataset_2000/ce45cd05-67dc-4531-8fb3-08eb2a81c5ce.png',\n",
       " './dataset/sup_custom_dataset_2000/EUjlCZyR0xMbOH31Je8knI3UdKO2.png',\n",
       " './dataset/sup_custom_dataset_2000/KySjVqQmk0evZBDzxtR59YHuV222.png',\n",
       " './dataset/sup_custom_dataset_2000/e242fea1-726c-4a5e-991e-5bd148776277.png',\n",
       " './dataset/sup_custom_dataset_2000/2c55bb28-a446-4758-839f-9079f630ab2f.png',\n",
       " './dataset/sup_custom_dataset_2000/aLeBZp6qmVVooQsTvP1ptnQk9IS2.png',\n",
       " './dataset/sup_custom_dataset_2000/ddf8dc2a-540e-4be7-a509-1e63544cf9f1.png',\n",
       " './dataset/sup_custom_dataset_2000/FQ9gUWPXRGc9z7Q4f3tMojFVrR82.png',\n",
       " './dataset/sup_custom_dataset_2000/0c00c8ed-66c1-45db-b61d-12bca483b220.png',\n",
       " './dataset/sup_custom_dataset_2000/47f783e7-99b8-4977-8e02-2525f14c3143.png',\n",
       " './dataset/sup_custom_dataset_2000/A6eyvPDHwBNMYFzA65XRMboV96s2.png',\n",
       " './dataset/sup_custom_dataset_2000/vn3xkK3lIdViBCa9kMj8LDOy9yV2.png',\n",
       " './dataset/sup_custom_dataset_2000/21cfe4e6-ce0a-4d6c-bba1-83ddb8b688d9.png',\n",
       " './dataset/sup_custom_dataset_2000/762864e0-bd3c-44d0-9d86-035df946b52e.png',\n",
       " './dataset/sup_custom_dataset_2000/4U5fWjzYiROaFxurdK2BCMt2IIg2.png',\n",
       " './dataset/sup_custom_dataset_2000/c9ade83e-32ff-4499-bd33-3dc57413fc39.png',\n",
       " './dataset/sup_custom_dataset_2000/Kbvj1H92OLaeQy0YWHkPGvaH0hw2.png',\n",
       " './dataset/sup_custom_dataset_2000/zhSebSRltXd69mGoGRVeYZ5eQ3l1.png',\n",
       " './dataset/sup_custom_dataset_2000/Mze07Z8CKrheFGZun75Hcgp4TH02.png',\n",
       " './dataset/sup_custom_dataset_2000/meYzBgsbbHT9rLhVNx4SYzjRYjK2.png',\n",
       " './dataset/sup_custom_dataset_2000/kDI4V7d7CNOZp3DwAK825tYAzsw2.png',\n",
       " './dataset/sup_custom_dataset_2000/zzh7tK9CrZacOddJTG9YQwCZz4f2.png',\n",
       " './dataset/sup_custom_dataset_2000/ebfbd038-2bcf-4767-b333-c252dd1f38ee.png',\n",
       " './dataset/sup_custom_dataset_2000/kDIEKjR2UaYaZ1XWRbICFlhfALs2.png',\n",
       " './dataset/sup_custom_dataset_2000/xrVSOYVRn2RTVm7arbPJztWNCoI3.png',\n",
       " './dataset/sup_custom_dataset_2000/23c0ff29-d9ad-4b7c-9520-fc88a20082d9.png',\n",
       " './dataset/sup_custom_dataset_2000/edb6dbda-90b7-4205-a68d-22e3bce68f39.png',\n",
       " './dataset/sup_custom_dataset_2000/h3Bw7lc9NfapT3IJkwjIuRI9yfa2.png',\n",
       " './dataset/sup_custom_dataset_2000/d6454c1e-2cba-4d45-948e-6414994f4c84.png',\n",
       " './dataset/sup_custom_dataset_2000/82367.png',\n",
       " './dataset/sup_custom_dataset_2000/3b917045-a264-4e3c-9a70-491e49448c36.png',\n",
       " './dataset/sup_custom_dataset_2000/72bf1cb5-9f60-40db-9666-470d6d02f02c.png',\n",
       " './dataset/sup_custom_dataset_2000/be3ea8b1-4556-488a-b14a-ade0c665f61d.png',\n",
       " './dataset/sup_custom_dataset_2000/fd7abe76-5225-4b45-aede-3e680bb95a92.png',\n",
       " './dataset/sup_custom_dataset_2000/h0XfL2JtCLb7hgupJ7lLQJ0fzgF2.png',\n",
       " './dataset/sup_custom_dataset_2000/8dac599e-589c-455c-8834-9e646e589c39.png',\n",
       " './dataset/sup_custom_dataset_2000/b445159c-9097-4082-b418-f70b52eb678f.png',\n",
       " './dataset/sup_custom_dataset_2000/rXM1xzEoPifwWHJUFngAdye7u112.png',\n",
       " './dataset/sup_custom_dataset_2000/e3a3766b-6f4a-4c72-a35e-fddb96113795.png',\n",
       " './dataset/sup_custom_dataset_2000/lJlHlD5QIlOavw5qLRHbyR18T0H2.png',\n",
       " './dataset/sup_custom_dataset_2000/cLXikKTj0Hghh6qnvuvfKaqaGFw2.png',\n",
       " './dataset/sup_custom_dataset_2000/f6d253ab-64b6-4bb0-932d-8b3ce932eb13.png',\n",
       " './dataset/sup_custom_dataset_2000/j9H4jHAjVPbnLqoO83jZVAtZ5ep2.png',\n",
       " './dataset/sup_custom_dataset_2000/GpkFX9qB33ZsvFG4HWQHkOMWjFW2.png',\n",
       " './dataset/sup_custom_dataset_2000/122104.png',\n",
       " './dataset/sup_custom_dataset_2000/vw3Nw1Gmt3WA78SHAzJwelNRduv1.png',\n",
       " './dataset/sup_custom_dataset_2000/V0Wtp76p8QaDtvEnAsgSimyMspH3.png',\n",
       " './dataset/sup_custom_dataset_2000/HmLWj3LIICf3jJshJCvZPdw7S1I2.png',\n",
       " './dataset/sup_custom_dataset_2000/c1b55ace-7c21-4190-a636-ecd036c161be.png',\n",
       " './dataset/sup_custom_dataset_2000/f202b241-9578-47f3-8210-5c524f7d3c2c.png',\n",
       " './dataset/sup_custom_dataset_2000/WBNoFWUY9MhZOfFiLvIDsfIWnSZ2.png',\n",
       " './dataset/sup_custom_dataset_2000/fMi5uNWoboXWzfIDskyLCl8HHxH3.png',\n",
       " './dataset/sup_custom_dataset_2000/57DMikLLUefbXYKeCPuxp5Wdtfr1.png',\n",
       " './dataset/sup_custom_dataset_2000/22cbd1b6-df68-4603-b282-9d4740abcc38.png',\n",
       " './dataset/sup_custom_dataset_2000/f1f18601-0c59-41f6-aeeb-bd50e2dcd174.png',\n",
       " './dataset/sup_custom_dataset_2000/204123.png',\n",
       " './dataset/sup_custom_dataset_2000/ca1994d3-1cc0-4565-9fce-63abc87e16c4.png',\n",
       " './dataset/sup_custom_dataset_2000/OK2CZltrvfZbpTWB75LWMFqxfpM2.png',\n",
       " './dataset/sup_custom_dataset_2000/xMOI1306iZMtFQ5FCNcYraYUSDA3.png',\n",
       " './dataset/sup_custom_dataset_2000/12043fd3-066a-4ce5-896c-1feecacac9fc.png',\n",
       " './dataset/sup_custom_dataset_2000/19c9c854-34c2-4b57-9de5-4d3d10b2a9b3.png',\n",
       " './dataset/sup_custom_dataset_2000/A58ps4OZgaO0Y1E5rbeUBGJAxiW2.png',\n",
       " './dataset/sup_custom_dataset_2000/370a35cf-1abe-4cae-a345-50f8832908cb.png',\n",
       " './dataset/sup_custom_dataset_2000/0991d358-62f3-47f7-8473-1257bfbb1111.png',\n",
       " (None, None),\n",
       " './dataset/sup_custom_dataset_2000/e0935ad8-2af2-4f47-a870-70fbd58e940b.png',\n",
       " './dataset/sup_custom_dataset_2000/jaaBKWGuppchj0ahnBiFzFeuBB23.png',\n",
       " './dataset/sup_custom_dataset_2000/CpB4mhP3leTMxJdDG3cD3xMN2AI3.png',\n",
       " './dataset/sup_custom_dataset_2000/1oiS7CTfV2NXbNqmYiQ9rs5toFS2.png',\n",
       " './dataset/sup_custom_dataset_2000/084f6ab1-5c65-4524-a8e0-1d68395f0f2e.png',\n",
       " './dataset/sup_custom_dataset_2000/d6f3c124-c4ea-4e58-8527-c96a110bc04b.png',\n",
       " './dataset/sup_custom_dataset_2000/6GBpxEuVACapBiyIgwQOAj1zuuy1.png',\n",
       " './dataset/sup_custom_dataset_2000/d2950f6b-303d-4ef9-84a8-a9b789cdd362.png',\n",
       " './dataset/sup_custom_dataset_2000/8be589c2-c09a-442d-a0a0-50094a73f0d5.png',\n",
       " './dataset/sup_custom_dataset_2000/00ff3842-be25-4e29-8eb7-27793a5e9fa9.png',\n",
       " './dataset/sup_custom_dataset_2000/80M2CERHxJcqnfMAjwyheSC67Ec2.png',\n",
       " './dataset/sup_custom_dataset_2000/2e387664-2be3-4608-8192-c5b0dd2ec7d8.png',\n",
       " './dataset/sup_custom_dataset_2000/35c16d47-5a2a-4a3a-8c51-3046a3295b63.png',\n",
       " './dataset/sup_custom_dataset_2000/218304.png',\n",
       " './dataset/sup_custom_dataset_2000/64e18a41-9952-48cf-a467-5fa62c01f23b.png',\n",
       " './dataset/sup_custom_dataset_2000/f2270b77-8048-4424-9f01-c09c1405c4ad.png',\n",
       " './dataset/sup_custom_dataset_2000/5bcb66a6-ed26-45fc-a0a1-c7286a01de66.png',\n",
       " './dataset/sup_custom_dataset_2000/1791.png',\n",
       " './dataset/sup_custom_dataset_2000/c1371e45-804a-42fc-a3f9-5e66d4dc0a23.png',\n",
       " './dataset/sup_custom_dataset_2000/7de30485-428f-402e-8402-54747fd97420.png',\n",
       " './dataset/sup_custom_dataset_2000/2f9c11ff-368c-433a-9a14-4da80a7fc34d.png',\n",
       " './dataset/sup_custom_dataset_2000/6e0dcc12-d6a0-4f68-95ff-f4959d73274e.png',\n",
       " './dataset/sup_custom_dataset_2000/68d25e35-8946-474c-88ff-7a452ecc57b8.png',\n",
       " './dataset/sup_custom_dataset_2000/4a01c2b3-a50e-41b6-8c1e-3706c295be34.png',\n",
       " './dataset/sup_custom_dataset_2000/26f9e573-3e23-424c-a75a-d2b1a91a575c.png',\n",
       " './dataset/sup_custom_dataset_2000/WrM6hLW3fGbGgwpWSZT9HOSU7CC3.png',\n",
       " './dataset/sup_custom_dataset_2000/c94a659b-6efb-47de-a3b2-87cd3570341c.png',\n",
       " './dataset/sup_custom_dataset_2000/KNoT33BrSIfmsHryE9UR2TgfDew1.png',\n",
       " './dataset/sup_custom_dataset_2000/a2f3af55-0c64-4b6a-af94-35566bbdcf74.png',\n",
       " './dataset/sup_custom_dataset_2000/U98J2q0NnycYzzUS2BYZpUa55X83.png',\n",
       " './dataset/sup_custom_dataset_2000/b554e6a8-2b68-4ccc-8e48-621d74f2ff75.png',\n",
       " './dataset/sup_custom_dataset_2000/EPA8c37Cb5e2aaUfisoVCzoxMnT2.png',\n",
       " './dataset/sup_custom_dataset_2000/DINJ1hI4xpQ0fcf7TsZN4pjXrol2.png',\n",
       " './dataset/sup_custom_dataset_2000/177250.png',\n",
       " './dataset/sup_custom_dataset_2000/0xsz0lbpsoVgfojvTNSAjv9dhBq1.png',\n",
       " './dataset/sup_custom_dataset_2000/60900.png',\n",
       " './dataset/sup_custom_dataset_2000/74162c82-3490-46ce-a259-715138e4a2fb.png',\n",
       " './dataset/sup_custom_dataset_2000/8f137b3a-c6a7-452b-98f5-9a955374dcc6.png',\n",
       " './dataset/sup_custom_dataset_2000/6b666c66-8dd0-4d50-9995-f576aeace101.png',\n",
       " './dataset/sup_custom_dataset_2000/A3uqqSyxT5MpzFwc0dCpiYRV4w53.png',\n",
       " './dataset/sup_custom_dataset_2000/4fb1dbb2-e13d-4c12-a5f0-2e20aa44b395.png',\n",
       " './dataset/sup_custom_dataset_2000/qRSYuXkgdobbygXanSccCsfBiSK2.png',\n",
       " './dataset/sup_custom_dataset_2000/9fa28bd4-9e0b-4328-ad7e-ff6f523eab9d.png',\n",
       " './dataset/sup_custom_dataset_2000/Gcs79sztbbauDn62MJa2xq2jrqT2.png',\n",
       " './dataset/sup_custom_dataset_2000/153057.png',\n",
       " './dataset/sup_custom_dataset_2000/dc48c4bc-8eab-4884-8c56-5e1098769c9b.png',\n",
       " './dataset/sup_custom_dataset_2000/uiMtR0VGFIaO3CQ1Tl8znyjlyHF2.png',\n",
       " './dataset/sup_custom_dataset_2000/ZTlauEp4EjMLV0LKWsxXnRopWvC3.png',\n",
       " './dataset/sup_custom_dataset_2000/bf3d464a-1266-4a2f-8338-3123a6606ddc.png',\n",
       " './dataset/sup_custom_dataset_2000/UxRRwXJtdjRZI4pgQcHHURVa33n2.png',\n",
       " './dataset/sup_custom_dataset_2000/sh8x9M4ZeXXllQvCiFENINxFf9h1.png',\n",
       " './dataset/sup_custom_dataset_2000/579d66ed-776b-4a64-a431-0eb9fcea254c.png',\n",
       " './dataset/sup_custom_dataset_2000/78637ec8-6570-4b6a-b8fd-a1610022c413.png',\n",
       " './dataset/sup_custom_dataset_2000/nPnKdupHeJQ46bqslx7STREbkXt2.png',\n",
       " './dataset/sup_custom_dataset_2000/93dfe86e-d139-4b0e-b959-3b210701bab1.png',\n",
       " './dataset/sup_custom_dataset_2000/D31ydMgq8wMpO9OOGwxpMfOp9qg1.png',\n",
       " './dataset/sup_custom_dataset_2000/e9e4d897-c787-40a4-80ee-3ec6d3eef6f6.png',\n",
       " './dataset/sup_custom_dataset_2000/08fb3344-aa00-4bb3-b07d-78066dbf9fdb.png',\n",
       " './dataset/sup_custom_dataset_2000/6dfba306-a8df-4f75-b993-291995ee3cca.png',\n",
       " './dataset/sup_custom_dataset_2000/6ec68572-ed60-49ca-8f1a-8555f6400e05.png',\n",
       " './dataset/sup_custom_dataset_2000/YR33hHou5PgrLYv2L1mLzHE4na12.png',\n",
       " './dataset/sup_custom_dataset_2000/4ck5XZzCx0XBkREVkHGzpAi1aSk1.png',\n",
       " './dataset/sup_custom_dataset_2000/ycjX7yUM4INKaJYIyQdK8FMSoe22.png',\n",
       " './dataset/sup_custom_dataset_2000/9zO8MvWYvBMLy2y2rRFKRHb9A1r1.png',\n",
       " './dataset/sup_custom_dataset_2000/1HW5boss6UZ2uPXxGDCcwiKR8gh2.png',\n",
       " './dataset/sup_custom_dataset_2000/kvrE8UiQfHO8R7NaadPtaHRLqtG3.png',\n",
       " './dataset/sup_custom_dataset_2000/8Ngu7IThNzTVZLqXDCm2BkMBSLl1.png',\n",
       " './dataset/sup_custom_dataset_2000/nQzxtyMOM3bSn98zqwBe9C7r7MI2.png',\n",
       " './dataset/sup_custom_dataset_2000/9847b91f-6368-47af-8dbc-9ba177978890.png',\n",
       " './dataset/sup_custom_dataset_2000/E3WOlLhxnnXVcE0KOFvydjAPmKH2.png',\n",
       " './dataset/sup_custom_dataset_2000/9CjIhgGiWqP4wrhOximVkQgE8tq2.png',\n",
       " './dataset/sup_custom_dataset_2000/006daa68-31b7-44ab-b0c6-7e5ef4e1ebf7.png',\n",
       " './dataset/sup_custom_dataset_2000/YiFpl4utCGTCGxQHqjYMOUgKlV63.png',\n",
       " './dataset/sup_custom_dataset_2000/7a8bbaa6-a7e3-4414-af8f-b9e191d274c3.png',\n",
       " './dataset/sup_custom_dataset_2000/zOmz0TaNdmQfF2jUFkqUKuNa80m1.png',\n",
       " './dataset/sup_custom_dataset_2000/9c7c8a21-88ed-4360-b49f-d310159317fa.png',\n",
       " './dataset/sup_custom_dataset_2000/1woiacXdMmXUQiMWESqr83uk1NV2.png',\n",
       " './dataset/sup_custom_dataset_2000/1BFTsgEVsJdltjiXvECDOi35nT53.png',\n",
       " './dataset/sup_custom_dataset_2000/3be5af36-9e52-465a-81a6-da1c60d350f5.png',\n",
       " './dataset/sup_custom_dataset_2000/b4a77f9e-b9cc-4dc6-ada3-48890a4951c4.png',\n",
       " './dataset/sup_custom_dataset_2000/a1389436-c112-475e-ba35-3cf8e663267e.png',\n",
       " './dataset/sup_custom_dataset_2000/tZ4S3CC8pvNc72VYadUYndOUlCE3.png',\n",
       " './dataset/sup_custom_dataset_2000/LShW1854ahW9IMubCKJH9L3Kdxh2.png',\n",
       " './dataset/sup_custom_dataset_2000/uHyBfROrEHMS9M9ukCOB7sCNH9I2.png',\n",
       " './dataset/sup_custom_dataset_2000/e6d21be3-e101-41cc-bc17-f470d41fcdb9.png',\n",
       " './dataset/sup_custom_dataset_2000/Id2BHKfccpS2K8eOtrXRKjBAsds1.png',\n",
       " ...]"
      ]
     },
     "execution_count": 17,
     "metadata": {},
     "output_type": "execute_result"
    }
   ],
   "source": [
    "sup_imgpaths"
   ]
  },
  {
   "cell_type": "code",
   "execution_count": 15,
   "metadata": {},
   "outputs": [],
   "source": [
    "isnone = lambda x: x != (None,None)\n",
    "sup_label  = lambda xx: 1 if xx == True else 0\n",
    "sup_cast_x = list(map(isnone,sup_imgpaths))\n",
    "sup_data_y = list(map(sup_label,sup_Data['Cough']))\n",
    "sup_data_x= [sup_imgpaths[i] for i in range(len(sup_imgpaths)) if sup_cast_x[i] == True]\n",
    "sup_data_y = [sup_data_y[i] for i in range(len(sup_imgpaths)) if sup_cast_x[i] == True]"
   ]
  },
  {
   "cell_type": "code",
   "execution_count": 16,
   "metadata": {},
   "outputs": [],
   "source": [
    "sup_indices = np.arange(len(sup_data_x))\n",
    "NUM_shuf= 5\n",
    "sup_DATA    = {i:{} for i in range(NUM_shuf)}\n",
    "\n",
    "for i in range(NUM_shuf):\n",
    "    np.random.shuffle(sup_indices)\n",
    "    sup_DATA[i]['MEL']   = [sup_data_x[i] for i in sup_indices]\n",
    "    sup_DATA[i]['LABELS']= np.array([sup_data_y[i] for i in sup_indices])"
   ]
  },
  {
   "cell_type": "code",
   "execution_count": 17,
   "metadata": {},
   "outputs": [
    {
     "data": {
      "text/plain": [
       "994"
      ]
     },
     "execution_count": 17,
     "metadata": {},
     "output_type": "execute_result"
    }
   ],
   "source": [
    "len(sup_DATA[0]['MEL'])"
   ]
  },
  {
   "cell_type": "code",
   "execution_count": 18,
   "metadata": {},
   "outputs": [],
   "source": [
    "import pickle\n",
    "pickle.dump(sup_DATA, open( \"sup_loaded_data_1000.pickle\", \"wb\" ) )"
   ]
  },
  {
   "cell_type": "code",
   "execution_count": 19,
   "metadata": {},
   "outputs": [
    {
     "name": "stderr",
     "output_type": "stream",
     "text": [
      "  0%|          | 77/30888 [00:29<3:36:53,  2.37it/s]"
     ]
    },
    {
     "name": "stdout",
     "output_type": "stream",
     "text": [
      "File cannot open\n"
     ]
    },
    {
     "name": "stderr",
     "output_type": "stream",
     "text": [
      "  1%|          | 218/30888 [01:27<3:38:10,  2.34it/s]"
     ]
    },
    {
     "name": "stdout",
     "output_type": "stream",
     "text": [
      "File cannot open\n"
     ]
    },
    {
     "name": "stderr",
     "output_type": "stream",
     "text": [
      "  1%|          | 331/30888 [02:19<5:04:26,  1.67it/s]"
     ]
    },
    {
     "name": "stdout",
     "output_type": "stream",
     "text": [
      "File cannot open\n"
     ]
    },
    {
     "name": "stderr",
     "output_type": "stream",
     "text": [
      "  1%|▏         | 390/30888 [02:49<3:35:00,  2.36it/s]"
     ]
    },
    {
     "name": "stdout",
     "output_type": "stream",
     "text": [
      "File cannot open\n"
     ]
    },
    {
     "name": "stderr",
     "output_type": "stream",
     "text": [
      "  2%|▏         | 577/30888 [04:22<4:10:52,  2.01it/s] "
     ]
    },
    {
     "name": "stdout",
     "output_type": "stream",
     "text": [
      "File cannot open\n"
     ]
    },
    {
     "name": "stderr",
     "output_type": "stream",
     "text": [
      "  2%|▏         | 758/30888 [05:50<3:46:57,  2.21it/s]"
     ]
    },
    {
     "name": "stdout",
     "output_type": "stream",
     "text": [
      "File cannot open\n"
     ]
    },
    {
     "name": "stderr",
     "output_type": "stream",
     "text": [
      "  4%|▍         | 1261/30888 [09:49<2:51:20,  2.88it/s] "
     ]
    },
    {
     "name": "stdout",
     "output_type": "stream",
     "text": [
      "File cannot open\n"
     ]
    },
    {
     "name": "stderr",
     "output_type": "stream",
     "text": [
      "  4%|▍         | 1347/30888 [10:25<3:13:33,  2.54it/s]"
     ]
    },
    {
     "name": "stdout",
     "output_type": "stream",
     "text": [
      "File cannot open\n"
     ]
    },
    {
     "name": "stderr",
     "output_type": "stream",
     "text": [
      "  5%|▍         | 1426/30888 [10:59<3:09:50,  2.59it/s]"
     ]
    },
    {
     "name": "stdout",
     "output_type": "stream",
     "text": [
      "File cannot open\n"
     ]
    },
    {
     "name": "stderr",
     "output_type": "stream",
     "text": [
      "  5%|▌         | 1600/30888 [12:16<2:04:47,  3.91it/s]"
     ]
    },
    {
     "name": "stdout",
     "output_type": "stream",
     "text": [
      "File cannot open\n",
      "File cannot open\n"
     ]
    },
    {
     "name": "stderr",
     "output_type": "stream",
     "text": [
      "  6%|▌         | 1739/30888 [13:13<3:31:55,  2.29it/s]"
     ]
    },
    {
     "name": "stdout",
     "output_type": "stream",
     "text": [
      "File cannot open\n"
     ]
    },
    {
     "name": "stderr",
     "output_type": "stream",
     "text": [
      "  6%|▌         | 1773/30888 [13:35<6:28:33,  1.25it/s] "
     ]
    },
    {
     "name": "stdout",
     "output_type": "stream",
     "text": [
      "File cannot open\n"
     ]
    },
    {
     "name": "stderr",
     "output_type": "stream",
     "text": [
      "  6%|▋         | 1938/30888 [14:54<5:49:03,  1.38it/s]"
     ]
    },
    {
     "name": "stdout",
     "output_type": "stream",
     "text": [
      "File cannot open\n"
     ]
    },
    {
     "name": "stderr",
     "output_type": "stream",
     "text": [
      "  7%|▋         | 2028/30888 [15:37<6:28:14,  1.24it/s]"
     ]
    },
    {
     "name": "stdout",
     "output_type": "stream",
     "text": [
      "File cannot open\n"
     ]
    },
    {
     "name": "stderr",
     "output_type": "stream",
     "text": [
      "  8%|▊         | 2339/30888 [17:56<2:54:19,  2.73it/s]"
     ]
    },
    {
     "name": "stdout",
     "output_type": "stream",
     "text": [
      "File cannot open\n"
     ]
    },
    {
     "name": "stderr",
     "output_type": "stream",
     "text": [
      "  8%|▊         | 2557/30888 [19:39<3:30:16,  2.25it/s] "
     ]
    },
    {
     "name": "stdout",
     "output_type": "stream",
     "text": [
      "File cannot open\n"
     ]
    },
    {
     "name": "stderr",
     "output_type": "stream",
     "text": [
      "  8%|▊         | 2569/30888 [19:47<6:54:07,  1.14it/s]"
     ]
    },
    {
     "name": "stdout",
     "output_type": "stream",
     "text": [
      "File cannot open\n"
     ]
    },
    {
     "name": "stderr",
     "output_type": "stream",
     "text": [
      " 10%|▉         | 3021/30888 [23:24<2:43:04,  2.85it/s]"
     ]
    },
    {
     "name": "stdout",
     "output_type": "stream",
     "text": [
      "File cannot open\n"
     ]
    },
    {
     "name": "stderr",
     "output_type": "stream",
     "text": [
      " 10%|▉         | 3081/30888 [23:46<2:38:04,  2.93it/s]"
     ]
    },
    {
     "name": "stdout",
     "output_type": "stream",
     "text": [
      "File cannot open\n"
     ]
    },
    {
     "name": "stderr",
     "output_type": "stream",
     "text": [
      " 10%|█         | 3183/30888 [24:34<2:58:19,  2.59it/s] "
     ]
    },
    {
     "name": "stdout",
     "output_type": "stream",
     "text": [
      "File cannot open\n"
     ]
    },
    {
     "name": "stderr",
     "output_type": "stream",
     "text": [
      " 10%|█         | 3216/30888 [24:46<2:56:12,  2.62it/s]"
     ]
    },
    {
     "name": "stdout",
     "output_type": "stream",
     "text": [
      "File cannot open\n"
     ]
    },
    {
     "name": "stderr",
     "output_type": "stream",
     "text": [
      " 11%|█         | 3333/30888 [25:34<2:02:21,  3.75it/s]"
     ]
    },
    {
     "name": "stdout",
     "output_type": "stream",
     "text": [
      "File cannot open\n"
     ]
    },
    {
     "name": "stderr",
     "output_type": "stream",
     "text": [
      " 11%|█         | 3411/30888 [26:10<2:48:14,  2.72it/s]"
     ]
    },
    {
     "name": "stdout",
     "output_type": "stream",
     "text": [
      "File cannot open\n"
     ]
    },
    {
     "name": "stderr",
     "output_type": "stream",
     "text": [
      " 11%|█         | 3417/30888 [26:12<2:53:10,  2.64it/s]"
     ]
    },
    {
     "name": "stdout",
     "output_type": "stream",
     "text": [
      "File cannot open\n"
     ]
    },
    {
     "name": "stderr",
     "output_type": "stream",
     "text": [
      " 12%|█▏        | 3828/30888 [29:00<2:44:15,  2.75it/s]"
     ]
    },
    {
     "name": "stdout",
     "output_type": "stream",
     "text": [
      "File cannot open\n"
     ]
    },
    {
     "name": "stderr",
     "output_type": "stream",
     "text": [
      " 13%|█▎        | 3865/30888 [29:15<4:02:25,  1.86it/s]"
     ]
    },
    {
     "name": "stdout",
     "output_type": "stream",
     "text": [
      "File cannot open\n"
     ]
    },
    {
     "name": "stderr",
     "output_type": "stream",
     "text": [
      " 13%|█▎        | 3909/30888 [29:35<2:11:15,  3.43it/s]"
     ]
    },
    {
     "name": "stdout",
     "output_type": "stream",
     "text": [
      "File cannot open\n"
     ]
    },
    {
     "name": "stderr",
     "output_type": "stream",
     "text": [
      " 13%|█▎        | 3996/30888 [30:17<3:55:20,  1.90it/s] "
     ]
    },
    {
     "name": "stdout",
     "output_type": "stream",
     "text": [
      "File cannot open\n"
     ]
    },
    {
     "name": "stderr",
     "output_type": "stream",
     "text": [
      " 14%|█▍        | 4313/30888 [32:20<2:29:05,  2.97it/s]"
     ]
    },
    {
     "name": "stdout",
     "output_type": "stream",
     "text": [
      "File cannot open\n"
     ]
    },
    {
     "name": "stderr",
     "output_type": "stream",
     "text": [
      " 14%|█▍        | 4317/30888 [32:21<2:09:38,  3.42it/s]"
     ]
    },
    {
     "name": "stdout",
     "output_type": "stream",
     "text": [
      "File cannot open\n"
     ]
    },
    {
     "name": "stderr",
     "output_type": "stream",
     "text": [
      " 14%|█▍        | 4364/30888 [32:41<2:26:33,  3.02it/s]"
     ]
    },
    {
     "name": "stdout",
     "output_type": "stream",
     "text": [
      "File cannot open\n"
     ]
    },
    {
     "name": "stderr",
     "output_type": "stream",
     "text": [
      " 14%|█▍        | 4473/30888 [33:23<2:40:52,  2.74it/s]"
     ]
    },
    {
     "name": "stdout",
     "output_type": "stream",
     "text": [
      "File cannot open\n"
     ]
    },
    {
     "name": "stderr",
     "output_type": "stream",
     "text": [
      " 15%|█▍        | 4529/30888 [33:45<2:51:36,  2.56it/s]"
     ]
    },
    {
     "name": "stdout",
     "output_type": "stream",
     "text": [
      "File cannot open\n"
     ]
    },
    {
     "name": "stderr",
     "output_type": "stream",
     "text": [
      " 15%|█▌        | 4647/30888 [34:27<2:12:26,  3.30it/s]"
     ]
    },
    {
     "name": "stdout",
     "output_type": "stream",
     "text": [
      "File cannot open\n"
     ]
    },
    {
     "name": "stderr",
     "output_type": "stream",
     "text": [
      " 15%|█▌        | 4663/30888 [34:34<3:13:31,  2.26it/s]"
     ]
    },
    {
     "name": "stdout",
     "output_type": "stream",
     "text": [
      "File cannot open\n"
     ]
    },
    {
     "name": "stderr",
     "output_type": "stream",
     "text": [
      "\r",
      " 15%|█▌        | 4665/30888 [34:35<2:10:05,  3.36it/s]"
     ]
    },
    {
     "name": "stdout",
     "output_type": "stream",
     "text": [
      "File cannot open\n"
     ]
    },
    {
     "name": "stderr",
     "output_type": "stream",
     "text": [
      " 16%|█▋        | 5021/30888 [37:00<2:08:53,  3.34it/s] "
     ]
    },
    {
     "name": "stdout",
     "output_type": "stream",
     "text": [
      "File cannot open\n"
     ]
    },
    {
     "name": "stderr",
     "output_type": "stream",
     "text": [
      " 18%|█▊        | 5503/30888 [40:12<3:48:31,  1.85it/s]"
     ]
    },
    {
     "name": "stdout",
     "output_type": "stream",
     "text": [
      "File cannot open\n"
     ]
    },
    {
     "name": "stderr",
     "output_type": "stream",
     "text": [
      " 19%|█▊        | 5758/30888 [41:50<3:04:22,  2.27it/s]"
     ]
    },
    {
     "name": "stdout",
     "output_type": "stream",
     "text": [
      "File cannot open\n"
     ]
    },
    {
     "name": "stderr",
     "output_type": "stream",
     "text": [
      " 19%|█▊        | 5776/30888 [41:57<2:30:55,  2.77it/s]"
     ]
    },
    {
     "name": "stdout",
     "output_type": "stream",
     "text": [
      "File cannot open\n"
     ]
    },
    {
     "name": "stderr",
     "output_type": "stream",
     "text": [
      " 19%|█▉        | 5798/30888 [42:06<3:27:50,  2.01it/s]"
     ]
    },
    {
     "name": "stdout",
     "output_type": "stream",
     "text": [
      "File cannot open\n"
     ]
    },
    {
     "name": "stderr",
     "output_type": "stream",
     "text": [
      " 19%|█▉        | 5855/30888 [42:28<1:58:49,  3.51it/s]"
     ]
    },
    {
     "name": "stdout",
     "output_type": "stream",
     "text": [
      "File cannot open\n"
     ]
    },
    {
     "name": "stderr",
     "output_type": "stream",
     "text": [
      " 20%|█▉        | 6125/30888 [44:14<3:23:10,  2.03it/s]"
     ]
    },
    {
     "name": "stdout",
     "output_type": "stream",
     "text": [
      "File cannot open\n"
     ]
    },
    {
     "name": "stderr",
     "output_type": "stream",
     "text": [
      " 20%|█▉        | 6133/30888 [44:18<3:18:30,  2.08it/s]"
     ]
    },
    {
     "name": "stdout",
     "output_type": "stream",
     "text": [
      "File cannot open\n"
     ]
    },
    {
     "name": "stderr",
     "output_type": "stream",
     "text": [
      " 20%|██        | 6330/30888 [45:40<2:57:19,  2.31it/s] "
     ]
    },
    {
     "name": "stdout",
     "output_type": "stream",
     "text": [
      "File cannot open\n"
     ]
    },
    {
     "name": "stderr",
     "output_type": "stream",
     "text": [
      " 21%|██        | 6348/30888 [45:49<3:05:41,  2.20it/s]"
     ]
    },
    {
     "name": "stdout",
     "output_type": "stream",
     "text": [
      "File cannot open\n"
     ]
    },
    {
     "name": "stderr",
     "output_type": "stream",
     "text": [
      " 21%|██        | 6450/30888 [46:27<2:20:30,  2.90it/s]"
     ]
    },
    {
     "name": "stdout",
     "output_type": "stream",
     "text": [
      "File cannot open\n"
     ]
    },
    {
     "name": "stderr",
     "output_type": "stream",
     "text": [
      " 21%|██        | 6490/30888 [46:43<2:40:30,  2.53it/s]"
     ]
    },
    {
     "name": "stdout",
     "output_type": "stream",
     "text": [
      "File cannot open\n"
     ]
    },
    {
     "name": "stderr",
     "output_type": "stream",
     "text": [
      " 21%|██        | 6509/30888 [46:49<1:42:54,  3.95it/s]"
     ]
    },
    {
     "name": "stdout",
     "output_type": "stream",
     "text": [
      "File cannot open\n"
     ]
    },
    {
     "name": "stderr",
     "output_type": "stream",
     "text": [
      " 21%|██        | 6522/30888 [46:54<2:25:52,  2.78it/s]"
     ]
    },
    {
     "name": "stdout",
     "output_type": "stream",
     "text": [
      "File cannot open\n"
     ]
    },
    {
     "name": "stderr",
     "output_type": "stream",
     "text": [
      " 21%|██▏       | 6579/30888 [47:16<2:09:30,  3.13it/s]"
     ]
    },
    {
     "name": "stdout",
     "output_type": "stream",
     "text": [
      "File cannot open\n"
     ]
    },
    {
     "name": "stderr",
     "output_type": "stream",
     "text": [
      " 21%|██▏       | 6614/30888 [47:30<3:31:03,  1.92it/s]"
     ]
    },
    {
     "name": "stdout",
     "output_type": "stream",
     "text": [
      "File cannot open\n"
     ]
    },
    {
     "name": "stderr",
     "output_type": "stream",
     "text": [
      " 22%|██▏       | 6653/30888 [47:47<3:02:06,  2.22it/s]"
     ]
    },
    {
     "name": "stdout",
     "output_type": "stream",
     "text": [
      "File cannot open\n"
     ]
    },
    {
     "name": "stderr",
     "output_type": "stream",
     "text": [
      " 22%|██▏       | 6673/30888 [47:56<4:02:21,  1.67it/s]"
     ]
    },
    {
     "name": "stdout",
     "output_type": "stream",
     "text": [
      "File cannot open\n"
     ]
    },
    {
     "name": "stderr",
     "output_type": "stream",
     "text": [
      " 22%|██▏       | 6732/30888 [48:23<2:32:55,  2.63it/s]"
     ]
    },
    {
     "name": "stdout",
     "output_type": "stream",
     "text": [
      "File cannot open\n"
     ]
    },
    {
     "name": "stderr",
     "output_type": "stream",
     "text": [
      " 22%|██▏       | 6737/30888 [48:25<2:58:18,  2.26it/s]"
     ]
    },
    {
     "name": "stdout",
     "output_type": "stream",
     "text": [
      "File cannot open\n"
     ]
    },
    {
     "name": "stderr",
     "output_type": "stream",
     "text": [
      " 22%|██▏       | 6834/30888 [49:08<2:58:53,  2.24it/s]"
     ]
    },
    {
     "name": "stdout",
     "output_type": "stream",
     "text": [
      "File cannot open\n"
     ]
    },
    {
     "name": "stderr",
     "output_type": "stream",
     "text": [
      " 23%|██▎       | 6994/30888 [50:14<2:29:15,  2.67it/s]"
     ]
    },
    {
     "name": "stdout",
     "output_type": "stream",
     "text": [
      "File cannot open\n"
     ]
    },
    {
     "name": "stderr",
     "output_type": "stream",
     "text": [
      " 23%|██▎       | 7138/30888 [51:16<2:34:36,  2.56it/s]"
     ]
    },
    {
     "name": "stdout",
     "output_type": "stream",
     "text": [
      "File cannot open\n"
     ]
    },
    {
     "name": "stderr",
     "output_type": "stream",
     "text": [
      " 23%|██▎       | 7231/30888 [51:54<2:54:18,  2.26it/s]"
     ]
    },
    {
     "name": "stdout",
     "output_type": "stream",
     "text": [
      "File cannot open\n"
     ]
    },
    {
     "name": "stderr",
     "output_type": "stream",
     "text": [
      " 23%|██▎       | 7236/30888 [51:55<2:18:44,  2.84it/s]"
     ]
    },
    {
     "name": "stdout",
     "output_type": "stream",
     "text": [
      "File cannot open\n"
     ]
    },
    {
     "name": "stderr",
     "output_type": "stream",
     "text": [
      " 25%|██▍       | 7578/30888 [54:15<1:52:46,  3.44it/s]"
     ]
    },
    {
     "name": "stdout",
     "output_type": "stream",
     "text": [
      "File cannot open\n"
     ]
    },
    {
     "name": "stderr",
     "output_type": "stream",
     "text": [
      " 25%|██▍       | 7611/30888 [54:29<2:34:57,  2.50it/s]"
     ]
    },
    {
     "name": "stdout",
     "output_type": "stream",
     "text": [
      "File cannot open\n"
     ]
    },
    {
     "name": "stderr",
     "output_type": "stream",
     "text": [
      " 25%|██▍       | 7678/30888 [54:54<1:49:19,  3.54it/s]"
     ]
    },
    {
     "name": "stdout",
     "output_type": "stream",
     "text": [
      "File cannot open\n"
     ]
    },
    {
     "name": "stderr",
     "output_type": "stream",
     "text": [
      " 26%|██▌       | 7911/30888 [56:41<2:10:14,  2.94it/s] "
     ]
    },
    {
     "name": "stdout",
     "output_type": "stream",
     "text": [
      "File cannot open\n"
     ]
    },
    {
     "name": "stderr",
     "output_type": "stream",
     "text": [
      " 27%|██▋       | 8288/30888 [59:09<2:18:03,  2.73it/s]"
     ]
    },
    {
     "name": "stdout",
     "output_type": "stream",
     "text": [
      "File cannot open\n"
     ]
    },
    {
     "name": "stderr",
     "output_type": "stream",
     "text": [
      " 27%|██▋       | 8320/30888 [59:22<2:17:25,  2.74it/s]"
     ]
    },
    {
     "name": "stdout",
     "output_type": "stream",
     "text": [
      "File cannot open\n"
     ]
    },
    {
     "name": "stderr",
     "output_type": "stream",
     "text": [
      " 28%|██▊       | 8512/30888 [1:00:38<2:13:55,  2.78it/s]"
     ]
    },
    {
     "name": "stdout",
     "output_type": "stream",
     "text": [
      "File cannot open\n"
     ]
    },
    {
     "name": "stderr",
     "output_type": "stream",
     "text": [
      " 28%|██▊       | 8517/30888 [1:00:39<1:18:22,  4.76it/s]"
     ]
    },
    {
     "name": "stdout",
     "output_type": "stream",
     "text": [
      "File cannot open\n",
      "File cannot open\n"
     ]
    },
    {
     "name": "stderr",
     "output_type": "stream",
     "text": [
      " 28%|██▊       | 8543/30888 [1:00:54<2:42:04,  2.30it/s]"
     ]
    },
    {
     "name": "stdout",
     "output_type": "stream",
     "text": [
      "File cannot open\n"
     ]
    },
    {
     "name": "stderr",
     "output_type": "stream",
     "text": [
      " 28%|██▊       | 8600/30888 [1:01:16<2:20:07,  2.65it/s]"
     ]
    },
    {
     "name": "stdout",
     "output_type": "stream",
     "text": [
      "File cannot open\n"
     ]
    },
    {
     "name": "stderr",
     "output_type": "stream",
     "text": [
      " 28%|██▊       | 8607/30888 [1:01:19<2:51:30,  2.17it/s]"
     ]
    },
    {
     "name": "stdout",
     "output_type": "stream",
     "text": [
      "File cannot open\n"
     ]
    },
    {
     "name": "stderr",
     "output_type": "stream",
     "text": [
      " 28%|██▊       | 8672/30888 [1:01:44<2:02:31,  3.02it/s]"
     ]
    },
    {
     "name": "stdout",
     "output_type": "stream",
     "text": [
      "File cannot open\n"
     ]
    },
    {
     "name": "stderr",
     "output_type": "stream",
     "text": [
      " 28%|██▊       | 8799/30888 [1:02:34<2:23:02,  2.57it/s]"
     ]
    },
    {
     "name": "stdout",
     "output_type": "stream",
     "text": [
      "File cannot open\n"
     ]
    },
    {
     "name": "stderr",
     "output_type": "stream",
     "text": [
      " 29%|██▊       | 8808/30888 [1:02:37<2:22:15,  2.59it/s]"
     ]
    },
    {
     "name": "stdout",
     "output_type": "stream",
     "text": [
      "File cannot open\n"
     ]
    },
    {
     "name": "stderr",
     "output_type": "stream",
     "text": [
      " 29%|██▊       | 8857/30888 [1:03:02<2:50:59,  2.15it/s]"
     ]
    },
    {
     "name": "stdout",
     "output_type": "stream",
     "text": [
      "File cannot open\n"
     ]
    },
    {
     "name": "stderr",
     "output_type": "stream",
     "text": [
      " 29%|██▉       | 8917/30888 [1:03:25<1:56:38,  3.14it/s]"
     ]
    },
    {
     "name": "stdout",
     "output_type": "stream",
     "text": [
      "File cannot open\n"
     ]
    },
    {
     "name": "stderr",
     "output_type": "stream",
     "text": [
      " 29%|██▉       | 8982/30888 [1:03:54<2:00:26,  3.03it/s]"
     ]
    },
    {
     "name": "stdout",
     "output_type": "stream",
     "text": [
      "File cannot open\n"
     ]
    },
    {
     "name": "stderr",
     "output_type": "stream",
     "text": [
      " 29%|██▉       | 9066/30888 [1:04:30<1:53:09,  3.21it/s]"
     ]
    },
    {
     "name": "stdout",
     "output_type": "stream",
     "text": [
      "File cannot open\n"
     ]
    },
    {
     "name": "stderr",
     "output_type": "stream",
     "text": [
      " 30%|██▉       | 9123/30888 [1:04:53<2:34:18,  2.35it/s]"
     ]
    },
    {
     "name": "stdout",
     "output_type": "stream",
     "text": [
      "File cannot open\n"
     ]
    },
    {
     "name": "stderr",
     "output_type": "stream",
     "text": [
      " 30%|███       | 9383/30888 [1:06:40<2:56:36,  2.03it/s]"
     ]
    },
    {
     "name": "stdout",
     "output_type": "stream",
     "text": [
      "File cannot open\n"
     ]
    },
    {
     "name": "stderr",
     "output_type": "stream",
     "text": [
      " 31%|███       | 9644/30888 [1:08:27<1:52:25,  3.15it/s]"
     ]
    },
    {
     "name": "stdout",
     "output_type": "stream",
     "text": [
      "File cannot open\n"
     ]
    },
    {
     "name": "stderr",
     "output_type": "stream",
     "text": [
      " 31%|███▏      | 9704/30888 [1:08:56<3:35:03,  1.64it/s]"
     ]
    },
    {
     "name": "stdout",
     "output_type": "stream",
     "text": [
      "File cannot open\n"
     ]
    },
    {
     "name": "stderr",
     "output_type": "stream",
     "text": [
      " 32%|███▏      | 9941/30888 [1:10:40<1:54:59,  3.04it/s] "
     ]
    },
    {
     "name": "stdout",
     "output_type": "stream",
     "text": [
      "File cannot open\n"
     ]
    },
    {
     "name": "stderr",
     "output_type": "stream",
     "text": [
      " 33%|███▎      | 10059/30888 [1:11:23<2:04:37,  2.79it/s]"
     ]
    },
    {
     "name": "stdout",
     "output_type": "stream",
     "text": [
      "File cannot open\n"
     ]
    },
    {
     "name": "stderr",
     "output_type": "stream",
     "text": [
      " 33%|███▎      | 10149/30888 [1:11:57<1:41:58,  3.39it/s]"
     ]
    },
    {
     "name": "stdout",
     "output_type": "stream",
     "text": [
      "File cannot open\n"
     ]
    },
    {
     "name": "stderr",
     "output_type": "stream",
     "text": [
      " 34%|███▎      | 10380/30888 [1:13:33<2:00:15,  2.84it/s]/usr/local/lib/python3.6/dist-packages/librosa/core/spectrum.py:224: UserWarning: n_fft=2048 is too small for input signal of length=1882\n",
      "  n_fft, y.shape[-1]\n",
      " 34%|███▎      | 10391/30888 [1:13:36<1:21:41,  4.18it/s]"
     ]
    },
    {
     "name": "stdout",
     "output_type": "stream",
     "text": [
      "File cannot open\n"
     ]
    },
    {
     "name": "stderr",
     "output_type": "stream",
     "text": [
      " 34%|███▍      | 10487/30888 [1:14:11<2:32:31,  2.23it/s]"
     ]
    },
    {
     "name": "stdout",
     "output_type": "stream",
     "text": [
      "File cannot open\n"
     ]
    },
    {
     "name": "stderr",
     "output_type": "stream",
     "text": [
      " 34%|███▍      | 10504/30888 [1:14:17<3:00:55,  1.88it/s]"
     ]
    },
    {
     "name": "stdout",
     "output_type": "stream",
     "text": [
      "File cannot open\n"
     ]
    },
    {
     "name": "stderr",
     "output_type": "stream",
     "text": [
      " 34%|███▍      | 10580/30888 [1:14:47<1:38:43,  3.43it/s]"
     ]
    },
    {
     "name": "stdout",
     "output_type": "stream",
     "text": [
      "File cannot open\n"
     ]
    },
    {
     "name": "stderr",
     "output_type": "stream",
     "text": [
      " 35%|███▍      | 10663/30888 [1:15:25<1:42:57,  3.27it/s]"
     ]
    },
    {
     "name": "stdout",
     "output_type": "stream",
     "text": [
      "File cannot open\n"
     ]
    },
    {
     "name": "stderr",
     "output_type": "stream",
     "text": [
      " 35%|███▍      | 10675/30888 [1:15:29<2:21:29,  2.38it/s]"
     ]
    },
    {
     "name": "stdout",
     "output_type": "stream",
     "text": [
      "File cannot open\n"
     ]
    },
    {
     "name": "stderr",
     "output_type": "stream",
     "text": [
      " 35%|███▍      | 10679/30888 [1:15:30<1:48:43,  3.10it/s]"
     ]
    },
    {
     "name": "stdout",
     "output_type": "stream",
     "text": [
      "File cannot open\n"
     ]
    },
    {
     "name": "stderr",
     "output_type": "stream",
     "text": [
      " 35%|███▍      | 10714/30888 [1:15:43<2:25:49,  2.31it/s]"
     ]
    },
    {
     "name": "stdout",
     "output_type": "stream",
     "text": [
      "File cannot open\n"
     ]
    },
    {
     "name": "stderr",
     "output_type": "stream",
     "text": [
      " 35%|███▍      | 10807/30888 [1:16:21<2:28:02,  2.26it/s]"
     ]
    },
    {
     "name": "stdout",
     "output_type": "stream",
     "text": [
      "File cannot open\n"
     ]
    },
    {
     "name": "stderr",
     "output_type": "stream",
     "text": [
      " 36%|███▌      | 10969/30888 [1:17:24<1:36:49,  3.43it/s]"
     ]
    },
    {
     "name": "stdout",
     "output_type": "stream",
     "text": [
      "File cannot open\n"
     ]
    },
    {
     "name": "stderr",
     "output_type": "stream",
     "text": [
      " 36%|███▌      | 11061/30888 [1:18:03<1:04:27,  5.13it/s]"
     ]
    },
    {
     "name": "stdout",
     "output_type": "stream",
     "text": [
      "File cannot open\n"
     ]
    },
    {
     "name": "stderr",
     "output_type": "stream",
     "text": [
      " 36%|███▌      | 11101/30888 [1:18:18<2:20:55,  2.34it/s]"
     ]
    },
    {
     "name": "stdout",
     "output_type": "stream",
     "text": [
      "File cannot open\n"
     ]
    },
    {
     "name": "stderr",
     "output_type": "stream",
     "text": [
      " 37%|███▋      | 11298/30888 [1:19:39<1:52:54,  2.89it/s]"
     ]
    },
    {
     "name": "stdout",
     "output_type": "stream",
     "text": [
      "File cannot open\n"
     ]
    },
    {
     "name": "stderr",
     "output_type": "stream",
     "text": [
      " 37%|███▋      | 11301/30888 [1:19:40<1:43:44,  3.15it/s]"
     ]
    },
    {
     "name": "stdout",
     "output_type": "stream",
     "text": [
      "File cannot open\n"
     ]
    },
    {
     "name": "stderr",
     "output_type": "stream",
     "text": [
      " 37%|███▋      | 11320/30888 [1:19:51<3:08:55,  1.73it/s]"
     ]
    },
    {
     "name": "stdout",
     "output_type": "stream",
     "text": [
      "File cannot open\n"
     ]
    },
    {
     "name": "stderr",
     "output_type": "stream",
     "text": [
      " 37%|███▋      | 11532/30888 [1:21:22<2:58:44,  1.80it/s]"
     ]
    },
    {
     "name": "stdout",
     "output_type": "stream",
     "text": [
      "File cannot open\n"
     ]
    },
    {
     "name": "stderr",
     "output_type": "stream",
     "text": [
      " 37%|███▋      | 11546/30888 [1:21:28<2:52:23,  1.87it/s]"
     ]
    },
    {
     "name": "stdout",
     "output_type": "stream",
     "text": [
      "File cannot open\n"
     ]
    },
    {
     "name": "stderr",
     "output_type": "stream",
     "text": [
      " 37%|███▋      | 11580/30888 [1:21:41<2:13:54,  2.40it/s]"
     ]
    },
    {
     "name": "stdout",
     "output_type": "stream",
     "text": [
      "File cannot open\n"
     ]
    },
    {
     "name": "stderr",
     "output_type": "stream",
     "text": [
      " 38%|███▊      | 11727/30888 [1:22:41<2:18:30,  2.31it/s]"
     ]
    },
    {
     "name": "stdout",
     "output_type": "stream",
     "text": [
      "File cannot open\n"
     ]
    },
    {
     "name": "stderr",
     "output_type": "stream",
     "text": [
      " 39%|███▊      | 11942/30888 [1:24:06<1:49:08,  2.89it/s]"
     ]
    },
    {
     "name": "stdout",
     "output_type": "stream",
     "text": [
      "File cannot open\n"
     ]
    },
    {
     "name": "stderr",
     "output_type": "stream",
     "text": [
      " 39%|███▊      | 11968/30888 [1:24:16<1:45:24,  2.99it/s]"
     ]
    },
    {
     "name": "stdout",
     "output_type": "stream",
     "text": [
      "File cannot open\n"
     ]
    },
    {
     "name": "stderr",
     "output_type": "stream",
     "text": [
      " 39%|███▉      | 12072/30888 [1:24:53<1:19:40,  3.94it/s]"
     ]
    },
    {
     "name": "stdout",
     "output_type": "stream",
     "text": [
      "File cannot open\n"
     ]
    },
    {
     "name": "stderr",
     "output_type": "stream",
     "text": [
      " 39%|███▉      | 12149/30888 [1:25:29<3:12:55,  1.62it/s]"
     ]
    },
    {
     "name": "stdout",
     "output_type": "stream",
     "text": [
      "File cannot open\n"
     ]
    },
    {
     "name": "stderr",
     "output_type": "stream",
     "text": [
      " 39%|███▉      | 12183/30888 [1:25:42<1:52:44,  2.77it/s]"
     ]
    },
    {
     "name": "stdout",
     "output_type": "stream",
     "text": [
      "File cannot open\n"
     ]
    },
    {
     "name": "stderr",
     "output_type": "stream",
     "text": [
      " 40%|███▉      | 12332/30888 [1:26:40<1:16:41,  4.03it/s]"
     ]
    },
    {
     "name": "stdout",
     "output_type": "stream",
     "text": [
      "File cannot open\n"
     ]
    },
    {
     "name": "stderr",
     "output_type": "stream",
     "text": [
      " 40%|████      | 12478/30888 [1:27:55<1:46:45,  2.87it/s] "
     ]
    },
    {
     "name": "stdout",
     "output_type": "stream",
     "text": [
      "File cannot open\n"
     ]
    },
    {
     "name": "stderr",
     "output_type": "stream",
     "text": [
      " 40%|████      | 12489/30888 [1:28:02<2:17:19,  2.23it/s]"
     ]
    },
    {
     "name": "stdout",
     "output_type": "stream",
     "text": [
      "File cannot open\n"
     ]
    },
    {
     "name": "stderr",
     "output_type": "stream",
     "text": [
      " 41%|████      | 12510/30888 [1:28:11<1:59:59,  2.55it/s]"
     ]
    },
    {
     "name": "stdout",
     "output_type": "stream",
     "text": [
      "File cannot open\n"
     ]
    },
    {
     "name": "stderr",
     "output_type": "stream",
     "text": [
      " 41%|████      | 12701/30888 [1:29:30<2:22:22,  2.13it/s]"
     ]
    },
    {
     "name": "stdout",
     "output_type": "stream",
     "text": [
      "File cannot open\n"
     ]
    },
    {
     "name": "stderr",
     "output_type": "stream",
     "text": [
      " 42%|████▏     | 12854/30888 [1:30:32<2:07:53,  2.35it/s]"
     ]
    },
    {
     "name": "stdout",
     "output_type": "stream",
     "text": [
      "File cannot open\n"
     ]
    },
    {
     "name": "stderr",
     "output_type": "stream",
     "text": [
      " 42%|████▏     | 12914/30888 [1:30:59<1:41:55,  2.94it/s]"
     ]
    },
    {
     "name": "stdout",
     "output_type": "stream",
     "text": [
      "File cannot open\n"
     ]
    },
    {
     "name": "stderr",
     "output_type": "stream",
     "text": [
      " 43%|████▎     | 13189/30888 [1:32:50<1:42:35,  2.88it/s]"
     ]
    },
    {
     "name": "stdout",
     "output_type": "stream",
     "text": [
      "File cannot open\n"
     ]
    },
    {
     "name": "stderr",
     "output_type": "stream",
     "text": [
      " 43%|████▎     | 13350/30888 [1:33:56<1:48:29,  2.69it/s]"
     ]
    },
    {
     "name": "stdout",
     "output_type": "stream",
     "text": [
      "File cannot open\n"
     ]
    },
    {
     "name": "stderr",
     "output_type": "stream",
     "text": [
      " 44%|████▍     | 13522/30888 [1:35:15<2:11:45,  2.20it/s]"
     ]
    },
    {
     "name": "stdout",
     "output_type": "stream",
     "text": [
      "File cannot open\n"
     ]
    },
    {
     "name": "stderr",
     "output_type": "stream",
     "text": [
      " 44%|████▍     | 13554/30888 [1:35:30<1:52:55,  2.56it/s]"
     ]
    },
    {
     "name": "stdout",
     "output_type": "stream",
     "text": [
      "File cannot open\n"
     ]
    },
    {
     "name": "stderr",
     "output_type": "stream",
     "text": [
      " 44%|████▍     | 13663/30888 [1:36:16<1:45:32,  2.72it/s]"
     ]
    },
    {
     "name": "stdout",
     "output_type": "stream",
     "text": [
      "File cannot open\n"
     ]
    },
    {
     "name": "stderr",
     "output_type": "stream",
     "text": [
      " 44%|████▍     | 13687/30888 [1:36:24<1:47:45,  2.66it/s]"
     ]
    },
    {
     "name": "stdout",
     "output_type": "stream",
     "text": [
      "File cannot open\n"
     ]
    },
    {
     "name": "stderr",
     "output_type": "stream",
     "text": [
      " 44%|████▍     | 13716/30888 [1:36:38<1:53:52,  2.51it/s]"
     ]
    },
    {
     "name": "stdout",
     "output_type": "stream",
     "text": [
      "File cannot open\n"
     ]
    },
    {
     "name": "stderr",
     "output_type": "stream",
     "text": [
      " 44%|████▍     | 13735/30888 [1:36:45<2:01:06,  2.36it/s]"
     ]
    },
    {
     "name": "stdout",
     "output_type": "stream",
     "text": [
      "File cannot open\n"
     ]
    },
    {
     "name": "stderr",
     "output_type": "stream",
     "text": [
      " 45%|████▌     | 13915/30888 [1:38:03<1:49:07,  2.59it/s]"
     ]
    },
    {
     "name": "stdout",
     "output_type": "stream",
     "text": [
      "File cannot open\n"
     ]
    },
    {
     "name": "stderr",
     "output_type": "stream",
     "text": [
      " 45%|████▌     | 13932/30888 [1:38:09<1:38:07,  2.88it/s]"
     ]
    },
    {
     "name": "stdout",
     "output_type": "stream",
     "text": [
      "File cannot open\n"
     ]
    },
    {
     "name": "stderr",
     "output_type": "stream",
     "text": [
      " 45%|████▌     | 14020/30888 [1:38:46<2:16:00,  2.07it/s]"
     ]
    },
    {
     "name": "stdout",
     "output_type": "stream",
     "text": [
      "File cannot open\n"
     ]
    },
    {
     "name": "stderr",
     "output_type": "stream",
     "text": [
      " 45%|████▌     | 14023/30888 [1:38:47<1:49:14,  2.57it/s]"
     ]
    },
    {
     "name": "stdout",
     "output_type": "stream",
     "text": [
      "File cannot open\n"
     ]
    },
    {
     "name": "stderr",
     "output_type": "stream",
     "text": [
      " 46%|████▌     | 14258/30888 [1:40:26<1:32:03,  3.01it/s]"
     ]
    },
    {
     "name": "stdout",
     "output_type": "stream",
     "text": [
      "File cannot open\n"
     ]
    },
    {
     "name": "stderr",
     "output_type": "stream",
     "text": [
      " 47%|████▋     | 14462/30888 [1:41:52<1:32:25,  2.96it/s]"
     ]
    },
    {
     "name": "stdout",
     "output_type": "stream",
     "text": [
      "File cannot open\n"
     ]
    },
    {
     "name": "stderr",
     "output_type": "stream",
     "text": [
      " 47%|████▋     | 14470/30888 [1:41:54<1:37:20,  2.81it/s]"
     ]
    },
    {
     "name": "stdout",
     "output_type": "stream",
     "text": [
      "File cannot open\n"
     ]
    },
    {
     "name": "stderr",
     "output_type": "stream",
     "text": [
      " 48%|████▊     | 14707/30888 [1:43:35<1:19:16,  3.40it/s]"
     ]
    },
    {
     "name": "stdout",
     "output_type": "stream",
     "text": [
      "File cannot open\n"
     ]
    },
    {
     "name": "stderr",
     "output_type": "stream",
     "text": [
      " 48%|████▊     | 14711/30888 [1:43:37<2:02:51,  2.19it/s]"
     ]
    },
    {
     "name": "stdout",
     "output_type": "stream",
     "text": [
      "File cannot open\n"
     ]
    },
    {
     "name": "stderr",
     "output_type": "stream",
     "text": [
      " 48%|████▊     | 14862/30888 [1:44:42<1:27:44,  3.04it/s]"
     ]
    },
    {
     "name": "stdout",
     "output_type": "stream",
     "text": [
      "File cannot open\n"
     ]
    },
    {
     "name": "stderr",
     "output_type": "stream",
     "text": [
      " 48%|████▊     | 14870/30888 [1:44:46<2:29:52,  1.78it/s]"
     ]
    },
    {
     "name": "stdout",
     "output_type": "stream",
     "text": [
      "File cannot open\n"
     ]
    },
    {
     "name": "stderr",
     "output_type": "stream",
     "text": [
      " 49%|████▊     | 15001/30888 [1:45:45<1:41:55,  2.60it/s]"
     ]
    },
    {
     "name": "stdout",
     "output_type": "stream",
     "text": [
      "File cannot open\n"
     ]
    },
    {
     "name": "stderr",
     "output_type": "stream",
     "text": [
      " 49%|████▊     | 15020/30888 [1:45:53<1:32:17,  2.87it/s]"
     ]
    },
    {
     "name": "stdout",
     "output_type": "stream",
     "text": [
      "File cannot open\n"
     ]
    },
    {
     "name": "stderr",
     "output_type": "stream",
     "text": [
      " 49%|████▉     | 15133/30888 [1:46:42<1:53:23,  2.32it/s]"
     ]
    },
    {
     "name": "stdout",
     "output_type": "stream",
     "text": [
      "File cannot open\n"
     ]
    },
    {
     "name": "stderr",
     "output_type": "stream",
     "text": [
      " 49%|████▉     | 15170/30888 [1:47:00<1:37:37,  2.68it/s]"
     ]
    },
    {
     "name": "stdout",
     "output_type": "stream",
     "text": [
      "File cannot open\n"
     ]
    },
    {
     "name": "stderr",
     "output_type": "stream",
     "text": [
      " 50%|████▉     | 15368/30888 [1:48:32<1:32:31,  2.80it/s]"
     ]
    },
    {
     "name": "stdout",
     "output_type": "stream",
     "text": [
      "File cannot open\n"
     ]
    },
    {
     "name": "stderr",
     "output_type": "stream",
     "text": [
      " 50%|█████     | 15574/30888 [1:50:37<1:40:39,  2.54it/s] "
     ]
    },
    {
     "name": "stdout",
     "output_type": "stream",
     "text": [
      "File cannot open\n"
     ]
    },
    {
     "name": "stderr",
     "output_type": "stream",
     "text": [
      " 50%|█████     | 15591/30888 [1:50:46<1:56:34,  2.19it/s]"
     ]
    },
    {
     "name": "stdout",
     "output_type": "stream",
     "text": [
      "File cannot open\n"
     ]
    },
    {
     "name": "stderr",
     "output_type": "stream",
     "text": [
      " 50%|█████     | 15595/30888 [1:50:48<1:30:52,  2.80it/s]"
     ]
    },
    {
     "name": "stdout",
     "output_type": "stream",
     "text": [
      "File cannot open\n"
     ]
    },
    {
     "name": "stderr",
     "output_type": "stream",
     "text": [
      " 52%|█████▏    | 15945/30888 [1:53:41<2:07:21,  1.96it/s]"
     ]
    },
    {
     "name": "stdout",
     "output_type": "stream",
     "text": [
      "File cannot open\n"
     ]
    },
    {
     "name": "stderr",
     "output_type": "stream",
     "text": [
      " 52%|█████▏    | 16092/30888 [1:54:56<2:59:06,  1.38it/s]"
     ]
    },
    {
     "name": "stdout",
     "output_type": "stream",
     "text": [
      "File cannot open\n"
     ]
    },
    {
     "name": "stderr",
     "output_type": "stream",
     "text": [
      " 53%|█████▎    | 16263/30888 [1:56:23<1:40:32,  2.42it/s]"
     ]
    },
    {
     "name": "stdout",
     "output_type": "stream",
     "text": [
      "File cannot open\n"
     ]
    },
    {
     "name": "stderr",
     "output_type": "stream",
     "text": [
      " 53%|█████▎    | 16377/30888 [1:57:23<1:28:42,  2.73it/s]"
     ]
    },
    {
     "name": "stdout",
     "output_type": "stream",
     "text": [
      "File cannot open\n"
     ]
    },
    {
     "name": "stderr",
     "output_type": "stream",
     "text": [
      " 53%|█████▎    | 16382/30888 [1:57:25<1:45:13,  2.30it/s]"
     ]
    },
    {
     "name": "stdout",
     "output_type": "stream",
     "text": [
      "File cannot open\n"
     ]
    },
    {
     "name": "stderr",
     "output_type": "stream",
     "text": [
      " 53%|█████▎    | 16391/30888 [1:57:28<1:35:23,  2.53it/s]"
     ]
    },
    {
     "name": "stdout",
     "output_type": "stream",
     "text": [
      "File cannot open\n"
     ]
    },
    {
     "name": "stderr",
     "output_type": "stream",
     "text": [
      " 53%|█████▎    | 16482/30888 [1:58:11<1:37:37,  2.46it/s]"
     ]
    },
    {
     "name": "stdout",
     "output_type": "stream",
     "text": [
      "File cannot open\n"
     ]
    },
    {
     "name": "stderr",
     "output_type": "stream",
     "text": [
      " 53%|█████▎    | 16512/30888 [1:58:30<1:52:21,  2.13it/s]"
     ]
    },
    {
     "name": "stdout",
     "output_type": "stream",
     "text": [
      "File cannot open\n"
     ]
    },
    {
     "name": "stderr",
     "output_type": "stream",
     "text": [
      " 54%|█████▍    | 16637/30888 [1:59:38<2:01:23,  1.96it/s]"
     ]
    },
    {
     "name": "stdout",
     "output_type": "stream",
     "text": [
      "File cannot open\n"
     ]
    },
    {
     "name": "stderr",
     "output_type": "stream",
     "text": [
      " 55%|█████▍    | 16977/30888 [2:02:27<2:17:25,  1.69it/s]"
     ]
    },
    {
     "name": "stdout",
     "output_type": "stream",
     "text": [
      "File cannot open\n"
     ]
    },
    {
     "name": "stderr",
     "output_type": "stream",
     "text": [
      " 56%|█████▌    | 17213/30888 [2:04:20<2:26:05,  1.56it/s]"
     ]
    },
    {
     "name": "stdout",
     "output_type": "stream",
     "text": [
      "File cannot open\n"
     ]
    },
    {
     "name": "stderr",
     "output_type": "stream",
     "text": [
      " 56%|█████▌    | 17361/30888 [2:05:30<1:33:41,  2.41it/s]"
     ]
    },
    {
     "name": "stdout",
     "output_type": "stream",
     "text": [
      "File cannot open\n"
     ]
    },
    {
     "name": "stderr",
     "output_type": "stream",
     "text": [
      " 56%|█████▋    | 17375/30888 [2:05:35<1:58:49,  1.90it/s]"
     ]
    },
    {
     "name": "stdout",
     "output_type": "stream",
     "text": [
      "File cannot open\n"
     ]
    },
    {
     "name": "stderr",
     "output_type": "stream",
     "text": [
      " 57%|█████▋    | 17617/30888 [2:07:24<1:30:50,  2.43it/s]"
     ]
    },
    {
     "name": "stdout",
     "output_type": "stream",
     "text": [
      "File cannot open\n"
     ]
    },
    {
     "name": "stderr",
     "output_type": "stream",
     "text": [
      " 58%|█████▊    | 17832/30888 [2:09:12<3:10:12,  1.14it/s]"
     ]
    },
    {
     "name": "stdout",
     "output_type": "stream",
     "text": [
      "File cannot open\n"
     ]
    },
    {
     "name": "stderr",
     "output_type": "stream",
     "text": [
      " 58%|█████▊    | 17873/30888 [2:09:30<1:36:54,  2.24it/s]"
     ]
    },
    {
     "name": "stdout",
     "output_type": "stream",
     "text": [
      "File cannot open\n"
     ]
    },
    {
     "name": "stderr",
     "output_type": "stream",
     "text": [
      " 59%|█████▊    | 18083/30888 [2:10:56<57:29,  3.71it/s]  "
     ]
    },
    {
     "name": "stdout",
     "output_type": "stream",
     "text": [
      "File cannot open\n"
     ]
    },
    {
     "name": "stderr",
     "output_type": "stream",
     "text": [
      " 59%|█████▊    | 18090/30888 [2:10:59<1:10:50,  3.01it/s]"
     ]
    },
    {
     "name": "stdout",
     "output_type": "stream",
     "text": [
      "File cannot open\n"
     ]
    },
    {
     "name": "stderr",
     "output_type": "stream",
     "text": [
      " 59%|█████▉    | 18372/30888 [2:13:01<1:03:03,  3.31it/s]"
     ]
    },
    {
     "name": "stdout",
     "output_type": "stream",
     "text": [
      "File cannot open\n"
     ]
    },
    {
     "name": "stderr",
     "output_type": "stream",
     "text": [
      " 60%|██████    | 18553/30888 [2:14:22<1:53:58,  1.80it/s]"
     ]
    },
    {
     "name": "stdout",
     "output_type": "stream",
     "text": [
      "File cannot open\n"
     ]
    },
    {
     "name": "stderr",
     "output_type": "stream",
     "text": [
      " 60%|██████    | 18558/30888 [2:14:24<1:32:31,  2.22it/s]"
     ]
    },
    {
     "name": "stdout",
     "output_type": "stream",
     "text": [
      "File cannot open\n"
     ]
    },
    {
     "name": "stderr",
     "output_type": "stream",
     "text": [
      " 60%|██████    | 18660/30888 [2:15:18<1:15:49,  2.69it/s]"
     ]
    },
    {
     "name": "stdout",
     "output_type": "stream",
     "text": [
      "File cannot open\n"
     ]
    },
    {
     "name": "stderr",
     "output_type": "stream",
     "text": [
      " 60%|██████    | 18671/30888 [2:15:22<1:51:25,  1.83it/s]"
     ]
    },
    {
     "name": "stdout",
     "output_type": "stream",
     "text": [
      "File cannot open\n"
     ]
    },
    {
     "name": "stderr",
     "output_type": "stream",
     "text": [
      " 62%|██████▏   | 19123/30888 [2:19:00<1:28:39,  2.21it/s]"
     ]
    },
    {
     "name": "stdout",
     "output_type": "stream",
     "text": [
      "File cannot open\n"
     ]
    },
    {
     "name": "stderr",
     "output_type": "stream",
     "text": [
      " 63%|██████▎   | 19357/30888 [2:20:52<1:25:04,  2.26it/s]"
     ]
    },
    {
     "name": "stdout",
     "output_type": "stream",
     "text": [
      "File cannot open\n"
     ]
    },
    {
     "name": "stderr",
     "output_type": "stream",
     "text": [
      " 64%|██████▍   | 19702/30888 [2:24:08<1:30:30,  2.06it/s] "
     ]
    },
    {
     "name": "stdout",
     "output_type": "stream",
     "text": [
      "File cannot open\n"
     ]
    },
    {
     "name": "stderr",
     "output_type": "stream",
     "text": [
      " 64%|██████▍   | 19728/30888 [2:24:18<1:14:13,  2.51it/s]"
     ]
    },
    {
     "name": "stdout",
     "output_type": "stream",
     "text": [
      "File cannot open\n"
     ]
    },
    {
     "name": "stderr",
     "output_type": "stream",
     "text": [
      " 64%|██████▍   | 19879/30888 [2:25:51<1:03:53,  2.87it/s]"
     ]
    },
    {
     "name": "stdout",
     "output_type": "stream",
     "text": [
      "File cannot open\n"
     ]
    },
    {
     "name": "stderr",
     "output_type": "stream",
     "text": [
      " 65%|██████▍   | 19972/30888 [2:26:41<1:53:09,  1.61it/s]"
     ]
    },
    {
     "name": "stdout",
     "output_type": "stream",
     "text": [
      "File cannot open\n"
     ]
    },
    {
     "name": "stderr",
     "output_type": "stream",
     "text": [
      " 66%|██████▌   | 20392/30888 [2:30:30<1:02:16,  2.81it/s]"
     ]
    },
    {
     "name": "stdout",
     "output_type": "stream",
     "text": [
      "File cannot open\n"
     ]
    },
    {
     "name": "stderr",
     "output_type": "stream",
     "text": [
      " 66%|██████▋   | 20518/30888 [2:31:45<1:09:22,  2.49it/s]"
     ]
    },
    {
     "name": "stdout",
     "output_type": "stream",
     "text": [
      "File cannot open\n"
     ]
    },
    {
     "name": "stderr",
     "output_type": "stream",
     "text": [
      " 67%|██████▋   | 20723/30888 [2:33:30<1:12:27,  2.34it/s]"
     ]
    },
    {
     "name": "stdout",
     "output_type": "stream",
     "text": [
      "File cannot open\n"
     ]
    },
    {
     "name": "stderr",
     "output_type": "stream",
     "text": [
      " 68%|██████▊   | 21053/30888 [2:36:13<1:13:39,  2.23it/s]"
     ]
    },
    {
     "name": "stdout",
     "output_type": "stream",
     "text": [
      "File cannot open\n"
     ]
    },
    {
     "name": "stderr",
     "output_type": "stream",
     "text": [
      " 68%|██████▊   | 21134/30888 [2:36:47<1:06:01,  2.46it/s]"
     ]
    },
    {
     "name": "stdout",
     "output_type": "stream",
     "text": [
      "File cannot open\n"
     ]
    },
    {
     "name": "stderr",
     "output_type": "stream",
     "text": [
      " 69%|██████▉   | 21459/30888 [2:39:05<1:11:56,  2.18it/s]"
     ]
    },
    {
     "name": "stdout",
     "output_type": "stream",
     "text": [
      "File cannot open\n"
     ]
    },
    {
     "name": "stderr",
     "output_type": "stream",
     "text": [
      " 70%|██████▉   | 21562/30888 [2:39:49<52:31,  2.96it/s]  "
     ]
    },
    {
     "name": "stdout",
     "output_type": "stream",
     "text": [
      "File cannot open\n"
     ]
    },
    {
     "name": "stderr",
     "output_type": "stream",
     "text": [
      " 72%|███████▏  | 22301/30888 [2:45:04<1:08:50,  2.08it/s]"
     ]
    },
    {
     "name": "stdout",
     "output_type": "stream",
     "text": [
      "File cannot open\n"
     ]
    },
    {
     "name": "stderr",
     "output_type": "stream",
     "text": [
      " 72%|███████▏  | 22360/30888 [2:45:25<56:35,  2.51it/s]  "
     ]
    },
    {
     "name": "stdout",
     "output_type": "stream",
     "text": [
      "File cannot open\n"
     ]
    },
    {
     "name": "stderr",
     "output_type": "stream",
     "text": [
      " 73%|███████▎  | 22423/30888 [2:45:57<1:10:50,  1.99it/s]"
     ]
    },
    {
     "name": "stdout",
     "output_type": "stream",
     "text": [
      "File cannot open\n"
     ]
    },
    {
     "name": "stderr",
     "output_type": "stream",
     "text": [
      " 73%|███████▎  | 22461/30888 [2:46:17<55:33,  2.53it/s]  "
     ]
    },
    {
     "name": "stdout",
     "output_type": "stream",
     "text": [
      "File cannot open\n"
     ]
    },
    {
     "name": "stderr",
     "output_type": "stream",
     "text": [
      " 73%|███████▎  | 22545/30888 [2:46:48<44:00,  3.16it/s]  "
     ]
    },
    {
     "name": "stdout",
     "output_type": "stream",
     "text": [
      "File cannot open\n"
     ]
    },
    {
     "name": "stderr",
     "output_type": "stream",
     "text": [
      " 73%|███████▎  | 22618/30888 [2:47:16<35:30,  3.88it/s]  "
     ]
    },
    {
     "name": "stdout",
     "output_type": "stream",
     "text": [
      "File cannot open\n"
     ]
    },
    {
     "name": "stderr",
     "output_type": "stream",
     "text": [
      " 73%|███████▎  | 22626/30888 [2:47:18<46:09,  2.98it/s]"
     ]
    },
    {
     "name": "stdout",
     "output_type": "stream",
     "text": [
      "File cannot open\n"
     ]
    },
    {
     "name": "stderr",
     "output_type": "stream",
     "text": [
      " 74%|███████▎  | 22709/30888 [2:47:55<57:09,  2.38it/s]  "
     ]
    },
    {
     "name": "stdout",
     "output_type": "stream",
     "text": [
      "File cannot open\n"
     ]
    },
    {
     "name": "stderr",
     "output_type": "stream",
     "text": [
      " 74%|███████▎  | 22743/30888 [2:48:10<1:17:04,  1.76it/s]"
     ]
    },
    {
     "name": "stdout",
     "output_type": "stream",
     "text": [
      "File cannot open\n"
     ]
    },
    {
     "name": "stderr",
     "output_type": "stream",
     "text": [
      " 75%|███████▍  | 23140/30888 [2:50:55<45:38,  2.83it/s]  "
     ]
    },
    {
     "name": "stdout",
     "output_type": "stream",
     "text": [
      "File cannot open\n"
     ]
    },
    {
     "name": "stderr",
     "output_type": "stream",
     "text": [
      " 76%|███████▌  | 23358/30888 [2:52:21<43:26,  2.89it/s]  "
     ]
    },
    {
     "name": "stdout",
     "output_type": "stream",
     "text": [
      "File cannot open\n"
     ]
    },
    {
     "name": "stderr",
     "output_type": "stream",
     "text": [
      " 76%|███████▌  | 23367/30888 [2:52:23<43:43,  2.87it/s]"
     ]
    },
    {
     "name": "stdout",
     "output_type": "stream",
     "text": [
      "File cannot open\n"
     ]
    },
    {
     "name": "stderr",
     "output_type": "stream",
     "text": [
      " 76%|███████▌  | 23525/30888 [2:53:32<41:43,  2.94it/s]  "
     ]
    },
    {
     "name": "stdout",
     "output_type": "stream",
     "text": [
      "File cannot open\n"
     ]
    },
    {
     "name": "stderr",
     "output_type": "stream",
     "text": [
      " 76%|███████▌  | 23542/30888 [2:53:38<45:33,  2.69it/s]"
     ]
    },
    {
     "name": "stdout",
     "output_type": "stream",
     "text": [
      "File cannot open\n"
     ]
    },
    {
     "name": "stderr",
     "output_type": "stream",
     "text": [
      "\r",
      " 76%|███████▌  | 23544/30888 [2:53:38<33:47,  3.62it/s]"
     ]
    },
    {
     "name": "stdout",
     "output_type": "stream",
     "text": [
      "File cannot open\n"
     ]
    },
    {
     "name": "stderr",
     "output_type": "stream",
     "text": [
      " 77%|███████▋  | 23825/30888 [2:55:40<41:43,  2.82it/s]  "
     ]
    },
    {
     "name": "stdout",
     "output_type": "stream",
     "text": [
      "File cannot open\n"
     ]
    },
    {
     "name": "stderr",
     "output_type": "stream",
     "text": [
      " 77%|███████▋  | 23831/30888 [2:55:43<1:06:35,  1.77it/s]"
     ]
    },
    {
     "name": "stdout",
     "output_type": "stream",
     "text": [
      "File cannot open\n"
     ]
    },
    {
     "name": "stderr",
     "output_type": "stream",
     "text": [
      " 77%|███████▋  | 23834/30888 [2:55:45<1:19:04,  1.49it/s]"
     ]
    },
    {
     "name": "stdout",
     "output_type": "stream",
     "text": [
      "File cannot open\n"
     ]
    },
    {
     "name": "stderr",
     "output_type": "stream",
     "text": [
      " 78%|███████▊  | 24132/30888 [2:57:46<41:17,  2.73it/s]  "
     ]
    },
    {
     "name": "stdout",
     "output_type": "stream",
     "text": [
      "File cannot open\n"
     ]
    },
    {
     "name": "stderr",
     "output_type": "stream",
     "text": [
      " 79%|███████▊  | 24295/30888 [2:58:56<37:10,  2.96it/s]  "
     ]
    },
    {
     "name": "stdout",
     "output_type": "stream",
     "text": [
      "File cannot open\n"
     ]
    },
    {
     "name": "stderr",
     "output_type": "stream",
     "text": [
      " 80%|███████▉  | 24609/30888 [3:01:31<44:12,  2.37it/s]   "
     ]
    },
    {
     "name": "stdout",
     "output_type": "stream",
     "text": [
      "File cannot open\n"
     ]
    },
    {
     "name": "stderr",
     "output_type": "stream",
     "text": [
      " 80%|████████  | 24729/30888 [3:02:17<48:49,  2.10it/s]  "
     ]
    },
    {
     "name": "stdout",
     "output_type": "stream",
     "text": [
      "File cannot open\n"
     ]
    },
    {
     "name": "stderr",
     "output_type": "stream",
     "text": [
      " 81%|████████  | 24958/30888 [3:03:55<32:55,  3.00it/s]  "
     ]
    },
    {
     "name": "stdout",
     "output_type": "stream",
     "text": [
      "File cannot open\n"
     ]
    },
    {
     "name": "stderr",
     "output_type": "stream",
     "text": [
      " 81%|████████  | 25048/30888 [3:04:33<1:27:06,  1.12it/s]"
     ]
    },
    {
     "name": "stdout",
     "output_type": "stream",
     "text": [
      "File cannot open\n"
     ]
    },
    {
     "name": "stderr",
     "output_type": "stream",
     "text": [
      " 82%|████████▏ | 25465/30888 [3:07:29<34:54,  2.59it/s]  "
     ]
    },
    {
     "name": "stdout",
     "output_type": "stream",
     "text": [
      "File cannot open\n"
     ]
    },
    {
     "name": "stderr",
     "output_type": "stream",
     "text": [
      " 84%|████████▎ | 25832/30888 [3:10:08<34:14,  2.46it/s]  "
     ]
    },
    {
     "name": "stdout",
     "output_type": "stream",
     "text": [
      "File cannot open\n"
     ]
    },
    {
     "name": "stderr",
     "output_type": "stream",
     "text": [
      " 85%|████████▍ | 26177/30888 [3:12:27<17:32,  4.48it/s]  "
     ]
    },
    {
     "name": "stdout",
     "output_type": "stream",
     "text": [
      "File cannot open\n"
     ]
    },
    {
     "name": "stderr",
     "output_type": "stream",
     "text": [
      " 85%|████████▌ | 26320/30888 [3:13:33<46:02,  1.65it/s]  "
     ]
    },
    {
     "name": "stdout",
     "output_type": "stream",
     "text": [
      "File cannot open\n"
     ]
    },
    {
     "name": "stderr",
     "output_type": "stream",
     "text": [
      " 85%|████████▌ | 26325/30888 [3:13:34<24:25,  3.11it/s]"
     ]
    },
    {
     "name": "stdout",
     "output_type": "stream",
     "text": [
      "File cannot open\n"
     ]
    },
    {
     "name": "stderr",
     "output_type": "stream",
     "text": [
      " 86%|████████▌ | 26553/30888 [3:15:12<27:57,  2.58it/s]  "
     ]
    },
    {
     "name": "stdout",
     "output_type": "stream",
     "text": [
      "File cannot open\n"
     ]
    },
    {
     "name": "stderr",
     "output_type": "stream",
     "text": [
      " 86%|████████▌ | 26593/30888 [3:15:29<26:59,  2.65it/s]"
     ]
    },
    {
     "name": "stdout",
     "output_type": "stream",
     "text": [
      "File cannot open\n"
     ]
    },
    {
     "name": "stderr",
     "output_type": "stream",
     "text": [
      " 86%|████████▌ | 26626/30888 [3:15:40<23:01,  3.08it/s]"
     ]
    },
    {
     "name": "stdout",
     "output_type": "stream",
     "text": [
      "File cannot open\n"
     ]
    },
    {
     "name": "stderr",
     "output_type": "stream",
     "text": [
      " 87%|████████▋ | 26872/30888 [3:17:24<18:39,  3.59it/s]  "
     ]
    },
    {
     "name": "stdout",
     "output_type": "stream",
     "text": [
      "File cannot open\n"
     ]
    },
    {
     "name": "stderr",
     "output_type": "stream",
     "text": [
      " 88%|████████▊ | 27134/30888 [3:19:12<24:00,  2.61it/s]"
     ]
    },
    {
     "name": "stdout",
     "output_type": "stream",
     "text": [
      "File cannot open\n"
     ]
    },
    {
     "name": "stderr",
     "output_type": "stream",
     "text": [
      " 88%|████████▊ | 27144/30888 [3:19:15<18:31,  3.37it/s]"
     ]
    },
    {
     "name": "stdout",
     "output_type": "stream",
     "text": [
      "File cannot open\n"
     ]
    },
    {
     "name": "stderr",
     "output_type": "stream",
     "text": [
      " 88%|████████▊ | 27233/30888 [3:19:57<23:19,  2.61it/s]  "
     ]
    },
    {
     "name": "stdout",
     "output_type": "stream",
     "text": [
      "File cannot open\n"
     ]
    },
    {
     "name": "stderr",
     "output_type": "stream",
     "text": [
      " 88%|████████▊ | 27240/30888 [3:20:00<22:41,  2.68it/s]"
     ]
    },
    {
     "name": "stdout",
     "output_type": "stream",
     "text": [
      "File cannot open\n"
     ]
    },
    {
     "name": "stderr",
     "output_type": "stream",
     "text": [
      " 88%|████████▊ | 27243/30888 [3:20:02<37:34,  1.62it/s]"
     ]
    },
    {
     "name": "stdout",
     "output_type": "stream",
     "text": [
      "File cannot open\n"
     ]
    },
    {
     "name": "stderr",
     "output_type": "stream",
     "text": [
      " 88%|████████▊ | 27246/30888 [3:20:03<29:12,  2.08it/s]"
     ]
    },
    {
     "name": "stdout",
     "output_type": "stream",
     "text": [
      "File cannot open\n"
     ]
    },
    {
     "name": "stderr",
     "output_type": "stream",
     "text": [
      " 88%|████████▊ | 27263/30888 [3:20:09<20:44,  2.91it/s]"
     ]
    },
    {
     "name": "stdout",
     "output_type": "stream",
     "text": [
      "File cannot open\n"
     ]
    },
    {
     "name": "stderr",
     "output_type": "stream",
     "text": [
      " 89%|████████▉ | 27529/30888 [3:22:00<22:36,  2.48it/s]  "
     ]
    },
    {
     "name": "stdout",
     "output_type": "stream",
     "text": [
      "File cannot open\n"
     ]
    },
    {
     "name": "stderr",
     "output_type": "stream",
     "text": [
      " 90%|████████▉ | 27664/30888 [3:23:02<17:56,  3.00it/s]"
     ]
    },
    {
     "name": "stdout",
     "output_type": "stream",
     "text": [
      "File cannot open\n"
     ]
    },
    {
     "name": "stderr",
     "output_type": "stream",
     "text": [
      " 90%|█████████ | 27899/30888 [3:24:44<22:27,  2.22it/s]"
     ]
    },
    {
     "name": "stdout",
     "output_type": "stream",
     "text": [
      "File cannot open\n"
     ]
    },
    {
     "name": "stderr",
     "output_type": "stream",
     "text": [
      " 90%|█████████ | 27948/30888 [3:25:08<23:37,  2.07it/s]"
     ]
    },
    {
     "name": "stdout",
     "output_type": "stream",
     "text": [
      "File cannot open\n"
     ]
    },
    {
     "name": "stderr",
     "output_type": "stream",
     "text": [
      " 91%|█████████ | 28145/30888 [3:26:32<27:03,  1.69it/s]"
     ]
    },
    {
     "name": "stdout",
     "output_type": "stream",
     "text": [
      "File cannot open\n"
     ]
    },
    {
     "name": "stderr",
     "output_type": "stream",
     "text": [
      " 92%|█████████▏| 28414/30888 [3:28:28<22:01,  1.87it/s]"
     ]
    },
    {
     "name": "stdout",
     "output_type": "stream",
     "text": [
      "File cannot open\n"
     ]
    },
    {
     "name": "stderr",
     "output_type": "stream",
     "text": [
      " 92%|█████████▏| 28443/30888 [3:28:39<13:02,  3.13it/s]"
     ]
    },
    {
     "name": "stdout",
     "output_type": "stream",
     "text": [
      "File cannot open\n"
     ]
    },
    {
     "name": "stderr",
     "output_type": "stream",
     "text": [
      " 93%|█████████▎| 28614/30888 [3:29:52<19:29,  1.94it/s]"
     ]
    },
    {
     "name": "stdout",
     "output_type": "stream",
     "text": [
      "File cannot open\n"
     ]
    },
    {
     "name": "stderr",
     "output_type": "stream",
     "text": [
      " 93%|█████████▎| 28646/30888 [3:30:09<16:56,  2.21it/s]"
     ]
    },
    {
     "name": "stdout",
     "output_type": "stream",
     "text": [
      "File cannot open\n"
     ]
    },
    {
     "name": "stderr",
     "output_type": "stream",
     "text": [
      " 93%|█████████▎| 28802/30888 [3:31:17<12:09,  2.86it/s]"
     ]
    },
    {
     "name": "stdout",
     "output_type": "stream",
     "text": [
      "File cannot open\n"
     ]
    },
    {
     "name": "stderr",
     "output_type": "stream",
     "text": [
      " 93%|█████████▎| 28841/30888 [3:31:33<26:53,  1.27it/s]"
     ]
    },
    {
     "name": "stdout",
     "output_type": "stream",
     "text": [
      "File cannot open\n"
     ]
    },
    {
     "name": "stderr",
     "output_type": "stream",
     "text": [
      " 93%|█████████▎| 28862/30888 [3:31:41<11:38,  2.90it/s]"
     ]
    },
    {
     "name": "stdout",
     "output_type": "stream",
     "text": [
      "File cannot open\n"
     ]
    },
    {
     "name": "stderr",
     "output_type": "stream",
     "text": [
      " 94%|█████████▍| 29038/30888 [3:32:57<11:58,  2.57it/s]"
     ]
    },
    {
     "name": "stdout",
     "output_type": "stream",
     "text": [
      "File cannot open\n"
     ]
    },
    {
     "name": "stderr",
     "output_type": "stream",
     "text": [
      " 94%|█████████▍| 29104/30888 [3:33:26<19:41,  1.51it/s]"
     ]
    },
    {
     "name": "stdout",
     "output_type": "stream",
     "text": [
      "File cannot open\n"
     ]
    },
    {
     "name": "stderr",
     "output_type": "stream",
     "text": [
      " 94%|█████████▍| 29158/30888 [3:33:48<15:17,  1.89it/s]"
     ]
    },
    {
     "name": "stdout",
     "output_type": "stream",
     "text": [
      "File cannot open\n"
     ]
    },
    {
     "name": "stderr",
     "output_type": "stream",
     "text": [
      " 95%|█████████▍| 29289/30888 [3:34:43<11:44,  2.27it/s]"
     ]
    },
    {
     "name": "stdout",
     "output_type": "stream",
     "text": [
      "File cannot open\n"
     ]
    },
    {
     "name": "stderr",
     "output_type": "stream",
     "text": [
      " 95%|█████████▍| 29303/30888 [3:34:48<08:32,  3.09it/s]"
     ]
    },
    {
     "name": "stdout",
     "output_type": "stream",
     "text": [
      "File cannot open\n"
     ]
    },
    {
     "name": "stderr",
     "output_type": "stream",
     "text": [
      " 95%|█████████▌| 29396/30888 [3:35:30<11:38,  2.14it/s]"
     ]
    },
    {
     "name": "stdout",
     "output_type": "stream",
     "text": [
      "File cannot open\n"
     ]
    },
    {
     "name": "stderr",
     "output_type": "stream",
     "text": [
      " 95%|█████████▌| 29410/30888 [3:35:36<09:15,  2.66it/s]"
     ]
    },
    {
     "name": "stdout",
     "output_type": "stream",
     "text": [
      "File cannot open\n"
     ]
    },
    {
     "name": "stderr",
     "output_type": "stream",
     "text": [
      " 96%|█████████▌| 29499/30888 [3:36:17<11:47,  1.96it/s]"
     ]
    },
    {
     "name": "stdout",
     "output_type": "stream",
     "text": [
      "File cannot open\n"
     ]
    },
    {
     "name": "stderr",
     "output_type": "stream",
     "text": [
      " 96%|█████████▌| 29612/30888 [3:37:08<08:12,  2.59it/s]"
     ]
    },
    {
     "name": "stdout",
     "output_type": "stream",
     "text": [
      "File cannot open\n"
     ]
    },
    {
     "name": "stderr",
     "output_type": "stream",
     "text": [
      " 97%|█████████▋| 29963/30888 [3:39:50<08:33,  1.80it/s]"
     ]
    },
    {
     "name": "stdout",
     "output_type": "stream",
     "text": [
      "File cannot open\n"
     ]
    },
    {
     "name": "stderr",
     "output_type": "stream",
     "text": [
      " 97%|█████████▋| 30070/30888 [3:40:35<04:00,  3.40it/s]"
     ]
    },
    {
     "name": "stdout",
     "output_type": "stream",
     "text": [
      "File cannot open\n"
     ]
    },
    {
     "name": "stderr",
     "output_type": "stream",
     "text": [
      " 98%|█████████▊| 30157/30888 [3:41:11<04:04,  2.99it/s]"
     ]
    },
    {
     "name": "stdout",
     "output_type": "stream",
     "text": [
      "File cannot open\n"
     ]
    },
    {
     "name": "stderr",
     "output_type": "stream",
     "text": [
      " 98%|█████████▊| 30160/30888 [3:41:13<05:09,  2.35it/s]"
     ]
    },
    {
     "name": "stdout",
     "output_type": "stream",
     "text": [
      "File cannot open\n"
     ]
    },
    {
     "name": "stderr",
     "output_type": "stream",
     "text": [
      " 98%|█████████▊| 30367/30888 [3:42:41<04:18,  2.01it/s]"
     ]
    },
    {
     "name": "stdout",
     "output_type": "stream",
     "text": [
      "File cannot open\n"
     ]
    },
    {
     "name": "stderr",
     "output_type": "stream",
     "text": [
      " 99%|█████████▊| 30464/30888 [3:43:59<03:22,  2.10it/s]  "
     ]
    },
    {
     "name": "stdout",
     "output_type": "stream",
     "text": [
      "File cannot open\n"
     ]
    },
    {
     "name": "stderr",
     "output_type": "stream",
     "text": [
      "100%|██████████| 30888/30888 [3:47:17<00:00,  2.26it/s]\n"
     ]
    }
   ],
   "source": [
    "for row in tqdm(con_Data.values):\n",
    "    savepath  = feature_extractor(row)\n",
    "    con_imgpaths.append(savepath)"
   ]
  },
  {
   "cell_type": "code",
   "execution_count": 36,
   "metadata": {},
   "outputs": [],
   "source": [
    "isnone = lambda x: x != (None,None)\n",
    "cast_x = list(map(isnone,con_imgpaths))\n",
    "data_x= [con_imgpaths[i] for i in range(len(con_imgpaths)) if cast_x[i] == True]"
   ]
  },
  {
   "cell_type": "code",
   "execution_count": 37,
   "metadata": {},
   "outputs": [],
   "source": [
    "indices = np.arange(len(data_x))\n",
    "NUM_shuf= 5\n",
    "con_DATA    = {i:{} for i in range(NUM_shuf)}\n",
    "\n",
    "for i in range(NUM_shuf):\n",
    "    np.random.shuffle(indices)\n",
    "    con_DATA[i]['MEL']   = [data_x[i] for i in indices]"
   ]
  },
  {
   "cell_type": "code",
   "execution_count": 38,
   "metadata": {},
   "outputs": [],
   "source": [
    "pickle.dump( con_DATA, open( \"con_loaded_data_2000.pickle\", \"wb\" ) )"
   ]
  },
  {
   "cell_type": "code",
   "execution_count": 39,
   "metadata": {},
   "outputs": [
    {
     "data": {
      "text/plain": [
       "{0: {'MEL': ['./dataset/con_custom_dataset_2000/tpCCClZhHxXqu31XbOhexT55KdP2.png',\n",
       "   './dataset/con_custom_dataset_2000/FNjPKyX47sUuQlzMc1urJ3VB3YE3.png',\n",
       "   './dataset/con_custom_dataset_2000/FYINlRe3mfOO34R8QcT3skESVRl1.png',\n",
       "   './dataset/con_custom_dataset_2000/IQ7tfWcSsRXGe0J94ouY9rsTB8V2.png',\n",
       "   './dataset/con_custom_dataset_2000/PWXapCML3JSGefaCRAxKjCNp0Ps2.png',\n",
       "   './dataset/con_custom_dataset_2000/bc1966e7-08b9-4399-a2b9-77030ffa05fd.png',\n",
       "   './dataset/con_custom_dataset_2000/1gKYFXop8UQtz5vrzrbVcnjX0Vi1.png',\n",
       "   './dataset/con_custom_dataset_2000/e02b509a-d93a-400f-9755-479ce02a53db.png',\n",
       "   './dataset/con_custom_dataset_2000/36a9d918-5d78-4371-854c-a7f296627f3f.png',\n",
       "   './dataset/con_custom_dataset_2000/e5xiRpxobLe69psjXzZtitwdxpg1.png',\n",
       "   './dataset/con_custom_dataset_2000/aBhVajwUynU2XvqHDXl7EA9bVNm1.png',\n",
       "   './dataset/con_custom_dataset_2000/OL4W8fQRM8POiI9lasCM9tgHUvG2.png',\n",
       "   './dataset/con_custom_dataset_2000/RNnxsLNUWPeqrfpPcDb4b903fpj2.png',\n",
       "   './dataset/con_custom_dataset_2000/GrE7GAhI8UUX1BK0QHOBGLvOQJb2.png',\n",
       "   './dataset/con_custom_dataset_2000/ePaI9geAOLYTcCjN0bI0vvbHAyR2.png',\n",
       "   './dataset/con_custom_dataset_2000/cbd36799-6ad7-4243-b1a6-7ea647de2362.png',\n",
       "   './dataset/con_custom_dataset_2000/1pXSBzMeizcu5IpLAJUaYpmJyhB3.png',\n",
       "   './dataset/con_custom_dataset_2000/2143ebda-26f8-4cf7-9d99-471f11c3c584.png',\n",
       "   './dataset/con_custom_dataset_2000/EBJVTXGpKucYUqz7evI887oS1162.png',\n",
       "   './dataset/con_custom_dataset_2000/zVkoMlwOqwXzjsgyGs99OoU10J92.png',\n",
       "   './dataset/con_custom_dataset_2000/f880ef41-35f5-4ddc-9c48-c4e6e76dc154.png',\n",
       "   './dataset/con_custom_dataset_2000/TfuCgDdguMVRpKIAXs2kINT1Yxx1.png',\n",
       "   './dataset/con_custom_dataset_2000/6a82850b-69e7-4acb-8723-41e947270802.png',\n",
       "   './dataset/con_custom_dataset_2000/ef934df0-ffdc-4e63-b632-0d113ac5619e.png',\n",
       "   './dataset/con_custom_dataset_2000/LuWrKc4LBRWEfrsF2sCdR7o57m12.png',\n",
       "   './dataset/con_custom_dataset_2000/oPLTYiEHMFTuruwTXpbRPnlz2mr1.png',\n",
       "   './dataset/con_custom_dataset_2000/da786fe5-3cc2-4e26-8a1c-5d56a2b67948.png',\n",
       "   './dataset/con_custom_dataset_2000/qZEBUZAYCHhWEWXUeOGrLFhaZCW2.png',\n",
       "   './dataset/con_custom_dataset_2000/R1wbQWmviENBtOcugCHjcmvRl6o2.png',\n",
       "   './dataset/con_custom_dataset_2000/IQ7tfWcSsRXGe0J94ouY9rsTB8V2.png',\n",
       "   './dataset/con_custom_dataset_2000/3e3c7db1-0352-4759-8ace-b4fc0b31db36.png',\n",
       "   './dataset/con_custom_dataset_2000/0d28f774-d9e5-4def-9684-828487688d59.png',\n",
       "   './dataset/con_custom_dataset_2000/5b3b1fd8-70c2-4b40-b759-e2cad6fe9a97.png',\n",
       "   './dataset/con_custom_dataset_2000/evcMtXUBFWS6bXPYqv7BXVfqFIc2.png',\n",
       "   './dataset/con_custom_dataset_2000/5751a296-bed4-42b8-806b-829d5ec3d5f7.png',\n",
       "   './dataset/con_custom_dataset_2000/79dcfea0-ce2a-41e9-8000-20064a63cddc.png',\n",
       "   './dataset/con_custom_dataset_2000/69a253a3-fdf4-47c6-a639-052a4b286c47.png',\n",
       "   './dataset/con_custom_dataset_2000/FNYflY4qOecrSQOzynZ1WDQZfCJ3.png',\n",
       "   './dataset/con_custom_dataset_2000/0EAAFsDWfTcrhktHy78LS6nf19G3.png',\n",
       "   './dataset/con_custom_dataset_2000/69976c94-e7a4-4db1-8625-ef49db1d3955.png',\n",
       "   './dataset/con_custom_dataset_2000/r0PkYZFUK1M0lhIUFHziLkwjsL53.png',\n",
       "   './dataset/con_custom_dataset_2000/1gimjLEgqBdoHReixdq8HlEBfEr2.png',\n",
       "   './dataset/con_custom_dataset_2000/yvMM52GM1jSK5kA1CRX6hSFt5ON2.png',\n",
       "   './dataset/con_custom_dataset_2000/32e99fd5-467c-4088-9899-ad3c3378a206.png',\n",
       "   './dataset/con_custom_dataset_2000/IvPA6FZJ5OSNOllqglmE2mkcnz83.png',\n",
       "   './dataset/con_custom_dataset_2000/444ce8d3-b549-4887-b9f3-80e85dc786f3.png',\n",
       "   './dataset/con_custom_dataset_2000/3VWhvtBFHKMgEKxlXzMYeg5NeBN2.png',\n",
       "   './dataset/con_custom_dataset_2000/103420.png',\n",
       "   './dataset/con_custom_dataset_2000/SwW5rQwDVJRdGLNmwOm1DEjtslB2.png',\n",
       "   './dataset/con_custom_dataset_2000/AwzhLro3l6Wa5kPJyzyB6BNgVqN2.png',\n",
       "   './dataset/con_custom_dataset_2000/M8Y156MBhmYtI8n9jopclvzzK362.png',\n",
       "   './dataset/con_custom_dataset_2000/6sUnPQNXQCYawfmLL8Pg91UxoiI3.png',\n",
       "   './dataset/con_custom_dataset_2000/4047f195-f373-4130-82cf-110bee9bc4c9.png',\n",
       "   './dataset/con_custom_dataset_2000/937c5f4d-2d0e-41c5-af52-9dfbdb4014f2.png',\n",
       "   './dataset/con_custom_dataset_2000/e08e7dcf-5219-4eb7-9d74-c5605830db06.png',\n",
       "   './dataset/con_custom_dataset_2000/YpvrpmeZ2bRKrSUIWVe8a4fzSHg1.png',\n",
       "   './dataset/con_custom_dataset_2000/f07af84a-1580-486b-bf02-534eb8e71bc5.png',\n",
       "   './dataset/con_custom_dataset_2000/d5fe9c48-1b00-4300-9f94-793bfaeabd66.png',\n",
       "   './dataset/con_custom_dataset_2000/Fi4TZCxqYqMvq8ncC4aYajCVRcz1.png',\n",
       "   './dataset/con_custom_dataset_2000/595ee208-970e-4822-bb73-281496e7592a.png',\n",
       "   './dataset/con_custom_dataset_2000/8BmywU3Y0Xh4xucX5Zt2xXDkMzB2.png',\n",
       "   './dataset/con_custom_dataset_2000/wcKHRzi3zFZi7KNZqDcQD2wXkUm1.png',\n",
       "   './dataset/con_custom_dataset_2000/jNYjkOK2b1hQBv2w81zgW0TVhM03.png',\n",
       "   './dataset/con_custom_dataset_2000/SEQ5HfLxZBdOymQjE5xiTbBPtjj2.png',\n",
       "   './dataset/con_custom_dataset_2000/faf757c6-53d0-4e07-a132-c5b19de0ab96.png',\n",
       "   './dataset/con_custom_dataset_2000/l4rsSAm6LtVu9k22v8PJnYp1pnC3.png',\n",
       "   './dataset/con_custom_dataset_2000/130979.png',\n",
       "   './dataset/con_custom_dataset_2000/a830dbe5-5e1d-4aaf-a18f-fd08e84b02a4.png',\n",
       "   './dataset/con_custom_dataset_2000/04d61a5c-fa41-4c26-b949-ec6f8d172607.png',\n",
       "   './dataset/con_custom_dataset_2000/67033.png',\n",
       "   './dataset/con_custom_dataset_2000/qhYsqvdV41c4THE9gd4ugJqIYW03.png',\n",
       "   './dataset/con_custom_dataset_2000/155801.png',\n",
       "   './dataset/con_custom_dataset_2000/143118.png',\n",
       "   './dataset/con_custom_dataset_2000/bH6WQVvClVRDer6iOFvaGiz0luf1.png',\n",
       "   './dataset/con_custom_dataset_2000/QjBZv868nydJzk0ZzwgKDHSG6Q82.png',\n",
       "   './dataset/con_custom_dataset_2000/102414.png',\n",
       "   './dataset/con_custom_dataset_2000/130584.png',\n",
       "   './dataset/con_custom_dataset_2000/hRB1GYdlKAgCnwg4xFzAUE3SiUG2.png',\n",
       "   './dataset/con_custom_dataset_2000/ab272d68-e4b6-4ad9-a3f0-0246fcf248f2.png',\n",
       "   './dataset/con_custom_dataset_2000/51a83ce7-f260-422c-a772-3447f306ebd2.png',\n",
       "   './dataset/con_custom_dataset_2000/3ceda363-297c-43bc-b499-1e89fa2b10e0.png',\n",
       "   './dataset/con_custom_dataset_2000/7Xzlu6oIWGc0odCvFMQkr612jVr1.png',\n",
       "   './dataset/con_custom_dataset_2000/76a03d41-09de-4d00-b1e6-0cedf0b3dbda.png',\n",
       "   './dataset/con_custom_dataset_2000/38908194-429d-4924-9b00-2df01faac8b2.png',\n",
       "   './dataset/con_custom_dataset_2000/bixijc4LCCRqES9K306RjUCIHsJ2.png',\n",
       "   './dataset/con_custom_dataset_2000/811de856-d353-4145-9504-bc4f73d9f368.png',\n",
       "   './dataset/con_custom_dataset_2000/5ohNPSLiNWRs1vvHxKBj9odGFXl1.png',\n",
       "   './dataset/con_custom_dataset_2000/3259a18f-c4d3-489b-8ed1-2d2b9fbaebbd.png',\n",
       "   './dataset/con_custom_dataset_2000/l1ObBBBZYMOCAlTxeFyd1ToMwjy2.png',\n",
       "   './dataset/con_custom_dataset_2000/7cbf0a1a-520f-4c67-a9e2-3cc375447917.png',\n",
       "   './dataset/con_custom_dataset_2000/46426fe2-df73-4109-81ec-e62b49d8b626.png',\n",
       "   './dataset/con_custom_dataset_2000/K0LmigcBKlRdTAlrCyfmBJaQJwk1.png',\n",
       "   './dataset/con_custom_dataset_2000/198411.png',\n",
       "   './dataset/con_custom_dataset_2000/xh2LPx4DZNXX3hdsmHa7Lk41fPJ3.png',\n",
       "   './dataset/con_custom_dataset_2000/BRi5khF6PxMORMTOXjeS6r2dNqt1.png',\n",
       "   './dataset/con_custom_dataset_2000/99d322ed-c367-4d45-b6d1-f008b47f1af9.png',\n",
       "   './dataset/con_custom_dataset_2000/uJEVN893b2Pntd1Ck3cdY7RZZRo1.png',\n",
       "   './dataset/con_custom_dataset_2000/woCTR97MfJMTanmngUpcK1IJsvm1.png',\n",
       "   './dataset/con_custom_dataset_2000/6e68bf8b-fb42-42dd-b20f-73213f125ed9.png',\n",
       "   './dataset/con_custom_dataset_2000/151206.png',\n",
       "   './dataset/con_custom_dataset_2000/ae63c565-2e0f-4570-b2a6-9423705137d8.png',\n",
       "   './dataset/con_custom_dataset_2000/e6bbf7fa-7c31-408d-bd2d-85826e0784e5.png',\n",
       "   './dataset/con_custom_dataset_2000/9abb9ea7-6aec-490b-9c8f-daa4214fb3fa.png',\n",
       "   './dataset/con_custom_dataset_2000/BNraT7TUj1ZHWnxzh3eVOM2CwIm1.png',\n",
       "   './dataset/con_custom_dataset_2000/79146.png',\n",
       "   './dataset/con_custom_dataset_2000/uiMtR0VGFIaO3CQ1Tl8znyjlyHF2.png',\n",
       "   './dataset/con_custom_dataset_2000/5Lln9rjGG3RqbQ1bo0SzlkB0vxq2.png',\n",
       "   './dataset/con_custom_dataset_2000/35a40835-dc69-4e0d-b833-6b58df25c8cc.png',\n",
       "   './dataset/con_custom_dataset_2000/89c37b74-6326-499f-bafb-908f57428bb5.png',\n",
       "   './dataset/con_custom_dataset_2000/k73r7MJLJyav5AF6DJS6LFQnvn82.png',\n",
       "   './dataset/con_custom_dataset_2000/LAGGMvR7ScbjwTmMYBbEBfWRcN93.png',\n",
       "   './dataset/con_custom_dataset_2000/FCo8orfgs5ZKKQV4T436XCoycht2.png',\n",
       "   './dataset/con_custom_dataset_2000/9b8b9c77-650e-421a-bc08-bec7e996ad16.png',\n",
       "   './dataset/con_custom_dataset_2000/6034baa0-0bb8-4c7e-8699-f4a99b5d728f.png',\n",
       "   './dataset/con_custom_dataset_2000/85139.png',\n",
       "   './dataset/con_custom_dataset_2000/t19ZtqDNiJd7nL1SntNpS8KQDO73.png',\n",
       "   './dataset/con_custom_dataset_2000/8465703f-fa4e-4e06-81c3-fdb04765bf11.png',\n",
       "   './dataset/con_custom_dataset_2000/av4p9I9aBGfNYwrwkh4jEiEk1lE2.png',\n",
       "   './dataset/con_custom_dataset_2000/d5ccf7d8-fe44-4c0e-9f56-15cc5133340f.png',\n",
       "   './dataset/con_custom_dataset_2000/8f64b83c-402e-4507-a80e-cdc3fe75b007.png',\n",
       "   './dataset/con_custom_dataset_2000/8c22a427-f9cb-42b9-83e9-86580121f063.png',\n",
       "   './dataset/con_custom_dataset_2000/DBRoQFTQR2dq3OQAMYmPcFsbReH2.png',\n",
       "   './dataset/con_custom_dataset_2000/120587.png',\n",
       "   './dataset/con_custom_dataset_2000/9e5738c6-7649-42d5-be58-1e289796f189.png',\n",
       "   './dataset/con_custom_dataset_2000/4d552033-9509-4d8f-bb0e-b25d34837c6a.png',\n",
       "   './dataset/con_custom_dataset_2000/RHVaEkR1YzMXV33Bl1ScXlpBkpA3.png',\n",
       "   './dataset/con_custom_dataset_2000/e31980dd-7946-467c-9b10-3141c29843b3.png',\n",
       "   './dataset/con_custom_dataset_2000/UV965HIG9saPO9HjKNFSm2aFeBt2.png',\n",
       "   './dataset/con_custom_dataset_2000/4f18b42d-74df-4d34-b150-6bd8af802d39.png',\n",
       "   './dataset/con_custom_dataset_2000/49fc6f7f-e8d9-4b5b-a9fa-789edbee9e8e.png',\n",
       "   './dataset/con_custom_dataset_2000/w7pdOIUnHPRfYLXVVRtIRsOjGnr2.png',\n",
       "   './dataset/con_custom_dataset_2000/cPuXXUduYDh1lEnHlSkDeHnbTvq2.png',\n",
       "   './dataset/con_custom_dataset_2000/ImU3ZpdqkRPNAy6Ol61zoGuq8sj1.png',\n",
       "   './dataset/con_custom_dataset_2000/e73be49c-b4cf-47d4-afd6-ba103da3493e.png',\n",
       "   './dataset/con_custom_dataset_2000/57e472cc-d4fd-4687-80a1-942a041027f5.png',\n",
       "   './dataset/con_custom_dataset_2000/hEj6K9BJ2Ddv8udX3Vw766ns9CB2.png',\n",
       "   './dataset/con_custom_dataset_2000/LAGGMvR7ScbjwTmMYBbEBfWRcN93.png',\n",
       "   './dataset/con_custom_dataset_2000/8FnL5QpBazelNsGBTVkBuTSpMEt1.png',\n",
       "   './dataset/con_custom_dataset_2000/154378.png',\n",
       "   './dataset/con_custom_dataset_2000/ffedc843-bfc2-4ad6-a749-2bc86bdac84a.png',\n",
       "   './dataset/con_custom_dataset_2000/xa2v8z3Yzgb9dFrq2gEZz6oS7fh1.png',\n",
       "   './dataset/con_custom_dataset_2000/3FD9salx6KQf114qJSSvW74Ffi63.png',\n",
       "   './dataset/con_custom_dataset_2000/189212.png',\n",
       "   './dataset/con_custom_dataset_2000/78683cd9-c2a7-489c-8f28-5b7164d5229f.png',\n",
       "   './dataset/con_custom_dataset_2000/s1x2Ze9iVZNf6oFZDAZ4S9x3Cky2.png',\n",
       "   './dataset/con_custom_dataset_2000/93916ef8-fa92-4643-9786-dba956a2371c.png',\n",
       "   './dataset/con_custom_dataset_2000/4d35b416-d0b0-4fca-bd40-420da86ab4e2.png',\n",
       "   './dataset/con_custom_dataset_2000/8f435ea2-fb6a-41d6-9da1-87abcbe72234.png',\n",
       "   './dataset/con_custom_dataset_2000/d312b228-44d0-429c-bf4e-17752f24c2f5.png',\n",
       "   './dataset/con_custom_dataset_2000/209833.png',\n",
       "   './dataset/con_custom_dataset_2000/097e5b56-3686-4bd2-8b6c-d7376c35ee0c.png',\n",
       "   './dataset/con_custom_dataset_2000/888b2298-cd89-4aa0-b211-6cb6fe3bd1cf.png',\n",
       "   './dataset/con_custom_dataset_2000/796K27lWKTfniw99yaqsYIvPrvi1.png',\n",
       "   './dataset/con_custom_dataset_2000/yQoN4YK60acISpPHhXR5YQKM9mm2.png',\n",
       "   './dataset/con_custom_dataset_2000/155577.png',\n",
       "   './dataset/con_custom_dataset_2000/fWUMPPgD78VZinzLLLwqbyTysJa2.png',\n",
       "   './dataset/con_custom_dataset_2000/h3Bw7lc9NfapT3IJkwjIuRI9yfa2.png',\n",
       "   './dataset/con_custom_dataset_2000/09626c8d-612d-4e3c-8198-c57a372bc162.png',\n",
       "   './dataset/con_custom_dataset_2000/0914823d-34bb-4ff1-ac99-393be42e3f7d.png',\n",
       "   './dataset/con_custom_dataset_2000/f6cf1903-b1a6-4420-9eb9-839f5dcadb44.png',\n",
       "   './dataset/con_custom_dataset_2000/R1wbQWmviENBtOcugCHjcmvRl6o2.png',\n",
       "   './dataset/con_custom_dataset_2000/M43FaHpw1ScIi97eG6LBx2fBaJ92.png',\n",
       "   './dataset/con_custom_dataset_2000/189832.png',\n",
       "   './dataset/con_custom_dataset_2000/b5820264-46c8-457e-9473-73241a9a6993.png',\n",
       "   './dataset/con_custom_dataset_2000/17e60acf-583c-4073-9208-10f91c9930bf.png',\n",
       "   './dataset/con_custom_dataset_2000/Ml6JGK0BGDYiU7CulDVQnD065BI3.png',\n",
       "   './dataset/con_custom_dataset_2000/AS7IWnzwSnZ6IzknBA0G7uLYEeT2.png',\n",
       "   './dataset/con_custom_dataset_2000/cSBabP68WbPG0xQs8NnlgtVw5R42.png',\n",
       "   './dataset/con_custom_dataset_2000/b43f18c7-1869-41cc-80e2-2bbf68e7cd37.png',\n",
       "   './dataset/con_custom_dataset_2000/Ahv0311uRogDaFFI4X22nzsNVvK2.png',\n",
       "   './dataset/con_custom_dataset_2000/CAf8ILsDpQMeTPPLwi7nFlgRT2t1.png',\n",
       "   './dataset/con_custom_dataset_2000/2b9c1709-6562-47ee-8309-e199f6dc9589.png',\n",
       "   './dataset/con_custom_dataset_2000/hmLJe6Uy39bPc0Mn0VSF4x3TqWp2.png',\n",
       "   './dataset/con_custom_dataset_2000/cce1d2cc-0c32-4dc3-bdf8-67c330c8758d.png',\n",
       "   './dataset/con_custom_dataset_2000/86ca00f7-8778-484a-aff9-fce158f40595.png',\n",
       "   './dataset/con_custom_dataset_2000/isi9jPjYQIRlc93sv5mb9dQseEA2.png',\n",
       "   './dataset/con_custom_dataset_2000/2aa8f538-07ca-41f3-b20a-8d9e5ef24cfe.png',\n",
       "   './dataset/con_custom_dataset_2000/144106.png',\n",
       "   './dataset/con_custom_dataset_2000/b3add103-8854-4aba-8448-18361df4dac2.png',\n",
       "   './dataset/con_custom_dataset_2000/b858c74d-15c6-4498-a572-35f9b9fc32ad.png',\n",
       "   './dataset/con_custom_dataset_2000/YrJHnx1PgzPLiCgkSLaQqMhyBeA2.png',\n",
       "   './dataset/con_custom_dataset_2000/HhIoOCxCe1Z02gC8qa7RsZZ8Vz23.png',\n",
       "   './dataset/con_custom_dataset_2000/uqD6aEx3ObQK5DE4GH900S42U352.png',\n",
       "   './dataset/con_custom_dataset_2000/cc7421cf-a094-4a17-a4cb-cecdd43b8095.png',\n",
       "   './dataset/con_custom_dataset_2000/88mEmnYlbaPo3iQRZGn8Fbm9mNs1.png',\n",
       "   './dataset/con_custom_dataset_2000/cmb5xzMisFOW3SKYjF7C8mgLfD83.png',\n",
       "   './dataset/con_custom_dataset_2000/114609.png',\n",
       "   './dataset/con_custom_dataset_2000/f5fdc237-51fb-4be8-bc92-f7b043dbd9a0.png',\n",
       "   './dataset/con_custom_dataset_2000/DYiC8Ym6NBgFGQMSLy104RVs4b43.png',\n",
       "   './dataset/con_custom_dataset_2000/4sjgUTKdPXcgwHbPcqEtB6WA7XB3.png',\n",
       "   './dataset/con_custom_dataset_2000/b4546553-e633-4407-a94d-f8cea4128129.png',\n",
       "   './dataset/con_custom_dataset_2000/64493041-a20e-487b-bda4-4b1b33add6b1.png',\n",
       "   './dataset/con_custom_dataset_2000/aC09qmwnQ6MboJlAAdxf0DGr9Ay2.png',\n",
       "   './dataset/con_custom_dataset_2000/b5eacca6-0659-4ca4-93bb-29f5083469fc.png',\n",
       "   './dataset/con_custom_dataset_2000/f63f16b0-3b10-40ae-86bd-93a5d956fb70.png',\n",
       "   './dataset/con_custom_dataset_2000/QHDZOE4ryxMbsGpXU7Dad9egAts2.png',\n",
       "   './dataset/con_custom_dataset_2000/208757.png',\n",
       "   './dataset/con_custom_dataset_2000/RfrT8p9208NHn3170qOYmxel8Kw2.png',\n",
       "   './dataset/con_custom_dataset_2000/2d28744c-a394-438b-8999-054224419c26.png',\n",
       "   './dataset/con_custom_dataset_2000/QOOsSEpxcdW688dCIFZpYkwZzP12.png',\n",
       "   './dataset/con_custom_dataset_2000/N49IPlluNddotKfNlRNVJJ2Ad6E3.png',\n",
       "   './dataset/con_custom_dataset_2000/5ZDF98UQUxcVuS9VhaWxKlVnXvs1.png',\n",
       "   './dataset/con_custom_dataset_2000/3607e908-a11c-4c55-99f7-e3735f4ed13d.png',\n",
       "   './dataset/con_custom_dataset_2000/60ec717c-d710-40fe-9b29-419da804d4b9.png',\n",
       "   './dataset/con_custom_dataset_2000/400bad23-52fe-4f97-8503-c288ff659ffb.png',\n",
       "   './dataset/con_custom_dataset_2000/yvMM52GM1jSK5kA1CRX6hSFt5ON2.png',\n",
       "   './dataset/con_custom_dataset_2000/yeo7HwJ5Dcbqc4ozwv6az8iRVTJ3.png',\n",
       "   './dataset/con_custom_dataset_2000/1484e3ae-a55f-4a3a-bce2-bb39a1facafa.png',\n",
       "   './dataset/con_custom_dataset_2000/NZ7eJVaMFDMMhpOKZ1ztgkr3fVO2.png',\n",
       "   './dataset/con_custom_dataset_2000/R9EJURFbJjRNEl9lmQZw1gfs08J3.png',\n",
       "   './dataset/con_custom_dataset_2000/133977.png',\n",
       "   './dataset/con_custom_dataset_2000/8b12f319-a20c-411f-abc5-d7d62d5a17c4.png',\n",
       "   './dataset/con_custom_dataset_2000/9c42abc2-0fe1-4122-a0e9-741148a715af.png',\n",
       "   './dataset/con_custom_dataset_2000/2840b42e-fdea-4309-bd03-d037c549b1b8.png',\n",
       "   './dataset/con_custom_dataset_2000/a6f4e0b0-a5d2-4be8-a5ca-ce4a0b0c4618.png',\n",
       "   './dataset/con_custom_dataset_2000/asYD2xAnKuTdSZPIYo242wrgKVD3.png',\n",
       "   './dataset/con_custom_dataset_2000/vd5cQ5ZzjDXepHCAivkUaRFATk32.png',\n",
       "   './dataset/con_custom_dataset_2000/k7R0sHWreMTQCDnV5dMzd7t101A3.png',\n",
       "   './dataset/con_custom_dataset_2000/3289e194-be8d-4e88-8974-97b8d8f9136b.png',\n",
       "   './dataset/con_custom_dataset_2000/91359.png',\n",
       "   './dataset/con_custom_dataset_2000/038592cb-c8db-4f55-8052-e20059146cb5.png',\n",
       "   './dataset/con_custom_dataset_2000/G5kUP2QOpVSyjK6Q9rzblmTU9vW2.png',\n",
       "   './dataset/con_custom_dataset_2000/afa4a8a8-be28-4060-bd67-fcb7d3d90479.png',\n",
       "   './dataset/con_custom_dataset_2000/JCnMZyujiFf0m2QpwIlpld2ISDF3.png',\n",
       "   './dataset/con_custom_dataset_2000/689d025b-2b5b-49a1-a28b-701ccf08c3dd.png',\n",
       "   './dataset/con_custom_dataset_2000/e0107451-503c-48b0-9a9e-675a3a0c834e.png',\n",
       "   './dataset/con_custom_dataset_2000/34FItWuiLofMlaG1BmqHWVgHelh2.png',\n",
       "   './dataset/con_custom_dataset_2000/V3EIT06H4JN5KwoK8aGRXQNzGRi1.png',\n",
       "   './dataset/con_custom_dataset_2000/WscnqzOzFwUvHbl7MKfRcioUI9t1.png',\n",
       "   './dataset/con_custom_dataset_2000/B0biFhyqjzNmtEjWHSH9lQYBB2c2.png',\n",
       "   './dataset/con_custom_dataset_2000/SeJVLdrWddXdcxmY9Q51FUjCFRv1.png',\n",
       "   './dataset/con_custom_dataset_2000/a833cde8-3442-46bf-94d5-2d5d8c011682.png',\n",
       "   './dataset/con_custom_dataset_2000/d2355a40-1ad2-4e4f-b60d-4726dd0868bb.png',\n",
       "   './dataset/con_custom_dataset_2000/USIcgb7j6ofzFTvbjQVofvgJOoD2.png',\n",
       "   './dataset/con_custom_dataset_2000/DsEh7p2DEgWLuhbSTrqgQnTJJjC2.png',\n",
       "   './dataset/con_custom_dataset_2000/b08fff73-a00e-480b-933f-3479e4480ee6.png',\n",
       "   './dataset/con_custom_dataset_2000/74f92658-9bae-43dd-bb19-deea88d9b105.png',\n",
       "   './dataset/con_custom_dataset_2000/RXZtiZlgDxObuYr4m2s8eSavVg72.png',\n",
       "   './dataset/con_custom_dataset_2000/51a9ade4-721c-4a75-ab33-57e68f425a42.png',\n",
       "   './dataset/con_custom_dataset_2000/AQTaxycYpIWSoPUFSEUiFlqgenu2.png',\n",
       "   './dataset/con_custom_dataset_2000/78UvO8TmtycKb98kr2eXeDdLpST2.png',\n",
       "   './dataset/con_custom_dataset_2000/wXChdMlWemXwRdX642WnX6JbYfA2.png',\n",
       "   './dataset/con_custom_dataset_2000/cFePAw64vTSRzgy3ZXZFGC1E7rS2.png',\n",
       "   './dataset/con_custom_dataset_2000/174860.png',\n",
       "   './dataset/con_custom_dataset_2000/a8862669-c7fc-448d-839a-6d1bd0449a92.png',\n",
       "   './dataset/con_custom_dataset_2000/667cd554-e3dd-43f5-9c69-cec2fdcb4071.png',\n",
       "   './dataset/con_custom_dataset_2000/EqDWckxbsETyHUeBLQ8jLtxlhir2.png',\n",
       "   './dataset/con_custom_dataset_2000/Su4dvUzB8USceT2n3F7MWDO10lD2.png',\n",
       "   './dataset/con_custom_dataset_2000/VZjOs3lF37fWrg6PsWpmwjCP5UK2.png',\n",
       "   './dataset/con_custom_dataset_2000/085593a4-654c-4b5e-9a42-8cfd841dc012.png',\n",
       "   './dataset/con_custom_dataset_2000/156827.png',\n",
       "   './dataset/con_custom_dataset_2000/JdsUKe6JKBdfU7NZC6KeU0z2xKh1.png',\n",
       "   './dataset/con_custom_dataset_2000/de39c600-5209-4974-954b-0a07f2ed4b6e.png',\n",
       "   './dataset/con_custom_dataset_2000/ee78fe30-0001-4101-8a58-7eba1dfc8087.png',\n",
       "   './dataset/con_custom_dataset_2000/IH5AenjC1DTmH4Rw4PhvnaKHbmw2.png',\n",
       "   './dataset/con_custom_dataset_2000/160614.png',\n",
       "   './dataset/con_custom_dataset_2000/7GWUfrhqMCWAotCUbROzgawkCh82.png',\n",
       "   './dataset/con_custom_dataset_2000/ec083216-97b5-4b7f-8186-740e0ba7832d.png',\n",
       "   './dataset/con_custom_dataset_2000/6407bd49-464e-4c21-b9b8-1fd70ef25297.png',\n",
       "   './dataset/con_custom_dataset_2000/8905d5ea-2412-4222-93f8-95cd4455f8e4.png',\n",
       "   './dataset/con_custom_dataset_2000/ZTlauEp4EjMLV0LKWsxXnRopWvC3.png',\n",
       "   './dataset/con_custom_dataset_2000/3eee0f42-66e0-4b7e-82c4-9f4def7f0ad4.png',\n",
       "   './dataset/con_custom_dataset_2000/abpYyjmAQAMGlnyqXPGIL9lbnQo2.png',\n",
       "   './dataset/con_custom_dataset_2000/z7RqPeGUQ4X8rxD6ftMf9i4ZE3w2.png',\n",
       "   './dataset/con_custom_dataset_2000/nlKBKSlza3VwbasF1voiECoUs6d2.png',\n",
       "   './dataset/con_custom_dataset_2000/FSzobvJqOXf0rI6X05cHqOiU9Mu2.png',\n",
       "   './dataset/con_custom_dataset_2000/yL9QW3T2VueXfL3yvsmXsM2hL4v1.png',\n",
       "   './dataset/con_custom_dataset_2000/NPwHtrWOTPgBVHkElhwB91qJXts1.png',\n",
       "   './dataset/con_custom_dataset_2000/be7fa109-eaa8-4656-95e9-6e9fb5de9dce.png',\n",
       "   './dataset/con_custom_dataset_2000/wr9fXFGgtfPzQMIXpgDlBU8I01H2.png',\n",
       "   './dataset/con_custom_dataset_2000/fe9cec7b-426d-4a34-bf98-b0a07deab63a.png',\n",
       "   './dataset/con_custom_dataset_2000/82beb7b8-25c3-464d-8542-b4b042786d7e.png',\n",
       "   './dataset/con_custom_dataset_2000/ec18ecb8-cb3f-4d39-a459-0f2e83c244f8.png',\n",
       "   './dataset/con_custom_dataset_2000/1fabc0db-087b-4fc4-a0b3-cd6e17b1c0de.png',\n",
       "   './dataset/con_custom_dataset_2000/acf267c9-3e4b-4044-8f2f-8cb477a6e1d2.png',\n",
       "   './dataset/con_custom_dataset_2000/0c2e47e4-220b-4843-96e5-94bd6e0ad81c.png',\n",
       "   './dataset/con_custom_dataset_2000/94d56c05-bd2a-40c2-b86e-3877320f4ee8.png',\n",
       "   './dataset/con_custom_dataset_2000/tf9elTY1UpTjJ2qCFYUoeZYJEe42.png',\n",
       "   './dataset/con_custom_dataset_2000/Axei3vO2YcQM56PrwqmMF40A6aG3.png',\n",
       "   './dataset/con_custom_dataset_2000/b05d2aed-b0c5-46bf-a6d5-072856a2ea21.png',\n",
       "   './dataset/con_custom_dataset_2000/mX9OLV39QwhCicc7VLqQyniNdU63.png',\n",
       "   './dataset/con_custom_dataset_2000/UiUUhL0PMjWVA6W2dKte1DCE6wG2.png',\n",
       "   './dataset/con_custom_dataset_2000/7CiFcbXjGcMnMjOfs4Y4ejS9LaC2.png',\n",
       "   './dataset/con_custom_dataset_2000/WBNoFWUY9MhZOfFiLvIDsfIWnSZ2.png',\n",
       "   './dataset/con_custom_dataset_2000/1de69523-274d-4794-b895-e3c1803c25d5.png',\n",
       "   './dataset/con_custom_dataset_2000/8BmywU3Y0Xh4xucX5Zt2xXDkMzB2.png',\n",
       "   './dataset/con_custom_dataset_2000/09c57600-36a8-4a8a-817d-8166628999d1.png',\n",
       "   './dataset/con_custom_dataset_2000/7777d2d2-db56-42de-848a-2b722b4ef0d9.png',\n",
       "   './dataset/con_custom_dataset_2000/JCnMZyujiFf0m2QpwIlpld2ISDF3.png',\n",
       "   './dataset/con_custom_dataset_2000/cdd6a86d-7eb7-44ee-9f9b-53de8d4af2ee.png',\n",
       "   './dataset/con_custom_dataset_2000/5JO89F9hCpVbVFy7jFqPKtVRyIV2.png',\n",
       "   './dataset/con_custom_dataset_2000/90fb4548-1d6a-43b2-aabf-3f8f4779fa5d.png',\n",
       "   './dataset/con_custom_dataset_2000/59a70ae6-710f-4b93-acc8-6cab4db413fb.png',\n",
       "   './dataset/con_custom_dataset_2000/eD46zs0Gr9Rm2dRnRvkdjI0jc953.png',\n",
       "   './dataset/con_custom_dataset_2000/f38c8789-22d5-4eee-8bed-e794d8bcfeca.png',\n",
       "   './dataset/con_custom_dataset_2000/welbkeuEJpggaMpfcDyPgP8im703.png',\n",
       "   './dataset/con_custom_dataset_2000/XzIjEtRHHPci6Zq0zb9Lx0d6zEr2.png',\n",
       "   './dataset/con_custom_dataset_2000/VcmjCfW6ddgE9lFhDXTO6hDlb452.png',\n",
       "   './dataset/con_custom_dataset_2000/b575e4f8-db9c-4219-b0df-ad05766c8806.png',\n",
       "   './dataset/con_custom_dataset_2000/cc3c1f82-0559-4ae6-bcbd-45a61a6178b0.png',\n",
       "   './dataset/con_custom_dataset_2000/ae9014b8-a4b0-475e-8940-0008f670fbf0.png',\n",
       "   './dataset/con_custom_dataset_2000/U98J2q0NnycYzzUS2BYZpUa55X83.png',\n",
       "   './dataset/con_custom_dataset_2000/744c20ee-4d94-490a-b850-4f555c919ccb.png',\n",
       "   './dataset/con_custom_dataset_2000/f0cae4f6-b97c-4286-b5aa-ba05534084e6.png',\n",
       "   './dataset/con_custom_dataset_2000/80b6538b-68db-44f1-b932-cb4262d1efae.png',\n",
       "   './dataset/con_custom_dataset_2000/RgfYXoDTg6MBu6V0xKMEjsMfY8m2.png',\n",
       "   './dataset/con_custom_dataset_2000/5e668555-d522-44ca-a261-26eee6ca3677.png',\n",
       "   './dataset/con_custom_dataset_2000/5d5c5271-5a75-49ed-99fb-dc62d85071ff.png',\n",
       "   './dataset/con_custom_dataset_2000/3kUDnCX53IYe2LGsEDHwuXE8bWP2.png',\n",
       "   './dataset/con_custom_dataset_2000/1e7cca25-88d5-4923-b36f-16cd70ca6641.png',\n",
       "   './dataset/con_custom_dataset_2000/E8foKQD2BqYfZjFhdhknvaDp3Ot2.png',\n",
       "   './dataset/con_custom_dataset_2000/kWZfsgqkRvaNmjgcH1lKSRIwbdp1.png',\n",
       "   './dataset/con_custom_dataset_2000/88724.png',\n",
       "   './dataset/con_custom_dataset_2000/I11YsKcNytZ27XLyt5yKhxMyLZV2.png',\n",
       "   './dataset/con_custom_dataset_2000/198c0871-4cc6-496f-afd5-eb2178a5bed7.png',\n",
       "   './dataset/con_custom_dataset_2000/lpnAzDCKhnNhryfkxvnedo1xnan1.png',\n",
       "   './dataset/con_custom_dataset_2000/119459.png',\n",
       "   './dataset/con_custom_dataset_2000/04983e54-f26e-4baf-bce1-51a36a0b9a6b.png',\n",
       "   './dataset/con_custom_dataset_2000/4EAxuOcgN5d81JCmqo2YxXlxYNL2.png',\n",
       "   './dataset/con_custom_dataset_2000/da1b4895-4ca5-4e0d-8d00-ed11ddf1c605.png',\n",
       "   './dataset/con_custom_dataset_2000/9fa99ea1-214b-4586-b860-d2664506ef1f.png',\n",
       "   './dataset/con_custom_dataset_2000/6GBpxEuVACapBiyIgwQOAj1zuuy1.png',\n",
       "   './dataset/con_custom_dataset_2000/wr9fXFGgtfPzQMIXpgDlBU8I01H2.png',\n",
       "   './dataset/con_custom_dataset_2000/g6wE0LPtHWdH7XAWDCGHB5Kj1So1.png',\n",
       "   './dataset/con_custom_dataset_2000/aeb00e3d-6f65-4240-8310-d42eb27716d1.png',\n",
       "   './dataset/con_custom_dataset_2000/HDZ7Et3VldU238svx2iusUhQ16p2.png',\n",
       "   './dataset/con_custom_dataset_2000/jsYI5hPpF3XJ6rW8EQjUTCfPNZ62.png',\n",
       "   './dataset/con_custom_dataset_2000/569b78ca-dc65-4638-b605-853cc4a3b3fb.png',\n",
       "   './dataset/con_custom_dataset_2000/goCuK84Tklfu22gFPPMqt1ZIjxo2.png',\n",
       "   './dataset/con_custom_dataset_2000/hB8ntHij4nOm6YoGj86MtZJVTyr2.png',\n",
       "   './dataset/con_custom_dataset_2000/f33afc86-8375-4b73-b9f1-7326090834e1.png',\n",
       "   './dataset/con_custom_dataset_2000/68a27a6d-a97d-49bd-a375-d5d0e8379205.png',\n",
       "   './dataset/con_custom_dataset_2000/497a3603-10e8-4b8e-a2cd-2ee17f548df8.png',\n",
       "   './dataset/con_custom_dataset_2000/fefd13f8-7246-4889-a022-8db91fe215b6.png',\n",
       "   './dataset/con_custom_dataset_2000/p0NEd67WfNMVpZuyt7ECTS6VxDa2.png',\n",
       "   './dataset/con_custom_dataset_2000/1swHxN9xPFUu90g29z2RMCxG3oJ2.png',\n",
       "   './dataset/con_custom_dataset_2000/d5292abb-ad69-4327-8d4d-a2388fe7d65c.png',\n",
       "   './dataset/con_custom_dataset_2000/103050.png',\n",
       "   './dataset/con_custom_dataset_2000/f3403be7-5cc6-47f1-9260-9d1921a7eb84.png',\n",
       "   './dataset/con_custom_dataset_2000/5dHPKHgDlcVJOWjQMg5t46IN06H2.png',\n",
       "   './dataset/con_custom_dataset_2000/9611e1bb-f7b6-4912-add5-c8a4e5ad92ca.png',\n",
       "   './dataset/con_custom_dataset_2000/171f2ea7-de67-431a-9882-84d8eca45629.png',\n",
       "   './dataset/con_custom_dataset_2000/e12e93de-c7df-4991-99d8-4f5204cad6a2.png',\n",
       "   './dataset/con_custom_dataset_2000/227aa787-6fa6-467b-b682-9a16508b86f3.png',\n",
       "   './dataset/con_custom_dataset_2000/tmguPZG0j4X5PktnGJyOYxVGtqW2.png',\n",
       "   './dataset/con_custom_dataset_2000/jRjAYMmAQee5uVm5fU8yVnpuvs33.png',\n",
       "   './dataset/con_custom_dataset_2000/16f6c8ca-d05c-49f7-9dd1-2552302422b5.png',\n",
       "   './dataset/con_custom_dataset_2000/6sUnPQNXQCYawfmLL8Pg91UxoiI3.png',\n",
       "   './dataset/con_custom_dataset_2000/983ef2b1-d949-4e53-b6ec-e7125470c106.png',\n",
       "   './dataset/con_custom_dataset_2000/9805777e-60f4-4a5a-8241-0ab21fe544d3.png',\n",
       "   './dataset/con_custom_dataset_2000/8797ba6e-7741-4dc1-a0cd-0fdcbb28ff70.png',\n",
       "   './dataset/con_custom_dataset_2000/eSJm8nx2ygT4ZzQRzgYKpJiis1B2.png',\n",
       "   './dataset/con_custom_dataset_2000/d0de42f3-676c-4f03-990a-20e54cf25dc9.png',\n",
       "   './dataset/con_custom_dataset_2000/f1973add-6b54-49fa-9880-4e44fcb83344.png',\n",
       "   './dataset/con_custom_dataset_2000/f26355de-5587-4f99-9b2e-df126a6dcaf1.png',\n",
       "   './dataset/con_custom_dataset_2000/vtgAUePTOhhqlyo7DiNxlnghA6h1.png',\n",
       "   './dataset/con_custom_dataset_2000/0gB18cWHioTobGuU3qVE0QV5mBN2.png',\n",
       "   './dataset/con_custom_dataset_2000/f2d57d35-d8f6-480d-bb64-58a5676ed09c.png',\n",
       "   './dataset/con_custom_dataset_2000/b2dfe7d6-fdc2-43a9-9143-856f0b43c1f2.png',\n",
       "   './dataset/con_custom_dataset_2000/0Ha52POVIxTKEPqI1eGpIoMHUd52.png',\n",
       "   './dataset/con_custom_dataset_2000/13fd2781-a5f0-4e46-b9aa-20ecd95d89ea.png',\n",
       "   './dataset/con_custom_dataset_2000/fcc633ed-7bad-41c8-b7cd-13d9d8dbb8c2.png',\n",
       "   './dataset/con_custom_dataset_2000/117122.png',\n",
       "   './dataset/con_custom_dataset_2000/EiXN9D41sOZRBpHVHCLq3QUpKrq1.png',\n",
       "   './dataset/con_custom_dataset_2000/f0001156-ba36-4a53-9ddf-670ba092c001.png',\n",
       "   './dataset/con_custom_dataset_2000/v0Cj73yuwacWiGqDlaVsMa1GHqd2.png',\n",
       "   './dataset/con_custom_dataset_2000/153499ca-57e3-4ccd-9443-5e9aabb6e754.png',\n",
       "   './dataset/con_custom_dataset_2000/53beaf34-9109-46d0-a737-7ed1d9c20f52.png',\n",
       "   './dataset/con_custom_dataset_2000/3b32df34-7684-4c24-99ba-3a5d2d81d646.png',\n",
       "   './dataset/con_custom_dataset_2000/jppvqUD1X3VH39cGDRRlmhj4wu12.png',\n",
       "   './dataset/con_custom_dataset_2000/QQbzKidDxHQ0eZFEL4uG68s1lc02.png',\n",
       "   './dataset/con_custom_dataset_2000/9LCBZHRlg3Nk6NMZHu7AZJ9Rju53.png',\n",
       "   './dataset/con_custom_dataset_2000/1iqECx2FTmg6fkTzjVIZeN7ymnH3.png',\n",
       "   './dataset/con_custom_dataset_2000/3061e1b9-5ab0-4f09-9f44-e420360c096b.png',\n",
       "   './dataset/con_custom_dataset_2000/FeB6iRqlySRwFJHpnIiaokSvWeC2.png',\n",
       "   './dataset/con_custom_dataset_2000/Lz3Pu5AOFbQLTA8cIqRAmjPy8qw1.png',\n",
       "   './dataset/con_custom_dataset_2000/IP6mdjKfmKNgsLLT110MkgGvWK02.png',\n",
       "   './dataset/con_custom_dataset_2000/B0biFhyqjzNmtEjWHSH9lQYBB2c2.png',\n",
       "   './dataset/con_custom_dataset_2000/zxRJaPEBRGX8uH4egnctWAuIuy32.png',\n",
       "   './dataset/con_custom_dataset_2000/uiJ6vlTGUtO7akwp4VhP2142D9u1.png',\n",
       "   './dataset/con_custom_dataset_2000/9d572026-8992-4ba6-bcdc-206d58809857.png',\n",
       "   './dataset/con_custom_dataset_2000/VFeVSfoV7pM9kzFjHMA0R4rs3XB2.png',\n",
       "   './dataset/con_custom_dataset_2000/c6215bca-94d9-44a1-84cc-7c94124c90e0.png',\n",
       "   './dataset/con_custom_dataset_2000/8d3ad2d4-82d3-4866-b10f-701aa78db521.png',\n",
       "   './dataset/con_custom_dataset_2000/29d3bf66-4531-4872-8f1c-052000051950.png',\n",
       "   './dataset/con_custom_dataset_2000/9XJ2QSvS9CaIo5hSyRZcdst0K8P2.png',\n",
       "   './dataset/con_custom_dataset_2000/ePaI9geAOLYTcCjN0bI0vvbHAyR2.png',\n",
       "   './dataset/con_custom_dataset_2000/Hsd2XPLTHxa0q43WgjzaQl22cB42.png',\n",
       "   './dataset/con_custom_dataset_2000/d6de71ae-5b92-4a91-a656-bd0d33fa6189.png',\n",
       "   './dataset/con_custom_dataset_2000/3a1f5fce-5dcb-48ea-a7f5-dca0fa643413.png',\n",
       "   './dataset/con_custom_dataset_2000/NxnNleTNUYaE2lndP2HIlGUbimy1.png',\n",
       "   './dataset/con_custom_dataset_2000/efa6d8b8-e781-4fbd-94dd-1e266876ef77.png',\n",
       "   './dataset/con_custom_dataset_2000/XzIjEtRHHPci6Zq0zb9Lx0d6zEr2.png',\n",
       "   './dataset/con_custom_dataset_2000/76504a27-ed6d-40d1-bd91-fa652ddba9a5.png',\n",
       "   './dataset/con_custom_dataset_2000/8e5bae10-5966-443f-9bbe-235372bbaa8c.png',\n",
       "   './dataset/con_custom_dataset_2000/awro2Lz4F9SgVweiUzROf1IE8GK2.png',\n",
       "   './dataset/con_custom_dataset_2000/alHP6MaZt1dneLG1iix5HHszKcz2.png',\n",
       "   './dataset/con_custom_dataset_2000/GKhkkTlN0PdIgHoEtwXlRlCqMd13.png',\n",
       "   './dataset/con_custom_dataset_2000/5cc60202-8998-426d-8e01-e05fc091f7ed.png',\n",
       "   './dataset/con_custom_dataset_2000/82a470c6-d6f5-4816-8aa5-ee4acf684a81.png',\n",
       "   './dataset/con_custom_dataset_2000/6ca0fe65-85c3-407f-b4b1-63c7803478f9.png',\n",
       "   './dataset/con_custom_dataset_2000/4a91684d-8261-461b-9d42-52a4b5d724ab.png',\n",
       "   './dataset/con_custom_dataset_2000/0b9f35c3-a4b1-4e69-af1c-8c7f3402d531.png',\n",
       "   './dataset/con_custom_dataset_2000/FIgw7gymskPu3RGgk3Q6GeSH7yB3.png',\n",
       "   './dataset/con_custom_dataset_2000/gpcoorcyfuXQZxcUFTxthUKOua03.png',\n",
       "   './dataset/con_custom_dataset_2000/sPGRBmPA8SX6kBsrzS7c4zt8fsr2.png',\n",
       "   './dataset/con_custom_dataset_2000/972b4b78-70ef-4428-876b-90080695a4bb.png',\n",
       "   './dataset/con_custom_dataset_2000/U1xH6cTpR6VhCLwJKx2wKZc5XE03.png',\n",
       "   './dataset/con_custom_dataset_2000/215179.png',\n",
       "   './dataset/con_custom_dataset_2000/045e4374-a671-4b01-bd12-00450c9f12e9.png',\n",
       "   './dataset/con_custom_dataset_2000/xTrcp3vDL8bkpVEICdd1YsOURKx1.png',\n",
       "   './dataset/con_custom_dataset_2000/d26838e5-a929-46ed-8ba7-41b09a22d22c.png',\n",
       "   './dataset/con_custom_dataset_2000/83270.png',\n",
       "   './dataset/con_custom_dataset_2000/FYINlRe3mfOO34R8QcT3skESVRl1.png',\n",
       "   './dataset/con_custom_dataset_2000/89c97828-25b3-4957-8f2c-8da426e68d74.png',\n",
       "   './dataset/con_custom_dataset_2000/177083.png',\n",
       "   './dataset/con_custom_dataset_2000/118459.png',\n",
       "   './dataset/con_custom_dataset_2000/EAj5X2nQbNhAzPOqXj28BgI9Wpp2.png',\n",
       "   './dataset/con_custom_dataset_2000/NZ7eJVaMFDMMhpOKZ1ztgkr3fVO2.png',\n",
       "   './dataset/con_custom_dataset_2000/tf9elTY1UpTjJ2qCFYUoeZYJEe42.png',\n",
       "   './dataset/con_custom_dataset_2000/a600c297-c86d-41ad-8049-6c21bc3898ce.png',\n",
       "   './dataset/con_custom_dataset_2000/235874.png',\n",
       "   './dataset/con_custom_dataset_2000/qf3n0FsFJkfsUbOFngrrxDd5x7m1.png',\n",
       "   './dataset/con_custom_dataset_2000/e3a0e232-dc03-478b-9f8c-b6d928cd01ab.png',\n",
       "   './dataset/con_custom_dataset_2000/8582816a-2f00-46b4-868e-e62c32c791dd.png',\n",
       "   './dataset/con_custom_dataset_2000/4qLi2eWkYGasKhmmPPiyFAGUqBr2.png',\n",
       "   './dataset/con_custom_dataset_2000/e86c5c4a-b29f-41f3-83c3-2ad6cc6e258b.png',\n",
       "   './dataset/con_custom_dataset_2000/62714525-508e-458e-8c27-05e70a2027ef.png',\n",
       "   './dataset/con_custom_dataset_2000/138257.png',\n",
       "   './dataset/con_custom_dataset_2000/de637360-5153-409d-8b7c-1aaa47fef1f0.png',\n",
       "   './dataset/con_custom_dataset_2000/nDhgdZFoNRUBm7qY6tw3z4ZLOdw2.png',\n",
       "   './dataset/con_custom_dataset_2000/7J57fRRIEENoMhm7xRL7HNxh7Xy2.png',\n",
       "   './dataset/con_custom_dataset_2000/Qxlw2hDL29g1Sb9ZQO3XDPIG5Qr1.png',\n",
       "   './dataset/con_custom_dataset_2000/z5IwU11sIiMROteZ2EuuzBisNex2.png',\n",
       "   './dataset/con_custom_dataset_2000/e024dc48-fbdd-4845-ac13-cbe67c60446a.png',\n",
       "   './dataset/con_custom_dataset_2000/38d66654-7084-451d-b9f4-04172c3dc5fd.png',\n",
       "   './dataset/con_custom_dataset_2000/oTCyHYFIjtezHe2Tr9yZg8Lj5sv2.png',\n",
       "   './dataset/con_custom_dataset_2000/1abf432a-3a7f-4dc5-844b-c57e8b59c416.png',\n",
       "   './dataset/con_custom_dataset_2000/O2axQgHDogQ1mORlKYAGiPTiHvB3.png',\n",
       "   './dataset/con_custom_dataset_2000/161127.png',\n",
       "   './dataset/con_custom_dataset_2000/E3X8YtvZzYZiXwBevZEAByJc2v63.png',\n",
       "   './dataset/con_custom_dataset_2000/t19ZtqDNiJd7nL1SntNpS8KQDO73.png',\n",
       "   './dataset/con_custom_dataset_2000/220955.png',\n",
       "   './dataset/con_custom_dataset_2000/d7c9dff0-7ebf-440a-81f1-c9c0be22c0fa.png',\n",
       "   './dataset/con_custom_dataset_2000/xheyhxTtPHMng1BLZoH0b9jgDZ52.png',\n",
       "   './dataset/con_custom_dataset_2000/e0faf4ce-e457-4e4b-8c5f-a6ca619d2bb2.png',\n",
       "   './dataset/con_custom_dataset_2000/361128b3-c350-4f00-8f1f-6f0d9150fe03.png',\n",
       "   './dataset/con_custom_dataset_2000/weDSWB2g4cRfj2Xi6DfJ1DCouZr2.png',\n",
       "   './dataset/con_custom_dataset_2000/huZjiHT43maN3OQ8DAwgYImatr92.png',\n",
       "   './dataset/con_custom_dataset_2000/ff2bc96f-7386-4ebf-b166-ba4691cfdd93.png',\n",
       "   './dataset/con_custom_dataset_2000/07c16ae1-79cf-4a3f-aa12-4396f0bca506.png',\n",
       "   './dataset/con_custom_dataset_2000/WrM6hLW3fGbGgwpWSZT9HOSU7CC3.png',\n",
       "   './dataset/con_custom_dataset_2000/fcd08aff-c6bf-4efe-80c9-b51556eab298.png',\n",
       "   './dataset/con_custom_dataset_2000/db973135-8f76-4a60-a5f3-f403e6dfea76.png',\n",
       "   './dataset/con_custom_dataset_2000/PWXapCML3JSGefaCRAxKjCNp0Ps2.png',\n",
       "   './dataset/con_custom_dataset_2000/GjdjAvKrnbRRRX1KbioknjMVLNx2.png',\n",
       "   './dataset/con_custom_dataset_2000/nDhgdZFoNRUBm7qY6tw3z4ZLOdw2.png',\n",
       "   './dataset/con_custom_dataset_2000/O7eAgc4vq5fZQmGh60gDaMxOjgz2.png',\n",
       "   './dataset/con_custom_dataset_2000/91196755-3675-433e-bf4c-f59af4562145.png',\n",
       "   './dataset/con_custom_dataset_2000/SiEdfz3YnndtOTlm8CIVK4YQcg42.png',\n",
       "   './dataset/con_custom_dataset_2000/13fce93a-2a9b-4588-9a78-9cb0c53c07e6.png',\n",
       "   './dataset/con_custom_dataset_2000/5ohNPSLiNWRs1vvHxKBj9odGFXl1.png',\n",
       "   './dataset/con_custom_dataset_2000/117118.png',\n",
       "   './dataset/con_custom_dataset_2000/9znW0Bni1Scj62DqhsfoagP6HLI2.png',\n",
       "   './dataset/con_custom_dataset_2000/nCejocB61DU95Gz2gEcPeH0N2pm1.png',\n",
       "   './dataset/con_custom_dataset_2000/fja76ZsTgfPWoDCUcwnRLI5XrLZ2.png',\n",
       "   './dataset/con_custom_dataset_2000/40855e6b-dfc7-43ac-aae2-dc64d683de64.png',\n",
       "   './dataset/con_custom_dataset_2000/38cb901c-4d16-44f9-97fb-0cdc79b6f250.png',\n",
       "   './dataset/con_custom_dataset_2000/yZtohTVxlSauCUNuIIEUcdIA2TJ3.png',\n",
       "   './dataset/con_custom_dataset_2000/EucWZQ2KbbQ74NhWqnrUEuS7pU53.png',\n",
       "   './dataset/con_custom_dataset_2000/e4a43f01-ad6e-4638-b94c-5a8f3b76a409.png',\n",
       "   './dataset/con_custom_dataset_2000/mFQ65xqfxpXiS6vwK1HKwq7j8o62.png',\n",
       "   './dataset/con_custom_dataset_2000/D2bMfCAvvSPj39z6fMToDFRh2rB3.png',\n",
       "   './dataset/con_custom_dataset_2000/97Rb1xwK1GTHQL9OqkuoKV18Zug2.png',\n",
       "   './dataset/con_custom_dataset_2000/b1414e2f-d722-4ff5-81f9-9f2983e1bdc6.png',\n",
       "   './dataset/con_custom_dataset_2000/ddjJ6wgPMRXzqByVDrLeTEVPzF32.png',\n",
       "   './dataset/con_custom_dataset_2000/oeOuvTlUMEfWPcNOA4EnTk5Bh4K2.png',\n",
       "   './dataset/con_custom_dataset_2000/HCsgRpbj4vdEXoAjjSDJj9vQFbB2.png',\n",
       "   './dataset/con_custom_dataset_2000/FLhjsgqrgQMKwNt5iEryxG5sDlW2.png',\n",
       "   './dataset/con_custom_dataset_2000/2242b4d5-edd2-43d8-b6e1-9c7f87428777.png',\n",
       "   './dataset/con_custom_dataset_2000/23a93ab4-e5b3-4545-8e7b-5bff66e68b8e.png',\n",
       "   './dataset/con_custom_dataset_2000/6f52783a-df32-47e7-8429-e2ec42926fd9.png',\n",
       "   './dataset/con_custom_dataset_2000/gpcoorcyfuXQZxcUFTxthUKOua03.png',\n",
       "   './dataset/con_custom_dataset_2000/83BZjlFTcYZWakpS3tf63fpwbQO2.png',\n",
       "   './dataset/con_custom_dataset_2000/FA82s56D4CP2QAkUpv7Zlbz95NW2.png',\n",
       "   './dataset/con_custom_dataset_2000/sCqJBGNT5AhdqxZD0AuJPbbhJ4k2.png',\n",
       "   './dataset/con_custom_dataset_2000/9LCBZHRlg3Nk6NMZHu7AZJ9Rju53.png',\n",
       "   './dataset/con_custom_dataset_2000/b14947d2-26e2-4a2c-9424-c4a19ed204e6.png',\n",
       "   './dataset/con_custom_dataset_2000/Fh3hBZZRh2UXXicTNGMei8ikbSu2.png',\n",
       "   './dataset/con_custom_dataset_2000/MCyZwW6oHlddq3Cy7QRwPHw5gof1.png',\n",
       "   './dataset/con_custom_dataset_2000/b02e8f1f-c4f3-4fa8-a853-3e439d5fb5a4.png',\n",
       "   './dataset/con_custom_dataset_2000/p2aSmxkCu5fzI6FfIGwYEMYEChl2.png',\n",
       "   './dataset/con_custom_dataset_2000/2ebf9e4a-6b3c-4d1b-b30e-415c0bdfdecc.png',\n",
       "   './dataset/con_custom_dataset_2000/85f7130c-2c56-4dff-8ff8-a99527170fec.png',\n",
       "   './dataset/con_custom_dataset_2000/Hsd2XPLTHxa0q43WgjzaQl22cB42.png',\n",
       "   './dataset/con_custom_dataset_2000/8874d16b-e1f0-424b-b478-d50a72dadcdb.png',\n",
       "   './dataset/con_custom_dataset_2000/a9fb93fc-2daa-4d87-a335-422bc485ed9a.png',\n",
       "   './dataset/con_custom_dataset_2000/pWFMPFBys1bBerYz5Si4Gb8brGn1.png',\n",
       "   './dataset/con_custom_dataset_2000/5e6c0b43-cd50-4cb4-9260-33cc998ffc2a.png',\n",
       "   './dataset/con_custom_dataset_2000/0ujmfEsuhJRsGfbW3ttpSMjwJi73.png',\n",
       "   './dataset/con_custom_dataset_2000/54d6b720-8c48-4423-a044-7f0c6944453f.png',\n",
       "   './dataset/con_custom_dataset_2000/990e8bc6-294e-4c33-983d-14a87aca6c57.png',\n",
       "   './dataset/con_custom_dataset_2000/ewjgkt6HqIQ24vpCKFBISsgr5gJ3.png',\n",
       "   './dataset/con_custom_dataset_2000/2ACkagjqT6NFG3zysVS1cfoL4Ad2.png',\n",
       "   './dataset/con_custom_dataset_2000/43fa3e44-64c7-4273-aab5-17c71b3ea17d.png',\n",
       "   './dataset/con_custom_dataset_2000/188655.png',\n",
       "   './dataset/con_custom_dataset_2000/818197ee-acaf-48e1-8776-1c70942a4ced.png',\n",
       "   './dataset/con_custom_dataset_2000/41442f0f-2d48-41b9-a51c-c6eda6391a73.png',\n",
       "   './dataset/con_custom_dataset_2000/LasObOSE2kQYWhWkA7WimXxhwUE2.png',\n",
       "   './dataset/con_custom_dataset_2000/cbd83681-129c-44e1-ac1d-b321ad2ff521.png',\n",
       "   './dataset/con_custom_dataset_2000/v0Cj73yuwacWiGqDlaVsMa1GHqd2.png',\n",
       "   './dataset/con_custom_dataset_2000/9b1e74a7-4da0-47f6-b43e-3a6e81de758a.png',\n",
       "   './dataset/con_custom_dataset_2000/774bafb8-5d1c-42c5-a0a8-91ba0a85a04b.png',\n",
       "   './dataset/con_custom_dataset_2000/EUjlCZyR0xMbOH31Je8knI3UdKO2.png',\n",
       "   './dataset/con_custom_dataset_2000/376bc849-fcad-41ed-b28e-b4aa128eb1d9.png',\n",
       "   './dataset/con_custom_dataset_2000/3a5cf958-22cc-4dee-937d-894a73e9173d.png',\n",
       "   './dataset/con_custom_dataset_2000/L6Bo4rMk15fKste9Gvn7ZyTB4qw2.png',\n",
       "   './dataset/con_custom_dataset_2000/610ae8d6-30b0-4d19-af95-28fea92c425e.png',\n",
       "   './dataset/con_custom_dataset_2000/5c5c5c1c-e049-4150-bc81-fe4f7bb5a78c.png',\n",
       "   './dataset/con_custom_dataset_2000/LuWrKc4LBRWEfrsF2sCdR7o57m12.png',\n",
       "   './dataset/con_custom_dataset_2000/3RBbwztykUWGLJ5UmBZoL5pqOtA3.png',\n",
       "   './dataset/con_custom_dataset_2000/0zAgZhOXaGhmL1SnhkzJOIoowKg2.png',\n",
       "   './dataset/con_custom_dataset_2000/6c03357b-9e74-4e53-aed5-57acc0848d9a.png',\n",
       "   './dataset/con_custom_dataset_2000/f86ae1c8-6c77-49d9-87b3-b25398311dff.png',\n",
       "   './dataset/con_custom_dataset_2000/2wrPt2jccQdBHxWGghBMypnXxHE3.png',\n",
       "   './dataset/con_custom_dataset_2000/GWjZnz8QWXXGzHLaG0HNHFyeZgS2.png',\n",
       "   './dataset/con_custom_dataset_2000/RXZtiZlgDxObuYr4m2s8eSavVg72.png',\n",
       "   './dataset/con_custom_dataset_2000/4EAxuOcgN5d81JCmqo2YxXlxYNL2.png',\n",
       "   './dataset/con_custom_dataset_2000/U1xH6cTpR6VhCLwJKx2wKZc5XE03.png',\n",
       "   './dataset/con_custom_dataset_2000/qZIdh9mBr0MSVKd4TuYHazCdVm22.png',\n",
       "   './dataset/con_custom_dataset_2000/f7cbe34b-332d-4601-9fa5-4d8c08393b22.png',\n",
       "   './dataset/con_custom_dataset_2000/4jqhl90ZLzc8L1R3yRwKYg0Ruez1.png',\n",
       "   './dataset/con_custom_dataset_2000/25293.png',\n",
       "   './dataset/con_custom_dataset_2000/50455.png',\n",
       "   './dataset/con_custom_dataset_2000/5e6d3389-cc64-4bc9-87fb-fc39c9e7f745.png',\n",
       "   './dataset/con_custom_dataset_2000/eQQfGXkyq4PbUnshUIBuHNt9jcV2.png',\n",
       "   './dataset/con_custom_dataset_2000/72cccce3-a019-4b87-a062-d4268588a49c.png',\n",
       "   './dataset/con_custom_dataset_2000/4EAxuOcgN5d81JCmqo2YxXlxYNL2.png',\n",
       "   './dataset/con_custom_dataset_2000/t36yqxelXtUEMy6tQJd8Bn1Kr673.png',\n",
       "   './dataset/con_custom_dataset_2000/PmbK8Rb4ohNWp4KwTtlU8xzxFGs2.png',\n",
       "   './dataset/con_custom_dataset_2000/d5e56f55-97a1-417d-a724-04d6ef10830e.png',\n",
       "   './dataset/con_custom_dataset_2000/IQJWFucM7GbQ00iw3lt2UvBFzaW2.png',\n",
       "   './dataset/con_custom_dataset_2000/5Lln9rjGG3RqbQ1bo0SzlkB0vxq2.png',\n",
       "   './dataset/con_custom_dataset_2000/zLM432Aox7ZcmTXoglELTXNAVnf2.png',\n",
       "   './dataset/con_custom_dataset_2000/jaRfWYxsWjV2L833wIIyuivEWFG3.png',\n",
       "   './dataset/con_custom_dataset_2000/6f2e1f59-6d57-499a-8c26-978d80255271.png',\n",
       "   './dataset/con_custom_dataset_2000/eebb5e56-7525-46d0-a07a-3a05da339dff.png',\n",
       "   './dataset/con_custom_dataset_2000/UTqsNsZQCThhJduOChbctH76Avj2.png',\n",
       "   './dataset/con_custom_dataset_2000/DQbyjZoEh1chrWRqOkPrUsxvqpv2.png',\n",
       "   './dataset/con_custom_dataset_2000/0ebc406e-c9d5-43f5-9fd0-1a8777e7a7ed.png',\n",
       "   './dataset/con_custom_dataset_2000/c932f9f3-5aa1-4336-8c31-304890eca15a.png',\n",
       "   './dataset/con_custom_dataset_2000/1pXSBzMeizcu5IpLAJUaYpmJyhB3.png',\n",
       "   './dataset/con_custom_dataset_2000/AS7IWnzwSnZ6IzknBA0G7uLYEeT2.png',\n",
       "   './dataset/con_custom_dataset_2000/ae6918ec-b300-4005-9df3-7d3462f2bd7a.png',\n",
       "   './dataset/con_custom_dataset_2000/b3xN4I45RJb7nxHBRUd6Q6yx3z33.png',\n",
       "   './dataset/con_custom_dataset_2000/793ebb16-7525-4ef5-80d3-58c92e48e6bb.png',\n",
       "   './dataset/con_custom_dataset_2000/xJyoUt9euYQsPrWglHIDGqjtOjg1.png',\n",
       "   './dataset/con_custom_dataset_2000/4ad7f735-eee2-41d2-b6c4-452a38b797e4.png',\n",
       "   './dataset/con_custom_dataset_2000/4wRQbTA56AgZ27o7Yq6oVWUzR7A3.png',\n",
       "   './dataset/con_custom_dataset_2000/BoCrMaxD7DVdo0nXNl14zk8ycR52.png',\n",
       "   './dataset/con_custom_dataset_2000/DsEh7p2DEgWLuhbSTrqgQnTJJjC2.png',\n",
       "   './dataset/con_custom_dataset_2000/CFwFsoyLtGUxPNPw5vMD7cznAnO2.png',\n",
       "   './dataset/con_custom_dataset_2000/uBpTSMrCY2QGKbaMQ9NWmGA78P12.png',\n",
       "   './dataset/con_custom_dataset_2000/FSzobvJqOXf0rI6X05cHqOiU9Mu2.png',\n",
       "   './dataset/con_custom_dataset_2000/0b2565db-2c95-4287-aae2-608e04694533.png',\n",
       "   './dataset/con_custom_dataset_2000/OL4W8fQRM8POiI9lasCM9tgHUvG2.png',\n",
       "   './dataset/con_custom_dataset_2000/0033d1d5-ae8c-42f6-a557-822d6ab691cf.png',\n",
       "   './dataset/con_custom_dataset_2000/103422.png',\n",
       "   './dataset/con_custom_dataset_2000/39fdca62-1ce2-4e54-9a6b-d4ef5aa80bc5.png',\n",
       "   './dataset/con_custom_dataset_2000/JQyIFoDDO1fwOuEH0GaOFskQ90q1.png',\n",
       "   './dataset/con_custom_dataset_2000/f5a02c24-f03a-4b35-802c-3cbbb54e6f9d.png',\n",
       "   './dataset/con_custom_dataset_2000/6GBpxEuVACapBiyIgwQOAj1zuuy1.png',\n",
       "   './dataset/con_custom_dataset_2000/PmbK8Rb4ohNWp4KwTtlU8xzxFGs2.png',\n",
       "   './dataset/con_custom_dataset_2000/4ff4353d-d68c-49e8-b7cf-39e9825f7b9d.png',\n",
       "   './dataset/con_custom_dataset_2000/04bf1c74-dca7-45f8-a26a-e0415e54d109.png',\n",
       "   './dataset/con_custom_dataset_2000/3c4ae4f1-105a-4805-9601-ad16e83db137.png',\n",
       "   './dataset/con_custom_dataset_2000/Z7ZMrrVuJKSK1JEfLQjxGXI1VTq1.png',\n",
       "   './dataset/con_custom_dataset_2000/f7a2f41d-19c1-496c-9070-419bd88f36a5.png',\n",
       "   './dataset/con_custom_dataset_2000/CpB4mhP3leTMxJdDG3cD3xMN2AI3.png',\n",
       "   './dataset/con_custom_dataset_2000/7b7f6998-7f52-475f-8bbd-e76d80eafd91.png',\n",
       "   './dataset/con_custom_dataset_2000/yBJ20a3np3a8FHUUVUnXslUoX4f1.png',\n",
       "   './dataset/con_custom_dataset_2000/yxCtaUoJBHXnzfMfxfA9rJGR5ue2.png',\n",
       "   './dataset/con_custom_dataset_2000/k4EHFQiMeAU0VmekEfZDJ11xpnP2.png',\n",
       "   './dataset/con_custom_dataset_2000/8UkGuBU6UQZqRiqhPtxq1v5m2a33.png',\n",
       "   './dataset/con_custom_dataset_2000/3677fe5a-a1ea-4d64-9b4b-5e8e13ffc6e3.png',\n",
       "   './dataset/con_custom_dataset_2000/KFtd9lY6jph5cl2VrZ9Nv8Jng7p1.png',\n",
       "   './dataset/con_custom_dataset_2000/bfff05ff-e849-4caa-96dd-db325e702b42.png',\n",
       "   './dataset/con_custom_dataset_2000/4U5fWjzYiROaFxurdK2BCMt2IIg2.png',\n",
       "   './dataset/con_custom_dataset_2000/Mze07Z8CKrheFGZun75Hcgp4TH02.png',\n",
       "   './dataset/con_custom_dataset_2000/b15d5ed5-2d4b-44c1-8f32-4d8006d1eccd.png',\n",
       "   './dataset/con_custom_dataset_2000/GjdjAvKrnbRRRX1KbioknjMVLNx2.png',\n",
       "   './dataset/con_custom_dataset_2000/RQqyn5Ur0gcPPYhafDG9DDfIgVh2.png',\n",
       "   './dataset/con_custom_dataset_2000/108b3e47-a947-42d2-bfa5-9dd983057434.png',\n",
       "   './dataset/con_custom_dataset_2000/3fe29554-6aa5-4c73-ae7f-dd430eaa2f7a.png',\n",
       "   './dataset/con_custom_dataset_2000/NjCErTrUnWZZoKZj7UMHrhb2pkS2.png',\n",
       "   './dataset/con_custom_dataset_2000/aImqoeTbibTbtdXNmH4F1qc3Jr43.png',\n",
       "   './dataset/con_custom_dataset_2000/n4t5cgNQKXO3F8KP55vWOgYWcXC3.png',\n",
       "   './dataset/con_custom_dataset_2000/eNTXqhPqTser8AI98QMVcwQpV5p1.png',\n",
       "   './dataset/con_custom_dataset_2000/t6twqoKKSMOJdmehEj2gbVo6Lao2.png',\n",
       "   './dataset/con_custom_dataset_2000/kB7J1mRmiPbjIVTAgovzFwP5nQm1.png',\n",
       "   './dataset/con_custom_dataset_2000/42f19bb0-1840-49a8-a201-11fc18839850.png',\n",
       "   './dataset/con_custom_dataset_2000/56da1f04-fe81-4928-a1de-0f3b9d333c12.png',\n",
       "   './dataset/con_custom_dataset_2000/85iNcV2z6MNT3FrygbEC4fuGrIu1.png',\n",
       "   './dataset/con_custom_dataset_2000/c99bb35d-e87f-414e-bb20-ac146d206e61.png',\n",
       "   './dataset/con_custom_dataset_2000/6C9hfSrutjdxeM13Vdjb7Om3zez2.png',\n",
       "   './dataset/con_custom_dataset_2000/LW6U5C8CENR1PsmldatYGdCBcYg1.png',\n",
       "   './dataset/con_custom_dataset_2000/JQyIFoDDO1fwOuEH0GaOFskQ90q1.png',\n",
       "   './dataset/con_custom_dataset_2000/77945.png',\n",
       "   './dataset/con_custom_dataset_2000/3d72ae51-3d1b-4ebf-bfed-81e49dfb66ea.png',\n",
       "   './dataset/con_custom_dataset_2000/260433.png',\n",
       "   './dataset/con_custom_dataset_2000/dde8ba80-1067-4276-bafd-7866992fef2d.png',\n",
       "   './dataset/con_custom_dataset_2000/b69cdcec-7ecc-4d94-b557-ed22b836ecbf.png',\n",
       "   './dataset/con_custom_dataset_2000/Lf4G1rx8lufXdBBwEZnD4INFtUt2.png',\n",
       "   './dataset/con_custom_dataset_2000/UTqsNsZQCThhJduOChbctH76Avj2.png',\n",
       "   './dataset/con_custom_dataset_2000/MEEGIoNSX4exg4oIL3Q9MdysPJq1.png',\n",
       "   './dataset/con_custom_dataset_2000/1d431934-f720-4784-9e11-8dd71d6e6114.png',\n",
       "   './dataset/con_custom_dataset_2000/SkZeafTL9dd9dwV9nEbNrszqc8u1.png',\n",
       "   './dataset/con_custom_dataset_2000/210000.png',\n",
       "   './dataset/con_custom_dataset_2000/69641.png',\n",
       "   './dataset/con_custom_dataset_2000/92e1cd7d-6318-4906-8094-819f3244e03c.png',\n",
       "   './dataset/con_custom_dataset_2000/6pXKrZlDycStXTNMBjGXtxxYfvc2.png',\n",
       "   './dataset/con_custom_dataset_2000/a70016f0-99ed-4be0-bb29-137d83c5a7ca.png',\n",
       "   './dataset/con_custom_dataset_2000/lpnAzDCKhnNhryfkxvnedo1xnan1.png',\n",
       "   './dataset/con_custom_dataset_2000/fja76ZsTgfPWoDCUcwnRLI5XrLZ2.png',\n",
       "   './dataset/con_custom_dataset_2000/111671.png',\n",
       "   './dataset/con_custom_dataset_2000/071da517-8148-4a3a-9d49-fbb22938741c.png',\n",
       "   './dataset/con_custom_dataset_2000/nwXAgQmOEVRx6dZqQzc0GdmNSx22.png',\n",
       "   './dataset/con_custom_dataset_2000/a5768eb0-df59-425a-9813-333689cd32ba.png',\n",
       "   './dataset/con_custom_dataset_2000/elSiVyo2V3USxFXNuExlbh9hrNm1.png',\n",
       "   './dataset/con_custom_dataset_2000/3RBbwztykUWGLJ5UmBZoL5pqOtA3.png',\n",
       "   './dataset/con_custom_dataset_2000/2n0fnSeTNiWvPi7aLxRrFsCGU8D2.png',\n",
       "   './dataset/con_custom_dataset_2000/118559.png',\n",
       "   './dataset/con_custom_dataset_2000/216368.png',\n",
       "   './dataset/con_custom_dataset_2000/7a71ntGZtkQKltg52eiRPJj4cr33.png',\n",
       "   './dataset/con_custom_dataset_2000/f78ZFmqneaOWttg3xhtcmO4XZOu2.png',\n",
       "   './dataset/con_custom_dataset_2000/182613.png',\n",
       "   './dataset/con_custom_dataset_2000/vMGhws3ezYdCMfegQ6GXlLxmdGJ3.png',\n",
       "   './dataset/con_custom_dataset_2000/4bbae589-df8c-4ccc-bb63-8332976d45ab.png',\n",
       "   './dataset/con_custom_dataset_2000/6bc3c2de-c149-49ff-918b-da02fda79690.png',\n",
       "   './dataset/con_custom_dataset_2000/jSb7SyucSmTHhzs3qQoBExRMQZ02.png',\n",
       "   './dataset/con_custom_dataset_2000/qpCGgfO05mWt67NzsFBKWJ5ZF1U2.png',\n",
       "   './dataset/con_custom_dataset_2000/85950027-a5fd-4cd4-ad38-46202aa61172.png',\n",
       "   './dataset/con_custom_dataset_2000/D31ydMgq8wMpO9OOGwxpMfOp9qg1.png',\n",
       "   './dataset/con_custom_dataset_2000/qDaEukMgm3YGWKR1SdJqKIaxG6Z2.png',\n",
       "   './dataset/con_custom_dataset_2000/e823d8a4-c2e0-4553-ac2e-ec4d1e669b25.png',\n",
       "   './dataset/con_custom_dataset_2000/49915e45-d115-47db-9e47-cfdbde2980fd.png',\n",
       "   './dataset/con_custom_dataset_2000/f69ca8db-98ef-469a-91ce-f124e335f835.png',\n",
       "   './dataset/con_custom_dataset_2000/7d63adbd-883b-4483-a64e-9e503376b49a.png',\n",
       "   './dataset/con_custom_dataset_2000/dcd3d3cc-73f0-4953-80f4-acfa1cbd838f.png',\n",
       "   './dataset/con_custom_dataset_2000/t36yqxelXtUEMy6tQJd8Bn1Kr673.png',\n",
       "   './dataset/con_custom_dataset_2000/Ny6G594aKENcYgURBgYJJa62ziV2.png',\n",
       "   './dataset/con_custom_dataset_2000/5abe08ce-78bc-4cbe-a59a-7c48aa151f99.png',\n",
       "   './dataset/con_custom_dataset_2000/IkwAlxsvmhXfpi9seBDU6rksY7C2.png',\n",
       "   './dataset/con_custom_dataset_2000/371fce60-ce5a-4003-9396-e4acddc42184.png',\n",
       "   './dataset/con_custom_dataset_2000/lpnAzDCKhnNhryfkxvnedo1xnan1.png',\n",
       "   './dataset/con_custom_dataset_2000/X2CDAl47UaUtiS9UGq7Yn0NTOLu2.png',\n",
       "   './dataset/con_custom_dataset_2000/3kUDnCX53IYe2LGsEDHwuXE8bWP2.png',\n",
       "   './dataset/con_custom_dataset_2000/RFqBDNt9sLR9PxvBliE1JhFVzK42.png',\n",
       "   './dataset/con_custom_dataset_2000/Icj21hlLQ5ZwFOgpuekc0Bn7Ucy1.png',\n",
       "   './dataset/con_custom_dataset_2000/qHN6U03r3TRKVZ83fmWDDQvtDuz1.png',\n",
       "   './dataset/con_custom_dataset_2000/f66386d5-f2e2-4b9b-8f00-35e51858446b.png',\n",
       "   './dataset/con_custom_dataset_2000/6bfbd1f8-254f-44ee-bcac-92abe4b65a7d.png',\n",
       "   './dataset/con_custom_dataset_2000/p0NEd67WfNMVpZuyt7ECTS6VxDa2.png',\n",
       "   './dataset/con_custom_dataset_2000/gWIawRTh97MMSACF9Mq9braP8s12.png',\n",
       "   './dataset/con_custom_dataset_2000/bae8dd76-5e32-4992-9337-1048ada41e18.png',\n",
       "   './dataset/con_custom_dataset_2000/pBB2aZFbLCMky5VPRAoWIClKN2Y2.png',\n",
       "   './dataset/con_custom_dataset_2000/aPGmE5oG8zRtIVECwyuUT0ussn02.png',\n",
       "   './dataset/con_custom_dataset_2000/3600204a-7929-478b-84b5-d55ccb6e0bed.png',\n",
       "   './dataset/con_custom_dataset_2000/HLrE1Z2wnQSraudLRqiWgR154rA3.png',\n",
       "   './dataset/con_custom_dataset_2000/4f51ecc6-15d8-4545-8d0f-2cd22b36ac02.png',\n",
       "   './dataset/con_custom_dataset_2000/9KCtOKDALHXZZpzXizYJxBQ2Ulz1.png',\n",
       "   './dataset/con_custom_dataset_2000/8d356fbd-1186-481a-a1c3-e8d2043ac3ac.png',\n",
       "   './dataset/con_custom_dataset_2000/gr6bSWC4ScN21fpbwxCXpwgFE2X2.png',\n",
       "   './dataset/con_custom_dataset_2000/oNVwfrIb63g5zB4jsaduCjuufPo1.png',\n",
       "   './dataset/con_custom_dataset_2000/bk1oHM5vebe9ZNtgyRq54UVOIQR2.png',\n",
       "   './dataset/con_custom_dataset_2000/fb0971e2-8ebf-459c-972d-b09d28ae0ca6.png',\n",
       "   './dataset/con_custom_dataset_2000/FGRDO4IBbAejR0WHD5YbkXTCasg2.png',\n",
       "   './dataset/con_custom_dataset_2000/34FItWuiLofMlaG1BmqHWVgHelh2.png',\n",
       "   './dataset/con_custom_dataset_2000/1150f54a-1b26-42f9-86ee-ef89f40ab913.png',\n",
       "   './dataset/con_custom_dataset_2000/zBiORuLmvGhOciaUXFeAKRhMyhj2.png',\n",
       "   './dataset/con_custom_dataset_2000/2328eabf-189e-483e-9640-c0c7918f45ef.png',\n",
       "   './dataset/con_custom_dataset_2000/1iqECx2FTmg6fkTzjVIZeN7ymnH3.png',\n",
       "   './dataset/con_custom_dataset_2000/2e005827-38ab-4fe0-bf3e-1b2244dd0a88.png',\n",
       "   './dataset/con_custom_dataset_2000/PlplsT6dnBbbDLRRXiSGU5I8Jls2.png',\n",
       "   './dataset/con_custom_dataset_2000/db594088-8c3e-420f-9c5f-8d39f634ad06.png',\n",
       "   './dataset/con_custom_dataset_2000/b424b8d0-3a22-4200-baca-4d804eab8f15.png',\n",
       "   './dataset/con_custom_dataset_2000/nyQzKuJfGpRc1KD8cXFY9l6qdcv2.png',\n",
       "   './dataset/con_custom_dataset_2000/xJyoUt9euYQsPrWglHIDGqjtOjg1.png',\n",
       "   './dataset/con_custom_dataset_2000/ae45bd97-2717-4765-9ce2-0d5d05900e0f.png',\n",
       "   './dataset/con_custom_dataset_2000/113fc684-673e-4a36-8c3b-251783ff1ae0.png',\n",
       "   './dataset/con_custom_dataset_2000/oOAokpgIGldpKKlBoPfcyOoycf23.png',\n",
       "   './dataset/con_custom_dataset_2000/5d61957f-6865-4e0a-b666-03a928f39e92.png',\n",
       "   './dataset/con_custom_dataset_2000/FYqsLjb8gjOLhrB64aWUc53KVVf2.png',\n",
       "   './dataset/con_custom_dataset_2000/K8QeHIukfghK4kOQx8LnffbLWP12.png',\n",
       "   './dataset/con_custom_dataset_2000/ae800719-1e77-45cb-9c1d-264eebca44ec.png',\n",
       "   './dataset/con_custom_dataset_2000/5d7f5828-1e9b-4857-9a56-c093bab6a58c.png',\n",
       "   './dataset/con_custom_dataset_2000/362fdba5-bb0b-424e-8265-e42a6b1715d0.png',\n",
       "   './dataset/con_custom_dataset_2000/naPVzGoHqwfHo3PNVfoNxMpR7qU2.png',\n",
       "   './dataset/con_custom_dataset_2000/3Vqysidm4ihlWFBQPErMAClnMbu2.png',\n",
       "   './dataset/con_custom_dataset_2000/27876668-3239-42d2-8b90-ce3569cffb2a.png',\n",
       "   './dataset/con_custom_dataset_2000/35172561-c4d1-4b23-ab33-963b97b2a206.png',\n",
       "   './dataset/con_custom_dataset_2000/fa4901d6-93a8-40b6-8bd4-deb573ce10bb.png',\n",
       "   './dataset/con_custom_dataset_2000/905c8cd3-3401-4ba9-aea0-1dfbfa43b3f4.png',\n",
       "   './dataset/con_custom_dataset_2000/oakTHXyve7PxMjMsDDb7VNnM0Ie2.png',\n",
       "   './dataset/con_custom_dataset_2000/cbdd4f1b-a67e-46e3-8f1a-a52da5689294.png',\n",
       "   './dataset/con_custom_dataset_2000/6eb6b7fd-e445-4230-af3c-b530d364cee1.png',\n",
       "   './dataset/con_custom_dataset_2000/eP8gEM0KcBU6S5JpMdycX74KP3p2.png',\n",
       "   './dataset/con_custom_dataset_2000/3CMQ3nCRdaU5K8pfUiqOpzUgQRz2.png',\n",
       "   './dataset/con_custom_dataset_2000/f255efb4-c99e-48c5-be11-d71cbf086c06.png',\n",
       "   './dataset/con_custom_dataset_2000/ab007b1a-114c-4fd0-b271-3080149b8cab.png',\n",
       "   './dataset/con_custom_dataset_2000/141ad4b1-d9b2-407d-9e48-913915c02b74.png',\n",
       "   './dataset/con_custom_dataset_2000/Qt3Wy5zDjYfrcZtylWX0sh5niMa2.png',\n",
       "   './dataset/con_custom_dataset_2000/104476.png',\n",
       "   './dataset/con_custom_dataset_2000/Fsy78EiP9pOaFmMc6VjdI30SMvV2.png',\n",
       "   './dataset/con_custom_dataset_2000/yJRZfiFIsQhFptP6nnlJp825AHF2.png',\n",
       "   './dataset/con_custom_dataset_2000/xyDgyXrDoyXu5CFqcNe20LRjYqg1.png',\n",
       "   './dataset/con_custom_dataset_2000/6d7c06f2-8ddf-48ed-91bd-084b6cd7e3b2.png',\n",
       "   './dataset/con_custom_dataset_2000/2df2d29d-4cba-4ae2-a91f-67e36c52f91e.png',\n",
       "   './dataset/con_custom_dataset_2000/48aac1b2-829d-4cf1-b164-7fd38eba728b.png',\n",
       "   './dataset/con_custom_dataset_2000/OnSOmvzzE2WLcwfrSyNbh0B89n72.png',\n",
       "   './dataset/con_custom_dataset_2000/65483.png',\n",
       "   './dataset/con_custom_dataset_2000/7e8bfabe-ab2f-4509-abcd-d34e033eed3d.png',\n",
       "   './dataset/con_custom_dataset_2000/6f287ab9-eef2-40db-9ddb-383aeb486550.png',\n",
       "   './dataset/con_custom_dataset_2000/GANtY5XDqOUFMC2lEizSdBuainB2.png',\n",
       "   './dataset/con_custom_dataset_2000/9qXBPCugOSe0Yl1GhThi1kCVZDD2.png',\n",
       "   './dataset/con_custom_dataset_2000/140199.png',\n",
       "   './dataset/con_custom_dataset_2000/3tu94JnHgHN3B7LVzqQwE25H2Gl1.png',\n",
       "   './dataset/con_custom_dataset_2000/64d1c1e9-e3bc-47d1-a6fe-6b051d58e8f8.png',\n",
       "   './dataset/con_custom_dataset_2000/F2sQBi45ZdZMn8gQdcQB5wklMct2.png',\n",
       "   './dataset/con_custom_dataset_2000/1swHxN9xPFUu90g29z2RMCxG3oJ2.png',\n",
       "   './dataset/con_custom_dataset_2000/5f2258c6-b140-4390-9465-b8f84f6fa0ab.png',\n",
       "   './dataset/con_custom_dataset_2000/iZa9QuNqinWMeMTdwFstfYRpw4J3.png',\n",
       "   './dataset/con_custom_dataset_2000/107122.png',\n",
       "   './dataset/con_custom_dataset_2000/260ffed4-3b4d-4a85-a3c5-03e679613cca.png',\n",
       "   './dataset/con_custom_dataset_2000/5b20026e-c664-4f47-883d-5f2cce5499eb.png',\n",
       "   './dataset/con_custom_dataset_2000/26176.png',\n",
       "   './dataset/con_custom_dataset_2000/f049db3b-5e1b-4dee-a83f-2882d91d2cbf.png',\n",
       "   './dataset/con_custom_dataset_2000/0a5ed841-efb5-43ab-bf5e-6d9cc777607d.png',\n",
       "   './dataset/con_custom_dataset_2000/738299e7-a8a3-480e-ae6b-dda954a5f211.png',\n",
       "   './dataset/con_custom_dataset_2000/yS7pj7vgWyMU5nqgYXglXiTcW9A2.png',\n",
       "   './dataset/con_custom_dataset_2000/1d1c5926-b155-43f0-b9e3-5d3d20ae604d.png',\n",
       "   './dataset/con_custom_dataset_2000/ddjJ6wgPMRXzqByVDrLeTEVPzF32.png',\n",
       "   './dataset/con_custom_dataset_2000/37226.png',\n",
       "   './dataset/con_custom_dataset_2000/167077.png',\n",
       "   './dataset/con_custom_dataset_2000/0258d823-7bdf-451a-9a6c-c48ec3ab3228.png',\n",
       "   './dataset/con_custom_dataset_2000/RfrT8p9208NHn3170qOYmxel8Kw2.png',\n",
       "   './dataset/con_custom_dataset_2000/c15189c9-90ab-427c-9362-9ed74ab1e5eb.png',\n",
       "   './dataset/con_custom_dataset_2000/oeOuvTlUMEfWPcNOA4EnTk5Bh4K2.png',\n",
       "   './dataset/con_custom_dataset_2000/xRTpzeZwMiQaC5YCnlXZeDwgcvL2.png',\n",
       "   './dataset/con_custom_dataset_2000/4bd17de6-3437-4b69-a486-36813a37e498.png',\n",
       "   './dataset/con_custom_dataset_2000/30d627b0-b135-4a66-af5f-2d68246a29d9.png',\n",
       "   './dataset/con_custom_dataset_2000/VtRlegQfrDTPW4WxmoW3iJPzedQ2.png',\n",
       "   './dataset/con_custom_dataset_2000/rsVzlx8x0INOnHAt8Xu6jrxeGqG2.png',\n",
       "   './dataset/con_custom_dataset_2000/62f2bc96-f382-4587-a17f-d708a6bcb657.png',\n",
       "   './dataset/con_custom_dataset_2000/fde994f5-9d16-4d4f-82e7-3daf6e3c960b.png',\n",
       "   './dataset/con_custom_dataset_2000/c18b81Qa5YY2RbEzblDNxMNQE312.png',\n",
       "   './dataset/con_custom_dataset_2000/jRlVIgE9hofnOP2Lo8He6ebcecz1.png',\n",
       "   './dataset/con_custom_dataset_2000/797db370-3b17-4bb6-8104-aeaf5825779d.png',\n",
       "   './dataset/con_custom_dataset_2000/VB3X18XtrRdSVJ8zDzdyKohlX2F2.png',\n",
       "   './dataset/con_custom_dataset_2000/72b474cc-b704-4871-8bb6-e2a50b2f2358.png',\n",
       "   './dataset/con_custom_dataset_2000/MvMha3CRSic03lfuBh8UIj7k3ak1.png',\n",
       "   './dataset/con_custom_dataset_2000/dwCHWFYULRfluqFV2B10a2aUavI3.png',\n",
       "   './dataset/con_custom_dataset_2000/254160.png',\n",
       "   './dataset/con_custom_dataset_2000/sh8x9M4ZeXXllQvCiFENINxFf9h1.png',\n",
       "   './dataset/con_custom_dataset_2000/SeJVLdrWddXdcxmY9Q51FUjCFRv1.png',\n",
       "   './dataset/con_custom_dataset_2000/GzhrTQhWHSTwvweRKx2x1Uh4wx52.png',\n",
       "   './dataset/con_custom_dataset_2000/1iqECx2FTmg6fkTzjVIZeN7ymnH3.png',\n",
       "   './dataset/con_custom_dataset_2000/8UkGuBU6UQZqRiqhPtxq1v5m2a33.png',\n",
       "   './dataset/con_custom_dataset_2000/178f39e2-a261-4ec6-a8fb-3f89c3c795bb.png',\n",
       "   './dataset/con_custom_dataset_2000/eqtebymPdFfBCm8B85n5oSR7Gja2.png',\n",
       "   './dataset/con_custom_dataset_2000/OmMVi6kdnHbu8sKZsh6HsGHm4Cs1.png',\n",
       "   './dataset/con_custom_dataset_2000/16af8331-f890-4f2e-bf49-2b42985d379e.png',\n",
       "   './dataset/con_custom_dataset_2000/d2ba3a1a-db32-46fa-8d75-54a5df87997f.png',\n",
       "   './dataset/con_custom_dataset_2000/dWeafY7aXUadwWiTVJinx7sftGl2.png',\n",
       "   './dataset/con_custom_dataset_2000/ya3VviewxzdRZqbLrEXsIrvilRR2.png',\n",
       "   './dataset/con_custom_dataset_2000/565a988e-57fc-4d8f-a071-307a9887d2c7.png',\n",
       "   './dataset/con_custom_dataset_2000/Hx0gMpwXrbhBp9SV7clzSDQ50EM2.png',\n",
       "   './dataset/con_custom_dataset_2000/9346b477-e1a4-4c7c-8b9c-d24aff62d086.png',\n",
       "   './dataset/con_custom_dataset_2000/8ebca537-22d5-45fd-9f1c-60a58622284d.png',\n",
       "   './dataset/con_custom_dataset_2000/owp10hao8XZzW0ooJYkACRmuGDu1.png',\n",
       "   './dataset/con_custom_dataset_2000/MVhuzBxevwRieaQMwOCfiyCCzUK2.png',\n",
       "   './dataset/con_custom_dataset_2000/RUG3ss3JaEVElB4LvuOrW8wC1pD2.png',\n",
       "   './dataset/con_custom_dataset_2000/MKb4BFUuYAZfOtzGlAz1UwNzo6R2.png',\n",
       "   './dataset/con_custom_dataset_2000/1522f7a3-8aa6-41ba-82ae-01d5c0f62dd1.png',\n",
       "   './dataset/con_custom_dataset_2000/a2bd77dd-61f9-494d-b6b5-306ada124f30.png',\n",
       "   './dataset/con_custom_dataset_2000/xvMgeb7JIxMhve3nHltF43FL1q52.png',\n",
       "   './dataset/con_custom_dataset_2000/85e6deca-9cb3-472e-a38b-e48d063c0194.png',\n",
       "   './dataset/con_custom_dataset_2000/9D1go0wkvuPkFebFk4uQQpcBuZw1.png',\n",
       "   './dataset/con_custom_dataset_2000/oNB3E8WhVsOEhgx0sgNm0Czv5bK2.png',\n",
       "   './dataset/con_custom_dataset_2000/0HIgO2EhOOW1msCbEw1kC8Qsx6D3.png',\n",
       "   './dataset/con_custom_dataset_2000/LziLApJbcWWu3MzbIL8k6mLdyFK2.png',\n",
       "   './dataset/con_custom_dataset_2000/oNB3E8WhVsOEhgx0sgNm0Czv5bK2.png',\n",
       "   './dataset/con_custom_dataset_2000/144028.png',\n",
       "   './dataset/con_custom_dataset_2000/O924JvpBNRN7jHvErWkpfjqGvat1.png',\n",
       "   './dataset/con_custom_dataset_2000/37ac823b-4e39-4e85-a6c1-5e1e79979a13.png',\n",
       "   './dataset/con_custom_dataset_2000/QlMu7Fl8iIgOZM3QHEOzOJY6npH3.png',\n",
       "   './dataset/con_custom_dataset_2000/FGRDO4IBbAejR0WHD5YbkXTCasg2.png',\n",
       "   './dataset/con_custom_dataset_2000/76N4aFIJXScxI1iHeSsihGmRKnv1.png',\n",
       "   './dataset/con_custom_dataset_2000/d7596990-fb2d-4b29-b727-755cbf454828.png',\n",
       "   './dataset/con_custom_dataset_2000/jRjAYMmAQee5uVm5fU8yVnpuvs33.png',\n",
       "   './dataset/con_custom_dataset_2000/d2b47559-7269-4ea0-8855-548424e04e8d.png',\n",
       "   './dataset/con_custom_dataset_2000/ba5ade2c-45fc-41e5-b111-86c08ea8609b.png',\n",
       "   './dataset/con_custom_dataset_2000/b877f068-3af8-4a02-b908-4fceeec17d7d.png',\n",
       "   './dataset/con_custom_dataset_2000/VFG4CURiubQsHbGiux3co3TyL043.png',\n",
       "   './dataset/con_custom_dataset_2000/7017af36-9850-4462-9eaf-c1bb33bfaf7c.png',\n",
       "   './dataset/con_custom_dataset_2000/d0c8a249-99f8-4327-a486-16e75d2c2ab5.png',\n",
       "   './dataset/con_custom_dataset_2000/520fe4b6-a717-4c56-b2f0-9f168df246e3.png',\n",
       "   './dataset/con_custom_dataset_2000/Zs8oTVcUPTc8pk9UES7sFEhRDxX2.png',\n",
       "   './dataset/con_custom_dataset_2000/ETcnGsA5gNUC1t3cXJY6KXLvF7W2.png',\n",
       "   './dataset/con_custom_dataset_2000/fd849b72-f4bf-4852-9bc2-fd9becc9571e.png',\n",
       "   './dataset/con_custom_dataset_2000/477c30ae-e109-4f00-ba38-6dca2ab19392.png',\n",
       "   './dataset/con_custom_dataset_2000/05bieNLXPuaIWEVaX81EkbbjVrh1.png',\n",
       "   './dataset/con_custom_dataset_2000/zo7vWVJHp5W8ojnfNUogikQTu2K2.png',\n",
       "   './dataset/con_custom_dataset_2000/334b6703-dfdd-40b9-b79e-c2c78d518aa6.png',\n",
       "   './dataset/con_custom_dataset_2000/152007.png',\n",
       "   './dataset/con_custom_dataset_2000/KqhQ8Eo62fYCdBse8NiW1BYCtxp1.png',\n",
       "   './dataset/con_custom_dataset_2000/118657.png',\n",
       "   './dataset/con_custom_dataset_2000/2da2b65c-a06b-48c8-848f-fd905acb9b0a.png',\n",
       "   './dataset/con_custom_dataset_2000/49f7f1de-5199-4291-b906-f058a8dc74d9.png',\n",
       "   './dataset/con_custom_dataset_2000/a108168e-2e20-489f-937f-526ec6242a14.png',\n",
       "   './dataset/con_custom_dataset_2000/6OVT42wvVggUA7rkEuziRRtNNuo2.png',\n",
       "   './dataset/con_custom_dataset_2000/182012.png',\n",
       "   './dataset/con_custom_dataset_2000/49c952bf-0654-4baa-a67f-363745f146de.png',\n",
       "   './dataset/con_custom_dataset_2000/7b3f90c2-9236-4bdc-abf9-375698074f5e.png',\n",
       "   './dataset/con_custom_dataset_2000/cbe174cb-63d3-4d6c-95d0-db9a5567a9a3.png',\n",
       "   './dataset/con_custom_dataset_2000/9g7Qa5FMZgUoDcKvLIPLo7m6mOD3.png',\n",
       "   './dataset/con_custom_dataset_2000/185908.png',\n",
       "   './dataset/con_custom_dataset_2000/30043.png',\n",
       "   './dataset/con_custom_dataset_2000/57DMikLLUefbXYKeCPuxp5Wdtfr1.png',\n",
       "   './dataset/con_custom_dataset_2000/qkdJKHOBuAYsKvnxbLvnoJ5Dc8y2.png',\n",
       "   './dataset/con_custom_dataset_2000/025ed3e7-bc59-47ef-9e58-e512e135a86a.png',\n",
       "   './dataset/con_custom_dataset_2000/rlklHwPKGycGalH7q9XMRnUqXxd2.png',\n",
       "   './dataset/con_custom_dataset_2000/673c153e-ab5b-42e2-85c7-578fd55fc1ff.png',\n",
       "   './dataset/con_custom_dataset_2000/abc767b9-3c85-4efc-8636-0547d2d52f96.png',\n",
       "   './dataset/con_custom_dataset_2000/209698.png',\n",
       "   './dataset/con_custom_dataset_2000/d2Z7BHOMYlaJlksH8MiGJ9wKlBX2.png',\n",
       "   './dataset/con_custom_dataset_2000/30b43c41-f550-417e-9b7b-b663e6dbeabc.png',\n",
       "   './dataset/con_custom_dataset_2000/KcO2p01LdYga7563y95BkKII9Dh1.png',\n",
       "   './dataset/con_custom_dataset_2000/5a907277-cd6b-408b-b19a-28c032e35d32.png',\n",
       "   './dataset/con_custom_dataset_2000/a3ec31d2-5de0-4a84-8da3-c366ff82815b.png',\n",
       "   './dataset/con_custom_dataset_2000/dd3ef8ab-28a6-437d-99dc-c9eb0c4fc0a4.png',\n",
       "   './dataset/con_custom_dataset_2000/us7APpurf2OG6PGiYAvqrE4fZtQ2.png',\n",
       "   './dataset/con_custom_dataset_2000/a828176f-1139-47e5-afa2-39cbbc638ccc.png',\n",
       "   './dataset/con_custom_dataset_2000/ql3kCRgabMZdkQabRLQNwJGLpwe2.png',\n",
       "   './dataset/con_custom_dataset_2000/SY4Ekt5W4VZdeIm5r3iLmjxz9pA2.png',\n",
       "   './dataset/con_custom_dataset_2000/0e9b60d0-935f-42bc-bc2e-c337900522d5.png',\n",
       "   './dataset/con_custom_dataset_2000/69101dc9-dfd5-43b5-b063-54a2e634e021.png',\n",
       "   './dataset/con_custom_dataset_2000/t36yqxelXtUEMy6tQJd8Bn1Kr673.png',\n",
       "   './dataset/con_custom_dataset_2000/iukMZ50a9COYLA8Rc1l3ejRdhT92.png',\n",
       "   './dataset/con_custom_dataset_2000/LtqbA3mrmKN4wsTG0sEoPl6fAfB2.png',\n",
       "   './dataset/con_custom_dataset_2000/56HPUhHPM9UEksAVgCDbQZcxsuZ2.png',\n",
       "   './dataset/con_custom_dataset_2000/2vH4QMrMaMMm5oZYScY0b36Z8MC3.png',\n",
       "   './dataset/con_custom_dataset_2000/2c38b55e-7a52-4b23-a4a5-f0da83cd2cba.png',\n",
       "   './dataset/con_custom_dataset_2000/1db59495-2f24-43e8-8cfa-4fdb76caf814.png',\n",
       "   './dataset/con_custom_dataset_2000/61252.png',\n",
       "   './dataset/con_custom_dataset_2000/3d080e1b-cfa2-43aa-b017-9621cdea5c7a.png',\n",
       "   './dataset/con_custom_dataset_2000/23e1e71e-4379-4f94-b431-a8cccc00758b.png',\n",
       "   './dataset/con_custom_dataset_2000/d334df6a-c470-4a7f-bcfa-581b0f49836c.png',\n",
       "   './dataset/con_custom_dataset_2000/uzZEBGlFZ5c1dY39rmcphVB0s1q2.png',\n",
       "   './dataset/con_custom_dataset_2000/6MOH79fX0ReMHLdJCA5W9ZFBYn42.png',\n",
       "   './dataset/con_custom_dataset_2000/35696441-0ffc-440a-9552-eacb83522f37.png',\n",
       "   './dataset/con_custom_dataset_2000/Fuj8ConlkeNoRot2tyMMyzYCKfo2.png',\n",
       "   './dataset/con_custom_dataset_2000/quF8xZxqK8NnszkwktXovmZ9fBT2.png',\n",
       "   './dataset/con_custom_dataset_2000/8f71aa36-4f94-4726-9def-b98b63f03a27.png',\n",
       "   './dataset/con_custom_dataset_2000/1eaceeaa-6f4c-4be6-8004-ce8ab93db8e4.png',\n",
       "   './dataset/con_custom_dataset_2000/5b7312df-3d0b-4a64-8884-e9072acceb41.png',\n",
       "   './dataset/con_custom_dataset_2000/125070.png',\n",
       "   './dataset/con_custom_dataset_2000/229rWq0xWbfGANPmsv6F39xhjnS2.png',\n",
       "   './dataset/con_custom_dataset_2000/e695a385-83cf-48d7-9595-ab9cf8923359.png',\n",
       "   './dataset/con_custom_dataset_2000/aa934f49-ea02-40f0-a922-cd53bcb000b7.png',\n",
       "   './dataset/con_custom_dataset_2000/E8foKQD2BqYfZjFhdhknvaDp3Ot2.png',\n",
       "   './dataset/con_custom_dataset_2000/8d84de2b-5d02-4920-9dae-10adb0457496.png',\n",
       "   './dataset/con_custom_dataset_2000/A9YX4pRpOyW1PuuL9YjMs0kFQI03.png',\n",
       "   './dataset/con_custom_dataset_2000/d50fb043-08aa-4960-94f7-e9bbc690e70d.png',\n",
       "   './dataset/con_custom_dataset_2000/zUAc2drprdaJAE0h1XpQyk01iE22.png',\n",
       "   './dataset/con_custom_dataset_2000/giXzRAAuoRRAg7xQ9Y56DX0FVDr1.png',\n",
       "   './dataset/con_custom_dataset_2000/Bjp6S2aILuesK2yOZQIG06WliTM2.png',\n",
       "   './dataset/con_custom_dataset_2000/913f3a73-b184-453d-b83a-ae3dd1a595f7.png',\n",
       "   './dataset/con_custom_dataset_2000/e6d8ee6f-e5a6-46c7-a1d5-19782ca48156.png',\n",
       "   './dataset/con_custom_dataset_2000/98efda38-a49b-4483-82e1-d3b99b61e072.png',\n",
       "   './dataset/con_custom_dataset_2000/mWomPz26WCRVi8sp1QneGAvTBL72.png',\n",
       "   './dataset/con_custom_dataset_2000/6c821b6d-b67c-4838-9ee7-4c8a983df383.png',\n",
       "   './dataset/con_custom_dataset_2000/727349f2-4730-45f6-99fe-8cf1ae1f2004.png',\n",
       "   './dataset/con_custom_dataset_2000/b0093b28-6c05-4242-b03e-ba1b6bbe19d7.png',\n",
       "   './dataset/con_custom_dataset_2000/209473.png',\n",
       "   './dataset/con_custom_dataset_2000/FYqsLjb8gjOLhrB64aWUc53KVVf2.png',\n",
       "   './dataset/con_custom_dataset_2000/020158eb-9cb5-4977-8131-840cdaf199b4.png',\n",
       "   './dataset/con_custom_dataset_2000/f18097f1-d7d5-4566-a7f1-dce0f2e8da87.png',\n",
       "   './dataset/con_custom_dataset_2000/32de89f2-c5df-461f-b463-1f3c07abaa6f.png',\n",
       "   './dataset/con_custom_dataset_2000/dtV4ZlnWakRFGKpIfiUqdu3q6iq1.png',\n",
       "   './dataset/con_custom_dataset_2000/U98J2q0NnycYzzUS2BYZpUa55X83.png',\n",
       "   './dataset/con_custom_dataset_2000/76408.png',\n",
       "   './dataset/con_custom_dataset_2000/yWp5tMRFDzbbeEe2csKNd909fqh1.png',\n",
       "   './dataset/con_custom_dataset_2000/E3gn7SKrMhOK49iJSeIAEa1s7Kb2.png',\n",
       "   './dataset/con_custom_dataset_2000/vn3xkK3lIdViBCa9kMj8LDOy9yV2.png',\n",
       "   './dataset/con_custom_dataset_2000/da646fb7-7bdd-41b7-8a4e-3449e0f43396.png',\n",
       "   './dataset/con_custom_dataset_2000/dmZsPx4whFbTWD54PHQifpUZ60i2.png',\n",
       "   './dataset/con_custom_dataset_2000/vtgAUePTOhhqlyo7DiNxlnghA6h1.png',\n",
       "   './dataset/con_custom_dataset_2000/f6f87792-9e59-4dfd-a523-417242d4aa74.png',\n",
       "   './dataset/con_custom_dataset_2000/3b3e57ea-100f-4013-9d0b-d4b5345749d7.png',\n",
       "   './dataset/con_custom_dataset_2000/91243e44-df7a-48e7-84f6-a7757cd8d05b.png',\n",
       "   './dataset/con_custom_dataset_2000/ec26f10e-2987-454b-ab43-09ca80de58fb.png',\n",
       "   './dataset/con_custom_dataset_2000/dcae5349-1982-43a9-92d6-a1bdecf6bf07.png',\n",
       "   './dataset/con_custom_dataset_2000/Xn3y4lqypTNVBsB1yYYkDDypizk2.png',\n",
       "   './dataset/con_custom_dataset_2000/hW4d85xBzrf1VE9gotLdeSgwXAo2.png',\n",
       "   './dataset/con_custom_dataset_2000/ypvsQ6trNDhlWTd8A5vXrRCC8mg1.png',\n",
       "   './dataset/con_custom_dataset_2000/f6fd67d0-eb9d-47b4-9fc7-1e4af068d05b.png',\n",
       "   './dataset/con_custom_dataset_2000/60337089-8f4d-41a7-95b0-eec8135f1437.png',\n",
       "   './dataset/con_custom_dataset_2000/65535f56-bd8d-4304-bc5d-9b4b8b266117.png',\n",
       "   './dataset/con_custom_dataset_2000/pIZi88QnOcUv7rOGz8iHLw1r2XI3.png',\n",
       "   './dataset/con_custom_dataset_2000/fbd52f87-029f-4bd9-86ed-4743018722e8.png',\n",
       "   './dataset/con_custom_dataset_2000/5P3EfdsLvKSOquCjSeutXLqqJKL2.png',\n",
       "   './dataset/con_custom_dataset_2000/06b56e5a-a581-45e9-a746-de8e94d9d9d6.png',\n",
       "   './dataset/con_custom_dataset_2000/7GWUfrhqMCWAotCUbROzgawkCh82.png',\n",
       "   './dataset/con_custom_dataset_2000/da2400b4-11a2-4d70-901b-7811ec437e81.png',\n",
       "   './dataset/con_custom_dataset_2000/269e2kDksfRXKVHNXf4ACl9JUVm1.png',\n",
       "   './dataset/con_custom_dataset_2000/8607a804-4e98-417e-b0db-86213ef4c6ba.png',\n",
       "   './dataset/con_custom_dataset_2000/jaRfWYxsWjV2L833wIIyuivEWFG3.png',\n",
       "   './dataset/con_custom_dataset_2000/e66c753b-9974-497b-b274-605a3a6f29b0.png',\n",
       "   './dataset/con_custom_dataset_2000/3cb4dbb6-d191-4331-bcdb-eec0f100484a.png',\n",
       "   './dataset/con_custom_dataset_2000/5c031c87-0d6c-4447-bfa0-cc959f409752.png',\n",
       "   './dataset/con_custom_dataset_2000/KLjaX6zFZccy7YNw6CQ3fkzzwkt1.png',\n",
       "   './dataset/con_custom_dataset_2000/s4cWXeTXzEagPfbizekEnRnDh4p1.png',\n",
       "   './dataset/con_custom_dataset_2000/051e4b7c-a3a2-49c3-b3e8-e31099e5a932.png',\n",
       "   './dataset/con_custom_dataset_2000/d54fefaa-1926-4781-9630-0064c529bce3.png',\n",
       "   './dataset/con_custom_dataset_2000/SI6TF4Wk7XdAyxpOK4rW3usdrAm1.png',\n",
       "   './dataset/con_custom_dataset_2000/tpnRTSUMvkT4tJZpIQi0OghPefz1.png',\n",
       "   './dataset/con_custom_dataset_2000/OLMx2P1UahSgkhGyN5zLHZsXMo02.png',\n",
       "   './dataset/con_custom_dataset_2000/Hl3DXvP5aMhh2JhHFE0K2ofITyl2.png',\n",
       "   './dataset/con_custom_dataset_2000/341ff20f-b75f-4d5a-8ee9-38ba198ed6ec.png',\n",
       "   './dataset/con_custom_dataset_2000/tZ4S3CC8pvNc72VYadUYndOUlCE3.png',\n",
       "   './dataset/con_custom_dataset_2000/sPGRBmPA8SX6kBsrzS7c4zt8fsr2.png',\n",
       "   './dataset/con_custom_dataset_2000/30bb34ec-ff6e-443b-a606-518877306007.png',\n",
       "   './dataset/con_custom_dataset_2000/cd3ee78b-c355-4cdb-bf3f-8159aa3d23b3.png',\n",
       "   './dataset/con_custom_dataset_2000/3e1fa99c-0152-4ab0-9d4d-640ada91227e.png',\n",
       "   './dataset/con_custom_dataset_2000/028f409d-595f-4ac7-8220-d40c8ea8f02f.png',\n",
       "   './dataset/con_custom_dataset_2000/27c0aa1c-3451-49a3-8438-8544780d7e9b.png',\n",
       "   './dataset/con_custom_dataset_2000/41fc7925-0b48-4555-b55e-49ce9290addf.png',\n",
       "   './dataset/con_custom_dataset_2000/9736398b-2034-43a8-88e1-affa632772c9.png',\n",
       "   './dataset/con_custom_dataset_2000/595e24dd-59e6-4494-a695-1c2d7717370f.png',\n",
       "   './dataset/con_custom_dataset_2000/0ebd7e72-97b3-40df-a661-68c69f42accf.png',\n",
       "   './dataset/con_custom_dataset_2000/0d0f9fbe-1644-4452-90f6-aff43c06d1ad.png',\n",
       "   './dataset/con_custom_dataset_2000/wgHmm8HnFkZXb1MypYI0nym1zz13.png',\n",
       "   './dataset/con_custom_dataset_2000/00343395-c86c-47e3-a10f-fa3036f4572f.png',\n",
       "   './dataset/con_custom_dataset_2000/OAtQ58EyToOK0NsnlDdwpFnrwF63.png',\n",
       "   './dataset/con_custom_dataset_2000/34bc4438-865f-4a76-bb61-7bd0bea36ecd.png',\n",
       "   './dataset/con_custom_dataset_2000/80ae3936-6051-4a23-886c-4ff446206c09.png',\n",
       "   './dataset/con_custom_dataset_2000/e6d07d7b-cd63-4f81-8dbd-3ab87104fbf0.png',\n",
       "   './dataset/con_custom_dataset_2000/GSetkkCdEWe7ZoUia8WEkILrlkc2.png',\n",
       "   './dataset/con_custom_dataset_2000/5FC78ahXNGa1Mc8A3X0Bfj5sHIJ2.png',\n",
       "   './dataset/con_custom_dataset_2000/2e6ad653-27dc-47df-87da-92f67585e904.png',\n",
       "   './dataset/con_custom_dataset_2000/8c8bff30-d3ef-4308-9fea-09d958c12096.png',\n",
       "   './dataset/con_custom_dataset_2000/uMry1yqi5sNoykw7ySJdITMv2yT2.png',\n",
       "   './dataset/con_custom_dataset_2000/970b0f9f-15dd-4eb3-b86b-0660251e1188.png',\n",
       "   './dataset/con_custom_dataset_2000/391ed7c1-9386-4c5e-b4b0-2b5a118cbb6e.png',\n",
       "   './dataset/con_custom_dataset_2000/a74e37c6-6d1f-4b3a-9117-9ee90ad5470d.png',\n",
       "   './dataset/con_custom_dataset_2000/132839.png',\n",
       "   './dataset/con_custom_dataset_2000/253081.png',\n",
       "   './dataset/con_custom_dataset_2000/d66c43cc-5772-48ea-a5e5-0b413400f544.png',\n",
       "   './dataset/con_custom_dataset_2000/6foPVVE8lRXyaiy38TRYH55s3zN2.png',\n",
       "   './dataset/con_custom_dataset_2000/jEkD1ffbScZx6wVALbrAhPz3w1S2.png',\n",
       "   './dataset/con_custom_dataset_2000/2c9dbe14-8118-4e4f-952f-bdbd6897aef9.png',\n",
       "   './dataset/con_custom_dataset_2000/GWjZnz8QWXXGzHLaG0HNHFyeZgS2.png',\n",
       "   './dataset/con_custom_dataset_2000/EZzVAG1b5ef8VopTkIROvVbYGml1.png',\n",
       "   './dataset/con_custom_dataset_2000/22oBvWaWwBhbdNfWoshbse1qZ4q2.png',\n",
       "   './dataset/con_custom_dataset_2000/0VpjgRGE5kR8uTEhksBgvFR3xlA2.png',\n",
       "   './dataset/con_custom_dataset_2000/us7APpurf2OG6PGiYAvqrE4fZtQ2.png',\n",
       "   './dataset/con_custom_dataset_2000/H6bxcGub1wOdaWWZ7kyk8KYuswf1.png',\n",
       "   './dataset/con_custom_dataset_2000/77676b62-fd2f-428d-9e10-2e5505d0da99.png',\n",
       "   './dataset/con_custom_dataset_2000/81bf1c13-f35b-43ca-927b-027cfbb589ae.png',\n",
       "   './dataset/con_custom_dataset_2000/c480cfe9-1039-46aa-b877-b0c636d577b7.png',\n",
       "   './dataset/con_custom_dataset_2000/ByeE6FPls3S20RP7vxsLDkmqpA32.png',\n",
       "   './dataset/con_custom_dataset_2000/X2oy68UUgdNd97dpzW1ZubPZVIC2.png',\n",
       "   './dataset/con_custom_dataset_2000/IxdOYraXjNXf620JP1hexb3YDJ93.png',\n",
       "   './dataset/con_custom_dataset_2000/xyDgyXrDoyXu5CFqcNe20LRjYqg1.png',\n",
       "   './dataset/con_custom_dataset_2000/gWIawRTh97MMSACF9Mq9braP8s12.png',\n",
       "   './dataset/con_custom_dataset_2000/34FItWuiLofMlaG1BmqHWVgHelh2.png',\n",
       "   './dataset/con_custom_dataset_2000/dvRr97gwv7Y34YqaccErnWcYRY53.png',\n",
       "   './dataset/con_custom_dataset_2000/10f3e05b-dd2a-4eba-bd09-c24cf6ad2cf7.png',\n",
       "   './dataset/con_custom_dataset_2000/27c2cc15-dd1e-455a-8bca-59794d2fe98f.png',\n",
       "   './dataset/con_custom_dataset_2000/8t3IFTtBOVOtvpX9aX2vryuhSaG2.png',\n",
       "   './dataset/con_custom_dataset_2000/GjdjAvKrnbRRRX1KbioknjMVLNx2.png',\n",
       "   './dataset/con_custom_dataset_2000/dmE3r0LE6Yg9qmCd7aubpgug9te2.png',\n",
       "   './dataset/con_custom_dataset_2000/7a20fe3e-5701-451c-b5c9-b8daf5b328e3.png',\n",
       "   './dataset/con_custom_dataset_2000/59dIvwH1JDU9pHbH1rc3FoVlJWl1.png',\n",
       "   './dataset/con_custom_dataset_2000/ca8d6795-2841-48a0-9d9b-9e00f9e866c3.png',\n",
       "   './dataset/con_custom_dataset_2000/ptuwF1pj4ibIoVuZmt4nKb5naiZ2.png',\n",
       "   './dataset/con_custom_dataset_2000/39443.png',\n",
       "   './dataset/con_custom_dataset_2000/82d0033b-4513-48fb-8325-bf9d759edf3a.png',\n",
       "   './dataset/con_custom_dataset_2000/padi9FFWGYfPABEtWBwLQqf952s1.png',\n",
       "   './dataset/con_custom_dataset_2000/ibsftXiIIaTlmiN1fVp4MjtS9Hl2.png',\n",
       "   './dataset/con_custom_dataset_2000/d81285fa-a717-47d7-8eea-e25aa65439f0.png',\n",
       "   './dataset/con_custom_dataset_2000/iq8oYXczSjPuJoVS7DBpkGNMC2p1.png',\n",
       "   './dataset/con_custom_dataset_2000/r5SHRp49MiOtkuPzoLHbDiVphkB3.png',\n",
       "   './dataset/con_custom_dataset_2000/a92773de-a51d-46ed-8747-c46e0f660e64.png',\n",
       "   './dataset/con_custom_dataset_2000/3080595a-f79f-4652-90cf-8826154c80ad.png',\n",
       "   './dataset/con_custom_dataset_2000/8b96d238-8053-4b15-86b6-a31f448dda73.png',\n",
       "   './dataset/con_custom_dataset_2000/00xKcQMmcAhX8CODgBBLOe7Dm0T2.png',\n",
       "   './dataset/con_custom_dataset_2000/13cb2d82-6623-4fd4-9fb4-9dc2f04f4fc4.png',\n",
       "   './dataset/con_custom_dataset_2000/24b746a2-e046-4492-9e0d-c5b44cc67e2d.png',\n",
       "   ...]},\n",
       " 1: {'MEL': ['./dataset/con_custom_dataset_2000/808e0f1e-b6de-410a-be0a-956ce7420ecc.png',\n",
       "   './dataset/con_custom_dataset_2000/h3Bw7lc9NfapT3IJkwjIuRI9yfa2.png',\n",
       "   './dataset/con_custom_dataset_2000/ArKST1jJWqRPPvdCu92MyQoGs762.png',\n",
       "   './dataset/con_custom_dataset_2000/ya3VviewxzdRZqbLrEXsIrvilRR2.png',\n",
       "   './dataset/con_custom_dataset_2000/yBJ20a3np3a8FHUUVUnXslUoX4f1.png',\n",
       "   './dataset/con_custom_dataset_2000/85dc97de-cb3a-4107-bbc2-5ea33c3c5f38.png',\n",
       "   './dataset/con_custom_dataset_2000/484d4d06-0c54-4ed4-8f9d-1cb52955df4d.png',\n",
       "   './dataset/con_custom_dataset_2000/1pXSBzMeizcu5IpLAJUaYpmJyhB3.png',\n",
       "   './dataset/con_custom_dataset_2000/361dd21d-20e4-4e99-ad0a-5b634fd35b08.png',\n",
       "   './dataset/con_custom_dataset_2000/54ca6049-40ff-4f5e-bf65-c2c259640840.png',\n",
       "   './dataset/con_custom_dataset_2000/zOmz0TaNdmQfF2jUFkqUKuNa80m1.png',\n",
       "   './dataset/con_custom_dataset_2000/97sUfTwVG5Nzd1YEOxbtrXbl4hl2.png',\n",
       "   './dataset/con_custom_dataset_2000/175025.png',\n",
       "   './dataset/con_custom_dataset_2000/ae9014b8-a4b0-475e-8940-0008f670fbf0.png',\n",
       "   './dataset/con_custom_dataset_2000/80M2CERHxJcqnfMAjwyheSC67Ec2.png',\n",
       "   './dataset/con_custom_dataset_2000/742295c6-b3d2-4835-91cb-257b858f8487.png',\n",
       "   './dataset/con_custom_dataset_2000/ae587b99-0990-453f-8ba8-c3ba874d8064.png',\n",
       "   './dataset/con_custom_dataset_2000/701e1d6a-cb39-42bc-b274-fa825458e752.png',\n",
       "   './dataset/con_custom_dataset_2000/oWBd1blxbTefqPydUAes1xlr5VJ2.png',\n",
       "   './dataset/con_custom_dataset_2000/e562f750-dae8-41d2-84b2-8e141d081e05.png',\n",
       "   './dataset/con_custom_dataset_2000/7ba10cde-5497-456a-8a97-25bee669fee2.png',\n",
       "   './dataset/con_custom_dataset_2000/5058adaa-8aaa-49af-bec7-994a326529a1.png',\n",
       "   './dataset/con_custom_dataset_2000/dceb6849-3527-4a3b-ab67-8a3c67aa00c1.png',\n",
       "   './dataset/con_custom_dataset_2000/aGEXEhp3mbUandZBtCuEooDQrK53.png',\n",
       "   './dataset/con_custom_dataset_2000/f1tDfcVYVlOPYBAWP1ZDMdGER4m2.png',\n",
       "   './dataset/con_custom_dataset_2000/07ab08e5-1fdc-43c7-8b71-9a53346e8a96.png',\n",
       "   './dataset/con_custom_dataset_2000/q3DEiVNvlkNAGJq8LoHEb1TVPao1.png',\n",
       "   './dataset/con_custom_dataset_2000/iKztabb0gWfeagEyYuU3US36u9b2.png',\n",
       "   './dataset/con_custom_dataset_2000/c870f36c-ec78-4246-b4ce-c34dd8253bfa.png',\n",
       "   './dataset/con_custom_dataset_2000/1ctsxp37dWNbCbizTioZzpAWqJx2.png',\n",
       "   './dataset/con_custom_dataset_2000/1ba72700-4f2e-40e0-a7c0-c4a0c098d20c.png',\n",
       "   './dataset/con_custom_dataset_2000/c3760eea-b042-47a2-8054-bfeee8655d81.png',\n",
       "   './dataset/con_custom_dataset_2000/aImqoeTbibTbtdXNmH4F1qc3Jr43.png',\n",
       "   './dataset/con_custom_dataset_2000/17e64b3f-c248-4a33-b71e-49513a8174f2.png',\n",
       "   './dataset/con_custom_dataset_2000/c385f4cd-a196-4063-9147-67c7d1b3f8c3.png',\n",
       "   './dataset/con_custom_dataset_2000/CZT9HTBNgaQrTVKBjIBUtlu6Dgx1.png',\n",
       "   './dataset/con_custom_dataset_2000/H1Ml5J5BxFT5aJB3687GpncQjOi2.png',\n",
       "   './dataset/con_custom_dataset_2000/57163.png',\n",
       "   './dataset/con_custom_dataset_2000/rB5oGtrGYZR5uJUXEaDYrrredz13.png',\n",
       "   './dataset/con_custom_dataset_2000/cf4RgKotFbYPn2HsLdxHyiChY3I2.png',\n",
       "   './dataset/con_custom_dataset_2000/9b61378d-5c61-41ea-8465-f6225ebbf04b.png',\n",
       "   './dataset/con_custom_dataset_2000/io9q2gZdUWhPDbYnJbzv8XsgCZz1.png',\n",
       "   './dataset/con_custom_dataset_2000/HRtlc2Oedzd7Q70BgFjlJGMbyPL2.png',\n",
       "   './dataset/con_custom_dataset_2000/Q2rqPfhdilf16SbycBrtJ4gQ5Ep1.png',\n",
       "   './dataset/con_custom_dataset_2000/96063.png',\n",
       "   './dataset/con_custom_dataset_2000/6c03357b-9e74-4e53-aed5-57acc0848d9a.png',\n",
       "   './dataset/con_custom_dataset_2000/abf7e958-9ce5-4059-98c3-c8a67e4e260f.png',\n",
       "   './dataset/con_custom_dataset_2000/PWXapCML3JSGefaCRAxKjCNp0Ps2.png',\n",
       "   './dataset/con_custom_dataset_2000/5JO89F9hCpVbVFy7jFqPKtVRyIV2.png',\n",
       "   './dataset/con_custom_dataset_2000/34FItWuiLofMlaG1BmqHWVgHelh2.png',\n",
       "   './dataset/con_custom_dataset_2000/701c52bf-b7c1-4f18-a07f-09e5134d341f.png',\n",
       "   './dataset/con_custom_dataset_2000/5259a449-ede1-4945-b0e8-3552eae35add.png',\n",
       "   './dataset/con_custom_dataset_2000/763211b2-17c0-4fa1-8d87-ad9f50459299.png',\n",
       "   './dataset/con_custom_dataset_2000/IvPA6FZJ5OSNOllqglmE2mkcnz83.png',\n",
       "   './dataset/con_custom_dataset_2000/KLjaX6zFZccy7YNw6CQ3fkzzwkt1.png',\n",
       "   './dataset/con_custom_dataset_2000/1876a19a-0e14-42e6-b6d4-73b2cbbd6bbe.png',\n",
       "   './dataset/con_custom_dataset_2000/cedb0c7f-0efa-4650-af7a-25a94c183698.png',\n",
       "   './dataset/con_custom_dataset_2000/38578eb5-eef4-4c69-9e08-cbda1065b9d0.png',\n",
       "   './dataset/con_custom_dataset_2000/d5d6c771-171b-4aa1-9647-cb31369e2af0.png',\n",
       "   './dataset/con_custom_dataset_2000/8247d9d9-2a04-417e-b470-637414581cbc.png',\n",
       "   './dataset/con_custom_dataset_2000/9e2650e6-4847-4241-90c6-1810a3f2fdf5.png',\n",
       "   './dataset/con_custom_dataset_2000/abe8faaa-0cc9-4376-aec4-004f545db01e.png',\n",
       "   './dataset/con_custom_dataset_2000/yI90OQafcNSI5Hcgsil9iEifx1R2.png',\n",
       "   './dataset/con_custom_dataset_2000/200329.png',\n",
       "   './dataset/con_custom_dataset_2000/GzhrTQhWHSTwvweRKx2x1Uh4wx52.png',\n",
       "   './dataset/con_custom_dataset_2000/5a1c64d3-a2bb-4ba5-9937-6f16e38f977a.png',\n",
       "   './dataset/con_custom_dataset_2000/26efeb14-dcdf-40e9-a7f8-9d89578251f5.png',\n",
       "   './dataset/con_custom_dataset_2000/ae01b179-8664-442a-a5f5-da47e0b3c5ff.png',\n",
       "   './dataset/con_custom_dataset_2000/l6xp4FcV20QYTrj0uF0GkKnXY1x2.png',\n",
       "   './dataset/con_custom_dataset_2000/d9572ab3-33a4-40c8-ae98-87e9404a8963.png',\n",
       "   './dataset/con_custom_dataset_2000/bf67cf82-7d3d-4ac4-b86e-43f8a29a96e8.png',\n",
       "   './dataset/con_custom_dataset_2000/207124.png',\n",
       "   './dataset/con_custom_dataset_2000/okpi2sQ8U8Vmf21zXNO6kCgks5y2.png',\n",
       "   './dataset/con_custom_dataset_2000/aa75efd0-248a-4594-9df9-06413e506567.png',\n",
       "   './dataset/con_custom_dataset_2000/2d0b034c-fe28-4361-a42e-d45b17331fe6.png',\n",
       "   './dataset/con_custom_dataset_2000/559f90b2-abe1-49ff-a25a-90a022674927.png',\n",
       "   './dataset/con_custom_dataset_2000/IWZidWG1Y3aIbwBNfyR5P9rt0O82.png',\n",
       "   './dataset/con_custom_dataset_2000/fuCq7eA5CPYcnRpJqc0hFSr8klr2.png',\n",
       "   './dataset/con_custom_dataset_2000/7dc1315d-16b7-4eb5-9928-c97999654772.png',\n",
       "   './dataset/con_custom_dataset_2000/18649a46-67ae-4bb7-ac50-4263e3314c2f.png',\n",
       "   './dataset/con_custom_dataset_2000/WSNcPIb74jUzQoVPA7RGZKWtMrM2.png',\n",
       "   './dataset/con_custom_dataset_2000/1pXSBzMeizcu5IpLAJUaYpmJyhB3.png',\n",
       "   './dataset/con_custom_dataset_2000/906609ba-f299-4be8-b458-afa148608001.png',\n",
       "   './dataset/con_custom_dataset_2000/262579.png',\n",
       "   './dataset/con_custom_dataset_2000/JXP97RVyVfVXVqOPULghR8pY3q32.png',\n",
       "   './dataset/con_custom_dataset_2000/FA82s56D4CP2QAkUpv7Zlbz95NW2.png',\n",
       "   './dataset/con_custom_dataset_2000/a6c4aa4b-eaa9-457f-a077-98eba5b8ad0e.png',\n",
       "   './dataset/con_custom_dataset_2000/pOZwqBg4NsVYWASmwwhXFq4UlpC2.png',\n",
       "   './dataset/con_custom_dataset_2000/a99d6a64-db8d-4915-a734-4cd625d18569.png',\n",
       "   './dataset/con_custom_dataset_2000/43b36c34-a383-445e-a4e2-fe9d7849e62a.png',\n",
       "   './dataset/con_custom_dataset_2000/5FnTn9FS7uUjXCbNzKuQY28pI3G2.png',\n",
       "   './dataset/con_custom_dataset_2000/c74fc9b2-a85e-402d-a51d-f178fcd00abe.png',\n",
       "   './dataset/con_custom_dataset_2000/W42AKc6SZlNz1NOBAJrCpa3Io0E2.png',\n",
       "   './dataset/con_custom_dataset_2000/c0qg1BdEVyNXI9Uq7fxJtBjy8dq2.png',\n",
       "   './dataset/con_custom_dataset_2000/82e4c883-3924-4b52-a1e4-e8c1c0196bc2.png',\n",
       "   './dataset/con_custom_dataset_2000/xTrcp3vDL8bkpVEICdd1YsOURKx1.png',\n",
       "   './dataset/con_custom_dataset_2000/f4d562e6-1bf5-4016-9c6d-86c7b84fd11f.png',\n",
       "   './dataset/con_custom_dataset_2000/1a3b328d-e21a-400c-88c5-5670b2b32712.png',\n",
       "   './dataset/con_custom_dataset_2000/94805ce9-4079-4a0e-9efc-32635f86f71c.png',\n",
       "   './dataset/con_custom_dataset_2000/9zO8MvWYvBMLy2y2rRFKRHb9A1r1.png',\n",
       "   './dataset/con_custom_dataset_2000/db3c626a-b9bd-49be-91f3-29a8348fc3a0.png',\n",
       "   './dataset/con_custom_dataset_2000/b381adde-fd2c-48ef-a4fc-d1fc8e16df1f.png',\n",
       "   './dataset/con_custom_dataset_2000/Z7ZMrrVuJKSK1JEfLQjxGXI1VTq1.png',\n",
       "   './dataset/con_custom_dataset_2000/PNSX8UstjlY1mxA69mrklK5N2i32.png',\n",
       "   './dataset/con_custom_dataset_2000/xa2v8z3Yzgb9dFrq2gEZz6oS7fh1.png',\n",
       "   './dataset/con_custom_dataset_2000/O2axQgHDogQ1mORlKYAGiPTiHvB3.png',\n",
       "   './dataset/con_custom_dataset_2000/d6tJkKV7x1TFBe8WNnLhvLuoXgd2.png',\n",
       "   './dataset/con_custom_dataset_2000/9e949ada-abdf-41f2-8d03-bbd3d1ea4754.png',\n",
       "   './dataset/con_custom_dataset_2000/d531dc4c-f8df-4c2d-83f1-8c69ba0f5858.png',\n",
       "   './dataset/con_custom_dataset_2000/9f5cd429-b785-4541-be92-b9ba190beddc.png',\n",
       "   './dataset/con_custom_dataset_2000/9da59c66-79ba-4555-9523-88416eebc134.png',\n",
       "   './dataset/con_custom_dataset_2000/eqtebymPdFfBCm8B85n5oSR7Gja2.png',\n",
       "   './dataset/con_custom_dataset_2000/t0UxwxXhJxX6jA1bJNTQYjOWeQj1.png',\n",
       "   './dataset/con_custom_dataset_2000/aRki58kKxnTunoM7BcLiwusqRcV2.png',\n",
       "   './dataset/con_custom_dataset_2000/207eae6a-fea7-4fc4-81db-55401fc446a8.png',\n",
       "   './dataset/con_custom_dataset_2000/0b2f75d7-f116-4f35-ae4c-f2018eab2794.png',\n",
       "   './dataset/con_custom_dataset_2000/rjI1qyc5W6RkajiRcmde0VISAIF3.png',\n",
       "   './dataset/con_custom_dataset_2000/171118.png',\n",
       "   './dataset/con_custom_dataset_2000/vwqgm68Z4gZ9T5Ry9T4u8tYsJxn2.png',\n",
       "   './dataset/con_custom_dataset_2000/3d958c18-8b9e-438b-b6ec-4a4c253ede66.png',\n",
       "   './dataset/con_custom_dataset_2000/1d83d3c3-6d6b-424a-a8f2-cfd9325d017c.png',\n",
       "   './dataset/con_custom_dataset_2000/C5eIsssb9GSkaAgIfsHMHeR6fSh1.png',\n",
       "   './dataset/con_custom_dataset_2000/a5768eb0-df59-425a-9813-333689cd32ba.png',\n",
       "   './dataset/con_custom_dataset_2000/CwGGsPFeFQPwRy8ba33e8SXGS132.png',\n",
       "   './dataset/con_custom_dataset_2000/ysvx8FCvKbPi3Z6Jkhcd6sNsnwn1.png',\n",
       "   './dataset/con_custom_dataset_2000/fbec03d3-9641-4ed2-8bf1-d7732ddfa691.png',\n",
       "   './dataset/con_custom_dataset_2000/4U5fWjzYiROaFxurdK2BCMt2IIg2.png',\n",
       "   './dataset/con_custom_dataset_2000/033f4e9f-6873-4846-a5be-c6f5eb5bf0fc.png',\n",
       "   './dataset/con_custom_dataset_2000/Y635Ri3QFMcOKC0ckXgW2r0xJ422.png',\n",
       "   './dataset/con_custom_dataset_2000/RP28VzHbG0crJB2RnboqUaM9SRm1.png',\n",
       "   './dataset/con_custom_dataset_2000/2597c97c-e24c-49a8-b8b4-9508bb75b78f.png',\n",
       "   './dataset/con_custom_dataset_2000/zga52aKD4sQJbsqwZg1RrLKjkus2.png',\n",
       "   './dataset/con_custom_dataset_2000/f626aacb-4fe8-4bfc-95d5-a5562b469780.png',\n",
       "   './dataset/con_custom_dataset_2000/3867a09c-3309-4018-b456-07c4b8b9a232.png',\n",
       "   './dataset/con_custom_dataset_2000/92627.png',\n",
       "   './dataset/con_custom_dataset_2000/w3QJygDVetN5sPAsKTXe273bpau2.png',\n",
       "   './dataset/con_custom_dataset_2000/xJyoUt9euYQsPrWglHIDGqjtOjg1.png',\n",
       "   './dataset/con_custom_dataset_2000/154378.png',\n",
       "   './dataset/con_custom_dataset_2000/0f04ea45-1fa4-488c-9a20-9ded84fff4bf.png',\n",
       "   './dataset/con_custom_dataset_2000/3c1fc0db-4010-4831-93d9-7338aa9c4c5f.png',\n",
       "   './dataset/con_custom_dataset_2000/yncydoirUqa12tTAUAceL5zMWaK2.png',\n",
       "   './dataset/con_custom_dataset_2000/R1wbQWmviENBtOcugCHjcmvRl6o2.png',\n",
       "   './dataset/con_custom_dataset_2000/K3kwl6reCLNR8G0Al3zNQVztRri2.png',\n",
       "   './dataset/con_custom_dataset_2000/85236dc6-2fc4-4598-abaa-fc86032c4a92.png',\n",
       "   './dataset/con_custom_dataset_2000/I9Nm8cGaL5OB4fnmDPM8HrnULVj1.png',\n",
       "   './dataset/con_custom_dataset_2000/z3dpsRp0YuPntedc6sgMaRfW04t2.png',\n",
       "   './dataset/con_custom_dataset_2000/3fbe6119-b6d0-4aeb-beb8-19d1751ce190.png',\n",
       "   './dataset/con_custom_dataset_2000/9d3ce0b5-8d2d-4418-abc3-2cdb8d0f06fe.png',\n",
       "   './dataset/con_custom_dataset_2000/3fc24090-97ca-42fd-bb8b-8449c6c86213.png',\n",
       "   './dataset/con_custom_dataset_2000/4e9u1T1conYlXIQp89SQRgMPScY2.png',\n",
       "   './dataset/con_custom_dataset_2000/78381.png',\n",
       "   './dataset/con_custom_dataset_2000/bfc19721-9966-491f-86fa-4398b1c59fdf.png',\n",
       "   './dataset/con_custom_dataset_2000/G5kUP2QOpVSyjK6Q9rzblmTU9vW2.png',\n",
       "   './dataset/con_custom_dataset_2000/c9c4445b-fbd3-4f4d-9ca2-282a669d79c4.png',\n",
       "   './dataset/con_custom_dataset_2000/f9841e37-f5a6-4f76-ab8f-86ad2e865df3.png',\n",
       "   './dataset/con_custom_dataset_2000/f221672a-2b59-4adb-b7d7-6642e5014786.png',\n",
       "   './dataset/con_custom_dataset_2000/66283b42-8b07-4cc2-be2e-adfc8a9048a4.png',\n",
       "   './dataset/con_custom_dataset_2000/b24cb0fe-6c03-48e0-9476-88f76ea5b9fc.png',\n",
       "   './dataset/con_custom_dataset_2000/34119.png',\n",
       "   './dataset/con_custom_dataset_2000/ByvAxiKJC5QyNZi2YJu6GyZYgPs1.png',\n",
       "   './dataset/con_custom_dataset_2000/ysvx8FCvKbPi3Z6Jkhcd6sNsnwn1.png',\n",
       "   './dataset/con_custom_dataset_2000/oWBd1blxbTefqPydUAes1xlr5VJ2.png',\n",
       "   './dataset/con_custom_dataset_2000/fb8ea05a-e6fc-4083-bfb9-a045fbe89413.png',\n",
       "   './dataset/con_custom_dataset_2000/woCTR97MfJMTanmngUpcK1IJsvm1.png',\n",
       "   './dataset/con_custom_dataset_2000/cc0756ba-42bf-40a1-9aec-4b1b923cac3c.png',\n",
       "   './dataset/con_custom_dataset_2000/43a03324-1389-4e23-9d44-2ee831b7e3d2.png',\n",
       "   './dataset/con_custom_dataset_2000/oIy4hushZORMcftMVIAxabN1QZd2.png',\n",
       "   './dataset/con_custom_dataset_2000/ccb68fa9-504b-4274-bef2-891bc5e7c501.png',\n",
       "   './dataset/con_custom_dataset_2000/llSmz39DbNfSYZ1M4c8zytC4W0r1.png',\n",
       "   './dataset/con_custom_dataset_2000/pitYbc063SXoFPZmDTvyI6yGxLm2.png',\n",
       "   './dataset/con_custom_dataset_2000/793ebb16-7525-4ef5-80d3-58c92e48e6bb.png',\n",
       "   './dataset/con_custom_dataset_2000/6OVT42wvVggUA7rkEuziRRtNNuo2.png',\n",
       "   './dataset/con_custom_dataset_2000/8jj80VIjJDhstlysp9ak8kFJwex1.png',\n",
       "   './dataset/con_custom_dataset_2000/223099.png',\n",
       "   './dataset/con_custom_dataset_2000/6foPVVE8lRXyaiy38TRYH55s3zN2.png',\n",
       "   './dataset/con_custom_dataset_2000/df9ba7c6-9858-418f-8026-beb8e4ceed94.png',\n",
       "   './dataset/con_custom_dataset_2000/A3uqqSyxT5MpzFwc0dCpiYRV4w53.png',\n",
       "   './dataset/con_custom_dataset_2000/38908194-429d-4924-9b00-2df01faac8b2.png',\n",
       "   './dataset/con_custom_dataset_2000/vK2bLRNzllXNeyOMudnNSL5cfpG2.png',\n",
       "   './dataset/con_custom_dataset_2000/263a8d6a-9774-4293-90bd-d68c108f1e3e.png',\n",
       "   './dataset/con_custom_dataset_2000/b98ecdbd-e037-4f79-be68-56bc49acb4b9.png',\n",
       "   './dataset/con_custom_dataset_2000/ec2f2b11-80ca-4509-a4c9-f7e2eb068b34.png',\n",
       "   './dataset/con_custom_dataset_2000/IimA0GnOm7ZR4nEr8k0kG4eaR7A3.png',\n",
       "   './dataset/con_custom_dataset_2000/05507eef-9568-44f0-8e80-e95c137903f4.png',\n",
       "   './dataset/con_custom_dataset_2000/Eoyf44CUffgVCPPjJJkopEyAO7k2.png',\n",
       "   './dataset/con_custom_dataset_2000/YrJHnx1PgzPLiCgkSLaQqMhyBeA2.png',\n",
       "   './dataset/con_custom_dataset_2000/f27b51ad-ae76-4a6f-9071-4dc3dbdda4ea.png',\n",
       "   './dataset/con_custom_dataset_2000/qtAMbhJqxAaVBZCt7rT5IkUtWGi2.png',\n",
       "   './dataset/con_custom_dataset_2000/80M2CERHxJcqnfMAjwyheSC67Ec2.png',\n",
       "   './dataset/con_custom_dataset_2000/90b7a730-4682-4efe-9b6e-b477e519980d.png',\n",
       "   './dataset/con_custom_dataset_2000/8PvWScAB6UbnfrkQrpbqLpu7O0z1.png',\n",
       "   './dataset/con_custom_dataset_2000/2f7f0c1b-782b-4b90-9f0b-ed60edfeab89.png',\n",
       "   './dataset/con_custom_dataset_2000/c9cc9494-58b5-447b-aad1-767b9095c988.png',\n",
       "   './dataset/con_custom_dataset_2000/7cb4843e-bdf2-4dbc-9956-bf2464cb6c7d.png',\n",
       "   './dataset/con_custom_dataset_2000/Lf4G1rx8lufXdBBwEZnD4INFtUt2.png',\n",
       "   './dataset/con_custom_dataset_2000/R9EJURFbJjRNEl9lmQZw1gfs08J3.png',\n",
       "   './dataset/con_custom_dataset_2000/6fqe8i160qM5rtC4uHrlu3MZXe32.png',\n",
       "   './dataset/con_custom_dataset_2000/nHni2h50bzR6jh4FDPgY2NtVs7I2.png',\n",
       "   './dataset/con_custom_dataset_2000/1b9e53c2-a125-4f5c-8945-d8d09a8e7bbc.png',\n",
       "   './dataset/con_custom_dataset_2000/32b8f6f9-219b-428a-ade4-30fab516cedf.png',\n",
       "   './dataset/con_custom_dataset_2000/635ead32-7c47-4765-892e-b1be6052f2d1.png',\n",
       "   './dataset/con_custom_dataset_2000/0drfnqVwccT6UmgVLQEuyVglDC23.png',\n",
       "   './dataset/con_custom_dataset_2000/oeOuvTlUMEfWPcNOA4EnTk5Bh4K2.png',\n",
       "   './dataset/con_custom_dataset_2000/UTqsNsZQCThhJduOChbctH76Avj2.png',\n",
       "   './dataset/con_custom_dataset_2000/ttOFkQd0vpf4bWBwqQsz2Ckw0p22.png',\n",
       "   './dataset/con_custom_dataset_2000/W1c56dgBsoe34ilAX8vAZs8tNcX2.png',\n",
       "   './dataset/con_custom_dataset_2000/5e6d9fe2-f660-49d8-8258-96fc6518187d.png',\n",
       "   './dataset/con_custom_dataset_2000/7ea8e1c6-d853-4f83-92de-92877e833256.png',\n",
       "   './dataset/con_custom_dataset_2000/79146.png',\n",
       "   './dataset/con_custom_dataset_2000/9d80a7bc-df9e-4aec-a96d-acdcba302843.png',\n",
       "   './dataset/con_custom_dataset_2000/hB8ntHij4nOm6YoGj86MtZJVTyr2.png',\n",
       "   './dataset/con_custom_dataset_2000/112213.png',\n",
       "   './dataset/con_custom_dataset_2000/aeb1e750-4303-4d1d-8676-634e01f2d648.png',\n",
       "   './dataset/con_custom_dataset_2000/51df860d-74e1-4f7a-852b-710bf0813816.png',\n",
       "   './dataset/con_custom_dataset_2000/d297b163-1de9-42b1-abf5-ee9ca659377f.png',\n",
       "   './dataset/con_custom_dataset_2000/W1c56dgBsoe34ilAX8vAZs8tNcX2.png',\n",
       "   './dataset/con_custom_dataset_2000/b911d650-be47-4f7c-8c28-66a1710f85ce.png',\n",
       "   './dataset/con_custom_dataset_2000/6foPVVE8lRXyaiy38TRYH55s3zN2.png',\n",
       "   './dataset/con_custom_dataset_2000/KqhQ8Eo62fYCdBse8NiW1BYCtxp1.png',\n",
       "   './dataset/con_custom_dataset_2000/BHFxu6LIoWfHOaN9fXmkO5xBXyz2.png',\n",
       "   './dataset/con_custom_dataset_2000/477b1db6-e0a5-43dc-bfbc-b74ac50548b8.png',\n",
       "   './dataset/con_custom_dataset_2000/9e1a07c9-37a4-441a-a5a3-834b2283ae01.png',\n",
       "   './dataset/con_custom_dataset_2000/EcO51zxmIHcVtAUlxnvO6wA8JcR2.png',\n",
       "   './dataset/con_custom_dataset_2000/huZjiHT43maN3OQ8DAwgYImatr92.png',\n",
       "   './dataset/con_custom_dataset_2000/RNnxsLNUWPeqrfpPcDb4b903fpj2.png',\n",
       "   './dataset/con_custom_dataset_2000/weDSWB2g4cRfj2Xi6DfJ1DCouZr2.png',\n",
       "   './dataset/con_custom_dataset_2000/4aaeb3fe-3999-49bd-9783-0129c90518f6.png',\n",
       "   './dataset/con_custom_dataset_2000/105270.png',\n",
       "   './dataset/con_custom_dataset_2000/2b486360-b5cb-46d0-b1b0-d18892703746.png',\n",
       "   './dataset/con_custom_dataset_2000/509e338e-32d6-4a9d-89e1-0ea4a8aefd50.png',\n",
       "   './dataset/con_custom_dataset_2000/f23f6883-a21d-477e-87f7-b751ed38f401.png',\n",
       "   './dataset/con_custom_dataset_2000/ff2bc96f-7386-4ebf-b166-ba4691cfdd93.png',\n",
       "   './dataset/con_custom_dataset_2000/153388.png',\n",
       "   './dataset/con_custom_dataset_2000/8PtpwfiaGpMFqciQAnNjDnnbvjw2.png',\n",
       "   './dataset/con_custom_dataset_2000/5BUKA0nZq1SKXR5iRMDNQ4xKxvi1.png',\n",
       "   './dataset/con_custom_dataset_2000/7496b261-7505-4bb2-8120-7ae04c8f2235.png',\n",
       "   './dataset/con_custom_dataset_2000/Cd7fkliPM2ZUM1skytvoU2vD8jK2.png',\n",
       "   './dataset/con_custom_dataset_2000/9znW0Bni1Scj62DqhsfoagP6HLI2.png',\n",
       "   './dataset/con_custom_dataset_2000/5d3c7924-ba13-4981-b415-63009b86415d.png',\n",
       "   './dataset/con_custom_dataset_2000/ef077de9-c0a5-46d3-b958-418f2b257825.png',\n",
       "   './dataset/con_custom_dataset_2000/ab8ecc44-d33a-4e85-8e31-28cfe827fd17.png',\n",
       "   './dataset/con_custom_dataset_2000/c1e78a5a-25b4-4531-abde-11de3d777ae7.png',\n",
       "   './dataset/con_custom_dataset_2000/IkdWn0v3dAU9eWzsf3rY8Dwgf0V2.png',\n",
       "   './dataset/con_custom_dataset_2000/466aPruIIbOEG3V1IaKzu5O8kun2.png',\n",
       "   './dataset/con_custom_dataset_2000/16bd3f5f-fb37-43f4-964f-26be474f8536.png',\n",
       "   './dataset/con_custom_dataset_2000/5a1a6550-fd43-4174-ab10-0d7103147ec6.png',\n",
       "   './dataset/con_custom_dataset_2000/dd67cd53-8c86-4e28-995e-e7f99618e44a.png',\n",
       "   './dataset/con_custom_dataset_2000/32515.png',\n",
       "   './dataset/con_custom_dataset_2000/c6b96683-1868-49e2-b6ee-1a65894cd99b.png',\n",
       "   './dataset/con_custom_dataset_2000/29ec6341-f6a5-44ec-add1-4994ded834b4.png',\n",
       "   './dataset/con_custom_dataset_2000/nsmJcSu7zRYegSynfe707MwRpjp2.png',\n",
       "   './dataset/con_custom_dataset_2000/dxKWK5iTjWdjch9zRGCnc7R0eeq2.png',\n",
       "   './dataset/con_custom_dataset_2000/d8492479-e84b-4e08-9ca9-b22b3a1de2c8.png',\n",
       "   './dataset/con_custom_dataset_2000/2ACkagjqT6NFG3zysVS1cfoL4Ad2.png',\n",
       "   './dataset/con_custom_dataset_2000/2856685f-793b-46df-b93b-2c9fb4a16061.png',\n",
       "   './dataset/con_custom_dataset_2000/745249f1-9500-45b5-be70-2f735087540e.png',\n",
       "   './dataset/con_custom_dataset_2000/s1x2Ze9iVZNf6oFZDAZ4S9x3Cky2.png',\n",
       "   './dataset/con_custom_dataset_2000/ea80b502-dd8c-45bd-b7d5-047a9ab88be3.png',\n",
       "   './dataset/con_custom_dataset_2000/mX9OLV39QwhCicc7VLqQyniNdU63.png',\n",
       "   './dataset/con_custom_dataset_2000/d02a384e-98c5-4e7e-8e1b-36f0d039f31c.png',\n",
       "   './dataset/con_custom_dataset_2000/8PtpwfiaGpMFqciQAnNjDnnbvjw2.png',\n",
       "   './dataset/con_custom_dataset_2000/aBhVajwUynU2XvqHDXl7EA9bVNm1.png',\n",
       "   './dataset/con_custom_dataset_2000/ZmJz4NgHHRZAwzUAVvkXBOmRSTA3.png',\n",
       "   './dataset/con_custom_dataset_2000/c51bab41-9fdf-4b23-877d-6dabfb31ff1b.png',\n",
       "   './dataset/con_custom_dataset_2000/ed5d00ad-f617-4248-9e08-bafde9512352.png',\n",
       "   './dataset/con_custom_dataset_2000/FA82s56D4CP2QAkUpv7Zlbz95NW2.png',\n",
       "   './dataset/con_custom_dataset_2000/dlSirkwl7JPl36hawynOTHhscyy1.png',\n",
       "   './dataset/con_custom_dataset_2000/g9WjuKnjoYZYmLVDY86u4JIwZ333.png',\n",
       "   './dataset/con_custom_dataset_2000/269e2kDksfRXKVHNXf4ACl9JUVm1.png',\n",
       "   './dataset/con_custom_dataset_2000/f5fdc237-51fb-4be8-bc92-f7b043dbd9a0.png',\n",
       "   './dataset/con_custom_dataset_2000/44310de6-1ec3-4867-aa22-b72e869c4900.png',\n",
       "   './dataset/con_custom_dataset_2000/1f287912-8ec4-4e84-9a37-cb29c230e775.png',\n",
       "   './dataset/con_custom_dataset_2000/1a4931aa-377e-47e0-8e64-7d8b673ab728.png',\n",
       "   './dataset/con_custom_dataset_2000/zw0pYfsZxDShQGV2HTuont8wU8V2.png',\n",
       "   './dataset/con_custom_dataset_2000/73854bdc-b664-4539-a570-1e5fb8628c66.png',\n",
       "   './dataset/con_custom_dataset_2000/56c9072e-e82c-4a00-acf1-a490b412f50b.png',\n",
       "   './dataset/con_custom_dataset_2000/3c57611a-f237-4191-9c85-debfe839c01a.png',\n",
       "   './dataset/con_custom_dataset_2000/cb3817bb-f344-4376-b3b2-4c9be6356ca8.png',\n",
       "   './dataset/con_custom_dataset_2000/0Ha52POVIxTKEPqI1eGpIoMHUd52.png',\n",
       "   './dataset/con_custom_dataset_2000/SI80JBOb0XcjW0Ez4Dn4Y0Ev5mw2.png',\n",
       "   './dataset/con_custom_dataset_2000/elSiVyo2V3USxFXNuExlbh9hrNm1.png',\n",
       "   './dataset/con_custom_dataset_2000/483f5e38-63ef-4880-95d2-021348eedc58.png',\n",
       "   './dataset/con_custom_dataset_2000/07e5e50e-200b-4280-a8f7-8736a24d5a9f.png',\n",
       "   './dataset/con_custom_dataset_2000/mFQ65xqfxpXiS6vwK1HKwq7j8o62.png',\n",
       "   './dataset/con_custom_dataset_2000/HN3yAvicf4RTVGb6l0PjM41iBAn2.png',\n",
       "   './dataset/con_custom_dataset_2000/bfe39f99-20e1-471d-a6c0-e82effbba33a.png',\n",
       "   './dataset/con_custom_dataset_2000/0f6473ef-1762-455b-8bd6-2939bc57880c.png',\n",
       "   './dataset/con_custom_dataset_2000/klvO2ywAeFQCIy8EijybJxHNSE92.png',\n",
       "   './dataset/con_custom_dataset_2000/3273a756-3412-4e85-a204-b83111f63519.png',\n",
       "   './dataset/con_custom_dataset_2000/ki8Scyp1FRUOGvhgpjYjYFgx0gp1.png',\n",
       "   './dataset/con_custom_dataset_2000/HhIoOCxCe1Z02gC8qa7RsZZ8Vz23.png',\n",
       "   './dataset/con_custom_dataset_2000/d0131b1d-1a1e-419f-9c3f-04ab845d55cf.png',\n",
       "   './dataset/con_custom_dataset_2000/M3mk9u8tIBUCavOhsxcGej5s9Vg2.png',\n",
       "   './dataset/con_custom_dataset_2000/96a7b959-24bf-45de-a655-0eb07dd08268.png',\n",
       "   './dataset/con_custom_dataset_2000/YqPKZEEwQ6N51vs5ztJn2a1nVBN2.png',\n",
       "   './dataset/con_custom_dataset_2000/UiUUhL0PMjWVA6W2dKte1DCE6wG2.png',\n",
       "   './dataset/con_custom_dataset_2000/BNraT7TUj1ZHWnxzh3eVOM2CwIm1.png',\n",
       "   './dataset/con_custom_dataset_2000/e36ff9e6-f247-4d2a-9217-42dd31f053ca.png',\n",
       "   './dataset/con_custom_dataset_2000/704b4602-cd7b-49d2-b26d-ab6e359ee584.png',\n",
       "   './dataset/con_custom_dataset_2000/07b12dc7-a138-458a-b1df-d321600ff929.png',\n",
       "   './dataset/con_custom_dataset_2000/TI4EfxQ4RSMZyRmFlC5aiAqLJL02.png',\n",
       "   './dataset/con_custom_dataset_2000/38ee3bbd-c58c-4bd3-aea3-a26e6577de56.png',\n",
       "   './dataset/con_custom_dataset_2000/w3QJygDVetN5sPAsKTXe273bpau2.png',\n",
       "   './dataset/con_custom_dataset_2000/CwGGsPFeFQPwRy8ba33e8SXGS132.png',\n",
       "   './dataset/con_custom_dataset_2000/yiVfb7qpTOXWhTQITq6P4zqGtXt2.png',\n",
       "   './dataset/con_custom_dataset_2000/Za0aCHrh7pcZrQI3Qg5JiSOl3o42.png',\n",
       "   './dataset/con_custom_dataset_2000/LW6U5C8CENR1PsmldatYGdCBcYg1.png',\n",
       "   './dataset/con_custom_dataset_2000/BNraT7TUj1ZHWnxzh3eVOM2CwIm1.png',\n",
       "   './dataset/con_custom_dataset_2000/Ny6G594aKENcYgURBgYJJa62ziV2.png',\n",
       "   './dataset/con_custom_dataset_2000/fb39effb-f9be-4fa0-9352-d6408cbe3eb7.png',\n",
       "   './dataset/con_custom_dataset_2000/e8eaf768-9997-4a63-ad2e-4a01c5adee86.png',\n",
       "   './dataset/con_custom_dataset_2000/HLrE1Z2wnQSraudLRqiWgR154rA3.png',\n",
       "   './dataset/con_custom_dataset_2000/65ba1f8c-b528-425e-b55f-2e132638fa39.png',\n",
       "   './dataset/con_custom_dataset_2000/p181Ap16EeNF5lB92QY7W4Q3vFc2.png',\n",
       "   './dataset/con_custom_dataset_2000/fc9792e4-7125-4943-982f-a372ac3547b8.png',\n",
       "   './dataset/con_custom_dataset_2000/gXKyKSft8sWALKf93iCMzoiYitW2.png',\n",
       "   './dataset/con_custom_dataset_2000/jNkULA6oqOO3RwpvkA1OZ61hhi02.png',\n",
       "   './dataset/con_custom_dataset_2000/c3e2ed37-89a0-4dfb-8d28-64f765aecae6.png',\n",
       "   './dataset/con_custom_dataset_2000/862c31eb-f4c0-44b5-ac1d-c1fc6e2bd4d6.png',\n",
       "   './dataset/con_custom_dataset_2000/d9f3707e-536a-4eb8-ba04-7f0fa5108389.png',\n",
       "   './dataset/con_custom_dataset_2000/152007.png',\n",
       "   './dataset/con_custom_dataset_2000/74fa4888-9594-4a34-a17f-fe12e87f3914.png',\n",
       "   './dataset/con_custom_dataset_2000/5Gn8GDorBDaV9s4JhzMpppc3I3j1.png',\n",
       "   './dataset/con_custom_dataset_2000/NRG3cVOEhsTaVQeeNG60tBv247Z2.png',\n",
       "   './dataset/con_custom_dataset_2000/M1RgcbGDbWbsxNkmPHlrh9J9n572.png',\n",
       "   './dataset/con_custom_dataset_2000/naPVzGoHqwfHo3PNVfoNxMpR7qU2.png',\n",
       "   './dataset/con_custom_dataset_2000/f257068c-aa67-46c9-893c-11d5f3499401.png',\n",
       "   './dataset/con_custom_dataset_2000/Cd7fkliPM2ZUM1skytvoU2vD8jK2.png',\n",
       "   './dataset/con_custom_dataset_2000/D2bMfCAvvSPj39z6fMToDFRh2rB3.png',\n",
       "   './dataset/con_custom_dataset_2000/CpB4mhP3leTMxJdDG3cD3xMN2AI3.png',\n",
       "   './dataset/con_custom_dataset_2000/mmg71cttF0ez7wdeTZeCVFw7GV32.png',\n",
       "   './dataset/con_custom_dataset_2000/zNNcSmfHhTbjLm5NcVmrOAf5C2j2.png',\n",
       "   './dataset/con_custom_dataset_2000/b10b57fe-78cf-4855-a82e-8a8d74875182.png',\n",
       "   './dataset/con_custom_dataset_2000/6f1d96f2-8fcc-4f4a-a7f1-83d5ff3fbef1.png',\n",
       "   './dataset/con_custom_dataset_2000/mUOw8WF8tVRdTbbulKTxtqRjTXs1.png',\n",
       "   './dataset/con_custom_dataset_2000/0Nuh8uDalHe47HGM31i2Ew6BPcl1.png',\n",
       "   './dataset/con_custom_dataset_2000/2a46861d-e845-4e99-8de1-e8211ce706b7.png',\n",
       "   './dataset/con_custom_dataset_2000/63d8bff9-fa89-44ac-bbe6-3918e4177f86.png',\n",
       "   './dataset/con_custom_dataset_2000/hVuxSeriDPUtRMM8xz2g7K37k0k2.png',\n",
       "   './dataset/con_custom_dataset_2000/vxQXoOBf9Oa0zTwHaKRyHqiUQTB2.png',\n",
       "   './dataset/con_custom_dataset_2000/NBD8pzxLyyYZs8wul5W6UUKBZbz1.png',\n",
       "   './dataset/con_custom_dataset_2000/jaRfWYxsWjV2L833wIIyuivEWFG3.png',\n",
       "   './dataset/con_custom_dataset_2000/JIafPire6JYhDR73srLG2xmrdJk1.png',\n",
       "   './dataset/con_custom_dataset_2000/c9cd6959-0d31-4c22-a0d4-46efef8547d8.png',\n",
       "   './dataset/con_custom_dataset_2000/O9jPNdypMudWbGGiqtlgi4ae2er1.png',\n",
       "   './dataset/con_custom_dataset_2000/65JopCV7ExeP1scqYfg8nP5KjKy2.png',\n",
       "   './dataset/con_custom_dataset_2000/f5010dc8-918c-417b-8a3e-3fab466c5811.png',\n",
       "   './dataset/con_custom_dataset_2000/90a22277-66b0-4162-afee-50d9fcc01523.png',\n",
       "   './dataset/con_custom_dataset_2000/e8ac85c7-c5bb-4e8b-be9c-a1f14bf737c6.png',\n",
       "   './dataset/con_custom_dataset_2000/05aa99b5-8d64-4d04-8f5d-a2a32ac5fe94.png',\n",
       "   './dataset/con_custom_dataset_2000/atCT4u8oywSbcTkAdFYwrtiVazh2.png',\n",
       "   './dataset/con_custom_dataset_2000/6YaTXgSnexec5CPOQg0EboLqnJJ2.png',\n",
       "   './dataset/con_custom_dataset_2000/nDhgdZFoNRUBm7qY6tw3z4ZLOdw2.png',\n",
       "   './dataset/con_custom_dataset_2000/13803c63-dc39-470b-9612-521cb025c08b.png',\n",
       "   './dataset/con_custom_dataset_2000/534799c0-d8ef-4c2a-a03e-752eb890d9c3.png',\n",
       "   './dataset/con_custom_dataset_2000/hRB1GYdlKAgCnwg4xFzAUE3SiUG2.png',\n",
       "   './dataset/con_custom_dataset_2000/8ef2771c-c2b6-47ec-a464-477709a7db78.png',\n",
       "   './dataset/con_custom_dataset_2000/5aef072c-bf9a-4277-9767-a1ca1bd0eba3.png',\n",
       "   './dataset/con_custom_dataset_2000/51da2bcb-f9a8-4a4d-8c13-b73d0acf95c9.png',\n",
       "   './dataset/con_custom_dataset_2000/DsEh7p2DEgWLuhbSTrqgQnTJJjC2.png',\n",
       "   './dataset/con_custom_dataset_2000/0M4YhLM7FwWO5IjCqhi7MlBhvJv2.png',\n",
       "   './dataset/con_custom_dataset_2000/ec0be4e6-5434-482e-8685-ac35bdc553d6.png',\n",
       "   './dataset/con_custom_dataset_2000/pWFMPFBys1bBerYz5Si4Gb8brGn1.png',\n",
       "   './dataset/con_custom_dataset_2000/atCT4u8oywSbcTkAdFYwrtiVazh2.png',\n",
       "   './dataset/con_custom_dataset_2000/61b720cf-41aa-468f-8696-9da98c4b9b2a.png',\n",
       "   './dataset/con_custom_dataset_2000/ZbFodPVPEZMK0DaH4J74kowt1d53.png',\n",
       "   './dataset/con_custom_dataset_2000/UlWhFB6lKfNxNLL74wLNe7bjM4H3.png',\n",
       "   './dataset/con_custom_dataset_2000/b4b17de3-ac90-415a-8e2c-393d6cc02618.png',\n",
       "   './dataset/con_custom_dataset_2000/Ou2g3o2wWgXZuyjlZr8ZABItDYx1.png',\n",
       "   './dataset/con_custom_dataset_2000/USIcgb7j6ofzFTvbjQVofvgJOoD2.png',\n",
       "   './dataset/con_custom_dataset_2000/YR33hHou5PgrLYv2L1mLzHE4na12.png',\n",
       "   './dataset/con_custom_dataset_2000/ZcKPQiZXR4Q0SXU9r7ZkWuQGmd52.png',\n",
       "   './dataset/con_custom_dataset_2000/bee264f8-3404-4200-83f6-78c6801c5a54.png',\n",
       "   './dataset/con_custom_dataset_2000/1b0b6bde-cd4a-47b7-a365-cff01b91d19d.png',\n",
       "   './dataset/con_custom_dataset_2000/zir8PPnBwfOaT05GrKj9nK4opfk1.png',\n",
       "   './dataset/con_custom_dataset_2000/153499ca-57e3-4ccd-9443-5e9aabb6e754.png',\n",
       "   './dataset/con_custom_dataset_2000/lF4uHVWCoBPlnxvapmUJ4ROtYV73.png',\n",
       "   './dataset/con_custom_dataset_2000/0c4da14c-7035-41b7-ade2-38aa1481c046.png',\n",
       "   './dataset/con_custom_dataset_2000/IkdWn0v3dAU9eWzsf3rY8Dwgf0V2.png',\n",
       "   './dataset/con_custom_dataset_2000/67e0905b-cfad-4060-a39b-8b6640ee24a1.png',\n",
       "   './dataset/con_custom_dataset_2000/a6dae76d-27e1-467a-a5f3-f6a0c184ec5b.png',\n",
       "   './dataset/con_custom_dataset_2000/sPGRBmPA8SX6kBsrzS7c4zt8fsr2.png',\n",
       "   './dataset/con_custom_dataset_2000/KVKLfU8zZ1MEywuVYflH2KYOHr52.png',\n",
       "   './dataset/con_custom_dataset_2000/KjtasLncY7ZFQf5Hx25UJ4A3NGF2.png',\n",
       "   './dataset/con_custom_dataset_2000/2b22a1b8-5dc4-4674-9ebc-99d6a06e999c.png',\n",
       "   './dataset/con_custom_dataset_2000/d85c7f83-2046-4562-b4d1-34db19d657a7.png',\n",
       "   './dataset/con_custom_dataset_2000/221529.png',\n",
       "   './dataset/con_custom_dataset_2000/04c3d6a6-4773-4544-97aa-e25058686a0e.png',\n",
       "   './dataset/con_custom_dataset_2000/116f08b7-2404-4d19-8b07-977fc4581803.png',\n",
       "   './dataset/con_custom_dataset_2000/e01233c6-2e1b-4dde-8abd-bd83bc293b1d.png',\n",
       "   './dataset/con_custom_dataset_2000/nHni2h50bzR6jh4FDPgY2NtVs7I2.png',\n",
       "   './dataset/con_custom_dataset_2000/abpYyjmAQAMGlnyqXPGIL9lbnQo2.png',\n",
       "   './dataset/con_custom_dataset_2000/c5260e7e-c927-464a-8946-bf1559afa0cf.png',\n",
       "   './dataset/con_custom_dataset_2000/13cb2d82-6623-4fd4-9fb4-9dc2f04f4fc4.png',\n",
       "   './dataset/con_custom_dataset_2000/BvSvfAT0dRRNGX7n6wmIpOlp7W12.png',\n",
       "   './dataset/con_custom_dataset_2000/15f0dd1c-286d-4663-b967-1453fbd924a4.png',\n",
       "   './dataset/con_custom_dataset_2000/cmb5xzMisFOW3SKYjF7C8mgLfD83.png',\n",
       "   './dataset/con_custom_dataset_2000/YKJ4AmuaSThm9fM7nAE2rxLs9Bm2.png',\n",
       "   './dataset/con_custom_dataset_2000/4mg0uaY0GYTtgo4hvP2APxs7zhL2.png',\n",
       "   './dataset/con_custom_dataset_2000/77ff6719-c466-44f9-8dd0-b0d788868281.png',\n",
       "   './dataset/con_custom_dataset_2000/2ec9faa4-b837-422d-bb60-042f1d5aef48.png',\n",
       "   './dataset/con_custom_dataset_2000/0554f7bb-13d0-4a8c-861e-7395b6b22972.png',\n",
       "   './dataset/con_custom_dataset_2000/4kto18R8RwXJ0C7c0oCORNU4GZz2.png',\n",
       "   './dataset/con_custom_dataset_2000/ThEx12Qb23UTenYWttvsRvioxqE2.png',\n",
       "   './dataset/con_custom_dataset_2000/DpU572tPYaXZXMglBud6sRIaq8y2.png',\n",
       "   './dataset/con_custom_dataset_2000/a0f11dec-e546-4869-a284-cffeeb231c6e.png',\n",
       "   './dataset/con_custom_dataset_2000/b8b8bad5-218b-4ade-b765-363274099dd2.png',\n",
       "   './dataset/con_custom_dataset_2000/j0q8isyOE2akw5RDUOV9whSwNDW2.png',\n",
       "   './dataset/con_custom_dataset_2000/AUwVqLrZHwO7uyyadbaMDd4XyxC3.png',\n",
       "   './dataset/con_custom_dataset_2000/Uy5OhcHEQXY65CsYbiRPtN7RVBf1.png',\n",
       "   './dataset/con_custom_dataset_2000/IQJWFucM7GbQ00iw3lt2UvBFzaW2.png',\n",
       "   './dataset/con_custom_dataset_2000/dLWRBpUZo7ddqJup4t3C2TwiVqA3.png',\n",
       "   './dataset/con_custom_dataset_2000/4f65632b-6f4a-4bac-9c9b-64ff3b53e5d4.png',\n",
       "   './dataset/con_custom_dataset_2000/e89789bf-47de-4985-a17c-f6b3e7b5573b.png',\n",
       "   './dataset/con_custom_dataset_2000/wfC9G2gEocPkwkqAtaGxZDbK4oF2.png',\n",
       "   './dataset/con_custom_dataset_2000/486dd43d-63a6-4ad6-8a00-2787b31c245e.png',\n",
       "   './dataset/con_custom_dataset_2000/b5a010d2-d060-4297-9d72-bfbd0fc7af02.png',\n",
       "   './dataset/con_custom_dataset_2000/0f65c497-cad7-4c4b-bbc3-a40ac0d75b99.png',\n",
       "   './dataset/con_custom_dataset_2000/51731.png',\n",
       "   './dataset/con_custom_dataset_2000/nK2YpVS3PYX059aMmDbfR6UtBA03.png',\n",
       "   './dataset/con_custom_dataset_2000/decf1814-d630-46f2-b7ff-66dc1de86c4f.png',\n",
       "   './dataset/con_custom_dataset_2000/zHug6OwMsNQnCCKu5TAiHKddqer2.png',\n",
       "   './dataset/con_custom_dataset_2000/f138bc82-25bc-447c-a2ab-49291b023790.png',\n",
       "   './dataset/con_custom_dataset_2000/fc176213-aaca-4dc6-9235-d4911a99c6db.png',\n",
       "   './dataset/con_custom_dataset_2000/chMsCb2SqaYxVB1lc93vPGPa5ho1.png',\n",
       "   './dataset/con_custom_dataset_2000/YEPHDMGy11bhRKUTSh5vHHfRk4K3.png',\n",
       "   './dataset/con_custom_dataset_2000/0fb681c9-dee3-44a1-ba9d-05418c481a2a.png',\n",
       "   './dataset/con_custom_dataset_2000/O7eAgc4vq5fZQmGh60gDaMxOjgz2.png',\n",
       "   './dataset/con_custom_dataset_2000/176914.png',\n",
       "   './dataset/con_custom_dataset_2000/7169e5ae-15c5-48b8-a93c-27c87c630552.png',\n",
       "   './dataset/con_custom_dataset_2000/abpYyjmAQAMGlnyqXPGIL9lbnQo2.png',\n",
       "   './dataset/con_custom_dataset_2000/cb986adb-6afc-499b-b77a-e7aee4e26ec2.png',\n",
       "   './dataset/con_custom_dataset_2000/uqD6aEx3ObQK5DE4GH900S42U352.png',\n",
       "   './dataset/con_custom_dataset_2000/6MOH79fX0ReMHLdJCA5W9ZFBYn42.png',\n",
       "   './dataset/con_custom_dataset_2000/6eff8ab6-76dc-4925-8102-12508971030c.png',\n",
       "   './dataset/con_custom_dataset_2000/9eb78aa3-6833-4f0e-95c2-908512cacbbb.png',\n",
       "   './dataset/con_custom_dataset_2000/6wvKyVH5jNcuBCjwHE7WvgbtaqI3.png',\n",
       "   './dataset/con_custom_dataset_2000/GWjZnz8QWXXGzHLaG0HNHFyeZgS2.png',\n",
       "   './dataset/con_custom_dataset_2000/vus9YM3VqCXq3QckSGoeHJs6pBN2.png',\n",
       "   './dataset/con_custom_dataset_2000/fa943209-48e9-4dda-b66e-10e937988b37.png',\n",
       "   './dataset/con_custom_dataset_2000/a824bf3f-447f-4f2e-b8b2-27677227af79.png',\n",
       "   './dataset/con_custom_dataset_2000/ed19d797-397f-4218-8412-14d7f5c25780.png',\n",
       "   './dataset/con_custom_dataset_2000/YvhPqG9MqhbjHErOmOctaNdVdJZ2.png',\n",
       "   './dataset/con_custom_dataset_2000/op1WefhMk4PWXOP5mzMctzOWM3x1.png',\n",
       "   './dataset/con_custom_dataset_2000/dd26fd38-5dc3-44ad-8749-528ea1449afc.png',\n",
       "   './dataset/con_custom_dataset_2000/dad8528a-e82c-4c46-8dfd-ada8571cd14a.png',\n",
       "   './dataset/con_custom_dataset_2000/62f8be27-7cd0-4bcf-8b23-78d9934d779a.png',\n",
       "   './dataset/con_custom_dataset_2000/169907.png',\n",
       "   './dataset/con_custom_dataset_2000/6pXKrZlDycStXTNMBjGXtxxYfvc2.png',\n",
       "   './dataset/con_custom_dataset_2000/182368.png',\n",
       "   './dataset/con_custom_dataset_2000/7yQ29b3Q1KfOIk5K1MSeGTsWqGB2.png',\n",
       "   './dataset/con_custom_dataset_2000/983ef2b1-d949-4e53-b6ec-e7125470c106.png',\n",
       "   './dataset/con_custom_dataset_2000/c0bdd1bb-f749-4a19-ac1e-fd68ad51f06c.png',\n",
       "   './dataset/con_custom_dataset_2000/RP28VzHbG0crJB2RnboqUaM9SRm1.png',\n",
       "   './dataset/con_custom_dataset_2000/eW3UMx8SACOoZft0ZOLZUIVaTFb2.png',\n",
       "   './dataset/con_custom_dataset_2000/ee80cf94-2cfd-4df7-8c4f-b1141e76408f.png',\n",
       "   './dataset/con_custom_dataset_2000/6c552885-2d81-4758-bafa-8b8c203032f1.png',\n",
       "   './dataset/con_custom_dataset_2000/GjdjAvKrnbRRRX1KbioknjMVLNx2.png',\n",
       "   './dataset/con_custom_dataset_2000/2c1f98d5-4278-4bd8-830a-47f554850401.png',\n",
       "   './dataset/con_custom_dataset_2000/hP0R5MMdSNThSMZ7TNLjU7sxyws1.png',\n",
       "   './dataset/con_custom_dataset_2000/504f7e16-9d64-4440-b140-8096ce1998f7.png',\n",
       "   './dataset/con_custom_dataset_2000/2840b42e-fdea-4309-bd03-d037c549b1b8.png',\n",
       "   './dataset/con_custom_dataset_2000/5YSIWpZPYZUqG5rGievs4epu33g2.png',\n",
       "   './dataset/con_custom_dataset_2000/6f705dca-0b74-4933-a057-b6af89889bad.png',\n",
       "   './dataset/con_custom_dataset_2000/47858bbe-6a15-41ec-9f56-feee02c10585.png',\n",
       "   './dataset/con_custom_dataset_2000/xJyoUt9euYQsPrWglHIDGqjtOjg1.png',\n",
       "   './dataset/con_custom_dataset_2000/yZtohTVxlSauCUNuIIEUcdIA2TJ3.png',\n",
       "   './dataset/con_custom_dataset_2000/46764026-8c99-418c-b4b7-2bfc2b36045f.png',\n",
       "   './dataset/con_custom_dataset_2000/e9ab1357-11a3-456b-921b-a8049c8c985d.png',\n",
       "   './dataset/con_custom_dataset_2000/15340074-ab76-4b93-9af4-ae07370eb261.png',\n",
       "   './dataset/con_custom_dataset_2000/hkbGDo0CbGUStRblqwQj7KJc5lk2.png',\n",
       "   './dataset/con_custom_dataset_2000/S0VydT0PnkaGbSLPpfoz2kr48yz1.png',\n",
       "   './dataset/con_custom_dataset_2000/e2396d0f-57f4-42b8-82ab-13d1867e35a5.png',\n",
       "   './dataset/con_custom_dataset_2000/1f20d236-5904-42b5-994d-27283195f95f.png',\n",
       "   './dataset/con_custom_dataset_2000/335a56cc-66bf-4dd0-a60b-f7a596e43c08.png',\n",
       "   './dataset/con_custom_dataset_2000/72571d3d-b6c5-44b8-b196-410c3a109fb9.png',\n",
       "   './dataset/con_custom_dataset_2000/5bdcccb7-fab3-4d4f-adea-44129095cb60.png',\n",
       "   './dataset/con_custom_dataset_2000/HltnpdE31PPFAFYRdJXRXokmdUF2.png',\n",
       "   './dataset/con_custom_dataset_2000/118625.png',\n",
       "   './dataset/con_custom_dataset_2000/Ou2g3o2wWgXZuyjlZr8ZABItDYx1.png',\n",
       "   './dataset/con_custom_dataset_2000/c9794fc4-b5f1-42d5-a051-923ae0731b8c.png',\n",
       "   './dataset/con_custom_dataset_2000/O924JvpBNRN7jHvErWkpfjqGvat1.png',\n",
       "   './dataset/con_custom_dataset_2000/pnoznkafNcbciLGFDaDsiyKzf4W2.png',\n",
       "   './dataset/con_custom_dataset_2000/72d2de57-d587-4471-a50d-e261fc5603ec.png',\n",
       "   './dataset/con_custom_dataset_2000/7cd1efb7-e973-492d-8a2c-e00a42ef0d78.png',\n",
       "   './dataset/con_custom_dataset_2000/ad50b1d0-d438-47c2-bdd7-b77456a17518.png',\n",
       "   './dataset/con_custom_dataset_2000/uHPhyLsj5eYghJQOYj7iXa0fyOE3.png',\n",
       "   './dataset/con_custom_dataset_2000/yOgmlp4SsRfgN3OIWhxsQC4QdaC3.png',\n",
       "   './dataset/con_custom_dataset_2000/nXZU2OEKmtPSXhbaHZAKb3snrJt2.png',\n",
       "   './dataset/con_custom_dataset_2000/d009cf2d-59a1-4e33-8071-22f5018bd098.png',\n",
       "   './dataset/con_custom_dataset_2000/atCT4u8oywSbcTkAdFYwrtiVazh2.png',\n",
       "   './dataset/con_custom_dataset_2000/nC130uADRFZF5vae8qZt2qmpbpi1.png',\n",
       "   './dataset/con_custom_dataset_2000/1BFTsgEVsJdltjiXvECDOi35nT53.png',\n",
       "   './dataset/con_custom_dataset_2000/TQx9HF2p3pXksgf5YNrpQSh81qu1.png',\n",
       "   './dataset/con_custom_dataset_2000/062c3a7f-a783-4b43-806e-6db83aa0da15.png',\n",
       "   './dataset/con_custom_dataset_2000/125070.png',\n",
       "   './dataset/con_custom_dataset_2000/673eec57-6746-4a49-8af6-2c12050ac718.png',\n",
       "   './dataset/con_custom_dataset_2000/7a963229-e38d-49b0-b5af-15d1721667ca.png',\n",
       "   './dataset/con_custom_dataset_2000/BOVL8U9dmKWYsaPdV6b0EZkHuNo1.png',\n",
       "   './dataset/con_custom_dataset_2000/c576b1e0-cb74-4560-bea4-0ba89b862273.png',\n",
       "   './dataset/con_custom_dataset_2000/b8b7da44-705e-4cd8-910a-1f3be4c4588f.png',\n",
       "   './dataset/con_custom_dataset_2000/c0a9dd69-b239-4e19-bae3-8cc3f89674da.png',\n",
       "   './dataset/con_custom_dataset_2000/5c5864ca-809d-41ca-8256-469c893f01a6.png',\n",
       "   './dataset/con_custom_dataset_2000/M8Y156MBhmYtI8n9jopclvzzK362.png',\n",
       "   './dataset/con_custom_dataset_2000/HATVkqrdXhV2eIiwy5iIP7V0bjo2.png',\n",
       "   './dataset/con_custom_dataset_2000/4d35b416-d0b0-4fca-bd40-420da86ab4e2.png',\n",
       "   './dataset/con_custom_dataset_2000/f1061528-48a5-4a06-ae55-773980db9986.png',\n",
       "   './dataset/con_custom_dataset_2000/mh19KvxVPfMXJ823tZzidOF1Wwn2.png',\n",
       "   './dataset/con_custom_dataset_2000/2e41a2bd-6462-407d-8078-9f7b86a54f52.png',\n",
       "   './dataset/con_custom_dataset_2000/tM8IvvHCyCXpEsx5T6egMVLj7Lu1.png',\n",
       "   './dataset/con_custom_dataset_2000/U98J2q0NnycYzzUS2BYZpUa55X83.png',\n",
       "   './dataset/con_custom_dataset_2000/BdJTNoebc9X4fQNSUGhjBVVADvr2.png',\n",
       "   './dataset/con_custom_dataset_2000/YLjbjcoMy1bCh25iChGjXXTc8RK2.png',\n",
       "   './dataset/con_custom_dataset_2000/5f233cc9-1111-4934-9f97-58ba1f97e85d.png',\n",
       "   './dataset/con_custom_dataset_2000/8645d274-16c7-41da-aad2-64bda2dca8a0.png',\n",
       "   './dataset/con_custom_dataset_2000/yI90OQafcNSI5Hcgsil9iEifx1R2.png',\n",
       "   './dataset/con_custom_dataset_2000/e0bd94ad-3476-4149-a368-f13f68f56fbc.png',\n",
       "   './dataset/con_custom_dataset_2000/dd4444d6-590a-498e-aa26-93e8ab74bee7.png',\n",
       "   './dataset/con_custom_dataset_2000/eg0RP6C379PTXguMbBE6RUKY69S2.png',\n",
       "   './dataset/con_custom_dataset_2000/48d2818d-b1ab-4f75-a9d3-5f3c6f0f55d0.png',\n",
       "   './dataset/con_custom_dataset_2000/teOvCnrHvkhO4p7XASV9OXfL0k72.png',\n",
       "   './dataset/con_custom_dataset_2000/3a321fbe-2985-40b1-9a87-17bf6572cd5d.png',\n",
       "   './dataset/con_custom_dataset_2000/ResMUOUcy2MrsL3bksITWifqla52.png',\n",
       "   './dataset/con_custom_dataset_2000/c60c7e97-0a29-4b6e-a029-5c63c767062a.png',\n",
       "   './dataset/con_custom_dataset_2000/bk1oHM5vebe9ZNtgyRq54UVOIQR2.png',\n",
       "   './dataset/con_custom_dataset_2000/130891.png',\n",
       "   './dataset/con_custom_dataset_2000/c8dc94f0-339b-407b-86c0-3419a7f1b4d2.png',\n",
       "   './dataset/con_custom_dataset_2000/6FftFl1jWlQHb0N37KW4ajs9dqH3.png',\n",
       "   './dataset/con_custom_dataset_2000/90d19009-344d-4ffc-a999-56fc6dbf29a6.png',\n",
       "   './dataset/con_custom_dataset_2000/6fqe8i160qM5rtC4uHrlu3MZXe32.png',\n",
       "   './dataset/con_custom_dataset_2000/CAlwzhQrNYT72NAfkAOpXNoLJrM2.png',\n",
       "   './dataset/con_custom_dataset_2000/51173.png',\n",
       "   './dataset/con_custom_dataset_2000/imhxF3UQDZNVEnNeyw8jOAsgtjv2.png',\n",
       "   './dataset/con_custom_dataset_2000/15a0a034-354e-4637-b74c-9653763e0862.png',\n",
       "   './dataset/con_custom_dataset_2000/a64fcfe4-90bd-4128-a5f4-28f2085995e8.png',\n",
       "   './dataset/con_custom_dataset_2000/eqI4Ht18bCU6HbJVycb8GgXRmbU2.png',\n",
       "   './dataset/con_custom_dataset_2000/vBRMIg1ACdeSAFmcWnII6ZkDefV2.png',\n",
       "   './dataset/con_custom_dataset_2000/ewjgkt6HqIQ24vpCKFBISsgr5gJ3.png',\n",
       "   './dataset/con_custom_dataset_2000/6wlO9IzJRZZ3tp02z0La8JCAU8Z2.png',\n",
       "   './dataset/con_custom_dataset_2000/12de588b-78a4-4772-a346-49ba4efcc1df.png',\n",
       "   './dataset/con_custom_dataset_2000/d2728113-e256-436c-a7be-b3e846ada715.png',\n",
       "   './dataset/con_custom_dataset_2000/667cd554-e3dd-43f5-9c69-cec2fdcb4071.png',\n",
       "   './dataset/con_custom_dataset_2000/3c95ac26-b4b5-497f-a324-474595f02625.png',\n",
       "   './dataset/con_custom_dataset_2000/619d3192-2b16-4be4-ba00-fa58d61f7850.png',\n",
       "   './dataset/con_custom_dataset_2000/4U5fWjzYiROaFxurdK2BCMt2IIg2.png',\n",
       "   './dataset/con_custom_dataset_2000/VQVtmKC3HwVHbY1xMTued5OOP4E2.png',\n",
       "   './dataset/con_custom_dataset_2000/ImU3ZpdqkRPNAy6Ol61zoGuq8sj1.png',\n",
       "   './dataset/con_custom_dataset_2000/kus7obTENSPvUNbwD2yi6vUi0x23.png',\n",
       "   './dataset/con_custom_dataset_2000/76b0a05f-c35b-4e18-840c-f34023b001de.png',\n",
       "   './dataset/con_custom_dataset_2000/8UDw6kiGKhgchuwIhHR3o2npPk92.png',\n",
       "   './dataset/con_custom_dataset_2000/TfuCgDdguMVRpKIAXs2kINT1Yxx1.png',\n",
       "   './dataset/con_custom_dataset_2000/466aPruIIbOEG3V1IaKzu5O8kun2.png',\n",
       "   './dataset/con_custom_dataset_2000/rjI1qyc5W6RkajiRcmde0VISAIF3.png',\n",
       "   './dataset/con_custom_dataset_2000/t19ZtqDNiJd7nL1SntNpS8KQDO73.png',\n",
       "   './dataset/con_custom_dataset_2000/139f436a-d29a-4e60-9902-674e33d62c28.png',\n",
       "   './dataset/con_custom_dataset_2000/bbc64a4b-f089-4a06-adab-384d5c68c51f.png',\n",
       "   './dataset/con_custom_dataset_2000/dc3761b5-ce81-4ec8-bd7c-da5ef5c267ef.png',\n",
       "   './dataset/con_custom_dataset_2000/5b992a76-73a5-44ef-ba2e-14872c49d5c0.png',\n",
       "   './dataset/con_custom_dataset_2000/nDhgdZFoNRUBm7qY6tw3z4ZLOdw2.png',\n",
       "   './dataset/con_custom_dataset_2000/weDSWB2g4cRfj2Xi6DfJ1DCouZr2.png',\n",
       "   './dataset/con_custom_dataset_2000/2jFheyh8bLO5peh0HPYGYjH5N9x2.png',\n",
       "   './dataset/con_custom_dataset_2000/a13b9da9-a901-4622-9898-71f76097b98c.png',\n",
       "   './dataset/con_custom_dataset_2000/9038bd97-1b69-4cae-a503-d9e6544ba64c.png',\n",
       "   './dataset/con_custom_dataset_2000/573e3228-0df6-43f1-8cc7-037a51be49c6.png',\n",
       "   './dataset/con_custom_dataset_2000/xrVSOYVRn2RTVm7arbPJztWNCoI3.png',\n",
       "   './dataset/con_custom_dataset_2000/64963.png',\n",
       "   './dataset/con_custom_dataset_2000/UhGuA2vn7sUfKJRENR472IxQaEu2.png',\n",
       "   './dataset/con_custom_dataset_2000/2TOBsGCz6ZUYjZ1DKt3C0ae2VlZ2.png',\n",
       "   './dataset/con_custom_dataset_2000/cAdvtOxMKHg9hO3IbimCRK9Vooi1.png',\n",
       "   './dataset/con_custom_dataset_2000/7d65859c-9f87-4608-a277-94edd9b5a865.png',\n",
       "   './dataset/con_custom_dataset_2000/ef4f2d04-e916-4727-b74c-821f100491fa.png',\n",
       "   './dataset/con_custom_dataset_2000/08b513eb-5799-4664-81ad-a6b8f450c231.png',\n",
       "   './dataset/con_custom_dataset_2000/QlMu7Fl8iIgOZM3QHEOzOJY6npH3.png',\n",
       "   './dataset/con_custom_dataset_2000/8bd242d1-398a-4d4e-a5bd-7717fcfd3035.png',\n",
       "   './dataset/con_custom_dataset_2000/a18c709d-4692-42a0-9413-f7e953275587.png',\n",
       "   './dataset/con_custom_dataset_2000/d534f245-59cb-48d6-bcd5-e56bab4b1e42.png',\n",
       "   './dataset/con_custom_dataset_2000/ibsftXiIIaTlmiN1fVp4MjtS9Hl2.png',\n",
       "   './dataset/con_custom_dataset_2000/5Lln9rjGG3RqbQ1bo0SzlkB0vxq2.png',\n",
       "   './dataset/con_custom_dataset_2000/XQVpgnaYz4NHmXRFWov9lBKP1tg1.png',\n",
       "   './dataset/con_custom_dataset_2000/cd99d9c4-3ec2-4cc8-803b-e2db85f02c8a.png',\n",
       "   './dataset/con_custom_dataset_2000/df1c90ef-c7f6-4229-b04a-79051ee14d64.png',\n",
       "   './dataset/con_custom_dataset_2000/01e68cda-2d0f-4327-b3d2-3c58f47192ec.png',\n",
       "   './dataset/con_custom_dataset_2000/hmqyX7Xq7gMmLDSmb7MtmLc92R93.png',\n",
       "   './dataset/con_custom_dataset_2000/r0XiFJDYZCMvV7xT8LowfFV3DJQ2.png',\n",
       "   './dataset/con_custom_dataset_2000/35f68b0d-b667-430b-abee-834d69f6df61.png',\n",
       "   './dataset/con_custom_dataset_2000/05010000-fdb0-4c15-b828-616402d0d17e.png',\n",
       "   './dataset/con_custom_dataset_2000/WifTQoZzOTcQ53HiZNJUQOXehde2.png',\n",
       "   './dataset/con_custom_dataset_2000/186140ce-71c8-4272-bb15-9e5b9fdf578e.png',\n",
       "   './dataset/con_custom_dataset_2000/1yXs34J4y9VaRQSdwgm4NVWs6Y12.png',\n",
       "   './dataset/con_custom_dataset_2000/sSJoDuR1etTsr85E8wRfxIvfiCf1.png',\n",
       "   './dataset/con_custom_dataset_2000/zVkoMlwOqwXzjsgyGs99OoU10J92.png',\n",
       "   './dataset/con_custom_dataset_2000/yfPjZBFWOihN0YDhKla7wWDoVCA2.png',\n",
       "   './dataset/con_custom_dataset_2000/b165261b-ed56-433c-8cf4-7b2c4aa763eb.png',\n",
       "   './dataset/con_custom_dataset_2000/16f8c0d8-0a68-46c0-8875-84027b061d64.png',\n",
       "   './dataset/con_custom_dataset_2000/e86e02c9-3544-493a-986c-4e5b3cd82954.png',\n",
       "   './dataset/con_custom_dataset_2000/CkBv7ZLYRIcugw93mPtPkbWxC412.png',\n",
       "   './dataset/con_custom_dataset_2000/ab4aea29-ba9b-4a26-9cd6-e88cd9d0fd45.png',\n",
       "   './dataset/con_custom_dataset_2000/a44a28d3-95b1-4cb4-95b0-f0ff712627ab.png',\n",
       "   './dataset/con_custom_dataset_2000/gXkNMIy5J4VwXV2ZxAAObvb7S3Q2.png',\n",
       "   './dataset/con_custom_dataset_2000/197fd3fd-2c59-41b3-836a-8c9d51b3fbb0.png',\n",
       "   './dataset/con_custom_dataset_2000/984246f3-f76a-41ba-a026-d3f44146aa09.png',\n",
       "   './dataset/con_custom_dataset_2000/SopKRSJ4JcY36rGE8X4wRE7vPHl2.png',\n",
       "   './dataset/con_custom_dataset_2000/Eoyf44CUffgVCPPjJJkopEyAO7k2.png',\n",
       "   './dataset/con_custom_dataset_2000/VDhr3WpGrNSi0eWqpTtfZdvUC3N2.png',\n",
       "   './dataset/con_custom_dataset_2000/FRMCCawVGmh3acxTrxgPFn7M7zB2.png',\n",
       "   './dataset/con_custom_dataset_2000/24796.png',\n",
       "   './dataset/con_custom_dataset_2000/tLK9Z6BpfWVDFV7DQKMnEy0Woo22.png',\n",
       "   './dataset/con_custom_dataset_2000/5788bd3d-e3f3-45c5-9fec-0e8866595f4c.png',\n",
       "   './dataset/con_custom_dataset_2000/89b57a60-179e-4bee-865d-9516ffb658a4.png',\n",
       "   './dataset/con_custom_dataset_2000/YjUO0QbUUAUJyUfgApL52jRs8Z52.png',\n",
       "   './dataset/con_custom_dataset_2000/3cbb5093-53f6-45a7-8bbc-ea87c51dc88c.png',\n",
       "   './dataset/con_custom_dataset_2000/6wlO9IzJRZZ3tp02z0La8JCAU8Z2.png',\n",
       "   './dataset/con_custom_dataset_2000/b4538358-d704-49f4-81a6-2888dfc4b309.png',\n",
       "   './dataset/con_custom_dataset_2000/cc7421cf-a094-4a17-a4cb-cecdd43b8095.png',\n",
       "   './dataset/con_custom_dataset_2000/a22a4a1a-880c-468d-b6c5-f751fae30ed6.png',\n",
       "   './dataset/con_custom_dataset_2000/333d9985-503b-413a-b519-a7beae21b8cd.png',\n",
       "   './dataset/con_custom_dataset_2000/kaIGgo2Cw7ff8AkV7vzWQ1KArwm1.png',\n",
       "   './dataset/con_custom_dataset_2000/70a68234-9dc5-48ef-aedc-678d3b05ec68.png',\n",
       "   './dataset/con_custom_dataset_2000/42d04f3c-0a85-4695-883f-3e3a241df72c.png',\n",
       "   './dataset/con_custom_dataset_2000/7e542aa9-d24d-49c7-8ff6-ab88a5de9a24.png',\n",
       "   './dataset/con_custom_dataset_2000/byVsWVHvkgc9Pkf4lUPOGSdZ0Vl2.png',\n",
       "   './dataset/con_custom_dataset_2000/3f7b37e2-ab27-40b7-b575-7c6f6a7cf75c.png',\n",
       "   './dataset/con_custom_dataset_2000/bKFvmp9gCwagsEuSIYBWDkiaZ2i2.png',\n",
       "   './dataset/con_custom_dataset_2000/yeo7HwJ5Dcbqc4ozwv6az8iRVTJ3.png',\n",
       "   './dataset/con_custom_dataset_2000/6308a83f-58f0-4cd8-be25-5c75b8883126.png',\n",
       "   './dataset/con_custom_dataset_2000/9f1402f8-5822-4e2c-a745-dabb5c00f7ad.png',\n",
       "   './dataset/con_custom_dataset_2000/13571.png',\n",
       "   './dataset/con_custom_dataset_2000/37c3fa7d-f52e-48b7-9992-8a591f2185c8.png',\n",
       "   './dataset/con_custom_dataset_2000/FNYflY4qOecrSQOzynZ1WDQZfCJ3.png',\n",
       "   './dataset/con_custom_dataset_2000/gH4tLBmPiFWp96S6j3z0wjKYhab2.png',\n",
       "   './dataset/con_custom_dataset_2000/alHP6MaZt1dneLG1iix5HHszKcz2.png',\n",
       "   './dataset/con_custom_dataset_2000/198411.png',\n",
       "   './dataset/con_custom_dataset_2000/b1f0f8ae-c4e7-4ce6-85ab-439464c0323d.png',\n",
       "   './dataset/con_custom_dataset_2000/d3f0c8e8-783e-48d1-8a4d-eb8dde284a2f.png',\n",
       "   './dataset/con_custom_dataset_2000/eca2854f-64ae-42c7-b042-77288a333796.png',\n",
       "   './dataset/con_custom_dataset_2000/9a3e9be5-8e72-404f-9f8b-c474729c061e.png',\n",
       "   './dataset/con_custom_dataset_2000/479e6e3f-81fb-4e79-a857-5848427d3ec8.png',\n",
       "   './dataset/con_custom_dataset_2000/Zs8oTVcUPTc8pk9UES7sFEhRDxX2.png',\n",
       "   './dataset/con_custom_dataset_2000/200461.png',\n",
       "   './dataset/con_custom_dataset_2000/67dd195e-96e9-4a93-a065-6b4e40d6151e.png',\n",
       "   './dataset/con_custom_dataset_2000/48783717-fa70-414d-ae74-f7a2d794c7c9.png',\n",
       "   './dataset/con_custom_dataset_2000/83934.png',\n",
       "   './dataset/con_custom_dataset_2000/59071f84-2162-4be5-94ed-954f1cbef2c8.png',\n",
       "   './dataset/con_custom_dataset_2000/95506d1a-d88f-4e15-87ad-f67ffb5471d5.png',\n",
       "   './dataset/con_custom_dataset_2000/98f74976-5070-4f9b-bcb9-b706b04da3cb.png',\n",
       "   './dataset/con_custom_dataset_2000/72f764de-abb8-423a-96ce-47c139bae3b8.png',\n",
       "   './dataset/con_custom_dataset_2000/2176dc0e-ef28-4f7a-a6e3-679efa5cdc96.png',\n",
       "   './dataset/con_custom_dataset_2000/74797c09-59db-41b1-9efc-cc0788c4eb63.png',\n",
       "   './dataset/con_custom_dataset_2000/128631.png',\n",
       "   './dataset/con_custom_dataset_2000/a81ca496-1d04-4aae-969d-0b09cc83daca.png',\n",
       "   './dataset/con_custom_dataset_2000/37090053-dc29-4e13-a868-6713684da4bf.png',\n",
       "   './dataset/con_custom_dataset_2000/006d8d1c-2bf6-46a6-8ef2-1823898a4733.png',\n",
       "   './dataset/con_custom_dataset_2000/jtTWQOkCx0RG5LBfKnPekeYuhMD2.png',\n",
       "   './dataset/con_custom_dataset_2000/36dcf602-214a-4217-9fea-0d52bad5f848.png',\n",
       "   './dataset/con_custom_dataset_2000/cd2921c1-d73b-422c-9f3a-e40ebbe43bad.png',\n",
       "   './dataset/con_custom_dataset_2000/d5c91ea6-25d8-4e32-a60c-bb850bc33d6d.png',\n",
       "   './dataset/con_custom_dataset_2000/HaeKJrHeBqgwClDs0LHG7oT6fHs1.png',\n",
       "   './dataset/con_custom_dataset_2000/c18b81Qa5YY2RbEzblDNxMNQE312.png',\n",
       "   './dataset/con_custom_dataset_2000/g31DKGN9FreFz5HQtF6z732O0LO2.png',\n",
       "   './dataset/con_custom_dataset_2000/sxkvX8kn2eQnE8pbiKR58Ruea3n2.png',\n",
       "   './dataset/con_custom_dataset_2000/EVEnOepr9yaACgz1aJgRRoNpqaw1.png',\n",
       "   './dataset/con_custom_dataset_2000/187284.png',\n",
       "   './dataset/con_custom_dataset_2000/3cd040fd-f887-483b-b3af-693452815ee9.png',\n",
       "   './dataset/con_custom_dataset_2000/64117c4c-1389-4044-8cb0-b957eb07e052.png',\n",
       "   './dataset/con_custom_dataset_2000/l57TNYomN4Z56eIotPFe6hN1Vgm2.png',\n",
       "   './dataset/con_custom_dataset_2000/7a8ac07c-3f43-4a69-81e0-2547ada436d7.png',\n",
       "   './dataset/con_custom_dataset_2000/db594088-8c3e-420f-9c5f-8d39f634ad06.png',\n",
       "   './dataset/con_custom_dataset_2000/ugXNiwAC4VZuidrzssew4IEViQM2.png',\n",
       "   './dataset/con_custom_dataset_2000/4ab61522-69e1-40fd-b292-5049e2630227.png',\n",
       "   './dataset/con_custom_dataset_2000/KzArWjCjApUOIz69TPVaZxSKQ6W2.png',\n",
       "   './dataset/con_custom_dataset_2000/fhyliV6PW1aFvwfKLmquREKjECT2.png',\n",
       "   './dataset/con_custom_dataset_2000/16af8331-f890-4f2e-bf49-2b42985d379e.png',\n",
       "   './dataset/con_custom_dataset_2000/e035d3bb-01d2-451b-b342-d4b141acaa59.png',\n",
       "   './dataset/con_custom_dataset_2000/L6zbMqqGS1et0kjPXmSsLUI3vz22.png',\n",
       "   './dataset/con_custom_dataset_2000/84d132bb-f2d1-479a-8700-2eb97ea5cec3.png',\n",
       "   './dataset/con_custom_dataset_2000/2184c33b-12e9-48ab-b20a-6a490cc09a7e.png',\n",
       "   './dataset/con_custom_dataset_2000/UiUUhL0PMjWVA6W2dKte1DCE6wG2.png',\n",
       "   './dataset/con_custom_dataset_2000/c473fe68-8364-4c63-b045-77961e5829ca.png',\n",
       "   './dataset/con_custom_dataset_2000/70c586ec-7551-4c5b-b388-4a0a0381ab6d.png',\n",
       "   './dataset/con_custom_dataset_2000/DGWrVMD5yZc5jcjMzblC4kaBLmK2.png',\n",
       "   './dataset/con_custom_dataset_2000/yUN7VBVk2wP9yT2vpgzHyVUZi5q1.png',\n",
       "   './dataset/con_custom_dataset_2000/58923.png',\n",
       "   './dataset/con_custom_dataset_2000/69422.png',\n",
       "   './dataset/con_custom_dataset_2000/DGWrVMD5yZc5jcjMzblC4kaBLmK2.png',\n",
       "   './dataset/con_custom_dataset_2000/3oM1GutSzARkQnaiMdIUMOSczz42.png',\n",
       "   './dataset/con_custom_dataset_2000/218199.png',\n",
       "   './dataset/con_custom_dataset_2000/AaTqzQjwIYaQW0MHufWVP5GWQ4I3.png',\n",
       "   './dataset/con_custom_dataset_2000/asYD2xAnKuTdSZPIYo242wrgKVD3.png',\n",
       "   './dataset/con_custom_dataset_2000/3231319b-975e-4f4a-867c-b8024487f900.png',\n",
       "   './dataset/con_custom_dataset_2000/549e6a10-8e48-4020-98af-ab706838d5cc.png',\n",
       "   './dataset/con_custom_dataset_2000/6879d838-a440-458d-a3aa-7d88ea22662f.png',\n",
       "   './dataset/con_custom_dataset_2000/8714bdc9-6e11-4fd8-a6eb-7b68a5d532eb.png',\n",
       "   './dataset/con_custom_dataset_2000/f1b027c2-0b10-4ad1-acde-e2b85de36783.png',\n",
       "   './dataset/con_custom_dataset_2000/tmguPZG0j4X5PktnGJyOYxVGtqW2.png',\n",
       "   './dataset/con_custom_dataset_2000/svTIg0ZpdObLgdUfB3x7aehwRHj2.png',\n",
       "   './dataset/con_custom_dataset_2000/Hb9DrqUzdCfKOQWYs4T85y3S3Rl1.png',\n",
       "   './dataset/con_custom_dataset_2000/qZIdh9mBr0MSVKd4TuYHazCdVm22.png',\n",
       "   './dataset/con_custom_dataset_2000/615742a3-7e64-41fc-b3a7-c0d56a3fd826.png',\n",
       "   './dataset/con_custom_dataset_2000/169983.png',\n",
       "   './dataset/con_custom_dataset_2000/vSVws79jhxXr1iQrtbvhchHaHCE3.png',\n",
       "   './dataset/con_custom_dataset_2000/7ffa8e04-db9d-4eb8-9164-fa2542b7306f.png',\n",
       "   './dataset/con_custom_dataset_2000/2825b77e-7169-41a1-8570-498579487e72.png',\n",
       "   './dataset/con_custom_dataset_2000/HYGtUoMDukOlfkkQ7rgRPhuKorA3.png',\n",
       "   './dataset/con_custom_dataset_2000/3933ed20-16d9-47b0-aaa2-9c96bde0a36c.png',\n",
       "   './dataset/con_custom_dataset_2000/03cfc75c-88a0-4ca9-8ca4-4aa61e2dec37.png',\n",
       "   './dataset/con_custom_dataset_2000/8b05b6c4-1067-4640-852a-344b2e9fd07f.png',\n",
       "   './dataset/con_custom_dataset_2000/60oNWRr2WRghY5hOnlBUBAjMgjH3.png',\n",
       "   './dataset/con_custom_dataset_2000/ZmJz4NgHHRZAwzUAVvkXBOmRSTA3.png',\n",
       "   './dataset/con_custom_dataset_2000/bfbe1669-de3f-4c7e-a9e7-3600f46fd541.png',\n",
       "   './dataset/con_custom_dataset_2000/ZpsUydPUXygszeJSVtTFjbsqoNQ2.png',\n",
       "   './dataset/con_custom_dataset_2000/ETcnGsA5gNUC1t3cXJY6KXLvF7W2.png',\n",
       "   './dataset/con_custom_dataset_2000/HSgMHc61GdN0PC5BSzR6X96yzZw2.png',\n",
       "   './dataset/con_custom_dataset_2000/fhyliV6PW1aFvwfKLmquREKjECT2.png',\n",
       "   './dataset/con_custom_dataset_2000/9e5e6520-3831-4fcf-8476-04d54fc7919d.png',\n",
       "   './dataset/con_custom_dataset_2000/8ae2ee6c-68e1-4af2-bce9-99f9ed298be0.png',\n",
       "   './dataset/con_custom_dataset_2000/e8759970-c5b4-4d2a-a71c-d08ee83f482a.png',\n",
       "   './dataset/con_custom_dataset_2000/1CtdDsZvTshuIGrVGvF9pilcHP13.png',\n",
       "   './dataset/con_custom_dataset_2000/43fa3e44-64c7-4273-aab5-17c71b3ea17d.png',\n",
       "   './dataset/con_custom_dataset_2000/0a6ddce4-896c-42be-b2dd-c70d315f9fd5.png',\n",
       "   './dataset/con_custom_dataset_2000/197454.png',\n",
       "   './dataset/con_custom_dataset_2000/414e1f1f-e957-4ddc-90fa-709b6e08eeeb.png',\n",
       "   './dataset/con_custom_dataset_2000/2SLFvRD3jTUJc8iOMnN2XHG3uXv1.png',\n",
       "   './dataset/con_custom_dataset_2000/KySjVqQmk0evZBDzxtR59YHuV222.png',\n",
       "   './dataset/con_custom_dataset_2000/52a62280-0f92-4009-9f55-28e9ca95fb15.png',\n",
       "   './dataset/con_custom_dataset_2000/7d607d04-df23-46a1-b6ce-d6915728d827.png',\n",
       "   './dataset/con_custom_dataset_2000/7e0e4997-fe78-4b1c-a9f6-3b76d4499a85.png',\n",
       "   './dataset/con_custom_dataset_2000/6143ff46-84f9-44e4-a865-40861d6630a4.png',\n",
       "   './dataset/con_custom_dataset_2000/JXP97RVyVfVXVqOPULghR8pY3q32.png',\n",
       "   './dataset/con_custom_dataset_2000/5117f87f-8b9b-4458-b888-cc822c9bcbd5.png',\n",
       "   './dataset/con_custom_dataset_2000/UKeaEFOLZbT7lMl0qZr3uGPO4wK2.png',\n",
       "   './dataset/con_custom_dataset_2000/CUCqq4q5SQa3fDkpraekej7fNza2.png',\n",
       "   './dataset/con_custom_dataset_2000/54918.png',\n",
       "   './dataset/con_custom_dataset_2000/88df2ab1-8056-48de-a7a8-f2649d9cab4a.png',\n",
       "   './dataset/con_custom_dataset_2000/d35826b0-9281-4943-9530-8afc0ef3d55b.png',\n",
       "   './dataset/con_custom_dataset_2000/fja76ZsTgfPWoDCUcwnRLI5XrLZ2.png',\n",
       "   './dataset/con_custom_dataset_2000/166324.png',\n",
       "   './dataset/con_custom_dataset_2000/LYJToDRYDZfpjBuNC6YkUcphr0q1.png',\n",
       "   './dataset/con_custom_dataset_2000/034832ff-2598-40ac-acb0-a892812cec1b.png',\n",
       "   './dataset/con_custom_dataset_2000/bfce3ec1-33a0-43c5-a31f-669d21295bde.png',\n",
       "   './dataset/con_custom_dataset_2000/nDTky90V1seGFJaYNa0m4Io1eYQ2.png',\n",
       "   './dataset/con_custom_dataset_2000/175cc136-e2c1-4881-a65f-6f05bd54dfa0.png',\n",
       "   './dataset/con_custom_dataset_2000/0zexHIcM7tQDdnFiEj2Eb0v3g212.png',\n",
       "   './dataset/con_custom_dataset_2000/QlMu7Fl8iIgOZM3QHEOzOJY6npH3.png',\n",
       "   './dataset/con_custom_dataset_2000/KoVhPh3wszMRh4pyxUzNhhSwxyX2.png',\n",
       "   './dataset/con_custom_dataset_2000/34497.png',\n",
       "   './dataset/con_custom_dataset_2000/c9205630-a386-4d38-afbe-850844ab8b6b.png',\n",
       "   './dataset/con_custom_dataset_2000/xb5Zffvkf5MqrUPju4A98njfRMy1.png',\n",
       "   './dataset/con_custom_dataset_2000/g1nDdvDWgDhgbVDyfl6NyFIfPAp2.png',\n",
       "   './dataset/con_custom_dataset_2000/Axei3vO2YcQM56PrwqmMF40A6aG3.png',\n",
       "   './dataset/con_custom_dataset_2000/6f8008dd-395a-4710-8a28-e249b97806a6.png',\n",
       "   './dataset/con_custom_dataset_2000/tZ4S3CC8pvNc72VYadUYndOUlCE3.png',\n",
       "   './dataset/con_custom_dataset_2000/709c56c1-e6ee-4fda-9e9f-1baf9ebbe5fc.png',\n",
       "   './dataset/con_custom_dataset_2000/f000e379-a09c-42ac-8824-5bf5a7c7a7ed.png',\n",
       "   './dataset/con_custom_dataset_2000/av4p9I9aBGfNYwrwkh4jEiEk1lE2.png',\n",
       "   './dataset/con_custom_dataset_2000/6dc19d7f-8934-41ec-86e4-b7f3ffb13bef.png',\n",
       "   './dataset/con_custom_dataset_2000/c5901b26-cf9f-4235-be9b-8b900cc77a8b.png',\n",
       "   './dataset/con_custom_dataset_2000/9Wkd6QJdpBNEosMpzYhFwZjBJX92.png',\n",
       "   './dataset/con_custom_dataset_2000/ae5dcf74-bf11-47a3-b0d6-c668a0794d8a.png',\n",
       "   './dataset/con_custom_dataset_2000/33uBb3ZF1NekffyAZpRdmyP0KHH2.png',\n",
       "   './dataset/con_custom_dataset_2000/142605.png',\n",
       "   './dataset/con_custom_dataset_2000/kCKhyeak3fP2IsFcRgP3AOPBDvz2.png',\n",
       "   './dataset/con_custom_dataset_2000/9z2XQAVyIkb0saZVigWBr3MsDcr1.png',\n",
       "   './dataset/con_custom_dataset_2000/6fqe8i160qM5rtC4uHrlu3MZXe32.png',\n",
       "   './dataset/con_custom_dataset_2000/7973.png',\n",
       "   './dataset/con_custom_dataset_2000/c21a7d53-261d-4553-a02f-b8a1197f575e.png',\n",
       "   './dataset/con_custom_dataset_2000/ByeE6FPls3S20RP7vxsLDkmqpA32.png',\n",
       "   './dataset/con_custom_dataset_2000/Hl3DXvP5aMhh2JhHFE0K2ofITyl2.png',\n",
       "   './dataset/con_custom_dataset_2000/ede282c6-9511-4d0d-af8f-abd4755b73c4.png',\n",
       "   './dataset/con_custom_dataset_2000/XUsJp0qysAPtu3vBI0UCiHRJhZ22.png',\n",
       "   './dataset/con_custom_dataset_2000/3ebf0dec-26d1-4c21-95e6-b8aa7d0bc77a.png',\n",
       "   './dataset/con_custom_dataset_2000/vEuocXKs0mhMOO3e5l5ZWImJG6O2.png',\n",
       "   './dataset/con_custom_dataset_2000/VtRlegQfrDTPW4WxmoW3iJPzedQ2.png',\n",
       "   './dataset/con_custom_dataset_2000/68ecd2e5-81d2-4fef-84e3-0aa844381724.png',\n",
       "   './dataset/con_custom_dataset_2000/b1ad5a83-af17-4874-be8d-6cb7eb502688.png',\n",
       "   './dataset/con_custom_dataset_2000/91d9c321-7371-4a0c-af3d-398542cb9c4c.png',\n",
       "   './dataset/con_custom_dataset_2000/65c9a70c-232d-41b1-a2a7-279d65d3971d.png',\n",
       "   './dataset/con_custom_dataset_2000/cpkq5jRCUDOvtB7vROcz6LuOAzr2.png',\n",
       "   './dataset/con_custom_dataset_2000/mX9OLV39QwhCicc7VLqQyniNdU63.png',\n",
       "   './dataset/con_custom_dataset_2000/AAFe8wVTf8Op4UTlq1QJmCyBdK33.png',\n",
       "   './dataset/con_custom_dataset_2000/3cd85fba-3410-4c56-81ba-ef1be7617582.png',\n",
       "   './dataset/con_custom_dataset_2000/f551d6e4-4d4f-4f6e-b79f-536d901410ca.png',\n",
       "   './dataset/con_custom_dataset_2000/wcKHRzi3zFZi7KNZqDcQD2wXkUm1.png',\n",
       "   './dataset/con_custom_dataset_2000/6cde55dd-7a87-4856-8c22-31bc71a46786.png',\n",
       "   './dataset/con_custom_dataset_2000/hP0R5MMdSNThSMZ7TNLjU7sxyws1.png',\n",
       "   './dataset/con_custom_dataset_2000/Hl3DXvP5aMhh2JhHFE0K2ofITyl2.png',\n",
       "   './dataset/con_custom_dataset_2000/c162b7b8-d2f8-48f4-90a0-cee0ac77bd21.png',\n",
       "   './dataset/con_custom_dataset_2000/132383.png',\n",
       "   './dataset/con_custom_dataset_2000/b062afcd-e4ee-4d70-9206-7614bfe7c840.png',\n",
       "   './dataset/con_custom_dataset_2000/aB7zSIAFW7bCmQC7IBUWFjNncTF3.png',\n",
       "   './dataset/con_custom_dataset_2000/4ee908c8-442f-43e5-b095-6dffacfd58ef.png',\n",
       "   './dataset/con_custom_dataset_2000/46d8c156-9f6b-45bf-b2af-ea8ecb192f88.png',\n",
       "   './dataset/con_custom_dataset_2000/39b2e68a-446f-4d6e-a34a-2bf8c97f54c1.png',\n",
       "   './dataset/con_custom_dataset_2000/22762f96-089a-4c16-8f2d-0b72d150e373.png',\n",
       "   './dataset/con_custom_dataset_2000/4eb12e1e-4124-44dc-b7e1-85a3cecd511a.png',\n",
       "   './dataset/con_custom_dataset_2000/nK2YpVS3PYX059aMmDbfR6UtBA03.png',\n",
       "   './dataset/con_custom_dataset_2000/X7NBHQKdeDODKCzXwbmKdIbjIRG2.png',\n",
       "   './dataset/con_custom_dataset_2000/i0reS77d27TfHnKANrEGHVZXkLw2.png',\n",
       "   './dataset/con_custom_dataset_2000/1a324acb-12f7-4eef-8e8c-0c71a47280e2.png',\n",
       "   './dataset/con_custom_dataset_2000/14bqYTAafsSLdCtHZVw1gavRhpd2.png',\n",
       "   './dataset/con_custom_dataset_2000/cd9de27d-87fa-43e6-a452-8cdaba3eae4c.png',\n",
       "   './dataset/con_custom_dataset_2000/00dddacc-3781-4e32-9a5c-6227c57d544c.png',\n",
       "   './dataset/con_custom_dataset_2000/30d627b0-b135-4a66-af5f-2d68246a29d9.png',\n",
       "   './dataset/con_custom_dataset_2000/pGxub66GjDdAaJDd95hGHo3BcnJ3.png',\n",
       "   './dataset/con_custom_dataset_2000/0d97c05d-9e40-420e-b3f0-946bf778e326.png',\n",
       "   './dataset/con_custom_dataset_2000/Xn3y4lqypTNVBsB1yYYkDDypizk2.png',\n",
       "   './dataset/con_custom_dataset_2000/243450.png',\n",
       "   './dataset/con_custom_dataset_2000/78651.png',\n",
       "   './dataset/con_custom_dataset_2000/VGh9wqs8iDXHhUdrA12VtBhN1lJ3.png',\n",
       "   './dataset/con_custom_dataset_2000/NakKwA95snbM0W6Lk1nV0ptOmOA2.png',\n",
       "   './dataset/con_custom_dataset_2000/evcMtXUBFWS6bXPYqv7BXVfqFIc2.png',\n",
       "   './dataset/con_custom_dataset_2000/c243e9d3-1c6b-46d6-bce2-7ba3837fa9e0.png',\n",
       "   './dataset/con_custom_dataset_2000/1e402aa8-7991-41f8-9841-f7358a594624.png',\n",
       "   './dataset/con_custom_dataset_2000/d2a28882-42f1-4531-9b50-d0eff5aeb201.png',\n",
       "   './dataset/con_custom_dataset_2000/yUN7VBVk2wP9yT2vpgzHyVUZi5q1.png',\n",
       "   './dataset/con_custom_dataset_2000/LC266EVhXoa7KP4o3naQ6oZczml1.png',\n",
       "   './dataset/con_custom_dataset_2000/9d04bde5-6cb2-48b5-916e-1eefd16a7fc4.png',\n",
       "   './dataset/con_custom_dataset_2000/212302c0-c540-412d-bf9e-0ca73d740e8d.png',\n",
       "   './dataset/con_custom_dataset_2000/72aa6390-7d0d-4295-85f6-d35f28ba1a2e.png',\n",
       "   './dataset/con_custom_dataset_2000/oA6gLaXH6KeSjWF46cAtISLp79z1.png',\n",
       "   './dataset/con_custom_dataset_2000/7c96b372-ec2f-4179-9aad-80acf01e8dde.png',\n",
       "   './dataset/con_custom_dataset_2000/43298143-1004-44ef-889f-10ba9dc9d51f.png',\n",
       "   './dataset/con_custom_dataset_2000/vgaIxe6N8uQfcnstW4gWet53Amt2.png',\n",
       "   './dataset/con_custom_dataset_2000/b1c1f0c2-0d76-4964-9a3a-273c39a52ae6.png',\n",
       "   './dataset/con_custom_dataset_2000/gXKyKSft8sWALKf93iCMzoiYitW2.png',\n",
       "   './dataset/con_custom_dataset_2000/ef5a116f-fc01-43c4-901b-53accf660c8a.png',\n",
       "   './dataset/con_custom_dataset_2000/ImU3ZpdqkRPNAy6Ol61zoGuq8sj1.png',\n",
       "   './dataset/con_custom_dataset_2000/0zAgZhOXaGhmL1SnhkzJOIoowKg2.png',\n",
       "   './dataset/con_custom_dataset_2000/DpU572tPYaXZXMglBud6sRIaq8y2.png',\n",
       "   './dataset/con_custom_dataset_2000/108767.png',\n",
       "   './dataset/con_custom_dataset_2000/e1d69182-99f9-46d2-b799-6c488abca55b.png',\n",
       "   './dataset/con_custom_dataset_2000/34882cc1-0e82-42cd-8e16-ccc9ebe64210.png',\n",
       "   './dataset/con_custom_dataset_2000/c4bb2745-d354-46ec-983d-a14a4ff3bd86.png',\n",
       "   './dataset/con_custom_dataset_2000/156581.png',\n",
       "   './dataset/con_custom_dataset_2000/e007e1ce-15cb-4824-8dc3-16fa105e32a3.png',\n",
       "   './dataset/con_custom_dataset_2000/76ec0dc8-4cfb-457c-abad-3363bebf0fc2.png',\n",
       "   './dataset/con_custom_dataset_2000/f3d50342-5592-4c58-8856-bc951d23c36b.png',\n",
       "   './dataset/con_custom_dataset_2000/543328c9-106f-4096-b950-ae49310c21aa.png',\n",
       "   './dataset/con_custom_dataset_2000/ZuysSjckdLWhDEc9mARQwWpXfIj2.png',\n",
       "   './dataset/con_custom_dataset_2000/866d31d4-5ad7-48de-9f53-bf6823508fcf.png',\n",
       "   './dataset/con_custom_dataset_2000/AQTaxycYpIWSoPUFSEUiFlqgenu2.png',\n",
       "   './dataset/con_custom_dataset_2000/7c55a94b-3cd7-4163-9309-cab22ef151ce.png',\n",
       "   './dataset/con_custom_dataset_2000/159609.png',\n",
       "   './dataset/con_custom_dataset_2000/d5072595-400f-4fae-b9bf-dcab9d95565e.png',\n",
       "   './dataset/con_custom_dataset_2000/jEkD1ffbScZx6wVALbrAhPz3w1S2.png',\n",
       "   './dataset/con_custom_dataset_2000/198841.png',\n",
       "   './dataset/con_custom_dataset_2000/251426.png',\n",
       "   './dataset/con_custom_dataset_2000/83db8a5d-1b49-4ac3-9ff2-72428fcf1ee8.png',\n",
       "   './dataset/con_custom_dataset_2000/FNYflY4qOecrSQOzynZ1WDQZfCJ3.png',\n",
       "   './dataset/con_custom_dataset_2000/c3c69ce2-8617-4329-8f39-7f7b16daafed.png',\n",
       "   './dataset/con_custom_dataset_2000/G8f3XmmcaXb2ZZ2ov4Z5r2vOLaK2.png',\n",
       "   './dataset/con_custom_dataset_2000/cedacde3-26fa-4cab-b35b-d677cee317ee.png',\n",
       "   './dataset/con_custom_dataset_2000/8nVQh7sxmWTMdHOSFZRgCSbwFCl2.png',\n",
       "   './dataset/con_custom_dataset_2000/AwzhLro3l6Wa5kPJyzyB6BNgVqN2.png',\n",
       "   './dataset/con_custom_dataset_2000/0ce2c5e0-cbe8-4940-ba84-32b49f9831ac.png',\n",
       "   './dataset/con_custom_dataset_2000/h0XfL2JtCLb7hgupJ7lLQJ0fzgF2.png',\n",
       "   './dataset/con_custom_dataset_2000/oeUYi9pKtHWMWaOPoKCjBjfOSHJ3.png',\n",
       "   './dataset/con_custom_dataset_2000/332ab58f-9728-4cea-9960-c49151120510.png',\n",
       "   './dataset/con_custom_dataset_2000/9NFXTnUOA3h1BZqRfhnAJGlYfKy1.png',\n",
       "   './dataset/con_custom_dataset_2000/0mkAUAbpROMIFjKpdFxlUnYTV262.png',\n",
       "   './dataset/con_custom_dataset_2000/cmb5xzMisFOW3SKYjF7C8mgLfD83.png',\n",
       "   './dataset/con_custom_dataset_2000/8FnL5QpBazelNsGBTVkBuTSpMEt1.png',\n",
       "   './dataset/con_custom_dataset_2000/099e74f0-c97a-44d4-84e7-95619da0afb0.png',\n",
       "   './dataset/con_custom_dataset_2000/662f7acd-9eeb-4d84-bf5a-887e69cde588.png',\n",
       "   './dataset/con_custom_dataset_2000/de9275e0-1718-4e0a-9438-932f787b2d71.png',\n",
       "   './dataset/con_custom_dataset_2000/pW9mCAeWYiMoM7wW7riLvNRbYDO2.png',\n",
       "   './dataset/con_custom_dataset_2000/8c1ba49d-efb8-4f0f-8a75-e22807752818.png',\n",
       "   './dataset/con_custom_dataset_2000/chMsCb2SqaYxVB1lc93vPGPa5ho1.png',\n",
       "   './dataset/con_custom_dataset_2000/1a5c828e-1780-48a5-9099-60a06331a487.png',\n",
       "   './dataset/con_custom_dataset_2000/128659.png',\n",
       "   './dataset/con_custom_dataset_2000/f2111f11-096e-4546-aa02-a3af418e7d27.png',\n",
       "   './dataset/con_custom_dataset_2000/ZHsY7y4Y8JOoafrQpOKJEr6gORq2.png',\n",
       "   './dataset/con_custom_dataset_2000/0e738d03-22ce-41cf-bb4e-39a8a88ce9e6.png',\n",
       "   './dataset/con_custom_dataset_2000/MbCfQyWYGIeZ5m0BCTeiM1oi7282.png',\n",
       "   './dataset/con_custom_dataset_2000/owp10hao8XZzW0ooJYkACRmuGDu1.png',\n",
       "   './dataset/con_custom_dataset_2000/xuXF9GD5zhWX6SqjzWsrUWvevhh2.png',\n",
       "   './dataset/con_custom_dataset_2000/4cb0f4ee-24af-47dd-8e5c-8e4def8cc1e2.png',\n",
       "   './dataset/con_custom_dataset_2000/yL9QW3T2VueXfL3yvsmXsM2hL4v1.png',\n",
       "   './dataset/con_custom_dataset_2000/1357788c-fd94-45ff-b31d-da0cda859731.png',\n",
       "   './dataset/con_custom_dataset_2000/119720.png',\n",
       "   './dataset/con_custom_dataset_2000/Ed1ZsgwOyYcEnpPXOXKPQd1QaS62.png',\n",
       "   './dataset/con_custom_dataset_2000/97f284b3-45c9-4262-9d4f-adafe31d6b71.png',\n",
       "   './dataset/con_custom_dataset_2000/9cc541c4-c5b0-473d-9a6e-9fc1a07a0ed9.png',\n",
       "   './dataset/con_custom_dataset_2000/a9e385fa-5b07-4ce7-a894-0c0522b57bc0.png',\n",
       "   './dataset/con_custom_dataset_2000/8a752601-9667-423c-b9e6-a8880a49bc7e.png',\n",
       "   './dataset/con_custom_dataset_2000/T02pBwp6UGagCMICnB4oiElAWUP2.png',\n",
       "   './dataset/con_custom_dataset_2000/1kj3twlB9PcVyePxzqNGwnkYZZx2.png',\n",
       "   './dataset/con_custom_dataset_2000/60f18932-cf35-4129-b9cb-33f363d13b84.png',\n",
       "   './dataset/con_custom_dataset_2000/005bca13-18d1-4514-a086-cc8c3fafeeb2.png',\n",
       "   './dataset/con_custom_dataset_2000/8dd5e6c1-7c6e-4648-9be1-e96265036094.png',\n",
       "   './dataset/con_custom_dataset_2000/720409ca-6b1e-4237-9fb8-14e8ddfdcb37.png',\n",
       "   './dataset/con_custom_dataset_2000/dd363c25-b708-43ff-a756-652cd8f29766.png',\n",
       "   './dataset/con_custom_dataset_2000/30709.png',\n",
       "   './dataset/con_custom_dataset_2000/uJEVN893b2Pntd1Ck3cdY7RZZRo1.png',\n",
       "   './dataset/con_custom_dataset_2000/dcfa30a9-01ec-41b5-8de3-aa9bbcdc3011.png',\n",
       "   './dataset/con_custom_dataset_2000/e5765d31-7b1f-4f7f-9df4-946cb4ab72bc.png',\n",
       "   './dataset/con_custom_dataset_2000/foENi3P7alPC0yTEcDMIJEPFm4E2.png',\n",
       "   './dataset/con_custom_dataset_2000/abpYyjmAQAMGlnyqXPGIL9lbnQo2.png',\n",
       "   './dataset/con_custom_dataset_2000/05e30a14-5dee-4e61-b248-f49b1b4ad4dd.png',\n",
       "   './dataset/con_custom_dataset_2000/e6fe47a4-8a53-4ece-96ee-d0a50f8a8a22.png',\n",
       "   './dataset/con_custom_dataset_2000/2owO9U3KZ8TqQDrOx6UhOiA2OW43.png',\n",
       "   './dataset/con_custom_dataset_2000/c0760318-f0a6-47bf-ad09-d426aeb7b70b.png',\n",
       "   './dataset/con_custom_dataset_2000/sSJoDuR1etTsr85E8wRfxIvfiCf1.png',\n",
       "   './dataset/con_custom_dataset_2000/KoN8x5OLC9fxkriFn7LVIONyMdy2.png',\n",
       "   './dataset/con_custom_dataset_2000/EBJVTXGpKucYUqz7evI887oS1162.png',\n",
       "   './dataset/con_custom_dataset_2000/29d0983b-909e-49d2-b89e-d0bed36c5beb.png',\n",
       "   './dataset/con_custom_dataset_2000/aGOvk4ji0cVqIzCs1jHnzlw2UEy2.png',\n",
       "   './dataset/con_custom_dataset_2000/38abed5b-c8db-425c-853d-ad92e34f7207.png',\n",
       "   './dataset/con_custom_dataset_2000/f0ad69f4-eb20-4b94-b264-36db1fbf552b.png',\n",
       "   './dataset/con_custom_dataset_2000/9d5c384e-c124-4525-8ab8-3d630e86041c.png',\n",
       "   './dataset/con_custom_dataset_2000/zxRJaPEBRGX8uH4egnctWAuIuy32.png',\n",
       "   './dataset/con_custom_dataset_2000/C4Ide6Om9iaGO281jPr2JkYtjWi1.png',\n",
       "   './dataset/con_custom_dataset_2000/c9653a4d-32c2-484f-9589-53e2b9a0d04e.png',\n",
       "   './dataset/con_custom_dataset_2000/89fa8687-4e83-4a88-9ec9-c2a0c68bc7ad.png',\n",
       "   './dataset/con_custom_dataset_2000/e2d292b6-44e1-409d-ad04-438d0bc6b685.png',\n",
       "   './dataset/con_custom_dataset_2000/FCo8orfgs5ZKKQV4T436XCoycht2.png',\n",
       "   './dataset/con_custom_dataset_2000/WscnqzOzFwUvHbl7MKfRcioUI9t1.png',\n",
       "   './dataset/con_custom_dataset_2000/DeMaRSg6lVO7oA6v9HK3mbWjr3r2.png',\n",
       "   './dataset/con_custom_dataset_2000/XlPcBLOUHdNZwOeNJvVy1KfjQDf2.png',\n",
       "   './dataset/con_custom_dataset_2000/YPqxeCMKNuMVhEg9xQPA4hD8dQC2.png',\n",
       "   './dataset/con_custom_dataset_2000/b379a0b3-05c1-492e-9f64-035e4ca852b6.png',\n",
       "   './dataset/con_custom_dataset_2000/9d6c172f-45c1-402b-a271-785d6ba2dcc4.png',\n",
       "   './dataset/con_custom_dataset_2000/5ddd40cf-1b81-47a8-bebd-7fc7cd11a529.png',\n",
       "   './dataset/con_custom_dataset_2000/6ab94bfe-bfbc-45e2-a4e6-f315b33becc1.png',\n",
       "   './dataset/con_custom_dataset_2000/a0b2c39c-8a24-4984-aa0f-009f13a700c5.png',\n",
       "   './dataset/con_custom_dataset_2000/dZ2k6FfuAlQfa5ldpdDqMV6q7FT2.png',\n",
       "   './dataset/con_custom_dataset_2000/AQTaxycYpIWSoPUFSEUiFlqgenu2.png',\n",
       "   './dataset/con_custom_dataset_2000/klvO2ywAeFQCIy8EijybJxHNSE92.png',\n",
       "   './dataset/con_custom_dataset_2000/da1428b5-d5e2-4f78-8371-d7ac4316baea.png',\n",
       "   './dataset/con_custom_dataset_2000/e640876b-429a-41f3-9b86-e51039660c66.png',\n",
       "   './dataset/con_custom_dataset_2000/46e16b34-734f-4618-8523-ce57fc1fd45b.png',\n",
       "   './dataset/con_custom_dataset_2000/0ef3c0bc-56c3-44da-bea0-dc31a158414a.png',\n",
       "   './dataset/con_custom_dataset_2000/91df681d-1553-4300-a4bd-0c2868251192.png',\n",
       "   './dataset/con_custom_dataset_2000/yncydoirUqa12tTAUAceL5zMWaK2.png',\n",
       "   './dataset/con_custom_dataset_2000/EucWZQ2KbbQ74NhWqnrUEuS7pU53.png',\n",
       "   './dataset/con_custom_dataset_2000/bd153ce6-0622-4039-a745-93cd08dab579.png',\n",
       "   './dataset/con_custom_dataset_2000/e16268c9-dc19-43d9-b55b-b01258603ae5.png',\n",
       "   './dataset/con_custom_dataset_2000/NRG2CtRi4KdGF8XvpvD5X0DJo2h1.png',\n",
       "   './dataset/con_custom_dataset_2000/4387de35-7fb2-4c5e-b2e9-2758d24380e3.png',\n",
       "   './dataset/con_custom_dataset_2000/2d6cdbd3-16e1-4fb1-9045-7a2628416420.png',\n",
       "   './dataset/con_custom_dataset_2000/119120.png',\n",
       "   './dataset/con_custom_dataset_2000/d1c3a8a6-742e-4677-aa79-92b9b217be75.png',\n",
       "   './dataset/con_custom_dataset_2000/b5299f32-1d6a-47a7-9671-36dce0bbdbcc.png',\n",
       "   './dataset/con_custom_dataset_2000/L7S8iIPKgiO6QWLC3mGkROCMa0s1.png',\n",
       "   './dataset/con_custom_dataset_2000/mpN8LVqfHAWvNZZrJw5cQ3vOVWg2.png',\n",
       "   './dataset/con_custom_dataset_2000/ZTlauEp4EjMLV0LKWsxXnRopWvC3.png',\n",
       "   './dataset/con_custom_dataset_2000/yT9Pq9LwzFalmb7PBeWKoIoUcng1.png',\n",
       "   './dataset/con_custom_dataset_2000/z7RqPeGUQ4X8rxD6ftMf9i4ZE3w2.png',\n",
       "   './dataset/con_custom_dataset_2000/260b51c1-f044-46fa-ba1a-908d4698675c.png',\n",
       "   './dataset/con_custom_dataset_2000/bac499d2-c3f8-469e-b1d7-d6bb5a95fe79.png',\n",
       "   './dataset/con_custom_dataset_2000/huZjiHT43maN3OQ8DAwgYImatr92.png',\n",
       "   './dataset/con_custom_dataset_2000/qRSYuXkgdobbygXanSccCsfBiSK2.png',\n",
       "   './dataset/con_custom_dataset_2000/df07a903-8de2-453b-83f2-a226442f7e92.png',\n",
       "   './dataset/con_custom_dataset_2000/TfuCgDdguMVRpKIAXs2kINT1Yxx1.png',\n",
       "   './dataset/con_custom_dataset_2000/jfB05ECC2cYU5rhce6NYWrcLfy52.png',\n",
       "   './dataset/con_custom_dataset_2000/uiMtR0VGFIaO3CQ1Tl8znyjlyHF2.png',\n",
       "   './dataset/con_custom_dataset_2000/b90eb776-4583-46f1-8d65-f7b9002478fb.png',\n",
       "   './dataset/con_custom_dataset_2000/ff311253-b981-414b-ab3a-98a5104c6e33.png',\n",
       "   './dataset/con_custom_dataset_2000/07fda61f-b265-4b00-b01b-43e4a8912e06.png',\n",
       "   './dataset/con_custom_dataset_2000/50cc7a81-f59d-4bae-8baa-bbd6314a66f2.png',\n",
       "   './dataset/con_custom_dataset_2000/46bIeJk9J8XrD4ND2IPRMQzjJBt2.png',\n",
       "   './dataset/con_custom_dataset_2000/2b97d39a-cc87-4627-8ba7-dc04f2bd8cd4.png',\n",
       "   './dataset/con_custom_dataset_2000/221528.png',\n",
       "   './dataset/con_custom_dataset_2000/6BGTwwcsLoZpqSMhSzFeT2Z7Pqr2.png',\n",
       "   './dataset/con_custom_dataset_2000/621bff5e-5286-4586-afcb-525620d733b8.png',\n",
       "   './dataset/con_custom_dataset_2000/T02pBwp6UGagCMICnB4oiElAWUP2.png',\n",
       "   './dataset/con_custom_dataset_2000/ARnHOwUIKyfpC9ryG6AqrTcksmq1.png',\n",
       "   './dataset/con_custom_dataset_2000/Fps26Qa60WYbR5pI15KzNKSeLXG2.png',\n",
       "   './dataset/con_custom_dataset_2000/e305f652-b3ba-44c4-a852-c0b26e888693.png',\n",
       "   './dataset/con_custom_dataset_2000/sWcxNpUjPcbEfjNw7RouuKrSMyx2.png',\n",
       "   './dataset/con_custom_dataset_2000/Lz3Pu5AOFbQLTA8cIqRAmjPy8qw1.png',\n",
       "   './dataset/con_custom_dataset_2000/2bb1b207-483f-48cb-9b02-0b5352c2fc37.png',\n",
       "   './dataset/con_custom_dataset_2000/QLfHliTV2YMbuC5y06vcclyWdEF2.png',\n",
       "   './dataset/con_custom_dataset_2000/5q8gLM0yCrgGCT8F9fWlH4ycl1D3.png',\n",
       "   './dataset/con_custom_dataset_2000/blOvr1s2qrWsvkjA3QskHrSK9dp2.png',\n",
       "   './dataset/con_custom_dataset_2000/7c2581e6-af97-4191-819f-fcba0d7c7616.png',\n",
       "   './dataset/con_custom_dataset_2000/41615.png',\n",
       "   './dataset/con_custom_dataset_2000/8e483ad0-de10-4eec-8d5f-50ce528b1854.png',\n",
       "   './dataset/con_custom_dataset_2000/2d79341b-2ce5-4c6b-82d0-599626f629d6.png',\n",
       "   './dataset/con_custom_dataset_2000/05458ac9-b4d3-4558-b6b2-b2bf7036f16c.png',\n",
       "   './dataset/con_custom_dataset_2000/4e9u1T1conYlXIQp89SQRgMPScY2.png',\n",
       "   './dataset/con_custom_dataset_2000/daa38f5c-3867-40f5-8309-90660ee027bd.png',\n",
       "   './dataset/con_custom_dataset_2000/awro2Lz4F9SgVweiUzROf1IE8GK2.png',\n",
       "   './dataset/con_custom_dataset_2000/108160.png',\n",
       "   './dataset/con_custom_dataset_2000/EUjlCZyR0xMbOH31Je8knI3UdKO2.png',\n",
       "   './dataset/con_custom_dataset_2000/WNCUJW2QH9fEcsSUztikS1Zvoyn1.png',\n",
       "   './dataset/con_custom_dataset_2000/oakTHXyve7PxMjMsDDb7VNnM0Ie2.png',\n",
       "   './dataset/con_custom_dataset_2000/StMoprM57wPyrUs5p0s78r1X0Qt1.png',\n",
       "   './dataset/con_custom_dataset_2000/57453816-6585-405f-9514-43510f4219af.png',\n",
       "   './dataset/con_custom_dataset_2000/0xWyChUEHYOWQLxEAL3ln4FDtUL2.png',\n",
       "   './dataset/con_custom_dataset_2000/c17ba342-a118-475b-a345-5e52e00d6606.png',\n",
       "   './dataset/con_custom_dataset_2000/f26355de-5587-4f99-9b2e-df126a6dcaf1.png',\n",
       "   './dataset/con_custom_dataset_2000/3118c94b-3e9d-4eaf-982f-f0f72105be1d.png',\n",
       "   './dataset/con_custom_dataset_2000/UhGuA2vn7sUfKJRENR472IxQaEu2.png',\n",
       "   './dataset/con_custom_dataset_2000/60ec717c-d710-40fe-9b29-419da804d4b9.png',\n",
       "   './dataset/con_custom_dataset_2000/071572b1-e5bb-4fc4-a10d-4e81bb1339f2.png',\n",
       "   './dataset/con_custom_dataset_2000/a1ee538a-ad06-497f-ae0f-138b65f52be6.png',\n",
       "   './dataset/con_custom_dataset_2000/zDGjm6ARbgVsIDCGpaHyHrArImr2.png',\n",
       "   './dataset/con_custom_dataset_2000/e6fd971d-95e1-4c52-a4ef-691a711bbff3.png',\n",
       "   './dataset/con_custom_dataset_2000/d429f299-66dc-4d54-8307-f6fc91305036.png',\n",
       "   './dataset/con_custom_dataset_2000/HHXDoqaHN1QbtSZkgu37f38RGqh1.png',\n",
       "   ...]},\n",
       " 2: {'MEL': ['./dataset/con_custom_dataset_2000/Fh3hBZZRh2UXXicTNGMei8ikbSu2.png',\n",
       "   './dataset/con_custom_dataset_2000/YRiIODBG3RXPbDttwztMhsXg1rv2.png',\n",
       "   './dataset/con_custom_dataset_2000/1a1a6100-8e18-4ef0-8b10-aa04800c84f5.png',\n",
       "   './dataset/con_custom_dataset_2000/a454c7f7-2ab6-4885-ae18-c79bd77f0887.png',\n",
       "   './dataset/con_custom_dataset_2000/xa2v8z3Yzgb9dFrq2gEZz6oS7fh1.png',\n",
       "   './dataset/con_custom_dataset_2000/839ad7ed-cc68-4689-b29e-7c8af17d3067.png',\n",
       "   './dataset/con_custom_dataset_2000/d97730f8-8bde-482a-8e57-a650fa847e02.png',\n",
       "   './dataset/con_custom_dataset_2000/71ebd810-65d4-4ad6-9e1d-2e2e60425406.png',\n",
       "   './dataset/con_custom_dataset_2000/125825.png',\n",
       "   './dataset/con_custom_dataset_2000/c599bb84-751d-4b19-a059-a7ab90e27e6d.png',\n",
       "   './dataset/con_custom_dataset_2000/257858.png',\n",
       "   './dataset/con_custom_dataset_2000/3a558190-6a47-4595-ba09-4c7f228d64f5.png',\n",
       "   './dataset/con_custom_dataset_2000/30940a0e-0eec-405d-95f2-7743035cfcec.png',\n",
       "   './dataset/con_custom_dataset_2000/L6zbMqqGS1et0kjPXmSsLUI3vz22.png',\n",
       "   './dataset/con_custom_dataset_2000/1fMS9159tNOgEbgTXBoUpBXQUIr1.png',\n",
       "   './dataset/con_custom_dataset_2000/4782f32c-c71c-4097-997f-35a0fa8c1719.png',\n",
       "   './dataset/con_custom_dataset_2000/mR2kMg6kMuatgjlTHPPDNmY4YFC3.png',\n",
       "   './dataset/con_custom_dataset_2000/JtJEMsy1XPalUgUWmzkLyq9LWbI2.png',\n",
       "   './dataset/con_custom_dataset_2000/7Xzlu6oIWGc0odCvFMQkr612jVr1.png',\n",
       "   './dataset/con_custom_dataset_2000/ad457d1e-96d0-4c6d-89b0-cb8bc372a16c.png',\n",
       "   './dataset/con_custom_dataset_2000/b3456373-4c8f-4482-aa0a-455fc9e13c52.png',\n",
       "   './dataset/con_custom_dataset_2000/4997535e-f2f0-433b-8e1a-27e00f378a25.png',\n",
       "   './dataset/con_custom_dataset_2000/qtAMbhJqxAaVBZCt7rT5IkUtWGi2.png',\n",
       "   './dataset/con_custom_dataset_2000/5729ad12-0130-4b4f-8865-159fbf93018a.png',\n",
       "   './dataset/con_custom_dataset_2000/0567082b-6e02-4f22-931f-18fc256667ce.png',\n",
       "   './dataset/con_custom_dataset_2000/c17edb71-8c16-4c71-a664-1cd5463c0218.png',\n",
       "   './dataset/con_custom_dataset_2000/UbRWBwc42vQH5WKiUUP89RvPlA92.png',\n",
       "   './dataset/con_custom_dataset_2000/b7575a47-a203-493a-865c-9d7d54af43fe.png',\n",
       "   './dataset/con_custom_dataset_2000/61519aed-2918-4a6b-8b57-7d90f9dc27b6.png',\n",
       "   './dataset/con_custom_dataset_2000/UWYfIxsL1LbICfxxW9dzfYDAgrD2.png',\n",
       "   './dataset/con_custom_dataset_2000/2d404e2c-fc45-41e2-9f09-3e77fd0a44c6.png',\n",
       "   './dataset/con_custom_dataset_2000/ded8f478-50cf-45ec-ac6a-3922fb1ecb1a.png',\n",
       "   './dataset/con_custom_dataset_2000/dxKWK5iTjWdjch9zRGCnc7R0eeq2.png',\n",
       "   './dataset/con_custom_dataset_2000/6179c58c-aa92-468b-98ef-e1b7893be822.png',\n",
       "   './dataset/con_custom_dataset_2000/Eoyf44CUffgVCPPjJJkopEyAO7k2.png',\n",
       "   './dataset/con_custom_dataset_2000/FYqsLjb8gjOLhrB64aWUc53KVVf2.png',\n",
       "   './dataset/con_custom_dataset_2000/58e9caff-7f28-4323-a558-c5c1c55b38d7.png',\n",
       "   './dataset/con_custom_dataset_2000/JNTWsYYQjzMMOsmFMml8OXjHYx92.png',\n",
       "   './dataset/con_custom_dataset_2000/hmLJe6Uy39bPc0Mn0VSF4x3TqWp2.png',\n",
       "   './dataset/con_custom_dataset_2000/81970.png',\n",
       "   './dataset/con_custom_dataset_2000/686a2288-b681-4913-9239-db3cf9f4726e.png',\n",
       "   './dataset/con_custom_dataset_2000/7a71ntGZtkQKltg52eiRPJj4cr33.png',\n",
       "   './dataset/con_custom_dataset_2000/253f8d4b-198a-4058-a695-9f09b4a3efd6.png',\n",
       "   './dataset/con_custom_dataset_2000/6127e7d0-0b48-4700-9b15-961e8ee26e08.png',\n",
       "   './dataset/con_custom_dataset_2000/f5f5b71b-4892-4b9f-9660-54562921acd8.png',\n",
       "   './dataset/con_custom_dataset_2000/cfZUmZvsecYVKw5eSi4qIhfJVpI3.png',\n",
       "   './dataset/con_custom_dataset_2000/1Vm44aluw7PMy2mfETHc3MvwQxx1.png',\n",
       "   './dataset/con_custom_dataset_2000/rb0viHBCj1fiEgWX34QcL3Zv8B02.png',\n",
       "   './dataset/con_custom_dataset_2000/d122a978-582a-4ed9-877a-11e684a9a39a.png',\n",
       "   './dataset/con_custom_dataset_2000/e8326b4c-aa2c-4dc2-956c-9920a4cd12ca.png',\n",
       "   './dataset/con_custom_dataset_2000/24b001fa-6361-4cda-88b0-66e0439a2c44.png',\n",
       "   './dataset/con_custom_dataset_2000/1e35dbaa-d917-4822-96b8-0f0164ca08c8.png',\n",
       "   './dataset/con_custom_dataset_2000/79220.png',\n",
       "   './dataset/con_custom_dataset_2000/5132cf1f-33ea-489a-83c4-9e428f1646a7.png',\n",
       "   './dataset/con_custom_dataset_2000/P1FePApIBQedglthtDiBvs3G84M2.png',\n",
       "   './dataset/con_custom_dataset_2000/37870.png',\n",
       "   './dataset/con_custom_dataset_2000/454bec9d-8652-4ec8-98ca-37dd02653ebc.png',\n",
       "   './dataset/con_custom_dataset_2000/75d7da53-d1fd-437d-b656-9813a2ed7e03.png',\n",
       "   './dataset/con_custom_dataset_2000/2csA9O1LIDQd55vbgSb3Nbva2UE3.png',\n",
       "   './dataset/con_custom_dataset_2000/30bb8a03-4b1a-432c-8dd0-a31d0f34cc96.png',\n",
       "   './dataset/con_custom_dataset_2000/tuu90okKDSaFMknkDxVhtWtRjEl2.png',\n",
       "   './dataset/con_custom_dataset_2000/ee9c7ecd-6296-4b29-bebb-6ac06bb0523b.png',\n",
       "   './dataset/con_custom_dataset_2000/1227b27b-6873-475d-8d44-3b7853245330.png',\n",
       "   './dataset/con_custom_dataset_2000/aadf2347-4b88-4494-911d-13ed52655fd9.png',\n",
       "   './dataset/con_custom_dataset_2000/kOBN8dMQckbYR0PtSZAxOciIcY62.png',\n",
       "   './dataset/con_custom_dataset_2000/e5xiRpxobLe69psjXzZtitwdxpg1.png',\n",
       "   './dataset/con_custom_dataset_2000/ya3VviewxzdRZqbLrEXsIrvilRR2.png',\n",
       "   './dataset/con_custom_dataset_2000/GWjZnz8QWXXGzHLaG0HNHFyeZgS2.png',\n",
       "   './dataset/con_custom_dataset_2000/aLeBZp6qmVVooQsTvP1ptnQk9IS2.png',\n",
       "   './dataset/con_custom_dataset_2000/97Rb1xwK1GTHQL9OqkuoKV18Zug2.png',\n",
       "   './dataset/con_custom_dataset_2000/2suYua5dbdh2cSreNFm8flktMEc2.png',\n",
       "   './dataset/con_custom_dataset_2000/7cd1efb7-e973-492d-8a2c-e00a42ef0d78.png',\n",
       "   './dataset/con_custom_dataset_2000/192f68bf-55b7-4c94-a48c-80507bbfbb99.png',\n",
       "   './dataset/con_custom_dataset_2000/69a5ecee-4637-4262-bcb9-d66ac0afbbc6.png',\n",
       "   './dataset/con_custom_dataset_2000/1056dc9c-b7e6-4e7f-a7b1-71504cff50aa.png',\n",
       "   './dataset/con_custom_dataset_2000/IVUrhfpO08QnE9S8UR1hk4DquTa2.png',\n",
       "   './dataset/con_custom_dataset_2000/8f721c87-1701-4830-aa29-bab1c4003d9c.png',\n",
       "   './dataset/con_custom_dataset_2000/91c59a04-aeda-4233-adce-ac2f3d2212df.png',\n",
       "   './dataset/con_custom_dataset_2000/870ab142-4e98-4a4a-b1ab-198a8366719f.png',\n",
       "   './dataset/con_custom_dataset_2000/hRB1GYdlKAgCnwg4xFzAUE3SiUG2.png',\n",
       "   './dataset/con_custom_dataset_2000/9be1f41d-d493-469e-996d-94ea3a53a43a.png',\n",
       "   './dataset/con_custom_dataset_2000/161099.png',\n",
       "   './dataset/con_custom_dataset_2000/PuTsOaPhDNS0a2gCcPbh4CTQZsI3.png',\n",
       "   './dataset/con_custom_dataset_2000/L4CfZQwjukPm0evQv5dI2JDH4ov1.png',\n",
       "   './dataset/con_custom_dataset_2000/qpCGgfO05mWt67NzsFBKWJ5ZF1U2.png',\n",
       "   './dataset/con_custom_dataset_2000/60226da5-e164-4e0b-95f4-9c28dcc2a941.png',\n",
       "   './dataset/con_custom_dataset_2000/G8f3XmmcaXb2ZZ2ov4Z5r2vOLaK2.png',\n",
       "   './dataset/con_custom_dataset_2000/ea39407f-0079-4feb-9e0c-5d884cc6b9ac.png',\n",
       "   './dataset/con_custom_dataset_2000/K5SeTDLlXVQ0U5sl17KluTKEOKJ3.png',\n",
       "   './dataset/con_custom_dataset_2000/aohEEUYh09Nbb1k0HlGwxPcuD663.png',\n",
       "   './dataset/con_custom_dataset_2000/z3HiQpxpksYG6UTo9umAL7qWB532.png',\n",
       "   './dataset/con_custom_dataset_2000/010a706e-31db-4435-96ff-07dc0c1fc3d1.png',\n",
       "   './dataset/con_custom_dataset_2000/229rWq0xWbfGANPmsv6F39xhjnS2.png',\n",
       "   './dataset/con_custom_dataset_2000/93030.png',\n",
       "   './dataset/con_custom_dataset_2000/CkBv7ZLYRIcugw93mPtPkbWxC412.png',\n",
       "   './dataset/con_custom_dataset_2000/d655ec30-c0cc-4865-96b6-4715a0cc356c.png',\n",
       "   './dataset/con_custom_dataset_2000/Cxk4DW9S6fQhB2mafs7RBT6HCLt1.png',\n",
       "   './dataset/con_custom_dataset_2000/d645498c-c405-4de0-986e-e599f0b1171c.png',\n",
       "   './dataset/con_custom_dataset_2000/bd9f23a8-b175-4bcb-bb3b-3be88aaf2fa3.png',\n",
       "   './dataset/con_custom_dataset_2000/TI4EfxQ4RSMZyRmFlC5aiAqLJL02.png',\n",
       "   './dataset/con_custom_dataset_2000/pOWaDLmSdob8jJcu8rxztAhHRIo2.png',\n",
       "   './dataset/con_custom_dataset_2000/f3771057-f3da-42dc-a9fd-435a0153f6b0.png',\n",
       "   './dataset/con_custom_dataset_2000/463ce01e-aaa6-4a11-b1a2-1055ced0063e.png',\n",
       "   './dataset/con_custom_dataset_2000/c328456d-638e-4a1b-8853-8526e713b1c8.png',\n",
       "   './dataset/con_custom_dataset_2000/xMOI1306iZMtFQ5FCNcYraYUSDA3.png',\n",
       "   './dataset/con_custom_dataset_2000/P8Qw2Prg2BRb7H72PbY3Dftp9Rv2.png',\n",
       "   './dataset/con_custom_dataset_2000/eP8gEM0KcBU6S5JpMdycX74KP3p2.png',\n",
       "   './dataset/con_custom_dataset_2000/V247RjX91RY4fxtgfeWjvBhg89s2.png',\n",
       "   './dataset/con_custom_dataset_2000/275e7122-0c73-4475-b8e2-30cd53e98983.png',\n",
       "   './dataset/con_custom_dataset_2000/bGAOAliULjMQIFSvoMFuNCedl582.png',\n",
       "   './dataset/con_custom_dataset_2000/ecy0t93dh8TS3yPI4YJZDSuDFAi2.png',\n",
       "   './dataset/con_custom_dataset_2000/1d29ed0d-0fae-4656-b886-75aee4a250f8.png',\n",
       "   './dataset/con_custom_dataset_2000/693793c4-6baa-4943-ae88-d8927905adc7.png',\n",
       "   './dataset/con_custom_dataset_2000/yMd8IFHnWWYgs6CNSFypl9QhFGu1.png',\n",
       "   './dataset/con_custom_dataset_2000/EZzVAG1b5ef8VopTkIROvVbYGml1.png',\n",
       "   './dataset/con_custom_dataset_2000/ee33023b-d160-406f-a3a7-beb2f8630843.png',\n",
       "   './dataset/con_custom_dataset_2000/102567.png',\n",
       "   './dataset/con_custom_dataset_2000/DsEh7p2DEgWLuhbSTrqgQnTJJjC2.png',\n",
       "   './dataset/con_custom_dataset_2000/fBhAIfEdrdSjfz2Gk3FCIMjaD7z1.png',\n",
       "   './dataset/con_custom_dataset_2000/fbbcfc0f-786e-4954-9cc1-ccf21f06dac1.png',\n",
       "   './dataset/con_custom_dataset_2000/48204832-f2c5-4d36-b6e6-7c381a9fc931.png',\n",
       "   './dataset/con_custom_dataset_2000/OmMVi6kdnHbu8sKZsh6HsGHm4Cs1.png',\n",
       "   './dataset/con_custom_dataset_2000/jQFi8kfYopW0gwFKCV1UnV2d7Oj1.png',\n",
       "   './dataset/con_custom_dataset_2000/tGWiXqKaZ0VQMD0X00ESt25ZpjN2.png',\n",
       "   './dataset/con_custom_dataset_2000/LwOBSX8F07Z5HgRGLFS3aOQEVKk2.png',\n",
       "   './dataset/con_custom_dataset_2000/31884439-269c-440e-8bf8-a8240bbe8cbe.png',\n",
       "   './dataset/con_custom_dataset_2000/foENi3P7alPC0yTEcDMIJEPFm4E2.png',\n",
       "   './dataset/con_custom_dataset_2000/173865.png',\n",
       "   './dataset/con_custom_dataset_2000/yeo7HwJ5Dcbqc4ozwv6az8iRVTJ3.png',\n",
       "   './dataset/con_custom_dataset_2000/7ae45fd7-a8ff-4260-a135-5c96d8decbd7.png',\n",
       "   './dataset/con_custom_dataset_2000/92c04890-cf04-4042-9d15-798b2152386f.png',\n",
       "   './dataset/con_custom_dataset_2000/BMhTCbqVnHNePVbFulnWNu6ZSUg2.png',\n",
       "   './dataset/con_custom_dataset_2000/269d0ef3-5fe1-454d-91d1-df2adde3eb4c.png',\n",
       "   './dataset/con_custom_dataset_2000/OatFCKWJSXcyyGHHGozArF6mCVU2.png',\n",
       "   './dataset/con_custom_dataset_2000/6f0a2344-8d8b-4db5-b4c3-cf569ca4f7b9.png',\n",
       "   './dataset/con_custom_dataset_2000/c26cb811-1629-492a-9669-127320889bc2.png',\n",
       "   './dataset/con_custom_dataset_2000/eW3UMx8SACOoZft0ZOLZUIVaTFb2.png',\n",
       "   './dataset/con_custom_dataset_2000/iq8oYXczSjPuJoVS7DBpkGNMC2p1.png',\n",
       "   './dataset/con_custom_dataset_2000/b6957f39-3c24-4f48-b3ac-e865eb29c81f.png',\n",
       "   './dataset/con_custom_dataset_2000/9980dc54-17ba-4e81-aba2-cc6ead6b6dd5.png',\n",
       "   './dataset/con_custom_dataset_2000/3fc24090-97ca-42fd-bb8b-8449c6c86213.png',\n",
       "   './dataset/con_custom_dataset_2000/16266621-2e70-4bc9-a5d2-d95e81c7671f.png',\n",
       "   './dataset/con_custom_dataset_2000/b2d806e7-37d8-4e92-8780-c7b8ed7d7b26.png',\n",
       "   './dataset/con_custom_dataset_2000/44d6d275-b422-4338-bda2-2d0cc203f72b.png',\n",
       "   './dataset/con_custom_dataset_2000/kIHldMnyvmXvpLq0LjWr7ecclSj2.png',\n",
       "   './dataset/con_custom_dataset_2000/0ffcbb69-a07a-4f9c-b2d4-1edbbe91f15f.png',\n",
       "   './dataset/con_custom_dataset_2000/kiduiciSl7YBDAK9XuvaRizJUnU2.png',\n",
       "   './dataset/con_custom_dataset_2000/KXQDb2qDnpTQTTqx3JivfvB8zz83.png',\n",
       "   './dataset/con_custom_dataset_2000/owp10hao8XZzW0ooJYkACRmuGDu1.png',\n",
       "   './dataset/con_custom_dataset_2000/c1d86c76-5622-4dbb-9da1-65aebf6a0f0b.png',\n",
       "   './dataset/con_custom_dataset_2000/ed5d00ad-f617-4248-9e08-bafde9512352.png',\n",
       "   './dataset/con_custom_dataset_2000/50aeedeb-a901-4812-a0ec-b4981ceef6ba.png',\n",
       "   './dataset/con_custom_dataset_2000/406b4719-cd3c-4d45-b8bd-df22c27eb9bd.png',\n",
       "   './dataset/con_custom_dataset_2000/900e504a-cd2a-4fae-965e-57701fad9663.png',\n",
       "   './dataset/con_custom_dataset_2000/1woiacXdMmXUQiMWESqr83uk1NV2.png',\n",
       "   './dataset/con_custom_dataset_2000/eqtebymPdFfBCm8B85n5oSR7Gja2.png',\n",
       "   './dataset/con_custom_dataset_2000/eTJRhMtqLcO1Q8rLtaIsALyTOyC3.png',\n",
       "   './dataset/con_custom_dataset_2000/e1ada908-0f7f-47bb-8d6e-9b951f91a744.png',\n",
       "   './dataset/con_custom_dataset_2000/EucWZQ2KbbQ74NhWqnrUEuS7pU53.png',\n",
       "   './dataset/con_custom_dataset_2000/6MOH79fX0ReMHLdJCA5W9ZFBYn42.png',\n",
       "   './dataset/con_custom_dataset_2000/c5890353-46d3-4991-9f2d-91720194b0bc.png',\n",
       "   './dataset/con_custom_dataset_2000/2c3dbc26-ae32-49b2-9192-3e0e3e50b006.png',\n",
       "   './dataset/con_custom_dataset_2000/UlWhFB6lKfNxNLL74wLNe7bjM4H3.png',\n",
       "   './dataset/con_custom_dataset_2000/QQx7MsHhXfPFNPjPAydYMmTWkpo2.png',\n",
       "   './dataset/con_custom_dataset_2000/15dc3555-47e2-42fc-b74a-5ae34bf511ea.png',\n",
       "   './dataset/con_custom_dataset_2000/giXzRAAuoRRAg7xQ9Y56DX0FVDr1.png',\n",
       "   './dataset/con_custom_dataset_2000/a6bf661e-cdf3-4a6f-94f1-3b065a8885e4.png',\n",
       "   './dataset/con_custom_dataset_2000/05e92725-4a2b-4af2-bae3-d6b2e4555170.png',\n",
       "   './dataset/con_custom_dataset_2000/u1G8LRJRwyUWNf8J9McgKGyfQJ33.png',\n",
       "   './dataset/con_custom_dataset_2000/OAtQ58EyToOK0NsnlDdwpFnrwF63.png',\n",
       "   './dataset/con_custom_dataset_2000/1b28b800-9812-4128-809f-688a7ac8657d.png',\n",
       "   './dataset/con_custom_dataset_2000/IkdWn0v3dAU9eWzsf3rY8Dwgf0V2.png',\n",
       "   './dataset/con_custom_dataset_2000/pvX8fr2fMcebtfWq2wXqyIp56PL2.png',\n",
       "   './dataset/con_custom_dataset_2000/dc2d0ff1-8f06-4deb-a95f-bdac66488319.png',\n",
       "   './dataset/con_custom_dataset_2000/cEUtmEr0WzaMyEktYRaqHrryr0s1.png',\n",
       "   './dataset/con_custom_dataset_2000/f3ce50b8-cd65-48d0-8981-5115e7b7c018.png',\n",
       "   './dataset/con_custom_dataset_2000/f06dc4f4-26ec-4743-940c-505fb4dea0cb.png',\n",
       "   './dataset/con_custom_dataset_2000/AxuYWBN0jFVLINCBqIW5aZmGCdu1.png',\n",
       "   './dataset/con_custom_dataset_2000/B4YY3S8iF0husgCd1Y0tKZyMpgD3.png',\n",
       "   './dataset/con_custom_dataset_2000/b60d25f8-f328-489b-a1f4-bb215bffbc61.png',\n",
       "   './dataset/con_custom_dataset_2000/5d90c17a-46d5-4db6-837c-5174433bb3ab.png',\n",
       "   './dataset/con_custom_dataset_2000/b4a91a47-9e23-419a-91f6-59d22cb33cb7.png',\n",
       "   './dataset/con_custom_dataset_2000/Afi7SdxjNOetySybYTZ7RPxwFiW2.png',\n",
       "   './dataset/con_custom_dataset_2000/IVUrhfpO08QnE9S8UR1hk4DquTa2.png',\n",
       "   './dataset/con_custom_dataset_2000/EVWPvD070lhgBsNRXIJ0TsQj3iz2.png',\n",
       "   './dataset/con_custom_dataset_2000/83d4dbc2-6fc6-4644-8c9c-d00f8396bad4.png',\n",
       "   './dataset/con_custom_dataset_2000/00e09814-62e7-4e4f-aa96-d3ccaa292e4b.png',\n",
       "   './dataset/con_custom_dataset_2000/jtTWQOkCx0RG5LBfKnPekeYuhMD2.png',\n",
       "   './dataset/con_custom_dataset_2000/161303.png',\n",
       "   './dataset/con_custom_dataset_2000/fja76ZsTgfPWoDCUcwnRLI5XrLZ2.png',\n",
       "   './dataset/con_custom_dataset_2000/cfcf1166-77f3-40e5-b7f8-5cf237a7df22.png',\n",
       "   './dataset/con_custom_dataset_2000/57163.png',\n",
       "   './dataset/con_custom_dataset_2000/JCDtX8bUuMbQNeh7SkMjavkAgVv2.png',\n",
       "   './dataset/con_custom_dataset_2000/pvLLeiltxePL7csr2rkLJ8fD0gc2.png',\n",
       "   './dataset/con_custom_dataset_2000/B0biFhyqjzNmtEjWHSH9lQYBB2c2.png',\n",
       "   './dataset/con_custom_dataset_2000/3638a588-44ff-4c63-88c3-4ee7d9ccca4a.png',\n",
       "   './dataset/con_custom_dataset_2000/KYFep4QYHeTdetDl8dhMl0je3ux1.png',\n",
       "   './dataset/con_custom_dataset_2000/ImU3ZpdqkRPNAy6Ol61zoGuq8sj1.png',\n",
       "   './dataset/con_custom_dataset_2000/A3uqqSyxT5MpzFwc0dCpiYRV4w53.png',\n",
       "   './dataset/con_custom_dataset_2000/vK2bLRNzllXNeyOMudnNSL5cfpG2.png',\n",
       "   './dataset/con_custom_dataset_2000/29b2a4b6-5fae-4351-afdc-bcb552f7c5c8.png',\n",
       "   './dataset/con_custom_dataset_2000/a30c48ff-c1de-45b5-a286-ca51ae5a3d47.png',\n",
       "   './dataset/con_custom_dataset_2000/7fc532a3-d07e-45e1-81e1-9e352ad951e8.png',\n",
       "   './dataset/con_custom_dataset_2000/NjCErTrUnWZZoKZj7UMHrhb2pkS2.png',\n",
       "   './dataset/con_custom_dataset_2000/545d4612-1f29-422b-beec-5a356e18c6fa.png',\n",
       "   './dataset/con_custom_dataset_2000/17367.png',\n",
       "   './dataset/con_custom_dataset_2000/98df6b19-069d-4a51-9090-bd573392651d.png',\n",
       "   './dataset/con_custom_dataset_2000/b6cab2e1-4f1c-47e7-91e0-97fb9118d890.png',\n",
       "   './dataset/con_custom_dataset_2000/atCT4u8oywSbcTkAdFYwrtiVazh2.png',\n",
       "   './dataset/con_custom_dataset_2000/f947faf0-5dd8-48c8-98ae-79eb74d2c09f.png',\n",
       "   './dataset/con_custom_dataset_2000/3f1ae3a0-d86a-4b9c-9bfb-93fb454e6eb5.png',\n",
       "   './dataset/con_custom_dataset_2000/k3vGUBt8qVOWHcF2xQB5YYIhGEX2.png',\n",
       "   './dataset/con_custom_dataset_2000/c261cdbc-fb1e-4444-8b68-33c920047d8c.png',\n",
       "   './dataset/con_custom_dataset_2000/3c1d89f3-b0c1-42fc-abc0-b29ad6c2a4d2.png',\n",
       "   './dataset/con_custom_dataset_2000/43ff6ef2-d864-4640-a50a-a9293a772cc1.png',\n",
       "   './dataset/con_custom_dataset_2000/92114e58-4cac-483d-94a5-e105751bae39.png',\n",
       "   './dataset/con_custom_dataset_2000/jtlvbJgDl6Sum26M9Tm6uZIXr6u2.png',\n",
       "   './dataset/con_custom_dataset_2000/2owO9U3KZ8TqQDrOx6UhOiA2OW43.png',\n",
       "   './dataset/con_custom_dataset_2000/kOVQkT3hXPSecuCMdUHB35ejBAl2.png',\n",
       "   './dataset/con_custom_dataset_2000/197871.png',\n",
       "   './dataset/con_custom_dataset_2000/7129f483-b2e2-4ea2-94bb-3400472d8319.png',\n",
       "   './dataset/con_custom_dataset_2000/yI90OQafcNSI5Hcgsil9iEifx1R2.png',\n",
       "   './dataset/con_custom_dataset_2000/AwzhLro3l6Wa5kPJyzyB6BNgVqN2.png',\n",
       "   './dataset/con_custom_dataset_2000/b5c05e1a-b2d8-4b9e-8d4b-5de6ac3f1411.png',\n",
       "   './dataset/con_custom_dataset_2000/g9WjuKnjoYZYmLVDY86u4JIwZ333.png',\n",
       "   './dataset/con_custom_dataset_2000/8b531001-ce1f-4bda-824a-96feae72f770.png',\n",
       "   './dataset/con_custom_dataset_2000/h6fnYcaAXxMQWF7H5QbSx4PVajk1.png',\n",
       "   './dataset/con_custom_dataset_2000/e3c10f4c-73c1-4e9e-88c7-5052e418c100.png',\n",
       "   './dataset/con_custom_dataset_2000/gH4tLBmPiFWp96S6j3z0wjKYhab2.png',\n",
       "   './dataset/con_custom_dataset_2000/c3cf6265-0bfd-44af-9d8e-a54892ba2be6.png',\n",
       "   './dataset/con_custom_dataset_2000/25a2b5bd-ed5d-4eab-ae09-ed670060ad9d.png',\n",
       "   './dataset/con_custom_dataset_2000/zvXkuEaPb0OEgG4EHx59NqdmamR2.png',\n",
       "   './dataset/con_custom_dataset_2000/ZfgCPP4WpOP78cBnZ39az9sb0F82.png',\n",
       "   './dataset/con_custom_dataset_2000/d2728113-e256-436c-a7be-b3e846ada715.png',\n",
       "   './dataset/con_custom_dataset_2000/EAj5X2nQbNhAzPOqXj28BgI9Wpp2.png',\n",
       "   './dataset/con_custom_dataset_2000/2TOBsGCz6ZUYjZ1DKt3C0ae2VlZ2.png',\n",
       "   './dataset/con_custom_dataset_2000/qRSYuXkgdobbygXanSccCsfBiSK2.png',\n",
       "   './dataset/con_custom_dataset_2000/1af7b784-13d3-41b4-8f21-89c417b96256.png',\n",
       "   './dataset/con_custom_dataset_2000/69f23eea-a37e-4922-a1bb-e7064aedbaec.png',\n",
       "   './dataset/con_custom_dataset_2000/Hb9DrqUzdCfKOQWYs4T85y3S3Rl1.png',\n",
       "   './dataset/con_custom_dataset_2000/a7f564e5-7263-4a64-aab3-883de82636c9.png',\n",
       "   './dataset/con_custom_dataset_2000/ipBVOuYKjmSBDq7O2y5NOwH1R2I2.png',\n",
       "   './dataset/con_custom_dataset_2000/dd876482-4ba2-4bb3-814f-5445e480e0ba.png',\n",
       "   './dataset/con_custom_dataset_2000/7e4ca934-62a0-4ac5-844e-16d5b8d3ab43.png',\n",
       "   './dataset/con_custom_dataset_2000/KXQDb2qDnpTQTTqx3JivfvB8zz83.png',\n",
       "   './dataset/con_custom_dataset_2000/e439a077-dc92-404f-8ef4-9aff5d5dfcac.png',\n",
       "   './dataset/con_custom_dataset_2000/6igAuPMTp6YCmFo4g6qp9Cj8t1k1.png',\n",
       "   './dataset/con_custom_dataset_2000/naPVzGoHqwfHo3PNVfoNxMpR7qU2.png',\n",
       "   './dataset/con_custom_dataset_2000/DpU572tPYaXZXMglBud6sRIaq8y2.png',\n",
       "   './dataset/con_custom_dataset_2000/5nQ62bLiPbamvooxCdu7eLFCaDm1.png',\n",
       "   './dataset/con_custom_dataset_2000/nXZU2OEKmtPSXhbaHZAKb3snrJt2.png',\n",
       "   './dataset/con_custom_dataset_2000/3dcb6e41-6e84-468c-9fa5-3cb797d69371.png',\n",
       "   './dataset/con_custom_dataset_2000/0ff835d8-d3cb-4fe3-9fe4-6ce031338e11.png',\n",
       "   './dataset/con_custom_dataset_2000/gxy19SDvEBZdJ7ZYr2b5sS2Fxrn2.png',\n",
       "   './dataset/con_custom_dataset_2000/438dde9a-23fb-4b24-993e-04d68f367a7c.png',\n",
       "   './dataset/con_custom_dataset_2000/hqj98iIGSBWhlqFYLFI3p9VIe8d2.png',\n",
       "   './dataset/con_custom_dataset_2000/PXFeh2WexbZ9HXhXg6tToFfY3PM2.png',\n",
       "   './dataset/con_custom_dataset_2000/oNVwfrIb63g5zB4jsaduCjuufPo1.png',\n",
       "   './dataset/con_custom_dataset_2000/F6QzdFvGdwarlCWLBfsrGJ5Vgci1.png',\n",
       "   './dataset/con_custom_dataset_2000/5JO89F9hCpVbVFy7jFqPKtVRyIV2.png',\n",
       "   './dataset/con_custom_dataset_2000/Eoyf44CUffgVCPPjJJkopEyAO7k2.png',\n",
       "   './dataset/con_custom_dataset_2000/kiduiciSl7YBDAK9XuvaRizJUnU2.png',\n",
       "   './dataset/con_custom_dataset_2000/4drDZUlQcteX5StlFT2CXEL0N0L2.png',\n",
       "   './dataset/con_custom_dataset_2000/47f6705f-5669-4d9d-b81f-7a51e5afe1fb.png',\n",
       "   './dataset/con_custom_dataset_2000/19VBCVaFPcWROz6wWui9G9IU9K12.png',\n",
       "   './dataset/con_custom_dataset_2000/6c74e198-c3e9-49bf-b062-b6de947e6451.png',\n",
       "   './dataset/con_custom_dataset_2000/9V5mCzwbSgcrw64VLWR2DZf4bcx1.png',\n",
       "   './dataset/con_custom_dataset_2000/6FftFl1jWlQHb0N37KW4ajs9dqH3.png',\n",
       "   './dataset/con_custom_dataset_2000/Zb2Inq1UVhcMnWA41GpKyRdF4z62.png',\n",
       "   './dataset/con_custom_dataset_2000/f6743aab-7439-4163-a2f6-fa8a9ab12687.png',\n",
       "   './dataset/con_custom_dataset_2000/05e280f3-0fc1-475b-a235-306f6ca0960c.png',\n",
       "   './dataset/con_custom_dataset_2000/Ny6G594aKENcYgURBgYJJa62ziV2.png',\n",
       "   './dataset/con_custom_dataset_2000/166324.png',\n",
       "   './dataset/con_custom_dataset_2000/66283b42-8b07-4cc2-be2e-adfc8a9048a4.png',\n",
       "   './dataset/con_custom_dataset_2000/Zb2Inq1UVhcMnWA41GpKyRdF4z62.png',\n",
       "   './dataset/con_custom_dataset_2000/JecvGmjPyEVl7y6fupTTp6QZvoJ2.png',\n",
       "   './dataset/con_custom_dataset_2000/79b9bc30-deca-4e7d-85af-8d97ec3e04f3.png',\n",
       "   './dataset/con_custom_dataset_2000/hVZQcrz6cfaOMfL3jpRqJBUiumF2.png',\n",
       "   './dataset/con_custom_dataset_2000/ZfZdmrhvFUVDL6jqf0GaWC6rzia2.png',\n",
       "   './dataset/con_custom_dataset_2000/Hl3DXvP5aMhh2JhHFE0K2ofITyl2.png',\n",
       "   './dataset/con_custom_dataset_2000/4865fd7e-4638-4029-8efc-4b71d0f268e6.png',\n",
       "   './dataset/con_custom_dataset_2000/f78ZFmqneaOWttg3xhtcmO4XZOu2.png',\n",
       "   './dataset/con_custom_dataset_2000/uJEVN893b2Pntd1Ck3cdY7RZZRo1.png',\n",
       "   './dataset/con_custom_dataset_2000/b4c628c8-33ca-495b-a614-74ccadc1e8c7.png',\n",
       "   './dataset/con_custom_dataset_2000/386954a1-e543-4f93-bed3-70075ef82f99.png',\n",
       "   './dataset/con_custom_dataset_2000/UnJVcWCaLzSZJS8B0YJmDwF9d143.png',\n",
       "   './dataset/con_custom_dataset_2000/3oM1GutSzARkQnaiMdIUMOSczz42.png',\n",
       "   './dataset/con_custom_dataset_2000/c968c277-2201-4685-8801-1f05da3737b3.png',\n",
       "   './dataset/con_custom_dataset_2000/gjF0L8phdmPxc9az1muox66bQD93.png',\n",
       "   './dataset/con_custom_dataset_2000/32cc6e49-fdad-496d-a8c5-1239fdd31244.png',\n",
       "   './dataset/con_custom_dataset_2000/VRTMrYKsWURrc4AH2nNRiElqTxB3.png',\n",
       "   './dataset/con_custom_dataset_2000/MqI9F85OYqVh99FcQEHSFPPLDka2.png',\n",
       "   './dataset/con_custom_dataset_2000/Mze07Z8CKrheFGZun75Hcgp4TH02.png',\n",
       "   './dataset/con_custom_dataset_2000/180256.png',\n",
       "   './dataset/con_custom_dataset_2000/CrlV0ddIqdbtxNnkIhtPS5dvoX42.png',\n",
       "   './dataset/con_custom_dataset_2000/6WQPyHp9AZThZUTD1Z2rOXv3d5R2.png',\n",
       "   './dataset/con_custom_dataset_2000/7ee0a8f4-f146-4582-86ab-9186cba9294d.png',\n",
       "   './dataset/con_custom_dataset_2000/K0LmigcBKlRdTAlrCyfmBJaQJwk1.png',\n",
       "   './dataset/con_custom_dataset_2000/90ee299f-2d52-4411-b1aa-6ad983336f3c.png',\n",
       "   './dataset/con_custom_dataset_2000/261068.png',\n",
       "   './dataset/con_custom_dataset_2000/424adfda-a71d-4573-9bf2-192c451d8692.png',\n",
       "   './dataset/con_custom_dataset_2000/5b0ec48c-f457-418f-9657-0548c9a93536.png',\n",
       "   './dataset/con_custom_dataset_2000/HNQHvssRu1QD9oJKikpEcT8ENjX2.png',\n",
       "   './dataset/con_custom_dataset_2000/7afc5d21-739e-4ff9-896e-d2270c5afe28.png',\n",
       "   './dataset/con_custom_dataset_2000/aef400f0-6e03-43be-9928-a91660eb3988.png',\n",
       "   './dataset/con_custom_dataset_2000/df5837b0-d4f3-4a72-a507-b039eac7bb27.png',\n",
       "   './dataset/con_custom_dataset_2000/jfB05ECC2cYU5rhce6NYWrcLfy52.png',\n",
       "   './dataset/con_custom_dataset_2000/34FItWuiLofMlaG1BmqHWVgHelh2.png',\n",
       "   './dataset/con_custom_dataset_2000/e235a1e7-46da-4ca0-9379-8d8fb0ad12f8.png',\n",
       "   './dataset/con_custom_dataset_2000/e6788288-778c-46d3-9d83-c4c2eb6f707d.png',\n",
       "   './dataset/con_custom_dataset_2000/TPrDC0bAYpdmhKxfDzCivJnfpKP2.png',\n",
       "   './dataset/con_custom_dataset_2000/e34e8cb1-f615-4542-849a-d6e6f7e7f6e2.png',\n",
       "   './dataset/con_custom_dataset_2000/zLJnwXeJwCZI7uk7aDmLweAZCIl2.png',\n",
       "   './dataset/con_custom_dataset_2000/207836.png',\n",
       "   './dataset/con_custom_dataset_2000/8baea508-46c9-4cc8-964f-3f612af4b35a.png',\n",
       "   './dataset/con_custom_dataset_2000/eX9y5J7LtpfNf6c2cl8yDBRhmXV2.png',\n",
       "   './dataset/con_custom_dataset_2000/6YaTXgSnexec5CPOQg0EboLqnJJ2.png',\n",
       "   './dataset/con_custom_dataset_2000/jsYI5hPpF3XJ6rW8EQjUTCfPNZ62.png',\n",
       "   './dataset/con_custom_dataset_2000/44e1a347-c077-4669-bafa-bb331e2f8dea.png',\n",
       "   './dataset/con_custom_dataset_2000/Cd7fkliPM2ZUM1skytvoU2vD8jK2.png',\n",
       "   './dataset/con_custom_dataset_2000/681276de-cb08-460b-b197-15992af69cf5.png',\n",
       "   './dataset/con_custom_dataset_2000/bc0531cd-f6df-4a7b-8a67-9857ea6882ad.png',\n",
       "   './dataset/con_custom_dataset_2000/af783891-89cd-4636-aba6-d13fc8862e0d.png',\n",
       "   './dataset/con_custom_dataset_2000/157492.png',\n",
       "   './dataset/con_custom_dataset_2000/dc5517a4-9e83-41a2-a6be-358c9577e92d.png',\n",
       "   './dataset/con_custom_dataset_2000/9276ac15-9562-47be-9f2f-40d3d03d7eb1.png',\n",
       "   './dataset/con_custom_dataset_2000/152895.png',\n",
       "   './dataset/con_custom_dataset_2000/ReILZl8aPPQXHUYQzD2AUzuEF2w2.png',\n",
       "   './dataset/con_custom_dataset_2000/87565.png',\n",
       "   './dataset/con_custom_dataset_2000/1c033a61-ff3a-43e3-a288-f5d809816b27.png',\n",
       "   './dataset/con_custom_dataset_2000/UlWhFB6lKfNxNLL74wLNe7bjM4H3.png',\n",
       "   './dataset/con_custom_dataset_2000/jSb7SyucSmTHhzs3qQoBExRMQZ02.png',\n",
       "   './dataset/con_custom_dataset_2000/myAv7VQZySPhI599FSTraHN0vtH3.png',\n",
       "   './dataset/con_custom_dataset_2000/fNZ3MnqiGRQlpOptmB2S09fDdYi1.png',\n",
       "   './dataset/con_custom_dataset_2000/n53G4OdIz7a5kkUyObojHfGBvki2.png',\n",
       "   './dataset/con_custom_dataset_2000/0d1c17c2-c6da-434b-98ec-c22078f5061d.png',\n",
       "   './dataset/con_custom_dataset_2000/a8b75ca3-e846-415b-809b-5a7c2c9024eb.png',\n",
       "   './dataset/con_custom_dataset_2000/Ms3fiiaGeta2PNzjXEE3iMBmh1h1.png',\n",
       "   './dataset/con_custom_dataset_2000/43806.png',\n",
       "   './dataset/con_custom_dataset_2000/6aae23c2-2650-4ec3-b985-38e3cfd43c1b.png',\n",
       "   './dataset/con_custom_dataset_2000/ba1f424d-f94d-41c7-90f5-59f5c6adec53.png',\n",
       "   './dataset/con_custom_dataset_2000/SCsTjixqXmWvyjniXtg7Pv54Amw2.png',\n",
       "   './dataset/con_custom_dataset_2000/Ms3fiiaGeta2PNzjXEE3iMBmh1h1.png',\n",
       "   './dataset/con_custom_dataset_2000/9eb54fcb-581c-4755-9622-c35bad53ebf9.png',\n",
       "   './dataset/con_custom_dataset_2000/4080d43b-ff14-4eaf-87b2-299e9710225b.png',\n",
       "   './dataset/con_custom_dataset_2000/pP9m9dwWhCWPUCWS1cut17IAoxh1.png',\n",
       "   './dataset/con_custom_dataset_2000/97da1c1c-969a-45a0-92e2-b4a1b545cfbe.png',\n",
       "   './dataset/con_custom_dataset_2000/aae89248-2aeb-43fc-800b-d29d8aead672.png',\n",
       "   './dataset/con_custom_dataset_2000/86c3fa35-c4e2-4c95-912a-2cd604a1921a.png',\n",
       "   './dataset/con_custom_dataset_2000/7057a4eb-e94d-4f97-9fdb-4b17d0be558e.png',\n",
       "   './dataset/con_custom_dataset_2000/YRiIODBG3RXPbDttwztMhsXg1rv2.png',\n",
       "   './dataset/con_custom_dataset_2000/TOzLbxmmxIeG129OZKtUv9kGXd42.png',\n",
       "   './dataset/con_custom_dataset_2000/95697.png',\n",
       "   './dataset/con_custom_dataset_2000/843b9f27-0cb3-40b7-9361-670051e61233.png',\n",
       "   './dataset/con_custom_dataset_2000/3VCMGx9M1tTUiEcjERCBG6iC1Ko1.png',\n",
       "   './dataset/con_custom_dataset_2000/welbkeuEJpggaMpfcDyPgP8im703.png',\n",
       "   './dataset/con_custom_dataset_2000/1swHxN9xPFUu90g29z2RMCxG3oJ2.png',\n",
       "   './dataset/con_custom_dataset_2000/Eu11s84cuBTiPXTAtVf9mj3GkqA2.png',\n",
       "   './dataset/con_custom_dataset_2000/137152.png',\n",
       "   './dataset/con_custom_dataset_2000/8XoAGDSPjVWjpjfIDHrIiHd4NEC2.png',\n",
       "   './dataset/con_custom_dataset_2000/119120.png',\n",
       "   './dataset/con_custom_dataset_2000/8100e2b7-11ac-4cea-af3c-fff1fad042f6.png',\n",
       "   './dataset/con_custom_dataset_2000/211527.png',\n",
       "   './dataset/con_custom_dataset_2000/MQSayo88HXcUcse3I8S4Fp3V52C2.png',\n",
       "   './dataset/con_custom_dataset_2000/b5e411c5-8650-4223-9e76-902c360ecd0e.png',\n",
       "   './dataset/con_custom_dataset_2000/7arBtLdzGeW8oCN0DXhI6dqqUdP2.png',\n",
       "   './dataset/con_custom_dataset_2000/89027d5a-6eca-43ee-b7bd-99819efcf11d.png',\n",
       "   './dataset/con_custom_dataset_2000/MEw5YvFJ1GekU8biV6qQMPV2CDo2.png',\n",
       "   './dataset/con_custom_dataset_2000/GrE7GAhI8UUX1BK0QHOBGLvOQJb2.png',\n",
       "   './dataset/con_custom_dataset_2000/215635.png',\n",
       "   './dataset/con_custom_dataset_2000/1fMS9159tNOgEbgTXBoUpBXQUIr1.png',\n",
       "   './dataset/con_custom_dataset_2000/156393.png',\n",
       "   './dataset/con_custom_dataset_2000/FYINlRe3mfOO34R8QcT3skESVRl1.png',\n",
       "   './dataset/con_custom_dataset_2000/5891ad9c-6f93-4a1f-8d78-e259a9409e78.png',\n",
       "   './dataset/con_custom_dataset_2000/6478394b-6c6d-451a-8887-996a8e6d8fb8.png',\n",
       "   './dataset/con_custom_dataset_2000/94c7849b-022d-4bb2-877b-d357b5a3a5d8.png',\n",
       "   './dataset/con_custom_dataset_2000/jaRfWYxsWjV2L833wIIyuivEWFG3.png',\n",
       "   './dataset/con_custom_dataset_2000/LC266EVhXoa7KP4o3naQ6oZczml1.png',\n",
       "   './dataset/con_custom_dataset_2000/a84b395a-aff2-445a-89b5-a2a8511620d4.png',\n",
       "   './dataset/con_custom_dataset_2000/eab2ae4c-0531-4adb-a5d6-4d5059c8082b.png',\n",
       "   './dataset/con_custom_dataset_2000/f1tDfcVYVlOPYBAWP1ZDMdGER4m2.png',\n",
       "   './dataset/con_custom_dataset_2000/34172be9-1c06-4024-9138-7254db22d4c2.png',\n",
       "   './dataset/con_custom_dataset_2000/IbHJbk0Rz4QkL9zRJzb28SEDxJj1.png',\n",
       "   './dataset/con_custom_dataset_2000/b39acf51-0de5-4445-830b-7b46e272e25e.png',\n",
       "   './dataset/con_custom_dataset_2000/30ea354a-bce8-484c-94a6-240e0322cd37.png',\n",
       "   './dataset/con_custom_dataset_2000/8ff8e67d-d443-44d6-ba87-3c0d8bfdfcbd.png',\n",
       "   './dataset/con_custom_dataset_2000/2a617b58-0a0c-438f-890a-bbb72707965c.png',\n",
       "   './dataset/con_custom_dataset_2000/ankVK1DxMvbVFA9PYyKvHk6CQLP2.png',\n",
       "   './dataset/con_custom_dataset_2000/77394411-fcfe-4154-a773-bacc9ef80b95.png',\n",
       "   './dataset/con_custom_dataset_2000/VRTMrYKsWURrc4AH2nNRiElqTxB3.png',\n",
       "   './dataset/con_custom_dataset_2000/66243973-2048-411f-adfe-84ce81598ea7.png',\n",
       "   './dataset/con_custom_dataset_2000/UxRRwXJtdjRZI4pgQcHHURVa33n2.png',\n",
       "   './dataset/con_custom_dataset_2000/iV3Db6t1T8b7c5HQY2TwxIhjbzD3.png',\n",
       "   './dataset/con_custom_dataset_2000/nwXAgQmOEVRx6dZqQzc0GdmNSx22.png',\n",
       "   './dataset/con_custom_dataset_2000/RUZ93kkyD0hJ1v7awXutr6RgF943.png',\n",
       "   './dataset/con_custom_dataset_2000/1912595d-01e9-49e0-9f0e-ed113cd00d96.png',\n",
       "   './dataset/con_custom_dataset_2000/YrJHnx1PgzPLiCgkSLaQqMhyBeA2.png',\n",
       "   './dataset/con_custom_dataset_2000/34FItWuiLofMlaG1BmqHWVgHelh2.png',\n",
       "   './dataset/con_custom_dataset_2000/gjF0L8phdmPxc9az1muox66bQD93.png',\n",
       "   './dataset/con_custom_dataset_2000/1b427191-6752-40b4-a99b-6f55d44f2a91.png',\n",
       "   './dataset/con_custom_dataset_2000/132747.png',\n",
       "   './dataset/con_custom_dataset_2000/cbf1aba5-e767-4f36-a8f2-bc84b847a5b7.png',\n",
       "   './dataset/con_custom_dataset_2000/Hsd2XPLTHxa0q43WgjzaQl22cB42.png',\n",
       "   './dataset/con_custom_dataset_2000/294ffe19-a0a2-42f8-b262-ec1fc621a37c.png',\n",
       "   './dataset/con_custom_dataset_2000/Xq0KTVn9T2TQhl644ZuZHT5ByQy2.png',\n",
       "   './dataset/con_custom_dataset_2000/35696441-0ffc-440a-9552-eacb83522f37.png',\n",
       "   './dataset/con_custom_dataset_2000/b8f3e623-fd4f-4cef-9478-ed77a9f3a303.png',\n",
       "   './dataset/con_custom_dataset_2000/182710.png',\n",
       "   './dataset/con_custom_dataset_2000/e9ab1357-11a3-456b-921b-a8049c8c985d.png',\n",
       "   './dataset/con_custom_dataset_2000/j6TNknVPY1Y5LO4PYT6RoykWbha2.png',\n",
       "   './dataset/con_custom_dataset_2000/fa4901d6-93a8-40b6-8bd4-deb573ce10bb.png',\n",
       "   './dataset/con_custom_dataset_2000/HRtlc2Oedzd7Q70BgFjlJGMbyPL2.png',\n",
       "   './dataset/con_custom_dataset_2000/8ee52e9b-142c-4817-b732-b369199fa024.png',\n",
       "   './dataset/con_custom_dataset_2000/VFeVSfoV7pM9kzFjHMA0R4rs3XB2.png',\n",
       "   './dataset/con_custom_dataset_2000/uwgjET5xm8NHkfQt7LsUpV0xC1W2.png',\n",
       "   './dataset/con_custom_dataset_2000/Z6qimRi4c2NDdPHsocMRk9IlgdH2.png',\n",
       "   './dataset/con_custom_dataset_2000/c04f7ad2-07a2-4112-bc42-1b2e2572e851.png',\n",
       "   './dataset/con_custom_dataset_2000/sCuADSA3CjS3U2e2EOYEAt3Hqh32.png',\n",
       "   './dataset/con_custom_dataset_2000/jx5lw63NN0SESDVLpYEQTHXuzti2.png',\n",
       "   './dataset/con_custom_dataset_2000/b61c0b58-388d-41f7-9625-952b29b22dd7.png',\n",
       "   './dataset/con_custom_dataset_2000/8EUkoDkeGddD0Vcnwu35XuxOhDt1.png',\n",
       "   './dataset/con_custom_dataset_2000/xh2LPx4DZNXX3hdsmHa7Lk41fPJ3.png',\n",
       "   './dataset/con_custom_dataset_2000/VDhr3WpGrNSi0eWqpTtfZdvUC3N2.png',\n",
       "   './dataset/con_custom_dataset_2000/51OnFkHZ12ay7VyGlPkA3AYsB6s2.png',\n",
       "   './dataset/con_custom_dataset_2000/6730dfca-86fc-4858-937b-c0776845836f.png',\n",
       "   './dataset/con_custom_dataset_2000/Bb9OMQWb3GNbJDH4gANBkWJ4Ihs1.png',\n",
       "   './dataset/con_custom_dataset_2000/hte8VptUoGVFEqvHpbh5brgfcNP2.png',\n",
       "   './dataset/con_custom_dataset_2000/01OCEf1yB4czsq8ygRoT51s96Ba2.png',\n",
       "   './dataset/con_custom_dataset_2000/11acdf3b-b32b-483a-aa70-cf8e4ffc7d50.png',\n",
       "   './dataset/con_custom_dataset_2000/LW6U5C8CENR1PsmldatYGdCBcYg1.png',\n",
       "   './dataset/con_custom_dataset_2000/gWIawRTh97MMSACF9Mq9braP8s12.png',\n",
       "   './dataset/con_custom_dataset_2000/49409.png',\n",
       "   './dataset/con_custom_dataset_2000/29568eef-3caa-4f03-9491-509cb7318b2e.png',\n",
       "   './dataset/con_custom_dataset_2000/YfM42MQoVvT5V7HG9JstuUqBRDf1.png',\n",
       "   './dataset/con_custom_dataset_2000/xyDgyXrDoyXu5CFqcNe20LRjYqg1.png',\n",
       "   './dataset/con_custom_dataset_2000/9cf4a0c9-ab4b-4e1a-af3b-d1ebe24e083f.png',\n",
       "   './dataset/con_custom_dataset_2000/31cb7f0d-da65-450c-a51c-d6924ae05561.png',\n",
       "   './dataset/con_custom_dataset_2000/X2oCYyUk9HQsz8UHY03sxnrCXGF3.png',\n",
       "   './dataset/con_custom_dataset_2000/NakKwA95snbM0W6Lk1nV0ptOmOA2.png',\n",
       "   './dataset/con_custom_dataset_2000/56HPUhHPM9UEksAVgCDbQZcxsuZ2.png',\n",
       "   './dataset/con_custom_dataset_2000/iECdjKjowNVh89DwO6HqoRnaDtY2.png',\n",
       "   './dataset/con_custom_dataset_2000/sSJoDuR1etTsr85E8wRfxIvfiCf1.png',\n",
       "   './dataset/con_custom_dataset_2000/2b4e451c-6ea1-4e50-be90-109447032645.png',\n",
       "   './dataset/con_custom_dataset_2000/4ca22143-61f2-4f7a-a73e-6304d31a3871.png',\n",
       "   './dataset/con_custom_dataset_2000/26176.png',\n",
       "   './dataset/con_custom_dataset_2000/m6UxfLHv0nWKNqMZP2uNiGzXgKh2.png',\n",
       "   './dataset/con_custom_dataset_2000/26a082b5-a371-4659-9954-0b847298ed8f.png',\n",
       "   './dataset/con_custom_dataset_2000/Sy1VK1UgX0ZMcMJitgPal1sp8jj2.png',\n",
       "   './dataset/con_custom_dataset_2000/334e83c6-31c8-4292-852a-471c4eaff8f1.png',\n",
       "   './dataset/con_custom_dataset_2000/d1a1d2d7-54ad-4045-9572-283aff5650ae.png',\n",
       "   './dataset/con_custom_dataset_2000/6dfae390-f7b5-467c-9600-3f13c33f0988.png',\n",
       "   './dataset/con_custom_dataset_2000/840ab5a9-afdb-4800-9f36-be6ce103de89.png',\n",
       "   './dataset/con_custom_dataset_2000/PlsyeCq5jHO4E70iZHfrfHSqSJu2.png',\n",
       "   './dataset/con_custom_dataset_2000/e77948e0-d50f-4dcf-b476-fa43cb8129e4.png',\n",
       "   './dataset/con_custom_dataset_2000/JeM753cUNJdIV37vCj94583kYCE2.png',\n",
       "   './dataset/con_custom_dataset_2000/b8b68a00-4b65-4bbc-aa1e-e71491bef046.png',\n",
       "   './dataset/con_custom_dataset_2000/gM6ePm1Ew2d0nCVAHMf2ANaKI8D2.png',\n",
       "   './dataset/con_custom_dataset_2000/4e5782cc-59a0-4f72-9837-f85fe5f27e36.png',\n",
       "   './dataset/con_custom_dataset_2000/X2oy68UUgdNd97dpzW1ZubPZVIC2.png',\n",
       "   './dataset/con_custom_dataset_2000/zBiORuLmvGhOciaUXFeAKRhMyhj2.png',\n",
       "   './dataset/con_custom_dataset_2000/6d1fcca4-0054-41a2-beeb-ec8cade01523.png',\n",
       "   './dataset/con_custom_dataset_2000/5abe08ce-78bc-4cbe-a59a-7c48aa151f99.png',\n",
       "   './dataset/con_custom_dataset_2000/Fohk6SJxcJVo4rtuGD6PMwJ9qTQ2.png',\n",
       "   './dataset/con_custom_dataset_2000/KFQ0ksPwkDcLUUjbVBYWGWr9ei62.png',\n",
       "   './dataset/con_custom_dataset_2000/cd777894-a8f2-4987-8702-06cb70b56bd1.png',\n",
       "   './dataset/con_custom_dataset_2000/67212b11-a9f5-4d97-826f-3dd953d612cc.png',\n",
       "   './dataset/con_custom_dataset_2000/bd63520f-82c6-4abf-81d2-1d2c60401222.png',\n",
       "   './dataset/con_custom_dataset_2000/S4QDAi84LeV9bdeIeITuXAPSfVE2.png',\n",
       "   './dataset/con_custom_dataset_2000/vtVLtX1PGdX2b2fhF18Fk6DULZ03.png',\n",
       "   './dataset/con_custom_dataset_2000/198f3500-da31-4e16-aa93-05e56a62eea2.png',\n",
       "   './dataset/con_custom_dataset_2000/MqI9F85OYqVh99FcQEHSFPPLDka2.png',\n",
       "   './dataset/con_custom_dataset_2000/234f8882-920a-4b4a-807a-87d9f83f46df.png',\n",
       "   './dataset/con_custom_dataset_2000/Icj21hlLQ5ZwFOgpuekc0Bn7Ucy1.png',\n",
       "   './dataset/con_custom_dataset_2000/3188bce4-8516-4ea6-8733-2538519e770e.png',\n",
       "   './dataset/con_custom_dataset_2000/873bcaf7-aef3-44e9-ba6d-fdf527ca506a.png',\n",
       "   './dataset/con_custom_dataset_2000/4fb0572c-ae38-4c1e-9eea-1f255cb60f00.png',\n",
       "   './dataset/con_custom_dataset_2000/MvMha3CRSic03lfuBh8UIj7k3ak1.png',\n",
       "   './dataset/con_custom_dataset_2000/51805.png',\n",
       "   './dataset/con_custom_dataset_2000/qRSYuXkgdobbygXanSccCsfBiSK2.png',\n",
       "   './dataset/con_custom_dataset_2000/6wvKyVH5jNcuBCjwHE7WvgbtaqI3.png',\n",
       "   './dataset/con_custom_dataset_2000/87edde4e-adc4-4235-80af-379fc6bf2371.png',\n",
       "   './dataset/con_custom_dataset_2000/75bdfa13-fef0-402c-babe-bf668ccb844b.png',\n",
       "   './dataset/con_custom_dataset_2000/e87132ed-11b9-4dec-bfe4-66de910bbb6b.png',\n",
       "   './dataset/con_custom_dataset_2000/3d03712a-926c-48c1-a04c-0c1a31c142fe.png',\n",
       "   './dataset/con_custom_dataset_2000/d063d2a3-ff86-4c76-b426-80c66443df3d.png',\n",
       "   './dataset/con_custom_dataset_2000/884fc3a3-bbf0-4f26-bd3d-70ca880fca0a.png',\n",
       "   './dataset/con_custom_dataset_2000/d06d6583-7dce-43bd-b095-1ee14cdf79d8.png',\n",
       "   './dataset/con_custom_dataset_2000/fd4fec4f-ae26-4264-80b6-2277e46b7a22.png',\n",
       "   './dataset/con_custom_dataset_2000/4e7e6a12-8b08-4169-abc3-24040641b86c.png',\n",
       "   './dataset/con_custom_dataset_2000/EXTWYCHCzyc8k6PE2L7fAqqAudA2.png',\n",
       "   './dataset/con_custom_dataset_2000/117504.png',\n",
       "   './dataset/con_custom_dataset_2000/a45d78ea-c3b3-4e05-adc6-73db045e308d.png',\n",
       "   './dataset/con_custom_dataset_2000/meYzBgsbbHT9rLhVNx4SYzjRYjK2.png',\n",
       "   './dataset/con_custom_dataset_2000/8t3IFTtBOVOtvpX9aX2vryuhSaG2.png',\n",
       "   './dataset/con_custom_dataset_2000/MjbZoe5Xl6gQAFFZAjORLjIZoC93.png',\n",
       "   './dataset/con_custom_dataset_2000/200461.png',\n",
       "   './dataset/con_custom_dataset_2000/Pjs0FDjZUofs8mvB3cjg0Hibe8B2.png',\n",
       "   './dataset/con_custom_dataset_2000/71d5ca38-3d04-4318-9738-cfd62a8173ae.png',\n",
       "   './dataset/con_custom_dataset_2000/26efffe0-bd92-414a-a978-bde8f3613de5.png',\n",
       "   './dataset/con_custom_dataset_2000/51OnFkHZ12ay7VyGlPkA3AYsB6s2.png',\n",
       "   './dataset/con_custom_dataset_2000/5xZE8Rq5oihwEixr96NmUmiy7zk1.png',\n",
       "   './dataset/con_custom_dataset_2000/8384cf91-4c20-4122-9a82-472038aaa368.png',\n",
       "   './dataset/con_custom_dataset_2000/mh19KvxVPfMXJ823tZzidOF1Wwn2.png',\n",
       "   './dataset/con_custom_dataset_2000/64543497-41c9-4975-b3c5-b81632467cc4.png',\n",
       "   './dataset/con_custom_dataset_2000/VmmaLwCF43PJqiCnKPXO73VZJwB2.png',\n",
       "   './dataset/con_custom_dataset_2000/0W7xMFW538WmDghkiujx2v4xVnt2.png',\n",
       "   './dataset/con_custom_dataset_2000/c518ab17-ddab-442f-bbff-515a4dba3ca2.png',\n",
       "   './dataset/con_custom_dataset_2000/d4498fdb-6395-41e6-93eb-c97d68c80116.png',\n",
       "   './dataset/con_custom_dataset_2000/nlKBKSlza3VwbasF1voiECoUs6d2.png',\n",
       "   './dataset/con_custom_dataset_2000/1pXSBzMeizcu5IpLAJUaYpmJyhB3.png',\n",
       "   './dataset/con_custom_dataset_2000/abd1606b-4388-4455-882b-ab906f8778e1.png',\n",
       "   './dataset/con_custom_dataset_2000/b92f1a5d-e47d-490e-8ed0-08fb8d16ae3e.png',\n",
       "   './dataset/con_custom_dataset_2000/c8983507-264a-4bbb-8926-8a06afb36bff.png',\n",
       "   './dataset/con_custom_dataset_2000/c6b28b8e-1c9f-41b7-ad60-fc650cf4c98c.png',\n",
       "   './dataset/con_custom_dataset_2000/1BVg9qHEPjhmnnl7CHMSkZRCHiR2.png',\n",
       "   './dataset/con_custom_dataset_2000/4e8a8b2b-3437-4358-a1fc-407c04c51a0d.png',\n",
       "   './dataset/con_custom_dataset_2000/cfkQZPXKiwUdOgACOzPoZ7alrOh1.png',\n",
       "   './dataset/con_custom_dataset_2000/MbCfQyWYGIeZ5m0BCTeiM1oi7282.png',\n",
       "   './dataset/con_custom_dataset_2000/bde99a5c-a804-4daf-a4d5-897fb72d5060.png',\n",
       "   './dataset/con_custom_dataset_2000/HNQHvssRu1QD9oJKikpEcT8ENjX2.png',\n",
       "   './dataset/con_custom_dataset_2000/3CMQ3nCRdaU5K8pfUiqOpzUgQRz2.png',\n",
       "   './dataset/con_custom_dataset_2000/63710501-6e04-4e34-9dc7-5e568230a907.png',\n",
       "   './dataset/con_custom_dataset_2000/ff38fdd5-2277-4cd1-82f2-ea4576255756.png',\n",
       "   './dataset/con_custom_dataset_2000/qvKy3g7enMOhjEGqHPtNrrrExQl2.png',\n",
       "   './dataset/con_custom_dataset_2000/0ba5e230-9660-4037-972d-41d247fecfdd.png',\n",
       "   './dataset/con_custom_dataset_2000/0gB18cWHioTobGuU3qVE0QV5mBN2.png',\n",
       "   './dataset/con_custom_dataset_2000/dfc597da-cdea-4fc9-915f-fe491bdabbe4.png',\n",
       "   './dataset/con_custom_dataset_2000/PMVjl7cZfEaQD3QaKjvAG4Kidt92.png',\n",
       "   './dataset/con_custom_dataset_2000/2a0a64ee-1750-451e-b52b-35fcf87ed005.png',\n",
       "   './dataset/con_custom_dataset_2000/c9f9d61a-cc30-4ff3-a966-4debbba20c18.png',\n",
       "   './dataset/con_custom_dataset_2000/cd296577-e18e-4eb7-a531-cddf97f60520.png',\n",
       "   './dataset/con_custom_dataset_2000/191131.png',\n",
       "   './dataset/con_custom_dataset_2000/7f68f55c-39a2-4268-81c6-cff42cf3e897.png',\n",
       "   './dataset/con_custom_dataset_2000/f0f0ccf8-ec55-4a7c-bed3-d87865b3945d.png',\n",
       "   './dataset/con_custom_dataset_2000/7321.png',\n",
       "   './dataset/con_custom_dataset_2000/h3Bw7lc9NfapT3IJkwjIuRI9yfa2.png',\n",
       "   './dataset/con_custom_dataset_2000/ysvx8FCvKbPi3Z6Jkhcd6sNsnwn1.png',\n",
       "   './dataset/con_custom_dataset_2000/14e523e4-1c33-48ee-a25b-279144f20dad.png',\n",
       "   './dataset/con_custom_dataset_2000/zPFIJ3JDo7P5qIIdKvELq76kYi02.png',\n",
       "   './dataset/con_custom_dataset_2000/6C9hfSrutjdxeM13Vdjb7Om3zez2.png',\n",
       "   './dataset/con_custom_dataset_2000/3a44fbdf-74ca-4c05-be38-3b703ab00884.png',\n",
       "   './dataset/con_custom_dataset_2000/rAPBfRm8PdZvmMY0SVTQCbN6hhE2.png',\n",
       "   './dataset/con_custom_dataset_2000/1f70c710-cd79-4b35-a800-9fd15cb2943e.png',\n",
       "   './dataset/con_custom_dataset_2000/PAngvEIaGxXq92VkTOyQPquFkVI2.png',\n",
       "   './dataset/con_custom_dataset_2000/69317fad-cc19-43fe-8537-782fc415ee7c.png',\n",
       "   './dataset/con_custom_dataset_2000/a72a58db-e68f-42e7-b4fb-e2752b00d03e.png',\n",
       "   './dataset/con_custom_dataset_2000/06a8ccad-3f53-4665-a418-2713596f0672.png',\n",
       "   './dataset/con_custom_dataset_2000/58d9e384-9201-49ca-9273-d98b5f96aef3.png',\n",
       "   './dataset/con_custom_dataset_2000/3783c23c-ca1e-4842-9e94-70be71b824ed.png',\n",
       "   './dataset/con_custom_dataset_2000/6eeab709-e1a7-40b1-a5e5-01545967e534.png',\n",
       "   './dataset/con_custom_dataset_2000/40cb7a7a-9333-4af9-8046-febfbacbb58d.png',\n",
       "   './dataset/con_custom_dataset_2000/1386ca8f-59b9-48e0-a5ca-39ab50e03ef2.png',\n",
       "   './dataset/con_custom_dataset_2000/7cc19567-40ba-406e-8b2d-42f4df2f2dca.png',\n",
       "   './dataset/con_custom_dataset_2000/MEw5YvFJ1GekU8biV6qQMPV2CDo2.png',\n",
       "   './dataset/con_custom_dataset_2000/gWIawRTh97MMSACF9Mq9braP8s12.png',\n",
       "   './dataset/con_custom_dataset_2000/UDEHS36gwSOkEmBhQZSlwGnijax2.png',\n",
       "   './dataset/con_custom_dataset_2000/esVDCnpv7ChUwuJMmzxAItbB3km1.png',\n",
       "   './dataset/con_custom_dataset_2000/ETcnGsA5gNUC1t3cXJY6KXLvF7W2.png',\n",
       "   './dataset/con_custom_dataset_2000/ff48c5bf-49f2-47c7-a60e-75a83796c429.png',\n",
       "   './dataset/con_custom_dataset_2000/bEzlLV5ZV3fSBFl6JLs1e0t3GEG2.png',\n",
       "   './dataset/con_custom_dataset_2000/J88lvfqwdhSF124B97PL8XHvUnp1.png',\n",
       "   './dataset/con_custom_dataset_2000/eaf7c16d-8881-450e-bd65-eb39d25f39fe.png',\n",
       "   './dataset/con_custom_dataset_2000/3a1a7bf4-57c2-4f7b-bb46-aeb3b6c1e6e9.png',\n",
       "   './dataset/con_custom_dataset_2000/ae104957-cb20-4cfd-9523-9acf6bc0aefd.png',\n",
       "   './dataset/con_custom_dataset_2000/HATVkqrdXhV2eIiwy5iIP7V0bjo2.png',\n",
       "   './dataset/con_custom_dataset_2000/75162.png',\n",
       "   './dataset/con_custom_dataset_2000/TXlvBOBGo0ReXW3AHhF5acgJ5Hm2.png',\n",
       "   './dataset/con_custom_dataset_2000/133a0e5b-8b8c-41f3-ba06-393e46b6f204.png',\n",
       "   './dataset/con_custom_dataset_2000/688cc7cc-d068-4a90-84fc-da8fa843cb4c.png',\n",
       "   './dataset/con_custom_dataset_2000/wgHmm8HnFkZXb1MypYI0nym1zz13.png',\n",
       "   './dataset/con_custom_dataset_2000/e65e935b-c799-4013-b824-34ff2be8d05a.png',\n",
       "   './dataset/con_custom_dataset_2000/1c98d667-943a-432c-9982-78d5a72568e3.png',\n",
       "   './dataset/con_custom_dataset_2000/NqXT0llYhqhv9usc7uEPUKfonRD2.png',\n",
       "   './dataset/con_custom_dataset_2000/xwD2G8sZ9lbeSznnXmdsgrX35473.png',\n",
       "   './dataset/con_custom_dataset_2000/iaLzL5BAVHXg0Ng0Phw6WMZHEkg2.png',\n",
       "   './dataset/con_custom_dataset_2000/184237.png',\n",
       "   './dataset/con_custom_dataset_2000/I9Nm8cGaL5OB4fnmDPM8HrnULVj1.png',\n",
       "   './dataset/con_custom_dataset_2000/q3DEiVNvlkNAGJq8LoHEb1TVPao1.png',\n",
       "   './dataset/con_custom_dataset_2000/9znW0Bni1Scj62DqhsfoagP6HLI2.png',\n",
       "   './dataset/con_custom_dataset_2000/763daa74-2f14-4de4-9c3d-9b9b0347da58.png',\n",
       "   './dataset/con_custom_dataset_2000/N49IPlluNddotKfNlRNVJJ2Ad6E3.png',\n",
       "   './dataset/con_custom_dataset_2000/8bab6d2c-8133-4aa0-b248-7c7cf6f4f7c5.png',\n",
       "   './dataset/con_custom_dataset_2000/e968949b-6382-4e08-a86c-2180ca17ef13.png',\n",
       "   './dataset/con_custom_dataset_2000/e1355fc7-222b-43a9-a1ca-cef6d757318e.png',\n",
       "   './dataset/con_custom_dataset_2000/4da92c33-3c76-49bf-bd49-f2e2f847fb4c.png',\n",
       "   './dataset/con_custom_dataset_2000/79b3e791-bd46-460c-a330-47c94e9f1fa8.png',\n",
       "   './dataset/con_custom_dataset_2000/7e197bfe-391f-4eea-accd-275a532e26e7.png',\n",
       "   './dataset/con_custom_dataset_2000/VM020DwbNvStMOAGyv81rUMoCjh2.png',\n",
       "   './dataset/con_custom_dataset_2000/66637.png',\n",
       "   './dataset/con_custom_dataset_2000/JuzR5zpE9HU3NsFabIcz4Kkp0Ag1.png',\n",
       "   './dataset/con_custom_dataset_2000/K5SeTDLlXVQ0U5sl17KluTKEOKJ3.png',\n",
       "   './dataset/con_custom_dataset_2000/4EAxuOcgN5d81JCmqo2YxXlxYNL2.png',\n",
       "   './dataset/con_custom_dataset_2000/lVHnQ9UNkAYmjNm7wL885LzpsOk2.png',\n",
       "   './dataset/con_custom_dataset_2000/4FJNm8IlWySNOgF0Jyyvw6beLxF2.png',\n",
       "   './dataset/con_custom_dataset_2000/wr9fXFGgtfPzQMIXpgDlBU8I01H2.png',\n",
       "   './dataset/con_custom_dataset_2000/39901.png',\n",
       "   './dataset/con_custom_dataset_2000/DwCHgxHJFhf0nAqiQfHS3lycTuv2.png',\n",
       "   './dataset/con_custom_dataset_2000/Ml6JGK0BGDYiU7CulDVQnD065BI3.png',\n",
       "   './dataset/con_custom_dataset_2000/c7fd5e16-33c8-49ab-9ebb-81f4789dc374.png',\n",
       "   './dataset/con_custom_dataset_2000/e58d45f3-7d6e-48e6-801b-eafc15f1ec85.png',\n",
       "   './dataset/con_custom_dataset_2000/122066.png',\n",
       "   './dataset/con_custom_dataset_2000/l6n5YnEHttTxhcwv6q69TcLSpSK2.png',\n",
       "   './dataset/con_custom_dataset_2000/566b3798-3ea7-4cd9-911f-4ef6ce083b95.png',\n",
       "   './dataset/con_custom_dataset_2000/kOBN8dMQckbYR0PtSZAxOciIcY62.png',\n",
       "   './dataset/con_custom_dataset_2000/70785418-cef3-4f88-b3b8-6388980479c5.png',\n",
       "   './dataset/con_custom_dataset_2000/xwHQrG0KwjTLJvBYVtVXfHp4JAd2.png',\n",
       "   './dataset/con_custom_dataset_2000/MGvc85QJD7PFeYxoAeTxsiq4wHr1.png',\n",
       "   './dataset/con_custom_dataset_2000/ysvx8FCvKbPi3Z6Jkhcd6sNsnwn1.png',\n",
       "   './dataset/con_custom_dataset_2000/mWomPz26WCRVi8sp1QneGAvTBL72.png',\n",
       "   './dataset/con_custom_dataset_2000/iKztabb0gWfeagEyYuU3US36u9b2.png',\n",
       "   './dataset/con_custom_dataset_2000/f5bb19f3-8540-4a16-81cf-247e55742678.png',\n",
       "   './dataset/con_custom_dataset_2000/fdbabb79-c296-4b93-9e02-06b290916fe7.png',\n",
       "   './dataset/con_custom_dataset_2000/63027551-b344-4582-9853-d57cd75f62d3.png',\n",
       "   './dataset/con_custom_dataset_2000/65ePxgK5pQY9m95iEk0gTXX38vK2.png',\n",
       "   './dataset/con_custom_dataset_2000/cfZUmZvsecYVKw5eSi4qIhfJVpI3.png',\n",
       "   './dataset/con_custom_dataset_2000/z7RqPeGUQ4X8rxD6ftMf9i4ZE3w2.png',\n",
       "   './dataset/con_custom_dataset_2000/UWYfIxsL1LbICfxxW9dzfYDAgrD2.png',\n",
       "   './dataset/con_custom_dataset_2000/AxuYWBN0jFVLINCBqIW5aZmGCdu1.png',\n",
       "   './dataset/con_custom_dataset_2000/57DMikLLUefbXYKeCPuxp5Wdtfr1.png',\n",
       "   './dataset/con_custom_dataset_2000/fde6e589-f1fb-4657-a98b-1dff064e821b.png',\n",
       "   './dataset/con_custom_dataset_2000/LwfZvk9xa6bAJbz4wQGEcyoDOmL2.png',\n",
       "   './dataset/con_custom_dataset_2000/a773979b-6092-48c5-9795-ca1644df9c29.png',\n",
       "   './dataset/con_custom_dataset_2000/9f0a7d9f-1f4d-422a-80c6-ebfa333f03be.png',\n",
       "   './dataset/con_custom_dataset_2000/2e46144a-7378-4e56-add3-ac68010ed48a.png',\n",
       "   './dataset/con_custom_dataset_2000/f56b1eac-25ff-4f3f-948c-b7de509d48b8.png',\n",
       "   './dataset/con_custom_dataset_2000/af4cacfc-6e28-4501-96c7-381fd4b195ba.png',\n",
       "   './dataset/con_custom_dataset_2000/4gkSRZ0IWxVAOJSuVEFhQqrzIYx1.png',\n",
       "   './dataset/con_custom_dataset_2000/473d4e03-29fd-4e3d-9e69-a7ace3642d62.png',\n",
       "   './dataset/con_custom_dataset_2000/joORHxc0iCTwgP7Uh5SM5N7rnnf2.png',\n",
       "   './dataset/con_custom_dataset_2000/8eda9baf-68f5-4979-a1e9-4c780c67fa71.png',\n",
       "   './dataset/con_custom_dataset_2000/242711.png',\n",
       "   './dataset/con_custom_dataset_2000/dGnCoUaAVqQqp1p7Kr74K87Hm2D2.png',\n",
       "   './dataset/con_custom_dataset_2000/0f15c5f7-c09e-4755-b9db-8127fb9f0a07.png',\n",
       "   './dataset/con_custom_dataset_2000/8f3e39a7-f664-4502-9062-158ba0f15d91.png',\n",
       "   './dataset/con_custom_dataset_2000/46e1ee38-287a-4091-83a4-9141775fb61b.png',\n",
       "   './dataset/con_custom_dataset_2000/LyCZNUHMdqQtXwEox0mUHngB1Gx1.png',\n",
       "   './dataset/con_custom_dataset_2000/ImU3ZpdqkRPNAy6Ol61zoGuq8sj1.png',\n",
       "   './dataset/con_custom_dataset_2000/U5bTmSt9PRfWHiGleINUHMl8cg13.png',\n",
       "   './dataset/con_custom_dataset_2000/a4bc4b25-81e4-46ce-8550-fc8222eec45f.png',\n",
       "   './dataset/con_custom_dataset_2000/118459.png',\n",
       "   './dataset/con_custom_dataset_2000/w5duFqV8D8V8c0hZLdmvSkmgcmz1.png',\n",
       "   './dataset/con_custom_dataset_2000/ThEx12Qb23UTenYWttvsRvioxqE2.png',\n",
       "   './dataset/con_custom_dataset_2000/173865.png',\n",
       "   './dataset/con_custom_dataset_2000/QlMu7Fl8iIgOZM3QHEOzOJY6npH3.png',\n",
       "   './dataset/con_custom_dataset_2000/c2616c31-d986-488a-ae4f-81f81d7b23e5.png',\n",
       "   './dataset/con_custom_dataset_2000/JhH2YMg1TpWG7RqVv3jOTXFmJZt2.png',\n",
       "   './dataset/con_custom_dataset_2000/rJtkSijv5ROjzB6LHN1XCAfe9752.png',\n",
       "   './dataset/con_custom_dataset_2000/1444cd5b-76da-479f-845c-57349427911f.png',\n",
       "   './dataset/con_custom_dataset_2000/2602aaa5-ca64-4e76-a5c1-bd92239343c8.png',\n",
       "   './dataset/con_custom_dataset_2000/yOgmlp4SsRfgN3OIWhxsQC4QdaC3.png',\n",
       "   './dataset/con_custom_dataset_2000/VtGZATvYtHRPY3asdEEN8sybTOe2.png',\n",
       "   './dataset/con_custom_dataset_2000/49ed0acc-1f9c-4faf-aaa4-50784832b1a9.png',\n",
       "   './dataset/con_custom_dataset_2000/NkibhMc8cVQQq1cj4RSU3NkkMW33.png',\n",
       "   './dataset/con_custom_dataset_2000/20bfd5f3-ede4-410c-b6d4-657dce41ca1e.png',\n",
       "   './dataset/con_custom_dataset_2000/ZfgCPP4WpOP78cBnZ39az9sb0F82.png',\n",
       "   './dataset/con_custom_dataset_2000/euld60aqc2OtnNoKYx9P4WDzVM92.png',\n",
       "   './dataset/con_custom_dataset_2000/Eik9USYv51RYy1mxzPOGxPLhn4o1.png',\n",
       "   './dataset/con_custom_dataset_2000/47709.png',\n",
       "   './dataset/con_custom_dataset_2000/a7f959a3-9310-4689-ad1f-40be41985ba6.png',\n",
       "   './dataset/con_custom_dataset_2000/ee899936-5701-4a8f-a3ab-f3292554a148.png',\n",
       "   './dataset/con_custom_dataset_2000/4aca30e2-4c63-4fb3-b4c5-cbc03ea54d59.png',\n",
       "   './dataset/con_custom_dataset_2000/c8fyZREWSdfus5ISad0LwnMAUcQ2.png',\n",
       "   './dataset/con_custom_dataset_2000/tOlOwYDEHCRx1QegeMOPaydVcgv1.png',\n",
       "   './dataset/con_custom_dataset_2000/e027bdef-1d64-47ef-b1c0-f54a2cf87a6b.png',\n",
       "   './dataset/con_custom_dataset_2000/8afe99df-21e7-4cb4-acb4-06b1e4fa89ca.png',\n",
       "   './dataset/con_custom_dataset_2000/3e7c57bc-d5f8-41f8-aace-d111f010ce0e.png',\n",
       "   './dataset/con_custom_dataset_2000/kufd2yIRZccwghYMiRxdc1Gc6VH2.png',\n",
       "   './dataset/con_custom_dataset_2000/f685a70f-56a1-47e1-b886-b4179238fef4.png',\n",
       "   './dataset/con_custom_dataset_2000/foENi3P7alPC0yTEcDMIJEPFm4E2.png',\n",
       "   './dataset/con_custom_dataset_2000/4d6cdc78-b5f1-4568-bea9-ae1a49c34ee7.png',\n",
       "   './dataset/con_custom_dataset_2000/d773a3b1-f479-4a69-8dc0-41fb8bdbc77f.png',\n",
       "   './dataset/con_custom_dataset_2000/c90f9c2c-21f4-457a-9405-61ff1addbe35.png',\n",
       "   './dataset/con_custom_dataset_2000/XKn4doW0qvfsdM1VskIcJSPEhyz2.png',\n",
       "   './dataset/con_custom_dataset_2000/1351a8e1-f5e5-4a05-a6a9-4bac18393022.png',\n",
       "   './dataset/con_custom_dataset_2000/09de6967-b295-4516-8a4d-4d95c9a7b02c.png',\n",
       "   './dataset/con_custom_dataset_2000/9e7cfc59-a387-4751-b386-bfb574e864fc.png',\n",
       "   './dataset/con_custom_dataset_2000/5e668555-d522-44ca-a261-26eee6ca3677.png',\n",
       "   './dataset/con_custom_dataset_2000/d58ba266-8b3b-40ad-a7cb-390178fd15bb.png',\n",
       "   './dataset/con_custom_dataset_2000/6pXKrZlDycStXTNMBjGXtxxYfvc2.png',\n",
       "   './dataset/con_custom_dataset_2000/7a535b2e-5cc9-4292-a026-541e8c10c3be.png',\n",
       "   './dataset/con_custom_dataset_2000/wwedtVmUE2dHLXmCHaIXW4uGRmq2.png',\n",
       "   './dataset/con_custom_dataset_2000/ZzKpUtFGzsVEK7E1wsVGRftKdx93.png',\n",
       "   './dataset/con_custom_dataset_2000/a9b26c7b-8bae-4a71-93c5-3fc443e14328.png',\n",
       "   './dataset/con_custom_dataset_2000/e1f38647-5d78-4980-ad61-c59de3724cf6.png',\n",
       "   './dataset/con_custom_dataset_2000/rB5oGtrGYZR5uJUXEaDYrrredz13.png',\n",
       "   './dataset/con_custom_dataset_2000/PmbK8Rb4ohNWp4KwTtlU8xzxFGs2.png',\n",
       "   './dataset/con_custom_dataset_2000/gFfiG6fg9dgWt96aPPuIdtFAYc53.png',\n",
       "   './dataset/con_custom_dataset_2000/915ee983-6956-4513-b816-292ead5018e1.png',\n",
       "   './dataset/con_custom_dataset_2000/S0VydT0PnkaGbSLPpfoz2kr48yz1.png',\n",
       "   './dataset/con_custom_dataset_2000/lzB1CcCk33VjfRiW9vbXkplPO0r1.png',\n",
       "   './dataset/con_custom_dataset_2000/3cbd8630-11c0-4df0-a8c5-5200bec45213.png',\n",
       "   './dataset/con_custom_dataset_2000/0c6e544c-c525-4c91-a2b1-3f5cc5902680.png',\n",
       "   './dataset/con_custom_dataset_2000/152007.png',\n",
       "   './dataset/con_custom_dataset_2000/ab802dfe-5c54-4d56-8126-654622be1519.png',\n",
       "   './dataset/con_custom_dataset_2000/170434f9-359f-4598-bd54-ca09b94b3879.png',\n",
       "   './dataset/con_custom_dataset_2000/aRki58kKxnTunoM7BcLiwusqRcV2.png',\n",
       "   './dataset/con_custom_dataset_2000/4ck5XZzCx0XBkREVkHGzpAi1aSk1.png',\n",
       "   './dataset/con_custom_dataset_2000/ZiwS2q40gsX5X7pMp0y30PUFpE93.png',\n",
       "   './dataset/con_custom_dataset_2000/EZzVAG1b5ef8VopTkIROvVbYGml1.png',\n",
       "   './dataset/con_custom_dataset_2000/218199.png',\n",
       "   './dataset/con_custom_dataset_2000/98c8bd0c-8f14-4f50-b1ed-674e11df80fd.png',\n",
       "   './dataset/con_custom_dataset_2000/81104626-96f1-4958-810d-b75ffe228a8c.png',\n",
       "   './dataset/con_custom_dataset_2000/HqILRgOnPoYTBOwV923xNysDhA82.png',\n",
       "   './dataset/con_custom_dataset_2000/215005.png',\n",
       "   './dataset/con_custom_dataset_2000/YLjbjcoMy1bCh25iChGjXXTc8RK2.png',\n",
       "   './dataset/con_custom_dataset_2000/cd2921c1-d73b-422c-9f3a-e40ebbe43bad.png',\n",
       "   './dataset/con_custom_dataset_2000/g1nDdvDWgDhgbVDyfl6NyFIfPAp2.png',\n",
       "   './dataset/con_custom_dataset_2000/io9q2gZdUWhPDbYnJbzv8XsgCZz1.png',\n",
       "   './dataset/con_custom_dataset_2000/a0a2f90b-cdbb-41d2-bb82-d943ce8e0e87.png',\n",
       "   './dataset/con_custom_dataset_2000/ed432a19-0e50-4864-8cfd-8db00d940249.png',\n",
       "   './dataset/con_custom_dataset_2000/4achmXwhZ6UIFduMW6ShHrJpRPV2.png',\n",
       "   './dataset/con_custom_dataset_2000/yQoN4YK60acISpPHhXR5YQKM9mm2.png',\n",
       "   './dataset/con_custom_dataset_2000/IG629UPMI0SQe0tpOKcTKCnQYr82.png',\n",
       "   './dataset/con_custom_dataset_2000/rkSbQvxYLNVlPpIT3mJ4kr3OhMi1.png',\n",
       "   './dataset/con_custom_dataset_2000/PAngvEIaGxXq92VkTOyQPquFkVI2.png',\n",
       "   './dataset/con_custom_dataset_2000/4b0fc186-1ca6-4267-81b9-66d4d6d55d09.png',\n",
       "   './dataset/con_custom_dataset_2000/QFxGVP17oxZUKUsuaW0O32qFdoT2.png',\n",
       "   './dataset/con_custom_dataset_2000/e103b9f7-6950-477e-8e5e-aa3f49e64fd9.png',\n",
       "   './dataset/con_custom_dataset_2000/49409.png',\n",
       "   './dataset/con_custom_dataset_2000/tpnRTSUMvkT4tJZpIQi0OghPefz1.png',\n",
       "   './dataset/con_custom_dataset_2000/ttOFkQd0vpf4bWBwqQsz2Ckw0p22.png',\n",
       "   './dataset/con_custom_dataset_2000/9CjIhgGiWqP4wrhOximVkQgE8tq2.png',\n",
       "   './dataset/con_custom_dataset_2000/cc9fe493-4ecb-4ba0-94a4-19f59350bc30.png',\n",
       "   './dataset/con_custom_dataset_2000/H1Ml5J5BxFT5aJB3687GpncQjOi2.png',\n",
       "   './dataset/con_custom_dataset_2000/eSJm8nx2ygT4ZzQRzgYKpJiis1B2.png',\n",
       "   './dataset/con_custom_dataset_2000/757f568f-f142-4b8a-87f3-ec9b5abfc11d.png',\n",
       "   './dataset/con_custom_dataset_2000/uHyBfROrEHMS9M9ukCOB7sCNH9I2.png',\n",
       "   './dataset/con_custom_dataset_2000/gyh4z7KnY9eBGjNzBmKh5CeJyKA2.png',\n",
       "   './dataset/con_custom_dataset_2000/fuCq7eA5CPYcnRpJqc0hFSr8klr2.png',\n",
       "   './dataset/con_custom_dataset_2000/3eb327cb-2039-4380-817b-7cefa2032adb.png',\n",
       "   './dataset/con_custom_dataset_2000/f006a6cf-7f30-473d-900a-de11f035a0e9.png',\n",
       "   './dataset/con_custom_dataset_2000/479576db-490a-4627-83a9-f413cc6ff91b.png',\n",
       "   './dataset/con_custom_dataset_2000/0e39d36c-e428-4a02-ad64-1e38ab0d661c.png',\n",
       "   './dataset/con_custom_dataset_2000/BOVL8U9dmKWYsaPdV6b0EZkHuNo1.png',\n",
       "   './dataset/con_custom_dataset_2000/b50c2fe3-345a-455c-8d50-fbda3d1e8476.png',\n",
       "   './dataset/con_custom_dataset_2000/M43FaHpw1ScIi97eG6LBx2fBaJ92.png',\n",
       "   './dataset/con_custom_dataset_2000/m1s2RQ1f2LaqD6o9RArZkiDGoFr1.png',\n",
       "   './dataset/con_custom_dataset_2000/03TmwzsdEBVEh35MRMbC9d0NnfI3.png',\n",
       "   './dataset/con_custom_dataset_2000/37325d60-43c0-4227-b55f-0bfe9998d3c2.png',\n",
       "   './dataset/con_custom_dataset_2000/21467ef9-1bdd-422e-be69-dbaeccf7e33e.png',\n",
       "   './dataset/con_custom_dataset_2000/98b35fc6-1fcc-40b5-b503-ae0aa26aeb6f.png',\n",
       "   './dataset/con_custom_dataset_2000/V4vtnfRZS8bjKjuR7KVyYnJQXw32.png',\n",
       "   './dataset/con_custom_dataset_2000/SwW5rQwDVJRdGLNmwOm1DEjtslB2.png',\n",
       "   './dataset/con_custom_dataset_2000/76821df9-fc85-4d81-901c-348cb4c5b467.png',\n",
       "   './dataset/con_custom_dataset_2000/4df71c87-d883-49e2-81fe-43126e7452c0.png',\n",
       "   './dataset/con_custom_dataset_2000/6igAuPMTp6YCmFo4g6qp9Cj8t1k1.png',\n",
       "   './dataset/con_custom_dataset_2000/30f70afa-5094-4b2a-8ec0-b3ebf00e6ae5.png',\n",
       "   './dataset/con_custom_dataset_2000/Pjs0FDjZUofs8mvB3cjg0Hibe8B2.png',\n",
       "   './dataset/con_custom_dataset_2000/pBB2aZFbLCMky5VPRAoWIClKN2Y2.png',\n",
       "   './dataset/con_custom_dataset_2000/91912.png',\n",
       "   './dataset/con_custom_dataset_2000/LCa0jYXkxJZ7JUJC262jrqy0Zao2.png',\n",
       "   './dataset/con_custom_dataset_2000/12c58af2-b547-4567-9ea2-8288e2a8680a.png',\n",
       "   './dataset/con_custom_dataset_2000/wgHmm8HnFkZXb1MypYI0nym1zz13.png',\n",
       "   './dataset/con_custom_dataset_2000/bb94e3f4-831c-4c04-b528-617cf04ab8c7.png',\n",
       "   './dataset/con_custom_dataset_2000/4aa21934-3c18-4069-9ba7-83c06df12fd7.png',\n",
       "   './dataset/con_custom_dataset_2000/e61e9d35-7f7e-483d-ae80-63c2eaf5ee10.png',\n",
       "   './dataset/con_custom_dataset_2000/j0bgqdkBSRaRrpBmJLa1MkkKg593.png',\n",
       "   './dataset/con_custom_dataset_2000/956a3b1f-1961-40cf-ad48-fb36090f7331.png',\n",
       "   './dataset/con_custom_dataset_2000/yT9Pq9LwzFalmb7PBeWKoIoUcng1.png',\n",
       "   './dataset/con_custom_dataset_2000/4c8c0834-2d71-4105-92de-1aa559dfdfb9.png',\n",
       "   './dataset/con_custom_dataset_2000/QC2olizheGbckya2rPjOWhn00vp1.png',\n",
       "   './dataset/con_custom_dataset_2000/6wlO9IzJRZZ3tp02z0La8JCAU8Z2.png',\n",
       "   './dataset/con_custom_dataset_2000/IP6mdjKfmKNgsLLT110MkgGvWK02.png',\n",
       "   './dataset/con_custom_dataset_2000/0593e9bf-e162-46c2-b1d5-3bc34ef1fc6f.png',\n",
       "   './dataset/con_custom_dataset_2000/e7ba5986-ccd6-4199-824a-29be199516ff.png',\n",
       "   './dataset/con_custom_dataset_2000/7ed9dfa8-eebf-4f0d-b213-f2f7231b4bf9.png',\n",
       "   './dataset/con_custom_dataset_2000/llSmz39DbNfSYZ1M4c8zytC4W0r1.png',\n",
       "   './dataset/con_custom_dataset_2000/135182e3-1747-4e1a-99eb-2520a5e0f607.png',\n",
       "   './dataset/con_custom_dataset_2000/5139f374-69ac-4b1a-b35a-efcd9442374e.png',\n",
       "   './dataset/con_custom_dataset_2000/5b09adc0-a6f2-4585-ae15-deff9ec872aa.png',\n",
       "   './dataset/con_custom_dataset_2000/150de1d1-3e1c-4319-8575-cc8b89f775f3.png',\n",
       "   './dataset/con_custom_dataset_2000/ByvAxiKJC5QyNZi2YJu6GyZYgPs1.png',\n",
       "   './dataset/con_custom_dataset_2000/d2Z7BHOMYlaJlksH8MiGJ9wKlBX2.png',\n",
       "   './dataset/con_custom_dataset_2000/4aI0r8RKKtcp2MopsUZjtA6ldKx2.png',\n",
       "   './dataset/con_custom_dataset_2000/gyzIhontEeY2zHHaiy2zjZot6hg1.png',\n",
       "   './dataset/con_custom_dataset_2000/C1Jk83bZcXQM2lljEqVIr6OfMr83.png',\n",
       "   './dataset/con_custom_dataset_2000/1acfdd63-8116-491f-99b5-d7ac34391425.png',\n",
       "   './dataset/con_custom_dataset_2000/e1796d8d-b440-4e69-a4be-15869baf42ac.png',\n",
       "   './dataset/con_custom_dataset_2000/JQyIFoDDO1fwOuEH0GaOFskQ90q1.png',\n",
       "   './dataset/con_custom_dataset_2000/LYJToDRYDZfpjBuNC6YkUcphr0q1.png',\n",
       "   './dataset/con_custom_dataset_2000/013f0ece-e8cb-4f7a-a9cb-7a43a510b24b.png',\n",
       "   './dataset/con_custom_dataset_2000/BMhTCbqVnHNePVbFulnWNu6ZSUg2.png',\n",
       "   './dataset/con_custom_dataset_2000/50668.png',\n",
       "   './dataset/con_custom_dataset_2000/6a2ffeef-99c5-4765-8dac-92aec8459d79.png',\n",
       "   './dataset/con_custom_dataset_2000/161579.png',\n",
       "   './dataset/con_custom_dataset_2000/GzhrTQhWHSTwvweRKx2x1Uh4wx52.png',\n",
       "   './dataset/con_custom_dataset_2000/4b9f3396-593f-47dc-83f3-722cc3d1d8d7.png',\n",
       "   './dataset/con_custom_dataset_2000/30777e90-1882-40b1-9daf-254317428582.png',\n",
       "   './dataset/con_custom_dataset_2000/IQJWFucM7GbQ00iw3lt2UvBFzaW2.png',\n",
       "   './dataset/con_custom_dataset_2000/4bdf67be-91db-492a-8f45-ab3a697969de.png',\n",
       "   './dataset/con_custom_dataset_2000/JdsUKe6JKBdfU7NZC6KeU0z2xKh1.png',\n",
       "   './dataset/con_custom_dataset_2000/5d34422e-b5eb-4399-aec1-0ca954b909c4.png',\n",
       "   './dataset/con_custom_dataset_2000/88acd3ca-25c7-476c-91e4-e7cc313ff122.png',\n",
       "   './dataset/con_custom_dataset_2000/f07af84a-1580-486b-bf02-534eb8e71bc5.png',\n",
       "   './dataset/con_custom_dataset_2000/88724.png',\n",
       "   './dataset/con_custom_dataset_2000/51731.png',\n",
       "   './dataset/con_custom_dataset_2000/26xevAvhh4PSIz1ls0QAwwfz89i1.png',\n",
       "   './dataset/con_custom_dataset_2000/350e8396-e67e-491a-89dd-666702548d63.png',\n",
       "   './dataset/con_custom_dataset_2000/d6d428e1-3829-41e9-aa09-5f05e5eb058b.png',\n",
       "   './dataset/con_custom_dataset_2000/2a2ba9f1-96eb-4b32-b714-9cb3c8a03f74.png',\n",
       "   './dataset/con_custom_dataset_2000/325c665f-d97e-40f8-a9c2-736c0b0f84bf.png',\n",
       "   './dataset/con_custom_dataset_2000/aGEXEhp3mbUandZBtCuEooDQrK53.png',\n",
       "   './dataset/con_custom_dataset_2000/KySjVqQmk0evZBDzxtR59YHuV222.png',\n",
       "   './dataset/con_custom_dataset_2000/7f588f87-5d34-4509-8b86-a00cf09bf778.png',\n",
       "   './dataset/con_custom_dataset_2000/0619abe4-5ccc-42e6-99b8-5e8946e19d4e.png',\n",
       "   './dataset/con_custom_dataset_2000/134915.png',\n",
       "   './dataset/con_custom_dataset_2000/bf6101cb-005d-4015-b83a-a11ae2daa20b.png',\n",
       "   './dataset/con_custom_dataset_2000/223099.png',\n",
       "   './dataset/con_custom_dataset_2000/kus7obTENSPvUNbwD2yi6vUi0x23.png',\n",
       "   './dataset/con_custom_dataset_2000/192e2cb9-a5b2-492f-8ef4-3d778d3f147f.png',\n",
       "   './dataset/con_custom_dataset_2000/fBhAIfEdrdSjfz2Gk3FCIMjaD7z1.png',\n",
       "   './dataset/con_custom_dataset_2000/DTvGOScaAzWfSBXf8B8uF916AKP2.png',\n",
       "   './dataset/con_custom_dataset_2000/4cc5cb8f-e7c7-4c83-85b7-6c395458132f.png',\n",
       "   './dataset/con_custom_dataset_2000/LtqbA3mrmKN4wsTG0sEoPl6fAfB2.png',\n",
       "   './dataset/con_custom_dataset_2000/gXKyKSft8sWALKf93iCMzoiYitW2.png',\n",
       "   './dataset/con_custom_dataset_2000/VFeVSfoV7pM9kzFjHMA0R4rs3XB2.png',\n",
       "   './dataset/con_custom_dataset_2000/a051a29f-4cf2-49b4-b057-f61b6b34b4fe.png',\n",
       "   './dataset/con_custom_dataset_2000/dvRr97gwv7Y34YqaccErnWcYRY53.png',\n",
       "   './dataset/con_custom_dataset_2000/4b03a48f-c4d7-41c6-9567-678141df90e1.png',\n",
       "   './dataset/con_custom_dataset_2000/Afi7SdxjNOetySybYTZ7RPxwFiW2.png',\n",
       "   './dataset/con_custom_dataset_2000/2owO9U3KZ8TqQDrOx6UhOiA2OW43.png',\n",
       "   './dataset/con_custom_dataset_2000/VGh9wqs8iDXHhUdrA12VtBhN1lJ3.png',\n",
       "   './dataset/con_custom_dataset_2000/Q9mjuJioRUSHLiSgS67ZTjRtCy53.png',\n",
       "   './dataset/con_custom_dataset_2000/fb806773-82f3-4125-bdbd-54534b02c852.png',\n",
       "   './dataset/con_custom_dataset_2000/293ac3ae-2c5e-4c0f-b43b-3f0e8d7a52a8.png',\n",
       "   './dataset/con_custom_dataset_2000/a6c4aa4b-eaa9-457f-a077-98eba5b8ad0e.png',\n",
       "   './dataset/con_custom_dataset_2000/2ede0a80-c141-441c-ab5e-d2197ef509ab.png',\n",
       "   './dataset/con_custom_dataset_2000/W2xUj9JB4DRbbn5PaUeIiYsV0XP2.png',\n",
       "   './dataset/con_custom_dataset_2000/fcddabd5-6714-4fa7-94a3-b1a07a3b433f.png',\n",
       "   './dataset/con_custom_dataset_2000/119455.png',\n",
       "   './dataset/con_custom_dataset_2000/e86e02c9-3544-493a-986c-4e5b3cd82954.png',\n",
       "   './dataset/con_custom_dataset_2000/3273a756-3412-4e85-a204-b83111f63519.png',\n",
       "   './dataset/con_custom_dataset_2000/84705.png',\n",
       "   './dataset/con_custom_dataset_2000/owp10hao8XZzW0ooJYkACRmuGDu1.png',\n",
       "   './dataset/con_custom_dataset_2000/5381a0a6-d167-4a40-ae71-661c30fcb46b.png',\n",
       "   './dataset/con_custom_dataset_2000/7yQ29b3Q1KfOIk5K1MSeGTsWqGB2.png',\n",
       "   './dataset/con_custom_dataset_2000/003c7941-a3ef-4daf-b8a8-5c77c82504b0.png',\n",
       "   './dataset/con_custom_dataset_2000/7efdbd4d-dbec-4934-a73d-6d94aada96cd.png',\n",
       "   './dataset/con_custom_dataset_2000/ecy0t93dh8TS3yPI4YJZDSuDFAi2.png',\n",
       "   './dataset/con_custom_dataset_2000/pP9m9dwWhCWPUCWS1cut17IAoxh1.png',\n",
       "   './dataset/con_custom_dataset_2000/fZiUtg0yBfazUG7IFZidEF8qJRS2.png',\n",
       "   './dataset/con_custom_dataset_2000/ce047b79-fd52-4ac5-a451-f27d8a368985.png',\n",
       "   './dataset/con_custom_dataset_2000/rXM1xzEoPifwWHJUFngAdye7u112.png',\n",
       "   './dataset/con_custom_dataset_2000/ada153f7-d012-4c4c-b1ab-33337cba3445.png',\n",
       "   './dataset/con_custom_dataset_2000/74fb12d2-263d-4f25-a435-a556a8b05e9a.png',\n",
       "   './dataset/con_custom_dataset_2000/05688744-5e34-43b5-9bcc-ced86fb0fc68.png',\n",
       "   './dataset/con_custom_dataset_2000/27b2ef6a-9e8e-40e2-a6a0-a317ac8199f9.png',\n",
       "   './dataset/con_custom_dataset_2000/aC09qmwnQ6MboJlAAdxf0DGr9Ay2.png',\n",
       "   './dataset/con_custom_dataset_2000/43d59755-1f61-4051-a697-53866b0e4ca3.png',\n",
       "   './dataset/con_custom_dataset_2000/162786.png',\n",
       "   './dataset/con_custom_dataset_2000/alHP6MaZt1dneLG1iix5HHszKcz2.png',\n",
       "   './dataset/con_custom_dataset_2000/e2a202e2-0a01-4f6f-9e56-7b2092d5e85b.png',\n",
       "   './dataset/con_custom_dataset_2000/1c5e0a5b-94e9-4acb-b505-0417d9ec3621.png',\n",
       "   './dataset/con_custom_dataset_2000/ZThKb36K24N2UGu9fRqjlpp27da2.png',\n",
       "   './dataset/con_custom_dataset_2000/ki8Scyp1FRUOGvhgpjYjYFgx0gp1.png',\n",
       "   './dataset/con_custom_dataset_2000/e0e4b206-6395-4c4e-a8f9-f346fd3a653e.png',\n",
       "   './dataset/con_custom_dataset_2000/1379b7ab-6854-47b1-8a77-5b7b42916058.png',\n",
       "   './dataset/con_custom_dataset_2000/yvMM52GM1jSK5kA1CRX6hSFt5ON2.png',\n",
       "   './dataset/con_custom_dataset_2000/4140d2b9-e0f0-4d68-b4ad-8a662344bb6e.png',\n",
       "   './dataset/con_custom_dataset_2000/Qxlw2hDL29g1Sb9ZQO3XDPIG5Qr1.png',\n",
       "   './dataset/con_custom_dataset_2000/3JXWfUZsCThwlwp2VuuS0LsfrXD2.png',\n",
       "   './dataset/con_custom_dataset_2000/8d9936de-b32a-4817-ac26-d14c088f956d.png',\n",
       "   './dataset/con_custom_dataset_2000/l4rsSAm6LtVu9k22v8PJnYp1pnC3.png',\n",
       "   './dataset/con_custom_dataset_2000/kOBN8dMQckbYR0PtSZAxOciIcY62.png',\n",
       "   './dataset/con_custom_dataset_2000/aaa71956-1ca7-4306-8db5-546c87059208.png',\n",
       "   './dataset/con_custom_dataset_2000/gGuUN1zRpINudd2X5CgQvDfJY0E2.png',\n",
       "   './dataset/con_custom_dataset_2000/d6185db1-0868-40c5-ad2f-5bf40edfb3d1.png',\n",
       "   './dataset/con_custom_dataset_2000/D2bMfCAvvSPj39z6fMToDFRh2rB3.png',\n",
       "   './dataset/con_custom_dataset_2000/C63gG5RK0mWMFKI33VweDdYCk4O2.png',\n",
       "   './dataset/con_custom_dataset_2000/686ba1b8-af73-4730-9eb4-6fd6ebc227ef.png',\n",
       "   './dataset/con_custom_dataset_2000/EAj5X2nQbNhAzPOqXj28BgI9Wpp2.png',\n",
       "   './dataset/con_custom_dataset_2000/1gKYFXop8UQtz5vrzrbVcnjX0Vi1.png',\n",
       "   './dataset/con_custom_dataset_2000/d47bf241-509b-4530-9198-9977f3f25778.png',\n",
       "   './dataset/con_custom_dataset_2000/5e6f182f-5d95-4c01-b47b-ec4b4571668d.png',\n",
       "   './dataset/con_custom_dataset_2000/yfPjZBFWOihN0YDhKla7wWDoVCA2.png',\n",
       "   './dataset/con_custom_dataset_2000/146877.png',\n",
       "   './dataset/con_custom_dataset_2000/YwhRHergRUamkPHHq2Vo5LA0WIw1.png',\n",
       "   './dataset/con_custom_dataset_2000/b351e2a6-fa9d-4749-b8f0-9a5f8fc460d9.png',\n",
       "   './dataset/con_custom_dataset_2000/9JhZlp6ebpZYjnKlK2NTZTihDme2.png',\n",
       "   './dataset/con_custom_dataset_2000/1558d92a-0e13-4888-bf81-0359db3ddd3b.png',\n",
       "   './dataset/con_custom_dataset_2000/CZT9HTBNgaQrTVKBjIBUtlu6Dgx1.png',\n",
       "   './dataset/con_custom_dataset_2000/6GBpxEuVACapBiyIgwQOAj1zuuy1.png',\n",
       "   './dataset/con_custom_dataset_2000/4a39216d-fdac-4a28-b2cc-367e39d098aa.png',\n",
       "   './dataset/con_custom_dataset_2000/552bacf7-8594-4c33-804f-53111333fe7e.png',\n",
       "   './dataset/con_custom_dataset_2000/68da3312-aa17-4e9b-a85b-fc607b60b8bd.png',\n",
       "   './dataset/con_custom_dataset_2000/56269.png',\n",
       "   './dataset/con_custom_dataset_2000/RHVaEkR1YzMXV33Bl1ScXlpBkpA3.png',\n",
       "   './dataset/con_custom_dataset_2000/5a700847-25d7-4ef2-b098-626515ddee7b.png',\n",
       "   './dataset/con_custom_dataset_2000/7yQ29b3Q1KfOIk5K1MSeGTsWqGB2.png',\n",
       "   './dataset/con_custom_dataset_2000/109316.png',\n",
       "   './dataset/con_custom_dataset_2000/SeJVLdrWddXdcxmY9Q51FUjCFRv1.png',\n",
       "   './dataset/con_custom_dataset_2000/2047462a-c55b-428f-813b-ccca9162f448.png',\n",
       "   './dataset/con_custom_dataset_2000/113981ab-9979-44cf-9f4a-9a876e963a2e.png',\n",
       "   './dataset/con_custom_dataset_2000/186924.png',\n",
       "   './dataset/con_custom_dataset_2000/ac01ef6b-422a-4489-9b75-7028abd29581.png',\n",
       "   './dataset/con_custom_dataset_2000/79e52518-aa77-41de-b81e-0f07bf3d6375.png',\n",
       "   './dataset/con_custom_dataset_2000/4jqhl90ZLzc8L1R3yRwKYg0Ruez1.png',\n",
       "   './dataset/con_custom_dataset_2000/322eab73-5793-43e9-a8c5-264f2ec02290.png',\n",
       "   './dataset/con_custom_dataset_2000/115545.png',\n",
       "   './dataset/con_custom_dataset_2000/61eeba80-73d8-4c5a-b2ab-e7f5cd21b04e.png',\n",
       "   './dataset/con_custom_dataset_2000/8c84dca8-93c6-45bd-853e-6ba5d03b2cad.png',\n",
       "   './dataset/con_custom_dataset_2000/ab5b7b84-91db-4b2c-9af2-582a593eb180.png',\n",
       "   './dataset/con_custom_dataset_2000/200334.png',\n",
       "   './dataset/con_custom_dataset_2000/7f58cd54-3414-4b3d-a418-8438d549df31.png',\n",
       "   './dataset/con_custom_dataset_2000/feb9cd98-1e54-42b8-950c-f1e8dbd1e814.png',\n",
       "   './dataset/con_custom_dataset_2000/ca0683b7-a222-4c1b-82df-ea8c91735505.png',\n",
       "   './dataset/con_custom_dataset_2000/58cd467f-576a-4868-9fc2-a8ddb7b9d0c1.png',\n",
       "   './dataset/con_custom_dataset_2000/ByvAxiKJC5QyNZi2YJu6GyZYgPs1.png',\n",
       "   './dataset/con_custom_dataset_2000/db120920-56a7-4e4c-bd5f-768a49787a3a.png',\n",
       "   './dataset/con_custom_dataset_2000/ttOFkQd0vpf4bWBwqQsz2Ckw0p22.png',\n",
       "   './dataset/con_custom_dataset_2000/dd0607d5-0d38-4612-b326-85b9f345d56d.png',\n",
       "   './dataset/con_custom_dataset_2000/hP0R5MMdSNThSMZ7TNLjU7sxyws1.png',\n",
       "   './dataset/con_custom_dataset_2000/Hb9DrqUzdCfKOQWYs4T85y3S3Rl1.png',\n",
       "   './dataset/con_custom_dataset_2000/8d809ac5-5966-4db1-9f37-24a256b3ddbf.png',\n",
       "   './dataset/con_custom_dataset_2000/f18bb6f5-90c1-492e-8030-d95acd72b146.png',\n",
       "   './dataset/con_custom_dataset_2000/e49774be-c910-4e9d-9df8-c41b12f742fe.png',\n",
       "   './dataset/con_custom_dataset_2000/sSJoDuR1etTsr85E8wRfxIvfiCf1.png',\n",
       "   './dataset/con_custom_dataset_2000/1swHxN9xPFUu90g29z2RMCxG3oJ2.png',\n",
       "   './dataset/con_custom_dataset_2000/UhGuA2vn7sUfKJRENR472IxQaEu2.png',\n",
       "   './dataset/con_custom_dataset_2000/67e0905b-cfad-4060-a39b-8b6640ee24a1.png',\n",
       "   './dataset/con_custom_dataset_2000/8f64b83c-402e-4507-a80e-cdc3fe75b007.png',\n",
       "   './dataset/con_custom_dataset_2000/5FQMhLSr6je06dBSJvZjbiddFID2.png',\n",
       "   './dataset/con_custom_dataset_2000/d1f10643-15c1-48cd-aa9f-3c35c1ca7a85.png',\n",
       "   './dataset/con_custom_dataset_2000/ywGZDcK06JdLH3XuSOVMKASD8ex2.png',\n",
       "   './dataset/con_custom_dataset_2000/6088ee03-f819-40a2-bf26-29058e301ddd.png',\n",
       "   './dataset/con_custom_dataset_2000/164216.png',\n",
       "   './dataset/con_custom_dataset_2000/4f8e47a3-7752-4df7-8509-3fe566018dd6.png',\n",
       "   './dataset/con_custom_dataset_2000/e85d1cb2-7e0f-4c27-b36b-d5a368ceae21.png',\n",
       "   './dataset/con_custom_dataset_2000/6c41da6e-a686-4c25-8fe9-64558d697098.png',\n",
       "   './dataset/con_custom_dataset_2000/TQx9HF2p3pXksgf5YNrpQSh81qu1.png',\n",
       "   './dataset/con_custom_dataset_2000/D5aq6FUMeCQal79ePD7UZniIyF12.png',\n",
       "   './dataset/con_custom_dataset_2000/3bade0ed-6b23-4f46-8c6c-b8ff8ce7ff2b.png',\n",
       "   './dataset/con_custom_dataset_2000/PXFeh2WexbZ9HXhXg6tToFfY3PM2.png',\n",
       "   './dataset/con_custom_dataset_2000/o0HUIrKBsMXkygZgI161LVIydIp1.png',\n",
       "   './dataset/con_custom_dataset_2000/6f24c338-b373-41ab-a1a5-e584adb9ff8e.png',\n",
       "   './dataset/con_custom_dataset_2000/126c431c-c8e6-4ce5-a4fc-bbb5829c078b.png',\n",
       "   './dataset/con_custom_dataset_2000/MQSayo88HXcUcse3I8S4Fp3V52C2.png',\n",
       "   './dataset/con_custom_dataset_2000/1402be0f-6cc7-407f-abd0-63bcb2e86f71.png',\n",
       "   './dataset/con_custom_dataset_2000/y71bldtMZsh4Qemwyr86rXevPcH2.png',\n",
       "   './dataset/con_custom_dataset_2000/8fdUOI5UtkZBCVFXNT1a4hl3rX33.png',\n",
       "   './dataset/con_custom_dataset_2000/120218.png',\n",
       "   './dataset/con_custom_dataset_2000/cf4RgKotFbYPn2HsLdxHyiChY3I2.png',\n",
       "   './dataset/con_custom_dataset_2000/6d43cd9d-3853-4072-b719-806b74a3a4d1.png',\n",
       "   './dataset/con_custom_dataset_2000/j31umQI0FpRQTOBIkTlKlGlPhF03.png',\n",
       "   './dataset/con_custom_dataset_2000/fa5639fe-1c2b-4e39-a735-260543d5a1d7.png',\n",
       "   './dataset/con_custom_dataset_2000/d8549458-a0ff-430a-9079-794e6ea769c4.png',\n",
       "   './dataset/con_custom_dataset_2000/WrM6hLW3fGbGgwpWSZT9HOSU7CC3.png',\n",
       "   './dataset/con_custom_dataset_2000/IkwAlxsvmhXfpi9seBDU6rksY7C2.png',\n",
       "   './dataset/con_custom_dataset_2000/AWZWqZAsydRwCkb1CSCZTjiG1YD2.png',\n",
       "   './dataset/con_custom_dataset_2000/774bafb8-5d1c-42c5-a0a8-91ba0a85a04b.png',\n",
       "   './dataset/con_custom_dataset_2000/ede282c6-9511-4d0d-af8f-abd4755b73c4.png',\n",
       "   './dataset/con_custom_dataset_2000/mpN8LVqfHAWvNZZrJw5cQ3vOVWg2.png',\n",
       "   './dataset/con_custom_dataset_2000/218199.png',\n",
       "   './dataset/con_custom_dataset_2000/rjI1qyc5W6RkajiRcmde0VISAIF3.png',\n",
       "   './dataset/con_custom_dataset_2000/bEzlLV5ZV3fSBFl6JLs1e0t3GEG2.png',\n",
       "   './dataset/con_custom_dataset_2000/260ee609-51d7-4375-a93c-c05d72dc41c2.png',\n",
       "   './dataset/con_custom_dataset_2000/2ab799d5-2fc4-494c-9c5f-ffa06152d4f9.png',\n",
       "   './dataset/con_custom_dataset_2000/l6xp4FcV20QYTrj0uF0GkKnXY1x2.png',\n",
       "   './dataset/con_custom_dataset_2000/b4629d2b-5ff2-43b6-aebf-39880018fcf1.png',\n",
       "   './dataset/con_custom_dataset_2000/660f52df-42dc-49e9-ac87-473c6db99d17.png',\n",
       "   './dataset/con_custom_dataset_2000/b72d309f-a9b8-4815-86c1-ac642f3dc5f9.png',\n",
       "   './dataset/con_custom_dataset_2000/e2bfe8fd-2a5e-4953-9b3a-ffa89b0b6bb4.png',\n",
       "   './dataset/con_custom_dataset_2000/62d41be5-cd2d-469b-9201-78b8ead00223.png',\n",
       "   './dataset/con_custom_dataset_2000/jkP5JFFckOVBrO7AaRcacyXkgMk1.png',\n",
       "   './dataset/con_custom_dataset_2000/euld60aqc2OtnNoKYx9P4WDzVM92.png',\n",
       "   './dataset/con_custom_dataset_2000/4d9098d9-e240-41da-b7e6-7428377d6817.png',\n",
       "   './dataset/con_custom_dataset_2000/6d73708f-f815-410f-b6a1-76cec2a7754c.png',\n",
       "   './dataset/con_custom_dataset_2000/zw0pYfsZxDShQGV2HTuont8wU8V2.png',\n",
       "   './dataset/con_custom_dataset_2000/edbc9515-7a84-478a-8f64-059ee904c4c1.png',\n",
       "   './dataset/con_custom_dataset_2000/JhH2YMg1TpWG7RqVv3jOTXFmJZt2.png',\n",
       "   './dataset/con_custom_dataset_2000/a38b5cb8-7ee4-4a4a-90d6-1152f3dd3abb.png',\n",
       "   './dataset/con_custom_dataset_2000/FCo8orfgs5ZKKQV4T436XCoycht2.png',\n",
       "   './dataset/con_custom_dataset_2000/dffdaa03-175e-444b-a4e5-36d36839256d.png',\n",
       "   './dataset/con_custom_dataset_2000/pitYbc063SXoFPZmDTvyI6yGxLm2.png',\n",
       "   './dataset/con_custom_dataset_2000/bf7f0dd3-eaef-4912-8edc-c919fd98df62.png',\n",
       "   './dataset/con_custom_dataset_2000/eW3UMx8SACOoZft0ZOLZUIVaTFb2.png',\n",
       "   './dataset/con_custom_dataset_2000/deca9f96-463f-4198-baf0-19c42446ec19.png',\n",
       "   './dataset/con_custom_dataset_2000/op1WefhMk4PWXOP5mzMctzOWM3x1.png',\n",
       "   './dataset/con_custom_dataset_2000/102844.png',\n",
       "   './dataset/con_custom_dataset_2000/120587.png',\n",
       "   './dataset/con_custom_dataset_2000/9ffc92ed-9de1-4c01-a807-6f27a4cfec96.png',\n",
       "   './dataset/con_custom_dataset_2000/ba21cefd-7209-47e8-87ff-e12e3d0ed4dc.png',\n",
       "   './dataset/con_custom_dataset_2000/3fc14b91-b589-4050-9f7c-53a771b4941a.png',\n",
       "   './dataset/con_custom_dataset_2000/d4084a8b-c483-4c15-8acf-f0b035e6d431.png',\n",
       "   './dataset/con_custom_dataset_2000/w7pdOIUnHPRfYLXVVRtIRsOjGnr2.png',\n",
       "   './dataset/con_custom_dataset_2000/667de276-e872-4fa4-a7e6-65461284554b.png',\n",
       "   './dataset/con_custom_dataset_2000/1swHxN9xPFUu90g29z2RMCxG3oJ2.png',\n",
       "   './dataset/con_custom_dataset_2000/39460774-2d87-4c17-9015-5ca9d6328744.png',\n",
       "   './dataset/con_custom_dataset_2000/StMoprM57wPyrUs5p0s78r1X0Qt1.png',\n",
       "   './dataset/con_custom_dataset_2000/2d46ffd8-4f17-426d-af12-bafbf7dac732.png',\n",
       "   './dataset/con_custom_dataset_2000/7b1a80f8-0714-4ecc-aa20-20d4a1eb8c78.png',\n",
       "   './dataset/con_custom_dataset_2000/49d3acb2-f8ba-4db6-b843-380cce7980a7.png',\n",
       "   './dataset/con_custom_dataset_2000/L5tZkFTeajV4uDCQnvbWLNoG5az1.png',\n",
       "   './dataset/con_custom_dataset_2000/1a7b91c0-c8c4-4f99-9be9-9dc879976f0b.png',\n",
       "   './dataset/con_custom_dataset_2000/MCyZwW6oHlddq3Cy7QRwPHw5gof1.png',\n",
       "   './dataset/con_custom_dataset_2000/552ace0b-b541-4132-a245-e154283852cc.png',\n",
       "   './dataset/con_custom_dataset_2000/ecy0t93dh8TS3yPI4YJZDSuDFAi2.png',\n",
       "   './dataset/con_custom_dataset_2000/6sUnPQNXQCYawfmLL8Pg91UxoiI3.png',\n",
       "   './dataset/con_custom_dataset_2000/548ed7c7-1ffa-4731-b8b1-8ceb990d3123.png',\n",
       "   './dataset/con_custom_dataset_2000/BTyDWg2XGnaMNkwlmO6ZWdd6LtF3.png',\n",
       "   ...]},\n",
       " 3: {'MEL': ['./dataset/con_custom_dataset_2000/1f287912-8ec4-4e84-9a37-cb29c230e775.png',\n",
       "   './dataset/con_custom_dataset_2000/14ec33eb-2f22-431b-97fb-6e1c05a3d076.png',\n",
       "   './dataset/con_custom_dataset_2000/p4caw19QwZOW16e0wVjZD34Nlkv2.png',\n",
       "   './dataset/con_custom_dataset_2000/fd0f92d7-8ea0-4e1e-8374-ece838ac6446.png',\n",
       "   './dataset/con_custom_dataset_2000/7eqeo9k4vpZnfRc8T2OMkelZFzC3.png',\n",
       "   './dataset/con_custom_dataset_2000/nsmJcSu7zRYegSynfe707MwRpjp2.png',\n",
       "   './dataset/con_custom_dataset_2000/WTy9ym2R87WxEwQufFkYxRZDY0C3.png',\n",
       "   './dataset/con_custom_dataset_2000/a8aca254-8389-4930-908c-a63dd3b1cc66.png',\n",
       "   './dataset/con_custom_dataset_2000/b6764c77-9cec-493f-9ad3-4355e6b6a39f.png',\n",
       "   './dataset/con_custom_dataset_2000/208757.png',\n",
       "   './dataset/con_custom_dataset_2000/b3b23880-5d68-4a1b-8126-3619b1c70c20.png',\n",
       "   './dataset/con_custom_dataset_2000/3VWhvtBFHKMgEKxlXzMYeg5NeBN2.png',\n",
       "   './dataset/con_custom_dataset_2000/1379b7ab-6854-47b1-8a77-5b7b42916058.png',\n",
       "   './dataset/con_custom_dataset_2000/658bd444-c728-4672-84ac-ba2220608e6c.png',\n",
       "   './dataset/con_custom_dataset_2000/KGWBaTNrJmUgzGZw5Xh2ICSHVu92.png',\n",
       "   './dataset/con_custom_dataset_2000/io9q2gZdUWhPDbYnJbzv8XsgCZz1.png',\n",
       "   './dataset/con_custom_dataset_2000/48PWPg1zZZS9UbuHspwNMsiOfep1.png',\n",
       "   './dataset/con_custom_dataset_2000/261433.png',\n",
       "   './dataset/con_custom_dataset_2000/556b6927-8b59-4366-ae58-e7c6cc7be8a6.png',\n",
       "   './dataset/con_custom_dataset_2000/ojihroSqhjfXVXHu7hB7gtI2Pl13.png',\n",
       "   './dataset/con_custom_dataset_2000/f0a15909-4a26-44b5-b551-f08528ed2609.png',\n",
       "   './dataset/con_custom_dataset_2000/EyzoLFEmr5dK0ifWxP8HdCypw4r1.png',\n",
       "   './dataset/con_custom_dataset_2000/34094.png',\n",
       "   './dataset/con_custom_dataset_2000/af32de8c-0b9b-4215-8a5f-111b2cd9be5c.png',\n",
       "   './dataset/con_custom_dataset_2000/155584.png',\n",
       "   './dataset/con_custom_dataset_2000/uHyBfROrEHMS9M9ukCOB7sCNH9I2.png',\n",
       "   './dataset/con_custom_dataset_2000/5FQMhLSr6je06dBSJvZjbiddFID2.png',\n",
       "   './dataset/con_custom_dataset_2000/7e44d32d-897f-48e3-8b5b-e1997de83a6a.png',\n",
       "   './dataset/con_custom_dataset_2000/l6xp4FcV20QYTrj0uF0GkKnXY1x2.png',\n",
       "   './dataset/con_custom_dataset_2000/UV965HIG9saPO9HjKNFSm2aFeBt2.png',\n",
       "   './dataset/con_custom_dataset_2000/oOAokpgIGldpKKlBoPfcyOoycf23.png',\n",
       "   './dataset/con_custom_dataset_2000/f227adc3-0bd3-44eb-add8-3627b257490d.png',\n",
       "   './dataset/con_custom_dataset_2000/c5a88388-c52a-4eca-b97c-f258ab118f75.png',\n",
       "   './dataset/con_custom_dataset_2000/giXzRAAuoRRAg7xQ9Y56DX0FVDr1.png',\n",
       "   './dataset/con_custom_dataset_2000/ya3VviewxzdRZqbLrEXsIrvilRR2.png',\n",
       "   './dataset/con_custom_dataset_2000/aeef09d5-beb8-473e-8638-44f8c22a580e.png',\n",
       "   './dataset/con_custom_dataset_2000/HdJdEWQecehLzEQcyDV7vjr85C82.png',\n",
       "   './dataset/con_custom_dataset_2000/e5a8a140-d910-47da-b3d6-96941e084028.png',\n",
       "   './dataset/con_custom_dataset_2000/cc486aa3-fac0-41e1-9e32-82dce5285317.png',\n",
       "   './dataset/con_custom_dataset_2000/C3luMlCgAFZqGmGjFscXe9fVHSG3.png',\n",
       "   './dataset/con_custom_dataset_2000/e1d11b0a-381a-4fbf-9169-e4548747e0db.png',\n",
       "   './dataset/con_custom_dataset_2000/fb39effb-f9be-4fa0-9352-d6408cbe3eb7.png',\n",
       "   './dataset/con_custom_dataset_2000/kAnUnZf9b6d4bkjJCawv0nCGJUI2.png',\n",
       "   './dataset/con_custom_dataset_2000/160614.png',\n",
       "   './dataset/con_custom_dataset_2000/bk1oHM5vebe9ZNtgyRq54UVOIQR2.png',\n",
       "   './dataset/con_custom_dataset_2000/QU89L9WuhdW74Fj41RQwBPCl9Vv1.png',\n",
       "   './dataset/con_custom_dataset_2000/yCzbULubsuY5sNYwje0zqNqtEB62.png',\n",
       "   './dataset/con_custom_dataset_2000/4f040be5-3dd6-42fa-91d7-349c4942e274.png',\n",
       "   './dataset/con_custom_dataset_2000/2bdc81e8-fda7-430d-8714-170d69eac1f0.png',\n",
       "   './dataset/con_custom_dataset_2000/194899.png',\n",
       "   './dataset/con_custom_dataset_2000/Za0aCHrh7pcZrQI3Qg5JiSOl3o42.png',\n",
       "   './dataset/con_custom_dataset_2000/9LCBZHRlg3Nk6NMZHu7AZJ9Rju53.png',\n",
       "   './dataset/con_custom_dataset_2000/74fe274c-12f5-4073-a7cf-9118507c9849.png',\n",
       "   './dataset/con_custom_dataset_2000/543328c9-106f-4096-b950-ae49310c21aa.png',\n",
       "   './dataset/con_custom_dataset_2000/f2dddab5-ac2e-4789-bf8b-ef20c8c3ad33.png',\n",
       "   './dataset/con_custom_dataset_2000/3d080e1b-cfa2-43aa-b017-9621cdea5c7a.png',\n",
       "   './dataset/con_custom_dataset_2000/0KOy96zEUfdMY4rZzwrDT0gMPDa2.png',\n",
       "   './dataset/con_custom_dataset_2000/yHn6UxlPk8RvWZ3X5jrTa89CPwG2.png',\n",
       "   './dataset/con_custom_dataset_2000/ca515f89-c75a-4cf0-ad78-5bfef05cceaf.png',\n",
       "   './dataset/con_custom_dataset_2000/EPA8c37Cb5e2aaUfisoVCzoxMnT2.png',\n",
       "   './dataset/con_custom_dataset_2000/Zs8oTVcUPTc8pk9UES7sFEhRDxX2.png',\n",
       "   './dataset/con_custom_dataset_2000/28854707-b408-4b25-ace4-0797baff5f85.png',\n",
       "   './dataset/con_custom_dataset_2000/8nVQh7sxmWTMdHOSFZRgCSbwFCl2.png',\n",
       "   './dataset/con_custom_dataset_2000/NqXT0llYhqhv9usc7uEPUKfonRD2.png',\n",
       "   './dataset/con_custom_dataset_2000/16346c4f-3383-4471-9074-afba6d824c7b.png',\n",
       "   './dataset/con_custom_dataset_2000/68d5215b-afdb-4b7a-81d3-fbd5677de7b4.png',\n",
       "   './dataset/con_custom_dataset_2000/e3598fa8-c57a-4254-90c8-c0c7892a864a.png',\n",
       "   './dataset/con_custom_dataset_2000/8254b396-cceb-4644-a723-5747cade8cf9.png',\n",
       "   './dataset/con_custom_dataset_2000/OK2CZltrvfZbpTWB75LWMFqxfpM2.png',\n",
       "   './dataset/con_custom_dataset_2000/ebd6f02a-90e6-4246-81de-6ae390459757.png',\n",
       "   './dataset/con_custom_dataset_2000/PAngvEIaGxXq92VkTOyQPquFkVI2.png',\n",
       "   './dataset/con_custom_dataset_2000/pP9m9dwWhCWPUCWS1cut17IAoxh1.png',\n",
       "   './dataset/con_custom_dataset_2000/hD3OkVpgQJNlJSQxLgzqXzHp4jr2.png',\n",
       "   './dataset/con_custom_dataset_2000/ZpsUydPUXygszeJSVtTFjbsqoNQ2.png',\n",
       "   './dataset/con_custom_dataset_2000/bf901165-8a9e-49e3-9e54-aaf6a830f68a.png',\n",
       "   './dataset/con_custom_dataset_2000/9d2f38d7-99a3-4c71-bd70-38c964be1124.png',\n",
       "   './dataset/con_custom_dataset_2000/0c00ybTdnIRUTXeg20bZjJOzhKv1.png',\n",
       "   './dataset/con_custom_dataset_2000/5cb612e3-99fb-4816-a5c9-ef62785c17f3.png',\n",
       "   './dataset/con_custom_dataset_2000/Hsd2XPLTHxa0q43WgjzaQl22cB42.png',\n",
       "   './dataset/con_custom_dataset_2000/be4256f4-c5de-4dbe-b382-40e1f70b58b9.png',\n",
       "   './dataset/con_custom_dataset_2000/f6c1f9df-42cc-4bc2-bd19-e94f19203ae1.png',\n",
       "   './dataset/con_custom_dataset_2000/3fb18c70-f448-4d78-bd17-80819f3b0bdf.png',\n",
       "   './dataset/con_custom_dataset_2000/577a32f4-f4c7-41a6-bf54-62a93ea9be23.png',\n",
       "   './dataset/con_custom_dataset_2000/800baf89-e68b-4022-bf75-3897b3740f64.png',\n",
       "   './dataset/con_custom_dataset_2000/e12e93de-c7df-4991-99d8-4f5204cad6a2.png',\n",
       "   './dataset/con_custom_dataset_2000/jzZNRqxGsTXZVZJbipHEyBaGPAI2.png',\n",
       "   './dataset/con_custom_dataset_2000/4a5ddace-467b-4a0a-9647-c1160ec4d8f9.png',\n",
       "   './dataset/con_custom_dataset_2000/2cc589e3-af55-4624-a53f-e545c300239d.png',\n",
       "   './dataset/con_custom_dataset_2000/5cb6223b-0c22-494a-8fa8-c0e1665114c7.png',\n",
       "   './dataset/con_custom_dataset_2000/MbCfQyWYGIeZ5m0BCTeiM1oi7282.png',\n",
       "   './dataset/con_custom_dataset_2000/W1c56dgBsoe34ilAX8vAZs8tNcX2.png',\n",
       "   './dataset/con_custom_dataset_2000/68391.png',\n",
       "   './dataset/con_custom_dataset_2000/d0e49577-99ca-4ef9-8e39-628f390ba398.png',\n",
       "   './dataset/con_custom_dataset_2000/f25e185e-81a8-496d-a28c-b92e107c8dc0.png',\n",
       "   './dataset/con_custom_dataset_2000/7e2f4bb0-a4a1-4e62-a26f-f4174ab4954b.png',\n",
       "   './dataset/con_custom_dataset_2000/177614.png',\n",
       "   './dataset/con_custom_dataset_2000/cd43ffeb-f9c8-4bfd-9de5-ab8d2a60544e.png',\n",
       "   './dataset/con_custom_dataset_2000/wXChdMlWemXwRdX642WnX6JbYfA2.png',\n",
       "   './dataset/con_custom_dataset_2000/18d16e2b-2916-47f9-80c4-84b9b90e7b5b.png',\n",
       "   './dataset/con_custom_dataset_2000/cEUtmEr0WzaMyEktYRaqHrryr0s1.png',\n",
       "   './dataset/con_custom_dataset_2000/xb5Zffvkf5MqrUPju4A98njfRMy1.png',\n",
       "   './dataset/con_custom_dataset_2000/b10b57fe-78cf-4855-a82e-8a8d74875182.png',\n",
       "   './dataset/con_custom_dataset_2000/j0q8isyOE2akw5RDUOV9whSwNDW2.png',\n",
       "   './dataset/con_custom_dataset_2000/7421e710-822b-4308-87b4-a8a172c452df.png',\n",
       "   './dataset/con_custom_dataset_2000/196672.png',\n",
       "   './dataset/con_custom_dataset_2000/2db02ca6-0c9d-4103-af79-a186235e9725.png',\n",
       "   './dataset/con_custom_dataset_2000/WSNcPIb74jUzQoVPA7RGZKWtMrM2.png',\n",
       "   './dataset/con_custom_dataset_2000/96247158-a23c-45d1-a3a8-61ef2a2ac737.png',\n",
       "   './dataset/con_custom_dataset_2000/FLhjsgqrgQMKwNt5iEryxG5sDlW2.png',\n",
       "   './dataset/con_custom_dataset_2000/CUCqq4q5SQa3fDkpraekej7fNza2.png',\n",
       "   './dataset/con_custom_dataset_2000/80841.png',\n",
       "   './dataset/con_custom_dataset_2000/18c36541-7566-4f46-8264-3716e2e71f30.png',\n",
       "   './dataset/con_custom_dataset_2000/38e7f072-6f3b-47b2-8b63-1e3fc2d7cb1a.png',\n",
       "   './dataset/con_custom_dataset_2000/18bbaf6e-f8d2-4492-b5e8-b6e94a86f319.png',\n",
       "   './dataset/con_custom_dataset_2000/2Kc88N5ZQKXucjghAP4Jzq0Dnej2.png',\n",
       "   './dataset/con_custom_dataset_2000/g6L8s5Dtq8eIYUTeRWHq0Q7w5L32.png',\n",
       "   './dataset/con_custom_dataset_2000/d67d3103-5ec4-402f-9df4-1a83f9730575.png',\n",
       "   './dataset/con_custom_dataset_2000/5b7b8bb1-b032-41c6-abbb-3dc373582dbd.png',\n",
       "   './dataset/con_custom_dataset_2000/K8QeHIukfghK4kOQx8LnffbLWP12.png',\n",
       "   './dataset/con_custom_dataset_2000/d55e1245-8e87-4ef4-935e-1431ab1ed3aa.png',\n",
       "   './dataset/con_custom_dataset_2000/999e3c08-17ce-4daf-876f-760a1386dbf6.png',\n",
       "   './dataset/con_custom_dataset_2000/aa867bd1-16a5-4426-83c3-fb534476d0e0.png',\n",
       "   './dataset/con_custom_dataset_2000/ee44c1a5-fb92-431e-a9f0-96cb3d33aa6e.png',\n",
       "   './dataset/con_custom_dataset_2000/sGG3SWYeDtd52RBt3dMM3HSv8SG3.png',\n",
       "   './dataset/con_custom_dataset_2000/IVQDOUP0a8cwMvCkp1TnZ1FI88Z2.png',\n",
       "   './dataset/con_custom_dataset_2000/f55ff264-963d-4cf0-a563-3a7dbf4d9b39.png',\n",
       "   './dataset/con_custom_dataset_2000/IA47R6m1qMbEqlv31Gf5sjN91cA2.png',\n",
       "   './dataset/con_custom_dataset_2000/YrJHnx1PgzPLiCgkSLaQqMhyBeA2.png',\n",
       "   './dataset/con_custom_dataset_2000/a88ba51c-d14f-49f1-9a2e-813efd3935e0.png',\n",
       "   './dataset/con_custom_dataset_2000/RfrT8p9208NHn3170qOYmxel8Kw2.png',\n",
       "   './dataset/con_custom_dataset_2000/5398dbc1-4b31-454e-aea5-db0dc408a9c6.png',\n",
       "   './dataset/con_custom_dataset_2000/e36e5c49-290a-4fe2-b052-e84cd3067687.png',\n",
       "   './dataset/con_custom_dataset_2000/bba496f8-473f-4e52-a42e-cbcffd77a4f2.png',\n",
       "   './dataset/con_custom_dataset_2000/ekXeaNBZYgZvh7mpGGwDQR4Jlwv2.png',\n",
       "   './dataset/con_custom_dataset_2000/h3Bw7lc9NfapT3IJkwjIuRI9yfa2.png',\n",
       "   './dataset/con_custom_dataset_2000/f25e2a48-1ecc-4a92-9177-d25611f0e8de.png',\n",
       "   './dataset/con_custom_dataset_2000/17d21ede-ceea-45b7-a3d9-1ee31c6f388d.png',\n",
       "   './dataset/con_custom_dataset_2000/c2795c09-691f-421d-87eb-60d11ef0a776.png',\n",
       "   './dataset/con_custom_dataset_2000/9qFHoE68V7RDn79M2QtChoCpiGo2.png',\n",
       "   './dataset/con_custom_dataset_2000/c328456d-638e-4a1b-8853-8526e713b1c8.png',\n",
       "   './dataset/con_custom_dataset_2000/bb94e3f4-831c-4c04-b528-617cf04ab8c7.png',\n",
       "   './dataset/con_custom_dataset_2000/c70d5f56-3af6-4a86-8d63-2a3bdedf5a93.png',\n",
       "   './dataset/con_custom_dataset_2000/chMsCb2SqaYxVB1lc93vPGPa5ho1.png',\n",
       "   './dataset/con_custom_dataset_2000/dff83863-6ceb-416a-9846-26b13bab1bfa.png',\n",
       "   './dataset/con_custom_dataset_2000/k73r7MJLJyav5AF6DJS6LFQnvn82.png',\n",
       "   './dataset/con_custom_dataset_2000/14e2496a-2e0d-4a52-99e1-b946e7259638.png',\n",
       "   './dataset/con_custom_dataset_2000/4b22dc75-caee-40a8-84da-d3bc8f4eca69.png',\n",
       "   './dataset/con_custom_dataset_2000/FA82s56D4CP2QAkUpv7Zlbz95NW2.png',\n",
       "   './dataset/con_custom_dataset_2000/0b4919ea-1af9-4eb4-86dc-794d2ede2a0e.png',\n",
       "   './dataset/con_custom_dataset_2000/90d19009-344d-4ffc-a999-56fc6dbf29a6.png',\n",
       "   './dataset/con_custom_dataset_2000/tOlOwYDEHCRx1QegeMOPaydVcgv1.png',\n",
       "   './dataset/con_custom_dataset_2000/j4xItLU4BzcKshmihayCM0pTooH3.png',\n",
       "   './dataset/con_custom_dataset_2000/ZuysSjckdLWhDEc9mARQwWpXfIj2.png',\n",
       "   './dataset/con_custom_dataset_2000/UTqsNsZQCThhJduOChbctH76Avj2.png',\n",
       "   './dataset/con_custom_dataset_2000/sxkvX8kn2eQnE8pbiKR58Ruea3n2.png',\n",
       "   './dataset/con_custom_dataset_2000/bd5a92e4-6ad7-443a-810d-d615fb141da3.png',\n",
       "   './dataset/con_custom_dataset_2000/dmZsPx4whFbTWD54PHQifpUZ60i2.png',\n",
       "   './dataset/con_custom_dataset_2000/NxqOq1i4PtUiqBxV1wFUII9SQj43.png',\n",
       "   './dataset/con_custom_dataset_2000/LyCZNUHMdqQtXwEox0mUHngB1Gx1.png',\n",
       "   './dataset/con_custom_dataset_2000/2d52ec1f-2dca-44ed-98cc-0f0d4a50a8f5.png',\n",
       "   './dataset/con_custom_dataset_2000/AS7IWnzwSnZ6IzknBA0G7uLYEeT2.png',\n",
       "   './dataset/con_custom_dataset_2000/BZHvK60v1LY9cBfLvYkBkJxdfNz2.png',\n",
       "   './dataset/con_custom_dataset_2000/Lz3Pu5AOFbQLTA8cIqRAmjPy8qw1.png',\n",
       "   './dataset/con_custom_dataset_2000/a5db38cf-708c-4982-b43e-0cdf604d770b.png',\n",
       "   './dataset/con_custom_dataset_2000/48bcd9fe-f974-46cc-910a-1b0307eaa336.png',\n",
       "   './dataset/con_custom_dataset_2000/935efb4e-87de-4897-9215-490c62edeaaf.png',\n",
       "   './dataset/con_custom_dataset_2000/GjdjAvKrnbRRRX1KbioknjMVLNx2.png',\n",
       "   './dataset/con_custom_dataset_2000/jLxswjEWjZQh3Wg6Dzu5VCoPhG92.png',\n",
       "   './dataset/con_custom_dataset_2000/220ee992-c9d0-43e6-b709-3e5884f914f2.png',\n",
       "   './dataset/con_custom_dataset_2000/49Ih3xxOmCT53KfYuC2BKGvSAi13.png',\n",
       "   './dataset/con_custom_dataset_2000/EBJVTXGpKucYUqz7evI887oS1162.png',\n",
       "   './dataset/con_custom_dataset_2000/f99a8315-236c-483b-8222-449dea88604a.png',\n",
       "   './dataset/con_custom_dataset_2000/IDotbUiFVpel1SpaktjKZftIVYx2.png',\n",
       "   './dataset/con_custom_dataset_2000/201800.png',\n",
       "   './dataset/con_custom_dataset_2000/229rWq0xWbfGANPmsv6F39xhjnS2.png',\n",
       "   './dataset/con_custom_dataset_2000/83270.png',\n",
       "   './dataset/con_custom_dataset_2000/4434fa81-0aa4-4597-b510-35e6e24a1fc7.png',\n",
       "   './dataset/con_custom_dataset_2000/TfuCgDdguMVRpKIAXs2kINT1Yxx1.png',\n",
       "   './dataset/con_custom_dataset_2000/b2dda608-7e53-494c-a730-f69ac50cc5de.png',\n",
       "   './dataset/con_custom_dataset_2000/aDPRTmlNZ3XLxOMP2KafJi1lnWz2.png',\n",
       "   './dataset/con_custom_dataset_2000/ImU3ZpdqkRPNAy6Ol61zoGuq8sj1.png',\n",
       "   './dataset/con_custom_dataset_2000/hqzMroQpC0QHDRI78EvbdmhgksU2.png',\n",
       "   './dataset/con_custom_dataset_2000/3607e908-a11c-4c55-99f7-e3735f4ed13d.png',\n",
       "   './dataset/con_custom_dataset_2000/142005.png',\n",
       "   './dataset/con_custom_dataset_2000/S4QDAi84LeV9bdeIeITuXAPSfVE2.png',\n",
       "   './dataset/con_custom_dataset_2000/a0b3a153-a90c-4194-922c-59fed479c757.png',\n",
       "   './dataset/con_custom_dataset_2000/68256076-fe9f-47f6-8d16-189c5322740c.png',\n",
       "   './dataset/con_custom_dataset_2000/jppvqUD1X3VH39cGDRRlmhj4wu12.png',\n",
       "   './dataset/con_custom_dataset_2000/6bd801de-dfc3-4a69-b0e9-663f476b6a5f.png',\n",
       "   './dataset/con_custom_dataset_2000/PfuMI67JW2h6z4MsRDegrhZ8FSH2.png',\n",
       "   './dataset/con_custom_dataset_2000/7f1e51a5-16c3-4682-bf9c-2feb42d8bd14.png',\n",
       "   './dataset/con_custom_dataset_2000/43ac5f3e-7fc1-4c95-a621-2542ec2e70f3.png',\n",
       "   './dataset/con_custom_dataset_2000/MeUiOR3KHJOGkU0rpWsA5oiBt672.png',\n",
       "   './dataset/con_custom_dataset_2000/A1tmg4RT7Mekg8LKxGC2agpfmdi1.png',\n",
       "   './dataset/con_custom_dataset_2000/3d8a71a7-e94f-425c-8b92-09aceddcd063.png',\n",
       "   './dataset/con_custom_dataset_2000/0537bff1-3559-41a7-9ac3-b050130bf82b.png',\n",
       "   './dataset/con_custom_dataset_2000/215c2d82-c0af-4f5b-9d1d-46ade13a8651.png',\n",
       "   './dataset/con_custom_dataset_2000/31d0ab0f-6617-40dc-b628-a225d52653a9.png',\n",
       "   './dataset/con_custom_dataset_2000/aDPRTmlNZ3XLxOMP2KafJi1lnWz2.png',\n",
       "   './dataset/con_custom_dataset_2000/4f5a4b71-46a6-42d8-aecd-7e0cc23d7d70.png',\n",
       "   './dataset/con_custom_dataset_2000/5BUKA0nZq1SKXR5iRMDNQ4xKxvi1.png',\n",
       "   './dataset/con_custom_dataset_2000/0eQAE4NgLUWYqAaMuWoO4XgIgvF2.png',\n",
       "   './dataset/con_custom_dataset_2000/9D1go0wkvuPkFebFk4uQQpcBuZw1.png',\n",
       "   './dataset/con_custom_dataset_2000/ba77dc9a-3c16-4704-9c9b-a042a4fff650.png',\n",
       "   './dataset/con_custom_dataset_2000/592cd6be-dd06-41c6-94e2-53eeb103c729.png',\n",
       "   './dataset/con_custom_dataset_2000/317cffcf-6c9e-4016-8c0e-2abf64adfd43.png',\n",
       "   './dataset/con_custom_dataset_2000/BdJTNoebc9X4fQNSUGhjBVVADvr2.png',\n",
       "   './dataset/con_custom_dataset_2000/deec748e-a51e-4a37-a7fb-47df7b035292.png',\n",
       "   './dataset/con_custom_dataset_2000/jaNAcGlkQvUYEcRFXm5gNwnOOn93.png',\n",
       "   './dataset/con_custom_dataset_2000/kufd2yIRZccwghYMiRxdc1Gc6VH2.png',\n",
       "   './dataset/con_custom_dataset_2000/2suYua5dbdh2cSreNFm8flktMEc2.png',\n",
       "   './dataset/con_custom_dataset_2000/35080944-e419-42c7-9a8d-35adbb8396a5.png',\n",
       "   './dataset/con_custom_dataset_2000/be53aed3-5771-4cb6-af3b-1c95dfed2ae5.png',\n",
       "   './dataset/con_custom_dataset_2000/cee60518-5476-42d7-8fa6-9b2e652566b4.png',\n",
       "   './dataset/con_custom_dataset_2000/dvRr97gwv7Y34YqaccErnWcYRY53.png',\n",
       "   './dataset/con_custom_dataset_2000/38ee8750-e3b0-4920-b5a0-a240ad7a1551.png',\n",
       "   './dataset/con_custom_dataset_2000/Xn3y4lqypTNVBsB1yYYkDDypizk2.png',\n",
       "   './dataset/con_custom_dataset_2000/ZIsSazVaDRZmnV0GzL164wnjQGV2.png',\n",
       "   './dataset/con_custom_dataset_2000/9dd92143-102d-4ffa-949f-9144a552d999.png',\n",
       "   './dataset/con_custom_dataset_2000/45604b95-bb79-4889-9fce-4762f657a846.png',\n",
       "   './dataset/con_custom_dataset_2000/8585af84-d559-4262-97dc-22ae1b23bb3f.png',\n",
       "   './dataset/con_custom_dataset_2000/fe8a25e2-db6b-41b8-849e-25746624c10d.png',\n",
       "   './dataset/con_custom_dataset_2000/3CwioNQVDBQ6CttLyFVRJpMpVHk2.png',\n",
       "   './dataset/con_custom_dataset_2000/Z7ZMrrVuJKSK1JEfLQjxGXI1VTq1.png',\n",
       "   './dataset/con_custom_dataset_2000/65535f56-bd8d-4304-bc5d-9b4b8b266117.png',\n",
       "   './dataset/con_custom_dataset_2000/37870.png',\n",
       "   './dataset/con_custom_dataset_2000/bef8dd3c-3465-406f-bdd5-7a2fb62db148.png',\n",
       "   './dataset/con_custom_dataset_2000/651341cb-6be7-4981-b3e0-a454dee3af64.png',\n",
       "   './dataset/con_custom_dataset_2000/XwiK6FSjg5b5RuQQFYmz67zSpYC3.png',\n",
       "   './dataset/con_custom_dataset_2000/ZThKb36K24N2UGu9fRqjlpp27da2.png',\n",
       "   './dataset/con_custom_dataset_2000/c2a8d484-f586-49f8-a3f0-a085eac10a9b.png',\n",
       "   './dataset/con_custom_dataset_2000/f54a4a13-831f-4b89-856a-d7697cda9be7.png',\n",
       "   './dataset/con_custom_dataset_2000/c01b9572-1fbf-463a-9d03-e3857ab5d55a.png',\n",
       "   './dataset/con_custom_dataset_2000/6604cf63-454a-4b13-9fc9-95eb74566e8e.png',\n",
       "   './dataset/con_custom_dataset_2000/3Hi3v8KLYxXvAp9v1fuhKtaU44G2.png',\n",
       "   './dataset/con_custom_dataset_2000/211527.png',\n",
       "   './dataset/con_custom_dataset_2000/029a668c-e4f8-43a9-9166-8259a9894d8f.png',\n",
       "   './dataset/con_custom_dataset_2000/b3e0dc79-0457-4a79-83ce-810e36215ffd.png',\n",
       "   './dataset/con_custom_dataset_2000/9777bdbe-14e6-4ae7-a46a-4022dcb51fa9.png',\n",
       "   './dataset/con_custom_dataset_2000/1918c257-a905-4ef0-8f7d-d07f441434c3.png',\n",
       "   './dataset/con_custom_dataset_2000/LyCZNUHMdqQtXwEox0mUHngB1Gx1.png',\n",
       "   './dataset/con_custom_dataset_2000/YNkZcKCX0mOhKIUO2VRQQd63ydn1.png',\n",
       "   './dataset/con_custom_dataset_2000/D246kD9hgaasRxrRMzEaQSkft032.png',\n",
       "   './dataset/con_custom_dataset_2000/GBZ88OAxQfg6NBTxjDRI0Pf59mq1.png',\n",
       "   './dataset/con_custom_dataset_2000/sWcxNpUjPcbEfjNw7RouuKrSMyx2.png',\n",
       "   './dataset/con_custom_dataset_2000/a064f3ea-4777-48b7-8012-20db7b5c5eff.png',\n",
       "   './dataset/con_custom_dataset_2000/h3Bw7lc9NfapT3IJkwjIuRI9yfa2.png',\n",
       "   './dataset/con_custom_dataset_2000/e5a0f328-8688-4c4e-b785-e168b5763e76.png',\n",
       "   './dataset/con_custom_dataset_2000/64b9b3f3-3873-4943-9b65-fa74ab82cfe5.png',\n",
       "   './dataset/con_custom_dataset_2000/mWomPz26WCRVi8sp1QneGAvTBL72.png',\n",
       "   './dataset/con_custom_dataset_2000/7cace8e5-d233-4469-95cb-3312b4e410da.png',\n",
       "   './dataset/con_custom_dataset_2000/8bd1c8a6-16f1-4336-bd8e-85aee7a5df35.png',\n",
       "   './dataset/con_custom_dataset_2000/FIgw7gymskPu3RGgk3Q6GeSH7yB3.png',\n",
       "   './dataset/con_custom_dataset_2000/YDqGf8vnHSPjo3q3PjdkQ5Pm7C12.png',\n",
       "   './dataset/con_custom_dataset_2000/156993.png',\n",
       "   './dataset/con_custom_dataset_2000/d31afee3-f8d2-45df-aa1b-e7a44d8362ea.png',\n",
       "   './dataset/con_custom_dataset_2000/8dd64abc-9040-431c-b9f4-2a70431bf832.png',\n",
       "   './dataset/con_custom_dataset_2000/chGPz3cGyvRFMdWo36WHlyEBgpx1.png',\n",
       "   './dataset/con_custom_dataset_2000/983d9e53-b10a-4674-a054-a04fdaf2de57.png',\n",
       "   './dataset/con_custom_dataset_2000/727d5520-8fc9-4c41-b112-d6f0c3ab987b.png',\n",
       "   './dataset/con_custom_dataset_2000/n7ewrIqB7wUuK1FZGGjef18jtb52.png',\n",
       "   './dataset/con_custom_dataset_2000/40bd323b-9a09-401a-a104-734d97d00ead.png',\n",
       "   './dataset/con_custom_dataset_2000/2n0fnSeTNiWvPi7aLxRrFsCGU8D2.png',\n",
       "   './dataset/con_custom_dataset_2000/a14ac807-5cf3-44d8-acd6-830dd0d086ea.png',\n",
       "   './dataset/con_custom_dataset_2000/139f436a-d29a-4e60-9902-674e33d62c28.png',\n",
       "   './dataset/con_custom_dataset_2000/I90bUGzBTMZpwCnA4eWqzKkq3362.png',\n",
       "   './dataset/con_custom_dataset_2000/2bQap3Ev6AYxMG1p45w4TJ0DrBL2.png',\n",
       "   './dataset/con_custom_dataset_2000/ca4daff0-2cdf-49c4-a65f-828a392855e6.png',\n",
       "   './dataset/con_custom_dataset_2000/ZzKpUtFGzsVEK7E1wsVGRftKdx93.png',\n",
       "   './dataset/con_custom_dataset_2000/f4d6be17-9053-4d13-91b8-fe4ab2f11ef9.png',\n",
       "   './dataset/con_custom_dataset_2000/8cf6df03-5c3f-4009-adf3-1b9d9c06333b.png',\n",
       "   './dataset/con_custom_dataset_2000/Lf4G1rx8lufXdBBwEZnD4INFtUt2.png',\n",
       "   './dataset/con_custom_dataset_2000/f880ef41-35f5-4ddc-9c48-c4e6e76dc154.png',\n",
       "   './dataset/con_custom_dataset_2000/bf2939b8-26da-4389-bc38-dcd8ccfc0ba9.png',\n",
       "   './dataset/con_custom_dataset_2000/95f6ef5e-b1f9-4375-a90c-6f6b3d1dce18.png',\n",
       "   './dataset/con_custom_dataset_2000/e7a00ee2-031b-4c32-b949-54997fa82385.png',\n",
       "   './dataset/con_custom_dataset_2000/881d892d-f3a9-4409-82d3-1f43c7ce5047.png',\n",
       "   './dataset/con_custom_dataset_2000/8b941313-6a8c-4391-bb64-b066d51c3014.png',\n",
       "   './dataset/con_custom_dataset_2000/ec031374-6386-47b1-bea5-d536cc4e9f2b.png',\n",
       "   './dataset/con_custom_dataset_2000/453d69a7-4b27-45ab-b4fa-3f3db5f190e2.png',\n",
       "   './dataset/con_custom_dataset_2000/qRSYuXkgdobbygXanSccCsfBiSK2.png',\n",
       "   './dataset/con_custom_dataset_2000/EJSbChF4LfPisqLxlUqiwYU7zy83.png',\n",
       "   './dataset/con_custom_dataset_2000/klvO2ywAeFQCIy8EijybJxHNSE92.png',\n",
       "   './dataset/con_custom_dataset_2000/D246kD9hgaasRxrRMzEaQSkft032.png',\n",
       "   './dataset/con_custom_dataset_2000/5FcCm1G9aPbjeCwnAgd7UUQFK062.png',\n",
       "   './dataset/con_custom_dataset_2000/U5bTmSt9PRfWHiGleINUHMl8cg13.png',\n",
       "   './dataset/con_custom_dataset_2000/ae4054cc-9320-4fd8-b530-54d18da3c42c.png',\n",
       "   './dataset/con_custom_dataset_2000/HdJdEWQecehLzEQcyDV7vjr85C82.png',\n",
       "   './dataset/con_custom_dataset_2000/20jWH9MjwmbBKFjhi7KkMYZn9bk1.png',\n",
       "   './dataset/con_custom_dataset_2000/11c7358f-3e94-47ce-a0e0-df3bde93a0a6.png',\n",
       "   './dataset/con_custom_dataset_2000/lkIyl8ZSqIVKiLcfXF6cez7i4o13.png',\n",
       "   './dataset/con_custom_dataset_2000/850195d2-064e-471a-a489-863afe9be7af.png',\n",
       "   './dataset/con_custom_dataset_2000/xyM7qnHrkeSfQsGyRCsomcKfMDG3.png',\n",
       "   './dataset/con_custom_dataset_2000/54065.png',\n",
       "   './dataset/con_custom_dataset_2000/xyM7qnHrkeSfQsGyRCsomcKfMDG3.png',\n",
       "   './dataset/con_custom_dataset_2000/8a223b49-86f0-432e-9a21-2ac2c1e50376.png',\n",
       "   './dataset/con_custom_dataset_2000/MF5f99sONpcYl5fYsVzh32XwSmm2.png',\n",
       "   './dataset/con_custom_dataset_2000/d005e56d-cf5d-44ca-bc7c-6b0fc2242c28.png',\n",
       "   './dataset/con_custom_dataset_2000/49e0a5ed-b15b-4f21-bfd3-4ac14f422c78.png',\n",
       "   './dataset/con_custom_dataset_2000/343ac3e1-976f-471d-b6ea-bc714971e3ed.png',\n",
       "   './dataset/con_custom_dataset_2000/n53G4OdIz7a5kkUyObojHfGBvki2.png',\n",
       "   './dataset/con_custom_dataset_2000/6a73c495-0454-4827-b4a7-c969c2aa1e6b.png',\n",
       "   './dataset/con_custom_dataset_2000/2f4ed66e-e86e-4223-8c12-04757914c9d9.png',\n",
       "   './dataset/con_custom_dataset_2000/gWIawRTh97MMSACF9Mq9braP8s12.png',\n",
       "   './dataset/con_custom_dataset_2000/a1BWeGHqK6f0KyevbStawfUvvK83.png',\n",
       "   './dataset/con_custom_dataset_2000/114587.png',\n",
       "   './dataset/con_custom_dataset_2000/c40d9556-8537-4588-8645-b5afdf63ba85.png',\n",
       "   './dataset/con_custom_dataset_2000/294acf4f-8fda-4d91-adcd-f125ba9bf623.png',\n",
       "   './dataset/con_custom_dataset_2000/fNZ3MnqiGRQlpOptmB2S09fDdYi1.png',\n",
       "   './dataset/con_custom_dataset_2000/7Xzlu6oIWGc0odCvFMQkr612jVr1.png',\n",
       "   './dataset/con_custom_dataset_2000/afa4a8a8-be28-4060-bd67-fcb7d3d90479.png',\n",
       "   './dataset/con_custom_dataset_2000/8ca4463e-23a3-4a16-9d46-7b28b968e6af.png',\n",
       "   './dataset/con_custom_dataset_2000/B4zHaFYEkYfCKyKRsjNjme1hwjk2.png',\n",
       "   './dataset/con_custom_dataset_2000/44c295f9-5176-41ce-a1e2-f94633b9b57b.png',\n",
       "   './dataset/con_custom_dataset_2000/e232d0a6-4822-45cd-a0c1-9588da7e8057.png',\n",
       "   './dataset/con_custom_dataset_2000/FRMCCawVGmh3acxTrxgPFn7M7zB2.png',\n",
       "   './dataset/con_custom_dataset_2000/07605d5e-6800-4f1c-83de-0cab036d59bd.png',\n",
       "   './dataset/con_custom_dataset_2000/0xWyChUEHYOWQLxEAL3ln4FDtUL2.png',\n",
       "   './dataset/con_custom_dataset_2000/aJDwaJhhehbgKgHpYaP0sng5rcn2.png',\n",
       "   './dataset/con_custom_dataset_2000/rb0viHBCj1fiEgWX34QcL3Zv8B02.png',\n",
       "   './dataset/con_custom_dataset_2000/5FcCm1G9aPbjeCwnAgd7UUQFK062.png',\n",
       "   './dataset/con_custom_dataset_2000/F349Of1rExaZ82Od6sp2jEzInKj1.png',\n",
       "   './dataset/con_custom_dataset_2000/7ec68310-6e7e-4029-b711-78ee518acd77.png',\n",
       "   './dataset/con_custom_dataset_2000/18bf593e-ee9b-481c-ab7d-4fb44291c53a.png',\n",
       "   './dataset/con_custom_dataset_2000/7IeLM4Wp0tOmjNfel0c9yK9gYVV2.png',\n",
       "   './dataset/con_custom_dataset_2000/110537.png',\n",
       "   './dataset/con_custom_dataset_2000/d6tJkKV7x1TFBe8WNnLhvLuoXgd2.png',\n",
       "   './dataset/con_custom_dataset_2000/f6b33953-c949-4e41-af71-3a7f48def235.png',\n",
       "   './dataset/con_custom_dataset_2000/bee54bff-7b16-4708-961c-c4f365a80240.png',\n",
       "   './dataset/con_custom_dataset_2000/8XF2UFLn3Wd6dHHMdOlcGbQiMqb2.png',\n",
       "   './dataset/con_custom_dataset_2000/1ec6dbd7-1917-4683-b4ba-f7623247285b.png',\n",
       "   './dataset/con_custom_dataset_2000/0f90851c-63cc-4fe1-872d-1b7aea06b533.png',\n",
       "   './dataset/con_custom_dataset_2000/12afa85d-16a7-40e0-8201-c4b6bd8bd4b5.png',\n",
       "   './dataset/con_custom_dataset_2000/xyDgyXrDoyXu5CFqcNe20LRjYqg1.png',\n",
       "   './dataset/con_custom_dataset_2000/4b6ac235-79ac-432e-9ad4-76a0b4d4bd15.png',\n",
       "   './dataset/con_custom_dataset_2000/1e13bf2c-1de7-4855-99a3-ec339694b7f2.png',\n",
       "   './dataset/con_custom_dataset_2000/fb8ea05a-e6fc-4083-bfb9-a045fbe89413.png',\n",
       "   './dataset/con_custom_dataset_2000/D1d4hc9MrgTDxgAhqpTgqOEJtLp2.png',\n",
       "   './dataset/con_custom_dataset_2000/85d6d6c0-2c6f-4b82-abd2-456b1196030c.png',\n",
       "   './dataset/con_custom_dataset_2000/ZmJz4NgHHRZAwzUAVvkXBOmRSTA3.png',\n",
       "   './dataset/con_custom_dataset_2000/1ec0c561-5944-4e05-a90f-d6988d449fb5.png',\n",
       "   './dataset/con_custom_dataset_2000/112397.png',\n",
       "   './dataset/con_custom_dataset_2000/pIZi88QnOcUv7rOGz8iHLw1r2XI3.png',\n",
       "   './dataset/con_custom_dataset_2000/18766.png',\n",
       "   './dataset/con_custom_dataset_2000/f8134472-e8d9-4ec9-b41a-c663fff9ce68.png',\n",
       "   './dataset/con_custom_dataset_2000/884ed4d4-7c9e-49f2-9316-6ef84d2c3987.png',\n",
       "   './dataset/con_custom_dataset_2000/e6b3442e-9768-4ec8-9258-67267a7dbe69.png',\n",
       "   './dataset/con_custom_dataset_2000/209989.png',\n",
       "   './dataset/con_custom_dataset_2000/80M2CERHxJcqnfMAjwyheSC67Ec2.png',\n",
       "   './dataset/con_custom_dataset_2000/BRi5khF6PxMORMTOXjeS6r2dNqt1.png',\n",
       "   './dataset/con_custom_dataset_2000/1gimjLEgqBdoHReixdq8HlEBfEr2.png',\n",
       "   './dataset/con_custom_dataset_2000/f73d615e-0c05-454c-a505-52ef2c1c2865.png',\n",
       "   './dataset/con_custom_dataset_2000/CrlV0ddIqdbtxNnkIhtPS5dvoX42.png',\n",
       "   './dataset/con_custom_dataset_2000/cf633584-8374-49a7-be22-e002d3625930.png',\n",
       "   './dataset/con_custom_dataset_2000/AVuwckF8igNbIhGwa7Ly8nxvIAi2.png',\n",
       "   './dataset/con_custom_dataset_2000/754065a7-8d2e-42a5-82d9-677af2a3df9c.png',\n",
       "   './dataset/con_custom_dataset_2000/Fohk6SJxcJVo4rtuGD6PMwJ9qTQ2.png',\n",
       "   './dataset/con_custom_dataset_2000/dcff89f4-f6a3-4922-860c-66b57c0ae7fd.png',\n",
       "   './dataset/con_custom_dataset_2000/U98J2q0NnycYzzUS2BYZpUa55X83.png',\n",
       "   './dataset/con_custom_dataset_2000/73cbea4e-1884-4294-ba75-e2de6a8db118.png',\n",
       "   './dataset/con_custom_dataset_2000/b85b1740-e5d1-4fac-9749-54acdbbc1b97.png',\n",
       "   './dataset/con_custom_dataset_2000/JtJEMsy1XPalUgUWmzkLyq9LWbI2.png',\n",
       "   './dataset/con_custom_dataset_2000/6a844f29-733f-429d-ab56-88c6d918e59e.png',\n",
       "   './dataset/con_custom_dataset_2000/9a3adfab-91fb-42b6-a890-4f33074e5781.png',\n",
       "   './dataset/con_custom_dataset_2000/kirLJEuOWzYOWBeTC4CRHrTTRVv1.png',\n",
       "   './dataset/con_custom_dataset_2000/af7708ed-a7e1-4793-bcdd-31b33f8e3a80.png',\n",
       "   './dataset/con_custom_dataset_2000/eSJm8nx2ygT4ZzQRzgYKpJiis1B2.png',\n",
       "   './dataset/con_custom_dataset_2000/wGREdkmvqncUfRgcia9679biMIC3.png',\n",
       "   './dataset/con_custom_dataset_2000/159445.png',\n",
       "   './dataset/con_custom_dataset_2000/OatFCKWJSXcyyGHHGozArF6mCVU2.png',\n",
       "   './dataset/con_custom_dataset_2000/a5b0f7bf-93c0-423c-8963-8f868485d3c8.png',\n",
       "   './dataset/con_custom_dataset_2000/466aPruIIbOEG3V1IaKzu5O8kun2.png',\n",
       "   './dataset/con_custom_dataset_2000/04e9d33a-f084-4c39-95a0-b97cdd278e33.png',\n",
       "   './dataset/con_custom_dataset_2000/78e927fd-986d-42a0-9361-95ac0b7e6d43.png',\n",
       "   './dataset/con_custom_dataset_2000/98592bec-69b8-4320-af36-cec656093893.png',\n",
       "   './dataset/con_custom_dataset_2000/8e483ad0-de10-4eec-8d5f-50ce528b1854.png',\n",
       "   './dataset/con_custom_dataset_2000/kiduiciSl7YBDAK9XuvaRizJUnU2.png',\n",
       "   './dataset/con_custom_dataset_2000/233d6cd5-7c9a-40a0-a865-6aa5dd1a782e.png',\n",
       "   './dataset/con_custom_dataset_2000/55bb5900-a55b-4d82-98f5-ddc7aaf97f98.png',\n",
       "   './dataset/con_custom_dataset_2000/7ad89fd2-56cb-43cd-84ea-4d3eb7b30e00.png',\n",
       "   './dataset/con_custom_dataset_2000/223125.png',\n",
       "   './dataset/con_custom_dataset_2000/154405.png',\n",
       "   './dataset/con_custom_dataset_2000/ee2aa73f-0dee-47db-b07a-9194a30c0eb7.png',\n",
       "   './dataset/con_custom_dataset_2000/k73r7MJLJyav5AF6DJS6LFQnvn82.png',\n",
       "   './dataset/con_custom_dataset_2000/9e5738c6-7649-42d5-be58-1e289796f189.png',\n",
       "   './dataset/con_custom_dataset_2000/46353.png',\n",
       "   './dataset/con_custom_dataset_2000/yWcihv2x97Rzj5Z4i72YVe1FZMG2.png',\n",
       "   './dataset/con_custom_dataset_2000/MqI9F85OYqVh99FcQEHSFPPLDka2.png',\n",
       "   './dataset/con_custom_dataset_2000/88df2ab1-8056-48de-a7a8-f2649d9cab4a.png',\n",
       "   './dataset/con_custom_dataset_2000/250869.png',\n",
       "   './dataset/con_custom_dataset_2000/zo7vWVJHp5W8ojnfNUogikQTu2K2.png',\n",
       "   './dataset/con_custom_dataset_2000/38b56291-efaf-4565-9739-05f984dcd36f.png',\n",
       "   './dataset/con_custom_dataset_2000/dWeafY7aXUadwWiTVJinx7sftGl2.png',\n",
       "   './dataset/con_custom_dataset_2000/29b6542b-6a40-474c-9eb1-787ebfbab90d.png',\n",
       "   './dataset/con_custom_dataset_2000/e7e6514f-c919-4b6d-bd8d-e8d5dd401bd0.png',\n",
       "   './dataset/con_custom_dataset_2000/771f5da4-aebb-4200-909f-b1c41a62c927.png',\n",
       "   './dataset/con_custom_dataset_2000/bdd15ab3-7347-4a29-b5f2-6a63f70bfe6a.png',\n",
       "   './dataset/con_custom_dataset_2000/6164730d-e55d-426f-a251-0f97c50ca0a9.png',\n",
       "   './dataset/con_custom_dataset_2000/7b9200c5-197d-4806-a196-16f8b95f4343.png',\n",
       "   './dataset/con_custom_dataset_2000/rg1FkHLDwXfx10ktwWfAoMdcZ9v1.png',\n",
       "   './dataset/con_custom_dataset_2000/ba64e195-cb57-4d97-9876-6949d068526f.png',\n",
       "   './dataset/con_custom_dataset_2000/98193.png',\n",
       "   './dataset/con_custom_dataset_2000/ThEx12Qb23UTenYWttvsRvioxqE2.png',\n",
       "   './dataset/con_custom_dataset_2000/94479e93-6f2a-4235-a73c-33d2fd083a42.png',\n",
       "   './dataset/con_custom_dataset_2000/148297.png',\n",
       "   './dataset/con_custom_dataset_2000/G3iIP9QRHPTItOsK6lpEMd6IQKw1.png',\n",
       "   './dataset/con_custom_dataset_2000/2d642684-3e60-4317-a01b-22e788288a53.png',\n",
       "   './dataset/con_custom_dataset_2000/5c5a7244-a43c-4abf-bfe5-7f836f8ba269.png',\n",
       "   './dataset/con_custom_dataset_2000/x9L8LSXL39VqXt0Y00ekk3G9Gqn1.png',\n",
       "   './dataset/con_custom_dataset_2000/BoCrMaxD7DVdo0nXNl14zk8ycR52.png',\n",
       "   './dataset/con_custom_dataset_2000/57e9e764-85ea-4e70-a08c-b5f0199556ea.png',\n",
       "   './dataset/con_custom_dataset_2000/5544e771-429b-4c66-bb23-691cd7802a90.png',\n",
       "   './dataset/con_custom_dataset_2000/f2b512e4-d117-438b-94bb-f41c526b722a.png',\n",
       "   './dataset/con_custom_dataset_2000/T9yi2QIANkPz28yo2bSNHTtpyJw1.png',\n",
       "   './dataset/con_custom_dataset_2000/209473.png',\n",
       "   './dataset/con_custom_dataset_2000/6139b5ef-e41c-451c-9a7f-62bf173d4982.png',\n",
       "   './dataset/con_custom_dataset_2000/cd4d4cab-246b-4ff2-9df4-08c0ca4764e1.png',\n",
       "   './dataset/con_custom_dataset_2000/t0UxwxXhJxX6jA1bJNTQYjOWeQj1.png',\n",
       "   './dataset/con_custom_dataset_2000/144891.png',\n",
       "   './dataset/con_custom_dataset_2000/0f1ad549-742e-46ab-b971-041db7ce7e78.png',\n",
       "   './dataset/con_custom_dataset_2000/3RBbwztykUWGLJ5UmBZoL5pqOtA3.png',\n",
       "   './dataset/con_custom_dataset_2000/f9057730-3290-44e4-9219-9c855ecc472c.png',\n",
       "   './dataset/con_custom_dataset_2000/a0b2c39c-8a24-4984-aa0f-009f13a700c5.png',\n",
       "   './dataset/con_custom_dataset_2000/5574d83f-0eb9-459a-ae08-123d25564976.png',\n",
       "   './dataset/con_custom_dataset_2000/JtJEMsy1XPalUgUWmzkLyq9LWbI2.png',\n",
       "   './dataset/con_custom_dataset_2000/19501.png',\n",
       "   './dataset/con_custom_dataset_2000/m6UxfLHv0nWKNqMZP2uNiGzXgKh2.png',\n",
       "   './dataset/con_custom_dataset_2000/bc474477-4762-4308-835e-733da92d712e.png',\n",
       "   './dataset/con_custom_dataset_2000/4fa3ac8d-f252-40d6-bccd-24aa5e35556c.png',\n",
       "   './dataset/con_custom_dataset_2000/32373.png',\n",
       "   './dataset/con_custom_dataset_2000/926b7df7-2e5f-4617-9d9b-2e2ce6a53e79.png',\n",
       "   './dataset/con_custom_dataset_2000/io9q2gZdUWhPDbYnJbzv8XsgCZz1.png',\n",
       "   './dataset/con_custom_dataset_2000/lkIyl8ZSqIVKiLcfXF6cez7i4o13.png',\n",
       "   './dataset/con_custom_dataset_2000/GuZQNW2ktwaUr8OxHPLN0iVGy2G2.png',\n",
       "   './dataset/con_custom_dataset_2000/1cdb6007-474b-45be-b73b-c4c9cb664092.png',\n",
       "   './dataset/con_custom_dataset_2000/T9yi2QIANkPz28yo2bSNHTtpyJw1.png',\n",
       "   './dataset/con_custom_dataset_2000/5defbb95-df43-44f4-9693-bce8330253d4.png',\n",
       "   './dataset/con_custom_dataset_2000/4a04bd04-4d26-4b77-9572-002549a83fb4.png',\n",
       "   './dataset/con_custom_dataset_2000/0zexHIcM7tQDdnFiEj2Eb0v3g212.png',\n",
       "   './dataset/con_custom_dataset_2000/93d85777-43fb-4fbf-a63b-95434133437b.png',\n",
       "   './dataset/con_custom_dataset_2000/7f6db48d-de3f-4a30-bd9a-5216b0b3261b.png',\n",
       "   './dataset/con_custom_dataset_2000/eqtebymPdFfBCm8B85n5oSR7Gja2.png',\n",
       "   './dataset/con_custom_dataset_2000/nDTky90V1seGFJaYNa0m4Io1eYQ2.png',\n",
       "   './dataset/con_custom_dataset_2000/447ac0b1-0442-4a72-b847-8c124c0d05d3.png',\n",
       "   './dataset/con_custom_dataset_2000/T02pBwp6UGagCMICnB4oiElAWUP2.png',\n",
       "   './dataset/con_custom_dataset_2000/iECdjKjowNVh89DwO6HqoRnaDtY2.png',\n",
       "   './dataset/con_custom_dataset_2000/n7ewrIqB7wUuK1FZGGjef18jtb52.png',\n",
       "   './dataset/con_custom_dataset_2000/c5a17f64-5195-463f-bd20-6c22efb88be9.png',\n",
       "   './dataset/con_custom_dataset_2000/310ff97e-9bfc-4f07-879c-e8d6cccf0989.png',\n",
       "   './dataset/con_custom_dataset_2000/beb9eff3-e2c7-4f53-981b-0abc09158dec.png',\n",
       "   './dataset/con_custom_dataset_2000/aDPRTmlNZ3XLxOMP2KafJi1lnWz2.png',\n",
       "   './dataset/con_custom_dataset_2000/n8WR98Nf2WMncTf0mEVL8lPCnp12.png',\n",
       "   './dataset/con_custom_dataset_2000/47e466dc-8e90-4b3b-b650-df008770d77e.png',\n",
       "   './dataset/con_custom_dataset_2000/15f0dd1c-286d-4663-b967-1453fbd924a4.png',\n",
       "   './dataset/con_custom_dataset_2000/qHN6U03r3TRKVZ83fmWDDQvtDuz1.png',\n",
       "   './dataset/con_custom_dataset_2000/932eedcb-32d6-43af-9e46-440098371c87.png',\n",
       "   './dataset/con_custom_dataset_2000/6387cfd3-64dd-4630-b9ed-9c5bfcdda823.png',\n",
       "   './dataset/con_custom_dataset_2000/oakTHXyve7PxMjMsDDb7VNnM0Ie2.png',\n",
       "   './dataset/con_custom_dataset_2000/2c1f98d5-4278-4bd8-830a-47f554850401.png',\n",
       "   './dataset/con_custom_dataset_2000/8XF2UFLn3Wd6dHHMdOlcGbQiMqb2.png',\n",
       "   './dataset/con_custom_dataset_2000/Gs2gwBq34aMMglNC9jqGHS3ZzIs1.png',\n",
       "   './dataset/con_custom_dataset_2000/rJtkSijv5ROjzB6LHN1XCAfe9752.png',\n",
       "   './dataset/con_custom_dataset_2000/c0597686-950b-44df-b475-c605acce8d81.png',\n",
       "   './dataset/con_custom_dataset_2000/51d68dc8-0f8e-45a4-9772-182bceab521f.png',\n",
       "   './dataset/con_custom_dataset_2000/QjBZv868nydJzk0ZzwgKDHSG6Q82.png',\n",
       "   './dataset/con_custom_dataset_2000/8f95a664-983c-4179-87c9-2d7c81b0130d.png',\n",
       "   './dataset/con_custom_dataset_2000/2wrPt2jccQdBHxWGghBMypnXxHE3.png',\n",
       "   './dataset/con_custom_dataset_2000/20545.png',\n",
       "   './dataset/con_custom_dataset_2000/BdJTNoebc9X4fQNSUGhjBVVADvr2.png',\n",
       "   './dataset/con_custom_dataset_2000/c926f81f-17c8-4446-9c0c-1ea92c76834d.png',\n",
       "   './dataset/con_custom_dataset_2000/y71bldtMZsh4Qemwyr86rXevPcH2.png',\n",
       "   './dataset/con_custom_dataset_2000/1a3b328d-e21a-400c-88c5-5670b2b32712.png',\n",
       "   './dataset/con_custom_dataset_2000/7d2e208f-4b40-43c8-8f85-e05f9671db2c.png',\n",
       "   './dataset/con_custom_dataset_2000/209474.png',\n",
       "   './dataset/con_custom_dataset_2000/72970.png',\n",
       "   './dataset/con_custom_dataset_2000/0d0f2cdf-7271-4a5f-a00a-f4878e0758b7.png',\n",
       "   './dataset/con_custom_dataset_2000/dd142b22-df4f-4503-9ea8-60634dd53215.png',\n",
       "   './dataset/con_custom_dataset_2000/0zAgZhOXaGhmL1SnhkzJOIoowKg2.png',\n",
       "   './dataset/con_custom_dataset_2000/f5a43e48-f091-4ff5-bda9-3899d06c95e3.png',\n",
       "   './dataset/con_custom_dataset_2000/ff766d0b-157a-4220-917b-c07bc7a2b48a.png',\n",
       "   './dataset/con_custom_dataset_2000/0d28f774-d9e5-4def-9684-828487688d59.png',\n",
       "   './dataset/con_custom_dataset_2000/kJgNi53JN1OeAn5d9BwbUrvUjf43.png',\n",
       "   './dataset/con_custom_dataset_2000/4sjgUTKdPXcgwHbPcqEtB6WA7XB3.png',\n",
       "   './dataset/con_custom_dataset_2000/97b08740-5bf1-4ce2-9aae-0c00ac75535e.png',\n",
       "   './dataset/con_custom_dataset_2000/67f61e58-3df6-4d96-9c81-24f3fecf56dd.png',\n",
       "   './dataset/con_custom_dataset_2000/hW4d85xBzrf1VE9gotLdeSgwXAo2.png',\n",
       "   './dataset/con_custom_dataset_2000/D1d4hc9MrgTDxgAhqpTgqOEJtLp2.png',\n",
       "   './dataset/con_custom_dataset_2000/XKn4doW0qvfsdM1VskIcJSPEhyz2.png',\n",
       "   './dataset/con_custom_dataset_2000/f4tk6UjR0Ldbnq5tRfgYhT6VGqV2.png',\n",
       "   './dataset/con_custom_dataset_2000/23699b60-7713-4d47-9335-51501f7ca85e.png',\n",
       "   './dataset/con_custom_dataset_2000/4aca30e2-4c63-4fb3-b4c5-cbc03ea54d59.png',\n",
       "   './dataset/con_custom_dataset_2000/3e5b7d48-e6de-48c1-b462-14fa88487b19.png',\n",
       "   './dataset/con_custom_dataset_2000/88724.png',\n",
       "   './dataset/con_custom_dataset_2000/ptuwF1pj4ibIoVuZmt4nKb5naiZ2.png',\n",
       "   './dataset/con_custom_dataset_2000/OIGeFP6iMJfFUhNsVZ3NQ6bsorx2.png',\n",
       "   './dataset/con_custom_dataset_2000/7CiFcbXjGcMnMjOfs4Y4ejS9LaC2.png',\n",
       "   './dataset/con_custom_dataset_2000/198411.png',\n",
       "   './dataset/con_custom_dataset_2000/84d132bb-f2d1-479a-8700-2eb97ea5cec3.png',\n",
       "   './dataset/con_custom_dataset_2000/ac06d5d9-73c2-4be3-a9e3-6d5733ac3f94.png',\n",
       "   './dataset/con_custom_dataset_2000/1ab20e86-5f70-40c4-821e-9d1e651fcf5c.png',\n",
       "   './dataset/con_custom_dataset_2000/81600381-2a3a-4e92-80b8-be59ec3cc34b.png',\n",
       "   './dataset/con_custom_dataset_2000/65JopCV7ExeP1scqYfg8nP5KjKy2.png',\n",
       "   './dataset/con_custom_dataset_2000/179c35e6-200b-4235-af43-1de38e59f061.png',\n",
       "   './dataset/con_custom_dataset_2000/KqhQ8Eo62fYCdBse8NiW1BYCtxp1.png',\n",
       "   './dataset/con_custom_dataset_2000/170015.png',\n",
       "   './dataset/con_custom_dataset_2000/IvPA6FZJ5OSNOllqglmE2mkcnz83.png',\n",
       "   './dataset/con_custom_dataset_2000/54138a2b-3f07-44aa-bc08-f254422e32ab.png',\n",
       "   './dataset/con_custom_dataset_2000/0e7cb60c-1a5d-484d-8a54-d00e775ed34c.png',\n",
       "   './dataset/con_custom_dataset_2000/HmLWj3LIICf3jJshJCvZPdw7S1I2.png',\n",
       "   './dataset/con_custom_dataset_2000/DTvGOScaAzWfSBXf8B8uF916AKP2.png',\n",
       "   './dataset/con_custom_dataset_2000/l0PKph2FdVW5pGpo8cXFg6vj2DN2.png',\n",
       "   './dataset/con_custom_dataset_2000/235dbf1e-8714-4069-a70e-30ca7018f9cf.png',\n",
       "   './dataset/con_custom_dataset_2000/FSzobvJqOXf0rI6X05cHqOiU9Mu2.png',\n",
       "   './dataset/con_custom_dataset_2000/d71cb172-577f-4606-b7ac-5d0f88e6a697.png',\n",
       "   './dataset/con_custom_dataset_2000/aec760b6-0063-4e8e-b982-2deb53aadce6.png',\n",
       "   './dataset/con_custom_dataset_2000/1bee87b1-29ec-464c-b71f-43ec1ced9f86.png',\n",
       "   './dataset/con_custom_dataset_2000/A3uqqSyxT5MpzFwc0dCpiYRV4w53.png',\n",
       "   './dataset/con_custom_dataset_2000/4ce3137f-941d-4ec5-bb2c-88d1b9fbafa3.png',\n",
       "   './dataset/con_custom_dataset_2000/128659.png',\n",
       "   './dataset/con_custom_dataset_2000/1443c84e-8b53-4bcf-910f-c55cf1fc9d30.png',\n",
       "   './dataset/con_custom_dataset_2000/hW4d85xBzrf1VE9gotLdeSgwXAo2.png',\n",
       "   './dataset/con_custom_dataset_2000/qSsnWdo1MtOiGJJmH3oOXcz90Ry1.png',\n",
       "   './dataset/con_custom_dataset_2000/oeOuvTlUMEfWPcNOA4EnTk5Bh4K2.png',\n",
       "   './dataset/con_custom_dataset_2000/5w8ZIMTjkXOMI78Q3sccWcvMKiI2.png',\n",
       "   './dataset/con_custom_dataset_2000/zpjoDhhHvJcfhSHTK9i895kmr2f1.png',\n",
       "   './dataset/con_custom_dataset_2000/7a17ecc2-83e1-40cb-8d7f-795fbeff96d8.png',\n",
       "   './dataset/con_custom_dataset_2000/727ed35a-bfe3-4063-88a3-8dd4c1d5a09b.png',\n",
       "   './dataset/con_custom_dataset_2000/119139.png',\n",
       "   './dataset/con_custom_dataset_2000/FNYflY4qOecrSQOzynZ1WDQZfCJ3.png',\n",
       "   './dataset/con_custom_dataset_2000/69ea4c5e-576b-4dc9-89e8-22a6298befc4.png',\n",
       "   './dataset/con_custom_dataset_2000/f920945a-b459-4f8b-94bb-f0ceb730e1f6.png',\n",
       "   './dataset/con_custom_dataset_2000/2vH4QMrMaMMm5oZYScY0b36Z8MC3.png',\n",
       "   './dataset/con_custom_dataset_2000/2f80dac1-4634-4d77-a18c-66b204042fdc.png',\n",
       "   './dataset/con_custom_dataset_2000/f5c41f7a-f388-4f69-b930-cb959d6730b9.png',\n",
       "   './dataset/con_custom_dataset_2000/A9YX4pRpOyW1PuuL9YjMs0kFQI03.png',\n",
       "   './dataset/con_custom_dataset_2000/L4CfZQwjukPm0evQv5dI2JDH4ov1.png',\n",
       "   './dataset/con_custom_dataset_2000/qSDQMZj4iqhaRUz1SvwiUqyUzKH3.png',\n",
       "   './dataset/con_custom_dataset_2000/60887e4b-9cf3-49be-a5d7-c5db064652a8.png',\n",
       "   './dataset/con_custom_dataset_2000/76e8a4af-709e-4311-ab93-135b90ffaf49.png',\n",
       "   './dataset/con_custom_dataset_2000/8685af7a-1542-4e7c-beec-9bff016d5945.png',\n",
       "   './dataset/con_custom_dataset_2000/HATVkqrdXhV2eIiwy5iIP7V0bjo2.png',\n",
       "   './dataset/con_custom_dataset_2000/ffd18a56-096d-40fc-9862-e5c5a8ca1fcd.png',\n",
       "   './dataset/con_custom_dataset_2000/OLMx2P1UahSgkhGyN5zLHZsXMo02.png',\n",
       "   './dataset/con_custom_dataset_2000/8f75320a-d4b2-4af5-b9c1-baf31a828000.png',\n",
       "   './dataset/con_custom_dataset_2000/d7e7dedb-6fce-419f-b74b-e19fb14acc18.png',\n",
       "   './dataset/con_custom_dataset_2000/0e43e310-9fc7-4d45-beb3-bcba1bba5492.png',\n",
       "   './dataset/con_custom_dataset_2000/VhY3VgRdsbasG2EvYQxcYDN7Fw72.png',\n",
       "   './dataset/con_custom_dataset_2000/HNQHvssRu1QD9oJKikpEcT8ENjX2.png',\n",
       "   './dataset/con_custom_dataset_2000/ZfZdmrhvFUVDL6jqf0GaWC6rzia2.png',\n",
       "   './dataset/con_custom_dataset_2000/CrlV0ddIqdbtxNnkIhtPS5dvoX42.png',\n",
       "   './dataset/con_custom_dataset_2000/zhSebSRltXd69mGoGRVeYZ5eQ3l1.png',\n",
       "   './dataset/con_custom_dataset_2000/b1c1f0c2-0d76-4964-9a3a-273c39a52ae6.png',\n",
       "   './dataset/con_custom_dataset_2000/adbdae47-8ca2-4d02-b5bf-6ee791b7ecd4.png',\n",
       "   './dataset/con_custom_dataset_2000/4kBWmFxHZVReUAO5oltW8mWLvSB2.png',\n",
       "   './dataset/con_custom_dataset_2000/MEEGIoNSX4exg4oIL3Q9MdysPJq1.png',\n",
       "   './dataset/con_custom_dataset_2000/fa319312-3eb5-4f2b-9237-387537bdd742.png',\n",
       "   './dataset/con_custom_dataset_2000/4abf0305-9a19-4925-811d-4f57ef80616a.png',\n",
       "   './dataset/con_custom_dataset_2000/kB7J1mRmiPbjIVTAgovzFwP5nQm1.png',\n",
       "   './dataset/con_custom_dataset_2000/29f51d0c-b615-4c5b-9425-ad7607de0a60.png',\n",
       "   './dataset/con_custom_dataset_2000/182041.png',\n",
       "   './dataset/con_custom_dataset_2000/0bce95b8-d563-4a8f-8078-36b8d78346e8.png',\n",
       "   './dataset/con_custom_dataset_2000/2c126ffb-f032-48d9-8eff-13e2134c29ab.png',\n",
       "   './dataset/con_custom_dataset_2000/VhY3VgRdsbasG2EvYQxcYDN7Fw72.png',\n",
       "   './dataset/con_custom_dataset_2000/668e9ab1-52ce-4f41-bb40-f7cc84c7fa7e.png',\n",
       "   './dataset/con_custom_dataset_2000/dLWRBpUZo7ddqJup4t3C2TwiVqA3.png',\n",
       "   './dataset/con_custom_dataset_2000/e5xiRpxobLe69psjXzZtitwdxpg1.png',\n",
       "   './dataset/con_custom_dataset_2000/pR9duBb0npRqbWq9Dqp5IK8w4582.png',\n",
       "   './dataset/con_custom_dataset_2000/117116.png',\n",
       "   './dataset/con_custom_dataset_2000/b7da66b1-8bf8-4878-ae0e-6926f63da423.png',\n",
       "   './dataset/con_custom_dataset_2000/Qt3Wy5zDjYfrcZtylWX0sh5niMa2.png',\n",
       "   './dataset/con_custom_dataset_2000/578d5c1c-24d4-4cb7-bc2e-f09fce8cf1c8.png',\n",
       "   './dataset/con_custom_dataset_2000/457d012a-8140-49ff-9a2f-7fedac8ae119.png',\n",
       "   './dataset/con_custom_dataset_2000/a06b8d44-7045-4336-b00c-3d3467b847ec.png',\n",
       "   './dataset/con_custom_dataset_2000/IG629UPMI0SQe0tpOKcTKCnQYr82.png',\n",
       "   './dataset/con_custom_dataset_2000/22aa69af-e8d0-4f05-9403-6b3e40d464f9.png',\n",
       "   './dataset/con_custom_dataset_2000/4c840515-6d9f-40ff-8c53-4742bd26cbb6.png',\n",
       "   './dataset/con_custom_dataset_2000/119647.png',\n",
       "   './dataset/con_custom_dataset_2000/3kUDnCX53IYe2LGsEDHwuXE8bWP2.png',\n",
       "   './dataset/con_custom_dataset_2000/5377c5c1-3932-4c7f-84fe-21d00f1e5887.png',\n",
       "   './dataset/con_custom_dataset_2000/nwXAgQmOEVRx6dZqQzc0GdmNSx22.png',\n",
       "   './dataset/con_custom_dataset_2000/11GcRROEvCReCSBzteGoFLw1GyS2.png',\n",
       "   './dataset/con_custom_dataset_2000/dedf19dc-c2c7-45f2-81eb-c110873607b9.png',\n",
       "   './dataset/con_custom_dataset_2000/zBiORuLmvGhOciaUXFeAKRhMyhj2.png',\n",
       "   './dataset/con_custom_dataset_2000/imhxF3UQDZNVEnNeyw8jOAsgtjv2.png',\n",
       "   './dataset/con_custom_dataset_2000/UWYfIxsL1LbICfxxW9dzfYDAgrD2.png',\n",
       "   './dataset/con_custom_dataset_2000/d9fb1d7c-a659-4194-831e-1a0110f57215.png',\n",
       "   './dataset/con_custom_dataset_2000/YgKJK1UxM6NMjfugUnV4mi50d732.png',\n",
       "   './dataset/con_custom_dataset_2000/bbd4ca87-d3b0-44cf-ba86-bd92565c1a27.png',\n",
       "   './dataset/con_custom_dataset_2000/a10f96f1-eb79-4e2f-a416-350b2398dd65.png',\n",
       "   './dataset/con_custom_dataset_2000/029685b5-d06b-44ea-9ad9-6f6134438c67.png',\n",
       "   './dataset/con_custom_dataset_2000/bf21f007-5d98-4231-ade3-a7af882c6083.png',\n",
       "   './dataset/con_custom_dataset_2000/356cafc9-898d-46cc-ba26-6ccd0a78c1ad.png',\n",
       "   './dataset/con_custom_dataset_2000/Hl3DXvP5aMhh2JhHFE0K2ofITyl2.png',\n",
       "   './dataset/con_custom_dataset_2000/XCgsAnLqDUW7V3qSgO6exYqSvvB3.png',\n",
       "   './dataset/con_custom_dataset_2000/gM6ePm1Ew2d0nCVAHMf2ANaKI8D2.png',\n",
       "   './dataset/con_custom_dataset_2000/f1d7f35f-a2ac-4097-b217-61646114dd8a.png',\n",
       "   './dataset/con_custom_dataset_2000/5fc851c0-beae-4b8f-bb9b-0528a737f6e3.png',\n",
       "   './dataset/con_custom_dataset_2000/p181Ap16EeNF5lB92QY7W4Q3vFc2.png',\n",
       "   './dataset/con_custom_dataset_2000/b3xN4I45RJb7nxHBRUd6Q6yx3z33.png',\n",
       "   './dataset/con_custom_dataset_2000/sQOS8ZFe4wN6uXSrjtI5ivCt92C3.png',\n",
       "   './dataset/con_custom_dataset_2000/Ap3uH6NDwMY5SymZi7OrjaUwiDQ2.png',\n",
       "   './dataset/con_custom_dataset_2000/b9d0daa6-a9ca-46ee-ab9c-aa18f68ef490.png',\n",
       "   './dataset/con_custom_dataset_2000/715af209-05d8-4279-97eb-55cd0212e6df.png',\n",
       "   './dataset/con_custom_dataset_2000/CEn02KlCBsUgUqUmf5BfUgaITG33.png',\n",
       "   './dataset/con_custom_dataset_2000/HTYeSgQx0TcOekPlmxF7AwDgMJq1.png',\n",
       "   './dataset/con_custom_dataset_2000/899c97f3-b799-43bc-a526-a3893ef7b334.png',\n",
       "   './dataset/con_custom_dataset_2000/FNjPKyX47sUuQlzMc1urJ3VB3YE3.png',\n",
       "   './dataset/con_custom_dataset_2000/MnRYYa6FN4VLwxLmTCQ05UPqmsW2.png',\n",
       "   './dataset/con_custom_dataset_2000/17ff41b3-1ac5-4689-b5f1-056851201c26.png',\n",
       "   './dataset/con_custom_dataset_2000/bae793eb-4a37-46cd-b98d-93a94cdb6fac.png',\n",
       "   './dataset/con_custom_dataset_2000/ae0dbd78-8503-4d4b-8063-9295ed31eb0c.png',\n",
       "   './dataset/con_custom_dataset_2000/4jqhl90ZLzc8L1R3yRwKYg0Ruez1.png',\n",
       "   './dataset/con_custom_dataset_2000/uZjB5Oxr9zS4xZn8rq5ubyAp17A2.png',\n",
       "   './dataset/con_custom_dataset_2000/b7db3055-d90b-4374-952b-364f90d90e01.png',\n",
       "   './dataset/con_custom_dataset_2000/43ff6ef2-d864-4640-a50a-a9293a772cc1.png',\n",
       "   './dataset/con_custom_dataset_2000/123086.png',\n",
       "   './dataset/con_custom_dataset_2000/pBB2aZFbLCMky5VPRAoWIClKN2Y2.png',\n",
       "   './dataset/con_custom_dataset_2000/5f3ced3c-8fd4-414b-85b4-9aad5b5ea8b6.png',\n",
       "   './dataset/con_custom_dataset_2000/a1535867-1b10-45ce-9cc3-294b765ac7fc.png',\n",
       "   './dataset/con_custom_dataset_2000/4ac333bc-b282-4caa-af36-b750fd2711e4.png',\n",
       "   './dataset/con_custom_dataset_2000/7d8e5507-9127-4bb5-acad-b6c6881d423a.png',\n",
       "   './dataset/con_custom_dataset_2000/d037aca5-7fce-402a-871e-d25601a69a8c.png',\n",
       "   './dataset/con_custom_dataset_2000/hLXcyDliDYXrcKna9jaDwtryhK93.png',\n",
       "   './dataset/con_custom_dataset_2000/euld60aqc2OtnNoKYx9P4WDzVM92.png',\n",
       "   './dataset/con_custom_dataset_2000/6YaTXgSnexec5CPOQg0EboLqnJJ2.png',\n",
       "   './dataset/con_custom_dataset_2000/187284.png',\n",
       "   './dataset/con_custom_dataset_2000/1417e213-083f-4a63-8e53-a5ec451f23ad.png',\n",
       "   './dataset/con_custom_dataset_2000/6T43bddKoKfG7MwnJWvrPZSsyrc2.png',\n",
       "   './dataset/con_custom_dataset_2000/DTvGOScaAzWfSBXf8B8uF916AKP2.png',\n",
       "   './dataset/con_custom_dataset_2000/y2ceQRvov6OusKPKa7okrqRHkLo2.png',\n",
       "   './dataset/con_custom_dataset_2000/6EIX9NrJ1oWfURDgcOsxZ8j4z5o2.png',\n",
       "   './dataset/con_custom_dataset_2000/7636d7a0-ba5a-41d6-99af-a41d9a0dd946.png',\n",
       "   './dataset/con_custom_dataset_2000/feabf097-bb15-4fdf-85ac-a9babbaf5d9e.png',\n",
       "   './dataset/con_custom_dataset_2000/kWZfsgqkRvaNmjgcH1lKSRIwbdp1.png',\n",
       "   './dataset/con_custom_dataset_2000/75f0ea86-e18a-4715-82d1-036752b53194.png',\n",
       "   './dataset/con_custom_dataset_2000/ee80cf94-2cfd-4df7-8c4f-b1141e76408f.png',\n",
       "   './dataset/con_custom_dataset_2000/wwedtVmUE2dHLXmCHaIXW4uGRmq2.png',\n",
       "   './dataset/con_custom_dataset_2000/fLbjQYqFGzeKly7IY7b3JqKvae02.png',\n",
       "   './dataset/con_custom_dataset_2000/K3kwl6reCLNR8G0Al3zNQVztRri2.png',\n",
       "   './dataset/con_custom_dataset_2000/8b779bba-e38e-4c72-89e6-8a015f9fc4ad.png',\n",
       "   './dataset/con_custom_dataset_2000/H6bxcGub1wOdaWWZ7kyk8KYuswf1.png',\n",
       "   './dataset/con_custom_dataset_2000/22ca9adb-72d3-4dcf-b014-8842f0edef8e.png',\n",
       "   './dataset/con_custom_dataset_2000/D2bMfCAvvSPj39z6fMToDFRh2rB3.png',\n",
       "   './dataset/con_custom_dataset_2000/pOWaDLmSdob8jJcu8rxztAhHRIo2.png',\n",
       "   './dataset/con_custom_dataset_2000/30e75026-7667-4648-adf1-c084d4838e2e.png',\n",
       "   './dataset/con_custom_dataset_2000/3FD9salx6KQf114qJSSvW74Ffi63.png',\n",
       "   './dataset/con_custom_dataset_2000/c84aea19-25b0-4b61-a8db-9650ae12456b.png',\n",
       "   './dataset/con_custom_dataset_2000/H6bxcGub1wOdaWWZ7kyk8KYuswf1.png',\n",
       "   './dataset/con_custom_dataset_2000/4wRQbTA56AgZ27o7Yq6oVWUzR7A3.png',\n",
       "   './dataset/con_custom_dataset_2000/iZa9QuNqinWMeMTdwFstfYRpw4J3.png',\n",
       "   './dataset/con_custom_dataset_2000/7536faa8-955a-4119-96dd-a4a286e66444.png',\n",
       "   './dataset/con_custom_dataset_2000/r3TFCPT4wJP2K891tXSFsIxAMPG3.png',\n",
       "   './dataset/con_custom_dataset_2000/AUwVqLrZHwO7uyyadbaMDd4XyxC3.png',\n",
       "   './dataset/con_custom_dataset_2000/3a5a7ee4-3b30-418a-b7d6-9496a90898a2.png',\n",
       "   './dataset/con_custom_dataset_2000/c7a4fff7-bd40-49d1-8bce-ac5320fcca82.png',\n",
       "   './dataset/con_custom_dataset_2000/AbtlW73g2HUScOPZZQYMD7jRlkX2.png',\n",
       "   './dataset/con_custom_dataset_2000/4daaec62-3a59-4290-99fc-0c6d363dc1cc.png',\n",
       "   './dataset/con_custom_dataset_2000/c8fyZREWSdfus5ISad0LwnMAUcQ2.png',\n",
       "   './dataset/con_custom_dataset_2000/nFYEOudV6AXO7kSQU7mjyezJXUw2.png',\n",
       "   './dataset/con_custom_dataset_2000/6e3510f8-1fb9-4bd7-b316-adddd9b5fd67.png',\n",
       "   './dataset/con_custom_dataset_2000/KzArWjCjApUOIz69TPVaZxSKQ6W2.png',\n",
       "   './dataset/con_custom_dataset_2000/f5608979-5563-4e30-804a-901f50270c60.png',\n",
       "   './dataset/con_custom_dataset_2000/214869.png',\n",
       "   './dataset/con_custom_dataset_2000/9871f9c4-8059-46a7-a9d1-b2195e2df1fd.png',\n",
       "   './dataset/con_custom_dataset_2000/42c6656b-6b1b-4d18-b2b6-7f52b072f091.png',\n",
       "   './dataset/con_custom_dataset_2000/zPFIJ3JDo7P5qIIdKvELq76kYi02.png',\n",
       "   './dataset/con_custom_dataset_2000/d59ae936-59ca-4f87-859e-6042e89deb0b.png',\n",
       "   './dataset/con_custom_dataset_2000/oPLTYiEHMFTuruwTXpbRPnlz2mr1.png',\n",
       "   './dataset/con_custom_dataset_2000/f3ab745e-7a1c-4fd0-b722-c9104b8c3054.png',\n",
       "   './dataset/con_custom_dataset_2000/f63f16b0-3b10-40ae-86bd-93a5d956fb70.png',\n",
       "   './dataset/con_custom_dataset_2000/6mCAHbyEebbEDkxHxOqihoJRkX83.png',\n",
       "   './dataset/con_custom_dataset_2000/l4rsSAm6LtVu9k22v8PJnYp1pnC3.png',\n",
       "   './dataset/con_custom_dataset_2000/37e21efb-3091-40d1-bbc2-c644c0d0d695.png',\n",
       "   './dataset/con_custom_dataset_2000/733597ed-27e5-4ada-996c-76b005416fbb.png',\n",
       "   './dataset/con_custom_dataset_2000/ZnfFHbrHryWzAq27TCTQtY7uWTm1.png',\n",
       "   './dataset/con_custom_dataset_2000/80b89e0e-8ae8-4c2a-9f7d-29f85e539ca3.png',\n",
       "   './dataset/con_custom_dataset_2000/ec62387e-2219-457e-8c7d-ccd556fa8693.png',\n",
       "   './dataset/con_custom_dataset_2000/be4e64c8-4aa4-470d-8bd9-950d97d5759a.png',\n",
       "   './dataset/con_custom_dataset_2000/2613824c-cc26-4bdb-a2fa-075a28698f61.png',\n",
       "   './dataset/con_custom_dataset_2000/bcf4a4bd-42c8-4f8a-9578-7200cbe247b2.png',\n",
       "   './dataset/con_custom_dataset_2000/dffa7256-7298-4c53-aaf5-4276f552e3fb.png',\n",
       "   './dataset/con_custom_dataset_2000/WTy9ym2R87WxEwQufFkYxRZDY0C3.png',\n",
       "   './dataset/con_custom_dataset_2000/b0fe4eea-e3e8-4ba3-a9a6-b2f20c8842eb.png',\n",
       "   './dataset/con_custom_dataset_2000/f5a36e3a-28f9-461d-970e-c95ff38f4740.png',\n",
       "   './dataset/con_custom_dataset_2000/fb296207-94c1-4aa9-af11-2959417d1271.png',\n",
       "   './dataset/con_custom_dataset_2000/d6d5725e-9733-4c3b-9071-5af44dd6570c.png',\n",
       "   './dataset/con_custom_dataset_2000/RP28VzHbG0crJB2RnboqUaM9SRm1.png',\n",
       "   './dataset/con_custom_dataset_2000/dc564c27-6499-4acc-91b2-651c33f6cc67.png',\n",
       "   './dataset/con_custom_dataset_2000/0951a755-361c-4ee1-b118-84d16c34ba82.png',\n",
       "   './dataset/con_custom_dataset_2000/nQzxtyMOM3bSn98zqwBe9C7r7MI2.png',\n",
       "   './dataset/con_custom_dataset_2000/uHPhyLsj5eYghJQOYj7iXa0fyOE3.png',\n",
       "   './dataset/con_custom_dataset_2000/Fsy78EiP9pOaFmMc6VjdI30SMvV2.png',\n",
       "   './dataset/con_custom_dataset_2000/1ctsxp37dWNbCbizTioZzpAWqJx2.png',\n",
       "   './dataset/con_custom_dataset_2000/j1vkslz2yvP8MMGGhjPnZE4CVlg2.png',\n",
       "   './dataset/con_custom_dataset_2000/400c79ab-d0ba-4e1c-9b07-aefa2c8a9179.png',\n",
       "   './dataset/con_custom_dataset_2000/Y635Ri3QFMcOKC0ckXgW2r0xJ422.png',\n",
       "   './dataset/con_custom_dataset_2000/75afea9e-cd9a-497e-bcb5-48fa6b1ad731.png',\n",
       "   './dataset/con_custom_dataset_2000/rGYIwhkeGffRq318R229inpudYg2.png',\n",
       "   './dataset/con_custom_dataset_2000/L6ScULj3LRPFLYdvs8HdWpzhkdp1.png',\n",
       "   './dataset/con_custom_dataset_2000/b14947d2-26e2-4a2c-9424-c4a19ed204e6.png',\n",
       "   './dataset/con_custom_dataset_2000/Pr79fov0a5TW5KPo0XACvIqMtO72.png',\n",
       "   './dataset/con_custom_dataset_2000/941ea4ab-a733-4bf0-ab8e-1b271eb04aaf.png',\n",
       "   './dataset/con_custom_dataset_2000/34777cb8-d0f8-4d3a-b164-21af64633e6f.png',\n",
       "   './dataset/con_custom_dataset_2000/d4e734b0-d99f-4ab4-803f-1f96b056c3aa.png',\n",
       "   './dataset/con_custom_dataset_2000/5xZE8Rq5oihwEixr96NmUmiy7zk1.png',\n",
       "   './dataset/con_custom_dataset_2000/95a19686-4491-43d2-bab6-1f213427fee9.png',\n",
       "   './dataset/con_custom_dataset_2000/VFG4CURiubQsHbGiux3co3TyL043.png',\n",
       "   './dataset/con_custom_dataset_2000/063013e3-a63f-40b5-97dc-b2e1de393b00.png',\n",
       "   './dataset/con_custom_dataset_2000/796K27lWKTfniw99yaqsYIvPrvi1.png',\n",
       "   './dataset/con_custom_dataset_2000/pOZwqBg4NsVYWASmwwhXFq4UlpC2.png',\n",
       "   './dataset/con_custom_dataset_2000/dmE3r0LE6Yg9qmCd7aubpgug9te2.png',\n",
       "   './dataset/con_custom_dataset_2000/yCzbULubsuY5sNYwje0zqNqtEB62.png',\n",
       "   './dataset/con_custom_dataset_2000/54962.png',\n",
       "   './dataset/con_custom_dataset_2000/ceff681b-711e-4e49-ab4a-93d68c99e9cf.png',\n",
       "   './dataset/con_custom_dataset_2000/809461bc-fb60-4961-927e-3593e5c00739.png',\n",
       "   './dataset/con_custom_dataset_2000/W1c56dgBsoe34ilAX8vAZs8tNcX2.png',\n",
       "   './dataset/con_custom_dataset_2000/85XodgEaKrPebeSPsJo2UFaDlWj1.png',\n",
       "   './dataset/con_custom_dataset_2000/rf6smT3AxxYh5E5LqwXPy0VHrRr1.png',\n",
       "   './dataset/con_custom_dataset_2000/z3dpsRp0YuPntedc6sgMaRfW04t2.png',\n",
       "   './dataset/con_custom_dataset_2000/297b3d6e-c7e4-471a-b676-9f5d9dea4881.png',\n",
       "   './dataset/con_custom_dataset_2000/733b088c-6524-47a6-9536-6683619830c0.png',\n",
       "   './dataset/con_custom_dataset_2000/c3bbad39-9dde-496f-bb58-b52b01d421a6.png',\n",
       "   './dataset/con_custom_dataset_2000/0ef84465-3801-49dc-89be-67365f1105a1.png',\n",
       "   './dataset/con_custom_dataset_2000/d2b3f553-a983-400f-8eae-768074204c89.png',\n",
       "   './dataset/con_custom_dataset_2000/8FnL5QpBazelNsGBTVkBuTSpMEt1.png',\n",
       "   './dataset/con_custom_dataset_2000/d9ca274e-7742-4d83-b608-a6017cb0f32d.png',\n",
       "   './dataset/con_custom_dataset_2000/uqD6aEx3ObQK5DE4GH900S42U352.png',\n",
       "   './dataset/con_custom_dataset_2000/7a372c4a-1043-43b1-a03c-f2296dfd6b68.png',\n",
       "   './dataset/con_custom_dataset_2000/DQbyjZoEh1chrWRqOkPrUsxvqpv2.png',\n",
       "   './dataset/con_custom_dataset_2000/119748.png',\n",
       "   './dataset/con_custom_dataset_2000/a03baece-440f-4026-9705-4fcb2bc9e065.png',\n",
       "   './dataset/con_custom_dataset_2000/110913.png',\n",
       "   './dataset/con_custom_dataset_2000/GuL97vIwJgQudwa7mdoEh33JZnr1.png',\n",
       "   './dataset/con_custom_dataset_2000/f6d94e3a-3038-411b-aeb4-f3297a412c18.png',\n",
       "   './dataset/con_custom_dataset_2000/xce3uTKiuNSSnnAWLJMorxTjHzI2.png',\n",
       "   './dataset/con_custom_dataset_2000/s1x2Ze9iVZNf6oFZDAZ4S9x3Cky2.png',\n",
       "   './dataset/con_custom_dataset_2000/43b32c3c-3c0d-47cd-9491-d677caf8ab2c.png',\n",
       "   './dataset/con_custom_dataset_2000/jx5lw63NN0SESDVLpYEQTHXuzti2.png',\n",
       "   './dataset/con_custom_dataset_2000/222fcb98-e58a-43ef-8881-5d0d35fa09b8.png',\n",
       "   './dataset/con_custom_dataset_2000/1yXs34J4y9VaRQSdwgm4NVWs6Y12.png',\n",
       "   './dataset/con_custom_dataset_2000/668bf940-8958-434c-912f-e35393b1b059.png',\n",
       "   './dataset/con_custom_dataset_2000/kgO3qInKxTZQeaLHAceD3knSCZf2.png',\n",
       "   './dataset/con_custom_dataset_2000/IVQDOUP0a8cwMvCkp1TnZ1FI88Z2.png',\n",
       "   './dataset/con_custom_dataset_2000/TCLyqYcr88coeJe3jnikuqyjBvs1.png',\n",
       "   './dataset/con_custom_dataset_2000/0311ee9e-b265-4767-ba51-f3fc8176747a.png',\n",
       "   './dataset/con_custom_dataset_2000/51OnFkHZ12ay7VyGlPkA3AYsB6s2.png',\n",
       "   './dataset/con_custom_dataset_2000/dd235b59-b0df-4eb7-9024-3b11e1515888.png',\n",
       "   './dataset/con_custom_dataset_2000/q3DEiVNvlkNAGJq8LoHEb1TVPao1.png',\n",
       "   './dataset/con_custom_dataset_2000/VOj0YLhyFhRIvXu1YYcWHVa8esT2.png',\n",
       "   './dataset/con_custom_dataset_2000/335c224c-170d-42a6-bb7f-15356ac98070.png',\n",
       "   './dataset/con_custom_dataset_2000/1YKLwejE06Poo1Whg1sYL3EC8sz2.png',\n",
       "   './dataset/con_custom_dataset_2000/7b7f6998-7f52-475f-8bbd-e76d80eafd91.png',\n",
       "   './dataset/con_custom_dataset_2000/26b079a2-0954-4ca4-a494-1ef64e7d93f9.png',\n",
       "   './dataset/con_custom_dataset_2000/bb3facdb-f932-49b2-a250-2c3e47e59c93.png',\n",
       "   './dataset/con_custom_dataset_2000/253081.png',\n",
       "   './dataset/con_custom_dataset_2000/PMVjl7cZfEaQD3QaKjvAG4Kidt92.png',\n",
       "   './dataset/con_custom_dataset_2000/DES9AsgsFdVdBotRJ6R46C4tc9c2.png',\n",
       "   './dataset/con_custom_dataset_2000/c4b41f5a-e799-4c5e-a346-47e63b11cf47.png',\n",
       "   './dataset/con_custom_dataset_2000/USIcgb7j6ofzFTvbjQVofvgJOoD2.png',\n",
       "   './dataset/con_custom_dataset_2000/c851af26-6f2d-4efb-b4ba-2e5f62a9d531.png',\n",
       "   './dataset/con_custom_dataset_2000/N1orpaThfMaEneE3dbfn3DZ604Z2.png',\n",
       "   './dataset/con_custom_dataset_2000/ZmJz4NgHHRZAwzUAVvkXBOmRSTA3.png',\n",
       "   './dataset/con_custom_dataset_2000/13572.png',\n",
       "   './dataset/con_custom_dataset_2000/A6cnzNlOAmM8GCpUKtC1ZwTKUiO2.png',\n",
       "   './dataset/con_custom_dataset_2000/d334df6a-c470-4a7f-bcfa-581b0f49836c.png',\n",
       "   './dataset/con_custom_dataset_2000/58947573-4518-4e13-92c4-2391f189a467.png',\n",
       "   './dataset/con_custom_dataset_2000/0424dadf-c684-458f-958c-2cb162604d05.png',\n",
       "   './dataset/con_custom_dataset_2000/110913.png',\n",
       "   './dataset/con_custom_dataset_2000/38631635-680c-41f4-b3af-328ff762558c.png',\n",
       "   './dataset/con_custom_dataset_2000/yiPghdPwkdfosD5DgpsWCwryhI12.png',\n",
       "   './dataset/con_custom_dataset_2000/6cc200db-e499-4074-906e-8c335c298fcd.png',\n",
       "   './dataset/con_custom_dataset_2000/tLK9Z6BpfWVDFV7DQKMnEy0Woo22.png',\n",
       "   './dataset/con_custom_dataset_2000/2a3d14e8-7c0f-45a8-af9e-5af8a765807a.png',\n",
       "   './dataset/con_custom_dataset_2000/bEzlLV5ZV3fSBFl6JLs1e0t3GEG2.png',\n",
       "   './dataset/con_custom_dataset_2000/dda38397-58dc-4929-b3fa-147ce9061de2.png',\n",
       "   './dataset/con_custom_dataset_2000/pVh5tOiOZHgxAWt7lBUe6pAtfEg2.png',\n",
       "   './dataset/con_custom_dataset_2000/RP28VzHbG0crJB2RnboqUaM9SRm1.png',\n",
       "   './dataset/con_custom_dataset_2000/c688d1f0-85bd-4249-9158-6e59c8cba62f.png',\n",
       "   './dataset/con_custom_dataset_2000/4mg0uaY0GYTtgo4hvP2APxs7zhL2.png',\n",
       "   './dataset/con_custom_dataset_2000/1d7dca40-b6ba-4000-919a-31a926320f5c.png',\n",
       "   './dataset/con_custom_dataset_2000/c30b7fd5-a66c-428e-846a-397babf9a55e.png',\n",
       "   './dataset/con_custom_dataset_2000/260640.png',\n",
       "   './dataset/con_custom_dataset_2000/4349d8f0-9f63-45f6-abdd-148f6168dcd8.png',\n",
       "   './dataset/con_custom_dataset_2000/O4l1a5TWsdgLlW9cECz5PnWX6UP2.png',\n",
       "   './dataset/con_custom_dataset_2000/fb1234a1-0fd5-4b9e-b1b9-688246fe2255.png',\n",
       "   './dataset/con_custom_dataset_2000/XVjp63ocWZRqJRdxCtklUfmdklm2.png',\n",
       "   './dataset/con_custom_dataset_2000/00745765-96ed-4e13-8ca7-7f6b793af78d.png',\n",
       "   './dataset/con_custom_dataset_2000/f640ebdd-d6ed-4f9a-959a-216df5a8b19f.png',\n",
       "   './dataset/con_custom_dataset_2000/837e5f72-c30f-4187-9c77-9a4f5555cc04.png',\n",
       "   './dataset/con_custom_dataset_2000/60602cb0-6ffd-4513-b596-8c050a2c43ca.png',\n",
       "   './dataset/con_custom_dataset_2000/g6wE0LPtHWdH7XAWDCGHB5Kj1So1.png',\n",
       "   './dataset/con_custom_dataset_2000/77c53c06-c378-4f0a-ac6f-294c2943e10e.png',\n",
       "   './dataset/con_custom_dataset_2000/az5zELVN7ObicxGrBLMoX8ki1LF2.png',\n",
       "   './dataset/con_custom_dataset_2000/gH4tLBmPiFWp96S6j3z0wjKYhab2.png',\n",
       "   './dataset/con_custom_dataset_2000/qRSYuXkgdobbygXanSccCsfBiSK2.png',\n",
       "   './dataset/con_custom_dataset_2000/20fmUqvUKmhKFgj9U6zVLyjNeAu2.png',\n",
       "   './dataset/con_custom_dataset_2000/HaeKJrHeBqgwClDs0LHG7oT6fHs1.png',\n",
       "   './dataset/con_custom_dataset_2000/L6ScULj3LRPFLYdvs8HdWpzhkdp1.png',\n",
       "   './dataset/con_custom_dataset_2000/uzZEBGlFZ5c1dY39rmcphVB0s1q2.png',\n",
       "   './dataset/con_custom_dataset_2000/V247RjX91RY4fxtgfeWjvBhg89s2.png',\n",
       "   './dataset/con_custom_dataset_2000/6c21a481-a625-451e-bf18-764af681d8a4.png',\n",
       "   './dataset/con_custom_dataset_2000/cd1a61c2-7efc-4b11-9ec0-a7261a050653.png',\n",
       "   './dataset/con_custom_dataset_2000/39945.png',\n",
       "   './dataset/con_custom_dataset_2000/a5e2bd69-d019-4733-acf2-5fb909efdb7d.png',\n",
       "   './dataset/con_custom_dataset_2000/80a05566-ac42-4c5c-82a5-4e21cb3ed772.png',\n",
       "   './dataset/con_custom_dataset_2000/DTvGOScaAzWfSBXf8B8uF916AKP2.png',\n",
       "   './dataset/con_custom_dataset_2000/hD3OkVpgQJNlJSQxLgzqXzHp4jr2.png',\n",
       "   './dataset/con_custom_dataset_2000/JcXAvo6g3GYZOJe6VnzkeqH0OmS2.png',\n",
       "   './dataset/con_custom_dataset_2000/JqVURYFKRWXXcxYNrqGTVte8IIJ3.png',\n",
       "   './dataset/con_custom_dataset_2000/165813.png',\n",
       "   './dataset/con_custom_dataset_2000/9bd58414-20be-4ad5-86f5-25945b487688.png',\n",
       "   './dataset/con_custom_dataset_2000/20fmUqvUKmhKFgj9U6zVLyjNeAu2.png',\n",
       "   './dataset/con_custom_dataset_2000/601de076-45ea-4681-b8ec-31dc43f6198f.png',\n",
       "   './dataset/con_custom_dataset_2000/1f0d8f3b-c4fb-4f3e-b814-4b89f5cb03be.png',\n",
       "   './dataset/con_custom_dataset_2000/fa533eb0-660e-4501-8e28-6f9a430f91bf.png',\n",
       "   './dataset/con_custom_dataset_2000/ac4ea2db-4fff-4a7f-a5fe-3a9ade2f1020.png',\n",
       "   './dataset/con_custom_dataset_2000/18bf2443-2b82-4493-a196-4d43cfd12bb0.png',\n",
       "   './dataset/con_custom_dataset_2000/PWXapCML3JSGefaCRAxKjCNp0Ps2.png',\n",
       "   './dataset/con_custom_dataset_2000/AxuYWBN0jFVLINCBqIW5aZmGCdu1.png',\n",
       "   './dataset/con_custom_dataset_2000/2c64d64f-8c01-4d39-887e-b8ce8f76e723.png',\n",
       "   './dataset/con_custom_dataset_2000/01OCEf1yB4czsq8ygRoT51s96Ba2.png',\n",
       "   './dataset/con_custom_dataset_2000/yWWeEGFFbQV2s7QqXUQjSrdp6573.png',\n",
       "   './dataset/con_custom_dataset_2000/6tVIf27diWR1deIqd3HGXxR6tlC3.png',\n",
       "   './dataset/con_custom_dataset_2000/kWZfsgqkRvaNmjgcH1lKSRIwbdp1.png',\n",
       "   './dataset/con_custom_dataset_2000/90f84f51-98b6-4a03-ac98-980663312d0f.png',\n",
       "   './dataset/con_custom_dataset_2000/KJQP1HlxlwfYbc7ogIxZ2Hklyym2.png',\n",
       "   './dataset/con_custom_dataset_2000/880d7516-b583-45c9-9012-949148905250.png',\n",
       "   './dataset/con_custom_dataset_2000/228b8f67-e43d-4ed3-80ab-7695baa48107.png',\n",
       "   './dataset/con_custom_dataset_2000/YrJHnx1PgzPLiCgkSLaQqMhyBeA2.png',\n",
       "   './dataset/con_custom_dataset_2000/60337089-8f4d-41a7-95b0-eec8135f1437.png',\n",
       "   './dataset/con_custom_dataset_2000/A9YX4pRpOyW1PuuL9YjMs0kFQI03.png',\n",
       "   './dataset/con_custom_dataset_2000/47f6705f-5669-4d9d-b81f-7a51e5afe1fb.png',\n",
       "   './dataset/con_custom_dataset_2000/db4992e2-aea0-4269-aace-4c6aedaab754.png',\n",
       "   './dataset/con_custom_dataset_2000/yBJ20a3np3a8FHUUVUnXslUoX4f1.png',\n",
       "   './dataset/con_custom_dataset_2000/DES9AsgsFdVdBotRJ6R46C4tc9c2.png',\n",
       "   './dataset/con_custom_dataset_2000/c12fe00e-207c-4b8b-99f7-054c03cffe0a.png',\n",
       "   './dataset/con_custom_dataset_2000/pbXQf83tO4bPFQ0UZjs9HDE7i7r1.png',\n",
       "   './dataset/con_custom_dataset_2000/KTaxfghl8TeziY3aZmaNxNFmUqj1.png',\n",
       "   './dataset/con_custom_dataset_2000/imhxF3UQDZNVEnNeyw8jOAsgtjv2.png',\n",
       "   './dataset/con_custom_dataset_2000/9968e30f-d8b1-4956-88e8-0cdd084db908.png',\n",
       "   './dataset/con_custom_dataset_2000/f23244ef-f228-4fde-9f82-7bd0283eca7b.png',\n",
       "   './dataset/con_custom_dataset_2000/348d1ef8-6fe9-4ded-8376-58ed4520915d.png',\n",
       "   './dataset/con_custom_dataset_2000/d310d049-0799-4485-9cf7-58f3db1a4535.png',\n",
       "   './dataset/con_custom_dataset_2000/tmguPZG0j4X5PktnGJyOYxVGtqW2.png',\n",
       "   './dataset/con_custom_dataset_2000/f3NCnb7N1qS2qraT8fdnW7BVVCm1.png',\n",
       "   './dataset/con_custom_dataset_2000/140e720d-9782-4df2-9961-b526332cd17c.png',\n",
       "   './dataset/con_custom_dataset_2000/631af4b4-a7ab-4a41-821d-4a7d76052b8d.png',\n",
       "   './dataset/con_custom_dataset_2000/3614a14b-738b-4c5b-b6f7-a502cbc66f57.png',\n",
       "   './dataset/con_custom_dataset_2000/zw0pYfsZxDShQGV2HTuont8wU8V2.png',\n",
       "   './dataset/con_custom_dataset_2000/6igAuPMTp6YCmFo4g6qp9Cj8t1k1.png',\n",
       "   './dataset/con_custom_dataset_2000/f46e2733-fa94-4e29-8144-435333b7eba9.png',\n",
       "   './dataset/con_custom_dataset_2000/f15f3c2f-d28c-4b2f-86ed-9fcd81b144dd.png',\n",
       "   './dataset/con_custom_dataset_2000/e0ce7a41-3c29-446a-a07e-baf8ec0f57e2.png',\n",
       "   './dataset/con_custom_dataset_2000/3cbb5093-53f6-45a7-8bbc-ea87c51dc88c.png',\n",
       "   './dataset/con_custom_dataset_2000/6954a96f-8c2d-4901-b75c-d2078ab2ce9b.png',\n",
       "   './dataset/con_custom_dataset_2000/13613.png',\n",
       "   './dataset/con_custom_dataset_2000/sSRc22AD2BNCZwcHILpCD0pbp5l2.png',\n",
       "   './dataset/con_custom_dataset_2000/42752827-ff60-47f3-8faf-c71aaffbb2af.png',\n",
       "   './dataset/con_custom_dataset_2000/794426fb-cfa0-4d7e-9732-6f255de1f026.png',\n",
       "   './dataset/con_custom_dataset_2000/231551.png',\n",
       "   './dataset/con_custom_dataset_2000/2a03ec01-2ce2-48ec-bfec-c28fdeeac8f5.png',\n",
       "   './dataset/con_custom_dataset_2000/5264e9e0-9d20-4a63-99c4-8dbece972a53.png',\n",
       "   './dataset/con_custom_dataset_2000/362c55e4-0bb0-4295-9dc3-be1e1e7e95a4.png',\n",
       "   './dataset/con_custom_dataset_2000/8270deab-fef1-4ab0-879c-986175fb5ce9.png',\n",
       "   './dataset/con_custom_dataset_2000/hqj98iIGSBWhlqFYLFI3p9VIe8d2.png',\n",
       "   './dataset/con_custom_dataset_2000/348ff399-d9c1-445e-aeac-15595e688346.png',\n",
       "   './dataset/con_custom_dataset_2000/CdU4pgCdFcZxtDHTpLUn1mO9J3o2.png',\n",
       "   './dataset/con_custom_dataset_2000/kDI4V7d7CNOZp3DwAK825tYAzsw2.png',\n",
       "   './dataset/con_custom_dataset_2000/1ZqxuIHSzvMHY5qUirTwgQ2uq4f2.png',\n",
       "   './dataset/con_custom_dataset_2000/NxqOq1i4PtUiqBxV1wFUII9SQj43.png',\n",
       "   './dataset/con_custom_dataset_2000/pP9m9dwWhCWPUCWS1cut17IAoxh1.png',\n",
       "   './dataset/con_custom_dataset_2000/ZaeW7vuikQgf7984JVqXYOtUQMs2.png',\n",
       "   './dataset/con_custom_dataset_2000/Lz3Pu5AOFbQLTA8cIqRAmjPy8qw1.png',\n",
       "   './dataset/con_custom_dataset_2000/080597cb-f0c1-4c83-87ad-441fc4bc23aa.png',\n",
       "   './dataset/con_custom_dataset_2000/xMOI1306iZMtFQ5FCNcYraYUSDA3.png',\n",
       "   './dataset/con_custom_dataset_2000/198962.png',\n",
       "   './dataset/con_custom_dataset_2000/10b63b88-670d-4756-a31e-80fdc84b9255.png',\n",
       "   './dataset/con_custom_dataset_2000/55b0a115-62f9-4a80-8c3b-843afcad3bb0.png',\n",
       "   './dataset/con_custom_dataset_2000/BTyDWg2XGnaMNkwlmO6ZWdd6LtF3.png',\n",
       "   './dataset/con_custom_dataset_2000/SCsTjixqXmWvyjniXtg7Pv54Amw2.png',\n",
       "   './dataset/con_custom_dataset_2000/1AuoEhB8vAfCtxTFFV0W916yBqA3.png',\n",
       "   './dataset/con_custom_dataset_2000/zLM432Aox7ZcmTXoglELTXNAVnf2.png',\n",
       "   './dataset/con_custom_dataset_2000/X7NBHQKdeDODKCzXwbmKdIbjIRG2.png',\n",
       "   './dataset/con_custom_dataset_2000/yMd8IFHnWWYgs6CNSFypl9QhFGu1.png',\n",
       "   './dataset/con_custom_dataset_2000/664729c2-18aa-41cd-9419-77544bdf4e35.png',\n",
       "   './dataset/con_custom_dataset_2000/dc104a77-0728-4a49-a33d-aff22c87e332.png',\n",
       "   './dataset/con_custom_dataset_2000/lkIyl8ZSqIVKiLcfXF6cez7i4o13.png',\n",
       "   './dataset/con_custom_dataset_2000/6df44fe6-315b-4b94-b158-01d294580953.png',\n",
       "   './dataset/con_custom_dataset_2000/9c5c39ad-41b6-4b9c-9ca2-f3828384f4f7.png',\n",
       "   './dataset/con_custom_dataset_2000/b65e27e3-2173-4916-92ac-b709096c376c.png',\n",
       "   './dataset/con_custom_dataset_2000/4d5bccba-aa55-4ce0-8715-32b94b933bef.png',\n",
       "   './dataset/con_custom_dataset_2000/rB5oGtrGYZR5uJUXEaDYrrredz13.png',\n",
       "   './dataset/con_custom_dataset_2000/Eoyf44CUffgVCPPjJJkopEyAO7k2.png',\n",
       "   './dataset/con_custom_dataset_2000/NcPBzMBBxNbjK84kdCv2z4IJzLC3.png',\n",
       "   './dataset/con_custom_dataset_2000/43807.png',\n",
       "   './dataset/con_custom_dataset_2000/PNSX8UstjlY1mxA69mrklK5N2i32.png',\n",
       "   './dataset/con_custom_dataset_2000/jEkD1ffbScZx6wVALbrAhPz3w1S2.png',\n",
       "   './dataset/con_custom_dataset_2000/n53G4OdIz7a5kkUyObojHfGBvki2.png',\n",
       "   './dataset/con_custom_dataset_2000/e5xiRpxobLe69psjXzZtitwdxpg1.png',\n",
       "   './dataset/con_custom_dataset_2000/2e0e732f-3cf5-4fb6-9762-aae4ab603d4d.png',\n",
       "   './dataset/con_custom_dataset_2000/4kBWmFxHZVReUAO5oltW8mWLvSB2.png',\n",
       "   './dataset/con_custom_dataset_2000/da4fcf8c-5d5d-4012-a714-6aff091e9e9a.png',\n",
       "   './dataset/con_custom_dataset_2000/90dbd0bd-1b9a-4f6b-914a-ae8967a28a0f.png',\n",
       "   './dataset/con_custom_dataset_2000/a32674f2-7a85-4c1f-8e4d-02697c6ea91f.png',\n",
       "   './dataset/con_custom_dataset_2000/64543497-41c9-4975-b3c5-b81632467cc4.png',\n",
       "   './dataset/con_custom_dataset_2000/e2ec6cd4-3d56-404b-93ed-cc40f77a797b.png',\n",
       "   './dataset/con_custom_dataset_2000/PNSX8UstjlY1mxA69mrklK5N2i32.png',\n",
       "   './dataset/con_custom_dataset_2000/2141bff3-f3b1-4cfb-8c8a-159e115ba642.png',\n",
       "   './dataset/con_custom_dataset_2000/30b9a320-705b-452a-9ff9-daa6f5639085.png',\n",
       "   './dataset/con_custom_dataset_2000/jaNAcGlkQvUYEcRFXm5gNwnOOn93.png',\n",
       "   './dataset/con_custom_dataset_2000/5929941d-16bc-40e4-8eec-9f30d7c50152.png',\n",
       "   './dataset/con_custom_dataset_2000/9fa0f414-5e2c-4ae7-bbbc-0330decc929e.png',\n",
       "   './dataset/con_custom_dataset_2000/cUmQfhZCLYML6b9ETc7qJAKXv1G3.png',\n",
       "   './dataset/con_custom_dataset_2000/aGOvk4ji0cVqIzCs1jHnzlw2UEy2.png',\n",
       "   './dataset/con_custom_dataset_2000/JOimE3qKkOWxkKYIDBvIpXgQ9HJ3.png',\n",
       "   './dataset/con_custom_dataset_2000/8EgdDA1cAtS34CbZDTuyPsJw51Z2.png',\n",
       "   './dataset/con_custom_dataset_2000/ql3kCRgabMZdkQabRLQNwJGLpwe2.png',\n",
       "   './dataset/con_custom_dataset_2000/2015b0e2-0925-4296-8c1e-bb87ace8466c.png',\n",
       "   './dataset/con_custom_dataset_2000/g2CeKxcydaSeP7WB3qIWjB8ZW8o1.png',\n",
       "   './dataset/con_custom_dataset_2000/oT3KtPYs2CSp3MKgmhGPbuK9QIp2.png',\n",
       "   './dataset/con_custom_dataset_2000/4122f6b8-0221-4526-908e-deecd4a8b3d3.png',\n",
       "   './dataset/con_custom_dataset_2000/MvMha3CRSic03lfuBh8UIj7k3ak1.png',\n",
       "   './dataset/con_custom_dataset_2000/KLjaX6zFZccy7YNw6CQ3fkzzwkt1.png',\n",
       "   './dataset/con_custom_dataset_2000/qr3tupBiFNgeVUX9N4ct8GigLP53.png',\n",
       "   './dataset/con_custom_dataset_2000/lMsEJjeKrHaNhvVOMzsUoCcTguY2.png',\n",
       "   './dataset/con_custom_dataset_2000/2c624181-b029-4db2-97ff-8013aa52f9b4.png',\n",
       "   './dataset/con_custom_dataset_2000/46723cf9-49fd-404f-b62f-6ba97019d921.png',\n",
       "   './dataset/con_custom_dataset_2000/53670.png',\n",
       "   './dataset/con_custom_dataset_2000/50bde838-dacb-4d59-9d62-d15bb45712bb.png',\n",
       "   './dataset/con_custom_dataset_2000/dKlVA3KkdDMiaYmW6KGRlFflMh23.png',\n",
       "   './dataset/con_custom_dataset_2000/1swHxN9xPFUu90g29z2RMCxG3oJ2.png',\n",
       "   './dataset/con_custom_dataset_2000/71d4e0e2-99b1-49bc-990f-1f7b4b5de826.png',\n",
       "   './dataset/con_custom_dataset_2000/90229ed2-857b-43c9-b7f4-f16ebd8e87a8.png',\n",
       "   './dataset/con_custom_dataset_2000/CkBv7ZLYRIcugw93mPtPkbWxC412.png',\n",
       "   './dataset/con_custom_dataset_2000/fde6e589-f1fb-4657-a98b-1dff064e821b.png',\n",
       "   './dataset/con_custom_dataset_2000/97f5ca3d-020a-475c-addd-e52d733f571b.png',\n",
       "   './dataset/con_custom_dataset_2000/9301bb41-093a-4da4-b35d-c04867a476f9.png',\n",
       "   './dataset/con_custom_dataset_2000/43fa3e44-64c7-4273-aab5-17c71b3ea17d.png',\n",
       "   './dataset/con_custom_dataset_2000/YXqC5B7h7iQZH3RubUFG6SBvZ5L2.png',\n",
       "   './dataset/con_custom_dataset_2000/164594.png',\n",
       "   './dataset/con_custom_dataset_2000/qr3tupBiFNgeVUX9N4ct8GigLP53.png',\n",
       "   './dataset/con_custom_dataset_2000/563e505c-9706-426a-a791-14a7814b4278.png',\n",
       "   './dataset/con_custom_dataset_2000/xTrcp3vDL8bkpVEICdd1YsOURKx1.png',\n",
       "   './dataset/con_custom_dataset_2000/59565.png',\n",
       "   './dataset/con_custom_dataset_2000/a8e1274a-dbce-4070-a753-4ee8ac4ef358.png',\n",
       "   './dataset/con_custom_dataset_2000/t2pbxfq394a4oOVoHrwbiUFV85G2.png',\n",
       "   './dataset/con_custom_dataset_2000/KzArWjCjApUOIz69TPVaZxSKQ6W2.png',\n",
       "   './dataset/con_custom_dataset_2000/aee6aaca-ed8f-4551-a6d7-1d8aee6839e8.png',\n",
       "   './dataset/con_custom_dataset_2000/vMGhws3ezYdCMfegQ6GXlLxmdGJ3.png',\n",
       "   './dataset/con_custom_dataset_2000/5c434e8c-d6cc-4011-b4e8-013fc8183324.png',\n",
       "   './dataset/con_custom_dataset_2000/5abe08ce-78bc-4cbe-a59a-7c48aa151f99.png',\n",
       "   './dataset/con_custom_dataset_2000/9ypQNsTsSQYlx72wxTLrHzzNoAJ2.png',\n",
       "   './dataset/con_custom_dataset_2000/ugXNiwAC4VZuidrzssew4IEViQM2.png',\n",
       "   './dataset/con_custom_dataset_2000/gXKyKSft8sWALKf93iCMzoiYitW2.png',\n",
       "   './dataset/con_custom_dataset_2000/Zs7tQ487P7hws3ur1TG53aiF0eC2.png',\n",
       "   './dataset/con_custom_dataset_2000/699446d5-5755-4f69-8b06-2b5adf9e9db0.png',\n",
       "   './dataset/con_custom_dataset_2000/Hl3DXvP5aMhh2JhHFE0K2ofITyl2.png',\n",
       "   './dataset/con_custom_dataset_2000/85c2f949-bca5-48d7-8af1-bf17175a05bc.png',\n",
       "   './dataset/con_custom_dataset_2000/afcd8d2f-54be-4743-bcee-03f9f2a33c36.png',\n",
       "   './dataset/con_custom_dataset_2000/uHPhyLsj5eYghJQOYj7iXa0fyOE3.png',\n",
       "   './dataset/con_custom_dataset_2000/7uVROrqAKPMofUKBkPhYGgeU1513.png',\n",
       "   './dataset/con_custom_dataset_2000/LyCZNUHMdqQtXwEox0mUHngB1Gx1.png',\n",
       "   './dataset/con_custom_dataset_2000/LC266EVhXoa7KP4o3naQ6oZczml1.png',\n",
       "   './dataset/con_custom_dataset_2000/63779d92-f15e-4e56-b37c-31ca4b2c9c34.png',\n",
       "   './dataset/con_custom_dataset_2000/IVQDOUP0a8cwMvCkp1TnZ1FI88Z2.png',\n",
       "   './dataset/con_custom_dataset_2000/uHPhyLsj5eYghJQOYj7iXa0fyOE3.png',\n",
       "   './dataset/con_custom_dataset_2000/NPwHtrWOTPgBVHkElhwB91qJXts1.png',\n",
       "   './dataset/con_custom_dataset_2000/ojihroSqhjfXVXHu7hB7gtI2Pl13.png',\n",
       "   './dataset/con_custom_dataset_2000/ceb00a88-f408-4537-b453-9b777f74c376.png',\n",
       "   './dataset/con_custom_dataset_2000/kKTK0LeKJlZ7gm7i6CSXcLgR9A82.png',\n",
       "   './dataset/con_custom_dataset_2000/4c68c276-82fb-4baa-aa93-8a0394179b79.png',\n",
       "   './dataset/con_custom_dataset_2000/d89c7657-6010-4137-9ec1-c152c46790c9.png',\n",
       "   './dataset/con_custom_dataset_2000/3bcZt9qehyWmDKvJeohIgrEwUsL2.png',\n",
       "   './dataset/con_custom_dataset_2000/s9pMRe4F46aJf8Jg9SvLfJoxgg93.png',\n",
       "   './dataset/con_custom_dataset_2000/44d865c0-b2e4-43c7-a472-0f840cd10eb6.png',\n",
       "   './dataset/con_custom_dataset_2000/4dbe20a7-3d54-41d9-83bb-68ea7b04d69d.png',\n",
       "   './dataset/con_custom_dataset_2000/JecvGmjPyEVl7y6fupTTp6QZvoJ2.png',\n",
       "   './dataset/con_custom_dataset_2000/ohWVIlRU80fBUC72G7JxfjOJeND2.png',\n",
       "   './dataset/con_custom_dataset_2000/e65779b8-9c8c-4c6d-bfba-a5ffc9b94595.png',\n",
       "   './dataset/con_custom_dataset_2000/0d1cc0ab-c8a1-475e-b66a-2f0a91308a0e.png',\n",
       "   './dataset/con_custom_dataset_2000/05bb63c1-bff1-4faf-bb2a-b887e7016f69.png',\n",
       "   './dataset/con_custom_dataset_2000/9znW0Bni1Scj62DqhsfoagP6HLI2.png',\n",
       "   './dataset/con_custom_dataset_2000/4e60031c-8367-42ae-bf70-af3fa029d1cc.png',\n",
       "   './dataset/con_custom_dataset_2000/613193cd-2573-4cf6-aa20-74640b53140f.png',\n",
       "   './dataset/con_custom_dataset_2000/74f2b3ee-0705-4368-a1d5-2a4dd2b7806e.png',\n",
       "   './dataset/con_custom_dataset_2000/gcBPC2UzklTmymsRwuBcQlCsb7k2.png',\n",
       "   './dataset/con_custom_dataset_2000/Pr79fov0a5TW5KPo0XACvIqMtO72.png',\n",
       "   './dataset/con_custom_dataset_2000/2b474f85-5ae2-45e5-b8a8-a536c41dfdaa.png',\n",
       "   './dataset/con_custom_dataset_2000/fLbjQYqFGzeKly7IY7b3JqKvae02.png',\n",
       "   './dataset/con_custom_dataset_2000/PAngvEIaGxXq92VkTOyQPquFkVI2.png',\n",
       "   './dataset/con_custom_dataset_2000/ce681bcd-8548-4d84-83d2-3dc896dbc715.png',\n",
       "   './dataset/con_custom_dataset_2000/Eoyf44CUffgVCPPjJJkopEyAO7k2.png',\n",
       "   './dataset/con_custom_dataset_2000/KnZ1QsM9c8UoOBXrbt4qassreFj1.png',\n",
       "   './dataset/con_custom_dataset_2000/243459.png',\n",
       "   './dataset/con_custom_dataset_2000/f9cfb8ac-a0bc-4710-b163-1cd13390e553.png',\n",
       "   './dataset/con_custom_dataset_2000/67152.png',\n",
       "   './dataset/con_custom_dataset_2000/IbHJbk0Rz4QkL9zRJzb28SEDxJj1.png',\n",
       "   './dataset/con_custom_dataset_2000/45afd727-3bab-418a-9693-3fb769210a63.png',\n",
       "   './dataset/con_custom_dataset_2000/4ad7f735-eee2-41d2-b6c4-452a38b797e4.png',\n",
       "   './dataset/con_custom_dataset_2000/kiduiciSl7YBDAK9XuvaRizJUnU2.png',\n",
       "   ...]},\n",
       " 4: {'MEL': ['./dataset/con_custom_dataset_2000/e292ff84-85b8-486e-984a-91ecceef4b90.png',\n",
       "   './dataset/con_custom_dataset_2000/b19618c2-9b19-4f8e-8840-9af52fbcefeb.png',\n",
       "   './dataset/con_custom_dataset_2000/RQqyn5Ur0gcPPYhafDG9DDfIgVh2.png',\n",
       "   './dataset/con_custom_dataset_2000/e1dfd5a6-39de-47b9-aad5-2082dfd5fd98.png',\n",
       "   './dataset/con_custom_dataset_2000/198360.png',\n",
       "   './dataset/con_custom_dataset_2000/ROuIITY6ZYQRx0FR202YGkTsmSD2.png',\n",
       "   './dataset/con_custom_dataset_2000/a50b494a-ae8e-448c-9854-202a122ed64b.png',\n",
       "   './dataset/con_custom_dataset_2000/ee82b8a5-39ed-41da-a927-7be42bb86ec7.png',\n",
       "   './dataset/con_custom_dataset_2000/49Ih3xxOmCT53KfYuC2BKGvSAi13.png',\n",
       "   './dataset/con_custom_dataset_2000/gcBPC2UzklTmymsRwuBcQlCsb7k2.png',\n",
       "   './dataset/con_custom_dataset_2000/a94a71e3-2f46-4430-8713-ab76ba946e16.png',\n",
       "   './dataset/con_custom_dataset_2000/e0d3b163-dbe0-40bb-8dff-8a3965db05e4.png',\n",
       "   './dataset/con_custom_dataset_2000/870ab142-4e98-4a4a-b1ab-198a8366719f.png',\n",
       "   './dataset/con_custom_dataset_2000/Za0aCHrh7pcZrQI3Qg5JiSOl3o42.png',\n",
       "   './dataset/con_custom_dataset_2000/917033af-c28b-4176-b3b1-b6a9efc83fd3.png',\n",
       "   './dataset/con_custom_dataset_2000/hkbGDo0CbGUStRblqwQj7KJc5lk2.png',\n",
       "   './dataset/con_custom_dataset_2000/ab532e07-7816-4e9a-b868-6b769132f762.png',\n",
       "   './dataset/con_custom_dataset_2000/913c4ae7-9245-458d-9ea2-6a2fea6042f8.png',\n",
       "   './dataset/con_custom_dataset_2000/JIafPire6JYhDR73srLG2xmrdJk1.png',\n",
       "   './dataset/con_custom_dataset_2000/707d9dbf-1621-4eac-a157-1393de750d7b.png',\n",
       "   './dataset/con_custom_dataset_2000/b3f10b47-a389-4174-b39a-496873e130e0.png',\n",
       "   './dataset/con_custom_dataset_2000/z1SsPGv63YeNLOjgDUTa2kEG1wY2.png',\n",
       "   './dataset/con_custom_dataset_2000/bEfNHdklxlOA7o1kO5GF2P8ButS2.png',\n",
       "   './dataset/con_custom_dataset_2000/sEXwP0TZ79eEEbNZR1KRl3nLvN22.png',\n",
       "   './dataset/con_custom_dataset_2000/Cxk4DW9S6fQhB2mafs7RBT6HCLt1.png',\n",
       "   './dataset/con_custom_dataset_2000/87356c3b-bd30-4530-92e3-0badde2485a5.png',\n",
       "   './dataset/con_custom_dataset_2000/4b9df238-0be3-43bd-aac2-719cf69c853c.png',\n",
       "   './dataset/con_custom_dataset_2000/64f4015a-642d-4af3-9134-f8fbb2af8403.png',\n",
       "   './dataset/con_custom_dataset_2000/CAf8ILsDpQMeTPPLwi7nFlgRT2t1.png',\n",
       "   './dataset/con_custom_dataset_2000/e94675ce-2566-4dae-a89c-02b759f88dbe.png',\n",
       "   './dataset/con_custom_dataset_2000/3e41a46c-fe65-4403-a335-ba41ebf5fc46.png',\n",
       "   './dataset/con_custom_dataset_2000/yWp5tMRFDzbbeEe2csKNd909fqh1.png',\n",
       "   './dataset/con_custom_dataset_2000/vX3NZt9tyQUhXgS4dlz55VGEMdU2.png',\n",
       "   './dataset/con_custom_dataset_2000/DXIw27Fbg6PgosoH84rFPOVaQ5q2.png',\n",
       "   './dataset/con_custom_dataset_2000/037a31d1-435a-45ba-b118-5198b451ad07.png',\n",
       "   './dataset/con_custom_dataset_2000/1bc4bc67-c44d-4f25-9387-5f6901c83cf1.png',\n",
       "   './dataset/con_custom_dataset_2000/e6dc345e-3288-491b-a1a1-bd2f05585147.png',\n",
       "   './dataset/con_custom_dataset_2000/01OCEf1yB4czsq8ygRoT51s96Ba2.png',\n",
       "   './dataset/con_custom_dataset_2000/bf9506ec-7dc1-49aa-99e7-6e9347a6022b.png',\n",
       "   './dataset/con_custom_dataset_2000/PzAQz6zDDcPbdSePDK02jGd4Rm42.png',\n",
       "   './dataset/con_custom_dataset_2000/YqPKZEEwQ6N51vs5ztJn2a1nVBN2.png',\n",
       "   './dataset/con_custom_dataset_2000/800e4b85-34ac-48bc-af6c-84590fb6b482.png',\n",
       "   './dataset/con_custom_dataset_2000/jvrGsRzHKEU4izNgLFGitM7AZVK2.png',\n",
       "   './dataset/con_custom_dataset_2000/EXFN8iHqxjXW7ApntIPI2qxQiMz2.png',\n",
       "   './dataset/con_custom_dataset_2000/e9da4ad2-8341-4c0c-acd4-a160e06ba3e1.png',\n",
       "   './dataset/con_custom_dataset_2000/0b1a540a-b6e7-4a2f-8796-28bd04554a36.png',\n",
       "   './dataset/con_custom_dataset_2000/bTiu7RJ0JkPVSja5Sr5YSHBulQ43.png',\n",
       "   './dataset/con_custom_dataset_2000/0b37d848-3403-494d-8c69-be5011c16dd2.png',\n",
       "   './dataset/con_custom_dataset_2000/e29002b3-d80e-46a9-9abf-30a09225b559.png',\n",
       "   './dataset/con_custom_dataset_2000/818197ee-acaf-48e1-8776-1c70942a4ced.png',\n",
       "   './dataset/con_custom_dataset_2000/imhxF3UQDZNVEnNeyw8jOAsgtjv2.png',\n",
       "   './dataset/con_custom_dataset_2000/OL4W8fQRM8POiI9lasCM9tgHUvG2.png',\n",
       "   './dataset/con_custom_dataset_2000/04c3c6ef-d087-42ea-9205-863e6abeeb79.png',\n",
       "   './dataset/con_custom_dataset_2000/05e45cc5-76b2-46d8-b260-93a7e6da9229.png',\n",
       "   './dataset/con_custom_dataset_2000/3RBbwztykUWGLJ5UmBZoL5pqOtA3.png',\n",
       "   './dataset/con_custom_dataset_2000/0080c4be-010c-4037-bba2-743437db3beb.png',\n",
       "   './dataset/con_custom_dataset_2000/c6f25b13-1f9e-46e2-86ec-030797c8f940.png',\n",
       "   './dataset/con_custom_dataset_2000/FLhjsgqrgQMKwNt5iEryxG5sDlW2.png',\n",
       "   './dataset/con_custom_dataset_2000/hkALlH5TJ9Pj4tbOCoXyVPtOIBf1.png',\n",
       "   './dataset/con_custom_dataset_2000/dec43a47-c7ff-4476-9da1-fffb446b119f.png',\n",
       "   './dataset/con_custom_dataset_2000/yWWeEGFFbQV2s7QqXUQjSrdp6573.png',\n",
       "   './dataset/con_custom_dataset_2000/kJgNi53JN1OeAn5d9BwbUrvUjf43.png',\n",
       "   './dataset/con_custom_dataset_2000/52eda7fc-cc69-4fd0-b2ae-14f9ed6e4862.png',\n",
       "   './dataset/con_custom_dataset_2000/2eb3d755-5213-499d-a250-7fe26cd24d60.png',\n",
       "   './dataset/con_custom_dataset_2000/f767b88e-d77a-488e-b553-6cd454930c0c.png',\n",
       "   './dataset/con_custom_dataset_2000/be68accd-fa07-454a-8270-2a15cef4f53e.png',\n",
       "   './dataset/con_custom_dataset_2000/l6xp4FcV20QYTrj0uF0GkKnXY1x2.png',\n",
       "   './dataset/con_custom_dataset_2000/a82f479f-581d-4e2b-91d8-2e219d6b8d56.png',\n",
       "   './dataset/con_custom_dataset_2000/cpkq5jRCUDOvtB7vROcz6LuOAzr2.png',\n",
       "   './dataset/con_custom_dataset_2000/e8cf7993-964c-4949-8aaa-ae973eafd7fa.png',\n",
       "   './dataset/con_custom_dataset_2000/4f4dd2eb-62eb-449d-a861-d3dcddc4cadd.png',\n",
       "   './dataset/con_custom_dataset_2000/PmbK8Rb4ohNWp4KwTtlU8xzxFGs2.png',\n",
       "   './dataset/con_custom_dataset_2000/a311cc0f-2017-48cc-b8ea-ad4559657922.png',\n",
       "   './dataset/con_custom_dataset_2000/0VpjgRGE5kR8uTEhksBgvFR3xlA2.png',\n",
       "   './dataset/con_custom_dataset_2000/f24a7779-d819-4fa5-98d8-bb7384d4d475.png',\n",
       "   './dataset/con_custom_dataset_2000/047595d0-4e3f-40b8-9270-d86697763e49.png',\n",
       "   './dataset/con_custom_dataset_2000/Gcs79sztbbauDn62MJa2xq2jrqT2.png',\n",
       "   './dataset/con_custom_dataset_2000/142593.png',\n",
       "   './dataset/con_custom_dataset_2000/jsYI5hPpF3XJ6rW8EQjUTCfPNZ62.png',\n",
       "   './dataset/con_custom_dataset_2000/7b76381e-4981-4e09-b59a-7ae630407162.png',\n",
       "   './dataset/con_custom_dataset_2000/e7b2a269-a636-476a-b8e9-1b0a2e049f06.png',\n",
       "   './dataset/con_custom_dataset_2000/RJCywZ62exQqXX42zLDhAuaVjdt1.png',\n",
       "   './dataset/con_custom_dataset_2000/738dc3d2-0455-4638-9193-21be56a7a964.png',\n",
       "   './dataset/con_custom_dataset_2000/89e7f617-6a3e-44ba-b704-4ee4fbab9be0.png',\n",
       "   './dataset/con_custom_dataset_2000/6462d540-48bc-410b-b08e-cdf0b45ee118.png',\n",
       "   './dataset/con_custom_dataset_2000/hTXACBsoo2XasDWx8U9y7kzs8rc2.png',\n",
       "   './dataset/con_custom_dataset_2000/2cdb5342-413d-4d5c-b326-8e8186329c70.png',\n",
       "   './dataset/con_custom_dataset_2000/d222550d-c707-4c66-97a6-bfb3b22ccdc6.png',\n",
       "   './dataset/con_custom_dataset_2000/ok6CEL3947hifXVHHmCDt35a7D32.png',\n",
       "   './dataset/con_custom_dataset_2000/c540722a-226c-4ab7-85e1-5695808dae43.png',\n",
       "   './dataset/con_custom_dataset_2000/OL4W8fQRM8POiI9lasCM9tgHUvG2.png',\n",
       "   './dataset/con_custom_dataset_2000/ptuwF1pj4ibIoVuZmt4nKb5naiZ2.png',\n",
       "   './dataset/con_custom_dataset_2000/ba3e704b-3501-4d85-923f-0c9632b547e8.png',\n",
       "   './dataset/con_custom_dataset_2000/adf406f5-b1bc-432a-ae5a-78c52fc95292.png',\n",
       "   './dataset/con_custom_dataset_2000/760c23bb-c73e-4e3b-8657-8a8c854f3459.png',\n",
       "   './dataset/con_custom_dataset_2000/19b6e2ab-ba74-4760-a4f3-b97cb0d7dece.png',\n",
       "   './dataset/con_custom_dataset_2000/6721c22f-2fc4-44bc-b805-95a014d0a9f6.png',\n",
       "   './dataset/con_custom_dataset_2000/jNYjkOK2b1hQBv2w81zgW0TVhM03.png',\n",
       "   './dataset/con_custom_dataset_2000/72165ef1-7653-429f-9404-80cf68d68e6e.png',\n",
       "   './dataset/con_custom_dataset_2000/0drfnqVwccT6UmgVLQEuyVglDC23.png',\n",
       "   './dataset/con_custom_dataset_2000/f88cdb73-c0c6-4996-bd6a-a1382c03e1c3.png',\n",
       "   './dataset/con_custom_dataset_2000/W2xUj9JB4DRbbn5PaUeIiYsV0XP2.png',\n",
       "   './dataset/con_custom_dataset_2000/DYiC8Ym6NBgFGQMSLy104RVs4b43.png',\n",
       "   './dataset/con_custom_dataset_2000/8697cd69-ad22-4518-97a2-b60e4df47b16.png',\n",
       "   './dataset/con_custom_dataset_2000/260ef2a5-b9d2-41e7-afc7-bed26e7af5b9.png',\n",
       "   './dataset/con_custom_dataset_2000/ZDuodssisIdOfarHk3ie8RJVIGj1.png',\n",
       "   './dataset/con_custom_dataset_2000/50665.png',\n",
       "   './dataset/con_custom_dataset_2000/f0d937be-e63f-4c3a-b705-99a912dbab07.png',\n",
       "   './dataset/con_custom_dataset_2000/d4314ab6-8ed8-471a-afa0-df3c0ba3ad3a.png',\n",
       "   './dataset/con_custom_dataset_2000/f6f87792-9e59-4dfd-a523-417242d4aa74.png',\n",
       "   './dataset/con_custom_dataset_2000/1d3f954c-8d15-4279-832b-e2487b96750f.png',\n",
       "   './dataset/con_custom_dataset_2000/qZIdh9mBr0MSVKd4TuYHazCdVm22.png',\n",
       "   './dataset/con_custom_dataset_2000/c0c08c2b-8106-4b57-aee4-551f288a9623.png',\n",
       "   './dataset/con_custom_dataset_2000/156026.png',\n",
       "   './dataset/con_custom_dataset_2000/edce4023-5da8-4698-95ed-7dca251a6679.png',\n",
       "   './dataset/con_custom_dataset_2000/6fc9ba8b-7142-4d9e-8bba-4cc8657509ac.png',\n",
       "   './dataset/con_custom_dataset_2000/jtlvbJgDl6Sum26M9Tm6uZIXr6u2.png',\n",
       "   './dataset/con_custom_dataset_2000/Gkp0AAA7iJakBNaPSDfnA5eEUoN2.png',\n",
       "   './dataset/con_custom_dataset_2000/K0LmigcBKlRdTAlrCyfmBJaQJwk1.png',\n",
       "   './dataset/con_custom_dataset_2000/88b67257-641f-433d-91a3-1d58c8a5ec07.png',\n",
       "   './dataset/con_custom_dataset_2000/vus9YM3VqCXq3QckSGoeHJs6pBN2.png',\n",
       "   './dataset/con_custom_dataset_2000/W42AKc6SZlNz1NOBAJrCpa3Io0E2.png',\n",
       "   './dataset/con_custom_dataset_2000/XKn4doW0qvfsdM1VskIcJSPEhyz2.png',\n",
       "   './dataset/con_custom_dataset_2000/b2703960-6160-47db-af23-04c4cb3fd187.png',\n",
       "   './dataset/con_custom_dataset_2000/CkBv7ZLYRIcugw93mPtPkbWxC412.png',\n",
       "   './dataset/con_custom_dataset_2000/KFtd9lY6jph5cl2VrZ9Nv8Jng7p1.png',\n",
       "   './dataset/con_custom_dataset_2000/odZaQSfT6QRKhAhPRikjU7y7L9Q2.png',\n",
       "   './dataset/con_custom_dataset_2000/eda82a84-047c-4ea8-b91a-9460dcca5d15.png',\n",
       "   './dataset/con_custom_dataset_2000/abd6c883-84ef-461f-825e-d22412524d2e.png',\n",
       "   './dataset/con_custom_dataset_2000/24598840-e2fe-4840-b617-b1b253b971f4.png',\n",
       "   './dataset/con_custom_dataset_2000/661a1eda-c9f5-464a-aa92-f0b68ec24ed2.png',\n",
       "   './dataset/con_custom_dataset_2000/51376.png',\n",
       "   './dataset/con_custom_dataset_2000/yZtohTVxlSauCUNuIIEUcdIA2TJ3.png',\n",
       "   './dataset/con_custom_dataset_2000/yiVfb7qpTOXWhTQITq6P4zqGtXt2.png',\n",
       "   './dataset/con_custom_dataset_2000/RJCywZ62exQqXX42zLDhAuaVjdt1.png',\n",
       "   './dataset/con_custom_dataset_2000/P5mI5OKQZ3WbFo8FkU7VuvAwUwz2.png',\n",
       "   './dataset/con_custom_dataset_2000/c9780b44-da84-4146-8b1c-845d2d849a0d.png',\n",
       "   './dataset/con_custom_dataset_2000/1fb47adc-d640-4c2b-a6f2-7e1078caad81.png',\n",
       "   './dataset/con_custom_dataset_2000/O7eAgc4vq5fZQmGh60gDaMxOjgz2.png',\n",
       "   './dataset/con_custom_dataset_2000/ZTlauEp4EjMLV0LKWsxXnRopWvC3.png',\n",
       "   './dataset/con_custom_dataset_2000/PWXapCML3JSGefaCRAxKjCNp0Ps2.png',\n",
       "   './dataset/con_custom_dataset_2000/31euepHD0deCxTd2nJ1wzXCk5EF3.png',\n",
       "   './dataset/con_custom_dataset_2000/204115.png',\n",
       "   './dataset/con_custom_dataset_2000/bc86f85c-0b5d-48cf-9c7c-08712e4c21c2.png',\n",
       "   './dataset/con_custom_dataset_2000/1woiacXdMmXUQiMWESqr83uk1NV2.png',\n",
       "   './dataset/con_custom_dataset_2000/pitYbc063SXoFPZmDTvyI6yGxLm2.png',\n",
       "   './dataset/con_custom_dataset_2000/5e38be03-30af-433c-acf4-4d77f4416301.png',\n",
       "   './dataset/con_custom_dataset_2000/ZzKpUtFGzsVEK7E1wsVGRftKdx93.png',\n",
       "   './dataset/con_custom_dataset_2000/b9a0045a-0f0b-479c-8771-3624068003d8.png',\n",
       "   './dataset/con_custom_dataset_2000/95dee56b-2ebb-48ec-acd7-2bb4ad631679.png',\n",
       "   './dataset/con_custom_dataset_2000/879f956b-5241-449f-92d2-6d6e059582c6.png',\n",
       "   './dataset/con_custom_dataset_2000/51173.png',\n",
       "   './dataset/con_custom_dataset_2000/a41ca451-b25f-4caf-9bec-f3a88b39a6f0.png',\n",
       "   './dataset/con_custom_dataset_2000/89777dd8-4d37-4c64-81cd-a1c38108d689.png',\n",
       "   './dataset/con_custom_dataset_2000/vSVws79jhxXr1iQrtbvhchHaHCE3.png',\n",
       "   './dataset/con_custom_dataset_2000/euLpkmzCb1cGb2gkZRQ6gh7hGsC3.png',\n",
       "   './dataset/con_custom_dataset_2000/MQSayo88HXcUcse3I8S4Fp3V52C2.png',\n",
       "   './dataset/con_custom_dataset_2000/2e41a2bd-6462-407d-8078-9f7b86a54f52.png',\n",
       "   './dataset/con_custom_dataset_2000/Q82KnSDEDTc0w7CDj1fSBntRTyg1.png',\n",
       "   './dataset/con_custom_dataset_2000/e4b783ff-5641-4678-bd34-c88a9731a237.png',\n",
       "   './dataset/con_custom_dataset_2000/48d78117-c638-41e3-8bf3-3b267c5e6925.png',\n",
       "   './dataset/con_custom_dataset_2000/OUFazbHbbtRTQcRP5BWBKzeZpvw1.png',\n",
       "   './dataset/con_custom_dataset_2000/z7RqPeGUQ4X8rxD6ftMf9i4ZE3w2.png',\n",
       "   './dataset/con_custom_dataset_2000/vfh8Qe0ILbWxIEeQGC0GWyLe3yt2.png',\n",
       "   './dataset/con_custom_dataset_2000/yxCtaUoJBHXnzfMfxfA9rJGR5ue2.png',\n",
       "   './dataset/con_custom_dataset_2000/a3529398-f357-4c11-bec3-c2e30088df2e.png',\n",
       "   './dataset/con_custom_dataset_2000/tOlOwYDEHCRx1QegeMOPaydVcgv1.png',\n",
       "   './dataset/con_custom_dataset_2000/12fa0fa6-789a-401b-ac9c-4a275044a0d9.png',\n",
       "   './dataset/con_custom_dataset_2000/252248.png',\n",
       "   './dataset/con_custom_dataset_2000/9ypQNsTsSQYlx72wxTLrHzzNoAJ2.png',\n",
       "   './dataset/con_custom_dataset_2000/c62a7d17-49e8-4f21-b862-230c26335e4f.png',\n",
       "   './dataset/con_custom_dataset_2000/edf0f133-448e-4c9d-9c01-53b1a4c203f2.png',\n",
       "   './dataset/con_custom_dataset_2000/CDJLmx0CWdNRiAvgFwn2aHonth43.png',\n",
       "   './dataset/con_custom_dataset_2000/d071fcb6-719f-43c5-8cd1-ec835a4a94cd.png',\n",
       "   './dataset/con_custom_dataset_2000/VmmaLwCF43PJqiCnKPXO73VZJwB2.png',\n",
       "   './dataset/con_custom_dataset_2000/8967ab40-2fa8-46c5-aabe-7cd3e4a858d2.png',\n",
       "   './dataset/con_custom_dataset_2000/NjtxNlfMRXSjUPgbkzzV7CCxvRB2.png',\n",
       "   './dataset/con_custom_dataset_2000/gWIawRTh97MMSACF9Mq9braP8s12.png',\n",
       "   './dataset/con_custom_dataset_2000/19VBCVaFPcWROz6wWui9G9IU9K12.png',\n",
       "   './dataset/con_custom_dataset_2000/1R9RcXlOOLhCmAYuqdRSGP3b0OD3.png',\n",
       "   './dataset/con_custom_dataset_2000/VLrOagtGVFYxWiEnMVFn1BnSWHM2.png',\n",
       "   './dataset/con_custom_dataset_2000/bk1oHM5vebe9ZNtgyRq54UVOIQR2.png',\n",
       "   './dataset/con_custom_dataset_2000/01OCEf1yB4czsq8ygRoT51s96Ba2.png',\n",
       "   './dataset/con_custom_dataset_2000/1e40fe69-d632-4c96-8e8d-516c111ca47f.png',\n",
       "   './dataset/con_custom_dataset_2000/7b1ec96d-b649-4c95-a8cf-1582a834e2c3.png',\n",
       "   './dataset/con_custom_dataset_2000/85iNcV2z6MNT3FrygbEC4fuGrIu1.png',\n",
       "   './dataset/con_custom_dataset_2000/UxRRwXJtdjRZI4pgQcHHURVa33n2.png',\n",
       "   './dataset/con_custom_dataset_2000/52ffbed1-7126-454b-a06c-6cd8bc4a03c2.png',\n",
       "   './dataset/con_custom_dataset_2000/JiWX55SWdOeOspm0SChcEMFURkJ2.png',\n",
       "   './dataset/con_custom_dataset_2000/4022a6ec-bae3-4167-aeb6-2d0a45956eab.png',\n",
       "   './dataset/con_custom_dataset_2000/96f8e0a8-1261-403e-9823-69bbb1bffe2e.png',\n",
       "   './dataset/con_custom_dataset_2000/HRtlc2Oedzd7Q70BgFjlJGMbyPL2.png',\n",
       "   './dataset/con_custom_dataset_2000/7d32049e-6036-4921-ae6c-d792a1e1094a.png',\n",
       "   './dataset/con_custom_dataset_2000/UV965HIG9saPO9HjKNFSm2aFeBt2.png',\n",
       "   './dataset/con_custom_dataset_2000/0951a755-361c-4ee1-b118-84d16c34ba82.png',\n",
       "   './dataset/con_custom_dataset_2000/lkIyl8ZSqIVKiLcfXF6cez7i4o13.png',\n",
       "   './dataset/con_custom_dataset_2000/JdsUKe6JKBdfU7NZC6KeU0z2xKh1.png',\n",
       "   './dataset/con_custom_dataset_2000/ae01b179-8664-442a-a5f5-da47e0b3c5ff.png',\n",
       "   './dataset/con_custom_dataset_2000/260ffed4-3b4d-4a85-a3c5-03e679613cca.png',\n",
       "   './dataset/con_custom_dataset_2000/AdRRprqo5ZUuLMOPs61ZKS6vrdU2.png',\n",
       "   './dataset/con_custom_dataset_2000/128659.png',\n",
       "   './dataset/con_custom_dataset_2000/164243.png',\n",
       "   './dataset/con_custom_dataset_2000/Zs8oTVcUPTc8pk9UES7sFEhRDxX2.png',\n",
       "   './dataset/con_custom_dataset_2000/2TOBsGCz6ZUYjZ1DKt3C0ae2VlZ2.png',\n",
       "   './dataset/con_custom_dataset_2000/3247e75c-cf60-4401-a50d-d55aa0b74be6.png',\n",
       "   './dataset/con_custom_dataset_2000/8128d11d-1166-49aa-9a4d-362f94b7ba5c.png',\n",
       "   './dataset/con_custom_dataset_2000/763daa74-2f14-4de4-9c3d-9b9b0347da58.png',\n",
       "   './dataset/con_custom_dataset_2000/eiJE5pZGVMOmSsG6dLBLxAuXNzf2.png',\n",
       "   './dataset/con_custom_dataset_2000/140034.png',\n",
       "   './dataset/con_custom_dataset_2000/gFfiG6fg9dgWt96aPPuIdtFAYc53.png',\n",
       "   './dataset/con_custom_dataset_2000/1yXs34J4y9VaRQSdwgm4NVWs6Y12.png',\n",
       "   './dataset/con_custom_dataset_2000/q3DEiVNvlkNAGJq8LoHEb1TVPao1.png',\n",
       "   './dataset/con_custom_dataset_2000/FYINlRe3mfOO34R8QcT3skESVRl1.png',\n",
       "   './dataset/con_custom_dataset_2000/B8eucE77s9Tg8wfQCZIv9JCTDrj2.png',\n",
       "   './dataset/con_custom_dataset_2000/JdsUKe6JKBdfU7NZC6KeU0z2xKh1.png',\n",
       "   './dataset/con_custom_dataset_2000/8a7a47d9-7bcc-4eb2-9b93-bf2bf0eccba8.png',\n",
       "   './dataset/con_custom_dataset_2000/i0reS77d27TfHnKANrEGHVZXkLw2.png',\n",
       "   './dataset/con_custom_dataset_2000/269e2kDksfRXKVHNXf4ACl9JUVm1.png',\n",
       "   './dataset/con_custom_dataset_2000/l6OFgjiE4MT6I6wfoYHk208nEaJ3.png',\n",
       "   './dataset/con_custom_dataset_2000/e4242c29-1213-4960-b792-565fae299403.png',\n",
       "   './dataset/con_custom_dataset_2000/S0VydT0PnkaGbSLPpfoz2kr48yz1.png',\n",
       "   './dataset/con_custom_dataset_2000/c81cc9c0-0c7c-491e-ace3-1abbf45b2bc0.png',\n",
       "   './dataset/con_custom_dataset_2000/ajjbkAkwKDMcEEsiPxXiug5F8v03.png',\n",
       "   './dataset/con_custom_dataset_2000/65023fb3-4e70-4710-8953-da50bd760ed5.png',\n",
       "   './dataset/con_custom_dataset_2000/FYXJ3Brvf1Wi8YdILInJ19dSiJM2.png',\n",
       "   './dataset/con_custom_dataset_2000/221878.png',\n",
       "   './dataset/con_custom_dataset_2000/ebd6f02a-90e6-4246-81de-6ae390459757.png',\n",
       "   './dataset/con_custom_dataset_2000/Ahv0311uRogDaFFI4X22nzsNVvK2.png',\n",
       "   './dataset/con_custom_dataset_2000/spM6cgJG4VQfYjnnTqxwx3Cg3pk1.png',\n",
       "   './dataset/con_custom_dataset_2000/154405.png',\n",
       "   './dataset/con_custom_dataset_2000/6b265018-98b7-4e61-934a-74b2b0bebce9.png',\n",
       "   './dataset/con_custom_dataset_2000/jtlvbJgDl6Sum26M9Tm6uZIXr6u2.png',\n",
       "   './dataset/con_custom_dataset_2000/LC266EVhXoa7KP4o3naQ6oZczml1.png',\n",
       "   './dataset/con_custom_dataset_2000/p181Ap16EeNF5lB92QY7W4Q3vFc2.png',\n",
       "   './dataset/con_custom_dataset_2000/BMhTCbqVnHNePVbFulnWNu6ZSUg2.png',\n",
       "   './dataset/con_custom_dataset_2000/3JXWfUZsCThwlwp2VuuS0LsfrXD2.png',\n",
       "   './dataset/con_custom_dataset_2000/5BUKA0nZq1SKXR5iRMDNQ4xKxvi1.png',\n",
       "   './dataset/con_custom_dataset_2000/048143a5-d877-452d-9bb3-4926112b27bd.png',\n",
       "   './dataset/con_custom_dataset_2000/dk845iIpzubUAv2YuoWHaWTLRAv2.png',\n",
       "   './dataset/con_custom_dataset_2000/ed655510-7abc-49cf-ac9e-0656eae05c84.png',\n",
       "   './dataset/con_custom_dataset_2000/03c33278-ad87-4a37-bf8f-3b1fdf69ecfd.png',\n",
       "   './dataset/con_custom_dataset_2000/33e6462e-9664-40d1-9518-6b46266cf6a5.png',\n",
       "   './dataset/con_custom_dataset_2000/729dfc80-4a8d-44a8-b76d-af90934a17fd.png',\n",
       "   './dataset/con_custom_dataset_2000/9aab8774-c0a9-49ae-a7a4-3ada5fa63903.png',\n",
       "   './dataset/con_custom_dataset_2000/op1WefhMk4PWXOP5mzMctzOWM3x1.png',\n",
       "   './dataset/con_custom_dataset_2000/tkr2LeHuJyNXW3uM4NUZBmp1qIb2.png',\n",
       "   './dataset/con_custom_dataset_2000/4mg0uaY0GYTtgo4hvP2APxs7zhL2.png',\n",
       "   './dataset/con_custom_dataset_2000/ad4c34f0-25c4-4e74-88c8-ae0335b0dd1b.png',\n",
       "   './dataset/con_custom_dataset_2000/0be7aa0b-b694-4c8f-91df-b118f6d36fff.png',\n",
       "   './dataset/con_custom_dataset_2000/0Ha52POVIxTKEPqI1eGpIoMHUd52.png',\n",
       "   './dataset/con_custom_dataset_2000/g2CeKxcydaSeP7WB3qIWjB8ZW8o1.png',\n",
       "   './dataset/con_custom_dataset_2000/weDSWB2g4cRfj2Xi6DfJ1DCouZr2.png',\n",
       "   './dataset/con_custom_dataset_2000/mLARvz7XxoODpubk3Q53K562JVf2.png',\n",
       "   './dataset/con_custom_dataset_2000/108763.png',\n",
       "   './dataset/con_custom_dataset_2000/AxuYWBN0jFVLINCBqIW5aZmGCdu1.png',\n",
       "   './dataset/con_custom_dataset_2000/203128.png',\n",
       "   './dataset/con_custom_dataset_2000/e389b2e1-e6a3-4b8d-a6f7-080890003015.png',\n",
       "   './dataset/con_custom_dataset_2000/f006a6cf-7f30-473d-900a-de11f035a0e9.png',\n",
       "   './dataset/con_custom_dataset_2000/uiJ6vlTGUtO7akwp4VhP2142D9u1.png',\n",
       "   './dataset/con_custom_dataset_2000/6foPVVE8lRXyaiy38TRYH55s3zN2.png',\n",
       "   './dataset/con_custom_dataset_2000/QHDZOE4ryxMbsGpXU7Dad9egAts2.png',\n",
       "   './dataset/con_custom_dataset_2000/bef8dd3c-3465-406f-bdd5-7a2fb62db148.png',\n",
       "   './dataset/con_custom_dataset_2000/22cae2c0-6e8e-4f2f-9979-a337e5ddb6fb.png',\n",
       "   './dataset/con_custom_dataset_2000/103418.png',\n",
       "   './dataset/con_custom_dataset_2000/51436.png',\n",
       "   './dataset/con_custom_dataset_2000/s4cWXeTXzEagPfbizekEnRnDh4p1.png',\n",
       "   './dataset/con_custom_dataset_2000/UWYfIxsL1LbICfxxW9dzfYDAgrD2.png',\n",
       "   './dataset/con_custom_dataset_2000/2jFheyh8bLO5peh0HPYGYjH5N9x2.png',\n",
       "   './dataset/con_custom_dataset_2000/3824bfa6-f4ed-4b2b-8924-568e3dae4484.png',\n",
       "   './dataset/con_custom_dataset_2000/2de41de6-fd3d-4948-adca-78ae50b9bb97.png',\n",
       "   './dataset/con_custom_dataset_2000/XQVpgnaYz4NHmXRFWov9lBKP1tg1.png',\n",
       "   './dataset/con_custom_dataset_2000/HSgMHc61GdN0PC5BSzR6X96yzZw2.png',\n",
       "   './dataset/con_custom_dataset_2000/g6wE0LPtHWdH7XAWDCGHB5Kj1So1.png',\n",
       "   './dataset/con_custom_dataset_2000/e9a15fb0-520e-46d5-bd2c-385acafc86b4.png',\n",
       "   './dataset/con_custom_dataset_2000/P8Qw2Prg2BRb7H72PbY3Dftp9Rv2.png',\n",
       "   './dataset/con_custom_dataset_2000/LyCZNUHMdqQtXwEox0mUHngB1Gx1.png',\n",
       "   './dataset/con_custom_dataset_2000/V247RjX91RY4fxtgfeWjvBhg89s2.png',\n",
       "   './dataset/con_custom_dataset_2000/jaNAcGlkQvUYEcRFXm5gNwnOOn93.png',\n",
       "   './dataset/con_custom_dataset_2000/5d4eebf8-6e91-43ce-aa0b-b9d14ac2b0c4.png',\n",
       "   './dataset/con_custom_dataset_2000/ibsftXiIIaTlmiN1fVp4MjtS9Hl2.png',\n",
       "   './dataset/con_custom_dataset_2000/L6ScULj3LRPFLYdvs8HdWpzhkdp1.png',\n",
       "   './dataset/con_custom_dataset_2000/2137ce12-072a-499e-bf8d-5ef099aa4b6b.png',\n",
       "   './dataset/con_custom_dataset_2000/231762.png',\n",
       "   './dataset/con_custom_dataset_2000/cce85937-da25-43ec-a66a-f0558eca5ce6.png',\n",
       "   './dataset/con_custom_dataset_2000/ffbc6bfc-bd8f-4d65-97a7-638d69f42205.png',\n",
       "   './dataset/con_custom_dataset_2000/C7Q6zEVYAZR7yC0DeDQVIYqfWCi2.png',\n",
       "   './dataset/con_custom_dataset_2000/bd786116-291e-428c-bf1d-c35b5ee7a63a.png',\n",
       "   './dataset/con_custom_dataset_2000/b7mMUQm5bObj1jwGFaNyaR07pt83.png',\n",
       "   './dataset/con_custom_dataset_2000/f1c5c405-e9da-4fe4-93db-e85bc826b630.png',\n",
       "   './dataset/con_custom_dataset_2000/1aef7ee0-e90b-4b42-8af6-003465257b62.png',\n",
       "   './dataset/con_custom_dataset_2000/fuZ1Iu9k84gcTbZKIWElwq2RsLo1.png',\n",
       "   './dataset/con_custom_dataset_2000/a934247e-c84a-46eb-95a5-7cc868403633.png',\n",
       "   './dataset/con_custom_dataset_2000/b6589fee-434e-4d2b-9234-f94545322f47.png',\n",
       "   './dataset/con_custom_dataset_2000/2ea39f26-0d58-4e9c-aa2e-f2b20d808dbf.png',\n",
       "   './dataset/con_custom_dataset_2000/67152.png',\n",
       "   './dataset/con_custom_dataset_2000/BdJTNoebc9X4fQNSUGhjBVVADvr2.png',\n",
       "   './dataset/con_custom_dataset_2000/57d1aaad-6b3c-4f71-8f8a-67afbbbade2c.png',\n",
       "   './dataset/con_custom_dataset_2000/263902.png',\n",
       "   './dataset/con_custom_dataset_2000/f3c3010a-0030-46c5-9f40-088b9516e7e8.png',\n",
       "   './dataset/con_custom_dataset_2000/fNZ3MnqiGRQlpOptmB2S09fDdYi1.png',\n",
       "   './dataset/con_custom_dataset_2000/iu13CF47sRTOnPlhkzTszNkqAZ83.png',\n",
       "   './dataset/con_custom_dataset_2000/eNTXqhPqTser8AI98QMVcwQpV5p1.png',\n",
       "   './dataset/con_custom_dataset_2000/3a55a149-b71b-4401-87f2-855f01c16c0b.png',\n",
       "   './dataset/con_custom_dataset_2000/7b7e11b1-0f2b-4531-b071-54b7889c4771.png',\n",
       "   './dataset/con_custom_dataset_2000/a3dce523-03a0-4f69-a672-c2d7a592b93c.png',\n",
       "   './dataset/con_custom_dataset_2000/dmZsPx4whFbTWD54PHQifpUZ60i2.png',\n",
       "   './dataset/con_custom_dataset_2000/4e63830d-679b-480c-a420-0540b0689c16.png',\n",
       "   './dataset/con_custom_dataset_2000/189237.png',\n",
       "   './dataset/con_custom_dataset_2000/0f79324e-9dc6-4f6c-8c13-2a3041f044d1.png',\n",
       "   './dataset/con_custom_dataset_2000/g2CeKxcydaSeP7WB3qIWjB8ZW8o1.png',\n",
       "   './dataset/con_custom_dataset_2000/EcO51zxmIHcVtAUlxnvO6wA8JcR2.png',\n",
       "   './dataset/con_custom_dataset_2000/5pGi7OUjz9SyuylhXvZQ7rWH6WW2.png',\n",
       "   './dataset/con_custom_dataset_2000/32508c91-c886-421b-97b4-f194359a7592.png',\n",
       "   './dataset/con_custom_dataset_2000/xsGViRLscNeryc3TyMt1eqmOt0C2.png',\n",
       "   './dataset/con_custom_dataset_2000/0Ha52POVIxTKEPqI1eGpIoMHUd52.png',\n",
       "   './dataset/con_custom_dataset_2000/0f6473ef-1762-455b-8bd6-2939bc57880c.png',\n",
       "   './dataset/con_custom_dataset_2000/Fx2gbIoPlJXrK5OD8FMeepOGlLa2.png',\n",
       "   './dataset/con_custom_dataset_2000/ajjbkAkwKDMcEEsiPxXiug5F8v03.png',\n",
       "   './dataset/con_custom_dataset_2000/9LGZxIxgbgSheKov7FzsNcFIu4v1.png',\n",
       "   './dataset/con_custom_dataset_2000/gjF0L8phdmPxc9az1muox66bQD93.png',\n",
       "   './dataset/con_custom_dataset_2000/1d420159-d6e0-4e5b-869f-29efef6ae601.png',\n",
       "   './dataset/con_custom_dataset_2000/LVfs0kH8h3YRSg7J3Y8g3ufC3a53.png',\n",
       "   './dataset/con_custom_dataset_2000/WOAtvJdJe9OsuTQIiW5qhNlwaR73.png',\n",
       "   './dataset/con_custom_dataset_2000/6c74e198-c3e9-49bf-b062-b6de947e6451.png',\n",
       "   './dataset/con_custom_dataset_2000/f2b512e4-d117-438b-94bb-f41c526b722a.png',\n",
       "   './dataset/con_custom_dataset_2000/445299e3-00a9-434d-82c6-e9901b3d026a.png',\n",
       "   './dataset/con_custom_dataset_2000/JxSb6sEnk0RC9NPyET9sCpJ3OqN2.png',\n",
       "   './dataset/con_custom_dataset_2000/cfdfda8b-18a3-4cfe-a1c8-d3b2d453fc44.png',\n",
       "   './dataset/con_custom_dataset_2000/0a8e4279-3840-4872-9db8-3b5d8c53cc43.png',\n",
       "   './dataset/con_custom_dataset_2000/hEj6K9BJ2Ddv8udX3Vw766ns9CB2.png',\n",
       "   './dataset/con_custom_dataset_2000/85iNcV2z6MNT3FrygbEC4fuGrIu1.png',\n",
       "   './dataset/con_custom_dataset_2000/fXT3tXtSwYRqFf2V66ND3RpMash1.png',\n",
       "   './dataset/con_custom_dataset_2000/OTSzQ3koIrTIdjRbfrDBzn88rLe2.png',\n",
       "   './dataset/con_custom_dataset_2000/69e8888d-b818-499f-8958-4fb4fdeb0f5b.png',\n",
       "   './dataset/con_custom_dataset_2000/JLXdsKrUesSLpwUOMSqQFfYwtZ82.png',\n",
       "   './dataset/con_custom_dataset_2000/4ff4353d-d68c-49e8-b7cf-39e9825f7b9d.png',\n",
       "   './dataset/con_custom_dataset_2000/BMhTCbqVnHNePVbFulnWNu6ZSUg2.png',\n",
       "   './dataset/con_custom_dataset_2000/fbd315ff-0494-4b44-a5c3-d0e1d2493208.png',\n",
       "   './dataset/con_custom_dataset_2000/un5dW3qbK1XkHtuSID6elzexvr92.png',\n",
       "   './dataset/con_custom_dataset_2000/5le68NJRZWV6TrMTYn3j7gSlqTi2.png',\n",
       "   './dataset/con_custom_dataset_2000/S0VydT0PnkaGbSLPpfoz2kr48yz1.png',\n",
       "   './dataset/con_custom_dataset_2000/5d1cc1d1-1cb6-43d7-a886-15d6c9d9a51b.png',\n",
       "   './dataset/con_custom_dataset_2000/c67a536f-ec9c-4185-85c3-894545a2b39a.png',\n",
       "   './dataset/con_custom_dataset_2000/349818f2-b1e7-4892-87e2-d5d4180fcff9.png',\n",
       "   './dataset/con_custom_dataset_2000/864dc104-a3ab-4491-8dfa-0caafe0d8a79.png',\n",
       "   './dataset/con_custom_dataset_2000/dd6ad745-f24b-4924-8b0d-c50e4c650b52.png',\n",
       "   './dataset/con_custom_dataset_2000/8nVQh7sxmWTMdHOSFZRgCSbwFCl2.png',\n",
       "   './dataset/con_custom_dataset_2000/2c90d67b-a102-461b-90a3-3e40c2a30494.png',\n",
       "   './dataset/con_custom_dataset_2000/s3gFlexwXGaT6sBmU6g82B6Zczh2.png',\n",
       "   './dataset/con_custom_dataset_2000/jppvqUD1X3VH39cGDRRlmhj4wu12.png',\n",
       "   './dataset/con_custom_dataset_2000/huZjiHT43maN3OQ8DAwgYImatr92.png',\n",
       "   './dataset/con_custom_dataset_2000/tpnRTSUMvkT4tJZpIQi0OghPefz1.png',\n",
       "   './dataset/con_custom_dataset_2000/b79371b1-c75e-4939-9221-6f463b834486.png',\n",
       "   './dataset/con_custom_dataset_2000/5030d7ac-21b8-471c-919e-74b243962ba0.png',\n",
       "   './dataset/con_custom_dataset_2000/jQFi8kfYopW0gwFKCV1UnV2d7Oj1.png',\n",
       "   './dataset/con_custom_dataset_2000/XlPcBLOUHdNZwOeNJvVy1KfjQDf2.png',\n",
       "   './dataset/con_custom_dataset_2000/6e69a9c1-e323-45e3-8398-b383fc24a2ca.png',\n",
       "   './dataset/con_custom_dataset_2000/b13429fb-90ab-40a5-a451-07d755c59acc.png',\n",
       "   './dataset/con_custom_dataset_2000/09aaa59d-0263-4475-ab15-3bf00a32c0ef.png',\n",
       "   './dataset/con_custom_dataset_2000/6a530462-0db4-46f5-95c9-115db1ec1cb5.png',\n",
       "   './dataset/con_custom_dataset_2000/yI90OQafcNSI5Hcgsil9iEifx1R2.png',\n",
       "   './dataset/con_custom_dataset_2000/8t3IFTtBOVOtvpX9aX2vryuhSaG2.png',\n",
       "   './dataset/con_custom_dataset_2000/9210717d-05e6-40ef-b491-20001999a9eb.png',\n",
       "   './dataset/con_custom_dataset_2000/imJHn5lm2kNb8LxmSeTGBtm5vAn2.png',\n",
       "   './dataset/con_custom_dataset_2000/xGXFc89moWU9CnrXW68NAZaRjQH3.png',\n",
       "   './dataset/con_custom_dataset_2000/236d1e68-217c-4b0d-9739-58d83c58294a.png',\n",
       "   './dataset/con_custom_dataset_2000/rsVzlx8x0INOnHAt8Xu6jrxeGqG2.png',\n",
       "   './dataset/con_custom_dataset_2000/ca52fbd2-6ea2-4c6a-b139-9e14202c2614.png',\n",
       "   './dataset/con_custom_dataset_2000/733b088c-6524-47a6-9536-6683619830c0.png',\n",
       "   './dataset/con_custom_dataset_2000/3YsglsCX5US6WkSzHZAgt5F1C1y1.png',\n",
       "   './dataset/con_custom_dataset_2000/V247RjX91RY4fxtgfeWjvBhg89s2.png',\n",
       "   './dataset/con_custom_dataset_2000/d49ed24c-4181-4364-af8a-7f650ed62e97.png',\n",
       "   './dataset/con_custom_dataset_2000/fAJb4UlkROgJdxoF8hKZao5rrmt1.png',\n",
       "   './dataset/con_custom_dataset_2000/9877a438-1cca-46dd-bd66-2ceecb717558.png',\n",
       "   './dataset/con_custom_dataset_2000/82ae2a9a-6073-466d-a5a7-1fc37167730e.png',\n",
       "   './dataset/con_custom_dataset_2000/pqhuVm6oPbd3A4FSf5p9shz9OO02.png',\n",
       "   './dataset/con_custom_dataset_2000/xyDgyXrDoyXu5CFqcNe20LRjYqg1.png',\n",
       "   './dataset/con_custom_dataset_2000/6413c06b-a1e9-42fb-87a6-37746da65ed5.png',\n",
       "   './dataset/con_custom_dataset_2000/lF4uHVWCoBPlnxvapmUJ4ROtYV73.png',\n",
       "   './dataset/con_custom_dataset_2000/a649bd89-6584-41e5-a251-033caa07d08a.png',\n",
       "   './dataset/con_custom_dataset_2000/ac3929fc-e9e9-40ad-8776-28449a228857.png',\n",
       "   './dataset/con_custom_dataset_2000/ff9b843c-7b2e-4239-bdc1-1f5a0827b9fe.png',\n",
       "   './dataset/con_custom_dataset_2000/8a68a830-e1bd-44e1-a0ce-3bcaf8d1fb41.png',\n",
       "   './dataset/con_custom_dataset_2000/d4b42a37-98b0-4bc2-91e3-3315e36a6d3b.png',\n",
       "   './dataset/con_custom_dataset_2000/05acPS4aRGfvuOfku11Za8zve8i2.png',\n",
       "   './dataset/con_custom_dataset_2000/9a5b90f0-06d5-4748-a260-e888ace7e53d.png',\n",
       "   './dataset/con_custom_dataset_2000/gX0K8ASvV0epRvdo50i3a27JEUC3.png',\n",
       "   './dataset/con_custom_dataset_2000/33dd938d-7654-4238-a207-cbc3fad63349.png',\n",
       "   './dataset/con_custom_dataset_2000/16822363-5b5a-44c1-b5fe-e8028260a74b.png',\n",
       "   './dataset/con_custom_dataset_2000/235dbf1e-8714-4069-a70e-30ca7018f9cf.png',\n",
       "   './dataset/con_custom_dataset_2000/ab228702-1c84-4514-8ea9-7a207b1919c9.png',\n",
       "   './dataset/con_custom_dataset_2000/QQx7MsHhXfPFNPjPAydYMmTWkpo2.png',\n",
       "   './dataset/con_custom_dataset_2000/1kXfAOTvLBbCCcTBJOrHUFzARSo1.png',\n",
       "   './dataset/con_custom_dataset_2000/KFtd9lY6jph5cl2VrZ9Nv8Jng7p1.png',\n",
       "   './dataset/con_custom_dataset_2000/5FcCm1G9aPbjeCwnAgd7UUQFK062.png',\n",
       "   './dataset/con_custom_dataset_2000/1273d304-c974-473a-b9eb-f8c42e3a8389.png',\n",
       "   './dataset/con_custom_dataset_2000/ReILZl8aPPQXHUYQzD2AUzuEF2w2.png',\n",
       "   './dataset/con_custom_dataset_2000/015576c8-2b03-4dcb-b251-78a984fe86fe.png',\n",
       "   './dataset/con_custom_dataset_2000/4fbbfa67-892a-40b9-a0a3-666fc6219bff.png',\n",
       "   './dataset/con_custom_dataset_2000/124958.png',\n",
       "   './dataset/con_custom_dataset_2000/8d476ddb-f0f8-42ef-93a4-e762bf41f823.png',\n",
       "   './dataset/con_custom_dataset_2000/153388.png',\n",
       "   './dataset/con_custom_dataset_2000/aNOpaVGqF7PiG5n1ln5B1VJnmCO2.png',\n",
       "   './dataset/con_custom_dataset_2000/63ffef1d-3e6e-4c3f-bafc-95f4fef722a3.png',\n",
       "   './dataset/con_custom_dataset_2000/57316.png',\n",
       "   './dataset/con_custom_dataset_2000/DmKc9V8ZeqQBMqOaGMDZ3mvRIY13.png',\n",
       "   './dataset/con_custom_dataset_2000/6foPVVE8lRXyaiy38TRYH55s3zN2.png',\n",
       "   './dataset/con_custom_dataset_2000/5FC78ahXNGa1Mc8A3X0Bfj5sHIJ2.png',\n",
       "   './dataset/con_custom_dataset_2000/hD3OkVpgQJNlJSQxLgzqXzHp4jr2.png',\n",
       "   './dataset/con_custom_dataset_2000/cb2f620a-2a64-4749-9a4d-8f5d237dc11e.png',\n",
       "   './dataset/con_custom_dataset_2000/DCTTU4q664ROLrpqFatjOKllp9i1.png',\n",
       "   './dataset/con_custom_dataset_2000/68c25c4b-eaa9-4309-be94-a7cda4e60084.png',\n",
       "   './dataset/con_custom_dataset_2000/e85160f5-18fc-47a7-a7b2-c7d224ce8ae7.png',\n",
       "   './dataset/con_custom_dataset_2000/ZfgCPP4WpOP78cBnZ39az9sb0F82.png',\n",
       "   './dataset/con_custom_dataset_2000/KqhQ8Eo62fYCdBse8NiW1BYCtxp1.png',\n",
       "   './dataset/con_custom_dataset_2000/aB7zSIAFW7bCmQC7IBUWFjNncTF3.png',\n",
       "   './dataset/con_custom_dataset_2000/K0LmigcBKlRdTAlrCyfmBJaQJwk1.png',\n",
       "   './dataset/con_custom_dataset_2000/a5db38cf-708c-4982-b43e-0cdf604d770b.png',\n",
       "   './dataset/con_custom_dataset_2000/844eb866-0d7e-4535-b66b-1ad3003282bc.png',\n",
       "   './dataset/con_custom_dataset_2000/RV4V6j3c5cbSb2B4pY9vlF6kbeE2.png',\n",
       "   './dataset/con_custom_dataset_2000/MVhuzBxevwRieaQMwOCfiyCCzUK2.png',\n",
       "   './dataset/con_custom_dataset_2000/6abb1a5b-90cd-48ef-9cb7-4b472ccc7760.png',\n",
       "   './dataset/con_custom_dataset_2000/RFqBDNt9sLR9PxvBliE1JhFVzK42.png',\n",
       "   './dataset/con_custom_dataset_2000/a9d6d23c-aa4b-463f-9638-d7ed427a922f.png',\n",
       "   './dataset/con_custom_dataset_2000/14366182-126b-4a01-9067-b862c4547985.png',\n",
       "   './dataset/con_custom_dataset_2000/llSmz39DbNfSYZ1M4c8zytC4W0r1.png',\n",
       "   './dataset/con_custom_dataset_2000/8c070414-d2b7-4577-91a4-4ccc9f833636.png',\n",
       "   './dataset/con_custom_dataset_2000/zPFIJ3JDo7P5qIIdKvELq76kYi02.png',\n",
       "   './dataset/con_custom_dataset_2000/a7a8b643-17cb-40bd-97cf-cb7003125c17.png',\n",
       "   './dataset/con_custom_dataset_2000/ae0ff134-0218-4d7e-804d-c48f57946de9.png',\n",
       "   './dataset/con_custom_dataset_2000/aeb567c4-529c-43c7-9075-21537e836d4d.png',\n",
       "   './dataset/con_custom_dataset_2000/sCuADSA3CjS3U2e2EOYEAt3Hqh32.png',\n",
       "   './dataset/con_custom_dataset_2000/7e49cc6e-608a-431f-a275-ff65ab4348b4.png',\n",
       "   './dataset/con_custom_dataset_2000/075eb140-d61d-4a3f-9fce-4b2559e0a4b5.png',\n",
       "   './dataset/con_custom_dataset_2000/elSiVyo2V3USxFXNuExlbh9hrNm1.png',\n",
       "   './dataset/con_custom_dataset_2000/RJCywZ62exQqXX42zLDhAuaVjdt1.png',\n",
       "   './dataset/con_custom_dataset_2000/Uy5OhcHEQXY65CsYbiRPtN7RVBf1.png',\n",
       "   './dataset/con_custom_dataset_2000/vqIREUmn5CMqyrMHxlLVmcuN5qW2.png',\n",
       "   './dataset/con_custom_dataset_2000/1cef0276-3e5b-4228-b10b-5bde3c677837.png',\n",
       "   './dataset/con_custom_dataset_2000/1d25a9d2-3731-4cf1-9c07-bb14e28a63c2.png',\n",
       "   './dataset/con_custom_dataset_2000/9868d50a-dd22-40fd-a0ef-8f3545eac014.png',\n",
       "   './dataset/con_custom_dataset_2000/b3xN4I45RJb7nxHBRUd6Q6yx3z33.png',\n",
       "   './dataset/con_custom_dataset_2000/08b26e0c-92fa-4e25-a94a-4d1ef1054890.png',\n",
       "   './dataset/con_custom_dataset_2000/Na6w7stX7ocNYZPQW9MQAiM6mrw2.png',\n",
       "   './dataset/con_custom_dataset_2000/b5c05e1a-b2d8-4b9e-8d4b-5de6ac3f1411.png',\n",
       "   './dataset/con_custom_dataset_2000/76N4aFIJXScxI1iHeSsihGmRKnv1.png',\n",
       "   './dataset/con_custom_dataset_2000/ZTlauEp4EjMLV0LKWsxXnRopWvC3.png',\n",
       "   './dataset/con_custom_dataset_2000/1645e119-c9ee-4cf8-9a87-31bcc8b025bb.png',\n",
       "   './dataset/con_custom_dataset_2000/4da92c33-3c76-49bf-bd49-f2e2f847fb4c.png',\n",
       "   './dataset/con_custom_dataset_2000/3f446c77-e97a-4edb-a12f-27095decf857.png',\n",
       "   './dataset/con_custom_dataset_2000/LG9JXKoSkeN9IHceg9xruqw1yt23.png',\n",
       "   './dataset/con_custom_dataset_2000/acc31838-4b49-4754-8dea-53d160134538.png',\n",
       "   './dataset/con_custom_dataset_2000/4d9098d9-e240-41da-b7e6-7428377d6817.png',\n",
       "   './dataset/con_custom_dataset_2000/b32a77ea-623d-4978-9b3e-381f54672add.png',\n",
       "   './dataset/con_custom_dataset_2000/38b3d9c3-1fa5-475a-89af-2a0a1dd03bd2.png',\n",
       "   './dataset/con_custom_dataset_2000/441ee945-ab7c-4b1b-8daa-ae8443044b22.png',\n",
       "   './dataset/con_custom_dataset_2000/b4b17de3-ac90-415a-8e2c-393d6cc02618.png',\n",
       "   './dataset/con_custom_dataset_2000/pvLLeiltxePL7csr2rkLJ8fD0gc2.png',\n",
       "   './dataset/con_custom_dataset_2000/11caadaf-54d9-4873-b62e-5097db0dc11b.png',\n",
       "   './dataset/con_custom_dataset_2000/0ca87360-2c71-4adb-bdb4-63e95dc50696.png',\n",
       "   './dataset/con_custom_dataset_2000/42c6656b-6b1b-4d18-b2b6-7f52b072f091.png',\n",
       "   './dataset/con_custom_dataset_2000/5FC78ahXNGa1Mc8A3X0Bfj5sHIJ2.png',\n",
       "   './dataset/con_custom_dataset_2000/f7f6c610-34ff-4fbc-b4b1-4b061444766c.png',\n",
       "   './dataset/con_custom_dataset_2000/2b6aa787-09e8-4529-b7d1-5126d7b58116.png',\n",
       "   './dataset/con_custom_dataset_2000/oT3KtPYs2CSp3MKgmhGPbuK9QIp2.png',\n",
       "   './dataset/con_custom_dataset_2000/kufd2yIRZccwghYMiRxdc1Gc6VH2.png',\n",
       "   './dataset/con_custom_dataset_2000/e658233d-0dba-41dd-9aa2-2a30e8d0a315.png',\n",
       "   './dataset/con_custom_dataset_2000/aNOpaVGqF7PiG5n1ln5B1VJnmCO2.png',\n",
       "   './dataset/con_custom_dataset_2000/3OQBJD8fnBepqWPGQT3eTozrhLn1.png',\n",
       "   './dataset/con_custom_dataset_2000/4eb4c43c-6686-4e5a-b322-e992e44a10bb.png',\n",
       "   './dataset/con_custom_dataset_2000/e0faf4ce-e457-4e4b-8c5f-a6ca619d2bb2.png',\n",
       "   './dataset/con_custom_dataset_2000/9znW0Bni1Scj62DqhsfoagP6HLI2.png',\n",
       "   './dataset/con_custom_dataset_2000/alHP6MaZt1dneLG1iix5HHszKcz2.png',\n",
       "   './dataset/con_custom_dataset_2000/b1ddcad3-7f53-417a-862c-84066d72e140.png',\n",
       "   './dataset/con_custom_dataset_2000/5eac4973-465b-4e91-8310-bab4f516e3f9.png',\n",
       "   './dataset/con_custom_dataset_2000/09ef22ac-58b8-4f3b-b00a-94f926298dae.png',\n",
       "   './dataset/con_custom_dataset_2000/43298143-1004-44ef-889f-10ba9dc9d51f.png',\n",
       "   './dataset/con_custom_dataset_2000/ankVK1DxMvbVFA9PYyKvHk6CQLP2.png',\n",
       "   './dataset/con_custom_dataset_2000/d7d518f7-768c-4407-9706-3d59435f52cf.png',\n",
       "   './dataset/con_custom_dataset_2000/D1d4hc9MrgTDxgAhqpTgqOEJtLp2.png',\n",
       "   './dataset/con_custom_dataset_2000/vEuocXKs0mhMOO3e5l5ZWImJG6O2.png',\n",
       "   './dataset/con_custom_dataset_2000/d5e9a1af-2571-40f7-99c7-77cfe71657c5.png',\n",
       "   './dataset/con_custom_dataset_2000/r0XiFJDYZCMvV7xT8LowfFV3DJQ2.png',\n",
       "   './dataset/con_custom_dataset_2000/1eaa0c03-2ea8-4e2d-bb2a-91bb00c6e8cb.png',\n",
       "   './dataset/con_custom_dataset_2000/ef2d6bd0-f305-409d-b430-583b67988e07.png',\n",
       "   './dataset/con_custom_dataset_2000/QKnsqWkOf6Tv9O1kze0qEHpvI2T2.png',\n",
       "   './dataset/con_custom_dataset_2000/03cfc75c-88a0-4ca9-8ca4-4aa61e2dec37.png',\n",
       "   './dataset/con_custom_dataset_2000/Hl3DXvP5aMhh2JhHFE0K2ofITyl2.png',\n",
       "   './dataset/con_custom_dataset_2000/ab82d00d-d3cd-41d6-b748-8c3914a650ca.png',\n",
       "   './dataset/con_custom_dataset_2000/mLARvz7XxoODpubk3Q53K562JVf2.png',\n",
       "   './dataset/con_custom_dataset_2000/d9c167aa-a99c-44ad-981e-aa5b18c9fb5c.png',\n",
       "   './dataset/con_custom_dataset_2000/e99e6e48-c166-4c63-bab3-7b2770129009.png',\n",
       "   './dataset/con_custom_dataset_2000/EJSbChF4LfPisqLxlUqiwYU7zy83.png',\n",
       "   './dataset/con_custom_dataset_2000/JecvGmjPyEVl7y6fupTTp6QZvoJ2.png',\n",
       "   './dataset/con_custom_dataset_2000/2942c8fc-f300-4769-99a1-c55c867cd391.png',\n",
       "   './dataset/con_custom_dataset_2000/KVKLfU8zZ1MEywuVYflH2KYOHr52.png',\n",
       "   './dataset/con_custom_dataset_2000/yCzbULubsuY5sNYwje0zqNqtEB62.png',\n",
       "   './dataset/con_custom_dataset_2000/D5aq6FUMeCQal79ePD7UZniIyF12.png',\n",
       "   './dataset/con_custom_dataset_2000/c91ce56d-82b2-4295-82a8-7a898cbd0d26.png',\n",
       "   './dataset/con_custom_dataset_2000/PzAQz6zDDcPbdSePDK02jGd4Rm42.png',\n",
       "   './dataset/con_custom_dataset_2000/7b223c14-ab13-4215-bfd1-e0e2f7c81173.png',\n",
       "   './dataset/con_custom_dataset_2000/5dHPKHgDlcVJOWjQMg5t46IN06H2.png',\n",
       "   './dataset/con_custom_dataset_2000/welbkeuEJpggaMpfcDyPgP8im703.png',\n",
       "   './dataset/con_custom_dataset_2000/c2be464c-c83f-4ea9-a88a-ac092171cd4d.png',\n",
       "   './dataset/con_custom_dataset_2000/mLARvz7XxoODpubk3Q53K562JVf2.png',\n",
       "   './dataset/con_custom_dataset_2000/4080d43b-ff14-4eaf-87b2-299e9710225b.png',\n",
       "   './dataset/con_custom_dataset_2000/cPuXXUduYDh1lEnHlSkDeHnbTvq2.png',\n",
       "   './dataset/con_custom_dataset_2000/d7217181-4f67-4a70-90d9-ab37c60c1b3b.png',\n",
       "   './dataset/con_custom_dataset_2000/99c49eb4-1941-4172-bb9a-ada9c8bc8e7b.png',\n",
       "   './dataset/con_custom_dataset_2000/b437f4c3-cf59-4cde-a6a3-caea784fb018.png',\n",
       "   './dataset/con_custom_dataset_2000/cenBFTi9bYhzTeEIyN8YuQzFb3R2.png',\n",
       "   './dataset/con_custom_dataset_2000/10aed3ae-9ec1-4041-bac6-90b1d4634aee.png',\n",
       "   './dataset/con_custom_dataset_2000/3e9e6e5c-bee0-484e-b833-64e03d580800.png',\n",
       "   './dataset/con_custom_dataset_2000/6f0a2344-8d8b-4db5-b4c3-cf569ca4f7b9.png',\n",
       "   './dataset/con_custom_dataset_2000/aPGmE5oG8zRtIVECwyuUT0ussn02.png',\n",
       "   './dataset/con_custom_dataset_2000/8d33620a-f041-4c6c-b55d-78c1ac9eb8e5.png',\n",
       "   './dataset/con_custom_dataset_2000/i0reS77d27TfHnKANrEGHVZXkLw2.png',\n",
       "   './dataset/con_custom_dataset_2000/19872.png',\n",
       "   './dataset/con_custom_dataset_2000/V2l1rcUUl3VsRmbvIWuaazcBMF12.png',\n",
       "   './dataset/con_custom_dataset_2000/CjVKAdiAXkdaeNfQ7O9VWBrSpLl2.png',\n",
       "   './dataset/con_custom_dataset_2000/e49774be-c910-4e9d-9df8-c41b12f742fe.png',\n",
       "   './dataset/con_custom_dataset_2000/7R6vvnCDQcVBjNyh6TGtlx48eAZ2.png',\n",
       "   './dataset/con_custom_dataset_2000/9dNkv55RCuQGvkd7ueflfG6VT2W2.png',\n",
       "   './dataset/con_custom_dataset_2000/f3NCnb7N1qS2qraT8fdnW7BVVCm1.png',\n",
       "   './dataset/con_custom_dataset_2000/3e8e3d97-e570-40c7-8caa-ae1be10b5e50.png',\n",
       "   './dataset/con_custom_dataset_2000/222041.png',\n",
       "   './dataset/con_custom_dataset_2000/RY495l51qRPkLQxPMtN65Fkzcbw1.png',\n",
       "   './dataset/con_custom_dataset_2000/e0b9e069-6b5d-4faa-a80d-eb21973e573c.png',\n",
       "   './dataset/con_custom_dataset_2000/xyM7qnHrkeSfQsGyRCsomcKfMDG3.png',\n",
       "   './dataset/con_custom_dataset_2000/1f46b458-08e8-431c-8571-d74d06239975.png',\n",
       "   './dataset/con_custom_dataset_2000/5bb72aec-c142-4102-b3de-5b7a971a1b55.png',\n",
       "   './dataset/con_custom_dataset_2000/a6d02c3c-09c9-4cea-8c12-02fbfd7403f1.png',\n",
       "   './dataset/con_custom_dataset_2000/1336fa93-0203-458d-b532-8cf9b150291d.png',\n",
       "   './dataset/con_custom_dataset_2000/a59864fa-ad56-4efe-b8a6-1677dd237716.png',\n",
       "   './dataset/con_custom_dataset_2000/Zs7tQ487P7hws3ur1TG53aiF0eC2.png',\n",
       "   './dataset/con_custom_dataset_2000/RV4V6j3c5cbSb2B4pY9vlF6kbeE2.png',\n",
       "   './dataset/con_custom_dataset_2000/e4714f0e-c191-42dc-9928-78da49129e16.png',\n",
       "   './dataset/con_custom_dataset_2000/XzIjEtRHHPci6Zq0zb9Lx0d6zEr2.png',\n",
       "   './dataset/con_custom_dataset_2000/2zDWjtjSxeUuy2or5XThZNSzvwO2.png',\n",
       "   './dataset/con_custom_dataset_2000/yTBcpP8fONc1QpKYqlaQDyo5DYy2.png',\n",
       "   './dataset/con_custom_dataset_2000/8f435ea2-fb6a-41d6-9da1-87abcbe72234.png',\n",
       "   './dataset/con_custom_dataset_2000/ekXeaNBZYgZvh7mpGGwDQR4Jlwv2.png',\n",
       "   './dataset/con_custom_dataset_2000/189832.png',\n",
       "   './dataset/con_custom_dataset_2000/9esRO6MV7jhuNNWR9i0j6gBrkXG2.png',\n",
       "   './dataset/con_custom_dataset_2000/KoN8x5OLC9fxkriFn7LVIONyMdy2.png',\n",
       "   './dataset/con_custom_dataset_2000/633d5447-265b-42e1-be36-4f9f1ec35bac.png',\n",
       "   './dataset/con_custom_dataset_2000/fBhAIfEdrdSjfz2Gk3FCIMjaD7z1.png',\n",
       "   './dataset/con_custom_dataset_2000/TI4EfxQ4RSMZyRmFlC5aiAqLJL02.png',\n",
       "   './dataset/con_custom_dataset_2000/bb00da55-3901-4504-8b88-73f513ee282e.png',\n",
       "   './dataset/con_custom_dataset_2000/9954e438-0777-4a0a-9ff2-f421840d642e.png',\n",
       "   './dataset/con_custom_dataset_2000/DZmX1dGK8KdmY3WYQFuCXrVWuhk2.png',\n",
       "   './dataset/con_custom_dataset_2000/dbb52561-93ca-444e-9ff9-e61fd6c6996f.png',\n",
       "   './dataset/con_custom_dataset_2000/1a82bfb2-c570-4887-890f-ae1adfaa7925.png',\n",
       "   './dataset/con_custom_dataset_2000/WyCgdIfGzxXRPeimIoqiPVysAHB2.png',\n",
       "   './dataset/con_custom_dataset_2000/PR1ZyxKH1MVEQjjCaRsghm8DrEf1.png',\n",
       "   './dataset/con_custom_dataset_2000/XKn4doW0qvfsdM1VskIcJSPEhyz2.png',\n",
       "   './dataset/con_custom_dataset_2000/ZIsSazVaDRZmnV0GzL164wnjQGV2.png',\n",
       "   './dataset/con_custom_dataset_2000/382bf00a-30fa-4c4d-a629-82885861ce29.png',\n",
       "   './dataset/con_custom_dataset_2000/wByjVbPfagQsv9nerwycE1QDQ5B3.png',\n",
       "   './dataset/con_custom_dataset_2000/fKZtrxD1qFVpLIgnmwEzWvnQZc83.png',\n",
       "   './dataset/con_custom_dataset_2000/10c45f18-eea6-4574-9ba0-7449e4e21dc1.png',\n",
       "   './dataset/con_custom_dataset_2000/0ujmfEsuhJRsGfbW3ttpSMjwJi73.png',\n",
       "   './dataset/con_custom_dataset_2000/ed79f34d-6ddf-45aa-a73f-dd5a7f030a82.png',\n",
       "   './dataset/con_custom_dataset_2000/1kj3twlB9PcVyePxzqNGwnkYZZx2.png',\n",
       "   './dataset/con_custom_dataset_2000/Y5YzktJpmdMp3h3YOTEWcxE41F83.png',\n",
       "   './dataset/con_custom_dataset_2000/c7239b74-21aa-4d8d-8199-55182627f3be.png',\n",
       "   './dataset/con_custom_dataset_2000/D5aq6FUMeCQal79ePD7UZniIyF12.png',\n",
       "   './dataset/con_custom_dataset_2000/645a9948-7f1a-4394-b6e4-66361412802f.png',\n",
       "   './dataset/con_custom_dataset_2000/03TmwzsdEBVEh35MRMbC9d0NnfI3.png',\n",
       "   './dataset/con_custom_dataset_2000/bjA2KpSxneNskrLBeqi4bqoTDQl2.png',\n",
       "   './dataset/con_custom_dataset_2000/112522.png',\n",
       "   './dataset/con_custom_dataset_2000/qqMKI7lvNFO8aQqGkWs0lvww3zJ2.png',\n",
       "   './dataset/con_custom_dataset_2000/070b4c08-88e7-4a9d-9462-3d26fe792c2a.png',\n",
       "   './dataset/con_custom_dataset_2000/y3xOwlrqS3QhFVHCYnzJfCN0I8F2.png',\n",
       "   './dataset/con_custom_dataset_2000/hLXcyDliDYXrcKna9jaDwtryhK93.png',\n",
       "   './dataset/con_custom_dataset_2000/faa43139-a47c-4ccb-bbb1-85b77bced926.png',\n",
       "   './dataset/con_custom_dataset_2000/aa93007f-38dd-4261-812b-5411cff3c8b0.png',\n",
       "   './dataset/con_custom_dataset_2000/119648.png',\n",
       "   './dataset/con_custom_dataset_2000/vEuocXKs0mhMOO3e5l5ZWImJG6O2.png',\n",
       "   './dataset/con_custom_dataset_2000/NZ7eJVaMFDMMhpOKZ1ztgkr3fVO2.png',\n",
       "   './dataset/con_custom_dataset_2000/116ec7fc-d1ad-4371-99dc-ab56c541f0cc.png',\n",
       "   './dataset/con_custom_dataset_2000/1woiacXdMmXUQiMWESqr83uk1NV2.png',\n",
       "   './dataset/con_custom_dataset_2000/oOAokpgIGldpKKlBoPfcyOoycf23.png',\n",
       "   './dataset/con_custom_dataset_2000/20ed7158-418d-4dae-b8d2-eeaf818353c4.png',\n",
       "   './dataset/con_custom_dataset_2000/413c1b0e-9af5-41f2-910d-7f7e38b8bd18.png',\n",
       "   './dataset/con_custom_dataset_2000/cxchnGnCHJQ3Tjqn5faj2Sfqa0e2.png',\n",
       "   './dataset/con_custom_dataset_2000/ae6133fb-b137-4699-af3a-c7c4e73bdf48.png',\n",
       "   './dataset/con_custom_dataset_2000/1b47ee3b-92d9-4982-ade6-45dcf573b03d.png',\n",
       "   './dataset/con_custom_dataset_2000/0c31c59e-7752-4c73-873f-bc1f37763dfd.png',\n",
       "   './dataset/con_custom_dataset_2000/t19ZtqDNiJd7nL1SntNpS8KQDO73.png',\n",
       "   './dataset/con_custom_dataset_2000/EkvdE7B9zuaZEHjb80RflGGqsgz1.png',\n",
       "   './dataset/con_custom_dataset_2000/326ac014-2d75-4359-be28-7f1b6ee345da.png',\n",
       "   './dataset/con_custom_dataset_2000/7c0c27a5-8e27-4751-9ef0-3e33d5975b25.png',\n",
       "   './dataset/con_custom_dataset_2000/sjRWRFsE64R2o0ZFdGJe8PlWwlM2.png',\n",
       "   './dataset/con_custom_dataset_2000/9b123e45-ee3b-4fa5-a913-599a2244202d.png',\n",
       "   './dataset/con_custom_dataset_2000/MKb4BFUuYAZfOtzGlAz1UwNzo6R2.png',\n",
       "   './dataset/con_custom_dataset_2000/e1c8b704-23d4-474a-9b21-7965ba5059c0.png',\n",
       "   './dataset/con_custom_dataset_2000/1da3e735-05ab-4c51-a3d2-9b635969afa8.png',\n",
       "   './dataset/con_custom_dataset_2000/qSsnWdo1MtOiGJJmH3oOXcz90Ry1.png',\n",
       "   './dataset/con_custom_dataset_2000/dd26fd38-5dc3-44ad-8749-528ea1449afc.png',\n",
       "   './dataset/con_custom_dataset_2000/M8Y156MBhmYtI8n9jopclvzzK362.png',\n",
       "   './dataset/con_custom_dataset_2000/83a12c35-68a0-44d8-9157-b26241e157c7.png',\n",
       "   './dataset/con_custom_dataset_2000/c79c0de7-4aa1-4234-a17b-46e8c31636ec.png',\n",
       "   './dataset/con_custom_dataset_2000/yQoN4YK60acISpPHhXR5YQKM9mm2.png',\n",
       "   './dataset/con_custom_dataset_2000/2vH4QMrMaMMm5oZYScY0b36Z8MC3.png',\n",
       "   './dataset/con_custom_dataset_2000/871881ad-3197-4cc9-88cb-4d41cb0e58f9.png',\n",
       "   './dataset/con_custom_dataset_2000/7b44a5e1-901a-48e9-ac55-c28b13be5763.png',\n",
       "   './dataset/con_custom_dataset_2000/gHDyWKwAjxPkdxg4hh1hElbzbbR2.png',\n",
       "   './dataset/con_custom_dataset_2000/HxbOUFGbq4fKbs0nTLUQ5UmlZ9y2.png',\n",
       "   './dataset/con_custom_dataset_2000/97f0b65f-065a-4bb0-9168-9c0dbfb5561f.png',\n",
       "   './dataset/con_custom_dataset_2000/8b779bba-e38e-4c72-89e6-8a015f9fc4ad.png',\n",
       "   './dataset/con_custom_dataset_2000/b57c2e28-761a-4c70-b06a-bad2b814ed93.png',\n",
       "   './dataset/con_custom_dataset_2000/615742a3-7e64-41fc-b3a7-c0d56a3fd826.png',\n",
       "   './dataset/con_custom_dataset_2000/v8s9qaC0OZbY4OXHQBR5Nb0juq52.png',\n",
       "   './dataset/con_custom_dataset_2000/961a8160-a087-4c1b-b2b7-24417ccfa25c.png',\n",
       "   './dataset/con_custom_dataset_2000/233607.png',\n",
       "   './dataset/con_custom_dataset_2000/OatFCKWJSXcyyGHHGozArF6mCVU2.png',\n",
       "   './dataset/con_custom_dataset_2000/69976c94-e7a4-4db1-8625-ef49db1d3955.png',\n",
       "   './dataset/con_custom_dataset_2000/e43af55f-ec67-4b36-88e1-67614e71de5a.png',\n",
       "   './dataset/con_custom_dataset_2000/SI6TF4Wk7XdAyxpOK4rW3usdrAm1.png',\n",
       "   './dataset/con_custom_dataset_2000/110913.png',\n",
       "   './dataset/con_custom_dataset_2000/68aa2906-c7a5-474d-bbdc-92d54a53bc4d.png',\n",
       "   './dataset/con_custom_dataset_2000/REFqANOm1nYxqZQ8t5EftdmwYeh1.png',\n",
       "   './dataset/con_custom_dataset_2000/h6fnYcaAXxMQWF7H5QbSx4PVajk1.png',\n",
       "   './dataset/con_custom_dataset_2000/eaa10c97-0040-4274-bc37-0eb6e40996ad.png',\n",
       "   './dataset/con_custom_dataset_2000/8c9122bd-5601-48aa-865a-63db152a91df.png',\n",
       "   './dataset/con_custom_dataset_2000/200334.png',\n",
       "   './dataset/con_custom_dataset_2000/43b36c34-a383-445e-a4e2-fe9d7849e62a.png',\n",
       "   './dataset/con_custom_dataset_2000/IQSMEGOrc3XegUpIARWm07D2K2a2.png',\n",
       "   './dataset/con_custom_dataset_2000/Fps26Qa60WYbR5pI15KzNKSeLXG2.png',\n",
       "   './dataset/con_custom_dataset_2000/0130d2a5-7c6d-4cfc-b5b4-9fccddc97666.png',\n",
       "   './dataset/con_custom_dataset_2000/25b4902b-3a28-4392-ae54-e97915720546.png',\n",
       "   './dataset/con_custom_dataset_2000/5117f87f-8b9b-4458-b888-cc822c9bcbd5.png',\n",
       "   './dataset/con_custom_dataset_2000/70e372cd-8a8b-4670-9363-ee183859aab7.png',\n",
       "   './dataset/con_custom_dataset_2000/2440d58d-9063-4b64-ae99-98104b3297f9.png',\n",
       "   './dataset/con_custom_dataset_2000/6d1c3dcf-c330-46ad-b999-39135cf20a2d.png',\n",
       "   './dataset/con_custom_dataset_2000/HHXDoqaHN1QbtSZkgu37f38RGqh1.png',\n",
       "   './dataset/con_custom_dataset_2000/e86e02c9-3544-493a-986c-4e5b3cd82954.png',\n",
       "   './dataset/con_custom_dataset_2000/jSb7SyucSmTHhzs3qQoBExRMQZ02.png',\n",
       "   './dataset/con_custom_dataset_2000/ZaeW7vuikQgf7984JVqXYOtUQMs2.png',\n",
       "   './dataset/con_custom_dataset_2000/a729e817-8b9e-48be-b892-529085d32896.png',\n",
       "   './dataset/con_custom_dataset_2000/IbHJbk0Rz4QkL9zRJzb28SEDxJj1.png',\n",
       "   './dataset/con_custom_dataset_2000/96950.png',\n",
       "   './dataset/con_custom_dataset_2000/314ea6c4-b3b6-4fa5-853c-3499f3037ef4.png',\n",
       "   './dataset/con_custom_dataset_2000/e3b695a9-08b0-4bcc-8a1c-be17000a4de0.png',\n",
       "   './dataset/con_custom_dataset_2000/MEw5YvFJ1GekU8biV6qQMPV2CDo2.png',\n",
       "   './dataset/con_custom_dataset_2000/90jN60jxwIMkR1qknR8Ziahvbe53.png',\n",
       "   './dataset/con_custom_dataset_2000/mUOw8WF8tVRdTbbulKTxtqRjTXs1.png',\n",
       "   './dataset/con_custom_dataset_2000/361dd21d-20e4-4e99-ad0a-5b634fd35b08.png',\n",
       "   './dataset/con_custom_dataset_2000/e9ac8c20-f223-4225-8e17-bd524ecb0a68.png',\n",
       "   './dataset/con_custom_dataset_2000/IDotbUiFVpel1SpaktjKZftIVYx2.png',\n",
       "   './dataset/con_custom_dataset_2000/bfc32b32-e0d3-449f-9d5f-c7df6c0ec582.png',\n",
       "   './dataset/con_custom_dataset_2000/e47b503d-74b5-4baf-ba22-ecb92b74b69e.png',\n",
       "   './dataset/con_custom_dataset_2000/uuYtRprLjWhFilZnNmWCH0wcT5v2.png',\n",
       "   './dataset/con_custom_dataset_2000/E3gn7SKrMhOK49iJSeIAEa1s7Kb2.png',\n",
       "   './dataset/con_custom_dataset_2000/80ede9e8-7da0-46ca-8158-abe5e1704186.png',\n",
       "   './dataset/con_custom_dataset_2000/ec22f559-c9bc-479f-9d63-fccbf5b7cec1.png',\n",
       "   './dataset/con_custom_dataset_2000/4db85bd4-cc45-465c-b807-a62f5635887d.png',\n",
       "   './dataset/con_custom_dataset_2000/98592bec-69b8-4320-af36-cec656093893.png',\n",
       "   './dataset/con_custom_dataset_2000/DES9AsgsFdVdBotRJ6R46C4tc9c2.png',\n",
       "   './dataset/con_custom_dataset_2000/d3f013d0-028f-4a76-bc5e-694409dd6371.png',\n",
       "   './dataset/con_custom_dataset_2000/rsVzlx8x0INOnHAt8Xu6jrxeGqG2.png',\n",
       "   './dataset/con_custom_dataset_2000/6OVT42wvVggUA7rkEuziRRtNNuo2.png',\n",
       "   './dataset/con_custom_dataset_2000/98bc6487-d323-4c2e-af17-47b367468f46.png',\n",
       "   './dataset/con_custom_dataset_2000/t0UxwxXhJxX6jA1bJNTQYjOWeQj1.png',\n",
       "   './dataset/con_custom_dataset_2000/c576b1e0-cb74-4560-bea4-0ba89b862273.png',\n",
       "   './dataset/con_custom_dataset_2000/L7S8iIPKgiO6QWLC3mGkROCMa0s1.png',\n",
       "   './dataset/con_custom_dataset_2000/HqILRgOnPoYTBOwV923xNysDhA82.png',\n",
       "   './dataset/con_custom_dataset_2000/341ff20f-b75f-4d5a-8ee9-38ba198ed6ec.png',\n",
       "   './dataset/con_custom_dataset_2000/ce0f03f6-afe7-418e-94a5-12994ee2da24.png',\n",
       "   './dataset/con_custom_dataset_2000/MViWQGORcQfI5lGwqT4CDXP9iHG3.png',\n",
       "   './dataset/con_custom_dataset_2000/wgHmm8HnFkZXb1MypYI0nym1zz13.png',\n",
       "   './dataset/con_custom_dataset_2000/bb031dfe-615b-4b92-add3-2c6b54327475.png',\n",
       "   './dataset/con_custom_dataset_2000/c328456d-638e-4a1b-8853-8526e713b1c8.png',\n",
       "   './dataset/con_custom_dataset_2000/2e56a27f-bde9-413e-b534-8b8309906292.png',\n",
       "   './dataset/con_custom_dataset_2000/c73a46f0-4e12-4372-840a-9b9d6483a9c1.png',\n",
       "   './dataset/con_custom_dataset_2000/981d0ac5-4b1b-4d8c-af8b-59ae2015037d.png',\n",
       "   './dataset/con_custom_dataset_2000/8fdUOI5UtkZBCVFXNT1a4hl3rX33.png',\n",
       "   './dataset/con_custom_dataset_2000/vgaIxe6N8uQfcnstW4gWet53Amt2.png',\n",
       "   './dataset/con_custom_dataset_2000/65ePxgK5pQY9m95iEk0gTXX38vK2.png',\n",
       "   './dataset/con_custom_dataset_2000/110614.png',\n",
       "   './dataset/con_custom_dataset_2000/ImU3ZpdqkRPNAy6Ol61zoGuq8sj1.png',\n",
       "   './dataset/con_custom_dataset_2000/2jFheyh8bLO5peh0HPYGYjH5N9x2.png',\n",
       "   './dataset/con_custom_dataset_2000/B8eucE77s9Tg8wfQCZIv9JCTDrj2.png',\n",
       "   './dataset/con_custom_dataset_2000/2d71f678-6687-4a2f-bfed-e40fd23b9752.png',\n",
       "   './dataset/con_custom_dataset_2000/25dfdafd-c9b6-440b-9c44-1cb85664b6d8.png',\n",
       "   './dataset/con_custom_dataset_2000/pLk1k0G3cnbfzxENxL8axlc1PTj1.png',\n",
       "   './dataset/con_custom_dataset_2000/HwUhcAKwJIeckUi86cbzb3sTr5m2.png',\n",
       "   './dataset/con_custom_dataset_2000/GuZQNW2ktwaUr8OxHPLN0iVGy2G2.png',\n",
       "   './dataset/con_custom_dataset_2000/96eiRKxrQpTqK2AvQyADEtG5xEi1.png',\n",
       "   './dataset/con_custom_dataset_2000/U7UmNZmqS6OWTiDkM7IfqkDRrae2.png',\n",
       "   './dataset/con_custom_dataset_2000/ac001d7b-86f3-4acd-8b1d-6b3a31062119.png',\n",
       "   './dataset/con_custom_dataset_2000/fKZtrxD1qFVpLIgnmwEzWvnQZc83.png',\n",
       "   './dataset/con_custom_dataset_2000/zLM432Aox7ZcmTXoglELTXNAVnf2.png',\n",
       "   './dataset/con_custom_dataset_2000/HLrE1Z2wnQSraudLRqiWgR154rA3.png',\n",
       "   './dataset/con_custom_dataset_2000/0KSi2atlmsXNcGMfpDNzIjJSvC23.png',\n",
       "   './dataset/con_custom_dataset_2000/7a7c2f1a-2924-47e1-bc90-ac8c4029c6e1.png',\n",
       "   './dataset/con_custom_dataset_2000/NjCErTrUnWZZoKZj7UMHrhb2pkS2.png',\n",
       "   './dataset/con_custom_dataset_2000/9ccca61b-1096-4181-8d43-2baa5e1ef660.png',\n",
       "   './dataset/con_custom_dataset_2000/164661.png',\n",
       "   './dataset/con_custom_dataset_2000/3oM1GutSzARkQnaiMdIUMOSczz42.png',\n",
       "   './dataset/con_custom_dataset_2000/5b7312df-3d0b-4a64-8884-e9072acceb41.png',\n",
       "   './dataset/con_custom_dataset_2000/44197cdf-8c99-48cc-8a30-76be268239d6.png',\n",
       "   './dataset/con_custom_dataset_2000/KFQ0ksPwkDcLUUjbVBYWGWr9ei62.png',\n",
       "   './dataset/con_custom_dataset_2000/13946945-ba83-4def-8653-1f3ff18b5f23.png',\n",
       "   './dataset/con_custom_dataset_2000/d6317e4f-69e0-4b7d-a16c-d59ff4dfd52c.png',\n",
       "   './dataset/con_custom_dataset_2000/e8ce49bb-c60e-437a-a334-0a6ff8c2b90e.png',\n",
       "   './dataset/con_custom_dataset_2000/b455b5a9-3779-4525-9bde-52b7fd79f0ff.png',\n",
       "   './dataset/con_custom_dataset_2000/ceb00a88-f408-4537-b453-9b777f74c376.png',\n",
       "   './dataset/con_custom_dataset_2000/3588f8f4-932f-421d-ad4a-19c0b8201661.png',\n",
       "   './dataset/con_custom_dataset_2000/EPA8c37Cb5e2aaUfisoVCzoxMnT2.png',\n",
       "   './dataset/con_custom_dataset_2000/363736d8-1570-442c-97fe-9af72b5e46b2.png',\n",
       "   './dataset/con_custom_dataset_2000/okpi2sQ8U8Vmf21zXNO6kCgks5y2.png',\n",
       "   './dataset/con_custom_dataset_2000/4c98548d-6e9e-4832-8b77-b7af79c9e987.png',\n",
       "   './dataset/con_custom_dataset_2000/d0942e00-e7e3-4f03-a8e4-1d5c8e591e92.png',\n",
       "   './dataset/con_custom_dataset_2000/iq8oYXczSjPuJoVS7DBpkGNMC2p1.png',\n",
       "   './dataset/con_custom_dataset_2000/f1fa1412-f549-4ff8-9fec-9435c70281a4.png',\n",
       "   './dataset/con_custom_dataset_2000/c57131aa-3787-43e1-a70a-4ca9b53618d6.png',\n",
       "   './dataset/con_custom_dataset_2000/004c24d8-e8cd-4755-86f6-5a1d8c7920c7.png',\n",
       "   './dataset/con_custom_dataset_2000/4d1894e7-ee2f-40d9-b8e2-b36246c1190d.png',\n",
       "   './dataset/con_custom_dataset_2000/y1BNWatVkKPrYY9TfvTnWjZVaJp2.png',\n",
       "   './dataset/con_custom_dataset_2000/d880544c-aa59-4d56-9e8b-c359bdb8e17e.png',\n",
       "   './dataset/con_custom_dataset_2000/NAL6D2MCyQbiZUGtdQixl39IH3X2.png',\n",
       "   './dataset/con_custom_dataset_2000/cenBFTi9bYhzTeEIyN8YuQzFb3R2.png',\n",
       "   './dataset/con_custom_dataset_2000/2JEOCn5AtuQh5Skzhzf5ASuIC9z1.png',\n",
       "   './dataset/con_custom_dataset_2000/4f1abaa2-e351-4925-9a27-d2e48c288ab7.png',\n",
       "   './dataset/con_custom_dataset_2000/OAtQ58EyToOK0NsnlDdwpFnrwF63.png',\n",
       "   './dataset/con_custom_dataset_2000/2d090ab6-346d-4168-a8aa-57296bcaf6e0.png',\n",
       "   './dataset/con_custom_dataset_2000/006d8d1c-2bf6-46a6-8ef2-1823898a4733.png',\n",
       "   './dataset/con_custom_dataset_2000/51630.png',\n",
       "   './dataset/con_custom_dataset_2000/LuWrKc4LBRWEfrsF2sCdR7o57m12.png',\n",
       "   './dataset/con_custom_dataset_2000/P1FePApIBQedglthtDiBvs3G84M2.png',\n",
       "   './dataset/con_custom_dataset_2000/ykpL1HVINBYQdqFtTk9IPAtC2FG3.png',\n",
       "   './dataset/con_custom_dataset_2000/d063d2a3-ff86-4c76-b426-80c66443df3d.png',\n",
       "   './dataset/con_custom_dataset_2000/ded8f478-50cf-45ec-ac6a-3922fb1ecb1a.png',\n",
       "   './dataset/con_custom_dataset_2000/2fb9e295-bb72-4596-968c-dae04c523b68.png',\n",
       "   './dataset/con_custom_dataset_2000/c7996d5f-3f74-49af-b662-8b9d1759074c.png',\n",
       "   './dataset/con_custom_dataset_2000/zBiORuLmvGhOciaUXFeAKRhMyhj2.png',\n",
       "   './dataset/con_custom_dataset_2000/d811e2b8-e826-45c3-9dce-14091eeb90b5.png',\n",
       "   './dataset/con_custom_dataset_2000/Ou2g3o2wWgXZuyjlZr8ZABItDYx1.png',\n",
       "   './dataset/con_custom_dataset_2000/fbe8dbbf-646d-4f48-802c-2ecd07e140da.png',\n",
       "   './dataset/con_custom_dataset_2000/b304678e-5759-40e1-9985-88591900b1bf.png',\n",
       "   './dataset/con_custom_dataset_2000/80841.png',\n",
       "   './dataset/con_custom_dataset_2000/31430f67-35ef-4b67-82e2-6951a8dbe286.png',\n",
       "   './dataset/con_custom_dataset_2000/28d173a5-6b04-4c7b-8b29-84e670dc6c35.png',\n",
       "   './dataset/con_custom_dataset_2000/85XodgEaKrPebeSPsJo2UFaDlWj1.png',\n",
       "   './dataset/con_custom_dataset_2000/f5c41f7a-f388-4f69-b930-cb959d6730b9.png',\n",
       "   './dataset/con_custom_dataset_2000/h3Bw7lc9NfapT3IJkwjIuRI9yfa2.png',\n",
       "   './dataset/con_custom_dataset_2000/ed5d00ad-f617-4248-9e08-bafde9512352.png',\n",
       "   './dataset/con_custom_dataset_2000/Afi7SdxjNOetySybYTZ7RPxwFiW2.png',\n",
       "   './dataset/con_custom_dataset_2000/52421776-4020-4838-8c8b-eb17228272d9.png',\n",
       "   './dataset/con_custom_dataset_2000/181035.png',\n",
       "   './dataset/con_custom_dataset_2000/RY495l51qRPkLQxPMtN65Fkzcbw1.png',\n",
       "   './dataset/con_custom_dataset_2000/D2bMfCAvvSPj39z6fMToDFRh2rB3.png',\n",
       "   './dataset/con_custom_dataset_2000/fLbjQYqFGzeKly7IY7b3JqKvae02.png',\n",
       "   './dataset/con_custom_dataset_2000/5YSIWpZPYZUqG5rGievs4epu33g2.png',\n",
       "   './dataset/con_custom_dataset_2000/aae89248-2aeb-43fc-800b-d29d8aead672.png',\n",
       "   './dataset/con_custom_dataset_2000/8608e78c-7960-4684-9250-cac85fc16b09.png',\n",
       "   './dataset/con_custom_dataset_2000/8962e5e5-9234-4783-8d6c-26e45e71d4f2.png',\n",
       "   './dataset/con_custom_dataset_2000/kDI4V7d7CNOZp3DwAK825tYAzsw2.png',\n",
       "   './dataset/con_custom_dataset_2000/38cd2f39-edad-4c95-a338-c127c6ae3517.png',\n",
       "   './dataset/con_custom_dataset_2000/vwUqgVSWMCWzCNxdD8uE97pk0I53.png',\n",
       "   './dataset/con_custom_dataset_2000/dfc597da-cdea-4fc9-915f-fe491bdabbe4.png',\n",
       "   './dataset/con_custom_dataset_2000/2wrPt2jccQdBHxWGghBMypnXxHE3.png',\n",
       "   './dataset/con_custom_dataset_2000/4kto18R8RwXJ0C7c0oCORNU4GZz2.png',\n",
       "   './dataset/con_custom_dataset_2000/34FItWuiLofMlaG1BmqHWVgHelh2.png',\n",
       "   './dataset/con_custom_dataset_2000/jvrGsRzHKEU4izNgLFGitM7AZVK2.png',\n",
       "   './dataset/con_custom_dataset_2000/CFwFsoyLtGUxPNPw5vMD7cznAnO2.png',\n",
       "   './dataset/con_custom_dataset_2000/g1nDdvDWgDhgbVDyfl6NyFIfPAp2.png',\n",
       "   './dataset/con_custom_dataset_2000/1630f2dd-35bf-41a3-bb6e-e1517a8228d4.png',\n",
       "   './dataset/con_custom_dataset_2000/262957.png',\n",
       "   './dataset/con_custom_dataset_2000/uKNcZUbxcoVEtx2loiRvJEAhPEj1.png',\n",
       "   './dataset/con_custom_dataset_2000/HHXDoqaHN1QbtSZkgu37f38RGqh1.png',\n",
       "   './dataset/con_custom_dataset_2000/27bdcffc-1a08-430c-863a-b4c335a3b95a.png',\n",
       "   './dataset/con_custom_dataset_2000/9edfc274-7cc6-4a0d-b5b9-c0fb38e9b1b0.png',\n",
       "   './dataset/con_custom_dataset_2000/6mCAHbyEebbEDkxHxOqihoJRkX83.png',\n",
       "   './dataset/con_custom_dataset_2000/e7b56c5d-b732-4910-80f3-815e2786b056.png',\n",
       "   './dataset/con_custom_dataset_2000/3c903e81-9634-4d62-90f0-f09b95f382f7.png',\n",
       "   './dataset/con_custom_dataset_2000/117863fc-a2bf-4d83-811e-a3fc7c90fff3.png',\n",
       "   './dataset/con_custom_dataset_2000/XGXvJt5p7wQ7fcvMbdN92bAPzZE2.png',\n",
       "   './dataset/con_custom_dataset_2000/64b66751-3b9e-486d-96c1-08ffb7e9bdcb.png',\n",
       "   './dataset/con_custom_dataset_2000/Q82KnSDEDTc0w7CDj1fSBntRTyg1.png',\n",
       "   './dataset/con_custom_dataset_2000/oPLTYiEHMFTuruwTXpbRPnlz2mr1.png',\n",
       "   './dataset/con_custom_dataset_2000/5w8ZIMTjkXOMI78Q3sccWcvMKiI2.png',\n",
       "   './dataset/con_custom_dataset_2000/f64f33a5-b6e1-4d5c-ab1b-8d48dd826440.png',\n",
       "   './dataset/con_custom_dataset_2000/d5e45512-0d6d-4e55-9f06-2fb951f4e34b.png',\n",
       "   './dataset/con_custom_dataset_2000/3737e086-dd80-4791-b7c2-a9bb76190018.png',\n",
       "   './dataset/con_custom_dataset_2000/5199cbe8-20d6-43e7-9755-ab6bef166c6c.png',\n",
       "   './dataset/con_custom_dataset_2000/175000.png',\n",
       "   './dataset/con_custom_dataset_2000/1fMS9159tNOgEbgTXBoUpBXQUIr1.png',\n",
       "   './dataset/con_custom_dataset_2000/0HIgO2EhOOW1msCbEw1kC8Qsx6D3.png',\n",
       "   './dataset/con_custom_dataset_2000/51b18119-90c0-4f56-aecc-0a0f417581fa.png',\n",
       "   './dataset/con_custom_dataset_2000/95XA3QmnULQ1KPlcdw4RDDKnBhH2.png',\n",
       "   './dataset/con_custom_dataset_2000/pOWaDLmSdob8jJcu8rxztAhHRIo2.png',\n",
       "   './dataset/con_custom_dataset_2000/b0f187db-9026-4791-90dd-f845cdb3f90e.png',\n",
       "   './dataset/con_custom_dataset_2000/1444cd5b-76da-479f-845c-57349427911f.png',\n",
       "   './dataset/con_custom_dataset_2000/60Ig4PmU9NMqKGDMR8Um0Tc2KXB3.png',\n",
       "   './dataset/con_custom_dataset_2000/jaNAcGlkQvUYEcRFXm5gNwnOOn93.png',\n",
       "   './dataset/con_custom_dataset_2000/DCTTU4q664ROLrpqFatjOKllp9i1.png',\n",
       "   './dataset/con_custom_dataset_2000/c7f99195-675c-4848-9ba4-296d27262928.png',\n",
       "   './dataset/con_custom_dataset_2000/rg1FkHLDwXfx10ktwWfAoMdcZ9v1.png',\n",
       "   './dataset/con_custom_dataset_2000/eSJm8nx2ygT4ZzQRzgYKpJiis1B2.png',\n",
       "   './dataset/con_custom_dataset_2000/ce0606f2-67d8-4836-8d81-c620dfab4bd4.png',\n",
       "   './dataset/con_custom_dataset_2000/c6731e96-c2ea-4159-914d-a06bf9caa9aa.png',\n",
       "   './dataset/con_custom_dataset_2000/n4t5cgNQKXO3F8KP55vWOgYWcXC3.png',\n",
       "   './dataset/con_custom_dataset_2000/yUN7VBVk2wP9yT2vpgzHyVUZi5q1.png',\n",
       "   './dataset/con_custom_dataset_2000/ose5fZhlJWV7qalryF6Nvp3kY482.png',\n",
       "   './dataset/con_custom_dataset_2000/afe8f462-a172-4a25-8c4c-2e18b3c8ec6b.png',\n",
       "   './dataset/con_custom_dataset_2000/IQJWFucM7GbQ00iw3lt2UvBFzaW2.png',\n",
       "   './dataset/con_custom_dataset_2000/e34e8cb1-f615-4542-849a-d6e6f7e7f6e2.png',\n",
       "   './dataset/con_custom_dataset_2000/hrxbMWssnVa3JHnqQ3CN8CE6QRE3.png',\n",
       "   './dataset/con_custom_dataset_2000/Akn9RWpa1hMNtsrYVHGlBsmHkAB2.png',\n",
       "   './dataset/con_custom_dataset_2000/kIHldMnyvmXvpLq0LjWr7ecclSj2.png',\n",
       "   './dataset/con_custom_dataset_2000/eP8gEM0KcBU6S5JpMdycX74KP3p2.png',\n",
       "   './dataset/con_custom_dataset_2000/81ec9566-60bb-4cc2-819d-06fad37dd324.png',\n",
       "   './dataset/con_custom_dataset_2000/iKztabb0gWfeagEyYuU3US36u9b2.png',\n",
       "   './dataset/con_custom_dataset_2000/xrVSOYVRn2RTVm7arbPJztWNCoI3.png',\n",
       "   './dataset/con_custom_dataset_2000/RHVaEkR1YzMXV33Bl1ScXlpBkpA3.png',\n",
       "   './dataset/con_custom_dataset_2000/wACBReOSDTMMCZiIykM3cylRWUR2.png',\n",
       "   './dataset/con_custom_dataset_2000/68a27a6d-a97d-49bd-a375-d5d0e8379205.png',\n",
       "   './dataset/con_custom_dataset_2000/2e72c3de-2b5d-49c7-bb7a-702bff64f1ad.png',\n",
       "   './dataset/con_custom_dataset_2000/ac929720-d177-4097-8171-6ce68b82a888.png',\n",
       "   './dataset/con_custom_dataset_2000/yL9QW3T2VueXfL3yvsmXsM2hL4v1.png',\n",
       "   './dataset/con_custom_dataset_2000/49c090a8-bb72-4eec-9c72-bd1c75cb285a.png',\n",
       "   './dataset/con_custom_dataset_2000/wwedtVmUE2dHLXmCHaIXW4uGRmq2.png',\n",
       "   './dataset/con_custom_dataset_2000/JNTWsYYQjzMMOsmFMml8OXjHYx92.png',\n",
       "   './dataset/con_custom_dataset_2000/338b2ee5-ee7d-4fd9-bb2b-0265fb499930.png',\n",
       "   './dataset/con_custom_dataset_2000/d0d08ce8-389a-45cc-823d-bfc82dfa04df.png',\n",
       "   './dataset/con_custom_dataset_2000/5e143bbf-dc36-421c-becb-2f5eb1aeccd1.png',\n",
       "   './dataset/con_custom_dataset_2000/0mkAUAbpROMIFjKpdFxlUnYTV262.png',\n",
       "   './dataset/con_custom_dataset_2000/rB5oGtrGYZR5uJUXEaDYrrredz13.png',\n",
       "   './dataset/con_custom_dataset_2000/w3QJygDVetN5sPAsKTXe273bpau2.png',\n",
       "   './dataset/con_custom_dataset_2000/664c1b5b-3b01-4f54-9c4c-d18a9c1858ab.png',\n",
       "   './dataset/con_custom_dataset_2000/69fa73d0-f1d3-4455-8142-c87bd23c04c0.png',\n",
       "   './dataset/con_custom_dataset_2000/oNVwfrIb63g5zB4jsaduCjuufPo1.png',\n",
       "   './dataset/con_custom_dataset_2000/83dbfe53-4748-4196-8787-99edc0e73ebe.png',\n",
       "   './dataset/con_custom_dataset_2000/c9205630-a386-4d38-afbe-850844ab8b6b.png',\n",
       "   './dataset/con_custom_dataset_2000/chGPz3cGyvRFMdWo36WHlyEBgpx1.png',\n",
       "   './dataset/con_custom_dataset_2000/KoVhPh3wszMRh4pyxUzNhhSwxyX2.png',\n",
       "   './dataset/con_custom_dataset_2000/cenBFTi9bYhzTeEIyN8YuQzFb3R2.png',\n",
       "   './dataset/con_custom_dataset_2000/lMsEJjeKrHaNhvVOMzsUoCcTguY2.png',\n",
       "   './dataset/con_custom_dataset_2000/6ef8f259-aa48-47c9-bd2a-8788e132accd.png',\n",
       "   './dataset/con_custom_dataset_2000/bbemMSSF2DWykY2lW3pFokk39Wr1.png',\n",
       "   './dataset/con_custom_dataset_2000/6foPVVE8lRXyaiy38TRYH55s3zN2.png',\n",
       "   './dataset/con_custom_dataset_2000/j9H4jHAjVPbnLqoO83jZVAtZ5ep2.png',\n",
       "   './dataset/con_custom_dataset_2000/VtRlegQfrDTPW4WxmoW3iJPzedQ2.png',\n",
       "   './dataset/con_custom_dataset_2000/200339.png',\n",
       "   './dataset/con_custom_dataset_2000/jkP5JFFckOVBrO7AaRcacyXkgMk1.png',\n",
       "   './dataset/con_custom_dataset_2000/d46ee6d3-1049-476f-bd3f-e2fd98f7b0de.png',\n",
       "   './dataset/con_custom_dataset_2000/ab281cac-55b3-44b1-9ae4-5f2379a1a989.png',\n",
       "   './dataset/con_custom_dataset_2000/RXZtiZlgDxObuYr4m2s8eSavVg72.png',\n",
       "   './dataset/con_custom_dataset_2000/7206f77b-11e5-40a3-b7c4-d40cc434e690.png',\n",
       "   './dataset/con_custom_dataset_2000/5254a202-7e58-43cc-8d0a-f7d51de9bf1d.png',\n",
       "   './dataset/con_custom_dataset_2000/0c46b097-e0c6-4e8d-8486-ab5f64d8a055.png',\n",
       "   './dataset/con_custom_dataset_2000/dfaee103-e52f-4bb2-a53c-d1558d77e81b.png',\n",
       "   './dataset/con_custom_dataset_2000/35080944-e419-42c7-9a8d-35adbb8396a5.png',\n",
       "   './dataset/con_custom_dataset_2000/ce788827-17f8-4ac1-a816-9ec3330c613d.png',\n",
       "   './dataset/con_custom_dataset_2000/204119.png',\n",
       "   './dataset/con_custom_dataset_2000/ff8bfcc9-3df2-4752-8280-63f023fba31c.png',\n",
       "   './dataset/con_custom_dataset_2000/LAGGMvR7ScbjwTmMYBbEBfWRcN93.png',\n",
       "   './dataset/con_custom_dataset_2000/d6b34b5b-5fdf-4a4d-80c3-222b17f4aa0c.png',\n",
       "   './dataset/con_custom_dataset_2000/3842054e-62e5-4b6f-ac17-cf96fc97392a.png',\n",
       "   './dataset/con_custom_dataset_2000/d86aa191-a4fe-41a8-ad10-bcbb57a21d96.png',\n",
       "   './dataset/con_custom_dataset_2000/8fb41d4e-8ca6-4896-bb39-045cae54e7de.png',\n",
       "   './dataset/con_custom_dataset_2000/aESHvWgJIodaDacHGg6i3o05bYo2.png',\n",
       "   './dataset/con_custom_dataset_2000/naPVzGoHqwfHo3PNVfoNxMpR7qU2.png',\n",
       "   './dataset/con_custom_dataset_2000/d5fe9c48-1b00-4300-9f94-793bfaeabd66.png',\n",
       "   './dataset/con_custom_dataset_2000/ebadbe6c-f643-455b-99c0-360b016a979c.png',\n",
       "   './dataset/con_custom_dataset_2000/fff17MjZZ4ZDyFJHBTBD66jMDqq2.png',\n",
       "   './dataset/con_custom_dataset_2000/x8PvE190nSZUtv8raWxfg76ek6p2.png',\n",
       "   './dataset/con_custom_dataset_2000/0474efff-abb4-4926-a47b-f21bce7dace1.png',\n",
       "   './dataset/con_custom_dataset_2000/2700c0e1-513a-4814-a0da-815333f97752.png',\n",
       "   './dataset/con_custom_dataset_2000/tuu90okKDSaFMknkDxVhtWtRjEl2.png',\n",
       "   './dataset/con_custom_dataset_2000/201620f7-39d9-4f4a-b951-20403ba25fba.png',\n",
       "   './dataset/con_custom_dataset_2000/ki8Scyp1FRUOGvhgpjYjYFgx0gp1.png',\n",
       "   './dataset/con_custom_dataset_2000/EqDWckxbsETyHUeBLQ8jLtxlhir2.png',\n",
       "   './dataset/con_custom_dataset_2000/CkBv7ZLYRIcugw93mPtPkbWxC412.png',\n",
       "   './dataset/con_custom_dataset_2000/f849e0a3-fff4-4af4-b501-bcd10dabb842.png',\n",
       "   './dataset/con_custom_dataset_2000/KOKCooQejva2hnY3f1LnxqL4gUR2.png',\n",
       "   './dataset/con_custom_dataset_2000/yS7pj7vgWyMU5nqgYXglXiTcW9A2.png',\n",
       "   './dataset/con_custom_dataset_2000/aBhVajwUynU2XvqHDXl7EA9bVNm1.png',\n",
       "   './dataset/con_custom_dataset_2000/T9yi2QIANkPz28yo2bSNHTtpyJw1.png',\n",
       "   './dataset/con_custom_dataset_2000/t6twqoKKSMOJdmehEj2gbVo6Lao2.png',\n",
       "   './dataset/con_custom_dataset_2000/83BZjlFTcYZWakpS3tf63fpwbQO2.png',\n",
       "   './dataset/con_custom_dataset_2000/9fa0f414-5e2c-4ae7-bbbc-0330decc929e.png',\n",
       "   './dataset/con_custom_dataset_2000/dd774ccf-3980-4eda-90d9-aa2fa57bde32.png',\n",
       "   './dataset/con_custom_dataset_2000/ba479e47-3124-49ef-b02c-b51b169dd204.png',\n",
       "   './dataset/con_custom_dataset_2000/745c78a8-b676-4612-b8a3-30d760c5e918.png',\n",
       "   './dataset/con_custom_dataset_2000/sxkvX8kn2eQnE8pbiKR58Ruea3n2.png',\n",
       "   './dataset/con_custom_dataset_2000/Bb9OMQWb3GNbJDH4gANBkWJ4Ihs1.png',\n",
       "   './dataset/con_custom_dataset_2000/de56cd32-fa6d-427c-89b9-a4ab4757ea58.png',\n",
       "   './dataset/con_custom_dataset_2000/124662.png',\n",
       "   './dataset/con_custom_dataset_2000/83BZjlFTcYZWakpS3tf63fpwbQO2.png',\n",
       "   './dataset/con_custom_dataset_2000/83d4c32c-462e-4e6c-8525-fa5f86b3bf1a.png',\n",
       "   './dataset/con_custom_dataset_2000/3Hi3v8KLYxXvAp9v1fuhKtaU44G2.png',\n",
       "   './dataset/con_custom_dataset_2000/eNTXqhPqTser8AI98QMVcwQpV5p1.png',\n",
       "   './dataset/con_custom_dataset_2000/ccdfd92d-e6f1-42ce-8781-ff6d04f7f628.png',\n",
       "   './dataset/con_custom_dataset_2000/0EAAFsDWfTcrhktHy78LS6nf19G3.png',\n",
       "   './dataset/con_custom_dataset_2000/154161ff-1243-49c0-a377-72992b6954e3.png',\n",
       "   './dataset/con_custom_dataset_2000/f8eb36ba-e1ab-4bb7-9058-db0b88479fbb.png',\n",
       "   './dataset/con_custom_dataset_2000/VB3X18XtrRdSVJ8zDzdyKohlX2F2.png',\n",
       "   './dataset/con_custom_dataset_2000/zpjoDhhHvJcfhSHTK9i895kmr2f1.png',\n",
       "   './dataset/con_custom_dataset_2000/d4aaba45-9530-4703-8286-6c3e44ce965d.png',\n",
       "   './dataset/con_custom_dataset_2000/ea665e1a-4055-4f7c-ba39-9cd36ad670e4.png',\n",
       "   './dataset/con_custom_dataset_2000/48cd5552-06e6-40d5-8c6d-f6fe58678bbc.png',\n",
       "   './dataset/con_custom_dataset_2000/0044cb7b-448c-44e5-8302-ad8bd106fe3e.png',\n",
       "   './dataset/con_custom_dataset_2000/yWp5tMRFDzbbeEe2csKNd909fqh1.png',\n",
       "   './dataset/con_custom_dataset_2000/b65acc53-06ff-440e-b769-b073b818d9f7.png',\n",
       "   './dataset/con_custom_dataset_2000/fa641666-b850-48eb-85be-989e3c466ddb.png',\n",
       "   './dataset/con_custom_dataset_2000/573d6434-04c5-4e8f-b25d-01f3f93c33b8.png',\n",
       "   './dataset/con_custom_dataset_2000/f2746b8f-405b-4e5f-bae6-e085fe5180ee.png',\n",
       "   './dataset/con_custom_dataset_2000/lRTZkLVfotSCNqqchfmOZo4Zc1o2.png',\n",
       "   './dataset/con_custom_dataset_2000/d2a28882-42f1-4531-9b50-d0eff5aeb201.png',\n",
       "   './dataset/con_custom_dataset_2000/70d15933-ad30-4999-90ce-ea2468afe426.png',\n",
       "   './dataset/con_custom_dataset_2000/ce98cf4f-aa0f-466f-b2c1-b64c5322fab2.png',\n",
       "   './dataset/con_custom_dataset_2000/3CwioNQVDBQ6CttLyFVRJpMpVHk2.png',\n",
       "   './dataset/con_custom_dataset_2000/TfuCgDdguMVRpKIAXs2kINT1Yxx1.png',\n",
       "   './dataset/con_custom_dataset_2000/H3sxaOqiOSgbKWig7NdWEPgrm6f2.png',\n",
       "   './dataset/con_custom_dataset_2000/cAdvtOxMKHg9hO3IbimCRK9Vooi1.png',\n",
       "   './dataset/con_custom_dataset_2000/24bdb5d5-5c11-40a2-bcbd-511b5d50e7a2.png',\n",
       "   './dataset/con_custom_dataset_2000/IIKtjdSBHDUkAzLMBs6n3SLbR8Y2.png',\n",
       "   './dataset/con_custom_dataset_2000/AI4aa1tjlXQw4iOH4RuTvgMtK3G3.png',\n",
       "   './dataset/con_custom_dataset_2000/182010.png',\n",
       "   './dataset/con_custom_dataset_2000/32f74938-529b-46c0-a6fa-ecd32b5552d7.png',\n",
       "   './dataset/con_custom_dataset_2000/a9910dca-8898-4eed-90ed-1371a22c64e6.png',\n",
       "   './dataset/con_custom_dataset_2000/NZ7eJVaMFDMMhpOKZ1ztgkr3fVO2.png',\n",
       "   './dataset/con_custom_dataset_2000/ResMUOUcy2MrsL3bksITWifqla52.png',\n",
       "   './dataset/con_custom_dataset_2000/tLK9Z6BpfWVDFV7DQKMnEy0Woo22.png',\n",
       "   './dataset/con_custom_dataset_2000/46e16b34-734f-4618-8523-ce57fc1fd45b.png',\n",
       "   './dataset/con_custom_dataset_2000/AeJcnB6Pl6ayw2YL7whgWyYSVnz2.png',\n",
       "   './dataset/con_custom_dataset_2000/xRTpzeZwMiQaC5YCnlXZeDwgcvL2.png',\n",
       "   './dataset/con_custom_dataset_2000/vQA8WvDgUxM5wRLMuY92tqJCZgT2.png',\n",
       "   './dataset/con_custom_dataset_2000/xKW2EpGmJcfigLecUTLVXEWQHPg2.png',\n",
       "   './dataset/con_custom_dataset_2000/5JO89F9hCpVbVFy7jFqPKtVRyIV2.png',\n",
       "   './dataset/con_custom_dataset_2000/126532.png',\n",
       "   './dataset/con_custom_dataset_2000/0e39d36c-e428-4a02-ad64-1e38ab0d661c.png',\n",
       "   './dataset/con_custom_dataset_2000/b6e71578-d041-4051-b98f-56e56ef3e689.png',\n",
       "   './dataset/con_custom_dataset_2000/bfdaac6c-669c-4e05-a129-84b24e6c878d.png',\n",
       "   './dataset/con_custom_dataset_2000/w7pdOIUnHPRfYLXVVRtIRsOjGnr2.png',\n",
       "   './dataset/con_custom_dataset_2000/QC2olizheGbckya2rPjOWhn00vp1.png',\n",
       "   './dataset/con_custom_dataset_2000/ql3kCRgabMZdkQabRLQNwJGLpwe2.png',\n",
       "   './dataset/con_custom_dataset_2000/205a5ae9-b6d7-4d0f-b6d6-aefc366ad07b.png',\n",
       "   './dataset/con_custom_dataset_2000/e39a3d8b-8143-40e3-a991-d7c7a8aef8b8.png',\n",
       "   './dataset/con_custom_dataset_2000/oA6gLaXH6KeSjWF46cAtISLp79z1.png',\n",
       "   './dataset/con_custom_dataset_2000/IvPA6FZJ5OSNOllqglmE2mkcnz83.png',\n",
       "   './dataset/con_custom_dataset_2000/e95aca82-a345-406f-888d-c258b8cf13b5.png',\n",
       "   './dataset/con_custom_dataset_2000/415db4c5-89ab-4b27-b00b-835e232c0d05.png',\n",
       "   './dataset/con_custom_dataset_2000/10580ab9-fe8b-4329-b338-18df3b389117.png',\n",
       "   './dataset/con_custom_dataset_2000/d6710370-2d0d-4777-a25c-b772c9bea6d4.png',\n",
       "   './dataset/con_custom_dataset_2000/65a2f85c-f103-400b-a113-d230964a87d8.png',\n",
       "   './dataset/con_custom_dataset_2000/nCejocB61DU95Gz2gEcPeH0N2pm1.png',\n",
       "   './dataset/con_custom_dataset_2000/9z2XQAVyIkb0saZVigWBr3MsDcr1.png',\n",
       "   './dataset/con_custom_dataset_2000/353bb06f-a51c-4646-b890-d7fd3529e0e2.png',\n",
       "   './dataset/con_custom_dataset_2000/7af73457-999a-4b56-9500-d864595383d3.png',\n",
       "   './dataset/con_custom_dataset_2000/SkZeafTL9dd9dwV9nEbNrszqc8u1.png',\n",
       "   './dataset/con_custom_dataset_2000/94c84cf5-10e2-44e0-99c7-7cde60a18bea.png',\n",
       "   './dataset/con_custom_dataset_2000/c5b63934-43ac-4aec-a886-9f349ba66144.png',\n",
       "   './dataset/con_custom_dataset_2000/ba11cabd-ff98-4638-85cc-3def3d49d359.png',\n",
       "   './dataset/con_custom_dataset_2000/d6bfe9f1-1354-4094-85dc-120078b9d4db.png',\n",
       "   './dataset/con_custom_dataset_2000/01bce73f-86a6-40dd-87c1-d4cda2b79ea2.png',\n",
       "   './dataset/con_custom_dataset_2000/fYjYHeLgCOUf5m1f8EAgGDol5G73.png',\n",
       "   './dataset/con_custom_dataset_2000/ef481aa4-a9e4-490f-a47c-a0345613daf9.png',\n",
       "   './dataset/con_custom_dataset_2000/SI80JBOb0XcjW0Ez4Dn4Y0Ev5mw2.png',\n",
       "   './dataset/con_custom_dataset_2000/fafccc34-9c5e-4530-bbd8-ea29b4514bea.png',\n",
       "   './dataset/con_custom_dataset_2000/T02pBwp6UGagCMICnB4oiElAWUP2.png',\n",
       "   './dataset/con_custom_dataset_2000/FxxDIIr8jQRkvmA2rqn9rUGGXlI2.png',\n",
       "   './dataset/con_custom_dataset_2000/wawUd75qJgXdQz6qxRATEzuKvMn1.png',\n",
       "   './dataset/con_custom_dataset_2000/LShW1854ahW9IMubCKJH9L3Kdxh2.png',\n",
       "   './dataset/con_custom_dataset_2000/196660.png',\n",
       "   './dataset/con_custom_dataset_2000/e9650512-35f6-4872-acca-c8aca7cd228b.png',\n",
       "   './dataset/con_custom_dataset_2000/MCyZwW6oHlddq3Cy7QRwPHw5gof1.png',\n",
       "   './dataset/con_custom_dataset_2000/pvLLeiltxePL7csr2rkLJ8fD0gc2.png',\n",
       "   './dataset/con_custom_dataset_2000/e6d07d7b-cd63-4f81-8dbd-3ab87104fbf0.png',\n",
       "   './dataset/con_custom_dataset_2000/31465700-6dfd-4dce-94ca-8c4a1d4f9706.png',\n",
       "   './dataset/con_custom_dataset_2000/PR1ZyxKH1MVEQjjCaRsghm8DrEf1.png',\n",
       "   './dataset/con_custom_dataset_2000/dEM0ehwUlrWLDRwRyFVY35hHfDG3.png',\n",
       "   './dataset/con_custom_dataset_2000/cfZUmZvsecYVKw5eSi4qIhfJVpI3.png',\n",
       "   './dataset/con_custom_dataset_2000/AeJcnB6Pl6ayw2YL7whgWyYSVnz2.png',\n",
       "   './dataset/con_custom_dataset_2000/113677fe-455d-4730-8e73-688d2c6c5ace.png',\n",
       "   './dataset/con_custom_dataset_2000/62850.png',\n",
       "   './dataset/con_custom_dataset_2000/b762a992-39db-422d-aee8-2a50da8c320d.png',\n",
       "   './dataset/con_custom_dataset_2000/8ff466b5-8b08-4828-9b8c-0565162e5e3d.png',\n",
       "   './dataset/con_custom_dataset_2000/230c05bf-5569-482f-b59d-bfeb07b61e88.png',\n",
       "   './dataset/con_custom_dataset_2000/ed735b8d-bcbe-43dc-a5d1-28e4cff7c118.png',\n",
       "   './dataset/con_custom_dataset_2000/rkSbQvxYLNVlPpIT3mJ4kr3OhMi1.png',\n",
       "   './dataset/con_custom_dataset_2000/FeB6iRqlySRwFJHpnIiaokSvWeC2.png',\n",
       "   './dataset/con_custom_dataset_2000/9255b8a3-43a2-4c4d-a858-9ddc45bb506b.png',\n",
       "   './dataset/con_custom_dataset_2000/5ZDF98UQUxcVuS9VhaWxKlVnXvs1.png',\n",
       "   './dataset/con_custom_dataset_2000/g2CeKxcydaSeP7WB3qIWjB8ZW8o1.png',\n",
       "   './dataset/con_custom_dataset_2000/8PvWScAB6UbnfrkQrpbqLpu7O0z1.png',\n",
       "   './dataset/con_custom_dataset_2000/XCgsAnLqDUW7V3qSgO6exYqSvvB3.png',\n",
       "   './dataset/con_custom_dataset_2000/9fc18421-5717-497e-aff6-604d55bc9470.png',\n",
       "   './dataset/con_custom_dataset_2000/aBhVajwUynU2XvqHDXl7EA9bVNm1.png',\n",
       "   './dataset/con_custom_dataset_2000/AUwVqLrZHwO7uyyadbaMDd4XyxC3.png',\n",
       "   './dataset/con_custom_dataset_2000/c2e033f0-5e2f-4793-be75-afa9ae7d3f8f.png',\n",
       "   './dataset/con_custom_dataset_2000/c925e055-b912-4478-9963-21257bbfe492.png',\n",
       "   './dataset/con_custom_dataset_2000/hte8VptUoGVFEqvHpbh5brgfcNP2.png',\n",
       "   './dataset/con_custom_dataset_2000/fe0d91dd-9d51-4fe8-b270-34c9048a9819.png',\n",
       "   './dataset/con_custom_dataset_2000/77fd1289-74df-4247-ba7b-30cba89963cf.png',\n",
       "   './dataset/con_custom_dataset_2000/VXCvsGinvzPFVkLNlvJFw7z9G8j1.png',\n",
       "   ...]}}"
      ]
     },
     "execution_count": 39,
     "metadata": {},
     "output_type": "execute_result"
    }
   ],
   "source": [
    "con_DATA"
   ]
  },
  {
   "cell_type": "code",
   "execution_count": null,
   "metadata": {},
   "outputs": [],
   "source": []
  }
 ],
 "metadata": {
  "kernelspec": {
   "display_name": "Python 3",
   "language": "python",
   "name": "python3"
  },
  "language_info": {
   "codemirror_mode": {
    "name": "ipython",
    "version": 3
   },
   "file_extension": ".py",
   "mimetype": "text/x-python",
   "name": "python",
   "nbconvert_exporter": "python",
   "pygments_lexer": "ipython3",
   "version": "3.6.9"
  }
 },
 "nbformat": 4,
 "nbformat_minor": 2
}
